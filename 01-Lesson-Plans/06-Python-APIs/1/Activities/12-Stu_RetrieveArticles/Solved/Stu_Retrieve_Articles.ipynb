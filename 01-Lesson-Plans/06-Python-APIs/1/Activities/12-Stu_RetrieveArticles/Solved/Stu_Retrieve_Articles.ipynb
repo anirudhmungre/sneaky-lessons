{
 "cells": [
  {
   "cell_type": "code",
   "execution_count": 7,
   "metadata": {},
   "outputs": [],
   "source": [
    "# Dependencies\n",
    "import requests\n",
    "from config import api_key\n",
    "import time\n",
    "\n",
    "url = \"https://api.nytimes.com/svc/search/v2/articlesearch.json?\"\n",
    "\n",
    "# Store a search term\n",
    "query = \"obama\"\n",
    "\n",
    "# Search for articles published between a begin and end date\n",
    "begin_date = \"20160101\"\n",
    "end_date = \"20160130\"\n",
    "\n",
    "query_url = f\"{url}api-key={api_key}&q={query}&begin_date={begin_date}&end_date={end_date}\""
   ]
  },
  {
   "cell_type": "code",
   "execution_count": 8,
   "metadata": {},
   "outputs": [
    {
     "name": "stdout",
     "output_type": "stream",
     "text": [
      "A snippet from the article: I will not campaign for, vote for or support any candidate, even in my own party, who does not support common-sense gun reform.\n",
      "---------------------------\n",
      "A snippet from the article: In presidential elections, opposites attract.\n",
      "---------------------------\n",
      "A snippet from the article: Todos –gobierno, sector privado y los ciudadanos– debemos hacer un frente común para acabar con esta violencia sin sentido.\n",
      "---------------------------\n",
      "A snippet from the article: Dire warnings from Republicans about the effect of President Obama’s policies on employment have simply not come true.\n",
      "---------------------------\n",
      "A snippet from the article: “Let me tell you, there are three things that are certain in life: death, taxes, and Michelle is not running for president.” — President Obama\n",
      "---------------------------\n",
      "A snippet from the article: Highlights from President Obama’s remarks at a town-hall style meeting in Baton Rouge, La, on Thursday.\n",
      "---------------------------\n",
      "A snippet from the article: For many young people, the first president they consciously registered was a black man.\n",
      "---------------------------\n",
      "A snippet from the article: Readers mostly praise the president’s speech as hopeful and inclusive.\n",
      "---------------------------\n",
      "A snippet from the article: Readers discuss the Supreme Court’s decision to hear a case challenging the president’s executive actions.\n",
      "---------------------------\n",
      "A snippet from the article: President Obama, speaking at the North American International Auto Show in Detroit, expressed sympathy and concern for residents of Flint, Mich., where there has been lead contamination in the drinking water.\n",
      "---------------------------\n"
     ]
    }
   ],
   "source": [
    "# Retrieve articles\n",
    "articles = requests.get(query_url).json()\n",
    "articles_list = articles[\"response\"][\"docs\"]\n",
    "\n",
    "for article in articles_list:\n",
    "    print(f'A snippet from the article: {article[\"snippet\"]}')\n",
    "    print('---------------------------')"
   ]
  },
  {
   "cell_type": "code",
   "execution_count": 9,
   "metadata": {},
   "outputs": [],
   "source": [
    "# BONUS: How would we get 30 results? \n",
    "# HINT: Look up the page query param\n",
    "\n",
    "# Empty list for articles\n",
    "articles_list = []\n",
    "\n",
    "# loop through pages 0-2\n",
    "for page in range(0, 3):\n",
    "    query_url = f\"{url}api-key={api_key}&q={query}&begin_date={begin_date}&end_date={end_date}\"\n",
    "    # create query with page number\n",
    "    query_url = f\"{query_url}&page={str(page)}\"\n",
    "    articles = requests.get(query_url).json()\n",
    "    \n",
    "    # Add a one second interval between queries to stay within API query limits\n",
    "    time.sleep(1)\n",
    "    # loop through the response and append each article to the list\n",
    "    for article in articles[\"response\"][\"docs\"]:\n",
    "        articles_list.append(article)"
   ]
  },
  {
   "cell_type": "code",
   "execution_count": 11,
   "metadata": {},
   "outputs": [
    {
     "name": "stdout",
     "output_type": "stream",
     "text": [
      "I will not campaign for, vote for or support any candidate, even in my own party, who does not support common-sense gun reform.\n",
      "---------------------------\n",
      "In presidential elections, opposites attract.\n",
      "---------------------------\n",
      "Todos –gobierno, sector privado y los ciudadanos– debemos hacer un frente común para acabar con esta violencia sin sentido.\n",
      "---------------------------\n",
      "Dire warnings from Republicans about the effect of President Obama’s policies on employment have simply not come true.\n",
      "---------------------------\n",
      "“Let me tell you, there are three things that are certain in life: death, taxes, and Michelle is not running for president.” — President Obama\n",
      "---------------------------\n",
      "Highlights from President Obama’s remarks at a town-hall style meeting in Baton Rouge, La, on Thursday.\n",
      "---------------------------\n",
      "For many young people, the first president they consciously registered was a black man.\n",
      "---------------------------\n",
      "Readers mostly praise the president’s speech as hopeful and inclusive.\n",
      "---------------------------\n",
      "Readers discuss the Supreme Court’s decision to hear a case challenging the president’s executive actions.\n",
      "---------------------------\n",
      "President Obama, speaking at the North American International Auto Show in Detroit, expressed sympathy and concern for residents of Flint, Mich., where there has been lead contamination in the drinking water.\n",
      "---------------------------\n",
      "President Obama expressed relief and happiness that several Americans who had been detained in Iran were returning home after the completion of a nuclear agreement with Tehran.\n",
      "---------------------------\n",
      "Just hours before his final State of the Union address, President Obama used Facebook Live to talk to users of the social network about the speech.\n",
      "---------------------------\n",
      "To function properly, the clemency process needs to be removed from the grasp of the Justice Department.\n",
      "---------------------------\n",
      "President Barack Obama returned to Washington after spending two weeks in Hawaii.\n",
      "---------------------------\n",
      "President Obama signed a presidential memorandum creating a White House task force on cancer.\n",
      "---------------------------\n",
      "The practice can lead to “devastating, lasting psychological consequences,” he said in an opinion article in The Washington Post.\n",
      "---------------------------\n",
      "President Obama hosted the emir of Qatar, Sheikh Tamim bin Hamad al-Thani, on Tuesday, and both said they were committed to defeating the Islamic State and other terrorist organizations.\n",
      "---------------------------\n",
      "The president seeks $4 billion to help states expand in an area he views as critical to young people’s success in a changing job market.\n",
      "---------------------------\n",
      "On policy, the president has been remarkable, but on changing hearts and minds, he falls short.\n",
      "---------------------------\n",
      "Mr. Obama delivered his final State of the Union address on Tuesday.\n",
      "---------------------------\n",
      "Instead of listing initiatives that are likely to fail, the president will use his last State of the Union address to focus on American potential and the need to take on long-term challenges, aides said.\n",
      "---------------------------\n",
      "The president has said he will seek more encounters in his last year with people who disagree with him, though recent events have drawn supportive crowds.\n",
      "---------------------------\n",
      "The president delivered his final State of the Union address on Tuesday and discussed the threat posed by the Islamic State.\n",
      "---------------------------\n",
      "The president delivered his final State of the Union address on Tuesday and discussed American innovation.\n",
      "---------------------------\n",
      "I was live-tweeting President Obama’s State of the Union Address. For those of you not on Twitter, here’s what I had to say.\n",
      "---------------------------\n",
      "The president delivered his final State of the Union address on Tuesday and discussed economic growth.\n",
      "---------------------------\n",
      "In his final State of the Union message, the president urged Americans to confront the challenges of the future by rejecting fear and embracing change.\n",
      "---------------------------\n",
      "Readers respond to an Op-Ed essay by the president calling for the country to join together to fight the gun crisis.\n",
      "---------------------------\n",
      "The administration will overhaul its response to online propaganda from the Islamic State after acknowledging it had largely failed to counter extremists on social media.\n",
      "---------------------------\n",
      "President Obama is the first president to publish visitor logs of the journalists who attend off-the-record discussions meant to promote context and candor.\n",
      "---------------------------\n"
     ]
    }
   ],
   "source": [
    "for article in articles_list:\n",
    "    print(article['snippet'])\n",
    "    print('---------------------------')"
   ]
  },
  {
   "cell_type": "code",
   "execution_count": null,
   "metadata": {},
   "outputs": [],
   "source": []
  }
 ],
 "metadata": {
  "kernelspec": {
   "display_name": "Python 3",
   "language": "python",
   "name": "python3"
  },
  "language_info": {
   "codemirror_mode": {
    "name": "ipython",
    "version": 3
   },
   "file_extension": ".py",
   "mimetype": "text/x-python",
   "name": "python",
   "nbconvert_exporter": "python",
   "pygments_lexer": "ipython3",
   "version": "3.7.3"
  },
  "varInspector": {
   "cols": {
    "lenName": 16,
    "lenType": 16,
    "lenVar": 40
   },
   "kernels_config": {
    "python": {
     "delete_cmd_postfix": "",
     "delete_cmd_prefix": "del ",
     "library": "var_list.py",
     "varRefreshCmd": "print(var_dic_list())"
    },
    "r": {
     "delete_cmd_postfix": ") ",
     "delete_cmd_prefix": "rm(",
     "library": "var_list.r",
     "varRefreshCmd": "cat(var_dic_list()) "
    }
   },
   "types_to_exclude": [
    "module",
    "function",
    "builtin_function_or_method",
    "instance",
    "_Feature"
   ],
   "window_display": false
  }
 },
 "nbformat": 4,
 "nbformat_minor": 2
}
