{
 "cells": [
  {
   "cell_type": "markdown",
   "metadata": {
    "colab_type": "text",
    "id": "Hs75oNbXPbn3"
   },
   "source": [
    "\n",
    " ## Install Java, Spark, and Findspark\n",
    "\n"
   ]
  },
  {
   "cell_type": "code",
   "execution_count": null,
   "metadata": {},
   "outputs": [],
   "source": [
    "!apt-get install openjdk-8-jdk-headless -qq > /dev/null\n",
    "!wget -q http://www-us.apache.org/dist/spark/spark-2.3.2/spark-2.3.2-bin-hadoop2.7.tgz\n",
    "!tar xf spark-2.3.2-bin-hadoop2.7.tgz\n",
    "!pip install -q findspark"
   ]
  },
  {
   "cell_type": "markdown",
   "metadata": {},
   "source": [
    "## Set Environmental Variables"
   ]
  },
  {
   "cell_type": "code",
   "execution_count": null,
   "metadata": {},
   "outputs": [],
   "source": [
    "import os\n",
    "os.environ[\"JAVA_HOME\"] = \"/usr/lib/jvm/java-8-openjdk-amd64\"\n",
    "os.environ[\"SPARK_HOME\"] = \"/content/spark-2.3.2-bin-hadoop2.7\""
   ]
  },
  {
   "cell_type": "markdown",
   "metadata": {},
   "source": [
    "## Find Spark and start session"
   ]
  },
  {
   "cell_type": "code",
   "execution_count": null,
   "metadata": {
    "colab": {},
    "colab_type": "code",
    "id": "iPG3lgBVPhpl"
   },
   "outputs": [],
   "source": [
    "import findspark\n",
    "findspark.init()\n",
    "\n",
    "from pyspark.sql import SparkSession\n",
    "spark = SparkSession.builder.appName(\"stu_token\").getOrCreate()"
   ]
  },
  {
   "cell_type": "code",
   "execution_count": null,
   "metadata": {
    "colab": {},
    "colab_type": "code",
    "id": "cxsqzmY3Pbn6"
   },
   "outputs": [],
   "source": [
    "from pyspark.ml.feature import RegexTokenizer, Tokenizer\n",
    "from pyspark.sql.functions import col, udf\n",
    "from pyspark.sql.types import IntegerType"
   ]
  },
  {
   "cell_type": "code",
   "execution_count": null,
   "metadata": {
    "colab": {
     "base_uri": "https://localhost:8080/",
     "height": 153
    },
    "colab_type": "code",
    "id": "BuJJACA8Pbn9",
    "outputId": "120c286d-3053-47f5-d783-fa6b456a2331"
   },
   "outputs": [
    {
     "name": "stdout",
     "output_type": "stream",
     "text": [
      "+--------------------+\n",
      "|                Poem|\n",
      "+--------------------+\n",
      "|This Autumn midnight|\n",
      "|Orion’s at my window|\n",
      "|shouting for his ...|\n",
      "+--------------------+\n",
      "\n"
     ]
    }
   ],
   "source": [
    "from pyspark import SparkFiles\n",
    "url =\"https://s3.amazonaws.com/dataviz-curriculum/day_2/data.csv\"\n",
    "spark.sparkContext.addFile(url)\n",
    "df = spark.read.csv(SparkFiles.get(\"data.csv\"), sep=\",\", header=True)\n",
    "df.show()"
   ]
  },
  {
   "cell_type": "code",
   "execution_count": null,
   "metadata": {
    "colab": {},
    "colab_type": "code",
    "id": "SuJvr9r_Pbn-"
   },
   "outputs": [],
   "source": [
    "# Tokenize DataFrame\n",
    "tokened = Tokenizer(inputCol=\"Poem\", outputCol=\"words\")"
   ]
  },
  {
   "cell_type": "code",
   "execution_count": null,
   "metadata": {
    "colab": {
     "base_uri": "https://localhost:8080/",
     "height": 153
    },
    "colab_type": "code",
    "id": "ibpgesa9PboA",
    "outputId": "037beab5-7af6-4054-b81c-31940d97db01"
   },
   "outputs": [
    {
     "name": "stdout",
     "output_type": "stream",
     "text": [
      "+--------------------+--------------------+\n",
      "|                Poem|               words|\n",
      "+--------------------+--------------------+\n",
      "|This Autumn midnight|[this, autumn, mi...|\n",
      "|Orion’s at my window|[orion’s, at, my,...|\n",
      "|shouting for his ...|[shouting, for, h...|\n",
      "+--------------------+--------------------+\n",
      "\n"
     ]
    }
   ],
   "source": [
    "# Transform DataFrame\n",
    "tokenized = tokened.transform(df)\n",
    "tokenized.show()"
   ]
  },
  {
   "cell_type": "code",
   "execution_count": null,
   "metadata": {
    "colab": {},
    "colab_type": "code",
    "id": "ZuV8YVMfPboD"
   },
   "outputs": [],
   "source": [
    "# Create a Function to count vowels\n",
    "def vowel_counter(words):\n",
    "    vowel_count = 0\n",
    "\n",
    "    for word in words:\n",
    "        for vowel in word:\n",
    "            if vowel in ('a', 'e', 'i', 'o', 'u'):\n",
    "                vowel_count += 1\n",
    "\n",
    "    return vowel_count"
   ]
  },
  {
   "cell_type": "code",
   "execution_count": null,
   "metadata": {
    "colab": {
     "base_uri": "https://localhost:8080/",
     "height": 34
    },
    "colab_type": "code",
    "id": "YQEdWyiuPboF",
    "outputId": "c3f5080b-c392-4cc9-9784-41c0ae96cce5"
   },
   "outputs": [
    {
     "data": {
      "text/plain": [
       "<function __main__.vowel_counter>"
      ]
     },
     "execution_count": 17,
     "metadata": {
      "tags": []
     },
     "output_type": "execute_result"
    }
   ],
   "source": [
    "# Store a user defined function\n",
    "count_vowels = udf(vowel_counter, IntegerType())\n",
    "count_vowels"
   ]
  },
  {
   "cell_type": "code",
   "execution_count": null,
   "metadata": {
    "colab": {
     "base_uri": "https://localhost:8080/",
     "height": 153
    },
    "colab_type": "code",
    "id": "RU8mtkasPboH",
    "outputId": "f1ad6144-aa90-4d84-957a-4f04a7268ea0"
   },
   "outputs": [
    {
     "name": "stdout",
     "output_type": "stream",
     "text": [
      "+---------------------+--------------------------+------+\n",
      "|Poem                 |words                     |vowels|\n",
      "+---------------------+--------------------------+------+\n",
      "|This Autumn midnight |[this, autumn, midnight]  |6     |\n",
      "|Orion’s at my window |[orion’s, at, my, window] |6     |\n",
      "|shouting for his dog.|[shouting, for, his, dog.]|6     |\n",
      "+---------------------+--------------------------+------+\n",
      "\n"
     ]
    }
   ],
   "source": [
    "# Create new DataFrame with the udf\n",
    "tokenized.select(\"Poem\", \"words\")\\\n",
    "    .withColumn(\"vowels\", count_vowels(col(\"words\"))).show(truncate=False)"
   ]
  },
  {
   "cell_type": "code",
   "execution_count": null,
   "metadata": {
    "colab": {},
    "colab_type": "code",
    "id": "d8qVKoatPg2p"
   },
   "outputs": [],
   "source": []
  }
 ],
 "metadata": {
  "colab": {
   "name": "tokenizing_data.ipynb",
   "provenance": [],
   "version": "0.3.2"
  },
  "kernelspec": {
   "display_name": "Python 3",
   "language": "python",
   "name": "python3"
  },
  "language_info": {
   "codemirror_mode": {
    "name": "ipython",
    "version": 3
   },
   "file_extension": ".py",
   "mimetype": "text/x-python",
   "name": "python",
   "nbconvert_exporter": "python",
   "pygments_lexer": "ipython3",
   "version": "3.6.4"
  }
 },
 "nbformat": 4,
 "nbformat_minor": 2
}
