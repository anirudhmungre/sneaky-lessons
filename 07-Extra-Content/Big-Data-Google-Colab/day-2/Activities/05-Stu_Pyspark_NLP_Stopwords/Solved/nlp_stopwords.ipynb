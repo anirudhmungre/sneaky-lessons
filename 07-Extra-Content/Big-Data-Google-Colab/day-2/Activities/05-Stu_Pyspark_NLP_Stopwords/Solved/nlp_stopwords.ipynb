{
 "cells": [
  {
   "cell_type": "markdown",
   "metadata": {},
   "source": [
    "\n",
    " ## Install Java, Spark, and Findspark\n",
    "\n"
   ]
  },
  {
   "cell_type": "code",
   "execution_count": null,
   "metadata": {},
   "outputs": [],
   "source": [
    "!apt-get install openjdk-8-jdk-headless -qq > /dev/null\n",
    "!wget -q http://www-us.apache.org/dist/spark/spark-2.3.2/spark-2.3.2-bin-hadoop2.7.tgz\n",
    "!tar xf spark-2.3.2-bin-hadoop2.7.tgz\n",
    "!pip install -q findspark"
   ]
  },
  {
   "cell_type": "markdown",
   "metadata": {},
   "source": [
    "## Set Environmental Variables"
   ]
  },
  {
   "cell_type": "code",
   "execution_count": null,
   "metadata": {},
   "outputs": [],
   "source": [
    "import os\n",
    "os.environ[\"JAVA_HOME\"] = \"/usr/lib/jvm/java-8-openjdk-amd64\"\n",
    "os.environ[\"SPARK_HOME\"] = \"/content/spark-2.3.2-bin-hadoop2.7\""
   ]
  },
  {
   "cell_type": "markdown",
   "metadata": {},
   "source": [
    "## Find Spark and start session"
   ]
  },
  {
   "cell_type": "code",
   "execution_count": null,
   "metadata": {
    "colab": {},
    "colab_type": "code",
    "id": "qQYAJVmYRA5z"
   },
   "outputs": [],
   "source": [
    "import findspark\n",
    "findspark.init()\n",
    "\n",
    "from pyspark.sql import SparkSession\n",
    "spark = SparkSession.builder.appName(\"stu_stop\").getOrCreate()"
   ]
  },
  {
   "cell_type": "code",
   "execution_count": null,
   "metadata": {
    "colab": {},
    "colab_type": "code",
    "id": "JzI1NV2NRAIq"
   },
   "outputs": [],
   "source": [
    "from pyspark.ml.feature import Tokenizer, StopWordsRemover"
   ]
  },
  {
   "cell_type": "code",
   "execution_count": null,
   "metadata": {
    "colab": {
     "base_uri": "https://localhost:8080/",
     "height": 204
    },
    "colab_type": "code",
    "id": "OENY-Az9RAIt",
    "outputId": "d930fb89-12f8-4a06-fa98-45743f5fc02e"
   },
   "outputs": [
    {
     "name": "stdout",
     "output_type": "stream",
     "text": [
      "+--------------------+\n",
      "|             Reviews|\n",
      "+--------------------+\n",
      "|The pasta was a d...|\n",
      "|We ate the fish i...|\n",
      "|My family did not...|\n",
      "|The girl even tri...|\n",
      "|this is his job a...|\n",
      "|I'm always greete...|\n",
      "+--------------------+\n",
      "\n"
     ]
    }
   ],
   "source": [
    "# Read in data from S3 Buckets\n",
    "from pyspark import SparkFiles\n",
    "url =\"https://s3.amazonaws.com/dataviz-curriculum/day_2/food_reviews.csv\"\n",
    "spark.sparkContext.addFile(url)\n",
    "df = spark.read.csv(SparkFiles.get(\"food_reviews.csv\"), sep=\",\", header=True)\n",
    "df.show()"
   ]
  },
  {
   "cell_type": "code",
   "execution_count": null,
   "metadata": {
    "colab": {},
    "colab_type": "code",
    "id": "B7Uv-EsFRAIw"
   },
   "outputs": [],
   "source": [
    "# Tokenize DataFrame\n",
    "review_data = Tokenizer(inputCol=\"Reviews\", outputCol=\"Words\")"
   ]
  },
  {
   "cell_type": "code",
   "execution_count": null,
   "metadata": {
    "colab": {
     "base_uri": "https://localhost:8080/",
     "height": 204
    },
    "colab_type": "code",
    "id": "cR_GMPdxRAIy",
    "outputId": "99bd08e8-1bc8-4c9d-9fdb-a46773f0653c"
   },
   "outputs": [
    {
     "name": "stdout",
     "output_type": "stream",
     "text": [
      "+--------------------+--------------------+\n",
      "|             Reviews|               Words|\n",
      "+--------------------+--------------------+\n",
      "|The pasta was a d...|[the, pasta, was,...|\n",
      "|We ate the fish i...|[we, ate, the, fi...|\n",
      "|My family did not...|[my, family, did,...|\n",
      "|The girl even tri...|[the, girl, even,...|\n",
      "|this is his job a...|[this, is, his, j...|\n",
      "|I'm always greete...|[i'm, always, gre...|\n",
      "+--------------------+--------------------+\n",
      "\n"
     ]
    }
   ],
   "source": [
    "# Transform DataFrame\n",
    "reviewed = review_data.transform(df)\n",
    "reviewed.show()"
   ]
  },
  {
   "cell_type": "code",
   "execution_count": null,
   "metadata": {
    "colab": {},
    "colab_type": "code",
    "id": "KuQKLWYWRAI2"
   },
   "outputs": [],
   "source": [
    "# Remove stop words\n",
    "remover = StopWordsRemover(inputCol=\"Words\", outputCol=\"filtered\")"
   ]
  },
  {
   "cell_type": "code",
   "execution_count": null,
   "metadata": {
    "colab": {
     "base_uri": "https://localhost:8080/",
     "height": 204
    },
    "colab_type": "code",
    "id": "mgnuM2l_RAI5",
    "outputId": "cf519850-73cc-4402-a86b-7164ab8080eb"
   },
   "outputs": [
    {
     "name": "stdout",
     "output_type": "stream",
     "text": [
      "+--------------------+--------------------+--------------------+\n",
      "|             Reviews|               Words|            filtered|\n",
      "+--------------------+--------------------+--------------------+\n",
      "|The pasta was a d...|[the, pasta, was,...|       [pasta, dish]|\n",
      "|We ate the fish i...|[we, ate, the, fi...|  [ate, fish, tasty]|\n",
      "|My family did not...|[my, family, did,...|[family, like, food]|\n",
      "|The girl even tri...|[the, girl, even,...|[girl, even, trie...|\n",
      "|this is his job a...|[this, is, his, j...|[job, since, prob...|\n",
      "|I'm always greete...|[i'm, always, gre...|[always, greeted,...|\n",
      "+--------------------+--------------------+--------------------+\n",
      "\n"
     ]
    }
   ],
   "source": [
    "# Transform new DataFrame\n",
    "newFrame = remover.transform(reviewed)\n",
    "newFrame.show()"
   ]
  },
  {
   "cell_type": "code",
   "execution_count": null,
   "metadata": {
    "colab": {
     "base_uri": "https://localhost:8080/",
     "height": 224
    },
    "colab_type": "code",
    "id": "tkmRq4qwRAI8",
    "outputId": "60c5c1c0-6eff-4453-ed8b-531c7bd0e0db"
   },
   "outputs": [
    {
     "name": "stdout",
     "output_type": "stream",
     "text": [
      "+-----------------------------------------------------------------------------------------------------------------------------------------------------------------------------+\n",
      "|filtered                                                                                                                                                                     |\n",
      "+-----------------------------------------------------------------------------------------------------------------------------------------------------------------------------+\n",
      "|[pasta, dish]                                                                                                                                                                |\n",
      "|[ate, fish, tasty]                                                                                                                                                           |\n",
      "|[family, like, food]                                                                                                                                                         |\n",
      "|[girl, even, tried, spread, half, cover, roll.]                                                                                                                              |\n",
      "|[job, since, probably, slowest, time, day, least, expect, take, order, put, sandwich, through., course, apology., wait, woman, finish, couple, came, finally, got, sandwich.]|\n",
      "|[always, greeted, , employees, always, seem, eager, help.]                                                                                                                   |\n",
      "+-----------------------------------------------------------------------------------------------------------------------------------------------------------------------------+\n",
      "\n"
     ]
    }
   ],
   "source": [
    "# Show simplified review\n",
    "newFrame.select(\"filtered\").show(truncate=False)"
   ]
  },
  {
   "cell_type": "code",
   "execution_count": null,
   "metadata": {
    "colab": {},
    "colab_type": "code",
    "id": "dXBTtBduRX8L"
   },
   "outputs": [],
   "source": []
  }
 ],
 "metadata": {
  "colab": {
   "name": "stu_nlp_stopwords.ipynb",
   "provenance": [],
   "version": "0.3.2"
  },
  "kernelspec": {
   "display_name": "Python 3",
   "language": "python",
   "name": "python3"
  },
  "language_info": {
   "codemirror_mode": {
    "name": "ipython",
    "version": 3
   },
   "file_extension": ".py",
   "mimetype": "text/x-python",
   "name": "python",
   "nbconvert_exporter": "python",
   "pygments_lexer": "ipython3",
   "version": "3.6.4"
  }
 },
 "nbformat": 4,
 "nbformat_minor": 2
}
