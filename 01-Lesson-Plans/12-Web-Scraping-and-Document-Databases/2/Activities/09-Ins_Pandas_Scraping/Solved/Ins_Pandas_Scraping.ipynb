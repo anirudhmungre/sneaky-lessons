{
 "cells": [
  {
   "cell_type": "markdown",
   "metadata": {
    "slideshow": {
     "slide_type": "slide"
    }
   },
   "source": [
    "# Scraping with Pandas"
   ]
  },
  {
   "cell_type": "code",
   "execution_count": 1,
   "metadata": {
    "slideshow": {
     "slide_type": "slide"
    }
   },
   "outputs": [],
   "source": [
    "import pandas as pd"
   ]
  },
  {
   "cell_type": "markdown",
   "metadata": {
    "slideshow": {
     "slide_type": "subslide"
    }
   },
   "source": [
    "We can use the `read_html` function in Pandas to automatically scrape any tabular data from a page."
   ]
  },
  {
   "cell_type": "code",
   "execution_count": 2,
   "metadata": {
    "slideshow": {
     "slide_type": "fragment"
    }
   },
   "outputs": [],
   "source": [
    "url = 'https://en.wikipedia.org/wiki/List_of_capitals_in_the_United_States'"
   ]
  },
  {
   "cell_type": "code",
   "execution_count": 3,
   "metadata": {
    "slideshow": {
     "slide_type": "fragment"
    }
   },
   "outputs": [
    {
     "data": {
      "text/plain": [
       "[                             City                       Building  \\\n",
       "                   Albany Congress                Albany Congress   \n",
       " 0                Albany, New York                     Stadt Huys   \n",
       " 1              Stamp Act Congress             Stamp Act Congress   \n",
       " 2              New York, New York                      City Hall   \n",
       " 3      First Continental Congress     First Continental Congress   \n",
       " 4      Philadelphia, Pennsylvania               Carpenters' Hall   \n",
       " 5     Second Continental Congress    Second Continental Congress   \n",
       " 6      Philadelphia, Pennsylvania              Independence Hall   \n",
       " 7             Baltimore, Maryland               Henry Fite House   \n",
       " 8      Philadelphia, Pennsylvania              Independence Hall   \n",
       " 9         Lancaster, Pennsylvania                    Court House   \n",
       " 10             York, Pennsylvania                    Court House   \n",
       " 11     Philadelphia, Pennsylvania                   College Hall   \n",
       " 12  Congress of the Confederation  Congress of the Confederation   \n",
       " 13     Philadelphia, Pennsylvania              Independence Hall   \n",
       " 14          Princeton, New Jersey                    Nassau Hall   \n",
       " 15            Annapolis, Maryland           Maryland State House   \n",
       " 16            Trenton, New Jersey             French Arms Tavern   \n",
       " 17             New York, New York                      City Hall   \n",
       " 18         United States Congress         United States Congress   \n",
       " 19             New York, New York                   Federal Hall   \n",
       " 20     Philadelphia, Pennsylvania                  Congress Hall   \n",
       " 21           District of Columbia          United States Capitol   \n",
       " 22               Washington, D.C.               Blodgett's Hotel   \n",
       " 23               Washington, D.C.              Old Brick Capitol   \n",
       " 24               Washington, D.C.          United States Capitol   \n",
       " \n",
       "                        Start Date                       End Date  \\\n",
       "                   Albany Congress                Albany Congress   \n",
       " 0                   June 19, 1754                  July 11, 1754   \n",
       " 1              Stamp Act Congress             Stamp Act Congress   \n",
       " 2                 October 7, 1765               October 25, 1765   \n",
       " 3      First Continental Congress     First Continental Congress   \n",
       " 4               September 5, 1774               October 26, 1774   \n",
       " 5     Second Continental Congress    Second Continental Congress   \n",
       " 6                    May 10, 1775              December 12, 1776   \n",
       " 7               December 20, 1776              February 27, 1777   \n",
       " 8                   March 5, 1777             September 18, 1777   \n",
       " 9              September 27, 1777             September 27, 1777   \n",
       " 10             September 30, 1777                  June 27, 1778   \n",
       " 11                   July 2, 1778                  March 1, 1781   \n",
       " 12  Congress of the Confederation  Congress of the Confederation   \n",
       " 13                  March 2, 1781                  June 21, 1783   \n",
       " 14                  June 30, 1783               November 4, 1783   \n",
       " 15              November 26, 1783                August 19, 1784   \n",
       " 16               November 1, 1784              December 24, 1784   \n",
       " 17               January 11, 1785                October 6, 1788   \n",
       " 18         United States Congress         United States Congress   \n",
       " 19                  March 4, 1789               December 5, 1790   \n",
       " 20               December 6, 1790                   May 14, 1800   \n",
       " 21              November 17, 1800                August 24, 1814   \n",
       " 22             September 19, 1814               December 7, 1815   \n",
       " 23               December 4, 1815                  March 3, 1819   \n",
       " 24                  March 4, 1819                        present   \n",
       " \n",
       "                            Duration                            Ref  \n",
       "                     Albany Congress                Albany Congress  \n",
       " 0                           22 days                            [8]  \n",
       " 1                Stamp Act Congress             Stamp Act Congress  \n",
       " 2                           23 days                            [9]  \n",
       " 3        First Continental Congress     First Continental Congress  \n",
       " 4               1 month and 21 days                           [10]  \n",
       " 5       Second Continental Congress    Second Continental Congress  \n",
       " 6       1 year, 7 months and 2 days                           [11]  \n",
       " 7               2 months and 7 days                           [12]  \n",
       " 8              6 months and 13 days                           [13]  \n",
       " 9                             1 day                           [13]  \n",
       " 10             8 months and 28 days                           [13]  \n",
       " 11    2 years, 7 months and 27 days                           [14]  \n",
       " 12    Congress of the Confederation  Congress of the Confederation  \n",
       " 13    2 years, 3 months and 19 days                           [14]  \n",
       " 14              4 months and 5 days                           [14]  \n",
       " 15             8 months and 24 days                           [14]  \n",
       " 16              1 month and 23 days                           [14]  \n",
       " 17    3 years, 11 months and 5 days                           [14]  \n",
       " 18           United States Congress         United States Congress  \n",
       " 19       1 year, 9 months and 1 day                           [14]  \n",
       " 20     9 years, 5 months and 8 days                           [14]  \n",
       " 21    13 years, 9 months and 7 days                           [14]  \n",
       " 22     1 year, 2 months and 18 days                           [15]  \n",
       " 23    3 years, 2 months and 27 days                           [16]  \n",
       " 24  201 years, 5 months and 14 days                           [17]  ,\n",
       "              State         Capital Capital Since Area (mi2)  \\\n",
       " 0          Alabama      Montgomery          1846      159.8   \n",
       " 1           Alaska          Juneau          1906     2716.7   \n",
       " 2          Arizona         Phoenix          1912      517.6   \n",
       " 3         Arkansas     Little Rock          1821      116.2   \n",
       " 4       California      Sacramento          1854       97.9   \n",
       " 5         Colorado          Denver          1867      153.3   \n",
       " 6      Connecticut        Hartford          1875       17.3   \n",
       " 7         Delaware           Dover          1777       22.4   \n",
       " 8          Florida     Tallahassee          1824       95.7   \n",
       " 9          Georgia         Atlanta          1868      133.5   \n",
       " 10          Hawaii        Honolulu          1845       68.4   \n",
       " 11           Idaho           Boise          1865       63.8   \n",
       " 12        Illinois     Springfield          1837       54.0   \n",
       " 13         Indiana    Indianapolis          1825      361.5   \n",
       " 14            Iowa      Des Moines          1857       75.8   \n",
       " 15          Kansas          Topeka          1856       56.0   \n",
       " 16        Kentucky       Frankfort          1792       14.7   \n",
       " 17       Louisiana     Baton Rouge          1880       76.8   \n",
       " 18           Maine         Augusta          1832       55.4   \n",
       " 19        Maryland       Annapolis          1694       6.73   \n",
       " 20   Massachusetts          Boston          1630       89.6   \n",
       " 21        Michigan         Lansing          1847       35.0   \n",
       " 22       Minnesota      Saint Paul          1849       52.8   \n",
       " 23     Mississippi         Jackson          1821      104.9   \n",
       " 24        Missouri  Jefferson City          1826       27.3   \n",
       " 25         Montana          Helena          1875       14.0   \n",
       " 26        Nebraska         Lincoln          1867       74.6   \n",
       " 27          Nevada     Carson City          1861      143.4   \n",
       " 28   New Hampshire         Concord          1808       64.3   \n",
       " 29      New Jersey         Trenton          1784       7.66   \n",
       " 30      New Mexico        Santa Fe          1610       37.3   \n",
       " 31        New York          Albany          1797       21.4   \n",
       " 32  North Carolina         Raleigh          1792      114.6   \n",
       " 33    North Dakota        Bismarck          1883       26.9   \n",
       " 34            Ohio        Columbus          1816      210.3   \n",
       " 35        Oklahoma   Oklahoma City          1910      620.3   \n",
       " 36          Oregon           Salem          1855       45.7   \n",
       " 37    Pennsylvania      Harrisburg          1812       8.11   \n",
       " 38    Rhode Island      Providence          1900       18.5   \n",
       " 39  South Carolina        Columbia          1786      125.2   \n",
       " 40    South Dakota          Pierre          1889       13.0   \n",
       " 41       Tennessee       Nashville          1826      525.9   \n",
       " 42           Texas          Austin          1839      305.1   \n",
       " 43            Utah  Salt Lake City          1858      109.1   \n",
       " 44         Vermont      Montpelier          1805       10.2   \n",
       " 45        Virginia        Richmond          1780       60.1   \n",
       " 46      Washington         Olympia          1853       16.7   \n",
       " 47   West Virginia      Charleston          1885       31.6   \n",
       " 48       Wisconsin         Madison          1838       68.7   \n",
       " 49         Wyoming        Cheyenne          1869       21.1   \n",
       " 50            [18]            [18]          [18]       [18]   \n",
       " \n",
       "    Population (2019 est.) Rank in State  \n",
       " 0                  198525             2  \n",
       " 1                   32113             3  \n",
       " 2                 1680992             1  \n",
       " 3                  197312             1  \n",
       " 4                  513624             6  \n",
       " 5                  727211             1  \n",
       " 6                  122105             3  \n",
       " 7                   38079             2  \n",
       " 8                  194500             7  \n",
       " 9                  506811             1  \n",
       " 10                 345064             1  \n",
       " 11                 228959             1  \n",
       " 12                 114230             6  \n",
       " 13                 876384             1  \n",
       " 14                 214237             1  \n",
       " 15                 125310             4  \n",
       " 16                  27679            14  \n",
       " 17                 220236             2  \n",
       " 18                  18681             8  \n",
       " 19                  39174             7  \n",
       " 20                 692600             1  \n",
       " 21                 118210             5  \n",
       " 22                 308096             2  \n",
       " 23                 160628             1  \n",
       " 24                  42838            15  \n",
       " 25                  32315             6  \n",
       " 26                 289102             2  \n",
       " 27                  55916             6  \n",
       " 28                  43627             3  \n",
       " 29                  83203            10  \n",
       " 30                  84683             4  \n",
       " 31                  96460             6  \n",
       " 32                 474069             2  \n",
       " 33                  73529             2  \n",
       " 34                 898553             1  \n",
       " 35                 655057             1  \n",
       " 36                 174365             3  \n",
       " 37                  49528             9  \n",
       " 38                 179883             1  \n",
       " 39                 131674             2  \n",
       " 40                  13646             8  \n",
       " 41                 670820             1  \n",
       " 42                 978908             4  \n",
       " 43                 200567             1  \n",
       " 44                   7855             6  \n",
       " 45                 230436             4  \n",
       " 46                  46478            24  \n",
       " 47                  46536             1  \n",
       " 48                 259680             2  \n",
       " 49                  64235             1  \n",
       " 50                   [18]          [18]  ,\n",
       "                Insular area Abr.  Date           Capital  Population (2010)  \\\n",
       " 0            American Samoa   AS  1899         Pago Pago               3656   \n",
       " 1                      Guam   GU  1898           Hagåtña               1051   \n",
       " 2  Northern Mariana Islands   MP  1947            Saipan              48220   \n",
       " 3               Puerto Rico   PR  1898          San Juan             395326   \n",
       " 4       U.S. Virgin Islands   VI  1917  Charlotte Amalie              18481   \n",
       " \n",
       "                                                Notes  \n",
       " 0  Pago Pago refers to both a village and a group...  \n",
       " 1              Dededo is the area's largest village.  \n",
       " 2                                                NaN  \n",
       " 3  The city of San Juan was originally called Pue...  \n",
       " 4                                                NaN  ,\n",
       "                               State        Capital  Date  \\\n",
       " 0      Alabama[27]Statehood in 1819    San Agustín  1565   \n",
       " 1      Alabama[27]Statehood in 1819       Savannah  1733   \n",
       " 2      Alabama[27]Statehood in 1819       Savannah  1755   \n",
       " 3      Alabama[27]Statehood in 1819       Savannah  1776   \n",
       " 4      Alabama[27]Statehood in 1819   Augusta (GA)  1778   \n",
       " ..                              ...            ...   ...   \n",
       " 468  Wisconsin[61]Statehood in 1848        Madison  1848   \n",
       " 469    Wyoming[62]Statehood in 1890  Lewiston (ID)  1863   \n",
       " 470    Wyoming[62]Statehood in 1890   Yankton (SD)  1864   \n",
       " 471    Wyoming[62]Statehood in 1890       Cheyenne  1869   \n",
       " 472    Wyoming[62]Statehood in 1890       Cheyenne  1890   \n",
       " \n",
       "                                                  Notes  \n",
       " 0     Capital of the Spanish colony of La Florida.[28]  \n",
       " 1    Capital of the British proprietary Colony of G...  \n",
       " 2          Capital of the British Province of Georgia.  \n",
       " 3                    Capitals of the State of Georgia.  \n",
       " 4                    Capitals of the State of Georgia.  \n",
       " ..                                                 ...  \n",
       " 468                 Capital of the State of Wisconsin.  \n",
       " 469                 Capital of the Territory of Idaho.  \n",
       " 470                Capital of the Territory of Dakota.  \n",
       " 471               Capital of the Territory of Wyoming.  \n",
       " 472                   Capital of the State of Wyoming.  \n",
       " \n",
       " [473 rows x 4 columns],\n",
       "     vteCapitals of the United States by jurisdiction  \\\n",
       " 0  Nation: US Washington, D.C. States: AL Montgom...   \n",
       " \n",
       "   vteCapitals of the United States by jurisdiction.1  \n",
       " 0  Nation: US Washington, D.C. States: AL Montgom...  ,\n",
       "                  vteUnited States state-related lists  \\\n",
       " 0   List of states and territories of the United S...   \n",
       " 1                                        Demographics   \n",
       " 2                                             Economy   \n",
       " 3                                         Environment   \n",
       " 4                                           Geography   \n",
       " 5                                          Government   \n",
       " 6                                              Health   \n",
       " 7                                             History   \n",
       " 8                                                 Law   \n",
       " 9                                       Miscellaneous   \n",
       " 10                         Category  Commons  Portals   \n",
       " \n",
       "                vteUnited States state-related lists.1  \n",
       " 0   List of states and territories of the United S...  \n",
       " 1   Population African American Amish Asian Birth ...  \n",
       " 2   Billionaires Budgets Companies Credit ratings ...  \n",
       " 3   Botanical gardens Carbon dioxide emissions Par...  \n",
       " 4   Area Bays Beaches Coastline Elevation Extreme ...  \n",
       " 5   Agriculture commissioners Attorneys general Ca...  \n",
       " 6   Fertility rates Hospitals Human Development In...  \n",
       " 7   Date of statehood Name etymologies Historical ...  \n",
       " 8   Abortion Age of consent Alcohol Dry communitie...  \n",
       " 9   Abbreviations Airports Bus transit systems Cas...  \n",
       " 10                         Category  Commons  Portals  ,\n",
       "   vteLocation of the capital of the United States  \\\n",
       " 0                              Temporary capitals   \n",
       " 1                               Permanent capital   \n",
       " \n",
       "    vteLocation of the capital of the United States.1  \n",
       " 0  Philadelphia (1776; 1777; 1778–1783; 1791–1800...  \n",
       " 1                      Washington, D.C. (since 1800)  ,\n",
       "   vteState and territorial capitol buildings in the United States  \\\n",
       " 0                                             States                \n",
       " 1                                        Territories                \n",
       " \n",
       "   vteState and territorial capitol buildings in the United States.1  \n",
       " 0  Alabama Alaska Arizona Arkansas California Col...                 \n",
       " 1  American Samoa District of Columbia Guam North...                 ]"
      ]
     },
     "execution_count": 3,
     "metadata": {},
     "output_type": "execute_result"
    }
   ],
   "source": [
    "tables = pd.read_html(url)\n",
    "tables"
   ]
  },
  {
   "cell_type": "markdown",
   "metadata": {
    "slideshow": {
     "slide_type": "subslide"
    }
   },
   "source": [
    "#### What we get in return is a list of dataframes for any tabular data that Pandas found."
   ]
  },
  {
   "cell_type": "code",
   "execution_count": 4,
   "metadata": {
    "slideshow": {
     "slide_type": "fragment"
    }
   },
   "outputs": [
    {
     "data": {
      "text/plain": [
       "list"
      ]
     },
     "execution_count": 4,
     "metadata": {},
     "output_type": "execute_result"
    }
   ],
   "source": [
    "type(tables)"
   ]
  },
  {
   "cell_type": "markdown",
   "metadata": {
    "slideshow": {
     "slide_type": "subslide"
    }
   },
   "source": [
    "#### We can slice off any of those dataframes that we want using normal indexing."
   ]
  },
  {
   "cell_type": "code",
   "execution_count": 5,
   "metadata": {
    "slideshow": {
     "slide_type": "fragment"
    }
   },
   "outputs": [
    {
     "data": {
      "text/html": [
       "<div>\n",
       "<style scoped>\n",
       "    .dataframe tbody tr th:only-of-type {\n",
       "        vertical-align: middle;\n",
       "    }\n",
       "\n",
       "    .dataframe tbody tr th {\n",
       "        vertical-align: top;\n",
       "    }\n",
       "\n",
       "    .dataframe thead tr th {\n",
       "        text-align: left;\n",
       "    }\n",
       "</style>\n",
       "<table border=\"1\" class=\"dataframe\">\n",
       "  <thead>\n",
       "    <tr>\n",
       "      <th></th>\n",
       "      <th>City</th>\n",
       "      <th>Building</th>\n",
       "      <th>Start Date</th>\n",
       "      <th>End Date</th>\n",
       "      <th>Duration</th>\n",
       "      <th>Ref</th>\n",
       "    </tr>\n",
       "    <tr>\n",
       "      <th></th>\n",
       "      <th>Albany Congress</th>\n",
       "      <th>Albany Congress</th>\n",
       "      <th>Albany Congress</th>\n",
       "      <th>Albany Congress</th>\n",
       "      <th>Albany Congress</th>\n",
       "      <th>Albany Congress</th>\n",
       "    </tr>\n",
       "  </thead>\n",
       "  <tbody>\n",
       "    <tr>\n",
       "      <th>0</th>\n",
       "      <td>Albany, New York</td>\n",
       "      <td>Stadt Huys</td>\n",
       "      <td>June 19, 1754</td>\n",
       "      <td>July 11, 1754</td>\n",
       "      <td>22 days</td>\n",
       "      <td>[8]</td>\n",
       "    </tr>\n",
       "    <tr>\n",
       "      <th>1</th>\n",
       "      <td>Stamp Act Congress</td>\n",
       "      <td>Stamp Act Congress</td>\n",
       "      <td>Stamp Act Congress</td>\n",
       "      <td>Stamp Act Congress</td>\n",
       "      <td>Stamp Act Congress</td>\n",
       "      <td>Stamp Act Congress</td>\n",
       "    </tr>\n",
       "    <tr>\n",
       "      <th>2</th>\n",
       "      <td>New York, New York</td>\n",
       "      <td>City Hall</td>\n",
       "      <td>October 7, 1765</td>\n",
       "      <td>October 25, 1765</td>\n",
       "      <td>23 days</td>\n",
       "      <td>[9]</td>\n",
       "    </tr>\n",
       "    <tr>\n",
       "      <th>3</th>\n",
       "      <td>First Continental Congress</td>\n",
       "      <td>First Continental Congress</td>\n",
       "      <td>First Continental Congress</td>\n",
       "      <td>First Continental Congress</td>\n",
       "      <td>First Continental Congress</td>\n",
       "      <td>First Continental Congress</td>\n",
       "    </tr>\n",
       "    <tr>\n",
       "      <th>4</th>\n",
       "      <td>Philadelphia, Pennsylvania</td>\n",
       "      <td>Carpenters' Hall</td>\n",
       "      <td>September 5, 1774</td>\n",
       "      <td>October 26, 1774</td>\n",
       "      <td>1 month and 21 days</td>\n",
       "      <td>[10]</td>\n",
       "    </tr>\n",
       "  </tbody>\n",
       "</table>\n",
       "</div>"
      ],
      "text/plain": [
       "                         City                    Building  \\\n",
       "              Albany Congress             Albany Congress   \n",
       "0            Albany, New York                  Stadt Huys   \n",
       "1          Stamp Act Congress          Stamp Act Congress   \n",
       "2          New York, New York                   City Hall   \n",
       "3  First Continental Congress  First Continental Congress   \n",
       "4  Philadelphia, Pennsylvania            Carpenters' Hall   \n",
       "\n",
       "                   Start Date                    End Date  \\\n",
       "              Albany Congress             Albany Congress   \n",
       "0               June 19, 1754               July 11, 1754   \n",
       "1          Stamp Act Congress          Stamp Act Congress   \n",
       "2             October 7, 1765            October 25, 1765   \n",
       "3  First Continental Congress  First Continental Congress   \n",
       "4           September 5, 1774            October 26, 1774   \n",
       "\n",
       "                     Duration                         Ref  \n",
       "              Albany Congress             Albany Congress  \n",
       "0                     22 days                         [8]  \n",
       "1          Stamp Act Congress          Stamp Act Congress  \n",
       "2                     23 days                         [9]  \n",
       "3  First Continental Congress  First Continental Congress  \n",
       "4         1 month and 21 days                        [10]  "
      ]
     },
     "execution_count": 5,
     "metadata": {},
     "output_type": "execute_result"
    }
   ],
   "source": [
    "df = tables[0]\n",
    "df.head()"
   ]
  },
  {
   "cell_type": "markdown",
   "metadata": {
    "slideshow": {
     "slide_type": "subslide"
    }
   },
   "source": [
    "#### Drop all single header rows"
   ]
  },
  {
   "cell_type": "code",
   "execution_count": 6,
   "metadata": {
    "slideshow": {
     "slide_type": "fragment"
    }
   },
   "outputs": [
    {
     "data": {
      "text/html": [
       "<div>\n",
       "<style scoped>\n",
       "    .dataframe tbody tr th:only-of-type {\n",
       "        vertical-align: middle;\n",
       "    }\n",
       "\n",
       "    .dataframe tbody tr th {\n",
       "        vertical-align: top;\n",
       "    }\n",
       "\n",
       "    .dataframe thead th {\n",
       "        text-align: right;\n",
       "    }\n",
       "</style>\n",
       "<table border=\"1\" class=\"dataframe\">\n",
       "  <thead>\n",
       "    <tr style=\"text-align: right;\">\n",
       "      <th></th>\n",
       "      <th>City</th>\n",
       "      <th>Building</th>\n",
       "      <th>Start Date</th>\n",
       "      <th>End Date</th>\n",
       "      <th>Duration</th>\n",
       "      <th>Ref</th>\n",
       "    </tr>\n",
       "  </thead>\n",
       "  <tbody>\n",
       "    <tr>\n",
       "      <th>0</th>\n",
       "      <td>Albany, New York</td>\n",
       "      <td>Stadt Huys</td>\n",
       "      <td>June 19, 1754</td>\n",
       "      <td>July 11, 1754</td>\n",
       "      <td>22 days</td>\n",
       "      <td>[8]</td>\n",
       "    </tr>\n",
       "    <tr>\n",
       "      <th>2</th>\n",
       "      <td>New York, New York</td>\n",
       "      <td>City Hall</td>\n",
       "      <td>October 7, 1765</td>\n",
       "      <td>October 25, 1765</td>\n",
       "      <td>23 days</td>\n",
       "      <td>[9]</td>\n",
       "    </tr>\n",
       "    <tr>\n",
       "      <th>4</th>\n",
       "      <td>Philadelphia, Pennsylvania</td>\n",
       "      <td>Carpenters' Hall</td>\n",
       "      <td>September 5, 1774</td>\n",
       "      <td>October 26, 1774</td>\n",
       "      <td>1 month and 21 days</td>\n",
       "      <td>[10]</td>\n",
       "    </tr>\n",
       "    <tr>\n",
       "      <th>6</th>\n",
       "      <td>Philadelphia, Pennsylvania</td>\n",
       "      <td>Independence Hall</td>\n",
       "      <td>May 10, 1775</td>\n",
       "      <td>December 12, 1776</td>\n",
       "      <td>1 year, 7 months and 2 days</td>\n",
       "      <td>[11]</td>\n",
       "    </tr>\n",
       "    <tr>\n",
       "      <th>7</th>\n",
       "      <td>Baltimore, Maryland</td>\n",
       "      <td>Henry Fite House</td>\n",
       "      <td>December 20, 1776</td>\n",
       "      <td>February 27, 1777</td>\n",
       "      <td>2 months and 7 days</td>\n",
       "      <td>[12]</td>\n",
       "    </tr>\n",
       "  </tbody>\n",
       "</table>\n",
       "</div>"
      ],
      "text/plain": [
       "                         City           Building         Start Date  \\\n",
       "0            Albany, New York         Stadt Huys      June 19, 1754   \n",
       "2          New York, New York          City Hall    October 7, 1765   \n",
       "4  Philadelphia, Pennsylvania   Carpenters' Hall  September 5, 1774   \n",
       "6  Philadelphia, Pennsylvania  Independence Hall       May 10, 1775   \n",
       "7         Baltimore, Maryland   Henry Fite House  December 20, 1776   \n",
       "\n",
       "            End Date                     Duration   Ref  \n",
       "0      July 11, 1754                      22 days   [8]  \n",
       "2   October 25, 1765                      23 days   [9]  \n",
       "4   October 26, 1774          1 month and 21 days  [10]  \n",
       "6  December 12, 1776  1 year, 7 months and 2 days  [11]  \n",
       "7  February 27, 1777          2 months and 7 days  [12]  "
      ]
     },
     "execution_count": 6,
     "metadata": {},
     "output_type": "execute_result"
    }
   ],
   "source": [
    "df.columns = df.columns.get_level_values(0)\n",
    "df = df.loc[df.Ref.str.startswith(\"[\")]\n",
    "df.head()"
   ]
  },
  {
   "cell_type": "markdown",
   "metadata": {
    "slideshow": {
     "slide_type": "subslide"
    }
   },
   "source": [
    "#### Slipt column values into two separate columns"
   ]
  },
  {
   "cell_type": "code",
   "execution_count": 7,
   "metadata": {
    "scrolled": false,
    "slideshow": {
     "slide_type": "fragment"
    }
   },
   "outputs": [
    {
     "data": {
      "text/html": [
       "<div>\n",
       "<style scoped>\n",
       "    .dataframe tbody tr th:only-of-type {\n",
       "        vertical-align: middle;\n",
       "    }\n",
       "\n",
       "    .dataframe tbody tr th {\n",
       "        vertical-align: top;\n",
       "    }\n",
       "\n",
       "    .dataframe thead th {\n",
       "        text-align: right;\n",
       "    }\n",
       "</style>\n",
       "<table border=\"1\" class=\"dataframe\">\n",
       "  <thead>\n",
       "    <tr style=\"text-align: right;\">\n",
       "      <th></th>\n",
       "      <th>City</th>\n",
       "      <th>Building</th>\n",
       "      <th>Start Date</th>\n",
       "      <th>End Date</th>\n",
       "      <th>Duration</th>\n",
       "      <th>Ref</th>\n",
       "      <th>State</th>\n",
       "    </tr>\n",
       "  </thead>\n",
       "  <tbody>\n",
       "    <tr>\n",
       "      <th>0</th>\n",
       "      <td>Albany</td>\n",
       "      <td>Stadt Huys</td>\n",
       "      <td>June 19, 1754</td>\n",
       "      <td>July 11, 1754</td>\n",
       "      <td>22 days</td>\n",
       "      <td>[8]</td>\n",
       "      <td>New York</td>\n",
       "    </tr>\n",
       "    <tr>\n",
       "      <th>2</th>\n",
       "      <td>New York</td>\n",
       "      <td>City Hall</td>\n",
       "      <td>October 7, 1765</td>\n",
       "      <td>October 25, 1765</td>\n",
       "      <td>23 days</td>\n",
       "      <td>[9]</td>\n",
       "      <td>New York</td>\n",
       "    </tr>\n",
       "    <tr>\n",
       "      <th>4</th>\n",
       "      <td>Philadelphia</td>\n",
       "      <td>Carpenters' Hall</td>\n",
       "      <td>September 5, 1774</td>\n",
       "      <td>October 26, 1774</td>\n",
       "      <td>1 month and 21 days</td>\n",
       "      <td>[10]</td>\n",
       "      <td>Pennsylvania</td>\n",
       "    </tr>\n",
       "    <tr>\n",
       "      <th>6</th>\n",
       "      <td>Philadelphia</td>\n",
       "      <td>Independence Hall</td>\n",
       "      <td>May 10, 1775</td>\n",
       "      <td>December 12, 1776</td>\n",
       "      <td>1 year, 7 months and 2 days</td>\n",
       "      <td>[11]</td>\n",
       "      <td>Pennsylvania</td>\n",
       "    </tr>\n",
       "    <tr>\n",
       "      <th>7</th>\n",
       "      <td>Baltimore</td>\n",
       "      <td>Henry Fite House</td>\n",
       "      <td>December 20, 1776</td>\n",
       "      <td>February 27, 1777</td>\n",
       "      <td>2 months and 7 days</td>\n",
       "      <td>[12]</td>\n",
       "      <td>Maryland</td>\n",
       "    </tr>\n",
       "  </tbody>\n",
       "</table>\n",
       "</div>"
      ],
      "text/plain": [
       "           City           Building         Start Date           End Date  \\\n",
       "0        Albany         Stadt Huys      June 19, 1754      July 11, 1754   \n",
       "2      New York          City Hall    October 7, 1765   October 25, 1765   \n",
       "4  Philadelphia   Carpenters' Hall  September 5, 1774   October 26, 1774   \n",
       "6  Philadelphia  Independence Hall       May 10, 1775  December 12, 1776   \n",
       "7     Baltimore   Henry Fite House  December 20, 1776  February 27, 1777   \n",
       "\n",
       "                      Duration   Ref         State  \n",
       "0                      22 days   [8]      New York  \n",
       "2                      23 days   [9]      New York  \n",
       "4          1 month and 21 days  [10]  Pennsylvania  \n",
       "6  1 year, 7 months and 2 days  [11]  Pennsylvania  \n",
       "7          2 months and 7 days  [12]      Maryland  "
      ]
     },
     "execution_count": 7,
     "metadata": {},
     "output_type": "execute_result"
    }
   ],
   "source": [
    "columnsplit = df['City'].str.split(\", \", expand=True)\n",
    "df = df.assign(City=columnsplit[0],State=columnsplit[1])\n",
    "df.head()"
   ]
  },
  {
   "cell_type": "markdown",
   "metadata": {
    "slideshow": {
     "slide_type": "subslide"
    }
   },
   "source": [
    "#### Drop a column"
   ]
  },
  {
   "cell_type": "code",
   "execution_count": 8,
   "metadata": {},
   "outputs": [
    {
     "data": {
      "text/html": [
       "<div>\n",
       "<style scoped>\n",
       "    .dataframe tbody tr th:only-of-type {\n",
       "        vertical-align: middle;\n",
       "    }\n",
       "\n",
       "    .dataframe tbody tr th {\n",
       "        vertical-align: top;\n",
       "    }\n",
       "\n",
       "    .dataframe thead th {\n",
       "        text-align: right;\n",
       "    }\n",
       "</style>\n",
       "<table border=\"1\" class=\"dataframe\">\n",
       "  <thead>\n",
       "    <tr style=\"text-align: right;\">\n",
       "      <th></th>\n",
       "      <th>City</th>\n",
       "      <th>Building</th>\n",
       "      <th>Start Date</th>\n",
       "      <th>End Date</th>\n",
       "      <th>Duration</th>\n",
       "      <th>State</th>\n",
       "    </tr>\n",
       "  </thead>\n",
       "  <tbody>\n",
       "    <tr>\n",
       "      <th>0</th>\n",
       "      <td>Albany</td>\n",
       "      <td>Stadt Huys</td>\n",
       "      <td>June 19, 1754</td>\n",
       "      <td>July 11, 1754</td>\n",
       "      <td>22 days</td>\n",
       "      <td>New York</td>\n",
       "    </tr>\n",
       "    <tr>\n",
       "      <th>2</th>\n",
       "      <td>New York</td>\n",
       "      <td>City Hall</td>\n",
       "      <td>October 7, 1765</td>\n",
       "      <td>October 25, 1765</td>\n",
       "      <td>23 days</td>\n",
       "      <td>New York</td>\n",
       "    </tr>\n",
       "    <tr>\n",
       "      <th>4</th>\n",
       "      <td>Philadelphia</td>\n",
       "      <td>Carpenters' Hall</td>\n",
       "      <td>September 5, 1774</td>\n",
       "      <td>October 26, 1774</td>\n",
       "      <td>1 month and 21 days</td>\n",
       "      <td>Pennsylvania</td>\n",
       "    </tr>\n",
       "    <tr>\n",
       "      <th>6</th>\n",
       "      <td>Philadelphia</td>\n",
       "      <td>Independence Hall</td>\n",
       "      <td>May 10, 1775</td>\n",
       "      <td>December 12, 1776</td>\n",
       "      <td>1 year, 7 months and 2 days</td>\n",
       "      <td>Pennsylvania</td>\n",
       "    </tr>\n",
       "    <tr>\n",
       "      <th>7</th>\n",
       "      <td>Baltimore</td>\n",
       "      <td>Henry Fite House</td>\n",
       "      <td>December 20, 1776</td>\n",
       "      <td>February 27, 1777</td>\n",
       "      <td>2 months and 7 days</td>\n",
       "      <td>Maryland</td>\n",
       "    </tr>\n",
       "  </tbody>\n",
       "</table>\n",
       "</div>"
      ],
      "text/plain": [
       "           City           Building         Start Date           End Date  \\\n",
       "0        Albany         Stadt Huys      June 19, 1754      July 11, 1754   \n",
       "2      New York          City Hall    October 7, 1765   October 25, 1765   \n",
       "4  Philadelphia   Carpenters' Hall  September 5, 1774   October 26, 1774   \n",
       "6  Philadelphia  Independence Hall       May 10, 1775  December 12, 1776   \n",
       "7     Baltimore   Henry Fite House  December 20, 1776  February 27, 1777   \n",
       "\n",
       "                      Duration         State  \n",
       "0                      22 days      New York  \n",
       "2                      23 days      New York  \n",
       "4          1 month and 21 days  Pennsylvania  \n",
       "6  1 year, 7 months and 2 days  Pennsylvania  \n",
       "7          2 months and 7 days      Maryland  "
      ]
     },
     "execution_count": 8,
     "metadata": {},
     "output_type": "execute_result"
    }
   ],
   "source": [
    "df = df.drop(['Ref'], axis=1)\n",
    "df.head()"
   ]
  },
  {
   "cell_type": "markdown",
   "metadata": {},
   "source": [
    "#### Reset an index"
   ]
  },
  {
   "cell_type": "code",
   "execution_count": 9,
   "metadata": {},
   "outputs": [
    {
     "data": {
      "text/html": [
       "<div>\n",
       "<style scoped>\n",
       "    .dataframe tbody tr th:only-of-type {\n",
       "        vertical-align: middle;\n",
       "    }\n",
       "\n",
       "    .dataframe tbody tr th {\n",
       "        vertical-align: top;\n",
       "    }\n",
       "\n",
       "    .dataframe thead th {\n",
       "        text-align: right;\n",
       "    }\n",
       "</style>\n",
       "<table border=\"1\" class=\"dataframe\">\n",
       "  <thead>\n",
       "    <tr style=\"text-align: right;\">\n",
       "      <th></th>\n",
       "      <th>City</th>\n",
       "      <th>Building</th>\n",
       "      <th>Start Date</th>\n",
       "      <th>End Date</th>\n",
       "      <th>Duration</th>\n",
       "      <th>State</th>\n",
       "    </tr>\n",
       "  </thead>\n",
       "  <tbody>\n",
       "    <tr>\n",
       "      <th>0</th>\n",
       "      <td>Albany</td>\n",
       "      <td>Stadt Huys</td>\n",
       "      <td>June 19, 1754</td>\n",
       "      <td>July 11, 1754</td>\n",
       "      <td>22 days</td>\n",
       "      <td>New York</td>\n",
       "    </tr>\n",
       "    <tr>\n",
       "      <th>1</th>\n",
       "      <td>New York</td>\n",
       "      <td>City Hall</td>\n",
       "      <td>October 7, 1765</td>\n",
       "      <td>October 25, 1765</td>\n",
       "      <td>23 days</td>\n",
       "      <td>New York</td>\n",
       "    </tr>\n",
       "    <tr>\n",
       "      <th>2</th>\n",
       "      <td>Philadelphia</td>\n",
       "      <td>Carpenters' Hall</td>\n",
       "      <td>September 5, 1774</td>\n",
       "      <td>October 26, 1774</td>\n",
       "      <td>1 month and 21 days</td>\n",
       "      <td>Pennsylvania</td>\n",
       "    </tr>\n",
       "    <tr>\n",
       "      <th>3</th>\n",
       "      <td>Philadelphia</td>\n",
       "      <td>Independence Hall</td>\n",
       "      <td>May 10, 1775</td>\n",
       "      <td>December 12, 1776</td>\n",
       "      <td>1 year, 7 months and 2 days</td>\n",
       "      <td>Pennsylvania</td>\n",
       "    </tr>\n",
       "    <tr>\n",
       "      <th>4</th>\n",
       "      <td>Baltimore</td>\n",
       "      <td>Henry Fite House</td>\n",
       "      <td>December 20, 1776</td>\n",
       "      <td>February 27, 1777</td>\n",
       "      <td>2 months and 7 days</td>\n",
       "      <td>Maryland</td>\n",
       "    </tr>\n",
       "  </tbody>\n",
       "</table>\n",
       "</div>"
      ],
      "text/plain": [
       "           City           Building         Start Date           End Date  \\\n",
       "0        Albany         Stadt Huys      June 19, 1754      July 11, 1754   \n",
       "1      New York          City Hall    October 7, 1765   October 25, 1765   \n",
       "2  Philadelphia   Carpenters' Hall  September 5, 1774   October 26, 1774   \n",
       "3  Philadelphia  Independence Hall       May 10, 1775  December 12, 1776   \n",
       "4     Baltimore   Henry Fite House  December 20, 1776  February 27, 1777   \n",
       "\n",
       "                      Duration         State  \n",
       "0                      22 days      New York  \n",
       "1                      23 days      New York  \n",
       "2          1 month and 21 days  Pennsylvania  \n",
       "3  1 year, 7 months and 2 days  Pennsylvania  \n",
       "4          2 months and 7 days      Maryland  "
      ]
     },
     "execution_count": 9,
     "metadata": {},
     "output_type": "execute_result"
    }
   ],
   "source": [
    "df = df.reset_index(drop=True)\n",
    "df.head()"
   ]
  },
  {
   "cell_type": "code",
   "execution_count": 10,
   "metadata": {},
   "outputs": [
    {
     "data": {
      "text/html": [
       "<div>\n",
       "<style scoped>\n",
       "    .dataframe tbody tr th:only-of-type {\n",
       "        vertical-align: middle;\n",
       "    }\n",
       "\n",
       "    .dataframe tbody tr th {\n",
       "        vertical-align: top;\n",
       "    }\n",
       "\n",
       "    .dataframe thead th {\n",
       "        text-align: right;\n",
       "    }\n",
       "</style>\n",
       "<table border=\"1\" class=\"dataframe\">\n",
       "  <thead>\n",
       "    <tr style=\"text-align: right;\">\n",
       "      <th></th>\n",
       "      <th>City</th>\n",
       "      <th>Building</th>\n",
       "      <th>Start Date</th>\n",
       "      <th>End Date</th>\n",
       "      <th>Duration</th>\n",
       "      <th>State</th>\n",
       "    </tr>\n",
       "  </thead>\n",
       "  <tbody>\n",
       "    <tr>\n",
       "      <th>0</th>\n",
       "      <td>Albany</td>\n",
       "      <td>Stadt Huys</td>\n",
       "      <td>June 19, 1754</td>\n",
       "      <td>July 11, 1754</td>\n",
       "      <td>22 days</td>\n",
       "      <td>New York</td>\n",
       "    </tr>\n",
       "    <tr>\n",
       "      <th>1</th>\n",
       "      <td>New York</td>\n",
       "      <td>City Hall</td>\n",
       "      <td>October 7, 1765</td>\n",
       "      <td>October 25, 1765</td>\n",
       "      <td>23 days</td>\n",
       "      <td>New York</td>\n",
       "    </tr>\n",
       "    <tr>\n",
       "      <th>13</th>\n",
       "      <td>New York</td>\n",
       "      <td>City Hall</td>\n",
       "      <td>January 11, 1785</td>\n",
       "      <td>October 6, 1788</td>\n",
       "      <td>3 years, 11 months and 5 days</td>\n",
       "      <td>New York</td>\n",
       "    </tr>\n",
       "    <tr>\n",
       "      <th>14</th>\n",
       "      <td>New York</td>\n",
       "      <td>Federal Hall</td>\n",
       "      <td>March 4, 1789</td>\n",
       "      <td>December 5, 1790</td>\n",
       "      <td>1 year, 9 months and 1 day</td>\n",
       "      <td>New York</td>\n",
       "    </tr>\n",
       "  </tbody>\n",
       "</table>\n",
       "</div>"
      ],
      "text/plain": [
       "        City      Building        Start Date          End Date  \\\n",
       "0     Albany    Stadt Huys     June 19, 1754     July 11, 1754   \n",
       "1   New York     City Hall   October 7, 1765  October 25, 1765   \n",
       "13  New York     City Hall  January 11, 1785   October 6, 1788   \n",
       "14  New York  Federal Hall     March 4, 1789  December 5, 1790   \n",
       "\n",
       "                         Duration     State  \n",
       "0                         22 days  New York  \n",
       "1                         23 days  New York  \n",
       "13  3 years, 11 months and 5 days  New York  \n",
       "14     1 year, 9 months and 1 day  New York  "
      ]
     },
     "execution_count": 10,
     "metadata": {},
     "output_type": "execute_result"
    }
   ],
   "source": [
    "df.loc[df.State==\"New York\"]"
   ]
  },
  {
   "cell_type": "markdown",
   "metadata": {
    "slideshow": {
     "slide_type": "slide"
    }
   },
   "source": [
    "## DataFrames as HTML"
   ]
  },
  {
   "cell_type": "markdown",
   "metadata": {
    "slideshow": {
     "slide_type": "subslide"
    }
   },
   "source": [
    "#### Pandas also had a `to_html` method that we can use to generate HTML tables from DataFrames."
   ]
  },
  {
   "cell_type": "code",
   "execution_count": 11,
   "metadata": {
    "scrolled": true,
    "slideshow": {
     "slide_type": "fragment"
    }
   },
   "outputs": [
    {
     "data": {
      "text/plain": [
       "'<table border=\"1\" class=\"dataframe\">\\n  <thead>\\n    <tr style=\"text-align: right;\">\\n      <th></th>\\n      <th>City</th>\\n      <th>Building</th>\\n      <th>Start Date</th>\\n      <th>End Date</th>\\n      <th>Duration</th>\\n      <th>State</th>\\n    </tr>\\n  </thead>\\n  <tbody>\\n    <tr>\\n      <th>0</th>\\n      <td>Albany</td>\\n      <td>Stadt Huys</td>\\n      <td>June 19, 1754</td>\\n      <td>July 11, 1754</td>\\n      <td>22\\xa0days</td>\\n      <td>New York</td>\\n    </tr>\\n    <tr>\\n      <th>1</th>\\n      <td>New York</td>\\n      <td>City Hall</td>\\n      <td>October 7, 1765</td>\\n      <td>October 25, 1765</td>\\n      <td>23\\xa0days</td>\\n      <td>New York</td>\\n    </tr>\\n    <tr>\\n      <th>2</th>\\n      <td>Philadelphia</td>\\n      <td>Carpenters\\' Hall</td>\\n      <td>September 5, 1774</td>\\n      <td>October 26, 1774</td>\\n      <td>1\\xa0month and 21\\xa0days</td>\\n      <td>Pennsylvania</td>\\n    </tr>\\n    <tr>\\n      <th>3</th>\\n      <td>Philadelphia</td>\\n      <td>Independence Hall</td>\\n      <td>May 10, 1775</td>\\n      <td>December 12, 1776</td>\\n      <td>1\\xa0year, 7\\xa0months and 2\\xa0days</td>\\n      <td>Pennsylvania</td>\\n    </tr>\\n    <tr>\\n      <th>4</th>\\n      <td>Baltimore</td>\\n      <td>Henry Fite House</td>\\n      <td>December 20, 1776</td>\\n      <td>February 27, 1777</td>\\n      <td>2\\xa0months and 7\\xa0days</td>\\n      <td>Maryland</td>\\n    </tr>\\n    <tr>\\n      <th>5</th>\\n      <td>Philadelphia</td>\\n      <td>Independence Hall</td>\\n      <td>March 5, 1777</td>\\n      <td>September 18, 1777</td>\\n      <td>6\\xa0months and 13\\xa0days</td>\\n      <td>Pennsylvania</td>\\n    </tr>\\n    <tr>\\n      <th>6</th>\\n      <td>Lancaster</td>\\n      <td>Court House</td>\\n      <td>September 27, 1777</td>\\n      <td>September 27, 1777</td>\\n      <td>1\\xa0day</td>\\n      <td>Pennsylvania</td>\\n    </tr>\\n    <tr>\\n      <th>7</th>\\n      <td>York</td>\\n      <td>Court House</td>\\n      <td>September 30, 1777</td>\\n      <td>June 27, 1778</td>\\n      <td>8\\xa0months and 28\\xa0days</td>\\n      <td>Pennsylvania</td>\\n    </tr>\\n    <tr>\\n      <th>8</th>\\n      <td>Philadelphia</td>\\n      <td>College Hall</td>\\n      <td>July 2, 1778</td>\\n      <td>March 1, 1781</td>\\n      <td>2\\xa0years, 7\\xa0months and 27\\xa0days</td>\\n      <td>Pennsylvania</td>\\n    </tr>\\n    <tr>\\n      <th>9</th>\\n      <td>Philadelphia</td>\\n      <td>Independence Hall</td>\\n      <td>March 2, 1781</td>\\n      <td>June 21, 1783</td>\\n      <td>2\\xa0years, 3\\xa0months and 19\\xa0days</td>\\n      <td>Pennsylvania</td>\\n    </tr>\\n    <tr>\\n      <th>10</th>\\n      <td>Princeton</td>\\n      <td>Nassau Hall</td>\\n      <td>June 30, 1783</td>\\n      <td>November 4, 1783</td>\\n      <td>4\\xa0months and 5\\xa0days</td>\\n      <td>New Jersey</td>\\n    </tr>\\n    <tr>\\n      <th>11</th>\\n      <td>Annapolis</td>\\n      <td>Maryland State House</td>\\n      <td>November 26, 1783</td>\\n      <td>August 19, 1784</td>\\n      <td>8\\xa0months and 24\\xa0days</td>\\n      <td>Maryland</td>\\n    </tr>\\n    <tr>\\n      <th>12</th>\\n      <td>Trenton</td>\\n      <td>French Arms Tavern</td>\\n      <td>November 1, 1784</td>\\n      <td>December 24, 1784</td>\\n      <td>1\\xa0month and 23\\xa0days</td>\\n      <td>New Jersey</td>\\n    </tr>\\n    <tr>\\n      <th>13</th>\\n      <td>New York</td>\\n      <td>City Hall</td>\\n      <td>January 11, 1785</td>\\n      <td>October 6, 1788</td>\\n      <td>3\\xa0years, 11\\xa0months and 5\\xa0days</td>\\n      <td>New York</td>\\n    </tr>\\n    <tr>\\n      <th>14</th>\\n      <td>New York</td>\\n      <td>Federal Hall</td>\\n      <td>March 4, 1789</td>\\n      <td>December 5, 1790</td>\\n      <td>1\\xa0year, 9\\xa0months and 1\\xa0day</td>\\n      <td>New York</td>\\n    </tr>\\n    <tr>\\n      <th>15</th>\\n      <td>Philadelphia</td>\\n      <td>Congress Hall</td>\\n      <td>December 6, 1790</td>\\n      <td>May 14, 1800</td>\\n      <td>9\\xa0years, 5\\xa0months and 8\\xa0days</td>\\n      <td>Pennsylvania</td>\\n    </tr>\\n    <tr>\\n      <th>16</th>\\n      <td>District of Columbia</td>\\n      <td>United States Capitol</td>\\n      <td>November 17, 1800</td>\\n      <td>August 24, 1814</td>\\n      <td>13\\xa0years, 9\\xa0months and 7\\xa0days</td>\\n      <td>None</td>\\n    </tr>\\n    <tr>\\n      <th>17</th>\\n      <td>Washington</td>\\n      <td>Blodgett\\'s Hotel</td>\\n      <td>September 19, 1814</td>\\n      <td>December 7, 1815</td>\\n      <td>1\\xa0year, 2\\xa0months and 18\\xa0days</td>\\n      <td>D.C.</td>\\n    </tr>\\n    <tr>\\n      <th>18</th>\\n      <td>Washington</td>\\n      <td>Old Brick Capitol</td>\\n      <td>December 4, 1815</td>\\n      <td>March 3, 1819</td>\\n      <td>3\\xa0years, 2\\xa0months and 27\\xa0days</td>\\n      <td>D.C.</td>\\n    </tr>\\n    <tr>\\n      <th>19</th>\\n      <td>Washington</td>\\n      <td>United States Capitol</td>\\n      <td>March 4, 1819</td>\\n      <td>present</td>\\n      <td>201\\xa0years, 5\\xa0months and 14\\xa0days</td>\\n      <td>D.C.</td>\\n    </tr>\\n  </tbody>\\n</table>'"
      ]
     },
     "execution_count": 11,
     "metadata": {},
     "output_type": "execute_result"
    }
   ],
   "source": [
    "html_table = df.to_html()\n",
    "html_table"
   ]
  },
  {
   "cell_type": "markdown",
   "metadata": {
    "slideshow": {
     "slide_type": "subslide"
    }
   },
   "source": [
    "#### You may have to strip unwanted newlines to clean up the table."
   ]
  },
  {
   "cell_type": "code",
   "execution_count": 12,
   "metadata": {
    "scrolled": true,
    "slideshow": {
     "slide_type": "fragment"
    }
   },
   "outputs": [
    {
     "data": {
      "text/plain": [
       "'<table border=\"1\" class=\"dataframe\">  <thead>    <tr style=\"text-align: right;\">      <th></th>      <th>City</th>      <th>Building</th>      <th>Start Date</th>      <th>End Date</th>      <th>Duration</th>      <th>State</th>    </tr>  </thead>  <tbody>    <tr>      <th>0</th>      <td>Albany</td>      <td>Stadt Huys</td>      <td>June 19, 1754</td>      <td>July 11, 1754</td>      <td>22\\xa0days</td>      <td>New York</td>    </tr>    <tr>      <th>1</th>      <td>New York</td>      <td>City Hall</td>      <td>October 7, 1765</td>      <td>October 25, 1765</td>      <td>23\\xa0days</td>      <td>New York</td>    </tr>    <tr>      <th>2</th>      <td>Philadelphia</td>      <td>Carpenters\\' Hall</td>      <td>September 5, 1774</td>      <td>October 26, 1774</td>      <td>1\\xa0month and 21\\xa0days</td>      <td>Pennsylvania</td>    </tr>    <tr>      <th>3</th>      <td>Philadelphia</td>      <td>Independence Hall</td>      <td>May 10, 1775</td>      <td>December 12, 1776</td>      <td>1\\xa0year, 7\\xa0months and 2\\xa0days</td>      <td>Pennsylvania</td>    </tr>    <tr>      <th>4</th>      <td>Baltimore</td>      <td>Henry Fite House</td>      <td>December 20, 1776</td>      <td>February 27, 1777</td>      <td>2\\xa0months and 7\\xa0days</td>      <td>Maryland</td>    </tr>    <tr>      <th>5</th>      <td>Philadelphia</td>      <td>Independence Hall</td>      <td>March 5, 1777</td>      <td>September 18, 1777</td>      <td>6\\xa0months and 13\\xa0days</td>      <td>Pennsylvania</td>    </tr>    <tr>      <th>6</th>      <td>Lancaster</td>      <td>Court House</td>      <td>September 27, 1777</td>      <td>September 27, 1777</td>      <td>1\\xa0day</td>      <td>Pennsylvania</td>    </tr>    <tr>      <th>7</th>      <td>York</td>      <td>Court House</td>      <td>September 30, 1777</td>      <td>June 27, 1778</td>      <td>8\\xa0months and 28\\xa0days</td>      <td>Pennsylvania</td>    </tr>    <tr>      <th>8</th>      <td>Philadelphia</td>      <td>College Hall</td>      <td>July 2, 1778</td>      <td>March 1, 1781</td>      <td>2\\xa0years, 7\\xa0months and 27\\xa0days</td>      <td>Pennsylvania</td>    </tr>    <tr>      <th>9</th>      <td>Philadelphia</td>      <td>Independence Hall</td>      <td>March 2, 1781</td>      <td>June 21, 1783</td>      <td>2\\xa0years, 3\\xa0months and 19\\xa0days</td>      <td>Pennsylvania</td>    </tr>    <tr>      <th>10</th>      <td>Princeton</td>      <td>Nassau Hall</td>      <td>June 30, 1783</td>      <td>November 4, 1783</td>      <td>4\\xa0months and 5\\xa0days</td>      <td>New Jersey</td>    </tr>    <tr>      <th>11</th>      <td>Annapolis</td>      <td>Maryland State House</td>      <td>November 26, 1783</td>      <td>August 19, 1784</td>      <td>8\\xa0months and 24\\xa0days</td>      <td>Maryland</td>    </tr>    <tr>      <th>12</th>      <td>Trenton</td>      <td>French Arms Tavern</td>      <td>November 1, 1784</td>      <td>December 24, 1784</td>      <td>1\\xa0month and 23\\xa0days</td>      <td>New Jersey</td>    </tr>    <tr>      <th>13</th>      <td>New York</td>      <td>City Hall</td>      <td>January 11, 1785</td>      <td>October 6, 1788</td>      <td>3\\xa0years, 11\\xa0months and 5\\xa0days</td>      <td>New York</td>    </tr>    <tr>      <th>14</th>      <td>New York</td>      <td>Federal Hall</td>      <td>March 4, 1789</td>      <td>December 5, 1790</td>      <td>1\\xa0year, 9\\xa0months and 1\\xa0day</td>      <td>New York</td>    </tr>    <tr>      <th>15</th>      <td>Philadelphia</td>      <td>Congress Hall</td>      <td>December 6, 1790</td>      <td>May 14, 1800</td>      <td>9\\xa0years, 5\\xa0months and 8\\xa0days</td>      <td>Pennsylvania</td>    </tr>    <tr>      <th>16</th>      <td>District of Columbia</td>      <td>United States Capitol</td>      <td>November 17, 1800</td>      <td>August 24, 1814</td>      <td>13\\xa0years, 9\\xa0months and 7\\xa0days</td>      <td>None</td>    </tr>    <tr>      <th>17</th>      <td>Washington</td>      <td>Blodgett\\'s Hotel</td>      <td>September 19, 1814</td>      <td>December 7, 1815</td>      <td>1\\xa0year, 2\\xa0months and 18\\xa0days</td>      <td>D.C.</td>    </tr>    <tr>      <th>18</th>      <td>Washington</td>      <td>Old Brick Capitol</td>      <td>December 4, 1815</td>      <td>March 3, 1819</td>      <td>3\\xa0years, 2\\xa0months and 27\\xa0days</td>      <td>D.C.</td>    </tr>    <tr>      <th>19</th>      <td>Washington</td>      <td>United States Capitol</td>      <td>March 4, 1819</td>      <td>present</td>      <td>201\\xa0years, 5\\xa0months and 14\\xa0days</td>      <td>D.C.</td>    </tr>  </tbody></table>'"
      ]
     },
     "execution_count": 12,
     "metadata": {},
     "output_type": "execute_result"
    }
   ],
   "source": [
    "html_table.replace('\\n', '')"
   ]
  },
  {
   "cell_type": "markdown",
   "metadata": {
    "slideshow": {
     "slide_type": "subslide"
    }
   },
   "source": [
    "You can also save the table directly to a file."
   ]
  },
  {
   "cell_type": "code",
   "execution_count": 13,
   "metadata": {
    "slideshow": {
     "slide_type": "fragment"
    }
   },
   "outputs": [],
   "source": [
    "df.to_html('table.html')"
   ]
  },
  {
   "cell_type": "code",
   "execution_count": 14,
   "metadata": {
    "slideshow": {
     "slide_type": "fragment"
    }
   },
   "outputs": [],
   "source": [
    "# OSX Users can run this to open the file in a browser, \n",
    "# or you can manually find the file and open it in the browser\n",
    "!open table.html"
   ]
  },
  {
   "cell_type": "code",
   "execution_count": null,
   "metadata": {},
   "outputs": [],
   "source": []
  }
 ],
 "metadata": {
  "kernelspec": {
   "display_name": "Python 3",
   "language": "python",
   "name": "python3"
  },
  "language_info": {
   "codemirror_mode": {
    "name": "ipython",
    "version": 3
   },
   "file_extension": ".py",
   "mimetype": "text/x-python",
   "name": "python",
   "nbconvert_exporter": "python",
   "pygments_lexer": "ipython3",
   "version": "3.7.6"
  },
  "varInspector": {
   "cols": {
    "lenName": 16,
    "lenType": 16,
    "lenVar": 40
   },
   "kernels_config": {
    "python": {
     "delete_cmd_postfix": "",
     "delete_cmd_prefix": "del ",
     "library": "var_list.py",
     "varRefreshCmd": "print(var_dic_list())"
    },
    "r": {
     "delete_cmd_postfix": ") ",
     "delete_cmd_prefix": "rm(",
     "library": "var_list.r",
     "varRefreshCmd": "cat(var_dic_list()) "
    }
   },
   "types_to_exclude": [
    "module",
    "function",
    "builtin_function_or_method",
    "instance",
    "_Feature"
   ],
   "window_display": false
  }
 },
 "nbformat": 4,
 "nbformat_minor": 2
}
