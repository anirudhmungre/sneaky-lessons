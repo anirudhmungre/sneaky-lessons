{
 "cells": [
  {
   "cell_type": "markdown",
   "metadata": {
    "deletable": false,
    "editable": false,
    "nbgrader": {
     "checksum": "80deef871f3dd9885af08c6806d209e7",
     "grade": false,
     "grade_id": "cell-dd2ddeba9033880b",
     "locked": true,
     "schema_version": 1,
     "solution": false
    },
    "slideshow": {
     "slide_type": "slide"
    }
   },
   "source": [
    "# Doctor Decoder\n",
    "\n",
    "Use Pandas scraping to help decode the medical abbreviations that a doctor might use."
   ]
  },
  {
   "cell_type": "code",
   "execution_count": null,
   "metadata": {
    "deletable": false,
    "editable": false,
    "nbgrader": {
     "checksum": "80494e593aea05796f290c7a6a12b613",
     "grade": false,
     "grade_id": "cell-6c50ad7ad28aba2e",
     "locked": true,
     "schema_version": 1,
     "solution": false
    },
    "slideshow": {
     "slide_type": "slide"
    }
   },
   "outputs": [],
   "source": [
    "import pandas as pd"
   ]
  },
  {
   "cell_type": "markdown",
   "metadata": {
    "deletable": false,
    "editable": false,
    "nbgrader": {
     "checksum": "269bf4982930f5d7043b0551d640e23f",
     "grade": false,
     "grade_id": "cell-cb7d2e5f8ff89b71",
     "locked": true,
     "schema_version": 1,
     "solution": false
    }
   },
   "source": [
    "Use Pandas to scrape the following site and decode the medical abbreviations in the list"
   ]
  },
  {
   "cell_type": "code",
   "execution_count": null,
   "metadata": {
    "deletable": false,
    "editable": false,
    "nbgrader": {
     "checksum": "a5c7c51eb9a3c045985f064031976fdf",
     "grade": false,
     "grade_id": "cell-f4f4e6cacd73a092",
     "locked": true,
     "schema_version": 1,
     "solution": false
    },
    "slideshow": {
     "slide_type": "fragment"
    }
   },
   "outputs": [],
   "source": [
    "url = 'https://en.wikipedia.org/wiki/List_of_medical_abbreviations'\n",
    "med_abbreviations = ['BMR', 'BP', 'ECG', 'MRI', 'qid', 'WBC']"
   ]
  },
  {
   "cell_type": "code",
   "execution_count": null,
   "metadata": {
    "deletable": false,
    "nbgrader": {
     "checksum": "61b3b006177ac9242698f1ffacfd23b5",
     "grade": false,
     "grade_id": "cell-a71ede958957992c",
     "locked": false,
     "schema_version": 1,
     "solution": true
    },
    "slideshow": {
     "slide_type": "fragment"
    }
   },
   "outputs": [],
   "source": [
    "# Use Panda's `read_html` to parse the url\n",
    "# YOUR CODE HERE\n"
   ]
  },
  {
   "cell_type": "code",
   "execution_count": null,
   "metadata": {
    "deletable": false,
    "nbgrader": {
     "checksum": "47c040e92f3f18a76bb024054b967f44",
     "grade": false,
     "grade_id": "cell-316da8cb3354a1e2",
     "locked": false,
     "schema_version": 1,
     "solution": true
    },
    "slideshow": {
     "slide_type": "fragment"
    }
   },
   "outputs": [],
   "source": [
    "# Find the medical abbreviations DataFrame in the list of DataFrames as assign it to `df`\n",
    "# Assign the columns `['abb', 'full_name', 'other']`\n",
    "# YOUR CODE HERE\n"
   ]
  },
  {
   "cell_type": "markdown",
   "metadata": {
    "deletable": false,
    "editable": false,
    "nbgrader": {
     "checksum": "6b0c3ac2d9beb595fbe40a6ed6f0caf8",
     "grade": false,
     "grade_id": "cell-20d93171b74375bb",
     "locked": true,
     "schema_version": 1,
     "solution": false
    },
    "slideshow": {
     "slide_type": "subslide"
    }
   },
   "source": [
    "Cleanup of extra row"
   ]
  },
  {
   "cell_type": "code",
   "execution_count": null,
   "metadata": {
    "deletable": false,
    "nbgrader": {
     "checksum": "99dc744627d5133d4bb8a1636f19c738",
     "grade": false,
     "grade_id": "cell-cde33910996decbd",
     "locked": false,
     "schema_version": 1,
     "solution": true
    }
   },
   "outputs": [],
   "source": [
    "# drop the `other` column\n",
    "# YOUR CODE HERE\n"
   ]
  },
  {
   "cell_type": "code",
   "execution_count": null,
   "metadata": {
    "deletable": false,
    "nbgrader": {
     "checksum": "663c0bc4bb208a815c81b13fae7821b0",
     "grade": false,
     "grade_id": "cell-1df09a2e03a3b973",
     "locked": false,
     "schema_version": 1,
     "solution": true
    },
    "slideshow": {
     "slide_type": "fragment"
    }
   },
   "outputs": [],
   "source": [
    "# Drop the first row and set the index to the `abb` column\n",
    "# YOUR CODE HERE\n"
   ]
  },
  {
   "cell_type": "code",
   "execution_count": null,
   "metadata": {
    "deletable": false,
    "nbgrader": {
     "checksum": "4002e5e60e1810a494081a36e7aa9060",
     "grade": false,
     "grade_id": "cell-3e6a547da7c5f934",
     "locked": false,
     "schema_version": 1,
     "solution": true
    }
   },
   "outputs": [],
   "source": [
    "# Loop through the list of medical abbreviations and print the abbreviation\n",
    "# along with the full description.\n",
    "# Use the DataFrame to perform the lookup.\n",
    "# YOUR CODE HERE\n"
   ]
  }
 ],
 "metadata": {
  "kernelspec": {
   "display_name": "Python 3",
   "language": "python",
   "name": "python3"
  },
  "language_info": {
   "codemirror_mode": {
    "name": "ipython",
    "version": 3
   },
   "file_extension": ".py",
   "mimetype": "text/x-python",
   "name": "python",
   "nbconvert_exporter": "python",
   "pygments_lexer": "ipython3",
   "version": "3.6.7"
  }
 },
 "nbformat": 4,
 "nbformat_minor": 2
}
