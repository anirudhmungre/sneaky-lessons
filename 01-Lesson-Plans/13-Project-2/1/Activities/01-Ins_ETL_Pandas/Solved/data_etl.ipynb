{
  "cells": [
    {
      "cell_type": "code",
      "source": [
        "import pandas as pd\n",
        "from sqlalchemy import create_engine"
      ],
      "outputs": [],
      "execution_count": 1,
      "metadata": {}
    },
    {
      "cell_type": "markdown",
      "source": [
        "### Store CSV into DataFrame"
      ],
      "metadata": {
        "slideshow": {
          "slide_type": "-"
        }
      }
    },
    {
      "cell_type": "code",
      "source": [
        "csv_file = \"../Resources/customer_data.csv\"\n",
        "customer_data_df = pd.read_csv(csv_file)\n",
        "customer_data_df.head()"
      ],
      "outputs": [
        {
          "output_type": "execute_result",
          "execution_count": 2,
          "data": {
            "text/html": [
              "<div>\n",
              "<style scoped>\n",
              "    .dataframe tbody tr th:only-of-type {\n",
              "        vertical-align: middle;\n",
              "    }\n",
              "\n",
              "    .dataframe tbody tr th {\n",
              "        vertical-align: top;\n",
              "    }\n",
              "\n",
              "    .dataframe thead th {\n",
              "        text-align: right;\n",
              "    }\n",
              "</style>\n",
              "<table border=\"1\" class=\"dataframe\">\n",
              "  <thead>\n",
              "    <tr style=\"text-align: right;\">\n",
              "      <th></th>\n",
              "      <th>id</th>\n",
              "      <th>first_name</th>\n",
              "      <th>last_name</th>\n",
              "      <th>email</th>\n",
              "      <th>gender</th>\n",
              "      <th>car</th>\n",
              "    </tr>\n",
              "  </thead>\n",
              "  <tbody>\n",
              "    <tr>\n",
              "      <th>0</th>\n",
              "      <td>1</td>\n",
              "      <td>Benetta</td>\n",
              "      <td>Cancott</td>\n",
              "      <td>bcancott0@studiopress.com</td>\n",
              "      <td>Female</td>\n",
              "      <td>Scion</td>\n",
              "    </tr>\n",
              "    <tr>\n",
              "      <th>1</th>\n",
              "      <td>2</td>\n",
              "      <td>Lilyan</td>\n",
              "      <td>Cherry</td>\n",
              "      <td>lcherry1@deliciousdays.com</td>\n",
              "      <td>Female</td>\n",
              "      <td>Chrysler</td>\n",
              "    </tr>\n",
              "    <tr>\n",
              "      <th>2</th>\n",
              "      <td>3</td>\n",
              "      <td>Ezekiel</td>\n",
              "      <td>Benasik</td>\n",
              "      <td>ebenasik2@wikia.com</td>\n",
              "      <td>Male</td>\n",
              "      <td>Mercedes-Benz</td>\n",
              "    </tr>\n",
              "    <tr>\n",
              "      <th>3</th>\n",
              "      <td>4</td>\n",
              "      <td>Kennedy</td>\n",
              "      <td>Atlay</td>\n",
              "      <td>katlay3@so-net.ne.jp</td>\n",
              "      <td>Male</td>\n",
              "      <td>Buick</td>\n",
              "    </tr>\n",
              "    <tr>\n",
              "      <th>4</th>\n",
              "      <td>5</td>\n",
              "      <td>Sanford</td>\n",
              "      <td>Salmen</td>\n",
              "      <td>ssalmen4@reuters.com</td>\n",
              "      <td>Male</td>\n",
              "      <td>Lincoln</td>\n",
              "    </tr>\n",
              "  </tbody>\n",
              "</table>\n",
              "</div>"
            ],
            "text/plain": [
              "   id first_name last_name                       email  gender            car\n",
              "0   1    Benetta   Cancott   bcancott0@studiopress.com  Female          Scion\n",
              "1   2     Lilyan    Cherry  lcherry1@deliciousdays.com  Female       Chrysler\n",
              "2   3    Ezekiel   Benasik         ebenasik2@wikia.com    Male  Mercedes-Benz\n",
              "3   4    Kennedy     Atlay        katlay3@so-net.ne.jp    Male          Buick\n",
              "4   5    Sanford    Salmen        ssalmen4@reuters.com    Male        Lincoln"
            ]
          },
          "metadata": {}
        }
      ],
      "execution_count": 2,
      "metadata": {}
    },
    {
      "cell_type": "markdown",
      "source": [
        "### Create new data with select columns"
      ],
      "metadata": {}
    },
    {
      "cell_type": "code",
      "source": [
        "new_customer_data_df = customer_data_df[['id', 'first_name', 'last_name']].copy()\n",
        "new_customer_data_df.head()"
      ],
      "outputs": [
        {
          "output_type": "execute_result",
          "execution_count": 3,
          "data": {
            "text/html": [
              "<div>\n",
              "<style scoped>\n",
              "    .dataframe tbody tr th:only-of-type {\n",
              "        vertical-align: middle;\n",
              "    }\n",
              "\n",
              "    .dataframe tbody tr th {\n",
              "        vertical-align: top;\n",
              "    }\n",
              "\n",
              "    .dataframe thead th {\n",
              "        text-align: right;\n",
              "    }\n",
              "</style>\n",
              "<table border=\"1\" class=\"dataframe\">\n",
              "  <thead>\n",
              "    <tr style=\"text-align: right;\">\n",
              "      <th></th>\n",
              "      <th>id</th>\n",
              "      <th>first_name</th>\n",
              "      <th>last_name</th>\n",
              "    </tr>\n",
              "  </thead>\n",
              "  <tbody>\n",
              "    <tr>\n",
              "      <th>0</th>\n",
              "      <td>1</td>\n",
              "      <td>Benetta</td>\n",
              "      <td>Cancott</td>\n",
              "    </tr>\n",
              "    <tr>\n",
              "      <th>1</th>\n",
              "      <td>2</td>\n",
              "      <td>Lilyan</td>\n",
              "      <td>Cherry</td>\n",
              "    </tr>\n",
              "    <tr>\n",
              "      <th>2</th>\n",
              "      <td>3</td>\n",
              "      <td>Ezekiel</td>\n",
              "      <td>Benasik</td>\n",
              "    </tr>\n",
              "    <tr>\n",
              "      <th>3</th>\n",
              "      <td>4</td>\n",
              "      <td>Kennedy</td>\n",
              "      <td>Atlay</td>\n",
              "    </tr>\n",
              "    <tr>\n",
              "      <th>4</th>\n",
              "      <td>5</td>\n",
              "      <td>Sanford</td>\n",
              "      <td>Salmen</td>\n",
              "    </tr>\n",
              "  </tbody>\n",
              "</table>\n",
              "</div>"
            ],
            "text/plain": [
              "   id first_name last_name\n",
              "0   1    Benetta   Cancott\n",
              "1   2     Lilyan    Cherry\n",
              "2   3    Ezekiel   Benasik\n",
              "3   4    Kennedy     Atlay\n",
              "4   5    Sanford    Salmen"
            ]
          },
          "metadata": {}
        }
      ],
      "execution_count": 3,
      "metadata": {}
    },
    {
      "cell_type": "markdown",
      "source": [
        "### Store JSON data into a DataFrame"
      ],
      "metadata": {}
    },
    {
      "cell_type": "code",
      "source": [
        "json_file = \"../Resources/customer_location.json\"\n",
        "customer_location_df = pd.read_json(json_file)\n",
        "customer_location_df.head()"
      ],
      "outputs": [
        {
          "output_type": "execute_result",
          "execution_count": 4,
          "data": {
            "text/html": [
              "<div>\n",
              "<style scoped>\n",
              "    .dataframe tbody tr th:only-of-type {\n",
              "        vertical-align: middle;\n",
              "    }\n",
              "\n",
              "    .dataframe tbody tr th {\n",
              "        vertical-align: top;\n",
              "    }\n",
              "\n",
              "    .dataframe thead th {\n",
              "        text-align: right;\n",
              "    }\n",
              "</style>\n",
              "<table border=\"1\" class=\"dataframe\">\n",
              "  <thead>\n",
              "    <tr style=\"text-align: right;\">\n",
              "      <th></th>\n",
              "      <th>address</th>\n",
              "      <th>id</th>\n",
              "      <th>latitude</th>\n",
              "      <th>longitude</th>\n",
              "      <th>us_state</th>\n",
              "    </tr>\n",
              "  </thead>\n",
              "  <tbody>\n",
              "    <tr>\n",
              "      <th>0</th>\n",
              "      <td>043 Mockingbird Place</td>\n",
              "      <td>1</td>\n",
              "      <td>39.1682</td>\n",
              "      <td>-86.5186</td>\n",
              "      <td>Indiana</td>\n",
              "    </tr>\n",
              "    <tr>\n",
              "      <th>1</th>\n",
              "      <td>4 Prentice Point</td>\n",
              "      <td>2</td>\n",
              "      <td>41.0938</td>\n",
              "      <td>-85.0707</td>\n",
              "      <td>Indiana</td>\n",
              "    </tr>\n",
              "    <tr>\n",
              "      <th>2</th>\n",
              "      <td>46 Derek Junction</td>\n",
              "      <td>3</td>\n",
              "      <td>32.7673</td>\n",
              "      <td>-96.7776</td>\n",
              "      <td>Texas</td>\n",
              "    </tr>\n",
              "    <tr>\n",
              "      <th>3</th>\n",
              "      <td>11966 Old Shore Place</td>\n",
              "      <td>4</td>\n",
              "      <td>39.0350</td>\n",
              "      <td>-94.3567</td>\n",
              "      <td>Missouri</td>\n",
              "    </tr>\n",
              "    <tr>\n",
              "      <th>4</th>\n",
              "      <td>5 Evergreen Circle</td>\n",
              "      <td>5</td>\n",
              "      <td>40.7808</td>\n",
              "      <td>-73.9772</td>\n",
              "      <td>New York</td>\n",
              "    </tr>\n",
              "  </tbody>\n",
              "</table>\n",
              "</div>"
            ],
            "text/plain": [
              "                 address  id  latitude  longitude  us_state\n",
              "0  043 Mockingbird Place   1   39.1682   -86.5186   Indiana\n",
              "1       4 Prentice Point   2   41.0938   -85.0707   Indiana\n",
              "2      46 Derek Junction   3   32.7673   -96.7776     Texas\n",
              "3  11966 Old Shore Place   4   39.0350   -94.3567  Missouri\n",
              "4     5 Evergreen Circle   5   40.7808   -73.9772  New York"
            ]
          },
          "metadata": {}
        }
      ],
      "execution_count": 4,
      "metadata": {}
    },
    {
      "cell_type": "markdown",
      "source": [
        "### Clean DataFrame"
      ],
      "metadata": {}
    },
    {
      "cell_type": "code",
      "source": [
        "new_customer_location_df = customer_location_df[[\"id\", \"address\", \"us_state\"]].copy()\n",
        "new_customer_location_df.head()"
      ],
      "outputs": [
        {
          "output_type": "execute_result",
          "execution_count": 5,
          "data": {
            "text/html": [
              "<div>\n",
              "<style scoped>\n",
              "    .dataframe tbody tr th:only-of-type {\n",
              "        vertical-align: middle;\n",
              "    }\n",
              "\n",
              "    .dataframe tbody tr th {\n",
              "        vertical-align: top;\n",
              "    }\n",
              "\n",
              "    .dataframe thead th {\n",
              "        text-align: right;\n",
              "    }\n",
              "</style>\n",
              "<table border=\"1\" class=\"dataframe\">\n",
              "  <thead>\n",
              "    <tr style=\"text-align: right;\">\n",
              "      <th></th>\n",
              "      <th>id</th>\n",
              "      <th>address</th>\n",
              "      <th>us_state</th>\n",
              "    </tr>\n",
              "  </thead>\n",
              "  <tbody>\n",
              "    <tr>\n",
              "      <th>0</th>\n",
              "      <td>1</td>\n",
              "      <td>043 Mockingbird Place</td>\n",
              "      <td>Indiana</td>\n",
              "    </tr>\n",
              "    <tr>\n",
              "      <th>1</th>\n",
              "      <td>2</td>\n",
              "      <td>4 Prentice Point</td>\n",
              "      <td>Indiana</td>\n",
              "    </tr>\n",
              "    <tr>\n",
              "      <th>2</th>\n",
              "      <td>3</td>\n",
              "      <td>46 Derek Junction</td>\n",
              "      <td>Texas</td>\n",
              "    </tr>\n",
              "    <tr>\n",
              "      <th>3</th>\n",
              "      <td>4</td>\n",
              "      <td>11966 Old Shore Place</td>\n",
              "      <td>Missouri</td>\n",
              "    </tr>\n",
              "    <tr>\n",
              "      <th>4</th>\n",
              "      <td>5</td>\n",
              "      <td>5 Evergreen Circle</td>\n",
              "      <td>New York</td>\n",
              "    </tr>\n",
              "  </tbody>\n",
              "</table>\n",
              "</div>"
            ],
            "text/plain": [
              "   id                address  us_state\n",
              "0   1  043 Mockingbird Place   Indiana\n",
              "1   2       4 Prentice Point   Indiana\n",
              "2   3      46 Derek Junction     Texas\n",
              "3   4  11966 Old Shore Place  Missouri\n",
              "4   5     5 Evergreen Circle  New York"
            ]
          },
          "metadata": {}
        }
      ],
      "execution_count": 5,
      "metadata": {}
    },
    {
      "cell_type": "markdown",
      "source": [
        "### Connect to local database"
      ],
      "metadata": {}
    },
    {
      "cell_type": "code",
      "source": [
        "rds_connection_string = \"<insert user name>:<insert password>@localhost:5432/customer_db\"\n",
        "engine = create_engine(f'postgresql://{rds_connection_string}')"
      ],
      "outputs": [],
      "execution_count": 6,
      "metadata": {}
    },
    {
      "cell_type": "markdown",
      "source": [
        "### Check for tables"
      ],
      "metadata": {}
    },
    {
      "cell_type": "code",
      "source": [
        "engine.table_names()"
      ],
      "outputs": [
        {
          "output_type": "execute_result",
          "execution_count": 7,
          "data": {
            "text/plain": [
              "['customer_location', 'customer_name']"
            ]
          },
          "metadata": {}
        }
      ],
      "execution_count": 7,
      "metadata": {}
    },
    {
      "cell_type": "markdown",
      "source": [
        "### Use pandas to load csv converted DataFrame into database"
      ],
      "metadata": {}
    },
    {
      "cell_type": "code",
      "source": [
        "new_customer_data_df.to_sql(name='customer_name', con=engine, if_exists='append', index=False)"
      ],
      "outputs": [],
      "execution_count": 8,
      "metadata": {}
    },
    {
      "cell_type": "markdown",
      "source": [
        "### Use pandas to load json converted DataFrame into database"
      ],
      "metadata": {}
    },
    {
      "cell_type": "code",
      "source": [
        "new_customer_location_df.to_sql(name='customer_location', con=engine, if_exists='append', index=False)"
      ],
      "outputs": [],
      "execution_count": 9,
      "metadata": {}
    },
    {
      "cell_type": "markdown",
      "source": [
        "### Confirm data has been added by querying the customer_name table\n",
        "* NOTE: can also check using pgAdmin"
      ],
      "metadata": {}
    },
    {
      "cell_type": "code",
      "source": [
        "pd.read_sql_query('select * from customer_name', con=engine).head()"
      ],
      "outputs": [
        {
          "output_type": "execute_result",
          "execution_count": 10,
          "data": {
            "text/html": [
              "<div>\n",
              "<style scoped>\n",
              "    .dataframe tbody tr th:only-of-type {\n",
              "        vertical-align: middle;\n",
              "    }\n",
              "\n",
              "    .dataframe tbody tr th {\n",
              "        vertical-align: top;\n",
              "    }\n",
              "\n",
              "    .dataframe thead th {\n",
              "        text-align: right;\n",
              "    }\n",
              "</style>\n",
              "<table border=\"1\" class=\"dataframe\">\n",
              "  <thead>\n",
              "    <tr style=\"text-align: right;\">\n",
              "      <th></th>\n",
              "      <th>id</th>\n",
              "      <th>first_name</th>\n",
              "      <th>last_name</th>\n",
              "    </tr>\n",
              "  </thead>\n",
              "  <tbody>\n",
              "    <tr>\n",
              "      <th>0</th>\n",
              "      <td>1</td>\n",
              "      <td>Benetta</td>\n",
              "      <td>Cancott</td>\n",
              "    </tr>\n",
              "    <tr>\n",
              "      <th>1</th>\n",
              "      <td>2</td>\n",
              "      <td>Lilyan</td>\n",
              "      <td>Cherry</td>\n",
              "    </tr>\n",
              "    <tr>\n",
              "      <th>2</th>\n",
              "      <td>3</td>\n",
              "      <td>Ezekiel</td>\n",
              "      <td>Benasik</td>\n",
              "    </tr>\n",
              "    <tr>\n",
              "      <th>3</th>\n",
              "      <td>4</td>\n",
              "      <td>Kennedy</td>\n",
              "      <td>Atlay</td>\n",
              "    </tr>\n",
              "    <tr>\n",
              "      <th>4</th>\n",
              "      <td>5</td>\n",
              "      <td>Sanford</td>\n",
              "      <td>Salmen</td>\n",
              "    </tr>\n",
              "  </tbody>\n",
              "</table>\n",
              "</div>"
            ],
            "text/plain": [
              "   id first_name last_name\n",
              "0   1    Benetta   Cancott\n",
              "1   2     Lilyan    Cherry\n",
              "2   3    Ezekiel   Benasik\n",
              "3   4    Kennedy     Atlay\n",
              "4   5    Sanford    Salmen"
            ]
          },
          "metadata": {}
        }
      ],
      "execution_count": 10,
      "metadata": {}
    },
    {
      "cell_type": "markdown",
      "source": [
        "### Confirm data has been added by querying the customer_location table"
      ],
      "metadata": {}
    },
    {
      "cell_type": "code",
      "source": [
        "pd.read_sql_query('select * from customer_location', con=engine).head()"
      ],
      "outputs": [
        {
          "output_type": "execute_result",
          "execution_count": 11,
          "data": {
            "text/html": [
              "<div>\n",
              "<style scoped>\n",
              "    .dataframe tbody tr th:only-of-type {\n",
              "        vertical-align: middle;\n",
              "    }\n",
              "\n",
              "    .dataframe tbody tr th {\n",
              "        vertical-align: top;\n",
              "    }\n",
              "\n",
              "    .dataframe thead th {\n",
              "        text-align: right;\n",
              "    }\n",
              "</style>\n",
              "<table border=\"1\" class=\"dataframe\">\n",
              "  <thead>\n",
              "    <tr style=\"text-align: right;\">\n",
              "      <th></th>\n",
              "      <th>id</th>\n",
              "      <th>address</th>\n",
              "      <th>us_state</th>\n",
              "    </tr>\n",
              "  </thead>\n",
              "  <tbody>\n",
              "    <tr>\n",
              "      <th>0</th>\n",
              "      <td>1</td>\n",
              "      <td>043 Mockingbird Place</td>\n",
              "      <td>Indiana</td>\n",
              "    </tr>\n",
              "    <tr>\n",
              "      <th>1</th>\n",
              "      <td>2</td>\n",
              "      <td>4 Prentice Point</td>\n",
              "      <td>Indiana</td>\n",
              "    </tr>\n",
              "    <tr>\n",
              "      <th>2</th>\n",
              "      <td>3</td>\n",
              "      <td>46 Derek Junction</td>\n",
              "      <td>Texas</td>\n",
              "    </tr>\n",
              "    <tr>\n",
              "      <th>3</th>\n",
              "      <td>4</td>\n",
              "      <td>11966 Old Shore Place</td>\n",
              "      <td>Missouri</td>\n",
              "    </tr>\n",
              "    <tr>\n",
              "      <th>4</th>\n",
              "      <td>5</td>\n",
              "      <td>5 Evergreen Circle</td>\n",
              "      <td>New York</td>\n",
              "    </tr>\n",
              "  </tbody>\n",
              "</table>\n",
              "</div>"
            ],
            "text/plain": [
              "   id                address  us_state\n",
              "0   1  043 Mockingbird Place   Indiana\n",
              "1   2       4 Prentice Point   Indiana\n",
              "2   3      46 Derek Junction     Texas\n",
              "3   4  11966 Old Shore Place  Missouri\n",
              "4   5     5 Evergreen Circle  New York"
            ]
          },
          "metadata": {}
        }
      ],
      "execution_count": 11,
      "metadata": {}
    },
    {
      "cell_type": "code",
      "source": [],
      "outputs": [],
      "execution_count": null,
      "metadata": {}
    }
  ],
  "metadata": {
    "kernelspec": {
      "display_name": "pydev",
      "language": "python",
      "name": "pydev"
    },
    "language_info": {
      "codemirror_mode": {
        "name": "ipython",
        "version": 3
      },
      "file_extension": ".py",
      "mimetype": "text/x-python",
      "name": "python",
      "nbconvert_exporter": "python",
      "pygments_lexer": "ipython3",
      "version": "3.6.4"
    },
    "nteract": {
      "version": "0.12.3"
    }
  },
  "nbformat": 4,
  "nbformat_minor": 2
}