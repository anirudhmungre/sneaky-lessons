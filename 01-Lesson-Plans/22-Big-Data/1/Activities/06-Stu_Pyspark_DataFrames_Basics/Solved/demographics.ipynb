{
 "cells": [
  {
   "cell_type": "code",
   "execution_count": null,
   "metadata": {
    "colab": {},
    "colab_type": "code",
    "id": "XTc61chZZy5F"
   },
   "outputs": [],
   "source": [
    "import os\n",
    "# Find the latest version of spark 3.0  from http://www.apache.org/dist/spark/ and enter as the spark version\n",
    "# For example:\n",
    "# spark_version = 'spark-3.0.3'\n",
    "spark_version = 'spark-3.<enter version>'\n",
    "os.environ['SPARK_VERSION']=spark_version\n",
    "\n",
    "# Install Spark and Java\n",
    "!apt-get update\n",
    "!apt-get install openjdk-8-jdk-headless -qq > /dev/null\n",
    "!wget -q http://www.apache.org/dist/spark/$SPARK_VERSION/$SPARK_VERSION-bin-hadoop2.7.tgz\n",
    "!tar xf $SPARK_VERSION-bin-hadoop2.7.tgz\n",
    "!pip install -q findspark\n",
    "\n",
    "# Set Environment Variables\n",
    "os.environ[\"JAVA_HOME\"] = \"/usr/lib/jvm/java-8-openjdk-amd64\"\n",
    "os.environ[\"SPARK_HOME\"] = f\"/content/{spark_version}-bin-hadoop2.7\"\n",
    "\n",
    "# Start a SparkSession\n",
    "import findspark\n",
    "findspark.init()"
   ]
  },
  {
   "cell_type": "code",
   "execution_count": null,
   "metadata": {
    "colab": {},
    "colab_type": "code",
    "id": "fz9FFdrHB6TO"
   },
   "outputs": [],
   "source": [
    "# Start Spark session\n",
    "from pyspark.sql import SparkSession\n",
    "spark = SparkSession.builder.appName(\"Demographics\").getOrCreate()"
   ]
  },
  {
   "cell_type": "code",
   "execution_count": 3,
   "metadata": {
    "colab": {
     "base_uri": "https://localhost:8080/",
     "height": 469
    },
    "colab_type": "code",
    "id": "fJ8AzEZdZvuX",
    "outputId": "63543c65-ff94-4b50-fdf1-c101d172619a"
   },
   "outputs": [
    {
     "name": "stdout",
     "output_type": "stream",
     "text": [
      "+---+--------------------+---+------------+---------+--------+------------------+---------------+------+-------------+\n",
      "| id|                name|age|height_meter|weight_kg|children|        occupation|academic_degree|salary|     location|\n",
      "+---+--------------------+---+------------+---------+--------+------------------+---------------+------+-------------+\n",
      "|  0|       Darlena Avila| 58|        1.87|       53|       1|     Choreographer|            PhD|    68| South Dakota|\n",
      "|  1|            Yan Boyd| 65|         1.8|       40|       0|         Cellarman|       Bachelor|    73|     Delaware|\n",
      "|  2|         Joette Lane| 32|         1.8|       73|       1|Veterinary Surgeon|         Master|    69| South Dakota|\n",
      "|  3|        Jazmine Hunt| 61|        1.79|       89|       0|            Hawker|            PhD|    88|    Louisiana|\n",
      "|  4|      Remedios Gomez| 23|        1.64|       51|       2|     Choreographer|       Bachelor|    83|West Virginia|\n",
      "|  5|        Myung Brewer| 20|        1.68|       60|       4|    Window Dresser|       Bachelor|    65| South Dakota|\n",
      "|  6|         Shaun Lynch| 31|        1.56|       62|       0|            Weaver|         Master|    72|    Louisiana|\n",
      "|  7|     Melodi Mcdowell| 56|         1.6|       42|       0| Lighthouse Keeper|         Master|    65|    Louisiana|\n",
      "|  8|Charlesetta Steve...| 30|        1.62|       44|       3|        Millwright|         Master|    87|    Louisiana|\n",
      "|  9|       Merri Charles| 44|        1.69|       51|       5|  Medical Supplier|            PhD|    72|West Virginia|\n",
      "| 10|        Cassi Meyers| 55|        1.82|       72|       5|        Manicurist|       Bachelor|    73| South Dakota|\n",
      "| 11|      Shawnee Harmon| 66|        1.63|       78|       5| Medical Physicist|            PhD|    90|     Delaware|\n",
      "| 12|       Lyndia Spears| 62|        1.88|       41|       1|         Assistant|         Master|    78|       Alaska|\n",
      "| 13|          Page Evans| 35|        1.53|       74|       5|         Paramedic|       Bachelor|    69|     Delaware|\n",
      "| 14|        Telma Hebert| 66|        1.94|       79|       3|       Genealogist|         Master|    75| South Dakota|\n",
      "| 15|      Edelmira Drake| 23|        1.87|       72|       2|           Servant|            PhD|    77| South Dakota|\n",
      "| 16|       Oscar Guthrie| 40|        1.61|       46|       4| Technical Liaison|       Bachelor|    76|    Louisiana|\n",
      "| 17|   Bernardina Strong| 34|        1.55|       78|       1|         Scientist|            PhD|    90| South Dakota|\n",
      "| 18|        Caprice Hart| 64|        1.69|       67|       4|   Market Research|            PhD|    79|    Louisiana|\n",
      "| 19|         Alleen Pace| 25|        1.86|       81|       4|  Medical Supplier|            PhD|    77| South Dakota|\n",
      "+---+--------------------+---+------------+---------+--------+------------------+---------------+------+-------------+\n",
      "only showing top 20 rows\n",
      "\n"
     ]
    }
   ],
   "source": [
    "# Read in data from S3 Buckets\n",
    "from pyspark import SparkFiles\n",
    "url = \"https://s3.amazonaws.com/dataviz-curriculum/day_1/demographics.csv\"\n",
    "spark.sparkContext.addFile(url)\n",
    "df = spark.read.csv(SparkFiles.get(\"demographics.csv\"), sep=\",\", header=True)\n",
    "\n",
    "# Show DataFrame\n",
    "df.show()"
   ]
  },
  {
   "cell_type": "code",
   "execution_count": 4,
   "metadata": {
    "colab": {
     "base_uri": "https://localhost:8080/",
     "height": 191
    },
    "colab_type": "code",
    "id": "HZFco7ARZvuf",
    "outputId": "8a960603-bcd1-4bdc-ed78-baf04778142b"
   },
   "outputs": [
    {
     "data": {
      "text/plain": [
       "['id',\n",
       " 'name',\n",
       " 'age',\n",
       " 'height_meter',\n",
       " 'weight_kg',\n",
       " 'children',\n",
       " 'occupation',\n",
       " 'academic_degree',\n",
       " 'salary',\n",
       " 'location']"
      ]
     },
     "execution_count": 4,
     "metadata": {
      "tags": []
     },
     "output_type": "execute_result"
    }
   ],
   "source": [
    "# Print the column names\n",
    "df.columns"
   ]
  },
  {
   "cell_type": "code",
   "execution_count": 5,
   "metadata": {
    "colab": {
     "base_uri": "https://localhost:8080/",
     "height": 295
    },
    "colab_type": "code",
    "id": "wdj33caiZvuj",
    "outputId": "7a7e1de6-c538-4e82-f840-970a96ded3d5"
   },
   "outputs": [
    {
     "name": "stdout",
     "output_type": "stream",
     "text": [
      "+---+--------------------+---+------------+---------+--------+------------------+---------------+------+-------------+\n",
      "| id|                name|age|height_meter|weight_kg|children|        occupation|academic_degree|salary|     location|\n",
      "+---+--------------------+---+------------+---------+--------+------------------+---------------+------+-------------+\n",
      "|  0|       Darlena Avila| 58|        1.87|       53|       1|     Choreographer|            PhD|    68| South Dakota|\n",
      "|  1|            Yan Boyd| 65|         1.8|       40|       0|         Cellarman|       Bachelor|    73|     Delaware|\n",
      "|  2|         Joette Lane| 32|         1.8|       73|       1|Veterinary Surgeon|         Master|    69| South Dakota|\n",
      "|  3|        Jazmine Hunt| 61|        1.79|       89|       0|            Hawker|            PhD|    88|    Louisiana|\n",
      "|  4|      Remedios Gomez| 23|        1.64|       51|       2|     Choreographer|       Bachelor|    83|West Virginia|\n",
      "|  5|        Myung Brewer| 20|        1.68|       60|       4|    Window Dresser|       Bachelor|    65| South Dakota|\n",
      "|  6|         Shaun Lynch| 31|        1.56|       62|       0|            Weaver|         Master|    72|    Louisiana|\n",
      "|  7|     Melodi Mcdowell| 56|         1.6|       42|       0| Lighthouse Keeper|         Master|    65|    Louisiana|\n",
      "|  8|Charlesetta Steve...| 30|        1.62|       44|       3|        Millwright|         Master|    87|    Louisiana|\n",
      "|  9|       Merri Charles| 44|        1.69|       51|       5|  Medical Supplier|            PhD|    72|West Virginia|\n",
      "+---+--------------------+---+------------+---------+--------+------------------+---------------+------+-------------+\n",
      "only showing top 10 rows\n",
      "\n"
     ]
    }
   ],
   "source": [
    "# Print out the first 10 rows\n",
    "df.show(10)"
   ]
  },
  {
   "cell_type": "code",
   "execution_count": 6,
   "metadata": {
    "colab": {
     "base_uri": "https://localhost:8080/",
     "height": 191
    },
    "colab_type": "code",
    "id": "CifAfVSzZvun",
    "outputId": "49ee95f6-2d0b-4e10-e864-c234b9acd68d"
   },
   "outputs": [
    {
     "name": "stdout",
     "output_type": "stream",
     "text": [
      "+-------+------------------+------------------+------------------+\n",
      "|summary|               age|      height_meter|         weight_kg|\n",
      "+-------+------------------+------------------+------------------+\n",
      "|  count|              1000|              1000|              1000|\n",
      "|   mean|            42.933|1.7519499999999995|            64.011|\n",
      "| stddev|14.255445581556843|0.1436897499623555|15.005733939099779|\n",
      "|    min|                18|               1.5|                38|\n",
      "|    max|                67|                 2|                90|\n",
      "+-------+------------------+------------------+------------------+\n",
      "\n"
     ]
    }
   ],
   "source": [
    "# Select the age, height_meter, and weight_kg columns and use describe to show the summary statistics\n",
    "df.select([\"age\", \"height_meter\", \"weight_kg\"]).describe().show()"
   ]
  },
  {
   "cell_type": "code",
   "execution_count": 7,
   "metadata": {
    "colab": {
     "base_uri": "https://localhost:8080/",
     "height": 225
    },
    "colab_type": "code",
    "id": "KHyNTIS7Zvur",
    "outputId": "8326f077-b6c5-498f-a0f1-7b7d5c5d9b3a"
   },
   "outputs": [
    {
     "name": "stdout",
     "output_type": "stream",
     "text": [
      "root\n",
      " |-- id: string (nullable = true)\n",
      " |-- name: string (nullable = true)\n",
      " |-- age: string (nullable = true)\n",
      " |-- height_meter: string (nullable = true)\n",
      " |-- weight_kg: string (nullable = true)\n",
      " |-- children: string (nullable = true)\n",
      " |-- occupation: string (nullable = true)\n",
      " |-- academic_degree: string (nullable = true)\n",
      " |-- salary: string (nullable = true)\n",
      " |-- location: string (nullable = true)\n",
      "\n"
     ]
    }
   ],
   "source": [
    "# Print the schema to see the types\n",
    "df.printSchema()"
   ]
  },
  {
   "cell_type": "code",
   "execution_count": 8,
   "metadata": {
    "colab": {
     "base_uri": "https://localhost:8080/",
     "height": 469
    },
    "colab_type": "code",
    "id": "VAmRujSRZvuv",
    "outputId": "fb5a47a6-997e-4998-a482-e1613185207a"
   },
   "outputs": [
    {
     "name": "stdout",
     "output_type": "stream",
     "text": [
      "+-----------+\n",
      "|Salary (1k)|\n",
      "+-----------+\n",
      "|         68|\n",
      "|         73|\n",
      "|         69|\n",
      "|         88|\n",
      "|         83|\n",
      "|         65|\n",
      "|         72|\n",
      "|         65|\n",
      "|         87|\n",
      "|         72|\n",
      "|         73|\n",
      "|         90|\n",
      "|         78|\n",
      "|         69|\n",
      "|         75|\n",
      "|         77|\n",
      "|         76|\n",
      "|         90|\n",
      "|         79|\n",
      "|         77|\n",
      "+-----------+\n",
      "only showing top 20 rows\n",
      "\n"
     ]
    }
   ],
   "source": [
    "# Rename the Salary column to `Salary (1k)` and show only this new column\n",
    "df = df.withColumnRenamed('Salary', 'Salary (1k)')\n",
    "df.select(\"Salary (1k)\").show()"
   ]
  },
  {
   "cell_type": "code",
   "execution_count": 9,
   "metadata": {
    "colab": {
     "base_uri": "https://localhost:8080/",
     "height": 469
    },
    "colab_type": "code",
    "id": "VYoi9OvwZvu0",
    "outputId": "6fba9b0c-50c2-40f9-c2dc-8c0328311d86"
   },
   "outputs": [
    {
     "name": "stdout",
     "output_type": "stream",
     "text": [
      "+-------+-----------+\n",
      "| Salary|Salary (1k)|\n",
      "+-------+-----------+\n",
      "|68000.0|         68|\n",
      "|73000.0|         73|\n",
      "|69000.0|         69|\n",
      "|88000.0|         88|\n",
      "|83000.0|         83|\n",
      "|65000.0|         65|\n",
      "|72000.0|         72|\n",
      "|65000.0|         65|\n",
      "|87000.0|         87|\n",
      "|72000.0|         72|\n",
      "|73000.0|         73|\n",
      "|90000.0|         90|\n",
      "|78000.0|         78|\n",
      "|69000.0|         69|\n",
      "|75000.0|         75|\n",
      "|77000.0|         77|\n",
      "|76000.0|         76|\n",
      "|90000.0|         90|\n",
      "|79000.0|         79|\n",
      "|77000.0|         77|\n",
      "+-------+-----------+\n",
      "only showing top 20 rows\n",
      "\n"
     ]
    }
   ],
   "source": [
    "# Create a new column called `Salary` where the values are the `Salary (1k)` * 1000\n",
    "# Show the columns `Salary` and `Salary (1k)`\n",
    "df = df.withColumn(\"Salary\", df[\"Salary (1k)\"] * 1000)\n",
    "df.select([\"Salary\", \"Salary (1k)\"]).show()"
   ]
  },
  {
   "cell_type": "code",
   "execution_count": null,
   "metadata": {
    "colab": {},
    "colab_type": "code",
    "id": "JIuQ3MqhaXWE"
   },
   "outputs": [],
   "source": []
  }
 ],
 "metadata": {
  "anaconda-cloud": {},
  "colab": {
   "collapsed_sections": [],
   "name": "demographics.ipynb",
   "provenance": []
  },
  "kernelspec": {
   "display_name": "Python 3",
   "language": "python",
   "name": "python3"
  },
  "language_info": {
   "codemirror_mode": {
    "name": "ipython",
    "version": 3
   },
   "file_extension": ".py",
   "mimetype": "text/x-python",
   "name": "python",
   "nbconvert_exporter": "python",
   "pygments_lexer": "ipython3",
   "version": "3.7.4"
  },
  "varInspector": {
   "cols": {
    "lenName": 16,
    "lenType": 16,
    "lenVar": 40
   },
   "kernels_config": {
    "python": {
     "delete_cmd_postfix": "",
     "delete_cmd_prefix": "del ",
     "library": "var_list.py",
     "varRefreshCmd": "print(var_dic_list())"
    },
    "r": {
     "delete_cmd_postfix": ") ",
     "delete_cmd_prefix": "rm(",
     "library": "var_list.r",
     "varRefreshCmd": "cat(var_dic_list()) "
    }
   },
   "types_to_exclude": [
    "module",
    "function",
    "builtin_function_or_method",
    "instance",
    "_Feature"
   ],
   "window_display": false
  }
 },
 "nbformat": 4,
 "nbformat_minor": 4
}
