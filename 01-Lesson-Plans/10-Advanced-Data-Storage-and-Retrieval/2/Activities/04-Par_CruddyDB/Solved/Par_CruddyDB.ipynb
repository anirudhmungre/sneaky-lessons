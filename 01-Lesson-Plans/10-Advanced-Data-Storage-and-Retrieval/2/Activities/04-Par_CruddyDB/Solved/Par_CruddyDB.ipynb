{
 "cells": [
  {
   "cell_type": "code",
   "execution_count": 1,
   "metadata": {},
   "outputs": [],
   "source": [
    "# Import SQL Alchemy\n",
    "from sqlalchemy import create_engine\n",
    "\n",
    "# Import and establish Base for which classes will be constructed \n",
    "from sqlalchemy.ext.declarative import declarative_base\n",
    "Base = declarative_base()\n",
    "\n",
    "# Import modules to declare columns and column data types\n",
    "from sqlalchemy import Column, Integer, String, Float"
   ]
  },
  {
   "cell_type": "code",
   "execution_count": 2,
   "metadata": {
    "nbgrader": {
     "grade": false,
     "grade_id": "cell-55d75c21dbb2c337",
     "locked": false,
     "schema_version": 1,
     "solution": true
    }
   },
   "outputs": [],
   "source": [
    "# Create the Garbage class\n",
    "class Garbage(Base):\n",
    "    __tablename__ = 'garbage_collection'\n",
    "    id = Column(Integer, primary_key=True)\n",
    "    item = Column(String(255))\n",
    "    weight = Column(Float)\n",
    "    collector = Column(String(255))\n"
   ]
  },
  {
   "cell_type": "code",
   "execution_count": 3,
   "metadata": {
    "nbgrader": {
     "grade": false,
     "grade_id": "cell-4230ec6995aad3fd",
     "locked": false,
     "schema_version": 1,
     "solution": true
    }
   },
   "outputs": [],
   "source": [
    "# Create a connection to a SQLite database\n",
    "engine = create_engine('sqlite:///garbage.db')"
   ]
  },
  {
   "cell_type": "code",
   "execution_count": 4,
   "metadata": {},
   "outputs": [],
   "source": [
    "# Create the garbage_collection table within the database\n",
    "Base.metadata.create_all(engine)"
   ]
  },
  {
   "cell_type": "code",
   "execution_count": 5,
   "metadata": {},
   "outputs": [],
   "source": [
    "# To push the objects made and query the server we use a Session object\n",
    "from sqlalchemy.orm import Session\n",
    "session = Session(bind=engine)"
   ]
  },
  {
   "cell_type": "code",
   "execution_count": 6,
   "metadata": {
    "nbgrader": {
     "grade": false,
     "grade_id": "cell-544743e14f0f9a25",
     "locked": false,
     "schema_version": 1,
     "solution": true
    }
   },
   "outputs": [],
   "source": [
    "# Create some instances of the Garbage class\n",
    "garbage_one = Garbage(item=\"Sofa\", weight=90.5, collector=\"Malva\")\n",
    "garbage_two = Garbage(item=\"Broken TV\", weight=10.75, collector=\"Kroth Issarra\")\n",
    "garbage_three = Garbage(item=\"Burger\", weight=0.55, collector=\"Charlie Johnston\")\n"
   ]
  },
  {
   "cell_type": "code",
   "execution_count": 7,
   "metadata": {
    "nbgrader": {
     "grade": false,
     "grade_id": "cell-7ead20b8cbdbfb73",
     "locked": false,
     "schema_version": 1,
     "solution": true
    }
   },
   "outputs": [],
   "source": [
    "# Add these objects to the session\n",
    "session.add(garbage_one)\n",
    "session.add(garbage_two)\n",
    "session.add(garbage_three)\n",
    "# Commit the objects to the database\n",
    "session.commit()\n"
   ]
  },
  {
   "cell_type": "code",
   "execution_count": 8,
   "metadata": {
    "nbgrader": {
     "grade": false,
     "grade_id": "cell-a66cda367a0b1515",
     "locked": false,
     "schema_version": 1,
     "solution": true
    }
   },
   "outputs": [],
   "source": [
    "# Update two rows of data\n",
    "update_one = session.query(Garbage).filter(Garbage.id == 1).first()\n",
    "update_one.collector = \"Malva Baggins\"\n",
    "update_two = session.query(Garbage).filter(Garbage.id == 2).first()\n",
    "update_two.weight = 11.25\n",
    "# Commit the updates to the database\n",
    "session.commit()\n"
   ]
  },
  {
   "cell_type": "code",
   "execution_count": 9,
   "metadata": {
    "nbgrader": {
     "grade": false,
     "grade_id": "cell-2cee82afd03d3679",
     "locked": false,
     "schema_version": 1,
     "solution": true
    }
   },
   "outputs": [],
   "source": [
    "# Delete the row with the lowest weight\n",
    "garbage_light = session.query(Garbage).order_by(Garbage.weight).first()\n",
    "session.delete(garbage_light)\n",
    "# Commit the delete to the database\n",
    "session.commit()\n"
   ]
  },
  {
   "cell_type": "code",
   "execution_count": 10,
   "metadata": {
    "nbgrader": {
     "grade": false,
     "grade_id": "cell-23672c755f55dd5d",
     "locked": false,
     "schema_version": 1,
     "solution": true
    }
   },
   "outputs": [
    {
     "name": "stdout",
     "output_type": "stream",
     "text": [
      "------------\n",
      "id: 1\n",
      "item: Sofa\n",
      "weight: 90.5\n",
      "collector: Malva Baggins\n",
      "------------\n",
      "id: 2\n",
      "item: Broken TV\n",
      "weight: 11.25\n",
      "collector: Kroth Issarra\n"
     ]
    }
   ],
   "source": [
    "# Collect all of the items and print their information\n",
    "items = session.query(Garbage)\n",
    "for item in items:\n",
    "    print(\"-\"*12)\n",
    "    print(f\"id: {item.id}\")\n",
    "    print(f\"item: {item.item}\")\n",
    "    print(f\"weight: {item.weight}\")\n",
    "    print(f\"collector: {item.collector}\")\n"
   ]
  },
  {
   "cell_type": "code",
   "execution_count": 11,
   "metadata": {},
   "outputs": [],
   "source": [
    "# Close the session\n",
    "session.close()"
   ]
  },
  {
   "cell_type": "code",
   "execution_count": null,
   "metadata": {},
   "outputs": [],
   "source": []
  },
  {
   "cell_type": "code",
   "execution_count": 12,
   "metadata": {},
   "outputs": [
    {
     "name": "stdout",
     "output_type": "stream",
     "text": [
      "1\n"
     ]
    }
   ],
   "source": [
    "# BONUS\n",
    "lowest_id = session.query(Garbage).order_by(Garbage.id).first()\n",
    "print(lowest_id.id)"
   ]
  },
  {
   "cell_type": "code",
   "execution_count": 13,
   "metadata": {},
   "outputs": [
    {
     "name": "stdout",
     "output_type": "stream",
     "text": [
      "90.5\n"
     ]
    }
   ],
   "source": [
    "print(lowest_id.weight)"
   ]
  },
  {
   "cell_type": "code",
   "execution_count": 14,
   "metadata": {},
   "outputs": [
    {
     "name": "stdout",
     "output_type": "stream",
     "text": [
      "120\n"
     ]
    }
   ],
   "source": [
    "lowest_id.weight = 120\n",
    "print(lowest_id.weight)"
   ]
  },
  {
   "cell_type": "code",
   "execution_count": 15,
   "metadata": {},
   "outputs": [],
   "source": [
    "session.commit()"
   ]
  },
  {
   "cell_type": "code",
   "execution_count": 16,
   "metadata": {},
   "outputs": [
    {
     "name": "stdout",
     "output_type": "stream",
     "text": [
      "------------\n",
      "id: 1\n",
      "item: Sofa\n",
      "weight: 120.0\n",
      "collector: Malva Baggins\n",
      "------------\n",
      "id: 2\n",
      "item: Broken TV\n",
      "weight: 11.25\n",
      "collector: Kroth Issarra\n"
     ]
    }
   ],
   "source": [
    "items = session.query(Garbage)\n",
    "for item in items:\n",
    "    print(\"-\"*12)\n",
    "    print(f\"id: {item.id}\")\n",
    "    print(f\"item: {item.item}\")\n",
    "    print(f\"weight: {item.weight}\")\n",
    "    print(f\"collector: {item.collector}\")"
   ]
  },
  {
   "cell_type": "code",
   "execution_count": 17,
   "metadata": {},
   "outputs": [],
   "source": [
    "session.close()"
   ]
  }
 ],
 "metadata": {
  "celltoolbar": "Create Assignment",
  "kernelspec": {
   "display_name": "dataviz",
   "language": "python",
   "name": "dataviz"
  },
  "language_info": {
   "codemirror_mode": {
    "name": "ipython",
    "version": 3
   },
   "file_extension": ".py",
   "mimetype": "text/x-python",
   "name": "python",
   "nbconvert_exporter": "python",
   "pygments_lexer": "ipython3",
   "version": "3.8.5"
  },
  "varInspector": {
   "cols": {
    "lenName": 16,
    "lenType": 16,
    "lenVar": 40
   },
   "kernels_config": {
    "python": {
     "delete_cmd_postfix": "",
     "delete_cmd_prefix": "del ",
     "library": "var_list.py",
     "varRefreshCmd": "print(var_dic_list())"
    },
    "r": {
     "delete_cmd_postfix": ") ",
     "delete_cmd_prefix": "rm(",
     "library": "var_list.r",
     "varRefreshCmd": "cat(var_dic_list()) "
    }
   },
   "types_to_exclude": [
    "module",
    "function",
    "builtin_function_or_method",
    "instance",
    "_Feature"
   ],
   "window_display": false
  }
 },
 "nbformat": 4,
 "nbformat_minor": 4
}
