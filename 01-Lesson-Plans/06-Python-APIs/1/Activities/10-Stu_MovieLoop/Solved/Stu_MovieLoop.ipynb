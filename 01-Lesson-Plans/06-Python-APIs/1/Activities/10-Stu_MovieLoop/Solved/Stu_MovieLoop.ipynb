{
 "cells": [
  {
   "cell_type": "code",
   "execution_count": 1,
   "metadata": {},
   "outputs": [
    {
     "name": "stdout",
     "output_type": "stream",
     "text": [
      "The director of Aliens is James Cameron\n",
      "The director of Sing is Garth Jennings, Christophe Lourdelet(co-director)\n",
      "The director of Moana is Ron Clements, John Musker, Don Hall(co-director), Chris Williams(co-director)\n"
     ]
    }
   ],
   "source": [
    "# Dependencies\n",
    "import requests\n",
    "from config import api_key\n",
    "\n",
    "url = \"http://www.omdbapi.com/?apikey=\" + api_key + \"&t=\"\n",
    "\n",
    "movies = [\"Aliens\", \"Sing\", \"Moana\"]\n",
    "\n",
    "responses = []\n",
    "\n",
    "for movie in movies:\n",
    "    movie_data = requests.get(url + movie).json()\n",
    "    responses.append(movie_data)\n",
    "    print(f'The director of {movie} is {movie_data[\"Director\"]}')"
   ]
  },
  {
   "cell_type": "code",
   "execution_count": 2,
   "metadata": {},
   "outputs": [
    {
     "data": {
      "text/plain": [
       "[{'Title': 'Aliens',\n",
       "  'Year': '1986',\n",
       "  'Rated': 'R',\n",
       "  'Released': '18 Jul 1986',\n",
       "  'Runtime': '137 min',\n",
       "  'Genre': 'Action, Adventure, Sci-Fi, Thriller',\n",
       "  'Director': 'James Cameron',\n",
       "  'Writer': \"James Cameron (story by), David Giler (story by), Walter Hill (story by), Dan O'Bannon (based on characters created by), Ronald Shusett (based on characters created by), James Cameron (screenplay by)\",\n",
       "  'Actors': 'Sigourney Weaver, Carrie Henn, Michael Biehn, Paul Reiser',\n",
       "  'Plot': 'Ellen Ripley is rescued by a deep salvage team after being in hypersleep for 57 years. The moon that the Nostromo visited has been colonized, but contact is lost. This time, colonial marines have impressive firepower, but will that be enough?',\n",
       "  'Language': 'English',\n",
       "  'Country': 'USA, UK',\n",
       "  'Awards': 'Won 2 Oscars. Another 18 wins & 22 nominations.',\n",
       "  'Poster': 'https://m.media-amazon.com/images/M/MV5BZGU2OGY5ZTYtMWNhYy00NjZiLWI0NjUtZmNhY2JhNDRmODU3XkEyXkFqcGdeQXVyNzkwMjQ5NzM@._V1_SX300.jpg',\n",
       "  'Ratings': [{'Source': 'Internet Movie Database', 'Value': '8.4/10'},\n",
       "   {'Source': 'Rotten Tomatoes', 'Value': '99%'},\n",
       "   {'Source': 'Metacritic', 'Value': '84/100'}],\n",
       "  'Metascore': '84',\n",
       "  'imdbRating': '8.4',\n",
       "  'imdbVotes': '607,299',\n",
       "  'imdbID': 'tt0090605',\n",
       "  'Type': 'movie',\n",
       "  'DVD': '01 Jun 1999',\n",
       "  'BoxOffice': 'N/A',\n",
       "  'Production': '20th Century Fox',\n",
       "  'Website': 'https://www.foxmovies.com/movies/aliens',\n",
       "  'Response': 'True'},\n",
       " {'Title': 'Sing',\n",
       "  'Year': '2016',\n",
       "  'Rated': 'PG',\n",
       "  'Released': '21 Dec 2016',\n",
       "  'Runtime': '108 min',\n",
       "  'Genre': 'Animation, Comedy, Family, Musical',\n",
       "  'Director': 'Garth Jennings, Christophe Lourdelet(co-director)',\n",
       "  'Writer': 'Garth Jennings',\n",
       "  'Actors': 'Matthew McConaughey, Reese Witherspoon, Seth MacFarlane, Scarlett Johansson',\n",
       "  'Plot': \"In a city of humanoid animals, a hustling theater impresario's attempt to save his theater with a singing competition becomes grander than he anticipates even as its finalists find that their lives will never be the same.\",\n",
       "  'Language': 'English, Japanese, Ukrainian',\n",
       "  'Country': 'Japan, USA',\n",
       "  'Awards': 'Nominated for 2 Golden Globes. Another 2 wins & 21 nominations.',\n",
       "  'Poster': 'https://m.media-amazon.com/images/M/MV5BMTYzODYzODU2Ml5BMl5BanBnXkFtZTgwNTc1MTA2NzE@._V1_SX300.jpg',\n",
       "  'Ratings': [{'Source': 'Internet Movie Database', 'Value': '7.1/10'},\n",
       "   {'Source': 'Rotten Tomatoes', 'Value': '71%'},\n",
       "   {'Source': 'Metacritic', 'Value': '59/100'}],\n",
       "  'Metascore': '59',\n",
       "  'imdbRating': '7.1',\n",
       "  'imdbVotes': '118,085',\n",
       "  'imdbID': 'tt3470600',\n",
       "  'Type': 'movie',\n",
       "  'DVD': '21 Mar 2017',\n",
       "  'BoxOffice': '$270,322,940',\n",
       "  'Production': 'Illumination Entertainment',\n",
       "  'Website': 'http://www.singmovie.com/',\n",
       "  'Response': 'True'},\n",
       " {'Title': 'Moana',\n",
       "  'Year': '2016',\n",
       "  'Rated': 'PG',\n",
       "  'Released': '23 Nov 2016',\n",
       "  'Runtime': '107 min',\n",
       "  'Genre': 'Animation, Adventure, Comedy, Family, Fantasy, Musical',\n",
       "  'Director': 'Ron Clements, John Musker, Don Hall(co-director), Chris Williams(co-director)',\n",
       "  'Writer': 'Jared Bush (screenplay by), Ron Clements (story by), John Musker (story by), Chris Williams (story by), Don Hall (story by), Pamela Ribon (story by), Aaron Kandell (story by), Jordan Kandell (story by)',\n",
       "  'Actors': \"Auli'i Cravalho, Dwayne Johnson, Rachel House, Temuera Morrison\",\n",
       "  'Plot': \"In Ancient Polynesia, when a terrible curse incurred by the Demigod Maui reaches Moana's island, she answers the Ocean's call to seek out the Demigod to set things right.\",\n",
       "  'Language': 'English',\n",
       "  'Country': 'USA',\n",
       "  'Awards': 'Nominated for 2 Oscars. Another 18 wins & 83 nominations.',\n",
       "  'Poster': 'https://m.media-amazon.com/images/M/MV5BMjI4MzU5NTExNF5BMl5BanBnXkFtZTgwNzY1MTEwMDI@._V1_SX300.jpg',\n",
       "  'Ratings': [{'Source': 'Internet Movie Database', 'Value': '7.6/10'},\n",
       "   {'Source': 'Rotten Tomatoes', 'Value': '96%'},\n",
       "   {'Source': 'Metacritic', 'Value': '81/100'}],\n",
       "  'Metascore': '81',\n",
       "  'imdbRating': '7.6',\n",
       "  'imdbVotes': '228,382',\n",
       "  'imdbID': 'tt3521164',\n",
       "  'Type': 'movie',\n",
       "  'DVD': '07 Mar 2017',\n",
       "  'BoxOffice': '$248,752,120',\n",
       "  'Production': 'Walt Disney Pictures',\n",
       "  'Website': 'http://movies.disney.com/moana',\n",
       "  'Response': 'True'}]"
      ]
     },
     "execution_count": 2,
     "metadata": {},
     "output_type": "execute_result"
    }
   ],
   "source": [
    "responses"
   ]
  },
  {
   "cell_type": "code",
   "execution_count": null,
   "metadata": {},
   "outputs": [],
   "source": []
  }
 ],
 "metadata": {
  "kernelspec": {
   "display_name": "Python 3",
   "language": "python",
   "name": "python3"
  },
  "language_info": {
   "codemirror_mode": {
    "name": "ipython",
    "version": 3
   },
   "file_extension": ".py",
   "mimetype": "text/x-python",
   "name": "python",
   "nbconvert_exporter": "python",
   "pygments_lexer": "ipython3",
   "version": "3.6.9"
  },
  "varInspector": {
   "cols": {
    "lenName": 16,
    "lenType": 16,
    "lenVar": 40
   },
   "kernels_config": {
    "python": {
     "delete_cmd_postfix": "",
     "delete_cmd_prefix": "del ",
     "library": "var_list.py",
     "varRefreshCmd": "print(var_dic_list())"
    },
    "r": {
     "delete_cmd_postfix": ") ",
     "delete_cmd_prefix": "rm(",
     "library": "var_list.r",
     "varRefreshCmd": "cat(var_dic_list()) "
    }
   },
   "types_to_exclude": [
    "module",
    "function",
    "builtin_function_or_method",
    "instance",
    "_Feature"
   ],
   "window_display": false
  }
 },
 "nbformat": 4,
 "nbformat_minor": 2
}
