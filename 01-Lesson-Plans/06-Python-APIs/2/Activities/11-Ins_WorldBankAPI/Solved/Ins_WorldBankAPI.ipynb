{
 "cells": [
  {
   "cell_type": "code",
   "execution_count": 1,
   "metadata": {
    "collapsed": true
   },
   "outputs": [],
   "source": [
    "# Dependencies\n",
    "import requests\n",
    "\n",
    "url = \"http://api.worldbank.org/v2/\"\n",
    "api_format = \"json\"\n",
    "\n",
    "# Get country information in JSON format\n",
    "countries_response = requests.get(f\"{url}countries?format={api_format}\").json()\n",
    "\n",
    "# First element is general information, second is countries themselves\n",
    "countries = countries_response[1]"
   ]
  },
  {
   "cell_type": "code",
   "execution_count": 2,
   "metadata": {},
   "outputs": [
    {
     "name": "stdout",
     "output_type": "stream",
     "text": [
      "Aruba\n",
      "Afghanistan\n",
      "Africa\n",
      "Angola\n",
      "Albania\n",
      "Andorra\n",
      "Andean Region\n",
      "Arab World\n",
      "United Arab Emirates\n",
      "Argentina\n",
      "Armenia\n",
      "American Samoa\n",
      "Antigua and Barbuda\n",
      "Australia\n",
      "Austria\n",
      "Azerbaijan\n",
      "Burundi\n",
      "East Asia & Pacific (IBRD-only countries)\n",
      "Europe & Central Asia (IBRD-only countries)\n",
      "Belgium\n",
      "Benin\n",
      "Burkina Faso\n",
      "Bangladesh\n",
      "Bulgaria\n",
      "IBRD countries classified as high income\n",
      "Bahrain\n",
      "Bahamas, The\n",
      "Bosnia and Herzegovina\n",
      "Latin America & the Caribbean (IBRD-only countries)\n",
      "Belarus\n",
      "Belize\n",
      "Middle East & North Africa (IBRD-only countries)\n",
      "Bermuda\n",
      "Bolivia\n",
      "Brazil\n",
      "Barbados\n",
      "Brunei Darussalam\n",
      "Sub-Saharan Africa (IBRD-only countries)\n",
      "Bhutan\n",
      "Botswana\n",
      "Sub-Saharan Africa (IFC classification)\n",
      "Central African Republic\n",
      "Canada\n",
      "East Asia and the Pacific (IFC classification)\n",
      "Central Europe and the Baltics\n",
      "Europe and Central Asia (IFC classification)\n",
      "Switzerland\n",
      "Channel Islands\n",
      "Chile\n",
      "China\n"
     ]
    }
   ],
   "source": [
    "# Report the names\n",
    "for country in countries:\n",
    "    print(country[\"name\"])"
   ]
  }
 ],
 "metadata": {
  "kernelspec": {
   "display_name": "Python [conda env:PythonData]",
   "language": "python",
   "name": "conda-env-PythonData-py"
  },
  "language_info": {
   "codemirror_mode": {
    "name": "ipython",
    "version": 3
   },
   "file_extension": ".py",
   "mimetype": "text/x-python",
   "name": "python",
   "nbconvert_exporter": "python",
   "pygments_lexer": "ipython3",
   "version": "3.6.1"
  }
 },
 "nbformat": 4,
 "nbformat_minor": 2
}
