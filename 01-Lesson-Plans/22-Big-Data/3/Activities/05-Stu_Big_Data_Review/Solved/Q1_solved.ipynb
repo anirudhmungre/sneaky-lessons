{
 "cells": [
  {
   "cell_type": "code",
   "execution_count": null,
   "metadata": {
    "colab": {},
    "colab_type": "code",
    "id": "gw6aOs69e4Wj"
   },
   "outputs": [],
   "source": [
    "import os\n",
    "# Find the latest version of spark 3.0  from http://www.apache.org/dist/spark/ and enter as the spark version\n",
    "# For example:\n",
    "# spark_version = 'spark-3.0.3'\n",
    "spark_version = 'spark-3.<enter version>'\n",
    "os.environ['SPARK_VERSION']=spark_version\n",
    "\n",
    "# Install Spark and Java\n",
    "!apt-get update\n",
    "!apt-get install openjdk-8-jdk-headless -qq > /dev/null\n",
    "!wget -q http://www.apache.org/dist/spark/$SPARK_VERSION/$SPARK_VERSION-bin-hadoop2.7.tgz\n",
    "!tar xf $SPARK_VERSION-bin-hadoop2.7.tgz\n",
    "!pip install -q findspark\n",
    "\n",
    "# Set Environment Variables\n",
    "os.environ[\"JAVA_HOME\"] = \"/usr/lib/jvm/java-8-openjdk-amd64\"\n",
    "os.environ[\"SPARK_HOME\"] = f\"/content/{spark_version}-bin-hadoop2.7\"\n",
    "\n",
    "# Start a SparkSession\n",
    "import findspark\n",
    "findspark.init()"
   ]
  },
  {
   "cell_type": "code",
   "execution_count": null,
   "metadata": {
    "colab": {},
    "colab_type": "code",
    "id": "jdsAgpQGnMwc"
   },
   "outputs": [],
   "source": [
    "from pyspark.sql import SparkSession\n",
    "spark = SparkSession.builder.appName(\"Q1\").getOrCreate()"
   ]
  },
  {
   "cell_type": "code",
   "execution_count": 3,
   "metadata": {
    "colab": {
     "base_uri": "https://localhost:8080/",
     "height": 295
    },
    "colab_type": "code",
    "id": "RpkJ0Q9onSgL",
    "outputId": "47adbe13-caf0-42cf-9ea7-5d88a9d741c8"
   },
   "outputs": [
    {
     "name": "stdout",
     "output_type": "stream",
     "text": [
      "+--------------------+----------+\n",
      "|    coffee_shop_name|num_rating|\n",
      "+--------------------+----------+\n",
      "|The Factory - Caf...|         5|\n",
      "|The Factory - Caf...|         4|\n",
      "|The Factory - Caf...|         4|\n",
      "|The Factory - Caf...|         2|\n",
      "|The Factory - Caf...|         4|\n",
      "|The Factory - Caf...|         4|\n",
      "|The Factory - Caf...|         4|\n",
      "|The Factory - Caf...|         5|\n",
      "|The Factory - Caf...|         3|\n",
      "|The Factory - Caf...|         5|\n",
      "+--------------------+----------+\n",
      "only showing top 10 rows\n",
      "\n"
     ]
    }
   ],
   "source": [
    "from pyspark import SparkFiles\n",
    "# Load in user_data.csv from S3 into a DataFrame\n",
    "url = \"https://s3.amazonaws.com/dataviz-curriculum/day_3/checkpoints/question_one.csv\"\n",
    "spark.sparkContext.addFile(url)\n",
    "\n",
    "df = spark.read.option('header', 'true').csv(SparkFiles.get(\"question_one.csv\"), inferSchema=True, sep=',', timestampFormat=\"mm/dd/yy\")\n",
    "df.show(10)"
   ]
  },
  {
   "cell_type": "markdown",
   "metadata": {
    "colab_type": "text",
    "id": "APXL1XIPnfHW"
   },
   "source": [
    " # What is the average rating for the coffee shop with the most reviews?"
   ]
  },
  {
   "cell_type": "code",
   "execution_count": 4,
   "metadata": {
    "colab": {
     "base_uri": "https://localhost:8080/",
     "height": 469
    },
    "colab_type": "code",
    "id": "gu-oYHUvnVZh",
    "outputId": "25739c3e-6c00-49a9-c0e9-63e24cf4b281"
   },
   "outputs": [
    {
     "name": "stdout",
     "output_type": "stream",
     "text": [
      "+------------------------------+-----------------------+------------------+\n",
      "|coffee_shop_name              |count(coffee_shop_name)|avg(num_rating)   |\n",
      "+------------------------------+-----------------------+------------------+\n",
      "|Flitch Coffee                 |28                     |4.821428571428571 |\n",
      "|Apanas Coffee & Beer          |136                    |4.580882352941177 |\n",
      "|Arturo's Underground Cafe     |100                    |4.3               |\n",
      "|Lola Savannah Coffee Downtown |4                      |5.0               |\n",
      "|Lola Savannah Coffee Lounge   |100                    |4.11              |\n",
      "|Epoch Coffee                  |400                    |3.8125            |\n",
      "|Caffe Medici                  |243                    |4.1193415637860085|\n",
      "|Figure 8 Coffee Purveyors     |100                    |4.5               |\n",
      "|Hot Mama's Cafe               |100                    |4.27              |\n",
      "|Sorrento's Coffee             |100                    |4.26              |\n",
      "|The Steeping Room             |100                    |3.96              |\n",
      "|Irie Bean Coffee Bar          |100                    |4.3               |\n",
      "|Thunderbird Coffee            |100                    |3.97              |\n",
      "|Flightpath Coffeehouse        |100                    |4.23              |\n",
      "|Tuscany At 360                |33                     |3.8181818181818183|\n",
      "|Halcyon                       |300                    |3.82              |\n",
      "|Summer Moon Coffee Bar        |100                    |4.09              |\n",
      "|Trianon Coffee                |98                     |4.020408163265306 |\n",
      "|Summermoon Coffee Bar         |100                    |4.53              |\n",
      "|Cenote                        |100                    |4.04              |\n",
      "+------------------------------+-----------------------+------------------+\n",
      "only showing top 20 rows\n",
      "\n"
     ]
    }
   ],
   "source": [
    "from pyspark.sql.functions import desc\n",
    "coffee_ratings_df =df.select([\"coffee_shop_name\",\"num_rating\"])\\\n",
    "  .groupby(\"coffee_shop_name\")\\\n",
    "  .agg({\"num_rating\": \"avg\", \"coffee_shop_name\":\"count\"})\n",
    "coffee_ratings_df.show(truncate=False)"
   ]
  },
  {
   "cell_type": "code",
   "execution_count": 5,
   "metadata": {
    "colab": {
     "base_uri": "https://localhost:8080/",
     "height": 469
    },
    "colab_type": "code",
    "id": "sXb-e3M9ncEf",
    "outputId": "3eec750b-d0dc-4eab-bfcc-13e73a76b1fb"
   },
   "outputs": [
    {
     "name": "stdout",
     "output_type": "stream",
     "text": [
      "+-------------------------------+-----------------------+------------------+\n",
      "|coffee_shop_name               |count(coffee_shop_name)|avg(num_rating)   |\n",
      "+-------------------------------+-----------------------+------------------+\n",
      "|Epoch Coffee                   |400                    |3.8125            |\n",
      "|Halcyon                        |300                    |3.82              |\n",
      "|The Factory - Cafe With a Soul |244                    |4.360655737704918 |\n",
      "|Caffe Medici                   |243                    |4.1193415637860085|\n",
      "|Houndstooth Coffee             |200                    |4.175             |\n",
      "|Venezia Italian Gelato         |200                    |4.81              |\n",
      "|Apanas Coffee & Beer           |136                    |4.580882352941177 |\n",
      "|Arturo's Underground Cafe      |100                    |4.3               |\n",
      "|Flightpath Coffeehouse         |100                    |4.23              |\n",
      "|La Patisserie                  |100                    |4.05              |\n",
      "|Summer Moon Coffee Bar         |100                    |4.09              |\n",
      "|Lola Savannah Coffee Lounge    |100                    |4.11              |\n",
      "|Figure 8 Coffee Purveyors      |100                    |4.5               |\n",
      "|Summermoon Coffee Bar          |100                    |4.53              |\n",
      "|Hot Mama's Cafe                |100                    |4.27              |\n",
      "|The Steeping Room              |100                    |3.96              |\n",
      "|Sorrento's Coffee              |100                    |4.26              |\n",
      "|Irie Bean Coffee Bar           |100                    |4.3               |\n",
      "|Thunderbird Coffee             |100                    |3.97              |\n",
      "|Cenote                         |100                    |4.04              |\n",
      "+-------------------------------+-----------------------+------------------+\n",
      "only showing top 20 rows\n",
      "\n"
     ]
    }
   ],
   "source": [
    "coffee_ratings_df.orderBy(desc(\"count(coffee_shop_name)\")).show(truncate=False)"
   ]
  },
  {
   "cell_type": "code",
   "execution_count": null,
   "metadata": {
    "colab": {},
    "colab_type": "code",
    "id": "JV_7gPzqqCHK"
   },
   "outputs": [],
   "source": []
  }
 ],
 "metadata": {
  "colab": {
   "name": "Question1.ipynb",
   "provenance": []
  },
  "kernelspec": {
   "display_name": "Python 3",
   "language": "python",
   "name": "python3"
  },
  "language_info": {
   "codemirror_mode": {
    "name": "ipython",
    "version": 3
   },
   "file_extension": ".py",
   "mimetype": "text/x-python",
   "name": "python",
   "nbconvert_exporter": "python",
   "pygments_lexer": "ipython3",
   "version": "3.7.4"
  }
 },
 "nbformat": 4,
 "nbformat_minor": 4
}
