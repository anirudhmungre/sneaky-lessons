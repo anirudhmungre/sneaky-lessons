{
  "nbformat": 4,
  "nbformat_minor": 0,
  "metadata": {
    "colab": {
      "name": "demographics.ipynb",
      "version": "0.3.2",
      "provenance": []
    },
    "kernelspec": {
      "display_name": "Python 3",
      "language": "python",
      "name": "python3"
    }
  },
  "cells": [
    {
      "metadata": {
        "colab_type": "text",
        "id": "iSuCYmzWj4Lh"
      },
      "cell_type": "markdown",
      "source": [
        ""
      ]
    },
    {
      "metadata": {
        "colab_type": "code",
        "id": "LrY4mmOmj4LQ",
        "colab": {}
      },
      "cell_type": "code",
      "source": [
        "# Install Java, Spark, and *Findspark*\n",
        "!apt-get install openjdk-8-jdk-headless -qq > /dev/null\n",
        "!wget -q http://www-us.apache.org/dist/spark/spark-2.3.2/spark-2.3.2-bin-hadoop2.7.tgz\n",
        "!tar xf spark-2.3.2-bin-hadoop2.7.tgz\n",
        "!pip install -q findspark"
      ],
      "execution_count": 0,
      "outputs": []
    },
    {
      "metadata": {
        "id": "HjR1TBuIjQ1r",
        "colab_type": "code",
        "colab": {}
      },
      "cell_type": "code",
      "source": [
        "import os\n",
        "os.environ[\"JAVA_HOME\"] = \"/usr/lib/jvm/java-8-openjdk-amd64\"\n",
        "os.environ[\"SPARK_HOME\"] = \"/content/spark-2.3.2-bin-hadoop2.7\""
      ],
      "execution_count": 0,
      "outputs": []
    },
    {
      "metadata": {
        "id": "9I_T6UXPjLSN",
        "colab_type": "code",
        "colab": {}
      },
      "cell_type": "code",
      "source": [
        "#### Start a Spark Session\n",
        "import findspark\n",
        "findspark.init()\n",
        "from pyspark.sql import SparkSession\n",
        "spark = SparkSession.builder.appName(\"demographics\").getOrCreate()"
      ],
      "execution_count": 0,
      "outputs": []
    },
    {
      "metadata": {
        "id": "543iJNEpjLSe",
        "colab_type": "code",
        "colab": {
          "base_uri": "https://localhost:8080/",
          "height": 459
        },
        "outputId": "7cae5800-937f-4a07-f58f-0fcf2f55d3f4"
      },
      "cell_type": "code",
      "source": [
        "from pyspark import SparkFiles\n",
        "url = \"https://s3.amazonaws.com/dataviz-curriculum/day_1/demographics.csv\"\n",
        "spark.sparkContext.addFile(url)\n",
        "df = spark.read.csv(SparkFiles.get(\"demographics.csv\"), sep=\",\", header=True)\n",
        "df.show()"
      ],
      "execution_count": 4,
      "outputs": [
        {
          "output_type": "stream",
          "text": [
            "+---+--------------------+---+------------+---------+--------+------------------+---------------+------+-------------+\n",
            "| id|                name|age|height_meter|weight_kg|children|        occupation|academic_degree|salary|     location|\n",
            "+---+--------------------+---+------------+---------+--------+------------------+---------------+------+-------------+\n",
            "|  0|       Darlena Avila| 58|        1.87|       53|       1|     Choreographer|            PhD|    68| South Dakota|\n",
            "|  1|            Yan Boyd| 65|         1.8|       40|       0|         Cellarman|       Bachelor|    73|     Delaware|\n",
            "|  2|         Joette Lane| 32|         1.8|       73|       1|Veterinary Surgeon|         Master|    69| South Dakota|\n",
            "|  3|        Jazmine Hunt| 61|        1.79|       89|       0|            Hawker|            PhD|    88|    Louisiana|\n",
            "|  4|      Remedios Gomez| 23|        1.64|       51|       2|     Choreographer|       Bachelor|    83|West Virginia|\n",
            "|  5|        Myung Brewer| 20|        1.68|       60|       4|    Window Dresser|       Bachelor|    65| South Dakota|\n",
            "|  6|         Shaun Lynch| 31|        1.56|       62|       0|            Weaver|         Master|    72|    Louisiana|\n",
            "|  7|     Melodi Mcdowell| 56|         1.6|       42|       0| Lighthouse Keeper|         Master|    65|    Louisiana|\n",
            "|  8|Charlesetta Steve...| 30|        1.62|       44|       3|        Millwright|         Master|    87|    Louisiana|\n",
            "|  9|       Merri Charles| 44|        1.69|       51|       5|  Medical Supplier|            PhD|    72|West Virginia|\n",
            "| 10|        Cassi Meyers| 55|        1.82|       72|       5|        Manicurist|       Bachelor|    73| South Dakota|\n",
            "| 11|      Shawnee Harmon| 66|        1.63|       78|       5| Medical Physicist|            PhD|    90|     Delaware|\n",
            "| 12|       Lyndia Spears| 62|        1.88|       41|       1|         Assistant|         Master|    78|       Alaska|\n",
            "| 13|          Page Evans| 35|        1.53|       74|       5|         Paramedic|       Bachelor|    69|     Delaware|\n",
            "| 14|        Telma Hebert| 66|        1.94|       79|       3|       Genealogist|         Master|    75| South Dakota|\n",
            "| 15|      Edelmira Drake| 23|        1.87|       72|       2|           Servant|            PhD|    77| South Dakota|\n",
            "| 16|       Oscar Guthrie| 40|        1.61|       46|       4| Technical Liaison|       Bachelor|    76|    Louisiana|\n",
            "| 17|   Bernardina Strong| 34|        1.55|       78|       1|         Scientist|            PhD|    90| South Dakota|\n",
            "| 18|        Caprice Hart| 64|        1.69|       67|       4|   Market Research|            PhD|    79|    Louisiana|\n",
            "| 19|         Alleen Pace| 25|        1.86|       81|       4|  Medical Supplier|            PhD|    77| South Dakota|\n",
            "+---+--------------------+---+------------+---------+--------+------------------+---------------+------+-------------+\n",
            "only showing top 20 rows\n",
            "\n"
          ],
          "name": "stdout"
        }
      ]
    },
    {
      "metadata": {
        "id": "Hxe9ghfHjLSj",
        "colab_type": "code",
        "colab": {
          "base_uri": "https://localhost:8080/",
          "height": 187
        },
        "outputId": "bc73ea9a-0dc1-4353-984f-5d331ae7ba85"
      },
      "cell_type": "code",
      "source": [
        "### Print the column names\n",
        "df.columns"
      ],
      "execution_count": 5,
      "outputs": [
        {
          "output_type": "execute_result",
          "data": {
            "text/plain": [
              "['id',\n",
              " 'name',\n",
              " 'age',\n",
              " 'height_meter',\n",
              " 'weight_kg',\n",
              " 'children',\n",
              " 'occupation',\n",
              " 'academic_degree',\n",
              " 'salary',\n",
              " 'location']"
            ]
          },
          "metadata": {
            "tags": []
          },
          "execution_count": 5
        }
      ]
    },
    {
      "metadata": {
        "id": "fu3NjN29jLSq",
        "colab_type": "code",
        "colab": {
          "base_uri": "https://localhost:8080/",
          "height": 187
        },
        "outputId": "c51bcb1a-e63b-49f5-ce3e-9f4e309bedd4"
      },
      "cell_type": "code",
      "source": [
        "# Print out the first 10 rows\n",
        "df.head(10)"
      ],
      "execution_count": 6,
      "outputs": [
        {
          "output_type": "execute_result",
          "data": {
            "text/plain": [
              "[Row(id='0', name='Darlena Avila', age='58', height_meter='1.87', weight_kg='53', children='1', occupation='Choreographer', academic_degree='PhD', salary='68', location='South Dakota'),\n",
              " Row(id='1', name='Yan Boyd', age='65', height_meter='1.8', weight_kg='40', children='0', occupation='Cellarman', academic_degree='Bachelor', salary='73', location='Delaware'),\n",
              " Row(id='2', name='Joette Lane', age='32', height_meter='1.8', weight_kg='73', children='1', occupation='Veterinary Surgeon', academic_degree='Master', salary='69', location='South Dakota'),\n",
              " Row(id='3', name='Jazmine Hunt', age='61', height_meter='1.79', weight_kg='89', children='0', occupation='Hawker', academic_degree='PhD', salary='88', location='Louisiana'),\n",
              " Row(id='4', name='Remedios Gomez', age='23', height_meter='1.64', weight_kg='51', children='2', occupation='Choreographer', academic_degree='Bachelor', salary='83', location='West Virginia'),\n",
              " Row(id='5', name='Myung Brewer', age='20', height_meter='1.68', weight_kg='60', children='4', occupation='Window Dresser', academic_degree='Bachelor', salary='65', location='South Dakota'),\n",
              " Row(id='6', name='Shaun Lynch', age='31', height_meter='1.56', weight_kg='62', children='0', occupation='Weaver', academic_degree='Master', salary='72', location='Louisiana'),\n",
              " Row(id='7', name='Melodi Mcdowell', age='56', height_meter='1.6', weight_kg='42', children='0', occupation='Lighthouse Keeper', academic_degree='Master', salary='65', location='Louisiana'),\n",
              " Row(id='8', name='Charlesetta Stevenson', age='30', height_meter='1.62', weight_kg='44', children='3', occupation='Millwright', academic_degree='Master', salary='87', location='Louisiana'),\n",
              " Row(id='9', name='Merri Charles', age='44', height_meter='1.69', weight_kg='51', children='5', occupation='Medical Supplier', academic_degree='PhD', salary='72', location='West Virginia')]"
            ]
          },
          "metadata": {
            "tags": []
          },
          "execution_count": 6
        }
      ]
    },
    {
      "metadata": {
        "id": "kes3OYr_jLSu",
        "colab_type": "code",
        "colab": {
          "base_uri": "https://localhost:8080/",
          "height": 187
        },
        "outputId": "2eefba14-15e2-42e9-8cb0-6a80477f1e62"
      },
      "cell_type": "code",
      "source": [
        "# Select the age, height_meter, and weight_kg columns and use describe to show the summary statistics\n",
        "df.select([\"age\", \"height_meter\", \"weight_kg\"]).describe().show()"
      ],
      "execution_count": 7,
      "outputs": [
        {
          "output_type": "stream",
          "text": [
            "+-------+------------------+------------------+------------------+\n",
            "|summary|               age|      height_meter|         weight_kg|\n",
            "+-------+------------------+------------------+------------------+\n",
            "|  count|              1000|              1000|              1000|\n",
            "|   mean|            42.933|1.7519499999999995|            64.011|\n",
            "| stddev|14.255445581556843|0.1436897499623555|15.005733939099779|\n",
            "|    min|                18|               1.5|                38|\n",
            "|    max|                67|                 2|                90|\n",
            "+-------+------------------+------------------+------------------+\n",
            "\n"
          ],
          "name": "stdout"
        }
      ]
    },
    {
      "metadata": {
        "id": "UtInr1ZljLSz",
        "colab_type": "code",
        "colab": {
          "base_uri": "https://localhost:8080/",
          "height": 221
        },
        "outputId": "5d11074b-d404-4f17-9e9e-feb9b3d66e2b"
      },
      "cell_type": "code",
      "source": [
        "# Print the schema to see the types\n",
        "df.printSchema()"
      ],
      "execution_count": 8,
      "outputs": [
        {
          "output_type": "stream",
          "text": [
            "root\n",
            " |-- id: string (nullable = true)\n",
            " |-- name: string (nullable = true)\n",
            " |-- age: string (nullable = true)\n",
            " |-- height_meter: string (nullable = true)\n",
            " |-- weight_kg: string (nullable = true)\n",
            " |-- children: string (nullable = true)\n",
            " |-- occupation: string (nullable = true)\n",
            " |-- academic_degree: string (nullable = true)\n",
            " |-- salary: string (nullable = true)\n",
            " |-- location: string (nullable = true)\n",
            "\n"
          ],
          "name": "stdout"
        }
      ]
    },
    {
      "metadata": {
        "id": "0BUk_66NjLS3",
        "colab_type": "code",
        "colab": {
          "base_uri": "https://localhost:8080/",
          "height": 459
        },
        "outputId": "4ff36c84-f2a7-4f8a-f393-415a8793dbdf"
      },
      "cell_type": "code",
      "source": [
        "# Rename the Salary column to `Salary (1k)` and show only this new column\n",
        "df = df.withColumnRenamed('Salary', 'Salary (1k)')\n",
        "df.select(\"Salary (1k)\").show()"
      ],
      "execution_count": 9,
      "outputs": [
        {
          "output_type": "stream",
          "text": [
            "+-----------+\n",
            "|Salary (1k)|\n",
            "+-----------+\n",
            "|         68|\n",
            "|         73|\n",
            "|         69|\n",
            "|         88|\n",
            "|         83|\n",
            "|         65|\n",
            "|         72|\n",
            "|         65|\n",
            "|         87|\n",
            "|         72|\n",
            "|         73|\n",
            "|         90|\n",
            "|         78|\n",
            "|         69|\n",
            "|         75|\n",
            "|         77|\n",
            "|         76|\n",
            "|         90|\n",
            "|         79|\n",
            "|         77|\n",
            "+-----------+\n",
            "only showing top 20 rows\n",
            "\n"
          ],
          "name": "stdout"
        }
      ]
    },
    {
      "metadata": {
        "id": "T2uUUVuPjLS8",
        "colab_type": "code",
        "colab": {
          "base_uri": "https://localhost:8080/",
          "height": 459
        },
        "outputId": "37937874-b06a-4462-94b3-7f9b45d10cc2"
      },
      "cell_type": "code",
      "source": [
        "# Create a new column called `Salary` where the values are the `Salary (1k)` * 1000\n",
        "# Show the columns `Salary` and `Salary (1k)`\n",
        "df = df.withColumn(\"Salary\", df[\"Salary (1k)\"] * 1000)\n",
        "df.select([\"Salary\", \"Salary (1k)\"]).show()"
      ],
      "execution_count": 10,
      "outputs": [
        {
          "output_type": "stream",
          "text": [
            "+-------+-----------+\n",
            "| Salary|Salary (1k)|\n",
            "+-------+-----------+\n",
            "|68000.0|         68|\n",
            "|73000.0|         73|\n",
            "|69000.0|         69|\n",
            "|88000.0|         88|\n",
            "|83000.0|         83|\n",
            "|65000.0|         65|\n",
            "|72000.0|         72|\n",
            "|65000.0|         65|\n",
            "|87000.0|         87|\n",
            "|72000.0|         72|\n",
            "|73000.0|         73|\n",
            "|90000.0|         90|\n",
            "|78000.0|         78|\n",
            "|69000.0|         69|\n",
            "|75000.0|         75|\n",
            "|77000.0|         77|\n",
            "|76000.0|         76|\n",
            "|90000.0|         90|\n",
            "|79000.0|         79|\n",
            "|77000.0|         77|\n",
            "+-------+-----------+\n",
            "only showing top 20 rows\n",
            "\n"
          ],
          "name": "stdout"
        }
      ]
    },
    {
      "metadata": {
        "id": "wACPeLtmjPN9",
        "colab_type": "code",
        "colab": {}
      },
      "cell_type": "code",
      "source": [
        ""
      ],
      "execution_count": 0,
      "outputs": []
    }
  ]
}