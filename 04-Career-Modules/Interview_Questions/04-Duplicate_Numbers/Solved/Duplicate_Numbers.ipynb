{
 "cells": [
  {
   "cell_type": "markdown",
   "metadata": {},
   "source": [
    "# Duplicate Numbers\n",
    "\n",
    "#### Challenge 1: Print all numbers with duplicates\n",
    "#### Challenge 2: Print only the numbers that were seen once\n",
    "#### Challenge 3: Count the number of duplicates"
   ]
  },
  {
   "cell_type": "code",
   "execution_count": 1,
   "metadata": {},
   "outputs": [],
   "source": [
    "numbers = [1, 6, 6, 3, 3, 3, 4]"
   ]
  },
  {
   "cell_type": "code",
   "execution_count": 2,
   "metadata": {},
   "outputs": [
    {
     "name": "stdout",
     "output_type": "stream",
     "text": [
      "Challenge 1:  {3, 6}\n",
      "Challenge 2:  {1, 3, 4, 6}\n",
      "Challenge 3:  {1: 1, 6: 2, 3: 3, 4: 1}\n"
     ]
    }
   ],
   "source": [
    "seen_once = set()\n",
    "duplicates = set()\n",
    "counts = dict()\n",
    "for number in numbers:\n",
    "    if number in seen_once:\n",
    "        duplicates.add(number)\n",
    "        counts[number] += 1\n",
    "    else:\n",
    "        seen_once.add(number)\n",
    "        counts[number] = 1\n",
    "print(\"Challenge 1: \", duplicates)\n",
    "print(\"Challenge 2: \", seen_once)\n",
    "print(\"Challenge 3: \", counts)"
   ]
  },
  {
   "cell_type": "code",
   "execution_count": 3,
   "metadata": {},
   "outputs": [
    {
     "name": "stdout",
     "output_type": "stream",
     "text": [
      "Challenge 1:  [3, 6]\n",
      "Challenge 2:  [1, 4]\n",
      "Challenge 3:  {1: 1, 3: 3, 4: 1, 6: 2}\n"
     ]
    }
   ],
   "source": [
    "from itertools import groupby\n",
    "\n",
    "numbers = [1, 6, 6, 3, 3, 3, 4]\n",
    "seen_once = []\n",
    "duplicates = []\n",
    "counts = {}\n",
    "for number, items in groupby(sorted(numbers)):\n",
    "    length = len(list(items))\n",
    "    counts[number] = length\n",
    "    if length > 1:\n",
    "        duplicates.append(number)\n",
    "    else:\n",
    "        seen_once.append(number)\n",
    "print(\"Challenge 1: \", duplicates)\n",
    "print(\"Challenge 2: \", seen_once)\n",
    "print(\"Challenge 3: \", counts)"
   ]
  }
 ],
 "metadata": {
  "kernelspec": {
   "display_name": "Python 3",
   "language": "python",
   "name": "python3"
  },
  "language_info": {
   "codemirror_mode": {
    "name": "ipython",
    "version": 3
   },
   "file_extension": ".py",
   "mimetype": "text/x-python",
   "name": "python",
   "nbconvert_exporter": "python",
   "pygments_lexer": "ipython3",
   "version": "3.6.1"
  },
  "varInspector": {
   "cols": {
    "lenName": 16,
    "lenType": 16,
    "lenVar": 40
   },
   "kernels_config": {
    "python": {
     "delete_cmd_postfix": "",
     "delete_cmd_prefix": "del ",
     "library": "var_list.py",
     "varRefreshCmd": "print(var_dic_list())"
    },
    "r": {
     "delete_cmd_postfix": ") ",
     "delete_cmd_prefix": "rm(",
     "library": "var_list.r",
     "varRefreshCmd": "cat(var_dic_list()) "
    }
   },
   "types_to_exclude": [
    "module",
    "function",
    "builtin_function_or_method",
    "instance",
    "_Feature"
   ],
   "window_display": false
  }
 },
 "nbformat": 4,
 "nbformat_minor": 2
}
