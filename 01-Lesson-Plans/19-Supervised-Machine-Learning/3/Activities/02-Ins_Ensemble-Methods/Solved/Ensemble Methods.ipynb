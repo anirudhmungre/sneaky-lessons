{
 "cells": [
  {
   "cell_type": "code",
   "execution_count": 1,
   "metadata": {},
   "outputs": [],
   "source": [
    "%matplotlib inline\n",
    "from matplotlib import pyplot as plt\n",
    "from sklearn.datasets import make_classification\n",
    "from sklearn.metrics import confusion_matrix, classification_report\n",
    "import numpy as np\n",
    "import pandas as pd\n",
    "from sklearn.tree import DecisionTreeClassifier\n",
    "from sklearn.model_selection import train_test_split\n",
    "from sklearn.preprocessing import StandardScaler\n",
    "from sklearn.metrics import accuracy_score\n",
    "from sklearn.utils.random import sample_without_replacement\n",
    "from sklearn.utils import resample"
   ]
  },
  {
   "cell_type": "code",
   "execution_count": 14,
   "metadata": {},
   "outputs": [],
   "source": [
    "# Create data\n",
    "X, y = make_classification(random_state=42, n_features=10, n_informative=5, n_redundant=0, n_samples=1000)\n",
    "X = pd.DataFrame(X)\n",
    "X_train, X_test, y_train, y_test = train_test_split(X, y, random_state=1)\n",
    "scaler = StandardScaler().fit(X_train)\n",
    "X_train_scaled = scaler.transform(X_train)\n",
    "X_test_scaled = scaler.transform(X_test)"
   ]
  },
  {
   "cell_type": "code",
   "execution_count": 15,
   "metadata": {},
   "outputs": [
    {
     "data": {
      "text/plain": [
       "array([[108,  21],\n",
       "       [ 13, 108]], dtype=int64)"
      ]
     },
     "execution_count": 15,
     "metadata": {},
     "output_type": "execute_result"
    }
   ],
   "source": [
    "clf = DecisionTreeClassifier().fit(X_train_scaled, y_train)\n",
    "y_pred = clf.predict(X_test_scaled)\n",
    "confusion_matrix(y_test, y_pred)"
   ]
  },
  {
   "cell_type": "code",
   "execution_count": 19,
   "metadata": {},
   "outputs": [
    {
     "name": "stdout",
     "output_type": "stream",
     "text": [
      "              precision    recall  f1-score   support\n",
      "\n",
      "           0       0.89      0.84      0.86       129\n",
      "           1       0.84      0.89      0.86       121\n",
      "\n",
      "    accuracy                           0.86       250\n",
      "   macro avg       0.86      0.86      0.86       250\n",
      "weighted avg       0.87      0.86      0.86       250\n",
      "\n"
     ]
    }
   ],
   "source": [
    "print(classification_report(y_test, y_pred))"
   ]
  },
  {
   "cell_type": "code",
   "execution_count": 20,
   "metadata": {},
   "outputs": [
    {
     "name": "stdout",
     "output_type": "stream",
     "text": [
      "Training Score: 1.0\n",
      "Testing Score: 0.864\n"
     ]
    }
   ],
   "source": [
    "print(f'Training Score: {clf.score(X_train_scaled, y_train)}')\n",
    "print(f'Testing Score: {clf.score(X_test_scaled, y_test)}')"
   ]
  },
  {
   "cell_type": "markdown",
   "metadata": {},
   "source": [
    "### Bagging\n",
    "Instead of having one decision tree, we make 50 random trees and average their output. Decision trees try to make the best decision possible at every point. So if we use the same input, we'll get the same decision tree each time. (And, we won't get a different answer after aggregating.) To get different trees, we give them different inputs by randomly sampling the input dataset. Random sampling with replacement is known as bootstrapping. (We use replacement because a data point might occur multiple times in the random sample.) This method of creating a random ensemble is known as bootstrap aggregating, or bagging."
   ]
  },
  {
   "cell_type": "code",
   "execution_count": 6,
   "metadata": {},
   "outputs": [
    {
     "data": {
      "image/png": "[encoded data removed]",
      "text/plain": [
       "<Figure size 432x288 with one axis>"
      ]
     },
     "metadata": {
      "needs_background": "light"
     },
     "output_type": "display_data"
    },
    {
     "name": "stdout",
     "output_type": "stream",
     "text": [
      "score: 0.904\n"
     ]
    }
   ],
   "source": [
    "clfs = []\n",
    "scores = []\n",
    "for i in range(50):\n",
    "    \n",
    "    # Sample the data for each new tree\n",
    "    X_train_scaled_bootstrap, y_train_bootstrap = resample(X_train_scaled, y_train, random_state=i)\n",
    "    \n",
    "    # Create a decision tree and append it to our list of classifiers\n",
    "    clf = DecisionTreeClassifier(random_state=i+200).fit(X_train_scaled_bootstrap, y_train_bootstrap)\n",
    "    clfs.append(clf)\n",
    "    \n",
    "    # Take the median score of all the created classifiers\n",
    "    y_preds = [clf.predict(X_test_scaled) for clf in clfs]\n",
    "    y_pred = pd.DataFrame(y_preds).median().round()\n",
    "    score = score = accuracy_score(y_test, y_pred)\n",
    "    scores.append(score)\n",
    "\n",
    "plt.plot(scores)\n",
    "plt.show()\n",
    "print(f'score: {score}')"
   ]
  },
  {
   "cell_type": "code",
   "execution_count": 7,
   "metadata": {},
   "outputs": [
    {
     "name": "stdout",
     "output_type": "stream",
     "text": [
      "Training Score: 0.9986666666666667\n",
      "Testing Score: 0.904\n"
     ]
    }
   ],
   "source": [
    "from sklearn.ensemble import RandomForestClassifier\n",
    "clf = RandomForestClassifier(random_state=1, n_estimators=50).fit(X_train_scaled, y_train)\n",
    "print(f'Training Score: {clf.score(X_train_scaled, y_train)}')\n",
    "print(f'Testing Score: {clf.score(X_test_scaled, y_test)}')"
   ]
  },
  {
   "cell_type": "markdown",
   "metadata": {},
   "source": [
    "We can go one step further by changing the behavior of the decision trees so that they randomly choose their splits. Counterintuitively, this can increase the accuracy of the model, even though we make each tree worse on its own."
   ]
  },
  {
   "cell_type": "code",
   "execution_count": 8,
   "metadata": {},
   "outputs": [
    {
     "data": {
      "image/png": "[encoded data removed]",
      "text/plain": [
       "<Figure size 432x288 with one axis>"
      ]
     },
     "metadata": {
      "needs_background": "light"
     },
     "output_type": "display_data"
    },
    {
     "name": "stdout",
     "output_type": "stream",
     "text": [
      "score: 0.924\n"
     ]
    }
   ],
   "source": [
    "clfs = []\n",
    "scores = []\n",
    "for i in range(50):\n",
    "    \n",
    "    # Sample the data for each new tree\n",
    "    X_train_scaled_bootstrap, y_train_bootstrap = resample(X_train_scaled, y_train, random_state=i)\n",
    "    \n",
    "    # Create a random decision tree and append it to our list of classifiers\n",
    "    clf = DecisionTreeClassifier(splitter='random', random_state=i+200).fit(X_train_scaled_bootstrap, y_train_bootstrap)\n",
    "    clfs.append(clf)\n",
    "    \n",
    "    # Take the median score of all the created classifiers\n",
    "    y_preds = [clf.predict(X_test_scaled) for clf in clfs]\n",
    "    y_pred = pd.DataFrame(y_preds).median().round()\n",
    "    score = score = accuracy_score(y_test, y_pred)\n",
    "    scores.append(score)\n",
    "\n",
    "plt.plot(scores)\n",
    "plt.show()\n",
    "print(f'score: {score}')"
   ]
  },
  {
   "cell_type": "markdown",
   "metadata": {},
   "source": [
    "#### This algorithm is known as \"Extremely Random Trees\"\n",
    "or ExtraTrees in scikit-learn"
   ]
  },
  {
   "cell_type": "code",
   "execution_count": 9,
   "metadata": {},
   "outputs": [
    {
     "name": "stdout",
     "output_type": "stream",
     "text": [
      "Training Score: 1.0\n",
      "Testing Score: 0.928\n"
     ]
    }
   ],
   "source": [
    "from sklearn.ensemble import ExtraTreesClassifier\n",
    "clf = ExtraTreesClassifier(random_state=1, n_estimators=50).fit(X_train_scaled, y_train)\n",
    "print(f'Training Score: {clf.score(X_train_scaled, y_train)}')\n",
    "print(f'Testing Score: {clf.score(X_test_scaled, y_test)}')"
   ]
  },
  {
   "cell_type": "markdown",
   "metadata": {},
   "source": [
    "## Boosting\n",
    "\n",
    "Boosting is another ensemble method that creates many weak learners (classifiers or regressors that do slightly better than chance). Boosting uses their predictions in aggregate to create one accurate prediction. However, unlike Bagging methods, each new weak learner is trained on data that skews the training dataset to data points that the previous weak learners didn't estimate well."
   ]
  },
  {
   "cell_type": "code",
   "execution_count": 10,
   "metadata": {},
   "outputs": [
    {
     "name": "stdout",
     "output_type": "stream",
     "text": [
      "              precision    recall  f1-score   support\n",
      "\n",
      "           0       0.85      0.95      0.90       129\n",
      "           1       0.94      0.82      0.88       121\n",
      "\n",
      "    accuracy                           0.89       250\n",
      "   macro avg       0.90      0.89      0.89       250\n",
      "weighted avg       0.89      0.89      0.89       250\n",
      "\n"
     ]
    }
   ],
   "source": [
    "from boost_helper_functions import bootstrap, get_estimator_weight, new_sample_weights\n",
    "\n",
    "n_estimators = 50\n",
    "\n",
    "estimator_weights = np.zeros(n_estimators)\n",
    "estimators = [DecisionTreeClassifier(max_depth=2) for i in range(n_estimators)]\n",
    "\n",
    "sample_weights = np.ones(len(X_train_scaled)) / len(X_train_scaled)\n",
    "for i in range(50):\n",
    "    estimator = estimators[i]\n",
    "    \n",
    "    # Fit the estimator to a bootstrapped sample\n",
    "    X_bootstrap, y_bootstrap = bootstrap(X_train_scaled, y_train, sample_weights, random_state=1)\n",
    "    estimator.fit(X_bootstrap, y_bootstrap)\n",
    "    \n",
    "    # Calculate the amount that each sample contributes to the total error\n",
    "    y_predict = estimator.predict(X_train_scaled)\n",
    "    errors = np.abs(y_predict - y_train)\n",
    "    normalized_errors = errors / np.abs(y_predict - y_train).max()\n",
    "        \n",
    "    # Calculate how much say this estimator should have in the final prediction\n",
    "    estimator_weights[i] = get_estimator_weight(sample_weights, normalized_errors)\n",
    "    \n",
    "    # Calculate which samples the next estimator should focus on more\n",
    "    sample_weights = new_sample_weights(sample_weights, normalized_errors)\n",
    "    \n",
    "y_preds = [reg.predict(X_test_scaled) for reg in estimators]\n",
    "y_pred = pd.DataFrame(y_preds).median().round()\n",
    "print(classification_report(y_test, y_pred))"
   ]
  },
  {
   "cell_type": "code",
   "execution_count": 25,
   "metadata": {},
   "outputs": [
    {
     "name": "stdout",
     "output_type": "stream",
     "text": [
      "Training Score: 1.0\n",
      "Testing Score: 0.9\n"
     ]
    }
   ],
   "source": [
    "from sklearn.ensemble import AdaBoostClassifier\n",
    "clf = AdaBoostClassifier(random_state=1, n_estimators=50, base_estimator=DecisionTreeClassifier(max_depth=2)).fit(X_train_scaled, y_train)\n",
    "print(f'Training Score: {clf.score(X_train_scaled, y_train)}')\n",
    "print(f'Testing Score: {clf.score(X_test_scaled, y_test)}')"
   ]
  },
  {
   "cell_type": "code",
   "execution_count": null,
   "metadata": {},
   "outputs": [],
   "source": []
  }
 ],
 "metadata": {
  "kernelspec": {
   "display_name": "Python 3",
   "language": "python",
   "name": "python3"
  },
  "language_info": {
   "codemirror_mode": {
    "name": "ipython",
    "version": 3
   },
   "file_extension": ".py",
   "mimetype": "text/x-python",
   "name": "python",
   "nbconvert_exporter": "python",
   "pygments_lexer": "ipython3",
   "version": "3.7.6"
  }
 },
 "nbformat": 4,
 "nbformat_minor": 4
}
