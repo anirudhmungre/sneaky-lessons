{
 "cells": [
  {
   "cell_type": "code",
   "execution_count": 1,
   "metadata": {},
   "outputs": [
    {
     "name": "stdout",
     "output_type": "stream",
     "text": [
      "USC00518316.csv                     USW00022551.csv\r\n",
      "USC00519281.csv                     hawaii.csv\r\n",
      "USW00022521.csv                     hi_weather_2000_2017_4_stations.csv\r\n"
     ]
    }
   ],
   "source": [
    "!ls ../Resources/original/"
   ]
  },
  {
   "cell_type": "code",
   "execution_count": 2,
   "metadata": {
    "collapsed": true
   },
   "outputs": [],
   "source": [
    "import pandas as pd\n",
    "import numpy as np\n",
    "import os"
   ]
  },
  {
   "cell_type": "code",
   "execution_count": 3,
   "metadata": {
    "collapsed": true
   },
   "outputs": [],
   "source": [
    "rootdir = os.getcwd()\n",
    "resourcesdir = os.path.join(rootdir, \"../Resources\")\n",
    "datadir = os.path.join(resourcesdir, \"original\")\n",
    "weathercsv = os.path.join(datadir, 'hawaii.csv')"
   ]
  },
  {
   "cell_type": "code",
   "execution_count": 4,
   "metadata": {},
   "outputs": [
    {
     "data": {
      "text/html": [
       "<div>\n",
       "<style>\n",
       "    .dataframe thead tr:only-child th {\n",
       "        text-align: right;\n",
       "    }\n",
       "\n",
       "    .dataframe thead th {\n",
       "        text-align: left;\n",
       "    }\n",
       "\n",
       "    .dataframe tbody tr th {\n",
       "        vertical-align: top;\n",
       "    }\n",
       "</style>\n",
       "<table border=\"1\" class=\"dataframe\">\n",
       "  <thead>\n",
       "    <tr style=\"text-align: right;\">\n",
       "      <th></th>\n",
       "      <th>STATION</th>\n",
       "      <th>NAME</th>\n",
       "      <th>LATITUDE</th>\n",
       "      <th>LONGITUDE</th>\n",
       "      <th>ELEVATION</th>\n",
       "      <th>DATE</th>\n",
       "      <th>PRCP</th>\n",
       "      <th>TOBS</th>\n",
       "    </tr>\n",
       "  </thead>\n",
       "  <tbody>\n",
       "    <tr>\n",
       "      <th>0</th>\n",
       "      <td>USC00519397</td>\n",
       "      <td>WAIKIKI 717.2, HI US</td>\n",
       "      <td>21.2716</td>\n",
       "      <td>-157.8168</td>\n",
       "      <td>3</td>\n",
       "      <td>1/1/10</td>\n",
       "      <td>0.08</td>\n",
       "      <td>65</td>\n",
       "    </tr>\n",
       "    <tr>\n",
       "      <th>1</th>\n",
       "      <td>USC00519397</td>\n",
       "      <td>WAIKIKI 717.2, HI US</td>\n",
       "      <td>21.2716</td>\n",
       "      <td>-157.8168</td>\n",
       "      <td>3</td>\n",
       "      <td>1/2/10</td>\n",
       "      <td>0</td>\n",
       "      <td>63</td>\n",
       "    </tr>\n",
       "    <tr>\n",
       "      <th>2</th>\n",
       "      <td>USC00519397</td>\n",
       "      <td>WAIKIKI 717.2, HI US</td>\n",
       "      <td>21.2716</td>\n",
       "      <td>-157.8168</td>\n",
       "      <td>3</td>\n",
       "      <td>1/3/10</td>\n",
       "      <td>0</td>\n",
       "      <td>74</td>\n",
       "    </tr>\n",
       "    <tr>\n",
       "      <th>3</th>\n",
       "      <td>USC00519397</td>\n",
       "      <td>WAIKIKI 717.2, HI US</td>\n",
       "      <td>21.2716</td>\n",
       "      <td>-157.8168</td>\n",
       "      <td>3</td>\n",
       "      <td>1/4/10</td>\n",
       "      <td>0</td>\n",
       "      <td>76</td>\n",
       "    </tr>\n",
       "    <tr>\n",
       "      <th>4</th>\n",
       "      <td>USC00519397</td>\n",
       "      <td>WAIKIKI 717.2, HI US</td>\n",
       "      <td>21.2716</td>\n",
       "      <td>-157.8168</td>\n",
       "      <td>3</td>\n",
       "      <td>1/6/10</td>\n",
       "      <td>NaN</td>\n",
       "      <td>73</td>\n",
       "    </tr>\n",
       "  </tbody>\n",
       "</table>\n",
       "</div>"
      ],
      "text/plain": [
       "       STATION                  NAME LATITUDE  LONGITUDE ELEVATION    DATE  \\\n",
       "0  USC00519397  WAIKIKI 717.2, HI US  21.2716  -157.8168         3  1/1/10   \n",
       "1  USC00519397  WAIKIKI 717.2, HI US  21.2716  -157.8168         3  1/2/10   \n",
       "2  USC00519397  WAIKIKI 717.2, HI US  21.2716  -157.8168         3  1/3/10   \n",
       "3  USC00519397  WAIKIKI 717.2, HI US  21.2716  -157.8168         3  1/4/10   \n",
       "4  USC00519397  WAIKIKI 717.2, HI US  21.2716  -157.8168         3  1/6/10   \n",
       "\n",
       "   PRCP TOBS  \n",
       "0  0.08   65  \n",
       "1     0   63  \n",
       "2     0   74  \n",
       "3     0   76  \n",
       "4   NaN   73  "
      ]
     },
     "execution_count": 4,
     "metadata": {},
     "output_type": "execute_result"
    }
   ],
   "source": [
    "df = pd.read_csv(weathercsv, dtype=object)\n",
    "df.head()"
   ]
  },
  {
   "cell_type": "code",
   "execution_count": 5,
   "metadata": {},
   "outputs": [
    {
     "data": {
      "text/html": [
       "<div>\n",
       "<style>\n",
       "    .dataframe thead tr:only-child th {\n",
       "        text-align: right;\n",
       "    }\n",
       "\n",
       "    .dataframe thead th {\n",
       "        text-align: left;\n",
       "    }\n",
       "\n",
       "    .dataframe tbody tr th {\n",
       "        vertical-align: top;\n",
       "    }\n",
       "</style>\n",
       "<table border=\"1\" class=\"dataframe\">\n",
       "  <thead>\n",
       "    <tr style=\"text-align: right;\">\n",
       "      <th></th>\n",
       "      <th>NAME</th>\n",
       "      <th>LATITUDE</th>\n",
       "      <th>LONGITUDE</th>\n",
       "      <th>ELEVATION</th>\n",
       "      <th>DATE</th>\n",
       "      <th>PRCP</th>\n",
       "      <th>TOBS</th>\n",
       "    </tr>\n",
       "    <tr>\n",
       "      <th>STATION</th>\n",
       "      <th></th>\n",
       "      <th></th>\n",
       "      <th></th>\n",
       "      <th></th>\n",
       "      <th></th>\n",
       "      <th></th>\n",
       "      <th></th>\n",
       "    </tr>\n",
       "  </thead>\n",
       "  <tbody>\n",
       "    <tr>\n",
       "      <th>USC00511918</th>\n",
       "      <td>1979</td>\n",
       "      <td>1979</td>\n",
       "      <td>1979</td>\n",
       "      <td>1979</td>\n",
       "      <td>1979</td>\n",
       "      <td>1932</td>\n",
       "      <td>1979</td>\n",
       "    </tr>\n",
       "    <tr>\n",
       "      <th>USC00513117</th>\n",
       "      <td>2709</td>\n",
       "      <td>2709</td>\n",
       "      <td>2709</td>\n",
       "      <td>2709</td>\n",
       "      <td>2709</td>\n",
       "      <td>2696</td>\n",
       "      <td>2709</td>\n",
       "    </tr>\n",
       "    <tr>\n",
       "      <th>USC00514830</th>\n",
       "      <td>2202</td>\n",
       "      <td>2202</td>\n",
       "      <td>2202</td>\n",
       "      <td>2202</td>\n",
       "      <td>2202</td>\n",
       "      <td>1937</td>\n",
       "      <td>2202</td>\n",
       "    </tr>\n",
       "    <tr>\n",
       "      <th>USC00516128</th>\n",
       "      <td>2612</td>\n",
       "      <td>2612</td>\n",
       "      <td>2612</td>\n",
       "      <td>2612</td>\n",
       "      <td>2612</td>\n",
       "      <td>2484</td>\n",
       "      <td>2612</td>\n",
       "    </tr>\n",
       "    <tr>\n",
       "      <th>USC00517948</th>\n",
       "      <td>1372</td>\n",
       "      <td>1372</td>\n",
       "      <td>1372</td>\n",
       "      <td>1372</td>\n",
       "      <td>1372</td>\n",
       "      <td>683</td>\n",
       "      <td>1372</td>\n",
       "    </tr>\n",
       "    <tr>\n",
       "      <th>USC00518838</th>\n",
       "      <td>511</td>\n",
       "      <td>511</td>\n",
       "      <td>511</td>\n",
       "      <td>511</td>\n",
       "      <td>511</td>\n",
       "      <td>342</td>\n",
       "      <td>511</td>\n",
       "    </tr>\n",
       "    <tr>\n",
       "      <th>USC00519281</th>\n",
       "      <td>2772</td>\n",
       "      <td>2772</td>\n",
       "      <td>2772</td>\n",
       "      <td>2772</td>\n",
       "      <td>2772</td>\n",
       "      <td>2772</td>\n",
       "      <td>2772</td>\n",
       "    </tr>\n",
       "    <tr>\n",
       "      <th>USC00519397</th>\n",
       "      <td>2724</td>\n",
       "      <td>2724</td>\n",
       "      <td>2724</td>\n",
       "      <td>2724</td>\n",
       "      <td>2724</td>\n",
       "      <td>2685</td>\n",
       "      <td>2724</td>\n",
       "    </tr>\n",
       "    <tr>\n",
       "      <th>USC00519523</th>\n",
       "      <td>2669</td>\n",
       "      <td>2669</td>\n",
       "      <td>2669</td>\n",
       "      <td>2669</td>\n",
       "      <td>2669</td>\n",
       "      <td>2572</td>\n",
       "      <td>2669</td>\n",
       "    </tr>\n",
       "  </tbody>\n",
       "</table>\n",
       "</div>"
      ],
      "text/plain": [
       "             NAME  LATITUDE  LONGITUDE  ELEVATION  DATE  PRCP  TOBS\n",
       "STATION                                                            \n",
       "USC00511918  1979      1979       1979       1979  1979  1932  1979\n",
       "USC00513117  2709      2709       2709       2709  2709  2696  2709\n",
       "USC00514830  2202      2202       2202       2202  2202  1937  2202\n",
       "USC00516128  2612      2612       2612       2612  2612  2484  2612\n",
       "USC00517948  1372      1372       1372       1372  1372   683  1372\n",
       "USC00518838   511       511        511        511   511   342   511\n",
       "USC00519281  2772      2772       2772       2772  2772  2772  2772\n",
       "USC00519397  2724      2724       2724       2724  2724  2685  2724\n",
       "USC00519523  2669      2669       2669       2669  2669  2572  2669"
      ]
     },
     "execution_count": 5,
     "metadata": {},
     "output_type": "execute_result"
    }
   ],
   "source": [
    "stations = df.groupby('STATION').count()\n",
    "stations"
   ]
  },
  {
   "cell_type": "code",
   "execution_count": 6,
   "metadata": {},
   "outputs": [
    {
     "data": {
      "text/plain": [
       "array(['USC00519397', 'USC00513117', 'USC00514830', 'USC00517948',\n",
       "       'USC00518838', 'USC00519523', 'USC00519281', 'USC00511918',\n",
       "       'USC00516128'], dtype=object)"
      ]
     },
     "execution_count": 6,
     "metadata": {},
     "output_type": "execute_result"
    }
   ],
   "source": [
    "station_list = df.STATION.unique()\n",
    "station_list"
   ]
  },
  {
   "cell_type": "code",
   "execution_count": 7,
   "metadata": {},
   "outputs": [],
   "source": [
    "# Create STATIONS Table\n",
    "\n",
    "# Read Source Table\n",
    "df = pd.read_csv(weathercsv, dtype=object)\n",
    "\n",
    "# Select the unique stations\n",
    "df = df.drop_duplicates(subset='STATION')\n",
    "\n",
    "# Drop the measurement data\n",
    "df = df.drop(['DATE', 'PRCP', 'TOBS'], axis=1)\n",
    "\n",
    "# Reset the index \n",
    "df = df.reset_index(drop=True)\n",
    "\n",
    "# Save file\n",
    "df.to_csv('hawaii_stations.csv', index=False)"
   ]
  },
  {
   "cell_type": "code",
   "execution_count": 8,
   "metadata": {},
   "outputs": [],
   "source": [
    "# Create MEASUREMENTS Table\n",
    "\n",
    "# Read Source Table\n",
    "df = pd.read_csv(weathercsv, dtype=object)\n",
    "\n",
    "# Drop Station data\n",
    "df = df.drop(['NAME', 'LATITUDE', 'LONGITUDE', 'ELEVATION'], axis=1)\n",
    "\n",
    "# Reset the Index\n",
    "df = df.reset_index(drop=True)\n",
    "\n",
    "# Save file\n",
    "df.to_csv('hawaii_measurements.csv', index=False)"
   ]
  },
  {
   "cell_type": "code",
   "execution_count": 9,
   "metadata": {},
   "outputs": [
    {
     "name": "stdout",
     "output_type": "stream",
     "text": [
      "generate_weather_station_csvs.ipynb hawaii_measurements.csv\r\n",
      "hawaii.csv                          hawaii_stations.csv\r\n"
     ]
    }
   ],
   "source": [
    "!ls"
   ]
  }
 ],
 "metadata": {
  "kernelspec": {
   "display_name": "Python 3",
   "language": "python",
   "name": "python3"
  },
  "language_info": {
   "codemirror_mode": {
    "name": "ipython",
    "version": 3
   },
   "file_extension": ".py",
   "mimetype": "text/x-python",
   "name": "python",
   "nbconvert_exporter": "python",
   "pygments_lexer": "ipython3",
   "version": "3.6.1"
  }
 },
 "nbformat": 4,
 "nbformat_minor": 2
}
