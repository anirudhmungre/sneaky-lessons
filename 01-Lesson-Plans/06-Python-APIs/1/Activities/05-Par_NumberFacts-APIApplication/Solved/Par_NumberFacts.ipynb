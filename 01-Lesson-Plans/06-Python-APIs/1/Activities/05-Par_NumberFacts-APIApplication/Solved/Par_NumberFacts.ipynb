{
 "cells": [
  {
   "cell_type": "code",
   "execution_count": 2,
   "metadata": {
    "collapsed": true
   },
   "outputs": [],
   "source": [
    "# Dependencies\n",
    "import requests\n",
    "import json"
   ]
  },
  {
   "cell_type": "code",
   "execution_count": 3,
   "metadata": {
    "collapsed": true
   },
   "outputs": [],
   "source": [
    "# Base URL for GET requests to retrieve number/date facts\n",
    "url = \"http://numbersapi.com/\""
   ]
  },
  {
   "cell_type": "code",
   "execution_count": 4,
   "metadata": {},
   "outputs": [
    {
     "name": "stdout",
     "output_type": "stream",
     "text": [
      "What type of data would you like to search for? [Trivia, Math, Date, or Year] Math\n"
     ]
    }
   ],
   "source": [
    "# Ask the user what kind of data they would like to search for\n",
    "question = (\"What type of data would you like to search for? \"\n",
    "            \"[Trivia, Math, Date, or Year] \")\n",
    "kind_of_search = input(question)"
   ]
  },
  {
   "cell_type": "code",
   "execution_count": 5,
   "metadata": {},
   "outputs": [
    {
     "name": "stdout",
     "output_type": "stream",
     "text": [
      "What number would you like to search for? 50\n",
      "50 is the smallest number that can be written as the sum of of 2 squares in 2 ways.\n"
     ]
    }
   ],
   "source": [
    "# If the kind of search is \"date\" take in two numbers\n",
    "if(kind_of_search.lower() == \"date\"):\n",
    "\n",
    "  # Collect the month to search for\n",
    "  month = input(\"What month would you like to search for? \")\n",
    "  # Collect the day to search for\n",
    "  day = input(\"What day would you like to search for? \")\n",
    "\n",
    "  # Make an API call to the \"date\" API and convert response object to JSON\n",
    "  response = requests.get(f\"{url}{month}/{day}/{kind_of_search.lower()}?json\").json()\n",
    "  # Print the fact stored within the response\n",
    "  print(response[\"text\"])\n",
    "\n",
    "# If the kind of search is anything but \"date\" then take one number\n",
    "else:\n",
    "\n",
    "  # Collect the number to search for\n",
    "  number = input(\"What number would you like to search for? \")\n",
    "\n",
    "  # Make an API call to the API and convert response object to JSON\n",
    "  response = requests.get(url + number + \"/\" +  kind_of_search.lower()+ \"?json\").json()\n",
    "  # Print the fact stored within the response\n",
    "  print(response[\"text\"])"
   ]
  },
  {
   "cell_type": "code",
   "execution_count": null,
   "metadata": {
    "collapsed": true
   },
   "outputs": [],
   "source": []
  }
 ],
 "metadata": {
  "kernelspec": {
   "display_name": "Python 3",
   "language": "python",
   "name": "python3"
  },
  "language_info": {
   "codemirror_mode": {
    "name": "ipython",
    "version": 3
   },
   "file_extension": ".py",
   "mimetype": "text/x-python",
   "name": "python",
   "nbconvert_exporter": "python",
   "pygments_lexer": "ipython3",
   "version": "3.6.1"
  },
  "varInspector": {
   "cols": {
    "lenName": 16,
    "lenType": 16,
    "lenVar": 40
   },
   "kernels_config": {
    "python": {
     "delete_cmd_postfix": "",
     "delete_cmd_prefix": "del ",
     "library": "var_list.py",
     "varRefreshCmd": "print(var_dic_list())"
    },
    "r": {
     "delete_cmd_postfix": ") ",
     "delete_cmd_prefix": "rm(",
     "library": "var_list.r",
     "varRefreshCmd": "cat(var_dic_list()) "
    }
   },
   "types_to_exclude": [
    "module",
    "function",
    "builtin_function_or_method",
    "instance",
    "_Feature"
   ],
   "window_display": false
  }
 },
 "nbformat": 4,
 "nbformat_minor": 2
}
