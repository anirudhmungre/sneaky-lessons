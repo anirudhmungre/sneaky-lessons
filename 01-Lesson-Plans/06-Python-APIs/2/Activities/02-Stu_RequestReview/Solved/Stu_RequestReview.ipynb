{
 "cells": [
  {
   "cell_type": "code",
   "execution_count": 1,
   "metadata": {},
   "outputs": [],
   "source": [
    "# Dependencies\n",
    "import json\n",
    "import requests \n",
    "from pprint import pprint"
   ]
  },
  {
   "cell_type": "code",
   "execution_count": 2,
   "metadata": {},
   "outputs": [
    {
     "data": {
      "text/plain": [
       "200"
      ]
     },
     "execution_count": 2,
     "metadata": {},
     "output_type": "execute_result"
    }
   ],
   "source": [
    "# Specify the URL\n",
    "url = \"https://2u-data-curriculum-team.s3.amazonaws.com/dataviz-classroom/v1.1/06-Python-APIs/request_review.json\"\n",
    "\n",
    "# Make request and store response\n",
    "response = requests.get(url)\n",
    "\n",
    "# Verify status code\n",
    "response.status_code"
   ]
  },
  {
   "cell_type": "code",
   "execution_count": 3,
   "metadata": {},
   "outputs": [],
   "source": [
    "# JSON-ify response\n",
    "response_json = response.json()"
   ]
  },
  {
   "cell_type": "code",
   "execution_count": 4,
   "metadata": {
    "scrolled": true
   },
   "outputs": [
    {
     "name": "stdout",
     "output_type": "stream",
     "text": [
      "(\"The first response is {'id': 1, 'common_name': 'Tiger cat', \"\n",
      " \"'scientific_name': 'Dasyurus maculatus', 'info': 'Curabitur at ipsum ac \"\n",
      " 'tellus semper interdum. Mauris ullamcorper purus sit amet nulla. Quisque '\n",
      " \"arcu libero, rutrum ac, lobortis vel, dapibus at, diam.', 'location': \"\n",
      " \"'Russia'}.\")\n",
      "(\"The last response is {'id': 1000, 'common_name': 'Sloth, two-toed tree', \"\n",
      " \"'scientific_name': 'Choloepus hoffmani', 'info': 'Curabitur in libero ut \"\n",
      " 'massa volutpat convallis. Morbi odio odio, elementum eu, interdum eu, '\n",
      " 'tincidunt in, leo. Maecenas pulvinar lobortis est.\\\\n\\\\nPhasellus sit amet '\n",
      " \"erat. Nulla tempus. Vivamus in felis eu sapien cursus vestibulum.', \"\n",
      " \"'location': 'United States'}.\")\n"
     ]
    }
   ],
   "source": [
    "# Print first and last articles\n",
    "pprint(f\"The first response is {response_json[0]}.\")\n",
    "pprint(f\"The last response is {response_json[-1]}.\")"
   ]
  },
  {
   "cell_type": "code",
   "execution_count": 5,
   "metadata": {},
   "outputs": [
    {
     "name": "stdout",
     "output_type": "stream",
     "text": [
      "We received 1000 responses.\n"
     ]
    }
   ],
   "source": [
    "print(f\"We received {len(response_json)} responses.\")"
   ]
  },
  {
   "cell_type": "code",
   "execution_count": null,
   "metadata": {},
   "outputs": [],
   "source": []
  }
 ],
 "metadata": {
  "kernelspec": {
   "display_name": "Python 3",
   "language": "python",
   "name": "python3"
  },
  "language_info": {
   "codemirror_mode": {
    "name": "ipython",
    "version": 3
   },
   "file_extension": ".py",
   "mimetype": "text/x-python",
   "name": "python",
   "nbconvert_exporter": "python",
   "pygments_lexer": "ipython3",
   "version": "3.7.9"
  },
  "varInspector": {
   "cols": {
    "lenName": 16,
    "lenType": 16,
    "lenVar": 40
   },
   "kernels_config": {
    "python": {
     "delete_cmd_postfix": "",
     "delete_cmd_prefix": "del ",
     "library": "var_list.py",
     "varRefreshCmd": "print(var_dic_list())"
    },
    "r": {
     "delete_cmd_postfix": ") ",
     "delete_cmd_prefix": "rm(",
     "library": "var_list.r",
     "varRefreshCmd": "cat(var_dic_list()) "
    }
   },
   "types_to_exclude": [
    "module",
    "function",
    "builtin_function_or_method",
    "instance",
    "_Feature"
   ],
   "window_display": false
  }
 },
 "nbformat": 4,
 "nbformat_minor": 4
}
