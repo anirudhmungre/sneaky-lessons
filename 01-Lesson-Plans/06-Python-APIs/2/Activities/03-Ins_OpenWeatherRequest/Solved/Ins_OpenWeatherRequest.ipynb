{
 "cells": [
  {
   "cell_type": "code",
   "execution_count": 1,
   "metadata": {
    "collapsed": true
   },
   "outputs": [],
   "source": [
    "# Dependencies\n",
    "import json\n",
    "import requests\n",
    "from config import api_key"
   ]
  },
  {
   "cell_type": "code",
   "execution_count": 2,
   "metadata": {
    "collapsed": true
   },
   "outputs": [],
   "source": [
    "# Save config information\n",
    "url = \"http://api.openweathermap.org/data/2.5/weather?\"\n",
    "city = \"London\"\n",
    "\n",
    "# Build query URL\n",
    "query_url = url + \"appid=\" + api_key + \"&q=\" + city"
   ]
  },
  {
   "cell_type": "code",
   "execution_count": 3,
   "metadata": {},
   "outputs": [
    {
     "name": "stdout",
     "output_type": "stream",
     "text": [
      "The weather API responded with: {'coord': {'lon': -0.13, 'lat': 51.51}, 'weather': [{'id': 721, 'main': 'Haze', 'description': 'haze', 'icon': '50n'}, {'id': 500, 'main': 'Rain', 'description': 'light rain', 'icon': '10n'}], 'base': 'stations', 'main': {'temp': 277.48, 'pressure': 1026, 'humidity': 86, 'temp_min': 277.15, 'temp_max': 278.15}, 'visibility': 5000, 'wind': {'speed': 2.1, 'deg': 360}, 'clouds': {'all': 90}, 'dt': 1519240800, 'sys': {'type': 1, 'id': 5093, 'message': 0.0062, 'country': 'GB', 'sunrise': 1519196463, 'sunset': 1519234070}, 'id': 2643743, 'name': 'London', 'cod': 200}.\n"
     ]
    }
   ],
   "source": [
    "# Get weather data\n",
    "weather_response = requests.get(query_url)\n",
    "weather_json = weather_response.json()\n",
    "\n",
    "# Get the temperature from the response\n",
    "print(f\"The weather API responded with: {weather_json}.\")"
   ]
  }
 ],
 "metadata": {
  "kernelspec": {
   "display_name": "Python [default]",
   "language": "python",
   "name": "python3"
  },
  "language_info": {
   "codemirror_mode": {
    "name": "ipython",
    "version": 3
   },
   "file_extension": ".py",
   "mimetype": "text/x-python",
   "name": "python",
   "nbconvert_exporter": "python",
   "pygments_lexer": "ipython3",
   "version": "3.6.1"
  },
  "varInspector": {
   "cols": {
    "lenName": 16,
    "lenType": 16,
    "lenVar": 40
   },
   "kernels_config": {
    "python": {
     "delete_cmd_postfix": "",
     "delete_cmd_prefix": "del ",
     "library": "var_list.py",
     "varRefreshCmd": "print(var_dic_list())"
    },
    "r": {
     "delete_cmd_postfix": ") ",
     "delete_cmd_prefix": "rm(",
     "library": "var_list.r",
     "varRefreshCmd": "cat(var_dic_list()) "
    }
   },
   "types_to_exclude": [
    "module",
    "function",
    "builtin_function_or_method",
    "instance",
    "_Feature"
   ],
   "window_display": false
  }
 },
 "nbformat": 4,
 "nbformat_minor": 2
}
