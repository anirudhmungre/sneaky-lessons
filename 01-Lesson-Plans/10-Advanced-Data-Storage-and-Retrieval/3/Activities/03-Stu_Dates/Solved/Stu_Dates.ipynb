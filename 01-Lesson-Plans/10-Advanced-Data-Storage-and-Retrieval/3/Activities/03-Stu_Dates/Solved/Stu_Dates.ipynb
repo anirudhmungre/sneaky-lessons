{
 "cells": [
  {
   "cell_type": "markdown",
   "metadata": {
    "slideshow": {
     "slide_type": "slide"
    }
   },
   "source": [
    "# SQLAlchemy, Sqlite, and Dates"
   ]
  },
  {
   "cell_type": "markdown",
   "metadata": {
    "slideshow": {
     "slide_type": "slide"
    }
   },
   "source": [
    "## Setup"
   ]
  },
  {
   "cell_type": "code",
   "execution_count": 1,
   "metadata": {},
   "outputs": [],
   "source": [
    "import matplotlib\n",
    "from matplotlib import style\n",
    "style.use('fivethirtyeight')\n",
    "import matplotlib.pyplot as plt\n",
    "import pandas as pd\n",
    "\n",
    "# Python SQL toolkit and Object Relational Mapper\n",
    "import sqlalchemy\n",
    "from sqlalchemy.ext.automap import automap_base\n",
    "from sqlalchemy.orm import Session\n",
    "from sqlalchemy import create_engine, inspect, func"
   ]
  },
  {
   "cell_type": "code",
   "execution_count": 2,
   "metadata": {
    "slideshow": {
     "slide_type": "subslide"
    }
   },
   "outputs": [],
   "source": [
    "engine = create_engine(\"sqlite:///../Resources/dow.sqlite\", echo=False)"
   ]
  },
  {
   "cell_type": "code",
   "execution_count": 3,
   "metadata": {
    "slideshow": {
     "slide_type": "subslide"
    }
   },
   "outputs": [
    {
     "data": {
      "text/plain": [
       "[(1, 1, 'AA', '2011-01-07', 15.82, 16.72, 15.78, 16.42, 239655616, None),\n",
       " (2, 1, 'AA', '2011-01-14', 16.71, 16.71, 15.64, 15.97, 242963398, None),\n",
       " (3, 1, 'AA', '2011-01-21', 16.19, 16.38, 15.6, 15.79, 138428495, None),\n",
       " (4, 1, 'AA', '2011-01-28', 15.87, 16.63, 15.82, 16.13, 151379173, None),\n",
       " (5, 1, 'AA', '2011-02-04', 16.18, 17.39, 16.18, 17.14, 154387761, None)]"
      ]
     },
     "execution_count": 3,
     "metadata": {},
     "output_type": "execute_result"
    }
   ],
   "source": [
    "engine.execute('SELECT * FROM dow LIMIT 5').fetchall()"
   ]
  },
  {
   "cell_type": "code",
   "execution_count": 4,
   "metadata": {},
   "outputs": [
    {
     "name": "stdout",
     "output_type": "stream",
     "text": [
      "id INTEGER\n",
      "quarter INTEGER\n",
      "stock TEXT\n",
      "date TEXT\n",
      "open_price FLOAT\n",
      "high_price FLOAT\n",
      "low_price FLOAT\n",
      "close_price FLOAT\n",
      "volume INTEGER\n",
      "percent_change FLOAT\n"
     ]
    }
   ],
   "source": [
    "inspector = inspect(engine)\n",
    "columns = inspector.get_columns('dow')\n",
    "for c in columns:\n",
    "    print(c['name'], c[\"type\"])"
   ]
  },
  {
   "cell_type": "markdown",
   "metadata": {
    "slideshow": {
     "slide_type": "slide"
    }
   },
   "source": [
    "## Reflect and query dates"
   ]
  },
  {
   "cell_type": "code",
   "execution_count": 5,
   "metadata": {
    "slideshow": {
     "slide_type": "subslide"
    }
   },
   "outputs": [],
   "source": [
    "# Reflect Database into ORM class\n",
    "Base = automap_base()\n",
    "Base.prepare(engine, reflect=True)\n",
    "Dow = Base.classes.dow"
   ]
  },
  {
   "cell_type": "code",
   "execution_count": 6,
   "metadata": {
    "slideshow": {
     "slide_type": "fragment"
    }
   },
   "outputs": [],
   "source": [
    "session = Session(engine)"
   ]
  },
  {
   "cell_type": "markdown",
   "metadata": {
    "slideshow": {
     "slide_type": "subslide"
    }
   },
   "source": [
    "## Analysis"
   ]
  },
  {
   "cell_type": "markdown",
   "metadata": {},
   "source": [
    "Analyze the Average prices (open, high, low, close) for all stocks in the Month of May"
   ]
  },
  {
   "cell_type": "code",
   "execution_count": 7,
   "metadata": {
    "nbgrader": {
     "grade": false,
     "grade_id": "cell-a5033f5b305f26d6",
     "locked": false,
     "schema_version": 1,
     "solution": true
    }
   },
   "outputs": [
    {
     "data": {
      "text/plain": [
       "[('AA', 16.8475, 17.3375, 16.4175, 16.747500000000002),\n",
       " ('AXP', 49.89750000000001, 51.07, 49.315, 50.5025),\n",
       " ('BA', 78.7175, 79.2175, 76.8825, 78.2125),\n",
       " ('BAC', 12.0, 12.235, 11.7325, 11.8775),\n",
       " ('CAT', 108.5525, 110.5975, 104.045, 106.4),\n",
       " ('CSCO', 17.067500000000003, 17.255000000000003, 16.5925, 16.8575),\n",
       " ('CVX', 103.9725, 105.72749999999999, 100.4575, 102.76249999999999),\n",
       " ('DD', 53.9625, 54.9225, 52.14, 53.21),\n",
       " ('DIS', 42.3, 42.8175, 41.11749999999999, 41.900000000000006),\n",
       " ('GE', 19.96, 20.175, 19.4875, 19.740000000000002),\n",
       " ('HD', 36.765, 37.51, 36.504999999999995, 36.7625),\n",
       " ('HPQ', 39.315, 40.14, 37.8425, 38.54),\n",
       " ('IBM', 169.7025, 171.58, 166.9375, 169.11749999999998),\n",
       " ('INTC', 23.0975, 23.67, 22.652500000000003, 23.0225),\n",
       " ('JNJ', 65.6575, 66.8475, 65.0575, 66.08749999999999),\n",
       " ('JPM', 44.015, 44.709999999999994, 43.019999999999996, 43.527499999999996),\n",
       " ('KO', 67.5775, 68.32499999999999, 66.75750000000001, 67.4725),\n",
       " ('KRFT', 34.305, 35.0225, 33.945, 34.7375),\n",
       " ('MCD', 79.95750000000001, 81.5525, 79.8025, 80.8475),\n",
       " ('MMM', 95.17750000000001, 96.20750000000001, 93.2425, 94.66),\n",
       " ('MRK', 36.57, 37.184999999999995, 36.21, 36.685),\n",
       " ('MSFT', 25.2275, 25.5775, 24.677500000000002, 25.0375),\n",
       " ('PFE', 20.75, 21.1125, 20.3875, 20.7725),\n",
       " ('PG', 65.9075, 67.1825, 65.49249999999999, 66.4225),\n",
       " ('T', 31.28, 31.7, 30.974999999999998, 31.32),\n",
       " ('TRV', 62.7625, 63.3425, 61.879999999999995, 62.3825),\n",
       " ('UTX', 88.445, 89.20500000000001, 86.50249999999998, 88.005),\n",
       " ('VZ', 37.405, 37.6125, 36.7225, 37.09),\n",
       " ('WMT', 55.14, 55.9475, 54.237500000000004, 55.182500000000005),\n",
       " ('XOM', 82.8875, 84.27499999999999, 80.16999999999999, 81.94)]"
      ]
     },
     "execution_count": 7,
     "metadata": {},
     "output_type": "execute_result"
    }
   ],
   "source": [
    "# Query for the stock and average prices (open, high, low, close) \n",
    "# for all stock in the month of May\n",
    "# Sort the result by stock name\n",
    "sel = [Dow.stock, \n",
    "       func.avg(Dow.open_price), \n",
    "       func.avg(Dow.high_price), \n",
    "       func.avg(Dow.low_price), \n",
    "       func.avg(Dow.close_price)]\n",
    "may_averages = session.query(*sel).\\\n",
    "    filter(func.strftime(\"%m\", Dow.date) == \"05\").\\\n",
    "    group_by(Dow.stock).\\\n",
    "    order_by(Dow.stock).all()\n",
    "may_averages"
   ]
  },
  {
   "cell_type": "code",
   "execution_count": 8,
   "metadata": {
    "nbgrader": {
     "grade": false,
     "grade_id": "cell-8f14868d3f8f3f50",
     "locked": false,
     "schema_version": 1,
     "solution": true
    }
   },
   "outputs": [
    {
     "data": {
      "image/png": "[encoded data removed]",
      "text/plain": [
       "<Figure size 432x288 with 1 Axes>"
      ]
     },
     "metadata": {
      "needs_background": "light"
     },
     "output_type": "display_data"
    }
   ],
   "source": [
    "# Plot the Results in a Matplotlib bar chart\n",
    "df = pd.DataFrame(may_averages, columns=['stock', 'open_avg', 'high_avg', 'low_avg', 'close_avg'])\n",
    "df.set_index('stock', inplace=True)\n",
    "df.plot.bar()\n",
    "plt.tight_layout()\n",
    "plt.show()"
   ]
  },
  {
   "cell_type": "markdown",
   "metadata": {},
   "source": [
    "### Bonus\n",
    "Calculate the high-low peak-to-peak (PTP) values for `IBM` stock after `2011-05-31`. \n",
    "* Note: high-low PTP is calculated using `high_price` - `low_price`\n",
    "* Use a DateTime.date object in the query filter\n",
    "* Use list comprehension to create a list of dictionaries from the query results\n",
    "* Create a dataframe from the list of dictionaries\n",
    "* Use the `boxplot()` method on the dataframe to plot PTP distribution statistics"
   ]
  },
  {
   "cell_type": "code",
   "execution_count": 9,
   "metadata": {
    "nbgrader": {
     "grade": false,
     "grade_id": "cell-91ca80cc05b37ea7",
     "locked": false,
     "schema_version": 1,
     "solution": true
    },
    "slideshow": {
     "slide_type": "fragment"
    }
   },
   "outputs": [
    {
     "data": {
      "text/plain": [
       "[{'Date': '2011-06-03', 'PTP': 5.759999999999991},\n",
       " {'Date': '2011-06-10', 'PTP': 3.0900000000000034},\n",
       " {'Date': '2011-06-17', 'PTP': 3.579999999999984},\n",
       " {'Date': '2011-06-24', 'PTP': 3.219999999999999}]"
      ]
     },
     "execution_count": 9,
     "metadata": {},
     "output_type": "execute_result"
    }
   ],
   "source": [
    "# Design a query to calculate the PTP for stock `IBM` after May, 2011\n",
    "import datetime as dt\n",
    "\n",
    "date = dt.datetime(2011, 5, 31)\n",
    "\n",
    "results = session.query(Dow.high_price - Dow.low_price, \n",
    "                        Dow.date).\\\n",
    "                  filter(Dow.date > date).filter(Dow.stock == 'IBM').all()\n",
    "\n",
    "# List comprehension solution\n",
    "ptp_rows = [{\"Date\": result[1], \"PTP\": result[0]} for result in results]\n",
    "ptp_rows"
   ]
  },
  {
   "cell_type": "code",
   "execution_count": 10,
   "metadata": {},
   "outputs": [
    {
     "data": {
      "image/png": "[encoded data removed]",
      "text/plain": [
       "<Figure size 432x288 with 1 Axes>"
      ]
     },
     "metadata": {
      "needs_background": "light"
     },
     "output_type": "display_data"
    }
   ],
   "source": [
    "# Load the list comprehension rows into a dataframe, set the index to the date, and plot the PTPs\n",
    "pd.DataFrame(ptp_rows).set_index(\"Date\").boxplot(patch_artist=True)\n",
    "plt.title(\"IBM PTPs\")\n",
    "plt.show()"
   ]
  }
 ],
 "metadata": {
  "celltoolbar": "Create Assignment",
  "kernelspec": {
   "display_name": "Python 3",
   "language": "python",
   "name": "python3"
  },
  "language_info": {
   "codemirror_mode": {
    "name": "ipython",
    "version": 3
   },
   "file_extension": ".py",
   "mimetype": "text/x-python",
   "name": "python",
   "nbconvert_exporter": "python",
   "pygments_lexer": "ipython3",
   "version": "3.7.9"
  },
  "varInspector": {
   "cols": {
    "lenName": 16,
    "lenType": 16,
    "lenVar": 40
   },
   "kernels_config": {
    "python": {
     "delete_cmd_postfix": "",
     "delete_cmd_prefix": "del ",
     "library": "var_list.py",
     "varRefreshCmd": "print(var_dic_list())"
    },
    "r": {
     "delete_cmd_postfix": ") ",
     "delete_cmd_prefix": "rm(",
     "library": "var_list.r",
     "varRefreshCmd": "cat(var_dic_list()) "
    }
   },
   "types_to_exclude": [
    "module",
    "function",
    "builtin_function_or_method",
    "instance",
    "_Feature"
   ],
   "window_display": false
  }
 },
 "nbformat": 4,
 "nbformat_minor": 4
}
