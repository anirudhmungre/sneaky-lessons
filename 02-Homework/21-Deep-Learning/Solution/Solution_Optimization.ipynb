{
 "cells": [
  {
   "cell_type": "markdown",
   "metadata": {},
   "source": [
    "## Optimize the Model"
   ]
  },
  {
   "cell_type": "code",
   "execution_count": 2,
   "metadata": {},
   "outputs": [
    {
     "data": {
      "text/html": [
       "<div>\n",
       "<style scoped>\n",
       "    .dataframe tbody tr th:only-of-type {\n",
       "        vertical-align: middle;\n",
       "    }\n",
       "\n",
       "    .dataframe tbody tr th {\n",
       "        vertical-align: top;\n",
       "    }\n",
       "\n",
       "    .dataframe thead th {\n",
       "        text-align: right;\n",
       "    }\n",
       "</style>\n",
       "<table border=\"1\" class=\"dataframe\">\n",
       "  <thead>\n",
       "    <tr style=\"text-align: right;\">\n",
       "      <th></th>\n",
       "      <th>EIN</th>\n",
       "      <th>NAME</th>\n",
       "      <th>APPLICATION_TYPE</th>\n",
       "      <th>AFFILIATION</th>\n",
       "      <th>CLASSIFICATION</th>\n",
       "      <th>USE_CASE</th>\n",
       "      <th>ORGANIZATION</th>\n",
       "      <th>STATUS</th>\n",
       "      <th>INCOME_AMT</th>\n",
       "      <th>SPECIAL_CONSIDERATIONS</th>\n",
       "      <th>ASK_AMT</th>\n",
       "      <th>IS_SUCCESSFUL</th>\n",
       "    </tr>\n",
       "  </thead>\n",
       "  <tbody>\n",
       "    <tr>\n",
       "      <th>0</th>\n",
       "      <td>10520599</td>\n",
       "      <td>BLUE KNIGHTS MOTORCYCLE CLUB</td>\n",
       "      <td>T10</td>\n",
       "      <td>Independent</td>\n",
       "      <td>C1000</td>\n",
       "      <td>ProductDev</td>\n",
       "      <td>Association</td>\n",
       "      <td>1</td>\n",
       "      <td>0</td>\n",
       "      <td>N</td>\n",
       "      <td>5000</td>\n",
       "      <td>1</td>\n",
       "    </tr>\n",
       "    <tr>\n",
       "      <th>1</th>\n",
       "      <td>10531628</td>\n",
       "      <td>AMERICAN CHESAPEAKE CLUB CHARITABLE TR</td>\n",
       "      <td>T3</td>\n",
       "      <td>Independent</td>\n",
       "      <td>C2000</td>\n",
       "      <td>Preservation</td>\n",
       "      <td>Co-operative</td>\n",
       "      <td>1</td>\n",
       "      <td>1-9999</td>\n",
       "      <td>N</td>\n",
       "      <td>108590</td>\n",
       "      <td>1</td>\n",
       "    </tr>\n",
       "    <tr>\n",
       "      <th>2</th>\n",
       "      <td>10547893</td>\n",
       "      <td>ST CLOUD PROFESSIONAL FIREFIGHTERS</td>\n",
       "      <td>T5</td>\n",
       "      <td>CompanySponsored</td>\n",
       "      <td>C3000</td>\n",
       "      <td>ProductDev</td>\n",
       "      <td>Association</td>\n",
       "      <td>1</td>\n",
       "      <td>0</td>\n",
       "      <td>N</td>\n",
       "      <td>5000</td>\n",
       "      <td>0</td>\n",
       "    </tr>\n",
       "    <tr>\n",
       "      <th>3</th>\n",
       "      <td>10553066</td>\n",
       "      <td>SOUTHSIDE ATHLETIC ASSOCIATION</td>\n",
       "      <td>T3</td>\n",
       "      <td>CompanySponsored</td>\n",
       "      <td>C2000</td>\n",
       "      <td>Preservation</td>\n",
       "      <td>Trust</td>\n",
       "      <td>1</td>\n",
       "      <td>10000-24999</td>\n",
       "      <td>N</td>\n",
       "      <td>6692</td>\n",
       "      <td>1</td>\n",
       "    </tr>\n",
       "    <tr>\n",
       "      <th>4</th>\n",
       "      <td>10556103</td>\n",
       "      <td>GENETIC RESEARCH INSTITUTE OF THE DESERT</td>\n",
       "      <td>T3</td>\n",
       "      <td>Independent</td>\n",
       "      <td>C1000</td>\n",
       "      <td>Heathcare</td>\n",
       "      <td>Trust</td>\n",
       "      <td>1</td>\n",
       "      <td>100000-499999</td>\n",
       "      <td>N</td>\n",
       "      <td>142590</td>\n",
       "      <td>1</td>\n",
       "    </tr>\n",
       "  </tbody>\n",
       "</table>\n",
       "</div>"
      ],
      "text/plain": [
       "        EIN                                      NAME APPLICATION_TYPE  \\\n",
       "0  10520599              BLUE KNIGHTS MOTORCYCLE CLUB              T10   \n",
       "1  10531628    AMERICAN CHESAPEAKE CLUB CHARITABLE TR               T3   \n",
       "2  10547893        ST CLOUD PROFESSIONAL FIREFIGHTERS               T5   \n",
       "3  10553066            SOUTHSIDE ATHLETIC ASSOCIATION               T3   \n",
       "4  10556103  GENETIC RESEARCH INSTITUTE OF THE DESERT               T3   \n",
       "\n",
       "        AFFILIATION CLASSIFICATION      USE_CASE  ORGANIZATION  STATUS  \\\n",
       "0       Independent          C1000    ProductDev   Association       1   \n",
       "1       Independent          C2000  Preservation  Co-operative       1   \n",
       "2  CompanySponsored          C3000    ProductDev   Association       1   \n",
       "3  CompanySponsored          C2000  Preservation         Trust       1   \n",
       "4       Independent          C1000     Heathcare         Trust       1   \n",
       "\n",
       "      INCOME_AMT SPECIAL_CONSIDERATIONS  ASK_AMT  IS_SUCCESSFUL  \n",
       "0              0                      N     5000              1  \n",
       "1         1-9999                      N   108590              1  \n",
       "2              0                      N     5000              0  \n",
       "3    10000-24999                      N     6692              1  \n",
       "4  100000-499999                      N   142590              1  "
      ]
     },
     "execution_count": 2,
     "metadata": {},
     "output_type": "execute_result"
    }
   ],
   "source": [
    "# Import our dependencies\n",
    "from sklearn.model_selection import train_test_split\n",
    "from sklearn.preprocessing import StandardScaler\n",
    "import pandas as pd\n",
    "import tensorflow as tf\n",
    "\n",
    "#  Import and read the charity_data.csv.\n",
    "import pandas as pd \n",
    "application_df = pd.read_csv(\"charity_data.csv\")\n",
    "application_df.head()"
   ]
  },
  {
   "cell_type": "code",
   "execution_count": 3,
   "metadata": {},
   "outputs": [],
   "source": [
    "# Drop the non-beneficial ID columns\n",
    "application_df = application_df.drop([\"EIN\"],1)"
   ]
  },
  {
   "cell_type": "code",
   "execution_count": 4,
   "metadata": {},
   "outputs": [
    {
     "data": {
      "text/plain": [
       "NAME                      19568\n",
       "APPLICATION_TYPE             17\n",
       "AFFILIATION                   6\n",
       "CLASSIFICATION               71\n",
       "USE_CASE                      5\n",
       "ORGANIZATION                  4\n",
       "STATUS                        2\n",
       "INCOME_AMT                    9\n",
       "SPECIAL_CONSIDERATIONS        2\n",
       "ASK_AMT                    8747\n",
       "IS_SUCCESSFUL                 2\n",
       "dtype: int64"
      ]
     },
     "execution_count": 4,
     "metadata": {},
     "output_type": "execute_result"
    }
   ],
   "source": [
    "application_df.nunique()"
   ]
  },
  {
   "cell_type": "code",
   "execution_count": 5,
   "metadata": {},
   "outputs": [
    {
     "data": {
      "text/plain": [
       "PARENT BOOSTER USA INC                                             1260\n",
       "TOPS CLUB INC                                                       765\n",
       "UNITED STATES BOWLING CONGRESS INC                                  700\n",
       "WASHINGTON STATE UNIVERSITY                                         492\n",
       "AMATEUR ATHLETIC UNION OF THE UNITED STATES INC                     408\n",
       "                                                                   ... \n",
       "HUMBLE ISD EDUCATIONAL SUPPORT GROUPS INC                             6\n",
       "HANDS FOR LIFE                                                        6\n",
       "JACKSONVILLE DISTRICT COUNCIL SOCIETY OF ST VINCENT DE PAUL INC       6\n",
       "AMERICAN SOCIETY OF ADDICTION MEDICINE INC                            6\n",
       "REFRIGERATION SERVICE ENGINEERS SOCIETY                               6\n",
       "Name: NAME, Length: 354, dtype: int64"
      ]
     },
     "execution_count": 5,
     "metadata": {},
     "output_type": "execute_result"
    }
   ],
   "source": [
    "# Look at NAME value counts for binning\n",
    "name_counts = application_df['NAME'].value_counts()\n",
    "#  How many name counts are greater than 5?\n",
    "name_counts[name_counts>5]"
   ]
  },
  {
   "cell_type": "code",
   "execution_count": 11,
   "metadata": {},
   "outputs": [
    {
     "data": {
      "text/plain": [
       "Other                                            20043\n",
       "PARENT BOOSTER USA INC                            1260\n",
       "TOPS CLUB INC                                      765\n",
       "UNITED STATES BOWLING CONGRESS INC                 700\n",
       "WASHINGTON STATE UNIVERSITY                        492\n",
       "                                                 ...  \n",
       "QUAIL FEDERATION INC                                 6\n",
       "MONTANA CONGRESS OF PARENTS TEACHERS STUDENTS        6\n",
       "OLD OAK CLIFF CONSERVATION LEAGUE INC                6\n",
       "CBMC INC                                             6\n",
       "WASHINGTON SOCIETY OF PROFESSIONAL ENGINEERS         6\n",
       "Name: NAME, Length: 355, dtype: int64"
      ]
     },
     "execution_count": 11,
     "metadata": {},
     "output_type": "execute_result"
    }
   ],
   "source": [
    "# Determine which values to replace if counts are less than or equal to 5.\n",
    "names_to_replace = list(name_counts[name_counts <= 5].index)\n",
    "\n",
    "# Replace in dataframe\n",
    "for app in names_to_replace:\n",
    "    application_df['NAME'] = application_df['NAME'].replace(app,\"Other\")\n",
    "    \n",
    "# Check to make sure binning was successful\n",
    "application_df['NAME'].value_counts()"
   ]
  },
  {
   "cell_type": "code",
   "execution_count": 7,
   "metadata": {},
   "outputs": [
    {
     "data": {
      "text/plain": [
       "T3     27037\n",
       "T4      1542\n",
       "T6      1216\n",
       "T5      1173\n",
       "T19     1065\n",
       "T8       737\n",
       "T7       725\n",
       "T10      528\n",
       "T9       156\n",
       "T13       66\n",
       "T12       27\n",
       "T2        16\n",
       "T14        3\n",
       "T25        3\n",
       "T29        2\n",
       "T15        2\n",
       "T17        1\n",
       "Name: APPLICATION_TYPE, dtype: int64"
      ]
     },
     "execution_count": 7,
     "metadata": {},
     "output_type": "execute_result"
    }
   ],
   "source": [
    "# Look at APPLICATION_TYPE value counts for binning\n",
    "application_counts = application_df['APPLICATION_TYPE'].value_counts()\n",
    "application_counts"
   ]
  },
  {
   "cell_type": "code",
   "execution_count": 12,
   "metadata": {},
   "outputs": [
    {
     "data": {
      "text/plain": [
       "T3       27037\n",
       "T4        1542\n",
       "T6        1216\n",
       "T5        1173\n",
       "T19       1065\n",
       "T8         737\n",
       "T7         725\n",
       "T10        528\n",
       "Other      276\n",
       "Name: APPLICATION_TYPE, dtype: int64"
      ]
     },
     "execution_count": 12,
     "metadata": {},
     "output_type": "execute_result"
    }
   ],
   "source": [
    "application_types_to_replace = list(application_counts[application_counts < 500].index)\n",
    "\n",
    "# Replace in dataframe\n",
    "for app in application_types_to_replace:\n",
    "    application_df['APPLICATION_TYPE'] = application_df'[APPLICATION_TYPE]'.replace(app,\"Other\")\n",
    "\n",
    "# Check to make sure binning was successful\n",
    "application_df['APPLICATION_TYPE'].value_counts()"
   ]
  },
  {
   "cell_type": "code",
   "execution_count": 13,
   "metadata": {},
   "outputs": [
    {
     "data": {
      "text/plain": [
       "C1000    17326\n",
       "C2000     6074\n",
       "C1200     4837\n",
       "C3000     1918\n",
       "C2100     1883\n",
       "         ...  \n",
       "C3700        1\n",
       "C1283        1\n",
       "C4200        1\n",
       "C2600        1\n",
       "C1820        1\n",
       "Name: CLASSIFICATION, Length: 71, dtype: int64"
      ]
     },
     "execution_count": 13,
     "metadata": {},
     "output_type": "execute_result"
    }
   ],
   "source": [
    "# Look at CLASSIFICATION value counts for binning\n",
    "class_counts = application_df['CLASSIFICATION']value_counts()\n",
    "class_counts"
   ]
  },
  {
   "cell_type": "code",
   "execution_count": 14,
   "metadata": {},
   "outputs": [
    {
     "data": {
      "text/plain": [
       "C1000    17326\n",
       "C2000     6074\n",
       "C1200     4837\n",
       "Other     2261\n",
       "C3000     1918\n",
       "C2100     1883\n",
       "Name: CLASSIFICATION, dtype: int64"
      ]
     },
     "execution_count": 14,
     "metadata": {},
     "output_type": "execute_result"
    }
   ],
   "source": [
    "# Determine which values to replace if counts are less than 1000\n",
    "classes_to_replace = list(class_counts[class_counts < 1000].index)\n",
    "\n",
    "# Replace in dataframe\n",
    "for cls in classes_to_replace:\n",
    "    application_df['CLASSIFICATION'] = application_df['CLASSIFICATION'].replace(cls,\"Other\")\n",
    "    \n",
    "# Check to make sure binning was successful\n",
    "application_df['CLASSIFICATION'].value_counts()"
   ]
  },
  {
   "cell_type": "code",
   "execution_count": 15,
   "metadata": {},
   "outputs": [],
   "source": [
    "# Generate our categorical variable lists\n",
    "application_cat = application_df.dtypes[application_df.dtypes == \"object\"].index.tolist()"
   ]
  },
  {
   "cell_type": "code",
   "execution_count": 16,
   "metadata": {},
   "outputs": [],
   "source": [
    "application_with_dummies_df = pd.get_dummies(application_df)"
   ]
  },
  {
   "cell_type": "code",
   "execution_count": 17,
   "metadata": {},
   "outputs": [],
   "source": [
    "# Split our preprocessed data into our features and target arrays\n",
    "X = application_with_dummies_df.drop([\"IS_SUCCESSFUL\"], axis='columns').values\n",
    "y = application_with_dummies_df[\"IS_SUCCESSFUL\"].values\n",
    "\n",
    "# Split the preprocessed data into a training and testing dataset\n",
    "X_train, X_test, y_train, y_test = train_test_split(X, y, random_state=78)"
   ]
  },
  {
   "cell_type": "code",
   "execution_count": 18,
   "metadata": {},
   "outputs": [],
   "source": [
    "# Create a StandardScaler instances\n",
    "scaler = StandardScaler()\n",
    "\n",
    "# Fit the StandardScaler\n",
    "X_scaler = scaler.fit(X_train)\n",
    "\n",
    "# Scale the data\n",
    "X_train_scaled = X_scaler.transform(X_train)\n",
    "X_test_scaled = X_scaler.transform(X_test)"
   ]
  },
  {
   "cell_type": "code",
   "execution_count": 19,
   "metadata": {},
   "outputs": [
    {
     "name": "stdout",
     "output_type": "stream",
     "text": [
      "WARNING:tensorflow:From Z:\\Travis\\anaconda3\\lib\\site-packages\\tensorflow\\python\\ops\\init_ops.py:1251: calling VarianceScaling.__init__ (from tensorflow.python.ops.init_ops) with dtype is deprecated and will be removed in a future version.\n",
      "Instructions for updating:\n",
      "Call initializer instance with the dtype argument instead of passing it to the constructor\n",
      "Model: \"sequential\"\n",
      "_________________________________________________________________\n",
      "Layer (type)                 Output Shape              Param #   \n",
      "=================================================================\n",
      "dense (Dense)                (None, 100)               39900     \n",
      "_________________________________________________________________\n",
      "dense_1 (Dense)              (None, 30)                3030      \n",
      "_________________________________________________________________\n",
      "dense_2 (Dense)              (None, 10)                310       \n",
      "_________________________________________________________________\n",
      "dense_3 (Dense)              (None, 1)                 11        \n",
      "=================================================================\n",
      "Total params: 43,251\n",
      "Trainable params: 43,251\n",
      "Non-trainable params: 0\n",
      "_________________________________________________________________\n"
     ]
    }
   ],
   "source": [
    "# Define the model - deep neural net\n",
    "number_input_features = len(X_train[0])\n",
    "hidden_nodes_layer1 =  100\n",
    "hidden_nodes_layer2 = 30\n",
    "hidden_nodes_layer3 = 10\n",
    "\n",
    "nn = tf.keras.models.Sequential()\n",
    "\n",
    "# First hidden layer\n",
    "nn.add(\n",
    "    tf.keras.layers.Dense(units=hidden_nodes_layer1, input_dim=number_input_features, activation=\"relu\")\n",
    ")\n",
    "\n",
    "# Second hidden layer\n",
    "nn.add(tf.keras.layers.Dense(units=hidden_nodes_layer2, activation=\"sigmoid\"))\n",
    "\n",
    "# Third hidden layer\n",
    "nn.add(tf.keras.layers.Dense(units=hidden_nodes_layer3, activation=\"sigmoid\"))\n",
    "\n",
    "# Output layer\n",
    "nn.add(tf.keras.layers.Dense(units=1, activation=\"sigmoid\"))\n",
    "\n",
    "# Check the structure of the model\n",
    "nn.summary()"
   ]
  },
  {
   "cell_type": "code",
   "execution_count": 20,
   "metadata": {},
   "outputs": [
    {
     "name": "stdout",
     "output_type": "stream",
     "text": [
      "WARNING:tensorflow:From Z:\\Travis\\anaconda3\\lib\\site-packages\\tensorflow\\python\\ops\\nn_impl.py:180: add_dispatch_support.<locals>.wrapper (from tensorflow.python.ops.array_ops) is deprecated and will be removed in a future version.\n",
      "Instructions for updating:\n",
      "Use tf.where in 2.0, which has the same broadcast rule as np.where\n"
     ]
    }
   ],
   "source": [
    "# Compile the model\n",
    "nn.compile(loss=\"binary_crossentropy\", optimizer=\"adam\", metrics=[\"accuracy\"])"
   ]
  },
  {
   "cell_type": "code",
   "execution_count": 21,
   "metadata": {},
   "outputs": [
    {
     "name": "stdout",
     "output_type": "stream",
     "text": [
      "Epoch 1/100\n",
      "25724/25724 [==============================] - 3s 109us/sample - loss: 0.5151 - acc: 0.7636\n",
      "Epoch 2/100\n",
      "25724/25724 [==============================] - 2s 66us/sample - loss: 0.4468 - acc: 0.7930\n",
      "Epoch 3/100\n",
      "25724/25724 [==============================] - 2s 73us/sample - loss: 0.4352 - acc: 0.7964\n",
      "Epoch 4/100\n",
      "25724/25724 [==============================] - 2s 63us/sample - loss: 0.4303 - acc: 0.7974\n",
      "Epoch 5/100\n",
      "25724/25724 [==============================] - 2s 73us/sample - loss: 0.4273 - acc: 0.7969\n",
      "Epoch 6/100\n",
      "25724/25724 [==============================] - 2s 70us/sample - loss: 0.4255 - acc: 0.7967\n",
      "Epoch 7/100\n",
      "25724/25724 [==============================] - 2s 73us/sample - loss: 0.4238 - acc: 0.7984\n",
      "Epoch 8/100\n",
      "25724/25724 [==============================] - 2s 68us/sample - loss: 0.4228 - acc: 0.7995\n",
      "Epoch 9/100\n",
      "25724/25724 [==============================] - 2s 67us/sample - loss: 0.4216 - acc: 0.8001\n",
      "Epoch 10/100\n",
      "25724/25724 [==============================] - 2s 68us/sample - loss: 0.4200 - acc: 0.7999\n",
      "Epoch 11/100\n",
      "25724/25724 [==============================] - 2s 64us/sample - loss: 0.4202 - acc: 0.8019\n",
      "Epoch 12/100\n",
      "25724/25724 [==============================] - 2s 63us/sample - loss: 0.4191 - acc: 0.8013\n",
      "Epoch 13/100\n",
      "25724/25724 [==============================] - 2s 66us/sample - loss: 0.4182 - acc: 0.8007\n",
      "Epoch 14/100\n",
      "25724/25724 [==============================] - 2s 62us/sample - loss: 0.4179 - acc: 0.8024\n",
      "Epoch 15/100\n",
      "25724/25724 [==============================] - 2s 63us/sample - loss: 0.4171 - acc: 0.8024\n",
      "Epoch 16/100\n",
      "25724/25724 [==============================] - 2s 75us/sample - loss: 0.4163 - acc: 0.8009\n",
      "Epoch 17/100\n",
      "25724/25724 [==============================] - 2s 71us/sample - loss: 0.4158 - acc: 0.8029\n",
      "Epoch 18/100\n",
      "25724/25724 [==============================] - 2s 69us/sample - loss: 0.4151 - acc: 0.8030\n",
      "Epoch 19/100\n",
      "25724/25724 [==============================] - 2s 81us/sample - loss: 0.4146 - acc: 0.8028\n",
      "Epoch 20/100\n",
      "25724/25724 [==============================] - 2s 84us/sample - loss: 0.4143 - acc: 0.8023\n",
      "Epoch 21/100\n",
      "25724/25724 [==============================] - 2s 81us/sample - loss: 0.4141 - acc: 0.8034\n",
      "Epoch 22/100\n",
      "25724/25724 [==============================] - 2s 86us/sample - loss: 0.4136 - acc: 0.8031\n",
      "Epoch 23/100\n",
      "25724/25724 [==============================] - 2s 73us/sample - loss: 0.4130 - acc: 0.8028\n",
      "Epoch 24/100\n",
      "25724/25724 [==============================] - 2s 83us/sample - loss: 0.4129 - acc: 0.8034\n",
      "Epoch 25/100\n",
      "25724/25724 [==============================] - 2s 68us/sample - loss: 0.4122 - acc: 0.8031\n",
      "Epoch 26/100\n",
      "25724/25724 [==============================] - 2s 67us/sample - loss: 0.4124 - acc: 0.8042\n",
      "Epoch 27/100\n",
      "25724/25724 [==============================] - 2s 67us/sample - loss: 0.4116 - acc: 0.8042\n",
      "Epoch 28/100\n",
      "25724/25724 [==============================] - 2s 68us/sample - loss: 0.4111 - acc: 0.8033\n",
      "Epoch 29/100\n",
      "25724/25724 [==============================] - 2s 66us/sample - loss: 0.4110 - acc: 0.8046\n",
      "Epoch 30/100\n",
      "25724/25724 [==============================] - 2s 68us/sample - loss: 0.4106 - acc: 0.8046\n",
      "Epoch 31/100\n",
      "25724/25724 [==============================] - 2s 66us/sample - loss: 0.4105 - acc: 0.8043\n",
      "Epoch 32/100\n",
      "25724/25724 [==============================] - 2s 65us/sample - loss: 0.4098 - acc: 0.8044\n",
      "Epoch 33/100\n",
      "25724/25724 [==============================] - 2s 71us/sample - loss: 0.4094 - acc: 0.8045\n",
      "Epoch 34/100\n",
      "25724/25724 [==============================] - 2s 70us/sample - loss: 0.4096 - acc: 0.8053\n",
      "Epoch 35/100\n",
      "25724/25724 [==============================] - 2s 64us/sample - loss: 0.4090 - acc: 0.8063\n",
      "Epoch 36/100\n",
      "25724/25724 [==============================] - 2s 66us/sample - loss: 0.4090 - acc: 0.8061\n",
      "Epoch 37/100\n",
      "25724/25724 [==============================] - 2s 68us/sample - loss: 0.4085 - acc: 0.8054\n",
      "Epoch 38/100\n",
      "25724/25724 [==============================] - 2s 70us/sample - loss: 0.4080 - acc: 0.8057\n",
      "Epoch 39/100\n",
      "25724/25724 [==============================] - 2s 63us/sample - loss: 0.4081 - acc: 0.8061\n",
      "Epoch 40/100\n",
      "25724/25724 [==============================] - 2s 71us/sample - loss: 0.4074 - acc: 0.8043\n",
      "Epoch 41/100\n",
      "25724/25724 [==============================] - 2s 79us/sample - loss: 0.4074 - acc: 0.8057\n",
      "Epoch 42/100\n",
      "25724/25724 [==============================] - 3s 98us/sample - loss: 0.4075 - acc: 0.8056\n",
      "Epoch 43/100\n",
      "25724/25724 [==============================] - 2s 83us/sample - loss: 0.4072 - acc: 0.8064\n",
      "Epoch 44/100\n",
      "25724/25724 [==============================] - 2s 81us/sample - loss: 0.4071 - acc: 0.8065\n",
      "Epoch 45/100\n",
      "25724/25724 [==============================] - 2s 90us/sample - loss: 0.4067 - acc: 0.8058\n",
      "Epoch 46/100\n",
      "25724/25724 [==============================] - 2s 97us/sample - loss: 0.4067 - acc: 0.8063\n",
      "Epoch 47/100\n",
      "25724/25724 [==============================] - 2s 74us/sample - loss: 0.4066 - acc: 0.8066\n",
      "Epoch 48/100\n",
      "25724/25724 [==============================] - 2s 86us/sample - loss: 0.4061 - acc: 0.8060\n",
      "Epoch 49/100\n",
      "25724/25724 [==============================] - 2s 77us/sample - loss: 0.4064 - acc: 0.8064\n",
      "Epoch 50/100\n",
      "25724/25724 [==============================] - 3s 102us/sample - loss: 0.4058 - acc: 0.8063\n",
      "Epoch 51/100\n",
      "25724/25724 [==============================] - 2s 94us/sample - loss: 0.4056 - acc: 0.8066\n",
      "Epoch 52/100\n",
      "25724/25724 [==============================] - 2s 90us/sample - loss: 0.4059 - acc: 0.8064\n",
      "Epoch 53/100\n",
      "25724/25724 [==============================] - 2s 93us/sample - loss: 0.4051 - acc: 0.8068\n",
      "Epoch 54/100\n",
      "25724/25724 [==============================] - 2s 74us/sample - loss: 0.4051 - acc: 0.8069\n",
      "Epoch 55/100\n",
      "25724/25724 [==============================] - 2s 79us/sample - loss: 0.4048 - acc: 0.8071\n",
      "Epoch 56/100\n",
      "25724/25724 [==============================] - 2s 72us/sample - loss: 0.4051 - acc: 0.8073\n",
      "Epoch 57/100\n",
      "25724/25724 [==============================] - 3s 99us/sample - loss: 0.4054 - acc: 0.8073\n",
      "Epoch 58/100\n",
      "25724/25724 [==============================] - 2s 95us/sample - loss: 0.4050 - acc: 0.8064\n",
      "Epoch 59/100\n",
      "25724/25724 [==============================] - 2s 97us/sample - loss: 0.4051 - acc: 0.8058\n",
      "Epoch 60/100\n",
      "25724/25724 [==============================] - 2s 92us/sample - loss: 0.4053 - acc: 0.8070\n",
      "Epoch 61/100\n",
      "25724/25724 [==============================] - 3s 98us/sample - loss: 0.4045 - acc: 0.8070\n",
      "Epoch 62/100\n",
      "25724/25724 [==============================] - 3s 123us/sample - loss: 0.4044 - acc: 0.8077\n",
      "Epoch 63/100\n",
      "25724/25724 [==============================] - 3s 113us/sample - loss: 0.4047 - acc: 0.8074\n",
      "Epoch 64/100\n",
      "25724/25724 [==============================] - 2s 84us/sample - loss: 0.4049 - acc: 0.8078\n",
      "Epoch 65/100\n",
      "25724/25724 [==============================] - 2s 91us/sample - loss: 0.4046 - acc: 0.8066\n",
      "Epoch 66/100\n",
      "25724/25724 [==============================] - 2s 94us/sample - loss: 0.4044 - acc: 0.80750s - loss: 0.4042 - acc: 0.807\n",
      "Epoch 67/100\n",
      "25724/25724 [==============================] - 3s 112us/sample - loss: 0.4044 - acc: 0.8077\n",
      "Epoch 68/100\n",
      "25724/25724 [==============================] - 3s 129us/sample - loss: 0.4040 - acc: 0.8067\n",
      "Epoch 69/100\n",
      "25724/25724 [==============================] - 3s 107us/sample - loss: 0.4038 - acc: 0.8067\n",
      "Epoch 70/100\n",
      "25724/25724 [==============================] - 2s 89us/sample - loss: 0.4042 - acc: 0.8067\n",
      "Epoch 71/100\n",
      "25724/25724 [==============================] - 3s 115us/sample - loss: 0.4040 - acc: 0.8069\n",
      "Epoch 72/100\n",
      "25724/25724 [==============================] - 3s 103us/sample - loss: 0.4035 - acc: 0.8077\n",
      "Epoch 73/100\n",
      "25724/25724 [==============================] - 3s 111us/sample - loss: 0.4041 - acc: 0.8068\n",
      "Epoch 74/100\n",
      "25724/25724 [==============================] - 3s 123us/sample - loss: 0.4036 - acc: 0.8068\n",
      "Epoch 75/100\n",
      "25724/25724 [==============================] - 2s 85us/sample - loss: 0.4036 - acc: 0.8076\n",
      "Epoch 76/100\n",
      "25724/25724 [==============================] - 2s 83us/sample - loss: 0.4034 - acc: 0.8075\n",
      "Epoch 77/100\n",
      "25724/25724 [==============================] - 2s 85us/sample - loss: 0.4036 - acc: 0.8077\n",
      "Epoch 78/100\n",
      "25724/25724 [==============================] - 2s 89us/sample - loss: 0.4036 - acc: 0.8080\n",
      "Epoch 79/100\n"
     ]
    },
    {
     "name": "stdout",
     "output_type": "stream",
     "text": [
      "25724/25724 [==============================] - 3s 99us/sample - loss: 0.4030 - acc: 0.8078\n",
      "Epoch 80/100\n",
      "25724/25724 [==============================] - 2s 86us/sample - loss: 0.4034 - acc: 0.8080\n",
      "Epoch 81/100\n",
      "25724/25724 [==============================] - 3s 114us/sample - loss: 0.4033 - acc: 0.8077\n",
      "Epoch 82/100\n",
      "25724/25724 [==============================] - 2s 88us/sample - loss: 0.4029 - acc: 0.8084\n",
      "Epoch 83/100\n",
      "25724/25724 [==============================] - 3s 100us/sample - loss: 0.4034 - acc: 0.8077\n",
      "Epoch 84/100\n",
      "25724/25724 [==============================] - 2s 93us/sample - loss: 0.4033 - acc: 0.8068\n",
      "Epoch 85/100\n",
      "25724/25724 [==============================] - 2s 88us/sample - loss: 0.4027 - acc: 0.8084\n",
      "Epoch 86/100\n",
      "25724/25724 [==============================] - 2s 93us/sample - loss: 0.4027 - acc: 0.8087\n",
      "Epoch 87/100\n",
      "25724/25724 [==============================] - 3s 98us/sample - loss: 0.4028 - acc: 0.8082\n",
      "Epoch 88/100\n",
      "25724/25724 [==============================] - 3s 113us/sample - loss: 0.4024 - acc: 0.8079\n",
      "Epoch 89/100\n",
      "25724/25724 [==============================] - 2s 95us/sample - loss: 0.4033 - acc: 0.8082\n",
      "Epoch 90/100\n",
      "25724/25724 [==============================] - 2s 95us/sample - loss: 0.4026 - acc: 0.8082\n",
      "Epoch 91/100\n",
      "25724/25724 [==============================] - 2s 96us/sample - loss: 0.4025 - acc: 0.8084\n",
      "Epoch 92/100\n",
      "25724/25724 [==============================] - 2s 93us/sample - loss: 0.4023 - acc: 0.8078\n",
      "Epoch 93/100\n",
      "25724/25724 [==============================] - 2s 88us/sample - loss: 0.4027 - acc: 0.8076\n",
      "Epoch 94/100\n",
      "25724/25724 [==============================] - 2s 80us/sample - loss: 0.4024 - acc: 0.8078\n",
      "Epoch 95/100\n",
      "25724/25724 [==============================] - 2s 88us/sample - loss: 0.4027 - acc: 0.8078\n",
      "Epoch 96/100\n",
      "25724/25724 [==============================] - 2s 83us/sample - loss: 0.4027 - acc: 0.8080\n",
      "Epoch 97/100\n",
      "25724/25724 [==============================] - 2s 83us/sample - loss: 0.4021 - acc: 0.8079\n",
      "Epoch 98/100\n",
      "25724/25724 [==============================] - 2s 84us/sample - loss: 0.4028 - acc: 0.8074\n",
      "Epoch 99/100\n",
      "25724/25724 [==============================] - 3s 104us/sample - loss: 0.4022 - acc: 0.8079\n",
      "Epoch 100/100\n",
      "25724/25724 [==============================] - 3s 103us/sample - loss: 0.4023 - acc: 0.8083\n"
     ]
    }
   ],
   "source": [
    "# Train the model\n",
    "fit_model = nn.fit(X_train_scaled,y_train,epochs=100)"
   ]
  },
  {
   "cell_type": "code",
   "execution_count": 22,
   "metadata": {},
   "outputs": [
    {
     "name": "stdout",
     "output_type": "stream",
     "text": [
      "8575/8575 - 0s - loss: 0.4476 - acc: 0.7887\n",
      "Loss: 0.4475878776648997, Accuracy: 0.788688063621521\n"
     ]
    }
   ],
   "source": [
    "# Evaluate the model using the test data\n",
    "model_loss, model_accuracy = nn.evaluate(X_test_scaled,y_test,verbose=2)\n",
    "print(f\"Loss: {model_loss}, Accuracy: {model_accuracy}\")"
   ]
  },
  {
   "cell_type": "code",
   "execution_count": 23,
   "metadata": {},
   "outputs": [],
   "source": [
    "# Export our model to HDF5 file\n",
    "nn.save(\"AlphabetSoupCharity_Optimization.h5\")"
   ]
  },
  {
   "cell_type": "markdown",
   "metadata": {},
   "source": [
    "#### Data Preprocessing\n",
    "----\n",
    "1. What variable(s) are considered the target for your model?\n",
    "ANSWER: The target for the model is the \"Is-Successful\" column. It signifies if the money was use effectively.\n",
    "---\n",
    "2. What variable(s) are considered to be the features for your model?\n",
    "ANSWER: The features of this model are the NAME, APPLICATION, TYPE, AFFILIATION, CLASSIFICATION, USE_CASE, ORGANIZATION, INCOME_AMT,SPECIAL_CONSIDERATIONS, STATUS, and ASK_AMT\n",
    "---\n",
    "3. What variable(s) are neither and should be removed from the input data? \n",
    "ANSWER:  EIN (Employer identificaiton) was dropped because the numbers could confuse the system into thinking its significant.\n",
    "ANSWER: A student could drop SPECIAL_CONSIDERATIONS because there is only a small percentage of cases that had any special consideration, and special considerations cannot be quantified.\n",
    "ANSWER: A student could drop STATUS because  all rows were the same value, 1.\n"
   ]
  },
  {
   "cell_type": "markdown",
   "metadata": {},
   "source": [
    "#### Compiling, Training, and Evaluating the Model\n",
    "---- \n",
    "1. How many neurons, layers, and and activation functions did you select for your neural network model, and why?\n",
    "ANSWER: In this model there are three hidden layers each with many neurons,  because this seeemed to increased the accuracy above 75%. The number of epochs wasn't changed. The first activation function was 'relu' but the 2nd and 3rd were 'sigmoid'and the output function was 'sigmoid'. Changing the 2nd and 3rd activation functions to 'sigmoid' also helped boost the accuracy. \n",
    "---\n",
    "2. Were you able to achieve the target model performance?\n",
    "ANSWER: Yes \n",
    "---\n",
    "3. What steps did you take to try and increase model performance?\n",
    "ANSWER: It required converting the NAME column into data points, which has the biggest impact on improving efficiency. And, it also required adding a third layer and using the \"sigmoid\" activation function for the 2nd and 3rd layer."
   ]
  },
  {
   "cell_type": "markdown",
   "metadata": {},
   "source": [
    "#### Summary\n",
    "----\n",
    "Overall, by increasing the accuracy above 75% we are able to correctly classify each of the points in the test data 75% of the time. And, an applicant has a 80% chance of being successful if they have the following:\n",
    "- The NAME of the applicant appears more than 5 times (they have applied more than 5 times)\n",
    "- The type of APPLICATION is one of the following; T3, T4, T5, T6, T7, T8, T10, and T19\n",
    "- The application has the following CLASSIFICATION; C1000, C2000, C3000, C1200, and C2100.\n",
    "\n",
    "A good model to recommend is the Random Forest model because Random Forest are good for classification problems. Using this model produces a 78% accuracy. "
   ]
  },
  {
   "cell_type": "code",
   "execution_count": 24,
   "metadata": {},
   "outputs": [],
   "source": [
    "from sklearn.metrics import accuracy_score\n",
    "from sklearn.ensemble import RandomForestClassifier"
   ]
  },
  {
   "cell_type": "code",
   "execution_count": 25,
   "metadata": {},
   "outputs": [
    {
     "name": "stdout",
     "output_type": "stream",
     "text": [
      " Random forest model accuracy: 0.776\n"
     ]
    }
   ],
   "source": [
    "# Create a random forest classifier.\n",
    "rf_model = RandomForestClassifier(n_estimators=128, random_state=78) \n",
    "\n",
    "# Fitting the model\n",
    "rf_model = rf_model.fit(X_train_scaled, y_train)\n",
    "\n",
    "# Evaluate the model\n",
    "y_pred = rf_model.predict(X_test_scaled)\n",
    "print(f\" Random forest model accuracy: {accuracy_score(y_test,y_pred):.3f}\")"
   ]
  },
  {
   "cell_type": "code",
   "execution_count": null,
   "metadata": {},
   "outputs": [],
   "source": []
  }
 ],
 "metadata": {
  "kernelspec": {
   "display_name": "Python 3",
   "language": "python",
   "name": "python3"
  },
  "language_info": {
   "codemirror_mode": {
    "name": "ipython",
    "version": 3
   },
   "file_extension": ".py",
   "mimetype": "text/x-python",
   "name": "python",
   "nbconvert_exporter": "python",
   "pygments_lexer": "ipython3",
   "version": "3.7.6"
  }
 },
 "nbformat": 4,
 "nbformat_minor": 4
}
