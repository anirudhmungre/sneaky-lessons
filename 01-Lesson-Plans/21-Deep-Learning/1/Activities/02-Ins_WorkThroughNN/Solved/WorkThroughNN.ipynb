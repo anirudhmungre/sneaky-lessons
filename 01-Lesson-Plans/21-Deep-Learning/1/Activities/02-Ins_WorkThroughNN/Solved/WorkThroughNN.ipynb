{
 "cells": [
  {
   "cell_type": "code",
   "execution_count": 1,
   "metadata": {},
   "outputs": [
    {
     "name": "stdout",
     "output_type": "stream",
     "text": [
      "Using matplotlib backend: MacOSX\n"
     ]
    }
   ],
   "source": [
    "%matplotlib\n",
    "# Import our dependencies\n",
    "import pandas as pd\n",
    "import matplotlib as plt\n",
    "from sklearn.datasets import make_blobs\n",
    "import sklearn as skl\n",
    "import tensorflow as tf"
   ]
  },
  {
   "cell_type": "code",
   "execution_count": 2,
   "metadata": {},
   "outputs": [
    {
     "data": {
      "text/plain": [
       "<matplotlib.axes._subplots.AxesSubplot at 0x1a3e466990>"
      ]
     },
     "execution_count": 2,
     "metadata": {},
     "output_type": "execute_result"
    },
    {
     "data": {
      "image/png": "[encoded data removed]",
      "text/plain": [
       "<Figure size 432x288 with 2 Axes>"
      ]
     },
     "metadata": {
      "needs_background": "light"
     },
     "output_type": "display_data"
    }
   ],
   "source": [
    "# Generate dummy dataset\n",
    "X, y = make_blobs(n_samples=1000, centers=2, n_features=2, random_state=78)\n",
    "\n",
    "# Creating a DataFrame with the dummy data\n",
    "df = pd.DataFrame(X, columns=[\"Feature 1\", \"Feature 2\"])\n",
    "df[\"Target\"] = y\n",
    "\n",
    "# Plotting the dummy data\n",
    "df.plot.scatter(x=\"Feature 1\", y=\"Feature 2\", c=\"Target\", colormap=\"winter\")"
   ]
  },
  {
   "cell_type": "code",
   "execution_count": 3,
   "metadata": {},
   "outputs": [],
   "source": [
    "# Use sklearn to split dataset\n",
    "from sklearn.model_selection import train_test_split\n",
    "X_train, X_test, y_train, y_test = train_test_split(X, y, random_state=78)"
   ]
  },
  {
   "cell_type": "code",
   "execution_count": 4,
   "metadata": {},
   "outputs": [],
   "source": [
    "# Create scaler instance\n",
    "X_scaler = skl.preprocessing.StandardScaler()\n",
    "\n",
    "# Fit the scaler\n",
    "X_scaler.fit(X_train)\n",
    "\n",
    "# Scale the data\n",
    "X_train_scaled = X_scaler.transform(X_train)\n",
    "X_test_scaled = X_scaler.transform(X_test)"
   ]
  },
  {
   "cell_type": "code",
   "execution_count": 5,
   "metadata": {},
   "outputs": [],
   "source": [
    "# Create the Keras Sequential model\n",
    "nn_model = tf.keras.models.Sequential()"
   ]
  },
  {
   "cell_type": "code",
   "execution_count": 6,
   "metadata": {},
   "outputs": [],
   "source": [
    "# Add our first Dense layer, including the input layer\n",
    "nn_model.add(tf.keras.layers.Dense(units=5, activation=\"relu\", input_dim=2))"
   ]
  },
  {
   "cell_type": "code",
   "execution_count": 7,
   "metadata": {},
   "outputs": [],
   "source": [
    "# Add the output layer that uses a probability activation function\n",
    "nn_model.add(tf.keras.layers.Dense(units=1, activation=\"sigmoid\"))"
   ]
  },
  {
   "cell_type": "code",
   "execution_count": 8,
   "metadata": {},
   "outputs": [
    {
     "name": "stdout",
     "output_type": "stream",
     "text": [
      "Model: \"sequential\"\n",
      "_________________________________________________________________\n",
      "Layer (type)                 Output Shape              Param #   \n",
      "=================================================================\n",
      "dense (Dense)                (None, 5)                 15        \n",
      "_________________________________________________________________\n",
      "dense_1 (Dense)              (None, 1)                 6         \n",
      "=================================================================\n",
      "Total params: 21\n",
      "Trainable params: 21\n",
      "Non-trainable params: 0\n",
      "_________________________________________________________________\n"
     ]
    }
   ],
   "source": [
    "# Check the structure of the Sequential model\n",
    "nn_model.summary()"
   ]
  },
  {
   "cell_type": "code",
   "execution_count": 9,
   "metadata": {},
   "outputs": [
    {
     "name": "stdout",
     "output_type": "stream",
     "text": [
      "Train on 750 samples\n",
      "Epoch 1/100\n",
      "750/750 [==============================] - 1s 1ms/sample - loss: 1.1798 - accuracy: 0.4787\n",
      "Epoch 2/100\n",
      "750/750 [==============================] - 0s 53us/sample - loss: 1.1035 - accuracy: 0.4533\n",
      "Epoch 3/100\n",
      "750/750 [==============================] - 0s 51us/sample - loss: 1.0359 - accuracy: 0.4560\n",
      "Epoch 4/100\n",
      "750/750 [==============================] - 0s 54us/sample - loss: 0.9781 - accuracy: 0.4600\n",
      "Epoch 5/100\n",
      "750/750 [==============================] - 0s 54us/sample - loss: 0.9264 - accuracy: 0.4747\n",
      "Epoch 6/100\n",
      "750/750 [==============================] - 0s 52us/sample - loss: 0.8804 - accuracy: 0.4853\n",
      "Epoch 7/100\n",
      "750/750 [==============================] - 0s 50us/sample - loss: 0.8379 - accuracy: 0.4880\n",
      "Epoch 8/100\n",
      "750/750 [==============================] - 0s 47us/sample - loss: 0.7990 - accuracy: 0.4947\n",
      "Epoch 9/100\n",
      "750/750 [==============================] - 0s 49us/sample - loss: 0.7627 - accuracy: 0.4960\n",
      "Epoch 10/100\n",
      "750/750 [==============================] - 0s 49us/sample - loss: 0.7291 - accuracy: 0.4973\n",
      "Epoch 11/100\n",
      "750/750 [==============================] - 0s 46us/sample - loss: 0.6974 - accuracy: 0.4987\n",
      "Epoch 12/100\n",
      "750/750 [==============================] - 0s 44us/sample - loss: 0.6674 - accuracy: 0.5013\n",
      "Epoch 13/100\n",
      "750/750 [==============================] - 0s 45us/sample - loss: 0.6391 - accuracy: 0.5053\n",
      "Epoch 14/100\n",
      "750/750 [==============================] - 0s 44us/sample - loss: 0.6123 - accuracy: 0.5213\n",
      "Epoch 15/100\n",
      "750/750 [==============================] - 0s 44us/sample - loss: 0.5870 - accuracy: 0.5747\n",
      "Epoch 16/100\n",
      "750/750 [==============================] - 0s 42us/sample - loss: 0.5631 - accuracy: 0.6720\n",
      "Epoch 17/100\n",
      "750/750 [==============================] - 0s 43us/sample - loss: 0.5404 - accuracy: 0.7587\n",
      "Epoch 18/100\n",
      "750/750 [==============================] - 0s 45us/sample - loss: 0.5190 - accuracy: 0.8320\n",
      "Epoch 19/100\n",
      "750/750 [==============================] - 0s 45us/sample - loss: 0.4988 - accuracy: 0.8760\n",
      "Epoch 20/100\n",
      "750/750 [==============================] - 0s 45us/sample - loss: 0.4797 - accuracy: 0.9120\n",
      "Epoch 21/100\n",
      "750/750 [==============================] - 0s 46us/sample - loss: 0.4616 - accuracy: 0.9440\n",
      "Epoch 22/100\n",
      "750/750 [==============================] - 0s 46us/sample - loss: 0.4446 - accuracy: 0.9520\n",
      "Epoch 23/100\n",
      "750/750 [==============================] - 0s 44us/sample - loss: 0.4284 - accuracy: 0.9587\n",
      "Epoch 24/100\n",
      "750/750 [==============================] - 0s 45us/sample - loss: 0.4132 - accuracy: 0.9640\n",
      "Epoch 25/100\n",
      "750/750 [==============================] - 0s 44us/sample - loss: 0.3989 - accuracy: 0.9680\n",
      "Epoch 26/100\n",
      "750/750 [==============================] - 0s 44us/sample - loss: 0.3852 - accuracy: 0.9773\n",
      "Epoch 27/100\n",
      "750/750 [==============================] - 0s 43us/sample - loss: 0.3722 - accuracy: 0.9787\n",
      "Epoch 28/100\n",
      "750/750 [==============================] - 0s 43us/sample - loss: 0.3598 - accuracy: 0.9827\n",
      "Epoch 29/100\n",
      "750/750 [==============================] - 0s 44us/sample - loss: 0.3480 - accuracy: 0.9853\n",
      "Epoch 30/100\n",
      "750/750 [==============================] - 0s 48us/sample - loss: 0.3367 - accuracy: 0.9880\n",
      "Epoch 31/100\n",
      "750/750 [==============================] - 0s 47us/sample - loss: 0.3259 - accuracy: 0.9920\n",
      "Epoch 32/100\n",
      "750/750 [==============================] - 0s 47us/sample - loss: 0.3154 - accuracy: 0.9933\n",
      "Epoch 33/100\n",
      "750/750 [==============================] - 0s 45us/sample - loss: 0.3052 - accuracy: 0.9933\n",
      "Epoch 34/100\n",
      "750/750 [==============================] - 0s 45us/sample - loss: 0.2951 - accuracy: 0.9933\n",
      "Epoch 35/100\n",
      "750/750 [==============================] - 0s 43us/sample - loss: 0.2848 - accuracy: 0.9960\n",
      "Epoch 36/100\n",
      "750/750 [==============================] - 0s 45us/sample - loss: 0.2741 - accuracy: 0.9960\n",
      "Epoch 37/100\n",
      "750/750 [==============================] - 0s 44us/sample - loss: 0.2623 - accuracy: 0.9960\n",
      "Epoch 38/100\n",
      "750/750 [==============================] - 0s 45us/sample - loss: 0.2486 - accuracy: 0.9960\n",
      "Epoch 39/100\n",
      "750/750 [==============================] - 0s 46us/sample - loss: 0.2326 - accuracy: 0.9960\n",
      "Epoch 40/100\n",
      "750/750 [==============================] - 0s 45us/sample - loss: 0.2145 - accuracy: 0.9960\n",
      "Epoch 41/100\n",
      "750/750 [==============================] - 0s 49us/sample - loss: 0.1959 - accuracy: 0.9960\n",
      "Epoch 42/100\n",
      "750/750 [==============================] - 0s 48us/sample - loss: 0.1775 - accuracy: 0.9987\n",
      "Epoch 43/100\n",
      "750/750 [==============================] - 0s 47us/sample - loss: 0.1601 - accuracy: 1.0000\n",
      "Epoch 44/100\n",
      "750/750 [==============================] - 0s 45us/sample - loss: 0.1442 - accuracy: 1.0000\n",
      "Epoch 45/100\n",
      "750/750 [==============================] - 0s 43us/sample - loss: 0.1299 - accuracy: 1.0000\n",
      "Epoch 46/100\n",
      "750/750 [==============================] - 0s 46us/sample - loss: 0.1171 - accuracy: 1.0000\n",
      "Epoch 47/100\n",
      "750/750 [==============================] - 0s 53us/sample - loss: 0.1061 - accuracy: 1.0000\n",
      "Epoch 48/100\n",
      "750/750 [==============================] - 0s 46us/sample - loss: 0.0963 - accuracy: 1.0000\n",
      "Epoch 49/100\n",
      "750/750 [==============================] - 0s 46us/sample - loss: 0.0879 - accuracy: 1.0000\n",
      "Epoch 50/100\n",
      "750/750 [==============================] - 0s 47us/sample - loss: 0.0804 - accuracy: 1.0000\n",
      "Epoch 51/100\n",
      "750/750 [==============================] - 0s 50us/sample - loss: 0.0739 - accuracy: 1.0000\n",
      "Epoch 52/100\n",
      "750/750 [==============================] - 0s 49us/sample - loss: 0.0681 - accuracy: 1.0000\n",
      "Epoch 53/100\n",
      "750/750 [==============================] - 0s 48us/sample - loss: 0.0630 - accuracy: 1.0000\n",
      "Epoch 54/100\n",
      "750/750 [==============================] - 0s 45us/sample - loss: 0.0585 - accuracy: 1.0000\n",
      "Epoch 55/100\n",
      "750/750 [==============================] - 0s 48us/sample - loss: 0.0545 - accuracy: 1.0000\n",
      "Epoch 56/100\n",
      "750/750 [==============================] - 0s 47us/sample - loss: 0.0509 - accuracy: 1.0000\n",
      "Epoch 57/100\n",
      "750/750 [==============================] - 0s 46us/sample - loss: 0.0477 - accuracy: 1.0000\n",
      "Epoch 58/100\n",
      "750/750 [==============================] - 0s 41us/sample - loss: 0.0448 - accuracy: 1.0000\n",
      "Epoch 59/100\n",
      "750/750 [==============================] - 0s 43us/sample - loss: 0.0422 - accuracy: 1.0000\n",
      "Epoch 60/100\n",
      "750/750 [==============================] - 0s 42us/sample - loss: 0.0398 - accuracy: 1.0000\n",
      "Epoch 61/100\n",
      "750/750 [==============================] - 0s 43us/sample - loss: 0.0376 - accuracy: 1.0000\n",
      "Epoch 62/100\n",
      "750/750 [==============================] - 0s 48us/sample - loss: 0.0356 - accuracy: 1.0000\n",
      "Epoch 63/100\n",
      "750/750 [==============================] - 0s 66us/sample - loss: 0.0337 - accuracy: 1.0000\n",
      "Epoch 64/100\n",
      "750/750 [==============================] - 0s 59us/sample - loss: 0.0320 - accuracy: 1.0000\n",
      "Epoch 65/100\n",
      "750/750 [==============================] - 0s 57us/sample - loss: 0.0305 - accuracy: 1.0000\n",
      "Epoch 66/100\n",
      "750/750 [==============================] - 0s 58us/sample - loss: 0.0290 - accuracy: 1.0000\n",
      "Epoch 67/100\n",
      "750/750 [==============================] - 0s 58us/sample - loss: 0.0276 - accuracy: 1.0000\n",
      "Epoch 68/100\n",
      "750/750 [==============================] - 0s 60us/sample - loss: 0.0264 - accuracy: 1.0000\n",
      "Epoch 69/100\n",
      "750/750 [==============================] - 0s 48us/sample - loss: 0.0252 - accuracy: 1.0000\n",
      "Epoch 70/100\n",
      "750/750 [==============================] - 0s 46us/sample - loss: 0.0241 - accuracy: 1.0000\n",
      "Epoch 71/100\n",
      "750/750 [==============================] - 0s 54us/sample - loss: 0.0231 - accuracy: 1.0000\n",
      "Epoch 72/100\n",
      "750/750 [==============================] - 0s 61us/sample - loss: 0.0222 - accuracy: 1.0000\n",
      "Epoch 73/100\n",
      "750/750 [==============================] - 0s 55us/sample - loss: 0.0213 - accuracy: 1.0000\n",
      "Epoch 74/100\n",
      "750/750 [==============================] - 0s 44us/sample - loss: 0.0204 - accuracy: 1.0000\n",
      "Epoch 75/100\n",
      "750/750 [==============================] - 0s 42us/sample - loss: 0.0196 - accuracy: 1.0000\n",
      "Epoch 76/100\n",
      "750/750 [==============================] - 0s 43us/sample - loss: 0.0189 - accuracy: 1.0000\n",
      "Epoch 77/100\n",
      "750/750 [==============================] - 0s 42us/sample - loss: 0.0182 - accuracy: 1.0000\n",
      "Epoch 78/100\n"
     ]
    },
    {
     "name": "stdout",
     "output_type": "stream",
     "text": [
      "750/750 [==============================] - 0s 47us/sample - loss: 0.0175 - accuracy: 1.0000\n",
      "Epoch 79/100\n",
      "750/750 [==============================] - 0s 47us/sample - loss: 0.0169 - accuracy: 1.0000\n",
      "Epoch 80/100\n",
      "750/750 [==============================] - 0s 44us/sample - loss: 0.0163 - accuracy: 1.0000\n",
      "Epoch 81/100\n",
      "750/750 [==============================] - 0s 42us/sample - loss: 0.0157 - accuracy: 1.0000\n",
      "Epoch 82/100\n",
      "750/750 [==============================] - 0s 42us/sample - loss: 0.0151 - accuracy: 1.0000\n",
      "Epoch 83/100\n",
      "750/750 [==============================] - 0s 41us/sample - loss: 0.0146 - accuracy: 1.0000\n",
      "Epoch 84/100\n",
      "750/750 [==============================] - 0s 43us/sample - loss: 0.0141 - accuracy: 1.0000\n",
      "Epoch 85/100\n",
      "750/750 [==============================] - 0s 42us/sample - loss: 0.0137 - accuracy: 1.0000\n",
      "Epoch 86/100\n",
      "750/750 [==============================] - 0s 42us/sample - loss: 0.0132 - accuracy: 1.0000\n",
      "Epoch 87/100\n",
      "750/750 [==============================] - 0s 42us/sample - loss: 0.0128 - accuracy: 1.0000\n",
      "Epoch 88/100\n",
      "750/750 [==============================] - 0s 45us/sample - loss: 0.0124 - accuracy: 1.0000\n",
      "Epoch 89/100\n",
      "750/750 [==============================] - 0s 41us/sample - loss: 0.0120 - accuracy: 1.0000\n",
      "Epoch 90/100\n",
      "750/750 [==============================] - 0s 42us/sample - loss: 0.0117 - accuracy: 1.0000\n",
      "Epoch 91/100\n",
      "750/750 [==============================] - 0s 41us/sample - loss: 0.0113 - accuracy: 1.0000\n",
      "Epoch 92/100\n",
      "750/750 [==============================] - 0s 42us/sample - loss: 0.0110 - accuracy: 1.0000\n",
      "Epoch 93/100\n",
      "750/750 [==============================] - 0s 41us/sample - loss: 0.0106 - accuracy: 1.0000\n",
      "Epoch 94/100\n",
      "750/750 [==============================] - 0s 42us/sample - loss: 0.0103 - accuracy: 1.0000\n",
      "Epoch 95/100\n",
      "750/750 [==============================] - 0s 42us/sample - loss: 0.0100 - accuracy: 1.0000\n",
      "Epoch 96/100\n",
      "750/750 [==============================] - 0s 40us/sample - loss: 0.0097 - accuracy: 1.0000\n",
      "Epoch 97/100\n",
      "750/750 [==============================] - 0s 43us/sample - loss: 0.0095 - accuracy: 1.0000\n",
      "Epoch 98/100\n",
      "750/750 [==============================] - 0s 41us/sample - loss: 0.0092 - accuracy: 1.0000\n",
      "Epoch 99/100\n",
      "750/750 [==============================] - 0s 41us/sample - loss: 0.0089 - accuracy: 1.0000\n",
      "Epoch 100/100\n",
      "750/750 [==============================] - 0s 41us/sample - loss: 0.0087 - accuracy: 1.0000\n"
     ]
    }
   ],
   "source": [
    "# Compile the Sequential model together and customize metrics\n",
    "nn_model.compile(loss=\"binary_crossentropy\", optimizer=\"adam\", metrics=[\"accuracy\"])\n",
    "\n",
    "# Fit the model to the training data\n",
    "fit_model = nn_model.fit(X_train_scaled, y_train, epochs=100)"
   ]
  },
  {
   "cell_type": "code",
   "execution_count": 10,
   "metadata": {},
   "outputs": [
    {
     "data": {
      "text/plain": [
       "<matplotlib.axes._subplots.AxesSubplot at 0x1a3f3e0cd0>"
      ]
     },
     "execution_count": 10,
     "metadata": {},
     "output_type": "execute_result"
    },
    {
     "data": {
      "image/png": "[encoded data removed]",
      "text/plain": [
       "<Figure size 432x288 with 1 Axes>"
      ]
     },
     "metadata": {
      "needs_background": "light"
     },
     "output_type": "display_data"
    }
   ],
   "source": [
    "# Create a DataFrame containing training history\n",
    "history_df = pd.DataFrame(fit_model.history)\n",
    "\n",
    "# Increase the index by 1 to match the number of epochs\n",
    "history_df.index += 1\n",
    "\n",
    "# Plot the loss\n",
    "history_df.plot(y=\"loss\")"
   ]
  },
  {
   "cell_type": "code",
   "execution_count": 11,
   "metadata": {},
   "outputs": [
    {
     "data": {
      "text/plain": [
       "<matplotlib.axes._subplots.AxesSubplot at 0x1a40377390>"
      ]
     },
     "execution_count": 11,
     "metadata": {},
     "output_type": "execute_result"
    },
    {
     "data": {
      "image/png": "[encoded data removed]",
      "text/plain": [
       "<Figure size 432x288 with 1 Axes>"
      ]
     },
     "metadata": {
      "needs_background": "light"
     },
     "output_type": "display_data"
    }
   ],
   "source": [
    "# Plot the accuracy\n",
    "history_df.plot(y=\"accuracy\")"
   ]
  },
  {
   "cell_type": "code",
   "execution_count": 12,
   "metadata": {},
   "outputs": [
    {
     "name": "stdout",
     "output_type": "stream",
     "text": [
      "250/1 - 0s - loss: 0.0055 - accuracy: 1.0000\n",
      "Loss: 0.0069414045922458175, Accuracy: 1.0\n"
     ]
    }
   ],
   "source": [
    "# Evaluate the model using the test data\n",
    "model_loss, model_accuracy = nn_model.evaluate(X_test_scaled,y_test,verbose=2)\n",
    "print(f\"Loss: {model_loss}, Accuracy: {model_accuracy}\")"
   ]
  }
 ],
 "metadata": {
  "kernelspec": {
   "display_name": "Python 3",
   "language": "python",
   "name": "python3"
  },
  "language_info": {
   "codemirror_mode": {
    "name": "ipython",
    "version": 3
   },
   "file_extension": ".py",
   "mimetype": "text/x-python",
   "name": "python",
   "nbconvert_exporter": "python",
   "pygments_lexer": "ipython3",
   "version": "3.7.4"
  }
 },
 "nbformat": 4,
 "nbformat_minor": 2
}