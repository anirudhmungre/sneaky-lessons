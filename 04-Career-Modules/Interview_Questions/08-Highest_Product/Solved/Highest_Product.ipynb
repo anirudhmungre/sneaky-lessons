{
 "cells": [
  {
   "cell_type": "markdown",
   "metadata": {},
   "source": [
    "# Highest Product of Two\n",
    "\n",
    "Write a function that accepts an array of integers and returns the largest number we can get by multiplying two of them. \n",
    "\n",
    "For example, for the array: `numbers = [2, 42, 100]`\n",
    "\n",
    "...We should get `42 * 100 = 4200`."
   ]
  },
  {
   "cell_type": "code",
   "execution_count": 1,
   "metadata": {
    "collapsed": true
   },
   "outputs": [],
   "source": [
    "numbers = [2, 42, 100]"
   ]
  },
  {
   "cell_type": "markdown",
   "metadata": {},
   "source": [
    "## Solution 1: Sort and Multiply"
   ]
  },
  {
   "cell_type": "code",
   "execution_count": 2,
   "metadata": {
    "collapsed": true
   },
   "outputs": [],
   "source": [
    "def high_two(numbers):\n",
    "    numbers_sorted = sorted(numbers, reverse=True)\n",
    "    return numbers_sorted[0] * numbers_sorted[1]"
   ]
  },
  {
   "cell_type": "code",
   "execution_count": 3,
   "metadata": {},
   "outputs": [
    {
     "data": {
      "text/plain": [
       "4200"
      ]
     },
     "execution_count": 3,
     "metadata": {},
     "output_type": "execute_result"
    }
   ],
   "source": [
    "high_two(numbers)"
   ]
  },
  {
   "cell_type": "markdown",
   "metadata": {},
   "source": [
    "Pitfalls with the above: What about multiplying two large negative numbers? [-150, -2, 2, 100]"
   ]
  },
  {
   "cell_type": "markdown",
   "metadata": {},
   "source": [
    "## Solution 2: Permutations"
   ]
  },
  {
   "cell_type": "code",
   "execution_count": 4,
   "metadata": {},
   "outputs": [],
   "source": [
    "from itertools import permutations\n",
    "\n",
    "def high_two(numbers):\n",
    "    \n",
    "    # Grab the first two numbers as a starting point\n",
    "    biggest = tuple(numbers[:2])\n",
    "    \n",
    "    # Calculate the product of those first two numbers\n",
    "    product = biggest[0] * biggest[1]\n",
    "    \n",
    "    # Create permutations for all values\n",
    "    perm = permutations(numbers, 2)\n",
    "    \n",
    "    # Loop through each permutation pair, update biggest if new product is bigger\n",
    "    for pair in perm:\n",
    "        result = pair[0] * pair[1]\n",
    "        if result > product:\n",
    "            product = result\n",
    "            biggest = pair\n",
    "    return biggest[0] * biggest[1]\n"
   ]
  }
 ],
 "metadata": {
  "kernelspec": {
   "display_name": "Python 3",
   "language": "python",
   "name": "python3"
  },
  "language_info": {
   "codemirror_mode": {
    "name": "ipython",
    "version": 3
   },
   "file_extension": ".py",
   "mimetype": "text/x-python",
   "name": "python",
   "nbconvert_exporter": "python",
   "pygments_lexer": "ipython3",
   "version": "3.6.3"
  },
  "varInspector": {
   "cols": {
    "lenName": 16,
    "lenType": 16,
    "lenVar": 40
   },
   "kernels_config": {
    "python": {
     "delete_cmd_postfix": "",
     "delete_cmd_prefix": "del ",
     "library": "var_list.py",
     "varRefreshCmd": "print(var_dic_list())"
    },
    "r": {
     "delete_cmd_postfix": ") ",
     "delete_cmd_prefix": "rm(",
     "library": "var_list.r",
     "varRefreshCmd": "cat(var_dic_list()) "
    }
   },
   "types_to_exclude": [
    "module",
    "function",
    "builtin_function_or_method",
    "instance",
    "_Feature"
   ],
   "window_display": false
  }
 },
 "nbformat": 4,
 "nbformat_minor": 2
}
