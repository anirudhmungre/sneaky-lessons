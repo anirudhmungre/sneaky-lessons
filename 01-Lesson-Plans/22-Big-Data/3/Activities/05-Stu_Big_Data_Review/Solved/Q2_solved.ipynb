{
 "cells": [
  {
   "cell_type": "code",
   "execution_count": null,
   "metadata": {
    "colab": {},
    "colab_type": "code",
    "id": "NP-I7IsYnkrv"
   },
   "outputs": [],
   "source": [
    "import os\n",
    "# Find the latest version of spark 3.0  from http://www.apache.org/dist/spark/ and enter as the spark version\n",
    "# For example:\n",
    "# spark_version = 'spark-3.0.3'\n",
    "spark_version = 'spark-3.<enter version>'\n",
    "os.environ['SPARK_VERSION']=spark_version\n",
    "\n",
    "# Install Spark and Java\n",
    "!apt-get update\n",
    "!apt-get install openjdk-8-jdk-headless -qq > /dev/null\n",
    "!wget -q http://www.apache.org/dist/spark/$SPARK_VERSION/$SPARK_VERSION-bin-hadoop2.7.tgz\n",
    "!tar xf $SPARK_VERSION-bin-hadoop2.7.tgz\n",
    "!pip install -q findspark\n",
    "\n",
    "# Set Environment Variables\n",
    "os.environ[\"JAVA_HOME\"] = \"/usr/lib/jvm/java-8-openjdk-amd64\"\n",
    "os.environ[\"SPARK_HOME\"] = f\"/content/{spark_version}-bin-hadoop2.7\"\n",
    "\n",
    "# Start a SparkSession\n",
    "import findspark\n",
    "findspark.init()"
   ]
  },
  {
   "cell_type": "code",
   "execution_count": null,
   "metadata": {
    "colab": {},
    "colab_type": "code",
    "id": "I1qEOGojnoTT"
   },
   "outputs": [],
   "source": [
    "from pyspark.sql import SparkSession\n",
    "spark = SparkSession.builder.appName(\"Q2\").getOrCreate()"
   ]
  },
  {
   "cell_type": "code",
   "execution_count": 3,
   "metadata": {
    "colab": {
     "base_uri": "https://localhost:8080/",
     "height": 295
    },
    "colab_type": "code",
    "id": "dmXGRNfrnrAk",
    "outputId": "d0116d4f-3908-4d8e-9f0f-f2083fcabe49"
   },
   "outputs": [
    {
     "name": "stdout",
     "output_type": "stream",
     "text": [
      "+--------------------+----------+\n",
      "|    coffee_shop_name|num_rating|\n",
      "+--------------------+----------+\n",
      "|The Factory - Caf...|         5|\n",
      "|The Factory - Caf...|         4|\n",
      "|The Factory - Caf...|         4|\n",
      "|The Factory - Caf...|         2|\n",
      "|The Factory - Caf...|         4|\n",
      "|The Factory - Caf...|         4|\n",
      "|The Factory - Caf...|         4|\n",
      "|The Factory - Caf...|         5|\n",
      "|The Factory - Caf...|         3|\n",
      "|The Factory - Caf...|         5|\n",
      "+--------------------+----------+\n",
      "only showing top 10 rows\n",
      "\n"
     ]
    }
   ],
   "source": [
    "from pyspark import SparkFiles\n",
    "# Load in user_data.csv from S3 into a DataFrame\n",
    "url = \"https://s3.amazonaws.com/dataviz-curriculum/day_3/checkpoints/question_two.csv\"\n",
    "spark.sparkContext.addFile(url)\n",
    "\n",
    "df = spark.read.option('header', 'true').csv(SparkFiles.get(\"question_two.csv\"), inferSchema=True, sep=',', timestampFormat=\"mm/dd/yy\")\n",
    "df.show(10)"
   ]
  },
  {
   "cell_type": "markdown",
   "metadata": {
    "colab_type": "text",
    "id": "HgRVeXBjntl1"
   },
   "source": [
    "# Which coffee shop had the fewest number of ratings?"
   ]
  },
  {
   "cell_type": "code",
   "execution_count": 4,
   "metadata": {
    "colab": {
     "base_uri": "https://localhost:8080/",
     "height": 469
    },
    "colab_type": "code",
    "id": "BJU1njfLnt_e",
    "outputId": "aa04a459-61a5-41d1-cf8e-926a5d80ede0"
   },
   "outputs": [
    {
     "name": "stdout",
     "output_type": "stream",
     "text": [
      "+------------------------------------+-----------------------+\n",
      "|coffee_shop_name                    |count(coffee_shop_name)|\n",
      "+------------------------------------+-----------------------+\n",
      "|Lola Savannah Coffee Downtown       |4                      |\n",
      "|The Marvelous Vintage Tea Party Co. |10                     |\n",
      "|Kowabunga Coffee                    |16                     |\n",
      "|Sister Coffee                       |17                     |\n",
      "|Lucky Lab Coffee                    |25                     |\n",
      "|Flitch Coffee                       |28                     |\n",
      "|Legend Coffee                       |28                     |\n",
      "|Friends & Neighbors                 |29                     |\n",
      "|Holy Grounds                        |30                     |\n",
      "|My Sweet Austin                     |31                     |\n",
      "|Tuscany At 360                      |33                     |\n",
      "|Ma√±ana Coffee & Juice              |33                     |\n",
      "|Brian's Brew                        |45                     |\n",
      "|Elixer Coffee                       |52                     |\n",
      "|Third Coast Coffee Roasting Company |56                     |\n",
      "|Fleet Coffee                        |57                     |\n",
      "|Flat Track Coffee                   |63                     |\n",
      "|Cafe Ruckus                         |68                     |\n",
      "|Emerald Tavern Games & Cafe         |76                     |\n",
      "|Fat Cats Organic Coffee And Dessert |94                     |\n",
      "+------------------------------------+-----------------------+\n",
      "only showing top 20 rows\n",
      "\n"
     ]
    }
   ],
   "source": [
    "coffee_ratings_df = df.groupby(\"coffee_shop_name\").agg({\"coffee_shop_name\":\"count\"})\\\n",
    "\n",
    "coffee_ratings_df.orderBy(\"count(coffee_shop_name)\").show(truncate=False)"
   ]
  },
  {
   "cell_type": "code",
   "execution_count": null,
   "metadata": {
    "colab": {},
    "colab_type": "code",
    "id": "4_isBIfoqcv5"
   },
   "outputs": [],
   "source": []
  }
 ],
 "metadata": {
  "colab": {
   "name": "Question2.ipynb",
   "provenance": []
  },
  "kernelspec": {
   "display_name": "Python 3",
   "language": "python",
   "name": "python3"
  },
  "language_info": {
   "codemirror_mode": {
    "name": "ipython",
    "version": 3
   },
   "file_extension": ".py",
   "mimetype": "text/x-python",
   "name": "python",
   "nbconvert_exporter": "python",
   "pygments_lexer": "ipython3",
   "version": "3.7.4"
  }
 },
 "nbformat": 4,
 "nbformat_minor": 4
}
