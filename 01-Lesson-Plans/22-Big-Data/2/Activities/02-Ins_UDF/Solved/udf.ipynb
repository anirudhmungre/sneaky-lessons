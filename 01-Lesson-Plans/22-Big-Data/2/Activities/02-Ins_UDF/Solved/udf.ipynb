{
 "cells": [
  {
   "cell_type": "code",
   "execution_count": null,
   "metadata": {
    "colab": {},
    "colab_type": "code",
    "id": "9iLMvjWyWp1a"
   },
   "outputs": [],
   "source": [
    "import os\n",
    "# Find the latest version of spark 3.0  from http://www.apache.org/dist/spark/ and enter as the spark version\n",
    "# For example:\n",
    "# spark_version = 'spark-3.0.3'\n",
    "spark_version = 'spark-3.<enter version>'\n",
    "os.environ['SPARK_VERSION']=spark_version\n",
    "\n",
    "# Install Spark and Java\n",
    "!apt-get update\n",
    "!apt-get install openjdk-8-jdk-headless -qq > /dev/null\n",
    "!wget -q http://www.apache.org/dist/spark/$SPARK_VERSION/$SPARK_VERSION-bin-hadoop2.7.tgz\n",
    "!tar xf $SPARK_VERSION-bin-hadoop2.7.tgz\n",
    "!pip install -q findspark\n",
    "\n",
    "# Set Environment Variables\n",
    "os.environ[\"JAVA_HOME\"] = \"/usr/lib/jvm/java-8-openjdk-amd64\"\n",
    "os.environ[\"SPARK_HOME\"] = f\"/content/{spark_version}-bin-hadoop2.7\"\n",
    "\n",
    "# Start a SparkSession\n",
    "import findspark\n",
    "findspark.init()"
   ]
  },
  {
   "cell_type": "code",
   "execution_count": null,
   "metadata": {
    "colab": {},
    "colab_type": "code",
    "id": "Ohy2p20TWs9u"
   },
   "outputs": [],
   "source": [
    "# Start Spark session\n",
    "from pyspark.sql import SparkSession\n",
    "spark = SparkSession.builder.appName(\"UDF\").getOrCreate()"
   ]
  },
  {
   "cell_type": "code",
   "execution_count": null,
   "metadata": {
    "colab": {},
    "colab_type": "code",
    "id": "kpuWzDT4Wzeg"
   },
   "outputs": [],
   "source": [
    "from pyspark.ml.feature import Tokenizer\n",
    "from pyspark.sql.functions import col, udf\n",
    "from pyspark.sql.types import IntegerType"
   ]
  },
  {
   "cell_type": "code",
   "execution_count": 4,
   "metadata": {
    "colab": {
     "base_uri": "https://localhost:8080/",
     "height": 170
    },
    "colab_type": "code",
    "id": "kpK-CqqEW2kN",
    "outputId": "6394ddb0-750c-4ae0-c42c-683be634e3b2"
   },
   "outputs": [
    {
     "name": "stdout",
     "output_type": "stream",
     "text": [
      "+---+--------------------+\n",
      "| id|       Nursery Rhyme|\n",
      "+---+--------------------+\n",
      "|  0|Mary had a little...|\n",
      "|  1|Its fleece was wh...|\n",
      "|  2|And everywhere Ma...|\n",
      "|  3|The lamb was sure...|\n",
      "+---+--------------------+\n",
      "\n"
     ]
    }
   ],
   "source": [
    "dataframe = spark.createDataFrame([\n",
    "    (0, \"Mary had a little lamb\"),\n",
    "    (1, \"Its fleece was white as snow\"),\n",
    "    (2, \"And everywhere Mary went\"),\n",
    "    (3, \"The lamb was sure to go\")\n",
    "], [\"id\", \"Nursery Rhyme\"])\n",
    "dataframe.show()"
   ]
  },
  {
   "cell_type": "code",
   "execution_count": 5,
   "metadata": {
    "colab": {
     "base_uri": "https://localhost:8080/",
     "height": 34
    },
    "colab_type": "code",
    "id": "iUpGpmY1W-QU",
    "outputId": "19ef2942-0933-4c34-8e64-2674c5deddf5"
   },
   "outputs": [
    {
     "data": {
      "text/plain": [
       "Tokenizer_6d2129429046"
      ]
     },
     "execution_count": 5,
     "metadata": {
      "tags": []
     },
     "output_type": "execute_result"
    }
   ],
   "source": [
    "# Tokenize word\n",
    "tokenizer = Tokenizer(inputCol=\"Nursery Rhyme\", outputCol=\"words\")\n",
    "tokenizer"
   ]
  },
  {
   "cell_type": "code",
   "execution_count": null,
   "metadata": {
    "colab": {},
    "colab_type": "code",
    "id": "ljgw7uXKXB7W"
   },
   "outputs": [],
   "source": [
    "# Create a function to return the length of a list\n",
    "def word_list_length(word_list):\n",
    "    return len(word_list)"
   ]
  },
  {
   "cell_type": "code",
   "execution_count": 7,
   "metadata": {
    "colab": {
     "base_uri": "https://localhost:8080/",
     "height": 34
    },
    "colab_type": "code",
    "id": "GluC5Cu4XCZA",
    "outputId": "e1e973b0-5700-40d0-854f-83e0f1186134"
   },
   "outputs": [
    {
     "data": {
      "text/plain": [
       "<function __main__.word_list_length>"
      ]
     },
     "execution_count": 7,
     "metadata": {
      "tags": []
     },
     "output_type": "execute_result"
    }
   ],
   "source": [
    "# Create a user defined function \n",
    "count_tokens = udf(word_list_length, IntegerType())\n",
    "count_tokens"
   ]
  },
  {
   "cell_type": "code",
   "execution_count": 8,
   "metadata": {
    "colab": {
     "base_uri": "https://localhost:8080/",
     "height": 170
    },
    "colab_type": "code",
    "id": "RDnhtepGXCNv",
    "outputId": "4512dab9-59ca-4818-e4a0-214fef496763"
   },
   "outputs": [
    {
     "name": "stdout",
     "output_type": "stream",
     "text": [
      "+----------------------------+-----------------------------------+------+\n",
      "|Nursery Rhyme               |words                              |tokens|\n",
      "+----------------------------+-----------------------------------+------+\n",
      "|Mary had a little lamb      |[mary, had, a, little, lamb]       |5     |\n",
      "|Its fleece was white as snow|[its, fleece, was, white, as, snow]|6     |\n",
      "|And everywhere Mary went    |[and, everywhere, mary, went]      |4     |\n",
      "|The lamb was sure to go     |[the, lamb, was, sure, to, go]     |6     |\n",
      "+----------------------------+-----------------------------------+------+\n",
      "\n"
     ]
    }
   ],
   "source": [
    "# Transform DataFrame\n",
    "tokenized = tokenizer.transform(dataframe)\n",
    "\n",
    "# Select the needed columns and don't truncate results\n",
    "tokenized.select(\"Nursery Rhyme\", \"words\")\\\n",
    "    .withColumn(\"tokens\", count_tokens(col(\"words\"))).show(truncate=False)"
   ]
  },
  {
   "cell_type": "code",
   "execution_count": null,
   "metadata": {
    "colab": {},
    "colab_type": "code",
    "id": "MeJ1PsYtXUD3"
   },
   "outputs": [],
   "source": []
  }
 ],
 "metadata": {
  "colab": {
   "name": "udf.ipynb",
   "provenance": []
  },
  "kernelspec": {
   "display_name": "Python 3",
   "language": "python",
   "name": "python3"
  },
  "language_info": {
   "codemirror_mode": {
    "name": "ipython",
    "version": 3
   },
   "file_extension": ".py",
   "mimetype": "text/x-python",
   "name": "python",
   "nbconvert_exporter": "python",
   "pygments_lexer": "ipython3",
   "version": "3.7.4"
  }
 },
 "nbformat": 4,
 "nbformat_minor": 4
}
