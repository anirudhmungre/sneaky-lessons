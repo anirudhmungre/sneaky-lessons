{
 "cells": [
  {
   "cell_type": "code",
   "execution_count": 1,
   "metadata": {},
   "outputs": [],
   "source": [
    "import pandas as pd\n",
    "import numpy as np\n",
    "import os"
   ]
  },
  {
   "cell_type": "code",
   "execution_count": 2,
   "metadata": {},
   "outputs": [],
   "source": [
    "import sqlalchemy\n",
    "from sqlalchemy import create_engine, MetaData\n",
    "from sqlalchemy.ext.declarative import declarative_base\n",
    "from sqlalchemy import Column, Integer, String, Numeric, Text, Float"
   ]
  },
  {
   "cell_type": "code",
   "execution_count": 3,
   "metadata": {},
   "outputs": [],
   "source": [
    "# !rm belly_button_biodiversity.sqlite"
   ]
  },
  {
   "cell_type": "code",
   "execution_count": 4,
   "metadata": {},
   "outputs": [],
   "source": [
    "engine = create_engine(\"sqlite:///belly_button_biodiversity.sqlite\")\n",
    "conn = engine.connect()"
   ]
  },
  {
   "cell_type": "code",
   "execution_count": 5,
   "metadata": {},
   "outputs": [],
   "source": [
    "Base = declarative_base()"
   ]
  },
  {
   "cell_type": "code",
   "execution_count": 6,
   "metadata": {},
   "outputs": [],
   "source": [
    "class Samples_Metadata(Base):\n",
    "    __tablename__ = 'samples_metadata'\n",
    "\n",
    "    SAMPLEID = Column(Integer, primary_key=True)\n",
    "    EVENT = Column(Text)\n",
    "    ETHNICITY = Column(Text)\n",
    "    GENDER = Column(Text)\n",
    "    AGE = Column(Integer)\n",
    "    WFREQ = Column(Integer)\n",
    "    BBTYPE = Column(Text)\n",
    "    LOCATION = Column(Text)\n",
    "    COUNTRY012 = Column(Text)\n",
    "    ZIP012 = Column(Integer)\n",
    "    COUNTRY1319 = Column(Text)\n",
    "    ZIP1319 = Column(Integer)\n",
    "    DOG = Column(Text)\n",
    "    CAT = Column(Text)\n",
    "    IMPSURFACE013 = Column(Integer)\n",
    "    NPP013 = Column(Float)\n",
    "    MMAXTEMP013 = Column(Float)\n",
    "    PFC013 = Column(Float)\n",
    "    IMPSURFACE1319 = Column(Integer)\n",
    "    NPP1319 = Column(Float)\n",
    "    MMAXTEMP1319 = Column(Float)\n",
    "    PFC1319 = Column(Float)\n",
    "    \n",
    "    def __repr__(self):\n",
    "        return f\"id={self.ID}\""
   ]
  },
  {
   "cell_type": "code",
   "execution_count": 7,
   "metadata": {},
   "outputs": [],
   "source": [
    "class OTU(Base):\n",
    "    __tablename__ = 'otu'\n",
    "\n",
    "    otu_id = Column(Integer, primary_key=True)\n",
    "    lowest_taxonomic_unit_found = Column(Text)\n",
    "    \n",
    "    def __repr__(self):\n",
    "        return f\"id={self.otu_id}, lowest_taxonomic_unit_found={self.lowest_taxonomic_unit_found}\""
   ]
  },
  {
   "cell_type": "code",
   "execution_count": 8,
   "metadata": {},
   "outputs": [],
   "source": [
    "class Samples(Base):\n",
    "    __tablename__ = 'samples'\n",
    "\n",
    "    otu_id = Column(Integer, primary_key=True)\n",
    "    BB_940 = Column(Integer)\n",
    "    BB_941 = Column(Integer)\n",
    "    BB_943 = Column(Integer)\n",
    "    BB_944 = Column(Integer)\n",
    "    BB_945 = Column(Integer)\n",
    "    BB_946 = Column(Integer)\n",
    "    BB_947 = Column(Integer)\n",
    "    BB_948 = Column(Integer)\n",
    "    BB_949 = Column(Integer)\n",
    "    BB_950 = Column(Integer)\n",
    "    BB_952 = Column(Integer)\n",
    "    BB_953 = Column(Integer)\n",
    "    BB_954 = Column(Integer)\n",
    "    BB_955 = Column(Integer)\n",
    "    BB_956 = Column(Integer)\n",
    "    BB_958 = Column(Integer)\n",
    "    BB_959 = Column(Integer)\n",
    "    BB_960 = Column(Integer)\n",
    "    BB_961 = Column(Integer)\n",
    "    BB_962 = Column(Integer)\n",
    "    BB_963 = Column(Integer)\n",
    "    BB_964 = Column(Integer)\n",
    "    BB_966 = Column(Integer)\n",
    "    BB_967 = Column(Integer)\n",
    "    BB_968 = Column(Integer)\n",
    "    BB_969 = Column(Integer)\n",
    "    BB_970 = Column(Integer)\n",
    "    BB_971 = Column(Integer)\n",
    "    BB_972 = Column(Integer)\n",
    "    BB_973 = Column(Integer)\n",
    "    BB_974 = Column(Integer)\n",
    "    BB_975 = Column(Integer)\n",
    "    BB_978 = Column(Integer)\n",
    "    BB_1233 = Column(Integer)\n",
    "    BB_1234 = Column(Integer)\n",
    "    BB_1235 = Column(Integer)\n",
    "    BB_1236 = Column(Integer)\n",
    "    BB_1237 = Column(Integer)\n",
    "    BB_1238 = Column(Integer)\n",
    "    BB_1242 = Column(Integer)\n",
    "    BB_1243 = Column(Integer)\n",
    "    BB_1246 = Column(Integer)\n",
    "    BB_1253 = Column(Integer)\n",
    "    BB_1254 = Column(Integer)\n",
    "    BB_1258 = Column(Integer)\n",
    "    BB_1259 = Column(Integer)\n",
    "    BB_1260 = Column(Integer)\n",
    "    BB_1264 = Column(Integer)\n",
    "    BB_1265 = Column(Integer)\n",
    "    BB_1273 = Column(Integer)\n",
    "    BB_1275 = Column(Integer)\n",
    "    BB_1276 = Column(Integer)\n",
    "    BB_1277 = Column(Integer)\n",
    "    BB_1278 = Column(Integer)\n",
    "    BB_1279 = Column(Integer)\n",
    "    BB_1280 = Column(Integer)\n",
    "    BB_1281 = Column(Integer)\n",
    "    BB_1282 = Column(Integer)\n",
    "    BB_1283 = Column(Integer)\n",
    "    BB_1284 = Column(Integer)\n",
    "    BB_1285 = Column(Integer)\n",
    "    BB_1286 = Column(Integer)\n",
    "    BB_1287 = Column(Integer)\n",
    "    BB_1288 = Column(Integer)\n",
    "    BB_1289 = Column(Integer)\n",
    "    BB_1290 = Column(Integer)\n",
    "    BB_1291 = Column(Integer)\n",
    "    BB_1292 = Column(Integer)\n",
    "    BB_1293 = Column(Integer)\n",
    "    BB_1294 = Column(Integer)\n",
    "    BB_1295 = Column(Integer)\n",
    "    BB_1296 = Column(Integer)\n",
    "    BB_1297 = Column(Integer)\n",
    "    BB_1298 = Column(Integer)\n",
    "    BB_1308 = Column(Integer)\n",
    "    BB_1309 = Column(Integer)\n",
    "    BB_1310 = Column(Integer)\n",
    "    BB_1374 = Column(Integer)\n",
    "    BB_1415 = Column(Integer)\n",
    "    BB_1439 = Column(Integer)\n",
    "    BB_1441 = Column(Integer)\n",
    "    BB_1443 = Column(Integer)\n",
    "    BB_1486 = Column(Integer)\n",
    "    BB_1487 = Column(Integer)\n",
    "    BB_1489 = Column(Integer)\n",
    "    BB_1490 = Column(Integer)\n",
    "    BB_1491 = Column(Integer)\n",
    "    BB_1494 = Column(Integer)\n",
    "    BB_1495 = Column(Integer)\n",
    "    BB_1497 = Column(Integer)\n",
    "    BB_1499 = Column(Integer)\n",
    "    BB_1500 = Column(Integer)\n",
    "    BB_1501 = Column(Integer)\n",
    "    BB_1502 = Column(Integer)\n",
    "    BB_1503 = Column(Integer)\n",
    "    BB_1504 = Column(Integer)\n",
    "    BB_1505 = Column(Integer)\n",
    "    BB_1506 = Column(Integer)\n",
    "    BB_1507 = Column(Integer)\n",
    "    BB_1508 = Column(Integer)\n",
    "    BB_1510 = Column(Integer)\n",
    "    BB_1511 = Column(Integer)\n",
    "    BB_1512 = Column(Integer)\n",
    "    BB_1513 = Column(Integer)\n",
    "    BB_1514 = Column(Integer)\n",
    "    BB_1515 = Column(Integer)\n",
    "    BB_1516 = Column(Integer)\n",
    "    BB_1517 = Column(Integer)\n",
    "    BB_1518 = Column(Integer)\n",
    "    BB_1519 = Column(Integer)\n",
    "    BB_1521 = Column(Integer)\n",
    "    BB_1524 = Column(Integer)\n",
    "    BB_1526 = Column(Integer)\n",
    "    BB_1527 = Column(Integer)\n",
    "    BB_1530 = Column(Integer)\n",
    "    BB_1531 = Column(Integer)\n",
    "    BB_1532 = Column(Integer)\n",
    "    BB_1533 = Column(Integer)\n",
    "    BB_1534 = Column(Integer)\n",
    "    BB_1535 = Column(Integer)\n",
    "    BB_1536 = Column(Integer)\n",
    "    BB_1537 = Column(Integer)\n",
    "    BB_1539 = Column(Integer)\n",
    "    BB_1540 = Column(Integer)\n",
    "    BB_1541 = Column(Integer)\n",
    "    BB_1542 = Column(Integer)\n",
    "    BB_1543 = Column(Integer)\n",
    "    BB_1544 = Column(Integer)\n",
    "    BB_1545 = Column(Integer)\n",
    "    BB_1546 = Column(Integer)\n",
    "    BB_1547 = Column(Integer)\n",
    "    BB_1548 = Column(Integer)\n",
    "    BB_1549 = Column(Integer)\n",
    "    BB_1550 = Column(Integer)\n",
    "    BB_1551 = Column(Integer)\n",
    "    BB_1552 = Column(Integer)\n",
    "    BB_1553 = Column(Integer)\n",
    "    BB_1554 = Column(Integer)\n",
    "    BB_1555 = Column(Integer)\n",
    "    BB_1556 = Column(Integer)\n",
    "    BB_1557 = Column(Integer)\n",
    "    BB_1558 = Column(Integer)\n",
    "    BB_1561 = Column(Integer)\n",
    "    BB_1562 = Column(Integer)\n",
    "    BB_1563 = Column(Integer)\n",
    "    BB_1564 = Column(Integer)\n",
    "    BB_1572 = Column(Integer)\n",
    "    BB_1573 = Column(Integer)\n",
    "    BB_1574 = Column(Integer)\n",
    "    BB_1576 = Column(Integer)\n",
    "    BB_1577 = Column(Integer)\n",
    "    BB_1581 = Column(Integer)\n",
    "    BB_1601 = Column(Integer)\n",
    "    \n",
    "    def __repr__(self):\n",
    "        return f\"id={self.otu_id}\""
   ]
  },
  {
   "cell_type": "code",
   "execution_count": 9,
   "metadata": {},
   "outputs": [
    {
     "data": {
      "text/plain": [
       "['otu', 'samples', 'samples_metadata']"
      ]
     },
     "execution_count": 9,
     "metadata": {},
     "output_type": "execute_result"
    }
   ],
   "source": [
    "Base.metadata.create_all(engine)\n",
    "engine.table_names()"
   ]
  },
  {
   "cell_type": "code",
   "execution_count": 10,
   "metadata": {},
   "outputs": [],
   "source": [
    "metadatacsv = 'belly_button_biodiversity_metadata.csv'\n",
    "otucsv = 'belly_button_biodiversity_otu_id.csv'\n",
    "samplescsv = 'belly_button_biodiversity_samples.csv'"
   ]
  },
  {
   "cell_type": "code",
   "execution_count": 11,
   "metadata": {},
   "outputs": [],
   "source": [
    "df = pd.read_csv(metadatacsv, dtype=object)\n",
    "# df.head()"
   ]
  },
  {
   "cell_type": "code",
   "execution_count": 12,
   "metadata": {},
   "outputs": [
    {
     "name": "stdout",
     "output_type": "stream",
     "text": [
      "[{'SAMPLEID': 940, 'EVENT': 'BellyButtonsScienceOnline', 'ETHNICITY': 'Caucasian', 'GENDER': 'F', 'AGE': 24.0, 'WFREQ': 2.0, 'BBTYPE': 'I', 'LOCATION': 'Beaufort/NC', 'COUNTRY012': 'usa', 'ZIP012': '22306', 'COUNTRY1319': 'usa', 'ZIP1319': '22306', 'DOG': 'no', 'CAT': 'no', 'IMPSURFACE013': 8852.0, 'NPP013': 37.17222214, 'MMAXTEMP013': 54.5, 'PFC013': nan, 'IMPSURFACE1319': '1', 'NPP1319': nan, 'MMAXTEMP1319': 33.99000168, 'PFC1319': 25.5}]\n",
      "[{'otu_id': 1, 'lowest_taxonomic_unit_found': 'Archaea;Euryarchaeota;Halobacteria;Halobacteriales;Halobacteriaceae;Halococcus'}]\n",
      "[{'otu_id': 1.0, 'BB_940': 0.0, 'BB_941': 0.0, 'BB_943': 0.0, 'BB_944': 0.0, 'BB_945': 0.0, 'BB_946': 0.0, 'BB_947': 0.0, 'BB_948': 0.0, 'BB_949': 0.0, 'BB_950': 0.0, 'BB_952': 0.0, 'BB_953': 0.0, 'BB_954': 0.0, 'BB_955': 0.0, 'BB_956': 0.0, 'BB_958': 0.0, 'BB_959': 0.0, 'BB_960': 0.0, 'BB_961': 0.0, 'BB_962': 0.0, 'BB_963': 0.0, 'BB_964': 0.0, 'BB_966': 1.0, 'BB_967': 0.0, 'BB_968': 0.0, 'BB_969': 0.0, 'BB_970': 0.0, 'BB_971': 0.0, 'BB_972': 0.0, 'BB_973': 0.0, 'BB_974': 0.0, 'BB_975': 0.0, 'BB_978': 0.0, 'BB_1233': 0.0, 'BB_1234': 0.0, 'BB_1235': 0.0, 'BB_1236': 0.0, 'BB_1237': 0.0, 'BB_1238': 0.0, 'BB_1242': 0.0, 'BB_1243': 0.0, 'BB_1246': 0.0, 'BB_1253': 0.0, 'BB_1254': 0.0, 'BB_1258': 0.0, 'BB_1259': 0.0, 'BB_1260': 0.0, 'BB_1264': 0.0, 'BB_1265': 0.0, 'BB_1273': 0.0, 'BB_1275': 0.0, 'BB_1276': 0.0, 'BB_1277': 0.0, 'BB_1278': 0.0, 'BB_1279': 0.0, 'BB_1280': 0.0, 'BB_1281': 0.0, 'BB_1282': 0.0, 'BB_1283': 0.0, 'BB_1284': 0.0, 'BB_1285': 0.0, 'BB_1286': nan, 'BB_1287': 0.0, 'BB_1288': 0.0, 'BB_1289': 0.0, 'BB_1290': 0.0, 'BB_1291': 0.0, 'BB_1292': 0.0, 'BB_1293': 0.0, 'BB_1294': 0.0, 'BB_1295': 0.0, 'BB_1296': 0.0, 'BB_1297': 0.0, 'BB_1298': 0.0, 'BB_1308': 0.0, 'BB_1309': 0.0, 'BB_1310': 0.0, 'BB_1374': 0.0, 'BB_1415': 0.0, 'BB_1439': 0.0, 'BB_1441': 0.0, 'BB_1443': 0.0, 'BB_1486': 0.0, 'BB_1487': 0.0, 'BB_1489': 0.0, 'BB_1490': 0.0, 'BB_1491': 0.0, 'BB_1494': 0.0, 'BB_1495': 0.0, 'BB_1497': 0.0, 'BB_1499': 0.0, 'BB_1500': 0.0, 'BB_1501': 0.0, 'BB_1502': 0.0, 'BB_1503': 0.0, 'BB_1504': 0.0, 'BB_1505': 0.0, 'BB_1506': 0.0, 'BB_1507': 0.0, 'BB_1508': 0.0, 'BB_1510': 0.0, 'BB_1511': 0.0, 'BB_1512': 0.0, 'BB_1513': 0.0, 'BB_1514': 0.0, 'BB_1515': 0.0, 'BB_1516': 0.0, 'BB_1517': 0.0, 'BB_1518': 0.0, 'BB_1519': 0.0, 'BB_1521': 0.0, 'BB_1524': 0.0, 'BB_1526': 0.0, 'BB_1527': 0.0, 'BB_1530': 0.0, 'BB_1531': 0.0, 'BB_1532': 0.0, 'BB_1533': 0.0, 'BB_1534': 0.0, 'BB_1535': 0.0, 'BB_1536': 0.0, 'BB_1537': 0.0, 'BB_1539': 0.0, 'BB_1540': 0.0, 'BB_1541': 0.0, 'BB_1542': 0.0, 'BB_1543': 0.0, 'BB_1544': 0.0, 'BB_1545': 0.0, 'BB_1546': 0.0, 'BB_1547': 0.0, 'BB_1548': 0.0, 'BB_1549': 0.0, 'BB_1550': 0.0, 'BB_1551': 0.0, 'BB_1552': 0.0, 'BB_1553': 0.0, 'BB_1554': 0.0, 'BB_1555': 0.0, 'BB_1556': 0.0, 'BB_1557': 0.0, 'BB_1558': 0.0, 'BB_1561': 0.0, 'BB_1562': 0.0, 'BB_1563': 0.0, 'BB_1564': 0.0, 'BB_1572': 0.0, 'BB_1573': 0.0, 'BB_1574': 0.0, 'BB_1576': 0.0, 'BB_1577': 0.0, 'BB_1581': 0.0, 'BB_1601': 0.0}]\n"
     ]
    }
   ],
   "source": [
    "def populate_table(engine, table, csvfile):\n",
    "    \"\"\"Populates a table from a Pandas DataFrame.\"\"\"\n",
    "    # connect to the database\n",
    "    conn = engine.connect()\n",
    "    \n",
    "    # Load the CSV file into a pandas dataframe \n",
    "    df_of_data_to_insert = pd.read_csv(csvfile)\n",
    "    \n",
    "    # Orient='records' creates a list of data to write\n",
    "    # http://pandas-docs.github.io/pandas-docs-travis/io.html#orient-options\n",
    "    data = df_of_data_to_insert.to_dict(orient='records')\n",
    "    print(data[:1])\n",
    "\n",
    "    # Optional: Delete all rows in the table \n",
    "    conn.execute(table.delete())\n",
    "\n",
    "    # Insert the dataframe into the database in one bulk insert\n",
    "    conn.execute(table.insert(), data)\n",
    "    \n",
    "# Call the function to insert the data for each table\n",
    "populate_table(engine, Samples_Metadata.__table__, metadatacsv)\n",
    "populate_table(engine, OTU.__table__, otucsv)\n",
    "populate_table(engine, Samples.__table__, samplescsv)"
   ]
  },
  {
   "cell_type": "code",
   "execution_count": 13,
   "metadata": {},
   "outputs": [
    {
     "data": {
      "text/plain": [
       "'belly_button_biodiversity_metadata.csv'"
      ]
     },
     "execution_count": 13,
     "metadata": {},
     "output_type": "execute_result"
    }
   ],
   "source": [
    "metadatacsv"
   ]
  },
  {
   "cell_type": "code",
   "execution_count": 14,
   "metadata": {},
   "outputs": [
    {
     "data": {
      "text/plain": [
       "[(940, 'BellyButtonsScienceOnline', 'Caucasian', 'F', 24, 2, 'I', 'Beaufort/NC', 'usa', 22306, 'usa', 22306, 'no', 'no', 8852, 37.17222214, 54.5, None, 1, None, 33.99000168, 25.5)]"
      ]
     },
     "execution_count": 14,
     "metadata": {},
     "output_type": "execute_result"
    }
   ],
   "source": [
    "engine.execute(\"SELECT * FROM samples_metadata LIMIT 1\").fetchall()"
   ]
  },
  {
   "cell_type": "code",
   "execution_count": 15,
   "metadata": {},
   "outputs": [
    {
     "data": {
      "text/plain": [
       "[(1, 'Archaea;Euryarchaeota;Halobacteria;Halobacteriales;Halobacteriaceae;Halococcus')]"
      ]
     },
     "execution_count": 15,
     "metadata": {},
     "output_type": "execute_result"
    }
   ],
   "source": [
    "engine.execute(\"SELECT * FROM otu LIMIT 1\").fetchall()"
   ]
  },
  {
   "cell_type": "code",
   "execution_count": 16,
   "metadata": {},
   "outputs": [
    {
     "data": {
      "text/plain": [
       "[(1, 0, 0, 0, 0, 0, 0, 0, 0, 0, 0, 0, 0, 0, 0, 0, 0, 0, 0, 0, 0, 0, 0, 1, 0, 0, 0, 0, 0, 0, 0, 0, 0, 0, 0, 0, 0, 0, 0, 0, 0, 0, 0, 0, 0, 0, 0, 0, 0, 0, 0, 0, 0, 0, 0, 0, 0, 0, 0, 0, 0, 0, None, 0, 0, 0, 0, 0, 0, 0, 0, 0, 0, 0, 0, 0, 0, 0, 0, 0, 0, 0, 0, 0, 0, 0, 0, 0, 0, 0, 0, 0, 0, 0, 0, 0, 0, 0, 0, 0, 0, 0, 0, 0, 0, 0, 0, 0, 0, 0, 0, 0, 0, 0, 0, 0, 0, 0, 0, 0, 0, 0, 0, 0, 0, 0, 0, 0, 0, 0, 0, 0, 0, 0, 0, 0, 0, 0, 0, 0, 0, 0, 0, 0, 0, 0, 0, 0, 0, 0, 0, 0, 0, 0)]"
      ]
     },
     "execution_count": 16,
     "metadata": {},
     "output_type": "execute_result"
    }
   ],
   "source": [
    "engine.execute(\"SELECT * FROM samples LIMIT 1\").fetchall()"
   ]
  }
 ],
 "metadata": {
  "kernelspec": {
   "display_name": "Python 3",
   "language": "python",
   "name": "python3"
  },
  "language_info": {
   "codemirror_mode": {
    "name": "ipython",
    "version": 3
   },
   "file_extension": ".py",
   "mimetype": "text/x-python",
   "name": "python",
   "nbconvert_exporter": "python",
   "pygments_lexer": "ipython3",
   "version": "3.6.5"
  }
 },
 "nbformat": 4,
 "nbformat_minor": 2
}
