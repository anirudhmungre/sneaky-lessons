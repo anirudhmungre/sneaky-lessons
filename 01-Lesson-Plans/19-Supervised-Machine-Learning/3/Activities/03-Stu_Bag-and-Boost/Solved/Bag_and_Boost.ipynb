{
 "cells": [
  {
   "cell_type": "code",
   "execution_count": 1,
   "metadata": {},
   "outputs": [],
   "source": [
    "%matplotlib inline\n",
    "from matplotlib import pyplot as plt\n",
    "from sklearn.datasets import make_regression\n",
    "import numpy as np\n",
    "import pandas as pd\n",
    "from sklearn.model_selection import train_test_split\n",
    "from sklearn.preprocessing import StandardScaler\n",
    "from sklearn.metrics import classification_report"
   ]
  },
  {
   "cell_type": "code",
   "execution_count": 2,
   "metadata": {},
   "outputs": [],
   "source": [
    "# Read the diabetes dataset\n",
    "df = pd.read_csv('../Resources/diabetes.csv')\n",
    "X = df.drop('Outcome', axis=1)\n",
    "y = df['Outcome']\n",
    "target_names = [\"negative\", \"positive\"]"
   ]
  },
  {
   "cell_type": "code",
   "execution_count": 3,
   "metadata": {},
   "outputs": [],
   "source": [
    "# Prepare the data\n",
    "X_train, X_test, y_train, y_test = train_test_split(X, y, random_state=1)\n",
    "scaler = StandardScaler().fit(X_train)\n",
    "X_train_scaled = scaler.transform(X_train)\n",
    "X_test_scaled = scaler.transform(X_test)"
   ]
  },
  {
   "cell_type": "code",
   "execution_count": 4,
   "metadata": {},
   "outputs": [],
   "source": [
    "# Import a Random Forests classifier\n",
    "from sklearn.ensemble import RandomForestClassifier"
   ]
  },
  {
   "cell_type": "code",
   "execution_count": 5,
   "metadata": {},
   "outputs": [
    {
     "name": "stdout",
     "output_type": "stream",
     "text": [
      "              precision    recall  f1-score   support\n",
      "\n",
      "    negative       0.83      0.89      0.86       123\n",
      "    positive       0.78      0.67      0.72        69\n",
      "\n",
      "    accuracy                           0.81       192\n",
      "   macro avg       0.80      0.78      0.79       192\n",
      "weighted avg       0.81      0.81      0.81       192\n",
      "\n",
      "Training Score: 1.0\n",
      "Testing Score: 0.8125\n"
     ]
    }
   ],
   "source": [
    "# Fit a model, and then print a classification report\n",
    "clf = RandomForestClassifier(random_state=1).fit(X_train_scaled, y_train)\n",
    "y_pred = clf.predict(X_test_scaled)\n",
    "print(classification_report(y_test, y_pred, target_names=target_names))\n",
    "print(f'Training Score: {clf.score(X_train_scaled, y_train)}')\n",
    "print(f'Testing Score: {clf.score(X_test_scaled, y_test)}')"
   ]
  },
  {
   "cell_type": "code",
   "execution_count": 6,
   "metadata": {},
   "outputs": [],
   "source": [
    "# Import an Extremely Random Trees classifier\n",
    "from sklearn.ensemble import ExtraTreesClassifier"
   ]
  },
  {
   "cell_type": "code",
   "execution_count": 7,
   "metadata": {},
   "outputs": [
    {
     "name": "stdout",
     "output_type": "stream",
     "text": [
      "              precision    recall  f1-score   support\n",
      "\n",
      "    negative       0.82      0.86      0.84       123\n",
      "    positive       0.73      0.65      0.69        69\n",
      "\n",
      "    accuracy                           0.79       192\n",
      "   macro avg       0.77      0.76      0.76       192\n",
      "weighted avg       0.78      0.79      0.78       192\n",
      "\n",
      "Training Score: 1.0\n",
      "Testing Score: 0.7864583333333334\n"
     ]
    }
   ],
   "source": [
    "clf = ExtraTreesClassifier(random_state=1).fit(X_train_scaled, y_train)\n",
    "y_pred = clf.predict(X_test_scaled)\n",
    "print(classification_report(y_test, y_pred, target_names=target_names))\n",
    "print(f'Training Score: {clf.score(X_train_scaled, y_train)}')\n",
    "print(f'Testing Score: {clf.score(X_test_scaled, y_test)}')"
   ]
  },
  {
   "cell_type": "code",
   "execution_count": 8,
   "metadata": {},
   "outputs": [],
   "source": [
    "# Import an Adaptive Boosting classifier\n",
    "from sklearn.ensemble import AdaBoostClassifier"
   ]
  },
  {
   "cell_type": "code",
   "execution_count": 9,
   "metadata": {},
   "outputs": [
    {
     "name": "stdout",
     "output_type": "stream",
     "text": [
      "              precision    recall  f1-score   support\n",
      "\n",
      "    negative       0.82      0.86      0.84       123\n",
      "    positive       0.73      0.65      0.69        69\n",
      "\n",
      "    accuracy                           0.79       192\n",
      "   macro avg       0.77      0.76      0.76       192\n",
      "weighted avg       0.78      0.79      0.78       192\n",
      "\n",
      "Training Score: 0.8229166666666666\n",
      "Testing Score: 0.796875\n"
     ]
    }
   ],
   "source": [
    "clf = AdaBoostClassifier(random_state=1).fit(X_train_scaled, y_train)\n",
    "print(classification_report(y_test, y_pred, target_names=target_names))\n",
    "print(f'Training Score: {clf.score(X_train_scaled, y_train)}')\n",
    "print(f'Testing Score: {clf.score(X_test_scaled, y_test)}')"
   ]
  },
  {
   "cell_type": "code",
   "execution_count": 15,
   "metadata": {},
   "outputs": [
    {
     "name": "stdout",
     "output_type": "stream",
     "text": [
      "              precision    recall  f1-score   support\n",
      "\n",
      "    negative       0.82      0.86      0.84       123\n",
      "    positive       0.73      0.65      0.69        69\n",
      "\n",
      "    accuracy                           0.79       192\n",
      "   macro avg       0.77      0.76      0.76       192\n",
      "weighted avg       0.78      0.79      0.78       192\n",
      "\n",
      "Training Score: 0.8454861111111112\n",
      "Testing Score: 0.796875\n",
      "              precision    recall  f1-score   support\n",
      "\n",
      "    negative       0.82      0.86      0.84       123\n",
      "    positive       0.73      0.65      0.69        69\n",
      "\n",
      "    accuracy                           0.79       192\n",
      "   macro avg       0.77      0.76      0.76       192\n",
      "weighted avg       0.78      0.79      0.78       192\n",
      "\n",
      "Training Score: 0.8819444444444444\n",
      "Testing Score: 0.7916666666666666\n",
      "              precision    recall  f1-score   support\n",
      "\n",
      "    negative       0.82      0.86      0.84       123\n",
      "    positive       0.73      0.65      0.69        69\n",
      "\n",
      "    accuracy                           0.79       192\n",
      "   macro avg       0.77      0.76      0.76       192\n",
      "weighted avg       0.78      0.79      0.78       192\n",
      "\n",
      "Training Score: 0.7951388888888888\n",
      "Testing Score: 0.7916666666666666\n",
      "              precision    recall  f1-score   support\n",
      "\n",
      "    negative       0.82      0.86      0.84       123\n",
      "    positive       0.73      0.65      0.69        69\n",
      "\n",
      "    accuracy                           0.79       192\n",
      "   macro avg       0.77      0.76      0.76       192\n",
      "weighted avg       0.78      0.79      0.78       192\n",
      "\n",
      "Training Score: 0.8177083333333334\n",
      "Testing Score: 0.8072916666666666\n",
      "              precision    recall  f1-score   support\n",
      "\n",
      "    negative       0.82      0.86      0.84       123\n",
      "    positive       0.73      0.65      0.69        69\n",
      "\n",
      "    accuracy                           0.79       192\n",
      "   macro avg       0.77      0.76      0.76       192\n",
      "weighted avg       0.78      0.79      0.78       192\n",
      "\n",
      "Training Score: 0.8454861111111112\n",
      "Testing Score: 0.8177083333333334\n",
      "              precision    recall  f1-score   support\n",
      "\n",
      "    negative       0.82      0.86      0.84       123\n",
      "    positive       0.73      0.65      0.69        69\n",
      "\n",
      "    accuracy                           0.79       192\n",
      "   macro avg       0.77      0.76      0.76       192\n",
      "weighted avg       0.78      0.79      0.78       192\n",
      "\n",
      "Training Score: 0.8524305555555556\n",
      "Testing Score: 0.828125\n",
      "              precision    recall  f1-score   support\n",
      "\n",
      "    negative       0.82      0.86      0.84       123\n",
      "    positive       0.73      0.65      0.69        69\n",
      "\n",
      "    accuracy                           0.79       192\n",
      "   macro avg       0.77      0.76      0.76       192\n",
      "weighted avg       0.78      0.79      0.78       192\n",
      "\n",
      "Training Score: 0.8871527777777778\n",
      "Testing Score: 0.796875\n"
     ]
    }
   ],
   "source": [
    "# BONUS\n",
    "def model_tester(model, X, y):\n",
    "    X_train, X_test, y_train, y_test = train_test_split(X, y, random_state=1)\n",
    "    scaler = StandardScaler().fit(X_train)\n",
    "    X_train_scaled = scaler.transform(X_train)\n",
    "    X_test_scaled = scaler.transform(X_test)\n",
    "    clf = model.fit(X_train_scaled, y_train)\n",
    "    print(classification_report(y_test, y_pred, target_names=target_names))\n",
    "    print(f'Training Score: {clf.score(X_train_scaled, y_train)}')\n",
    "    print(f'Testing Score: {clf.score(X_test_scaled, y_test)}')\n",
    "    \n",
    "model_tester(AdaBoostClassifier(random_state=1, n_estimators=100), X, y)\n",
    "model_tester(AdaBoostClassifier(random_state=1, n_estimators=200), X, y)\n",
    "model_tester(AdaBoostClassifier(random_state=1, n_estimators=200, learning_rate=0.1), X, y)\n",
    "model_tester(AdaBoostClassifier(random_state=1, n_estimators=500, learning_rate=0.1), X, y)\n",
    "model_tester(AdaBoostClassifier(random_state=1, n_estimators=1000, learning_rate=0.1), X, y)\n",
    "model_tester(AdaBoostClassifier(random_state=1, n_estimators=2000, learning_rate=0.1), X, y)"
   ]
  },
  {
   "cell_type": "code",
   "execution_count": null,
   "metadata": {},
   "outputs": [],
   "source": []
  }
 ],
 "metadata": {
  "kernelspec": {
   "display_name": "Python 3",
   "language": "python",
   "name": "python3"
  },
  "language_info": {
   "codemirror_mode": {
    "name": "ipython",
    "version": 3
   },
   "file_extension": ".py",
   "mimetype": "text/x-python",
   "name": "python",
   "nbconvert_exporter": "python",
   "pygments_lexer": "ipython3",
   "version": "3.7.6"
  }
 },
 "nbformat": 4,
 "nbformat_minor": 4
}
