{
 "cells": [
  {
   "cell_type": "code",
   "execution_count": 1,
   "metadata": {
    "collapsed": true,
    "slideshow": {
     "slide_type": "slide"
    }
   },
   "outputs": [],
   "source": [
    "# Dependencies and boilerplate\n",
    "from sqlalchemy import Column, Float, Integer, String\n",
    "from sqlalchemy.ext.declarative import declarative_base\n",
    "\n",
    "Base = declarative_base()"
   ]
  },
  {
   "cell_type": "code",
   "execution_count": 2,
   "metadata": {
    "collapsed": true,
    "nbgrader": {
     "grade": false,
     "grade_id": "cell-b43c0ebdf6e74efb",
     "locked": false,
     "schema_version": 1,
     "solution": true
    },
    "slideshow": {
     "slide_type": "slide"
    }
   },
   "outputs": [],
   "source": [
    "# Define a Prescription class\n",
    "### BEGIN SOLUTION\n",
    "class Prescription(Base):\n",
    "    __tablename__ = \"prescription\"\n",
    "    \n",
    "    id = Column(Integer, primary_key=True)\n",
    "    name = Column(String)\n",
    "    strength = Column(Float) # strength of dose in milligrams\n",
    "    doses_per_administration = Column(Integer) # number of doses per administration\n",
    "    route = Column(String) # oral, I.M., etc.\n",
    "    administrations_per_day = Column(String) # E.g., \"Twice per day\"\n",
    "    total_quantity_to_dispense = Column(Integer) # Number of pills to dispense\n",
    "    refill_limit = Column(Integer)\n",
    "    refill_frequency = Column(String)\n",
    "### END SOLUTION"
   ]
  },
  {
   "cell_type": "code",
   "execution_count": 3,
   "metadata": {
    "collapsed": true,
    "nbgrader": {
     "grade": false,
     "grade_id": "cell-de8bd89d19d0aea2",
     "locked": false,
     "schema_version": 1,
     "solution": true
    },
    "slideshow": {
     "slide_type": "slide"
    }
   },
   "outputs": [],
   "source": [
    "# Use a Session to test the Prescription class\n",
    "### BEGIN SOLUTION\n",
    "from sqlalchemy import create_engine\n",
    "from sqlalchemy.orm import Session\n",
    "\n",
    "engine = create_engine(\"sqlite:///../Resources/prescriptions.sqlite\")\n",
    "Base.metadata.create_all(engine)\n",
    "\n",
    "session = Session(bind=engine)\n",
    "### END SOLUTION"
   ]
  },
  {
   "cell_type": "code",
   "execution_count": 4,
   "metadata": {
    "collapsed": true,
    "nbgrader": {
     "grade": false,
     "grade_id": "cell-38fe3058a58abf2e",
     "locked": false,
     "schema_version": 1,
     "solution": true
    },
    "slideshow": {
     "slide_type": "slide"
    }
   },
   "outputs": [],
   "source": [
    "# Create and add two new scripts `haloperidol` and `theriac`\n",
    "### BEGIN SOLUTION\n",
    "haloperidol = Prescription(\n",
    "    name=\"Haloperidol\", \n",
    "    strength=1., \n",
    "    doses_per_administration=2,\n",
    "    route=\"oral\", \n",
    "    administrations_per_day=2,\n",
    "    total_quantity_to_dispense=120, # doses_per_administration * administrations_per_day * days_in_month (30),\n",
    "    refill_limit=1,\n",
    "    refill_frequency=\"monthly\")\n",
    "\n",
    "theriac = Prescription(\n",
    "    name=\"Theriac\",\n",
    "    strength=1000.,\n",
    "    doses_per_administration=1,\n",
    "    route=\"oral\",\n",
    "    administrations_per_day=3,\n",
    "    total_quantity_to_dispense=90,\n",
    "    refill_limit=0,\n",
    "    refill_frequency=None\n",
    ")\n",
    "### END SOLUTION"
   ]
  },
  {
   "cell_type": "code",
   "execution_count": 5,
   "metadata": {
    "collapsed": true,
    "nbgrader": {
     "grade": false,
     "grade_id": "cell-7fd78fb9c3cdf739",
     "locked": false,
     "schema_version": 1,
     "solution": true
    },
    "slideshow": {
     "slide_type": "slide"
    }
   },
   "outputs": [],
   "source": [
    "# Add and commit the two new scripts\n",
    "### BEGIN SOLUTION\n",
    "session.add_all([theriac, haloperidol])\n",
    "session.commit()\n",
    "### END SOLUTION"
   ]
  },
  {
   "cell_type": "code",
   "execution_count": 6,
   "metadata": {
    "nbgrader": {
     "grade": false,
     "grade_id": "cell-3127a3ebc13fd8eb",
     "locked": false,
     "schema_version": 1,
     "solution": true
    },
    "slideshow": {
     "slide_type": "slide"
    }
   },
   "outputs": [
    {
     "name": "stdout",
     "output_type": "stream",
     "text": [
      "Haloperidol\n",
      "------------\n",
      "Theriac\n"
     ]
    }
   ],
   "source": [
    "# Verify commit\n",
    "### BEGIN SOLUTION\n",
    "haloperidol_record = session.query(Prescription).filter_by(name=\"Haloperidol\").first()\n",
    "theriac_record = session.query(Prescription).filter_by(name=\"Theriac\").first()\n",
    "### END SOLUTION\n",
    "\n",
    "print(haloperidol_record.name)\n",
    "print(\"-\" * 12)\n",
    "print(theriac_record.name)"
   ]
  }
 ],
 "metadata": {
  "anaconda-cloud": {},
  "celltoolbar": "Create Assignment",
  "kernelspec": {
   "display_name": "Python 3",
   "language": "python",
   "name": "python3"
  },
  "language_info": {
   "codemirror_mode": {
    "name": "ipython",
    "version": 3
   },
   "file_extension": ".py",
   "mimetype": "text/x-python",
   "name": "python",
   "nbconvert_exporter": "python",
   "pygments_lexer": "ipython3",
   "version": "3.6.3"
  },
  "varInspector": {
   "cols": {
    "lenName": 16,
    "lenType": 16,
    "lenVar": 40
   },
   "kernels_config": {
    "python": {
     "delete_cmd_postfix": "",
     "delete_cmd_prefix": "del ",
     "library": "var_list.py",
     "varRefreshCmd": "print(var_dic_list())"
    },
    "r": {
     "delete_cmd_postfix": ") ",
     "delete_cmd_prefix": "rm(",
     "library": "var_list.r",
     "varRefreshCmd": "cat(var_dic_list()) "
    }
   },
   "types_to_exclude": [
    "module",
    "function",
    "builtin_function_or_method",
    "instance",
    "_Feature"
   ],
   "window_display": false
  }
 },
 "nbformat": 4,
 "nbformat_minor": 1
}
