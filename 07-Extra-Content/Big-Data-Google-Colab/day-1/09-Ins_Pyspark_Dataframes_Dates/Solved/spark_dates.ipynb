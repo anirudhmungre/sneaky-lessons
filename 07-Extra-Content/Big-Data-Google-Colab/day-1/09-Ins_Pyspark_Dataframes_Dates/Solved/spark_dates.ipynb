{
  "nbformat": 4,
  "nbformat_minor": 0,
  "metadata": {
    "colab": {
      "name": "spark_dates.ipynb",
      "version": "0.3.2",
      "provenance": []
    },
    "kernelspec": {
      "display_name": "Python 3",
      "language": "python",
      "name": "python3"
    }
  },
  "cells": [
    {
      "metadata": {
        "id": "R_A4697VmDr9",
        "colab_type": "code",
        "colab": {}
      },
      "cell_type": "code",
      "source": [
        "# Install Java, Spark, and Findspark\n",
        "!apt-get install openjdk-8-jdk-headless -qq > /dev/null\n",
        "!wget -q http://www-us.apache.org/dist/spark/spark-2.3.2/spark-2.3.2-bin-hadoop2.7.tgz\n",
        "!tar xf spark-2.3.2-bin-hadoop2.7.tgz\n",
        "!pip install -q findspark\n",
        "\n",
        "# Set Environment Variables\n",
        "import os\n",
        "os.environ[\"JAVA_HOME\"] = \"/usr/lib/jvm/java-8-openjdk-amd64\"\n",
        "os.environ[\"SPARK_HOME\"] = \"/content/spark-2.3.2-bin-hadoop2.7\"\n",
        "\n",
        "# Start a SparkSession\n",
        "import findspark\n",
        "findspark.init()"
      ],
      "execution_count": 0,
      "outputs": []
    },
    {
      "metadata": {
        "id": "eeK_1qhFmCSn",
        "colab_type": "text"
      },
      "cell_type": "markdown",
      "source": [
        "### Dates"
      ]
    },
    {
      "metadata": {
        "id": "lcAUXlEsmCSs",
        "colab_type": "code",
        "colab": {}
      },
      "cell_type": "code",
      "source": [
        "from pyspark.sql import SparkSession\n",
        "spark = SparkSession.builder.appName(\"dates\").getOrCreate()"
      ],
      "execution_count": 0,
      "outputs": []
    },
    {
      "metadata": {
        "id": "HdO7o7DxmCSx",
        "colab_type": "code",
        "colab": {
          "base_uri": "https://localhost:8080/",
          "height": 459
        },
        "outputId": "504a989b-0835-4734-ea1d-7d4af83d391c"
      },
      "cell_type": "code",
      "source": [
        "# Load in data\n",
        "from pyspark import SparkFiles\n",
        "url =\"https://s3.amazonaws.com/dataviz-curriculum/day_1/rainfall.csv\"\n",
        "spark.sparkContext.addFile(url)\n",
        "df = spark.read.csv(SparkFiles.get(\"rainfall.csv\"), sep=\",\", header=True, inferSchema=True, timestampFormat=\"yyyy/MM/dd HH:mm:ss\")\n",
        "df.show()"
      ],
      "execution_count": 3,
      "outputs": [
        {
          "output_type": "stream",
          "text": [
            "+-----------+-------------------+----+----+\n",
            "|    station|               date|prcp|tobs|\n",
            "+-----------+-------------------+----+----+\n",
            "|USC00519397|2010-01-01 00:00:00|0.08|  65|\n",
            "|USC00519397|2010-01-02 00:00:00| 0.0|  63|\n",
            "|USC00519397|2010-01-03 00:00:00| 0.0|  74|\n",
            "|USC00519397|2010-01-04 00:00:00| 0.0|  76|\n",
            "|USC00519397|2010-01-07 00:00:00|0.06|  70|\n",
            "|USC00519397|2010-01-08 00:00:00| 0.0|  64|\n",
            "|USC00519397|2010-01-09 00:00:00| 0.0|  68|\n",
            "|USC00519397|2010-01-10 00:00:00| 0.0|  73|\n",
            "|USC00519397|2010-01-11 00:00:00|0.01|  64|\n",
            "|USC00519397|2010-01-12 00:00:00| 0.0|  61|\n",
            "|USC00519397|2010-01-14 00:00:00| 0.0|  66|\n",
            "|USC00519397|2010-01-15 00:00:00| 0.0|  65|\n",
            "|USC00519397|2010-01-16 00:00:00| 0.0|  68|\n",
            "|USC00519397|2010-01-17 00:00:00| 0.0|  64|\n",
            "|USC00519397|2010-01-18 00:00:00| 0.0|  72|\n",
            "|USC00519397|2010-01-19 00:00:00| 0.0|  66|\n",
            "|USC00519397|2010-01-20 00:00:00| 0.0|  66|\n",
            "|USC00519397|2010-01-21 00:00:00| 0.0|  69|\n",
            "|USC00519397|2010-01-22 00:00:00| 0.0|  67|\n",
            "|USC00519397|2010-01-23 00:00:00| 0.0|  67|\n",
            "+-----------+-------------------+----+----+\n",
            "only showing top 20 rows\n",
            "\n"
          ],
          "name": "stdout"
        }
      ]
    },
    {
      "metadata": {
        "id": "J8p-LNNJmCS0",
        "colab_type": "code",
        "colab": {
          "base_uri": "https://localhost:8080/",
          "height": 459
        },
        "outputId": "d30bd166-4120-4279-81b1-e0290cba0124"
      },
      "cell_type": "code",
      "source": [
        "# Show dataframe\n",
        "df.show()"
      ],
      "execution_count": 4,
      "outputs": [
        {
          "output_type": "stream",
          "text": [
            "+-----------+-------------------+----+----+\n",
            "|    station|               date|prcp|tobs|\n",
            "+-----------+-------------------+----+----+\n",
            "|USC00519397|2010-01-01 00:00:00|0.08|  65|\n",
            "|USC00519397|2010-01-02 00:00:00| 0.0|  63|\n",
            "|USC00519397|2010-01-03 00:00:00| 0.0|  74|\n",
            "|USC00519397|2010-01-04 00:00:00| 0.0|  76|\n",
            "|USC00519397|2010-01-07 00:00:00|0.06|  70|\n",
            "|USC00519397|2010-01-08 00:00:00| 0.0|  64|\n",
            "|USC00519397|2010-01-09 00:00:00| 0.0|  68|\n",
            "|USC00519397|2010-01-10 00:00:00| 0.0|  73|\n",
            "|USC00519397|2010-01-11 00:00:00|0.01|  64|\n",
            "|USC00519397|2010-01-12 00:00:00| 0.0|  61|\n",
            "|USC00519397|2010-01-14 00:00:00| 0.0|  66|\n",
            "|USC00519397|2010-01-15 00:00:00| 0.0|  65|\n",
            "|USC00519397|2010-01-16 00:00:00| 0.0|  68|\n",
            "|USC00519397|2010-01-17 00:00:00| 0.0|  64|\n",
            "|USC00519397|2010-01-18 00:00:00| 0.0|  72|\n",
            "|USC00519397|2010-01-19 00:00:00| 0.0|  66|\n",
            "|USC00519397|2010-01-20 00:00:00| 0.0|  66|\n",
            "|USC00519397|2010-01-21 00:00:00| 0.0|  69|\n",
            "|USC00519397|2010-01-22 00:00:00| 0.0|  67|\n",
            "|USC00519397|2010-01-23 00:00:00| 0.0|  67|\n",
            "+-----------+-------------------+----+----+\n",
            "only showing top 20 rows\n",
            "\n"
          ],
          "name": "stdout"
        }
      ]
    },
    {
      "metadata": {
        "id": "rEPcmKnkmCTP",
        "colab_type": "code",
        "colab": {}
      },
      "cell_type": "code",
      "source": [
        "# Import date time functions\n",
        "from pyspark.sql.functions import year"
      ],
      "execution_count": 0,
      "outputs": []
    },
    {
      "metadata": {
        "id": "uifmwzPemCTT",
        "colab_type": "code",
        "colab": {
          "base_uri": "https://localhost:8080/",
          "height": 459
        },
        "outputId": "8ad03186-edd9-4529-e05a-908d3a45ee49"
      },
      "cell_type": "code",
      "source": [
        "# Show the year for the date column\n",
        "df.select(year(df[\"date\"])).show()"
      ],
      "execution_count": 6,
      "outputs": [
        {
          "output_type": "stream",
          "text": [
            "+----------+\n",
            "|year(date)|\n",
            "+----------+\n",
            "|      2010|\n",
            "|      2010|\n",
            "|      2010|\n",
            "|      2010|\n",
            "|      2010|\n",
            "|      2010|\n",
            "|      2010|\n",
            "|      2010|\n",
            "|      2010|\n",
            "|      2010|\n",
            "|      2010|\n",
            "|      2010|\n",
            "|      2010|\n",
            "|      2010|\n",
            "|      2010|\n",
            "|      2010|\n",
            "|      2010|\n",
            "|      2010|\n",
            "|      2010|\n",
            "|      2010|\n",
            "+----------+\n",
            "only showing top 20 rows\n",
            "\n"
          ],
          "name": "stdout"
        }
      ]
    },
    {
      "metadata": {
        "id": "rApHEdKUmCTa",
        "colab_type": "code",
        "colab": {
          "base_uri": "https://localhost:8080/",
          "height": 459
        },
        "outputId": "1e2bb30a-6839-4ad9-9121-28f09f9a6628"
      },
      "cell_type": "code",
      "source": [
        "# Save the year as a new column\n",
        "df = df.withColumn(\"year\", year(df['date']))\n",
        "df.show()"
      ],
      "execution_count": 7,
      "outputs": [
        {
          "output_type": "stream",
          "text": [
            "+-----------+-------------------+----+----+----+\n",
            "|    station|               date|prcp|tobs|year|\n",
            "+-----------+-------------------+----+----+----+\n",
            "|USC00519397|2010-01-01 00:00:00|0.08|  65|2010|\n",
            "|USC00519397|2010-01-02 00:00:00| 0.0|  63|2010|\n",
            "|USC00519397|2010-01-03 00:00:00| 0.0|  74|2010|\n",
            "|USC00519397|2010-01-04 00:00:00| 0.0|  76|2010|\n",
            "|USC00519397|2010-01-07 00:00:00|0.06|  70|2010|\n",
            "|USC00519397|2010-01-08 00:00:00| 0.0|  64|2010|\n",
            "|USC00519397|2010-01-09 00:00:00| 0.0|  68|2010|\n",
            "|USC00519397|2010-01-10 00:00:00| 0.0|  73|2010|\n",
            "|USC00519397|2010-01-11 00:00:00|0.01|  64|2010|\n",
            "|USC00519397|2010-01-12 00:00:00| 0.0|  61|2010|\n",
            "|USC00519397|2010-01-14 00:00:00| 0.0|  66|2010|\n",
            "|USC00519397|2010-01-15 00:00:00| 0.0|  65|2010|\n",
            "|USC00519397|2010-01-16 00:00:00| 0.0|  68|2010|\n",
            "|USC00519397|2010-01-17 00:00:00| 0.0|  64|2010|\n",
            "|USC00519397|2010-01-18 00:00:00| 0.0|  72|2010|\n",
            "|USC00519397|2010-01-19 00:00:00| 0.0|  66|2010|\n",
            "|USC00519397|2010-01-20 00:00:00| 0.0|  66|2010|\n",
            "|USC00519397|2010-01-21 00:00:00| 0.0|  69|2010|\n",
            "|USC00519397|2010-01-22 00:00:00| 0.0|  67|2010|\n",
            "|USC00519397|2010-01-23 00:00:00| 0.0|  67|2010|\n",
            "+-----------+-------------------+----+----+----+\n",
            "only showing top 20 rows\n",
            "\n"
          ],
          "name": "stdout"
        }
      ]
    },
    {
      "metadata": {
        "id": "51VQ06njmCTh",
        "colab_type": "code",
        "colab": {
          "base_uri": "https://localhost:8080/",
          "height": 238
        },
        "outputId": "00d92b02-34d6-4373-dfc4-56fcc7574f48"
      },
      "cell_type": "code",
      "source": [
        "# Find the average precipitation per year\n",
        "averages = df.groupBy(\"year\").avg()\n",
        "averages.orderBy(\"year\").select(\"year\", \"avg(prcp)\").show()"
      ],
      "execution_count": 8,
      "outputs": [
        {
          "output_type": "stream",
          "text": [
            "+----+-------------------+\n",
            "|year|          avg(prcp)|\n",
            "+----+-------------------+\n",
            "|2010|0.13852293920179035|\n",
            "|2011| 0.1637348927875241|\n",
            "|2012| 0.1163805668016194|\n",
            "|2013|0.15554567502020986|\n",
            "|2014|0.17855953372189803|\n",
            "|2015|0.19919999999999985|\n",
            "|2016|0.17984533591106822|\n",
            "|2017|0.16592738752959774|\n",
            "+----+-------------------+\n",
            "\n"
          ],
          "name": "stdout"
        }
      ]
    },
    {
      "metadata": {
        "id": "kz48HaqPmCTo",
        "colab_type": "code",
        "colab": {
          "base_uri": "https://localhost:8080/",
          "height": 459
        },
        "outputId": "29c1bac7-16f9-43f4-ad9a-41ae6b78e8de"
      },
      "cell_type": "code",
      "source": [
        "from pyspark.sql.functions import month\n",
        "df.select(month(df['Date'])).show()"
      ],
      "execution_count": 9,
      "outputs": [
        {
          "output_type": "stream",
          "text": [
            "+-----------+\n",
            "|month(Date)|\n",
            "+-----------+\n",
            "|          1|\n",
            "|          1|\n",
            "|          1|\n",
            "|          1|\n",
            "|          1|\n",
            "|          1|\n",
            "|          1|\n",
            "|          1|\n",
            "|          1|\n",
            "|          1|\n",
            "|          1|\n",
            "|          1|\n",
            "|          1|\n",
            "|          1|\n",
            "|          1|\n",
            "|          1|\n",
            "|          1|\n",
            "|          1|\n",
            "|          1|\n",
            "|          1|\n",
            "+-----------+\n",
            "only showing top 20 rows\n",
            "\n"
          ],
          "name": "stdout"
        }
      ]
    },
    {
      "metadata": {
        "id": "x2SP0sFGmCTu",
        "colab_type": "code",
        "colab": {
          "base_uri": "https://localhost:8080/",
          "height": 34
        },
        "outputId": "c58f6c0a-b930-4894-8303-542a2696ba23"
      },
      "cell_type": "code",
      "source": [
        "df = df.withColumn(\"month\", month(df['date']))\n",
        "df.head()"
      ],
      "execution_count": 10,
      "outputs": [
        {
          "output_type": "execute_result",
          "data": {
            "text/plain": [
              "Row(station='USC00519397', date=datetime.datetime(2010, 1, 1, 0, 0), prcp=0.08, tobs=65, year=2010, month=1)"
            ]
          },
          "metadata": {
            "tags": []
          },
          "execution_count": 10
        }
      ]
    },
    {
      "metadata": {
        "id": "oAsmcAEcmCUE",
        "colab_type": "code",
        "colab": {
          "base_uri": "https://localhost:8080/",
          "height": 306
        },
        "outputId": "2a6db695-9358-4240-b3b1-c03d67daa9a6"
      },
      "cell_type": "code",
      "source": [
        "averages = df.groupBy(\"month\").max()\n",
        "averages.orderBy(\"month\").select(\"month\", \"max(prcp)\").show()"
      ],
      "execution_count": 11,
      "outputs": [
        {
          "output_type": "stream",
          "text": [
            "+-----+---------+\n",
            "|month|max(prcp)|\n",
            "+-----+---------+\n",
            "|    1|     8.81|\n",
            "|    2|     5.04|\n",
            "|    3|     6.38|\n",
            "|    4|     6.25|\n",
            "|    5|     4.07|\n",
            "|    6|     4.43|\n",
            "|    7|    11.53|\n",
            "|    8|     4.81|\n",
            "|    9|     6.83|\n",
            "|   10|     4.47|\n",
            "|   11|     8.06|\n",
            "|   12|     6.42|\n",
            "+-----+---------+\n",
            "\n"
          ],
          "name": "stdout"
        }
      ]
    },
    {
      "metadata": {
        "id": "Xf_DgBrUmCUV",
        "colab_type": "code",
        "colab": {
          "base_uri": "https://localhost:8080/",
          "height": 204
        },
        "outputId": "97bd92cf-3ab3-48c5-bce6-16b7991c32f4"
      },
      "cell_type": "code",
      "source": [
        "# Import the summarized data to a pandas dataframe for plotting\n",
        "# Note: If your summarized data is still too big for your local memory then your notebook may crash\n",
        "\n",
        "pandas_df = averages.orderBy(\"month\").select(\"month\", \"max(prcp)\").toPandas()\n",
        "pandas_df.head()"
      ],
      "execution_count": 12,
      "outputs": [
        {
          "output_type": "execute_result",
          "data": {
            "text/html": [
              "<div>\n",
              "<style scoped>\n",
              "    .dataframe tbody tr th:only-of-type {\n",
              "        vertical-align: middle;\n",
              "    }\n",
              "\n",
              "    .dataframe tbody tr th {\n",
              "        vertical-align: top;\n",
              "    }\n",
              "\n",
              "    .dataframe thead th {\n",
              "        text-align: right;\n",
              "    }\n",
              "</style>\n",
              "<table border=\"1\" class=\"dataframe\">\n",
              "  <thead>\n",
              "    <tr style=\"text-align: right;\">\n",
              "      <th></th>\n",
              "      <th>month</th>\n",
              "      <th>max(prcp)</th>\n",
              "    </tr>\n",
              "  </thead>\n",
              "  <tbody>\n",
              "    <tr>\n",
              "      <th>0</th>\n",
              "      <td>1</td>\n",
              "      <td>8.81</td>\n",
              "    </tr>\n",
              "    <tr>\n",
              "      <th>1</th>\n",
              "      <td>2</td>\n",
              "      <td>5.04</td>\n",
              "    </tr>\n",
              "    <tr>\n",
              "      <th>2</th>\n",
              "      <td>3</td>\n",
              "      <td>6.38</td>\n",
              "    </tr>\n",
              "    <tr>\n",
              "      <th>3</th>\n",
              "      <td>4</td>\n",
              "      <td>6.25</td>\n",
              "    </tr>\n",
              "    <tr>\n",
              "      <th>4</th>\n",
              "      <td>5</td>\n",
              "      <td>4.07</td>\n",
              "    </tr>\n",
              "  </tbody>\n",
              "</table>\n",
              "</div>"
            ],
            "text/plain": [
              "   month  max(prcp)\n",
              "0      1       8.81\n",
              "1      2       5.04\n",
              "2      3       6.38\n",
              "3      4       6.25\n",
              "4      5       4.07"
            ]
          },
          "metadata": {
            "tags": []
          },
          "execution_count": 12
        }
      ]
    },
    {
      "metadata": {
        "id": "9EBmmJLcmCUw",
        "colab_type": "code",
        "colab": {
          "base_uri": "https://localhost:8080/",
          "height": 380
        },
        "outputId": "5c6b5910-3fac-40db-e61d-d9bf67c90bc3"
      },
      "cell_type": "code",
      "source": [
        "import matplotlib.pyplot as plt\n",
        "pandas_df.set_index(\"month\", inplace=True)\n",
        "pandas_df.plot.bar()"
      ],
      "execution_count": 13,
      "outputs": [
        {
          "output_type": "execute_result",
          "data": {
            "text/plain": [
              "<matplotlib.axes._subplots.AxesSubplot at 0x7f3be3b9f6d8>"
            ]
          },
          "metadata": {
            "tags": []
          },
          "execution_count": 13
        },
        {
          "output_type": "display_data",
          "data": {
            "image/png": "[encoded data removed]",
            "text/plain": [
              "<matplotlib.figure.Figure at 0x7f3be3b80e10>"
            ]
          },
          "metadata": {
            "tags": []
          }
        }
      ]
    },
    {
      "metadata": {
        "id": "cPSU2pqtmCU0",
        "colab_type": "code",
        "colab": {
          "base_uri": "https://localhost:8080/",
          "height": 153
        },
        "outputId": "93a3b5cf-4f1d-445b-be68-3474e0050e2a"
      },
      "cell_type": "code",
      "source": [
        "df.printSchema()"
      ],
      "execution_count": 14,
      "outputs": [
        {
          "output_type": "stream",
          "text": [
            "root\n",
            " |-- station: string (nullable = true)\n",
            " |-- date: timestamp (nullable = true)\n",
            " |-- prcp: double (nullable = true)\n",
            " |-- tobs: integer (nullable = true)\n",
            " |-- year: integer (nullable = true)\n",
            " |-- month: integer (nullable = true)\n",
            "\n"
          ],
          "name": "stdout"
        }
      ]
    },
    {
      "metadata": {
        "id": "B_pqtIT1mCU4",
        "colab_type": "code",
        "colab": {}
      },
      "cell_type": "code",
      "source": [
        ""
      ],
      "execution_count": 0,
      "outputs": []
    }
  ]
}