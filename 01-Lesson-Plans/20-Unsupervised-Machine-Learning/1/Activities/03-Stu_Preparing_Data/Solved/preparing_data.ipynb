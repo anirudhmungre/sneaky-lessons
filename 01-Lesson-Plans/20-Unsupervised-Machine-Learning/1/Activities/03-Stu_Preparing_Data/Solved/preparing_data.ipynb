{
  "cells": [
    {
      "cell_type": "markdown",
      "source": [
        "# Students Do: Understanding customers\n",
        "\n",
        "## Instructions\n",
        "\n",
        "You are given a dataset that contains historical data from purchases of a online store made by 200 customers. In this activity you will put in action your data preprocessing superpowers, also you'll add some new skills needed to start finding customers clusters."
      ],
      "metadata": {}
    },
    {
      "cell_type": "code",
      "source": [
        "# Initial imports\n",
        "import pandas as pd\n",
        "from pathlib import Path"
      ],
      "outputs": [],
      "execution_count": 1,
      "metadata": {}
    },
    {
      "cell_type": "markdown",
      "source": [
        "Load the data into a Pandas DataFrame, name it as `df_shopping` and fetch the top 10 rows."
      ],
      "metadata": {}
    },
    {
      "cell_type": "code",
      "source": [
        "# Data loading\n",
        "file_path = Path(\"../Resources/shopping_data.csv\")\n",
        "df_shopping = pd.read_csv(file_path)\n",
        "df_shopping.head(10)"
      ],
      "outputs": [
        {
          "output_type": "execute_result",
          "execution_count": 2,
          "data": {
            "text/html": "<div>\n<style scoped>\n    .dataframe tbody tr th:only-of-type {\n        vertical-align: middle;\n    }\n\n    .dataframe tbody tr th {\n        vertical-align: top;\n    }\n\n    .dataframe thead th {\n        text-align: right;\n    }\n</style>\n<table border=\"1\" class=\"dataframe\">\n  <thead>\n    <tr style=\"text-align: right;\">\n      <th></th>\n      <th>CustomerID</th>\n      <th>Previous Shopper</th>\n      <th>Age</th>\n      <th>Annual Income</th>\n      <th>Spending Score (1-100)</th>\n    </tr>\n  </thead>\n  <tbody>\n    <tr>\n      <th>0</th>\n      <td>1</td>\n      <td>Yes</td>\n      <td>52</td>\n      <td>38000</td>\n      <td>45</td>\n    </tr>\n    <tr>\n      <th>1</th>\n      <td>2</td>\n      <td>Yes</td>\n      <td>40</td>\n      <td>39000</td>\n      <td>57</td>\n    </tr>\n    <tr>\n      <th>2</th>\n      <td>3</td>\n      <td>No</td>\n      <td>57</td>\n      <td>46000</td>\n      <td>59</td>\n    </tr>\n    <tr>\n      <th>3</th>\n      <td>4</td>\n      <td>Yes</td>\n      <td>54</td>\n      <td>41000</td>\n      <td>51</td>\n    </tr>\n    <tr>\n      <th>4</th>\n      <td>5</td>\n      <td>No</td>\n      <td>55</td>\n      <td>45000</td>\n      <td>53</td>\n    </tr>\n    <tr>\n      <th>5</th>\n      <td>6</td>\n      <td>Yes</td>\n      <td>33</td>\n      <td>41000</td>\n      <td>51</td>\n    </tr>\n    <tr>\n      <th>6</th>\n      <td>7</td>\n      <td>Yes</td>\n      <td>33</td>\n      <td>45000</td>\n      <td>48</td>\n    </tr>\n    <tr>\n      <th>7</th>\n      <td>8</td>\n      <td>Yes</td>\n      <td>41</td>\n      <td>49000</td>\n      <td>52</td>\n    </tr>\n    <tr>\n      <th>8</th>\n      <td>9</td>\n      <td>Yes</td>\n      <td>54</td>\n      <td>39000</td>\n      <td>55</td>\n    </tr>\n    <tr>\n      <th>9</th>\n      <td>10</td>\n      <td>Yes</td>\n      <td>34</td>\n      <td>44000</td>\n      <td>53</td>\n    </tr>\n  </tbody>\n</table>\n</div>",
            "text/plain": "   CustomerID Previous Shopper  Age  Annual Income  Spending Score (1-100)\n0           1              Yes   52          38000                      45\n1           2              Yes   40          39000                      57\n2           3               No   57          46000                      59\n3           4              Yes   54          41000                      51\n4           5               No   55          45000                      53\n5           6              Yes   33          41000                      51\n6           7              Yes   33          45000                      48\n7           8              Yes   41          49000                      52\n8           9              Yes   54          39000                      55\n9          10              Yes   34          44000                      53"
          },
          "metadata": {}
        }
      ],
      "execution_count": 2,
      "metadata": {}
    },
    {
      "cell_type": "markdown",
      "source": [
        "List the DataFrame's data types to ensure they're aligned to the type of data stored on each column."
      ],
      "metadata": {}
    },
    {
      "cell_type": "code",
      "source": [
        "# List dataframe data types\n",
        "df_shopping.dtypes\n"
      ],
      "outputs": [
        {
          "output_type": "execute_result",
          "execution_count": 3,
          "data": {
            "text/plain": "CustomerID                 int64\nPrevious Shopper          object\nAge                        int64\nAnnual Income              int64\nSpending Score (1-100)     int64\ndtype: object"
          },
          "metadata": {}
        }
      ],
      "execution_count": 3,
      "metadata": {}
    },
    {
      "cell_type": "markdown",
      "source": [
        "**Question 1:** Is there any column whose data type need to be changed? If so, make the corresponding adjustments.\n",
        "\n",
        "**Answer:** All columns have an appropriate data type."
      ],
      "metadata": {}
    },
    {
      "cell_type": "markdown",
      "source": [
        "**Question 2:** Is there any unnecessary column that needs to be dropped? If so, make the corresponding adjustments.\n",
        "\n",
        "**Answer:** We can drop the `CustomerID` column. It's not relevant for clustering since it doesn't denote any relevant characteristic of customers shopping habits."
      ],
      "metadata": {}
    },
    {
      "cell_type": "code",
      "source": [
        "# Remove the CustomerID Column\n",
        "df_shopping = df_shopping.drop(columns=[\"CustomerID\"])\n",
        "df_shopping.head()"
      ],
      "outputs": [
        {
          "output_type": "execute_result",
          "execution_count": 4,
          "data": {
            "text/html": "<div>\n<style scoped>\n    .dataframe tbody tr th:only-of-type {\n        vertical-align: middle;\n    }\n\n    .dataframe tbody tr th {\n        vertical-align: top;\n    }\n\n    .dataframe thead th {\n        text-align: right;\n    }\n</style>\n<table border=\"1\" class=\"dataframe\">\n  <thead>\n    <tr style=\"text-align: right;\">\n      <th></th>\n      <th>Previous Shopper</th>\n      <th>Age</th>\n      <th>Annual Income</th>\n      <th>Spending Score (1-100)</th>\n    </tr>\n  </thead>\n  <tbody>\n    <tr>\n      <th>0</th>\n      <td>Yes</td>\n      <td>52</td>\n      <td>38000</td>\n      <td>45</td>\n    </tr>\n    <tr>\n      <th>1</th>\n      <td>Yes</td>\n      <td>40</td>\n      <td>39000</td>\n      <td>57</td>\n    </tr>\n    <tr>\n      <th>2</th>\n      <td>No</td>\n      <td>57</td>\n      <td>46000</td>\n      <td>59</td>\n    </tr>\n    <tr>\n      <th>3</th>\n      <td>Yes</td>\n      <td>54</td>\n      <td>41000</td>\n      <td>51</td>\n    </tr>\n    <tr>\n      <th>4</th>\n      <td>No</td>\n      <td>55</td>\n      <td>45000</td>\n      <td>53</td>\n    </tr>\n  </tbody>\n</table>\n</div>",
            "text/plain": "  Previous Shopper  Age  Annual Income  Spending Score (1-100)\n0              Yes   52          38000                      45\n1              Yes   40          39000                      57\n2               No   57          46000                      59\n3              Yes   54          41000                      51\n4               No   55          45000                      53"
          },
          "metadata": {}
        }
      ],
      "execution_count": 4,
      "metadata": {}
    },
    {
      "cell_type": "markdown",
      "source": [
        "Remove all rows with `null` values if any."
      ],
      "metadata": {}
    },
    {
      "cell_type": "code",
      "source": [
        "# Find null values\n",
        "for column in df_shopping.columns:\n",
        "    print(f\"Column {column} has {df_shopping[column].isnull().sum()} null values\")\n"
      ],
      "outputs": [
        {
          "output_type": "stream",
          "name": "stdout",
          "text": [
            "Column Previous Shopper has 0 null values\n",
            "Column Age has 0 null values\n",
            "Column Annual Income has 0 null values\n",
            "Column Spending Score (1-100) has 0 null values\n"
          ]
        }
      ],
      "execution_count": 5,
      "metadata": {}
    },
    {
      "cell_type": "markdown",
      "source": [
        "Remove duplicate entries if any."
      ],
      "metadata": {}
    },
    {
      "cell_type": "code",
      "source": [
        "# Find duplicate entries\n",
        "print(f\"Duplicate entries: {df_shopping.duplicated().sum()}\")\n"
      ],
      "outputs": [
        {
          "output_type": "stream",
          "name": "stdout",
          "text": [
            "Duplicate entries: 0\n"
          ]
        }
      ],
      "execution_count": 6,
      "metadata": {}
    },
    {
      "cell_type": "markdown",
      "source": [
        "In order to use unsupervised learning algorithms, all the features should be numeric, and also, on similar scales. Perform the following data transformations.\n",
        "\n",
        "* The `Gender` column contains categorical data, anytime you have categorical variables, you should transform them to a numerical value, in this case, transforming `Male` to `1` and `Female` to `0` is a feasible solution."
      ],
      "metadata": {}
    },
    {
      "cell_type": "code",
      "source": [
        "# Transform Previous Customer column\n",
        "def changeStatus(status):\n",
        "    if status == \"Yes\":\n",
        "        return 1\n",
        "    else:\n",
        "        return 0\n",
        "\n",
        "# Along with replace() and map(), this is another way to encode the gender column into numbers.\n",
        "df_shopping[\"Previous Shopper\"] = df_shopping[\"Previous Shopper\"].apply(changeStatus)\n",
        "df_shopping.head()\n"
      ],
      "outputs": [
        {
          "output_type": "execute_result",
          "execution_count": 7,
          "data": {
            "text/html": "<div>\n<style scoped>\n    .dataframe tbody tr th:only-of-type {\n        vertical-align: middle;\n    }\n\n    .dataframe tbody tr th {\n        vertical-align: top;\n    }\n\n    .dataframe thead th {\n        text-align: right;\n    }\n</style>\n<table border=\"1\" class=\"dataframe\">\n  <thead>\n    <tr style=\"text-align: right;\">\n      <th></th>\n      <th>Previous Shopper</th>\n      <th>Age</th>\n      <th>Annual Income</th>\n      <th>Spending Score (1-100)</th>\n    </tr>\n  </thead>\n  <tbody>\n    <tr>\n      <th>0</th>\n      <td>1</td>\n      <td>52</td>\n      <td>38000</td>\n      <td>45</td>\n    </tr>\n    <tr>\n      <th>1</th>\n      <td>1</td>\n      <td>40</td>\n      <td>39000</td>\n      <td>57</td>\n    </tr>\n    <tr>\n      <th>2</th>\n      <td>0</td>\n      <td>57</td>\n      <td>46000</td>\n      <td>59</td>\n    </tr>\n    <tr>\n      <th>3</th>\n      <td>1</td>\n      <td>54</td>\n      <td>41000</td>\n      <td>51</td>\n    </tr>\n    <tr>\n      <th>4</th>\n      <td>0</td>\n      <td>55</td>\n      <td>45000</td>\n      <td>53</td>\n    </tr>\n  </tbody>\n</table>\n</div>",
            "text/plain": "   Previous Shopper  Age  Annual Income  Spending Score (1-100)\n0                 1   52          38000                      45\n1                 1   40          39000                      57\n2                 0   57          46000                      59\n3                 1   54          41000                      51\n4                 0   55          45000                      53"
          },
          "metadata": {}
        }
      ],
      "execution_count": 7,
      "metadata": {}
    },
    {
      "cell_type": "markdown",
      "source": [
        "* Here, we will scale the `Age`, `Annual Income` and `Spending Score (1-100)` columns to bring them into the same range as the `Previous Shopper` column."
      ],
      "metadata": {}
    },
    {
      "cell_type": "code",
      "source": [
        "# Scale the data\n",
        "from sklearn.preprocessing import StandardScaler\n",
        "scaler = StandardScaler()\n",
        "scaled_data = scaler.fit_transform(df_shopping[['Age', 'Annual Income', 'Spending Score (1-100)']])"
      ],
      "outputs": [],
      "execution_count": 8,
      "metadata": {}
    },
    {
      "cell_type": "code",
      "source": [
        "# A list of the columns from the original DataFrame\n",
        "df_shopping.columns"
      ],
      "outputs": [
        {
          "output_type": "execute_result",
          "execution_count": 9,
          "data": {
            "text/plain": "Index(['Previous Shopper', 'Age', 'Annual Income', 'Spending Score (1-100)'], dtype='object')"
          },
          "metadata": {}
        }
      ],
      "execution_count": 9,
      "metadata": {}
    },
    {
      "cell_type": "code",
      "source": [
        "# Create a DataFrame with the transformed data\n",
        "new_df_shopping = pd.DataFrame(scaled_data, columns=df_shopping.columns[1:])\n",
        "new_df_shopping['Previous Shopper'] = df_shopping['Previous Shopper']\n",
        "new_df_shopping.head()"
      ],
      "outputs": [
        {
          "output_type": "execute_result",
          "execution_count": 10,
          "data": {
            "text/html": "<div>\n<style scoped>\n    .dataframe tbody tr th:only-of-type {\n        vertical-align: middle;\n    }\n\n    .dataframe tbody tr th {\n        vertical-align: top;\n    }\n\n    .dataframe thead th {\n        text-align: right;\n    }\n</style>\n<table border=\"1\" class=\"dataframe\">\n  <thead>\n    <tr style=\"text-align: right;\">\n      <th></th>\n      <th>Age</th>\n      <th>Annual Income</th>\n      <th>Spending Score (1-100)</th>\n      <th>Previous Shopper</th>\n    </tr>\n  </thead>\n  <tbody>\n    <tr>\n      <th>0</th>\n      <td>-0.295240</td>\n      <td>-0.118424</td>\n      <td>-1.625204</td>\n      <td>1</td>\n    </tr>\n    <tr>\n      <th>1</th>\n      <td>-0.979855</td>\n      <td>0.051970</td>\n      <td>-0.053060</td>\n      <td>1</td>\n    </tr>\n    <tr>\n      <th>2</th>\n      <td>-0.009984</td>\n      <td>1.244733</td>\n      <td>0.208964</td>\n      <td>0</td>\n    </tr>\n    <tr>\n      <th>3</th>\n      <td>-0.181138</td>\n      <td>0.392760</td>\n      <td>-0.839132</td>\n      <td>1</td>\n    </tr>\n    <tr>\n      <th>4</th>\n      <td>-0.124086</td>\n      <td>1.074338</td>\n      <td>-0.577108</td>\n      <td>0</td>\n    </tr>\n  </tbody>\n</table>\n</div>",
            "text/plain": "        Age  Annual Income  Spending Score (1-100)  Previous Shopper\n0 -0.295240      -0.118424               -1.625204                 1\n1 -0.979855       0.051970               -0.053060                 1\n2 -0.009984       1.244733                0.208964                 0\n3 -0.181138       0.392760               -0.839132                 1\n4 -0.124086       1.074338               -0.577108                 0"
          },
          "metadata": {}
        }
      ],
      "execution_count": 10,
      "metadata": {}
    },
    {
      "cell_type": "code",
      "source": [
        "# Rename the spending score column\n",
        "new_df_shopping = new_df_shopping.rename(columns={'Spending Score (1-100)': 'Spending Score'})\n",
        "new_df_shopping.head()"
      ],
      "outputs": [
        {
          "output_type": "execute_result",
          "execution_count": 11,
          "data": {
            "text/html": "<div>\n<style scoped>\n    .dataframe tbody tr th:only-of-type {\n        vertical-align: middle;\n    }\n\n    .dataframe tbody tr th {\n        vertical-align: top;\n    }\n\n    .dataframe thead th {\n        text-align: right;\n    }\n</style>\n<table border=\"1\" class=\"dataframe\">\n  <thead>\n    <tr style=\"text-align: right;\">\n      <th></th>\n      <th>Age</th>\n      <th>Annual Income</th>\n      <th>Spending Score</th>\n      <th>Previous Shopper</th>\n    </tr>\n  </thead>\n  <tbody>\n    <tr>\n      <th>0</th>\n      <td>-0.295240</td>\n      <td>-0.118424</td>\n      <td>-1.625204</td>\n      <td>1</td>\n    </tr>\n    <tr>\n      <th>1</th>\n      <td>-0.979855</td>\n      <td>0.051970</td>\n      <td>-0.053060</td>\n      <td>1</td>\n    </tr>\n    <tr>\n      <th>2</th>\n      <td>-0.009984</td>\n      <td>1.244733</td>\n      <td>0.208964</td>\n      <td>0</td>\n    </tr>\n    <tr>\n      <th>3</th>\n      <td>-0.181138</td>\n      <td>0.392760</td>\n      <td>-0.839132</td>\n      <td>1</td>\n    </tr>\n    <tr>\n      <th>4</th>\n      <td>-0.124086</td>\n      <td>1.074338</td>\n      <td>-0.577108</td>\n      <td>0</td>\n    </tr>\n  </tbody>\n</table>\n</div>",
            "text/plain": "        Age  Annual Income  Spending Score  Previous Shopper\n0 -0.295240      -0.118424       -1.625204                 1\n1 -0.979855       0.051970       -0.053060                 1\n2 -0.009984       1.244733        0.208964                 0\n3 -0.181138       0.392760       -0.839132                 1\n4 -0.124086       1.074338       -0.577108                 0"
          },
          "metadata": {}
        }
      ],
      "execution_count": 11,
      "metadata": {}
    },
    {
      "cell_type": "markdown",
      "source": [
        "Save the cleaned DataFrame as a `CSV` file, name it as `shopping_data_cleaned.csv`."
      ],
      "metadata": {}
    },
    {
      "cell_type": "code",
      "source": [
        "# Saving cleaned data\n",
        "file_path = Path(\"../Resources/shopping_data_cleaned.csv\")\n",
        "new_df_shopping.to_csv(file_path, index=False)\n"
      ],
      "outputs": [],
      "execution_count": 12,
      "metadata": {}
    },
    {
      "cell_type": "code",
      "source": [],
      "outputs": [],
      "execution_count": null,
      "metadata": {}
    }
  ],
  "metadata": {
    "pygments_lexer": "ipython3",
    "name": "python",
    "mimetype": "text/x-python",
    "npconvert_exporter": "python",
    "language_info": {
      "codemirror_mode": {
        "name": "ipython",
        "version": 3
      },
      "file_extension": ".py",
      "mimetype": "text/x-python",
      "name": "python",
      "nbconvert_exporter": "python",
      "pygments_lexer": "ipython3",
      "version": "3.7.7"
    },
    "version": 3,
    "kernelspec": {
      "display_name": "data",
      "language": "python",
      "name": "data"
    },
    "file_extension": ".py",
    "nteract": {
      "version": "0.28.0"
    }
  },
  "nbformat": 4,
  "nbformat_minor": 4
}