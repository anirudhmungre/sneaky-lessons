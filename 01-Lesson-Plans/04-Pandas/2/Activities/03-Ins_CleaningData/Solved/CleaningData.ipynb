{
 "cells": [
  {
   "cell_type": "code",
   "execution_count": 1,
   "metadata": {},
   "outputs": [],
   "source": [
    "# Dependencies\n",
    "import pandas as pd"
   ]
  },
  {
   "cell_type": "code",
   "execution_count": 2,
   "metadata": {
    "inputHidden": false,
    "outputHidden": false
   },
   "outputs": [],
   "source": [
    "# Name of the CSV file\n",
    "file = 'Resources/donors2021_unclean.csv'"
   ]
  },
  {
   "cell_type": "code",
   "execution_count": 3,
   "metadata": {
    "inputHidden": false,
    "outputHidden": false
   },
   "outputs": [],
   "source": [
    "# The correct encoding must be used to read the CSV in pandas\n",
    "df = pd.read_csv(file, encoding=\"ISO-8859-1\")"
   ]
  },
  {
   "cell_type": "code",
   "execution_count": 4,
   "metadata": {
    "inputHidden": false,
    "outputHidden": false
   },
   "outputs": [
    {
     "data": {
      "text/html": [
       "<div>\n",
       "<style scoped>\n",
       "    .dataframe tbody tr th:only-of-type {\n",
       "        vertical-align: middle;\n",
       "    }\n",
       "\n",
       "    .dataframe tbody tr th {\n",
       "        vertical-align: top;\n",
       "    }\n",
       "\n",
       "    .dataframe thead th {\n",
       "        text-align: right;\n",
       "    }\n",
       "</style>\n",
       "<table border=\"1\" class=\"dataframe\">\n",
       "  <thead>\n",
       "    <tr style=\"text-align: right;\">\n",
       "      <th></th>\n",
       "      <th>Name</th>\n",
       "      <th>Employer</th>\n",
       "      <th>City</th>\n",
       "      <th>State</th>\n",
       "      <th>Zip</th>\n",
       "      <th>Amount</th>\n",
       "      <th>Memo_CD</th>\n",
       "    </tr>\n",
       "  </thead>\n",
       "  <tbody>\n",
       "    <tr>\n",
       "      <th>0</th>\n",
       "      <td>CAREY, JAMES</td>\n",
       "      <td>NOT EMPLOYED</td>\n",
       "      <td>HOCKESSIN</td>\n",
       "      <td>DE</td>\n",
       "      <td>197071618.0</td>\n",
       "      <td>500</td>\n",
       "      <td>NaN</td>\n",
       "    </tr>\n",
       "    <tr>\n",
       "      <th>1</th>\n",
       "      <td>OBICI, SILVANA</td>\n",
       "      <td>STONY BROOK</td>\n",
       "      <td>PORT JEFFERSON STATION</td>\n",
       "      <td>NY</td>\n",
       "      <td>117764286.0</td>\n",
       "      <td>250</td>\n",
       "      <td>NaN</td>\n",
       "    </tr>\n",
       "    <tr>\n",
       "      <th>2</th>\n",
       "      <td>MAISLIN, KAREN</td>\n",
       "      <td>RETIRED</td>\n",
       "      <td>WILLIAMSVILLE</td>\n",
       "      <td>NY</td>\n",
       "      <td>14221.0</td>\n",
       "      <td>250</td>\n",
       "      <td>NaN</td>\n",
       "    </tr>\n",
       "    <tr>\n",
       "      <th>3</th>\n",
       "      <td>MCCLELLAND, CARTER AND STEPHANIE</td>\n",
       "      <td>UNION SQUARE ADVISORS</td>\n",
       "      <td>NEW YORK</td>\n",
       "      <td>NY</td>\n",
       "      <td>10023.0</td>\n",
       "      <td>1000</td>\n",
       "      <td>NaN</td>\n",
       "    </tr>\n",
       "    <tr>\n",
       "      <th>4</th>\n",
       "      <td>MCCLUSKEY, MARTHA</td>\n",
       "      <td>STATE UNIVERSITY OF NEW YORK</td>\n",
       "      <td>BUFFALO</td>\n",
       "      <td>NY</td>\n",
       "      <td>14214.0</td>\n",
       "      <td>250</td>\n",
       "      <td>NaN</td>\n",
       "    </tr>\n",
       "  </tbody>\n",
       "</table>\n",
       "</div>"
      ],
      "text/plain": [
       "                               Name                      Employer  \\\n",
       "0                      CAREY, JAMES                  NOT EMPLOYED   \n",
       "1                    OBICI, SILVANA                   STONY BROOK   \n",
       "2                    MAISLIN, KAREN                       RETIRED   \n",
       "3  MCCLELLAND, CARTER AND STEPHANIE         UNION SQUARE ADVISORS   \n",
       "4                 MCCLUSKEY, MARTHA  STATE UNIVERSITY OF NEW YORK   \n",
       "\n",
       "                     City State          Zip  Amount  Memo_CD  \n",
       "0               HOCKESSIN    DE  197071618.0     500      NaN  \n",
       "1  PORT JEFFERSON STATION    NY  117764286.0     250      NaN  \n",
       "2           WILLIAMSVILLE    NY      14221.0     250      NaN  \n",
       "3                NEW YORK    NY      10023.0    1000      NaN  \n",
       "4                 BUFFALO    NY      14214.0     250      NaN  "
      ]
     },
     "execution_count": 4,
     "metadata": {},
     "output_type": "execute_result"
    }
   ],
   "source": [
    "# Preview of the DataFrame\n",
    "# Note that Memo_CD is likely a meaningless column\n",
    "df.head()"
   ]
  },
  {
   "cell_type": "code",
   "execution_count": 5,
   "metadata": {
    "inputHidden": false,
    "outputHidden": false
   },
   "outputs": [
    {
     "data": {
      "text/html": [
       "<div>\n",
       "<style scoped>\n",
       "    .dataframe tbody tr th:only-of-type {\n",
       "        vertical-align: middle;\n",
       "    }\n",
       "\n",
       "    .dataframe tbody tr th {\n",
       "        vertical-align: top;\n",
       "    }\n",
       "\n",
       "    .dataframe thead th {\n",
       "        text-align: right;\n",
       "    }\n",
       "</style>\n",
       "<table border=\"1\" class=\"dataframe\">\n",
       "  <thead>\n",
       "    <tr style=\"text-align: right;\">\n",
       "      <th></th>\n",
       "      <th>Name</th>\n",
       "      <th>Employer</th>\n",
       "      <th>City</th>\n",
       "      <th>State</th>\n",
       "      <th>Zip</th>\n",
       "      <th>Amount</th>\n",
       "    </tr>\n",
       "  </thead>\n",
       "  <tbody>\n",
       "    <tr>\n",
       "      <th>0</th>\n",
       "      <td>CAREY, JAMES</td>\n",
       "      <td>NOT EMPLOYED</td>\n",
       "      <td>HOCKESSIN</td>\n",
       "      <td>DE</td>\n",
       "      <td>197071618.0</td>\n",
       "      <td>500</td>\n",
       "    </tr>\n",
       "    <tr>\n",
       "      <th>1</th>\n",
       "      <td>OBICI, SILVANA</td>\n",
       "      <td>STONY BROOK</td>\n",
       "      <td>PORT JEFFERSON STATION</td>\n",
       "      <td>NY</td>\n",
       "      <td>117764286.0</td>\n",
       "      <td>250</td>\n",
       "    </tr>\n",
       "    <tr>\n",
       "      <th>2</th>\n",
       "      <td>MAISLIN, KAREN</td>\n",
       "      <td>RETIRED</td>\n",
       "      <td>WILLIAMSVILLE</td>\n",
       "      <td>NY</td>\n",
       "      <td>14221.0</td>\n",
       "      <td>250</td>\n",
       "    </tr>\n",
       "    <tr>\n",
       "      <th>3</th>\n",
       "      <td>MCCLELLAND, CARTER AND STEPHANIE</td>\n",
       "      <td>UNION SQUARE ADVISORS</td>\n",
       "      <td>NEW YORK</td>\n",
       "      <td>NY</td>\n",
       "      <td>10023.0</td>\n",
       "      <td>1000</td>\n",
       "    </tr>\n",
       "    <tr>\n",
       "      <th>4</th>\n",
       "      <td>MCCLUSKEY, MARTHA</td>\n",
       "      <td>STATE UNIVERSITY OF NEW YORK</td>\n",
       "      <td>BUFFALO</td>\n",
       "      <td>NY</td>\n",
       "      <td>14214.0</td>\n",
       "      <td>250</td>\n",
       "    </tr>\n",
       "  </tbody>\n",
       "</table>\n",
       "</div>"
      ],
      "text/plain": [
       "                               Name                      Employer  \\\n",
       "0                      CAREY, JAMES                  NOT EMPLOYED   \n",
       "1                    OBICI, SILVANA                   STONY BROOK   \n",
       "2                    MAISLIN, KAREN                       RETIRED   \n",
       "3  MCCLELLAND, CARTER AND STEPHANIE         UNION SQUARE ADVISORS   \n",
       "4                 MCCLUSKEY, MARTHA  STATE UNIVERSITY OF NEW YORK   \n",
       "\n",
       "                     City State          Zip  Amount  \n",
       "0               HOCKESSIN    DE  197071618.0     500  \n",
       "1  PORT JEFFERSON STATION    NY  117764286.0     250  \n",
       "2           WILLIAMSVILLE    NY      14221.0     250  \n",
       "3                NEW YORK    NY      10023.0    1000  \n",
       "4                 BUFFALO    NY      14214.0     250  "
      ]
     },
     "execution_count": 5,
     "metadata": {},
     "output_type": "execute_result"
    }
   ],
   "source": [
    "# Delete extraneous column\n",
    "del df['Memo_CD']\n",
    "df.head()"
   ]
  },
  {
   "cell_type": "code",
   "execution_count": 6,
   "metadata": {
    "inputHidden": false,
    "outputHidden": false
   },
   "outputs": [
    {
     "data": {
      "text/plain": [
       "Name        2000\n",
       "Employer    1820\n",
       "City        1999\n",
       "State       1999\n",
       "Zip         1996\n",
       "Amount      2000\n",
       "dtype: int64"
      ]
     },
     "execution_count": 6,
     "metadata": {},
     "output_type": "execute_result"
    }
   ],
   "source": [
    "# Identify incomplete rows\n",
    "df.count()"
   ]
  },
  {
   "cell_type": "code",
   "execution_count": 7,
   "metadata": {
    "inputHidden": false,
    "outputHidden": false
   },
   "outputs": [],
   "source": [
    "# Drop all rows with missing information\n",
    "df = df.dropna(how='any')"
   ]
  },
  {
   "cell_type": "code",
   "execution_count": 8,
   "metadata": {
    "inputHidden": false,
    "outputHidden": false
   },
   "outputs": [
    {
     "data": {
      "text/plain": [
       "Name        1818\n",
       "Employer    1818\n",
       "City        1818\n",
       "State       1818\n",
       "Zip         1818\n",
       "Amount      1818\n",
       "dtype: int64"
      ]
     },
     "execution_count": 8,
     "metadata": {},
     "output_type": "execute_result"
    }
   ],
   "source": [
    "# Verify dropped rows\n",
    "df.count()"
   ]
  },
  {
   "cell_type": "code",
   "execution_count": 9,
   "metadata": {
    "inputHidden": false,
    "outputHidden": false
   },
   "outputs": [
    {
     "data": {
      "text/plain": [
       "Name         object\n",
       "Employer     object\n",
       "City         object\n",
       "State        object\n",
       "Zip         float64\n",
       "Amount        int64\n",
       "dtype: object"
      ]
     },
     "execution_count": 9,
     "metadata": {},
     "output_type": "execute_result"
    }
   ],
   "source": [
    "# The Zip column is the wrong data type. It should be a string (object).\n",
    "df.dtypes"
   ]
  },
  {
   "cell_type": "code",
   "execution_count": 10,
   "metadata": {
    "inputHidden": false,
    "outputHidden": false
   },
   "outputs": [],
   "source": [
    "# Use df.astype() method to convert the datatype of the Zip column\n",
    "df = df.astype({\"Zip\": str}, errors='raise')"
   ]
  },
  {
   "cell_type": "code",
   "execution_count": 11,
   "metadata": {
    "inputHidden": false,
    "outputHidden": false
   },
   "outputs": [
    {
     "data": {
      "text/plain": [
       "dtype('O')"
      ]
     },
     "execution_count": 11,
     "metadata": {},
     "output_type": "execute_result"
    }
   ],
   "source": [
    "# Verify that the Zip column datatype has been made an object\n",
    "df['Zip'].dtype"
   ]
  },
  {
   "cell_type": "code",
   "execution_count": 12,
   "metadata": {
    "inputHidden": false,
    "outputHidden": false
   },
   "outputs": [
    {
     "data": {
      "text/plain": [
       "NOT EMPLOYED           609\n",
       "NONE                   321\n",
       "SELF-EMPLOYED          132\n",
       "SELF                    33\n",
       "RETIRED                 32\n",
       "                      ... \n",
       "INTEL CORPORATION        1\n",
       "SLOCUM & SONS            1\n",
       "OCPS                     1\n",
       "HEALTHCARE PARTNERS      1\n",
       "CARBON FIVE              1\n",
       "Name: Employer, Length: 519, dtype: int64"
      ]
     },
     "execution_count": 12,
     "metadata": {},
     "output_type": "execute_result"
    }
   ],
   "source": [
    "# Display an overview of the Employers column\n",
    "df['Employer'].value_counts()"
   ]
  },
  {
   "cell_type": "code",
   "execution_count": 13,
   "metadata": {
    "inputHidden": false,
    "outputHidden": false
   },
   "outputs": [],
   "source": [
    "# Clean up Employer category. Replace 'SELF' and 'SELF EMPLOYED' with 'SELF-EMPLOYED'\n",
    "df['Employer'] = df['Employer'].replace({'SELF': 'SELF-EMPLOYED', 'SELF EMPLOYED': 'SELF-EMPLOYED'})"
   ]
  },
  {
   "cell_type": "code",
   "execution_count": 14,
   "metadata": {
    "inputHidden": false,
    "outputHidden": false
   },
   "outputs": [
    {
     "data": {
      "text/plain": [
       "NOT EMPLOYED            609\n",
       "NONE                    321\n",
       "SELF-EMPLOYED           180\n",
       "RETIRED                  32\n",
       "INGRAM BARGE COMPANY     30\n",
       "                       ... \n",
       "SLOCUM & SONS             1\n",
       "OCPS                      1\n",
       "HEALTHCARE PARTNERS       1\n",
       "SEATTLE CITY LIGHT        1\n",
       "CARBON FIVE               1\n",
       "Name: Employer, Length: 517, dtype: int64"
      ]
     },
     "execution_count": 14,
     "metadata": {},
     "output_type": "execute_result"
    }
   ],
   "source": [
    "# Verify clean-up.\n",
    "df['Employer'].value_counts()"
   ]
  },
  {
   "cell_type": "code",
   "execution_count": 15,
   "metadata": {
    "inputHidden": false,
    "outputHidden": false
   },
   "outputs": [
    {
     "data": {
      "text/plain": [
       "UNEMPLOYED              611\n",
       "NONE                    321\n",
       "SELF-EMPLOYED           180\n",
       "RETIRED                  32\n",
       "INGRAM BARGE COMPANY     30\n",
       "                       ... \n",
       "OCPS                      1\n",
       "HEALTHCARE PARTNERS       1\n",
       "ICARE MGT                 1\n",
       "SEATTLE CITY LIGHT        1\n",
       "CARBON FIVE               1\n",
       "Name: Employer, Length: 516, dtype: int64"
      ]
     },
     "execution_count": 15,
     "metadata": {},
     "output_type": "execute_result"
    }
   ],
   "source": [
    "df['Employer'] = df['Employer'].replace({'NOT EMPLOYED': 'UNEMPLOYED'})\n",
    "df['Employer'].value_counts()"
   ]
  },
  {
   "cell_type": "code",
   "execution_count": 16,
   "metadata": {
    "inputHidden": false,
    "outputHidden": false
   },
   "outputs": [
    {
     "data": {
      "text/html": [
       "<div>\n",
       "<style scoped>\n",
       "    .dataframe tbody tr th:only-of-type {\n",
       "        vertical-align: middle;\n",
       "    }\n",
       "\n",
       "    .dataframe tbody tr th {\n",
       "        vertical-align: top;\n",
       "    }\n",
       "\n",
       "    .dataframe thead th {\n",
       "        text-align: right;\n",
       "    }\n",
       "</style>\n",
       "<table border=\"1\" class=\"dataframe\">\n",
       "  <thead>\n",
       "    <tr style=\"text-align: right;\">\n",
       "      <th></th>\n",
       "      <th>Amount</th>\n",
       "    </tr>\n",
       "  </thead>\n",
       "  <tbody>\n",
       "    <tr>\n",
       "      <th>count</th>\n",
       "      <td>1818.000000</td>\n",
       "    </tr>\n",
       "    <tr>\n",
       "      <th>mean</th>\n",
       "      <td>752.127613</td>\n",
       "    </tr>\n",
       "    <tr>\n",
       "      <th>std</th>\n",
       "      <td>11601.791128</td>\n",
       "    </tr>\n",
       "    <tr>\n",
       "      <th>min</th>\n",
       "      <td>-1000.000000</td>\n",
       "    </tr>\n",
       "    <tr>\n",
       "      <th>25%</th>\n",
       "      <td>25.000000</td>\n",
       "    </tr>\n",
       "    <tr>\n",
       "      <th>50%</th>\n",
       "      <td>50.000000</td>\n",
       "    </tr>\n",
       "    <tr>\n",
       "      <th>75%</th>\n",
       "      <td>200.000000</td>\n",
       "    </tr>\n",
       "    <tr>\n",
       "      <th>max</th>\n",
       "      <td>400000.000000</td>\n",
       "    </tr>\n",
       "  </tbody>\n",
       "</table>\n",
       "</div>"
      ],
      "text/plain": [
       "              Amount\n",
       "count    1818.000000\n",
       "mean      752.127613\n",
       "std     11601.791128\n",
       "min     -1000.000000\n",
       "25%        25.000000\n",
       "50%        50.000000\n",
       "75%       200.000000\n",
       "max    400000.000000"
      ]
     },
     "execution_count": 16,
     "metadata": {},
     "output_type": "execute_result"
    }
   ],
   "source": [
    "# Display a statistical overview\n",
    "# We can infer the maximum allowable individual contribution from 'max'\n",
    "df.describe()"
   ]
  },
  {
   "cell_type": "code",
   "execution_count": 17,
   "metadata": {},
   "outputs": [],
   "source": [
    "df.to_csv(\"Resources/donors2021.csv\", index=False, encoding=\"ISO-8859-1\")"
   ]
  },
  {
   "cell_type": "code",
   "execution_count": null,
   "metadata": {},
   "outputs": [],
   "source": []
  }
 ],
 "metadata": {
  "anaconda-cloud": {},
  "kernel_info": {
   "name": "python3"
  },
  "kernelspec": {
   "display_name": "Python 3",
   "language": "python",
   "name": "python3"
  },
  "language_info": {
   "codemirror_mode": {
    "name": "ipython",
    "version": 3
   },
   "file_extension": ".py",
   "mimetype": "text/x-python",
   "name": "python",
   "nbconvert_exporter": "python",
   "pygments_lexer": "ipython3",
   "version": "3.8.8"
  },
  "nteract": {
   "version": "0.2.0"
  }
 },
 "nbformat": 4,
 "nbformat_minor": 2
}
