{
 "cells": [
  {
   "cell_type": "code",
   "execution_count": null,
   "metadata": {
    "collapsed": true
   },
   "outputs": [],
   "source": [
    "# Import the Pandas library\n",
    "import pandas as pd"
   ]
  },
  {
   "cell_type": "code",
   "execution_count": null,
   "metadata": {
    "collapsed": true
   },
   "outputs": [],
   "source": [
    "# Create a reference the CSV file desired\n",
    "\n",
    "# Read the CSV into a Pandas DataFrame\n",
    "\n",
    "# Print the first five rows of data to the screen"
   ]
  },
  {
   "cell_type": "code",
   "execution_count": null,
   "metadata": {
    "collapsed": true
   },
   "outputs": [],
   "source": [
    "# Check the names of all the columns and see if there are any rows with missing data"
   ]
  },
  {
   "cell_type": "code",
   "execution_count": null,
   "metadata": {},
   "outputs": [],
   "source": [
    "# Rename mistyped columns \"Aid Given or Received Code \" and \"Propery Loss\""
   ]
  },
  {
   "cell_type": "code",
   "execution_count": null,
   "metadata": {
    "collapsed": true
   },
   "outputs": [],
   "source": [
    "# Reduce to columns: Reporting Year, Fire Department Name, Incident date, Incident Type,\n",
    "# Aid Given or Received Code, Aid Given or Received, Number of Alarms, Alarm Date and Time,\n",
    "# Arrival Date and Time, Last Unit Cleared Date and Time, Actions Taken 1, Actions Taken 2,\n",
    "# Actions Taken 3, Property Value, Property Loss, Contents Value, Contents Loss,\n",
    "# Fire Service Deaths, Fire Service Injuries, Other Fire Deaths, Other Fire Injuries,\n",
    "# Property Use, Incident Street Address, Incident Apartment Number, Incident City, Incident Zip Code"
   ]
  },
  {
   "cell_type": "code",
   "execution_count": null,
   "metadata": {},
   "outputs": [],
   "source": [
    "# Fill NAs for columns \"Actions Taken 1\", \"Actions Taken 2\", \"Actions Taken 3\", \n",
    "# and \"Incident Apartment Number\" with ''\n",
    "# Fill NAs for columns \"Other Fire Deaths\", \"Other Fire Injuries\",\n",
    "# \"Property Loss\", and \"Contents Loss\" with 0"
   ]
  },
  {
   "cell_type": "code",
   "execution_count": null,
   "metadata": {},
   "outputs": [],
   "source": [
    "# Remove remaining rows with missing data"
   ]
  },
  {
   "cell_type": "code",
   "execution_count": null,
   "metadata": {
    "collapsed": true
   },
   "outputs": [],
   "source": [
    "# Filter data to incidents that caused Property or Contents Loss"
   ]
  },
  {
   "cell_type": "code",
   "execution_count": null,
   "metadata": {
    "collapsed": true
   },
   "outputs": [],
   "source": [
    "# Count how many incidents occured in each city"
   ]
  },
  {
   "cell_type": "code",
   "execution_count": null,
   "metadata": {
    "collapsed": true
   },
   "outputs": [],
   "source": [
    "# Convert the city_counts Series into a DataFrame"
   ]
  },
  {
   "cell_type": "code",
   "execution_count": null,
   "metadata": {
    "collapsed": true
   },
   "outputs": [],
   "source": [
    "# Convert the column name into \"Sum of Loss Incidents\""
   ]
  },
  {
   "cell_type": "code",
   "execution_count": null,
   "metadata": {},
   "outputs": [],
   "source": [
    "# Calculate the number of deaths from fire incidents where loss occurred"
   ]
  },
  {
   "cell_type": "code",
   "execution_count": null,
   "metadata": {
    "collapsed": true
   },
   "outputs": [],
   "source": [
    "# Want to calculate the fire department response time? There is a problem\n",
    "# Problem can be seen by examining datatypes within the DataFrame"
   ]
  },
  {
   "cell_type": "code",
   "execution_count": null,
   "metadata": {},
   "outputs": [],
   "source": [
    "# Convert relevant date columns to datetime"
   ]
  },
  {
   "cell_type": "code",
   "execution_count": null,
   "metadata": {},
   "outputs": [],
   "source": [
    "# Now it is possible to find the response time in seconds\n",
    "# Hint: create a new column for \"Response Time (seconds)\" and use .dt.total_seconds()\n",
    "# to calculate the seconds"
   ]
  },
  {
   "cell_type": "code",
   "execution_count": null,
   "metadata": {},
   "outputs": [],
   "source": [
    "# Check data for columns of your choosing"
   ]
  }
 ],
 "metadata": {
  "kernelspec": {
   "display_name": "Python 3",
   "language": "python",
   "name": "python3"
  },
  "language_info": {
   "codemirror_mode": {
    "name": "ipython",
    "version": 3
   },
   "file_extension": ".py",
   "mimetype": "text/x-python",
   "name": "python",
   "nbconvert_exporter": "python",
   "pygments_lexer": "ipython3",
   "version": "3.8.8"
  }
 },
 "nbformat": 4,
 "nbformat_minor": 2
}
