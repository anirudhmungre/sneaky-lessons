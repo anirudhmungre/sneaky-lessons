{
 "cells": [
  {
   "cell_type": "code",
   "execution_count": null,
   "metadata": {
    "colab": {},
    "colab_type": "code",
    "id": "7kufI1HuEzk5"
   },
   "outputs": [],
   "source": [
    "import os\n",
    "# Find the latest version of spark 3.0  from http://www.apache.org/dist/spark/ and enter as the spark version\n",
    "# For example:\n",
    "# spark_version = 'spark-3.0.3'\n",
    "spark_version = 'spark-3.<enter version>'\n",
    "os.environ['SPARK_VERSION']=spark_version\n",
    "\n",
    "# Install Spark and Java\n",
    "!apt-get update\n",
    "!apt-get install openjdk-8-jdk-headless -qq > /dev/null\n",
    "!wget -q http://www.apache.org/dist/spark/$SPARK_VERSION/$SPARK_VERSION-bin-hadoop2.7.tgz\n",
    "!tar xf $SPARK_VERSION-bin-hadoop2.7.tgz\n",
    "!pip install -q findspark\n",
    "\n",
    "# Set Environment Variables\n",
    "os.environ[\"JAVA_HOME\"] = \"/usr/lib/jvm/java-8-openjdk-amd64\"\n",
    "os.environ[\"SPARK_HOME\"] = f\"/content/{spark_version}-bin-hadoop2.7\"\n",
    "\n",
    "# Start a SparkSession\n",
    "import findspark\n",
    "findspark.init()"
   ]
  },
  {
   "cell_type": "code",
   "execution_count": null,
   "metadata": {
    "colab": {},
    "colab_type": "code",
    "id": "ADYQdkdUSAnn"
   },
   "outputs": [],
   "source": [
    "# Start Spark session\n",
    "from pyspark.sql import SparkSession\n",
    "spark = SparkSession.builder.appName(\"sparkDates\").getOrCreate()"
   ]
  },
  {
   "cell_type": "code",
   "execution_count": 3,
   "metadata": {
    "colab": {
     "base_uri": "https://localhost:8080/",
     "height": 469
    },
    "colab_type": "code",
    "id": "6CdXs43NC-oE",
    "outputId": "115a15eb-14c1-4b32-a820-f75009ac84ce"
   },
   "outputs": [
    {
     "name": "stdout",
     "output_type": "stream",
     "text": [
      "+-----------+-------------------+----+----+\n",
      "|    station|               date|prcp|tobs|\n",
      "+-----------+-------------------+----+----+\n",
      "|USC00519397|2010-01-01 00:00:00|0.08|  65|\n",
      "|USC00519397|2010-01-02 00:00:00| 0.0|  63|\n",
      "|USC00519397|2010-01-03 00:00:00| 0.0|  74|\n",
      "|USC00519397|2010-01-04 00:00:00| 0.0|  76|\n",
      "|USC00519397|2010-01-07 00:00:00|0.06|  70|\n",
      "|USC00519397|2010-01-08 00:00:00| 0.0|  64|\n",
      "|USC00519397|2010-01-09 00:00:00| 0.0|  68|\n",
      "|USC00519397|2010-01-10 00:00:00| 0.0|  73|\n",
      "|USC00519397|2010-01-11 00:00:00|0.01|  64|\n",
      "|USC00519397|2010-01-12 00:00:00| 0.0|  61|\n",
      "|USC00519397|2010-01-14 00:00:00| 0.0|  66|\n",
      "|USC00519397|2010-01-15 00:00:00| 0.0|  65|\n",
      "|USC00519397|2010-01-16 00:00:00| 0.0|  68|\n",
      "|USC00519397|2010-01-17 00:00:00| 0.0|  64|\n",
      "|USC00519397|2010-01-18 00:00:00| 0.0|  72|\n",
      "|USC00519397|2010-01-19 00:00:00| 0.0|  66|\n",
      "|USC00519397|2010-01-20 00:00:00| 0.0|  66|\n",
      "|USC00519397|2010-01-21 00:00:00| 0.0|  69|\n",
      "|USC00519397|2010-01-22 00:00:00| 0.0|  67|\n",
      "|USC00519397|2010-01-23 00:00:00| 0.0|  67|\n",
      "+-----------+-------------------+----+----+\n",
      "only showing top 20 rows\n",
      "\n"
     ]
    }
   ],
   "source": [
    "# Load in data\n",
    "from pyspark import SparkFiles\n",
    "url =\"https://s3.amazonaws.com/dataviz-curriculum/day_1/rainfall.csv\"\n",
    "spark.sparkContext.addFile(url)\n",
    "df = spark.read.csv(SparkFiles.get(\"rainfall.csv\"), sep=\",\", header=True, inferSchema=True, timestampFormat=\"yyyy/MM/dd HH:mm:ss\")\n",
    "df.show()"
   ]
  },
  {
   "cell_type": "code",
   "execution_count": 4,
   "metadata": {
    "colab": {
     "base_uri": "https://localhost:8080/",
     "height": 121
    },
    "colab_type": "code",
    "id": "wGs8eT4MC-oQ",
    "outputId": "a3d4baa9-c6d0-4615-faf6-32a1121dcf8e"
   },
   "outputs": [
    {
     "name": "stdout",
     "output_type": "stream",
     "text": [
      "root\n",
      " |-- station: string (nullable = true)\n",
      " |-- date: timestamp (nullable = true)\n",
      " |-- prcp: double (nullable = true)\n",
      " |-- tobs: integer (nullable = true)\n",
      "\n"
     ]
    }
   ],
   "source": [
    "# Show schema to confirm date type\n",
    "df.printSchema()"
   ]
  },
  {
   "cell_type": "code",
   "execution_count": 5,
   "metadata": {
    "colab": {
     "base_uri": "https://localhost:8080/",
     "height": 469
    },
    "colab_type": "code",
    "id": "qlpo4iHsC-oV",
    "outputId": "c8b33039-80bc-4ec9-8a2d-f92fd2bc59ff"
   },
   "outputs": [
    {
     "name": "stdout",
     "output_type": "stream",
     "text": [
      "+----------+\n",
      "|year(date)|\n",
      "+----------+\n",
      "|      2010|\n",
      "|      2010|\n",
      "|      2010|\n",
      "|      2010|\n",
      "|      2010|\n",
      "|      2010|\n",
      "|      2010|\n",
      "|      2010|\n",
      "|      2010|\n",
      "|      2010|\n",
      "|      2010|\n",
      "|      2010|\n",
      "|      2010|\n",
      "|      2010|\n",
      "|      2010|\n",
      "|      2010|\n",
      "|      2010|\n",
      "|      2010|\n",
      "|      2010|\n",
      "|      2010|\n",
      "+----------+\n",
      "only showing top 20 rows\n",
      "\n"
     ]
    }
   ],
   "source": [
    "# Import date time functions\n",
    "from pyspark.sql.functions import year\n",
    "\n",
    "# Show the year for the date column\n",
    "df.select(year(df[\"date\"])).show()"
   ]
  },
  {
   "cell_type": "code",
   "execution_count": 6,
   "metadata": {
    "colab": {
     "base_uri": "https://localhost:8080/",
     "height": 469
    },
    "colab_type": "code",
    "id": "es-JQnbkC-od",
    "outputId": "e61c6e84-b65e-4ad2-ccc2-995a3a7d8dc7"
   },
   "outputs": [
    {
     "name": "stdout",
     "output_type": "stream",
     "text": [
      "+-----------+-------------------+----+----+----+\n",
      "|    station|               date|prcp|tobs|year|\n",
      "+-----------+-------------------+----+----+----+\n",
      "|USC00519397|2010-01-01 00:00:00|0.08|  65|2010|\n",
      "|USC00519397|2010-01-02 00:00:00| 0.0|  63|2010|\n",
      "|USC00519397|2010-01-03 00:00:00| 0.0|  74|2010|\n",
      "|USC00519397|2010-01-04 00:00:00| 0.0|  76|2010|\n",
      "|USC00519397|2010-01-07 00:00:00|0.06|  70|2010|\n",
      "|USC00519397|2010-01-08 00:00:00| 0.0|  64|2010|\n",
      "|USC00519397|2010-01-09 00:00:00| 0.0|  68|2010|\n",
      "|USC00519397|2010-01-10 00:00:00| 0.0|  73|2010|\n",
      "|USC00519397|2010-01-11 00:00:00|0.01|  64|2010|\n",
      "|USC00519397|2010-01-12 00:00:00| 0.0|  61|2010|\n",
      "|USC00519397|2010-01-14 00:00:00| 0.0|  66|2010|\n",
      "|USC00519397|2010-01-15 00:00:00| 0.0|  65|2010|\n",
      "|USC00519397|2010-01-16 00:00:00| 0.0|  68|2010|\n",
      "|USC00519397|2010-01-17 00:00:00| 0.0|  64|2010|\n",
      "|USC00519397|2010-01-18 00:00:00| 0.0|  72|2010|\n",
      "|USC00519397|2010-01-19 00:00:00| 0.0|  66|2010|\n",
      "|USC00519397|2010-01-20 00:00:00| 0.0|  66|2010|\n",
      "|USC00519397|2010-01-21 00:00:00| 0.0|  69|2010|\n",
      "|USC00519397|2010-01-22 00:00:00| 0.0|  67|2010|\n",
      "|USC00519397|2010-01-23 00:00:00| 0.0|  67|2010|\n",
      "+-----------+-------------------+----+----+----+\n",
      "only showing top 20 rows\n",
      "\n"
     ]
    }
   ],
   "source": [
    "# Save the year as a new column\n",
    "df = df.withColumn(\"year\", year(df['date']))\n",
    "df.show()"
   ]
  },
  {
   "cell_type": "code",
   "execution_count": 7,
   "metadata": {
    "colab": {
     "base_uri": "https://localhost:8080/",
     "height": 243
    },
    "colab_type": "code",
    "id": "vUaT-8mCV6w0",
    "outputId": "8dc812b5-408c-4445-c63a-901f1dd9252e"
   },
   "outputs": [
    {
     "name": "stdout",
     "output_type": "stream",
     "text": [
      "+----+-------------------+\n",
      "|year|          avg(prcp)|\n",
      "+----+-------------------+\n",
      "|2010|0.13852293920179035|\n",
      "|2011| 0.1637348927875241|\n",
      "|2012| 0.1163805668016194|\n",
      "|2013|0.15554567502020986|\n",
      "|2014|0.17855953372189803|\n",
      "|2015|0.19919999999999985|\n",
      "|2016|0.17984533591106822|\n",
      "|2017|0.16592738752959774|\n",
      "+----+-------------------+\n",
      "\n"
     ]
    }
   ],
   "source": [
    "# Find the average precipitation per year\n",
    "averages = df.groupBy(\"year\").avg()\n",
    "averages.orderBy(\"year\").select(\"year\", \"avg(prcp)\").show()"
   ]
  },
  {
   "cell_type": "code",
   "execution_count": 8,
   "metadata": {
    "colab": {
     "base_uri": "https://localhost:8080/",
     "height": 469
    },
    "colab_type": "code",
    "id": "cS6QUGeSC-om",
    "outputId": "bcf0b6e3-dcab-4faa-a0a3-9afbc929edc0"
   },
   "outputs": [
    {
     "name": "stdout",
     "output_type": "stream",
     "text": [
      "+-----------+\n",
      "|month(Date)|\n",
      "+-----------+\n",
      "|          1|\n",
      "|          1|\n",
      "|          1|\n",
      "|          1|\n",
      "|          1|\n",
      "|          1|\n",
      "|          1|\n",
      "|          1|\n",
      "|          1|\n",
      "|          1|\n",
      "|          1|\n",
      "|          1|\n",
      "|          1|\n",
      "|          1|\n",
      "|          1|\n",
      "|          1|\n",
      "|          1|\n",
      "|          1|\n",
      "|          1|\n",
      "|          1|\n",
      "+-----------+\n",
      "only showing top 20 rows\n",
      "\n"
     ]
    }
   ],
   "source": [
    "from pyspark.sql.functions import month\n",
    "df.select(month(df['Date'])).show()"
   ]
  },
  {
   "cell_type": "code",
   "execution_count": 9,
   "metadata": {
    "colab": {
     "base_uri": "https://localhost:8080/",
     "height": 34
    },
    "colab_type": "code",
    "id": "CojLgFrpC-oq",
    "outputId": "eb296c64-3481-4efe-9e32-df007b138f66"
   },
   "outputs": [
    {
     "data": {
      "text/plain": [
       "Row(station='USC00519397', date=datetime.datetime(2010, 1, 1, 0, 0), prcp=0.08, tobs=65, year=2010, month=1)"
      ]
     },
     "execution_count": 9,
     "metadata": {
      "tags": []
     },
     "output_type": "execute_result"
    }
   ],
   "source": [
    "df = df.withColumn(\"month\", month(df['date']))\n",
    "df.head()"
   ]
  },
  {
   "cell_type": "code",
   "execution_count": 10,
   "metadata": {
    "colab": {
     "base_uri": "https://localhost:8080/",
     "height": 312
    },
    "colab_type": "code",
    "id": "WFLxAjanC-ou",
    "outputId": "f81b9bde-2fec-4749-c94f-6d18516728f2"
   },
   "outputs": [
    {
     "name": "stdout",
     "output_type": "stream",
     "text": [
      "+-----+---------+\n",
      "|month|max(prcp)|\n",
      "+-----+---------+\n",
      "|    1|     8.81|\n",
      "|    2|     5.04|\n",
      "|    3|     6.38|\n",
      "|    4|     6.25|\n",
      "|    5|     4.07|\n",
      "|    6|     4.43|\n",
      "|    7|    11.53|\n",
      "|    8|     4.81|\n",
      "|    9|     6.83|\n",
      "|   10|     4.47|\n",
      "|   11|     8.06|\n",
      "|   12|     6.42|\n",
      "+-----+---------+\n",
      "\n"
     ]
    }
   ],
   "source": [
    "maxes = df.groupBy(\"month\").max()\n",
    "maxes.orderBy(\"month\").select(\"month\", \"max(prcp)\").show()"
   ]
  },
  {
   "cell_type": "code",
   "execution_count": 11,
   "metadata": {
    "colab": {
     "base_uri": "https://localhost:8080/",
     "height": 206
    },
    "colab_type": "code",
    "id": "C6KRsF3GC-oz",
    "outputId": "285fd919-7d91-43f8-faa1-dc87055444f8"
   },
   "outputs": [
    {
     "data": {
      "text/html": [
       "<div>\n",
       "<style scoped>\n",
       "    .dataframe tbody tr th:only-of-type {\n",
       "        vertical-align: middle;\n",
       "    }\n",
       "\n",
       "    .dataframe tbody tr th {\n",
       "        vertical-align: top;\n",
       "    }\n",
       "\n",
       "    .dataframe thead th {\n",
       "        text-align: right;\n",
       "    }\n",
       "</style>\n",
       "<table border=\"1\" class=\"dataframe\">\n",
       "  <thead>\n",
       "    <tr style=\"text-align: right;\">\n",
       "      <th></th>\n",
       "      <th>month</th>\n",
       "      <th>max(prcp)</th>\n",
       "    </tr>\n",
       "  </thead>\n",
       "  <tbody>\n",
       "    <tr>\n",
       "      <th>0</th>\n",
       "      <td>1</td>\n",
       "      <td>8.81</td>\n",
       "    </tr>\n",
       "    <tr>\n",
       "      <th>1</th>\n",
       "      <td>2</td>\n",
       "      <td>5.04</td>\n",
       "    </tr>\n",
       "    <tr>\n",
       "      <th>2</th>\n",
       "      <td>3</td>\n",
       "      <td>6.38</td>\n",
       "    </tr>\n",
       "    <tr>\n",
       "      <th>3</th>\n",
       "      <td>4</td>\n",
       "      <td>6.25</td>\n",
       "    </tr>\n",
       "    <tr>\n",
       "      <th>4</th>\n",
       "      <td>5</td>\n",
       "      <td>4.07</td>\n",
       "    </tr>\n",
       "  </tbody>\n",
       "</table>\n",
       "</div>"
      ],
      "text/plain": [
       "   month  max(prcp)\n",
       "0      1       8.81\n",
       "1      2       5.04\n",
       "2      3       6.38\n",
       "3      4       6.25\n",
       "4      5       4.07"
      ]
     },
     "execution_count": 11,
     "metadata": {
      "tags": []
     },
     "output_type": "execute_result"
    }
   ],
   "source": [
    "# Import the summarized data to a pandas dataframe for plotting\n",
    "# Note: If your summarized data is still too big for your local memory then your notebook may crash\n",
    "\n",
    "pandas_df = maxes.orderBy(\"month\").select(\"month\", \"max(prcp)\").toPandas()\n",
    "pandas_df.head()"
   ]
  },
  {
   "cell_type": "code",
   "execution_count": 12,
   "metadata": {
    "colab": {
     "base_uri": "https://localhost:8080/",
     "height": 301
    },
    "colab_type": "code",
    "id": "CrkpfmoAC-o2",
    "outputId": "b327af6c-6f01-4206-eb4f-f323ce5e49f8"
   },
   "outputs": [
    {
     "data": {
      "text/plain": [
       "<matplotlib.axes._subplots.AxesSubplot at 0x7fb2efa7b3c8>"
      ]
     },
     "execution_count": 12,
     "metadata": {
      "tags": []
     },
     "output_type": "execute_result"
    },
    {
     "data": {
      "image/png": "[encoded data removed]",
      "text/plain": [
       "<Figure size 432x288 with 1 Axes>"
      ]
     },
     "metadata": {
      "tags": []
     },
     "output_type": "display_data"
    }
   ],
   "source": [
    "import matplotlib.pyplot as plt\n",
    "pandas_df.set_index(\"month\", inplace=True)\n",
    "pandas_df.plot.bar()"
   ]
  },
  {
   "cell_type": "code",
   "execution_count": null,
   "metadata": {
    "colab": {},
    "colab_type": "code",
    "id": "0afADD07C-o9"
   },
   "outputs": [],
   "source": []
  }
 ],
 "metadata": {
  "anaconda-cloud": {},
  "colab": {
   "name": "spark_dates.ipynb",
   "provenance": []
  },
  "kernel_info": {
   "name": "python3"
  },
  "kernelspec": {
   "display_name": "Python 3",
   "language": "python",
   "name": "python3"
  },
  "language_info": {
   "codemirror_mode": {
    "name": "ipython",
    "version": 3
   },
   "file_extension": ".py",
   "mimetype": "text/x-python",
   "name": "python",
   "nbconvert_exporter": "python",
   "pygments_lexer": "ipython3",
   "version": "3.7.4"
  },
  "nteract": {
   "version": "0.11.2"
  },
  "varInspector": {
   "cols": {
    "lenName": 16,
    "lenType": 16,
    "lenVar": 40
   },
   "kernels_config": {
    "python": {
     "delete_cmd_postfix": "",
     "delete_cmd_prefix": "del ",
     "library": "var_list.py",
     "varRefreshCmd": "print(var_dic_list())"
    },
    "r": {
     "delete_cmd_postfix": ") ",
     "delete_cmd_prefix": "rm(",
     "library": "var_list.r",
     "varRefreshCmd": "cat(var_dic_list()) "
    }
   },
   "types_to_exclude": [
    "module",
    "function",
    "builtin_function_or_method",
    "instance",
    "_Feature"
   ],
   "window_display": false
  }
 },
 "nbformat": 4,
 "nbformat_minor": 4
}
