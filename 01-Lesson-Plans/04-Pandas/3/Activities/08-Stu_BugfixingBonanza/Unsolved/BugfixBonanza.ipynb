{
 "cells": [
  {
   "cell_type": "code",
   "execution_count": null,
   "id": "5bc16cc9",
   "metadata": {},
   "outputs": [],
   "source": [
    "# Create a reference to the CSV and import it into a Pandas DataFrame\n",
    "csv_path = \"../Resources/Bedbug_Reporting.csv\"\n",
    "pd.read_csv(csv_path)"
   ]
  },
  {
   "cell_type": "code",
   "execution_count": null,
   "id": "69b3d277",
   "metadata": {},
   "outputs": [],
   "source": [
    "# Columns we're interested in: 'Building ID', 'Borough', 'Postcode', '# of Dwelling Units',\n",
    "#       'Infested Dwelling Unit Count', 'Eradicated Unit Count',\n",
    "#       'Re-infested Dwelling Unit Count', 'Filing Date', 'Latitude', 'Longitude'\n",
    "bugs_df = bugs_df[['Building ID', 'Borough', 'Postcode', '# of Dwelling Units',\n",
    "       'Infested Dwelling Unit Count', 'Eradicated Unit Count',\n",
    "       'Re-infested Dwelling Unit Count', 'Filing Date',\n",
    "       'Latitude', 'Longitude']]\n",
    "bugs_df.head()"
   ]
  },
  {
   "cell_type": "code",
   "execution_count": null,
   "id": "12036d01",
   "metadata": {},
   "outputs": [],
   "source": [
    "# Extract the year from the date\n",
    "bugs_df[\"Year\"] = bugs_df[\"Filing Date\"].dt.year\n",
    "bugs_df.head()"
   ]
  },
  {
   "cell_type": "code",
   "execution_count": null,
   "id": "e935ae53",
   "metadata": {},
   "outputs": [],
   "source": [
    "# Filter to only buildings with infested units greater than 0\n",
    "bug_infestations = bugs_df.loc[(bugs_df[\"Infested Dwelling Unit Count\"]>0),:]\n",
    "bug_infestations.head()"
   ]
  },
  {
   "cell_type": "code",
   "execution_count": null,
   "id": "7bc59cc1",
   "metadata": {},
   "outputs": [],
   "source": [
    "# Change postcode to int\n",
    "bug_infestations[\"Postcode\"] = bug_infestations[\"Postcode\"].astype(\"int64\")\n",
    "bug_infestations.head()"
   ]
  },
  {
   "cell_type": "code",
   "execution_count": null,
   "id": "748054a5",
   "metadata": {},
   "outputs": [],
   "source": [
    "# Create a column for percentage of units infested\n",
    "bug_infestations[\"Percent Units Infested\"] = bug_infestations[\"Infested Dwelling Unit Count\"] /\n",
    "                                                bug_infestations[\"# of Dwelling Units\"] * 100\n",
    "bug_infestations.head()"
   ]
  },
  {
   "cell_type": "code",
   "execution_count": null,
   "id": "c4e2ffba",
   "metadata": {},
   "outputs": [],
   "source": [
    "# Finding the average percentage of infested units\n",
    "average_infested_units = bug_infestations[\"Percent Units Infested\"].mean()\n",
    "average_infested_units"
   ]
  },
  {
   "cell_type": "code",
   "execution_count": null,
   "id": "e7f39f41",
   "metadata": {},
   "outputs": [],
   "source": [
    "# Grouping the DataFrame by \"Year\"\n",
    "year_group = bug_infestations.groupby(\"Year\")\n",
    "\n",
    "# Count how many buildings were infested in each borough and create DataFrame\n",
    "year_borough_df = pd.DataFrame(year_group[\"Borough\"].value_counts())\n",
    "year_borough_df.head(10)"
   ]
  },
  {
   "cell_type": "code",
   "execution_count": null,
   "id": "1b0f1862",
   "metadata": {},
   "outputs": [],
   "source": [
    "# Rename the \"Borough\" column to \"Total Building Infestations\"\n",
    "year_borough_df = year_borough_df.rename(\n",
    "    columns={\"Borough\": \"Total Building Infestations\"})\n",
    "year_borough_df.head()"
   ]
  },
  {
   "cell_type": "code",
   "execution_count": null,
   "id": "62cec53e",
   "metadata": {},
   "outputs": [],
   "source": [
    "# Create a DataFrame that shows the total infested and re-infested dwelling unit count by year and borough\n",
    "year_borough_group = bug_infestations.groupby([\"Year\", \"Borough\"])\n",
    "unit_infestations_by_year_borough = pd.DataFrame(year_borough_group[[\"Infested Dwelling Unit Count\",\n",
    "                                                                   \"Re-infested Dwelling Unit Count\"]].sum())\n",
    "unit_infestations_by_year_borough"
   ]
  },
  {
   "cell_type": "code",
   "execution_count": null,
   "id": "82129254",
   "metadata": {},
   "outputs": [],
   "source": [
    "# Find the total unit infestations and re-infestations by year\n",
    "total_unit_infestations_each_year = pd.DataFrame(year_group[\"Infested Dwelling Unit Count\", \n",
    "                                                             \"Re-infested Dwelling Unit Count\"].sum())\n",
    "total_unit_infestations_each_year = total_unit_infestations_each_year\\\n",
    "            .rename(columns={\"Infested Dwelling Unit Count\": \"Total Infested Dwelling Units in Year\",\n",
    "                            \"Re-infested Dwelling Unit Count\": \"Total Re-infested Dwelling Units in Year\"})\n",
    "total_unit_infestations_each_year"
   ]
  },
  {
   "cell_type": "code",
   "execution_count": null,
   "id": "308217d3",
   "metadata": {},
   "outputs": [],
   "source": [
    "# Merge unit_infestations_by_year_borough and join the \"Total Infested Dwelling Units in Year\"\n",
    "# into the year_borough_df DataFrame\n",
    "merged_df = year_borough_df.merge(unit_infestations_by_year_borough).join(total_unit_infestations_each_year,\n",
    "                                                               on=\"Year\")\n",
    "merged_df.head()"
   ]
  }
 ],
 "metadata": {
  "kernelspec": {
   "display_name": "Python 3",
   "language": "python",
   "name": "python3"
  },
  "language_info": {
   "codemirror_mode": {
    "name": "ipython",
    "version": 3
   },
   "file_extension": ".py",
   "mimetype": "text/x-python",
   "name": "python",
   "nbconvert_exporter": "python",
   "pygments_lexer": "ipython3",
   "version": "3.8.8"
  }
 },
 "nbformat": 4,
 "nbformat_minor": 5
}
