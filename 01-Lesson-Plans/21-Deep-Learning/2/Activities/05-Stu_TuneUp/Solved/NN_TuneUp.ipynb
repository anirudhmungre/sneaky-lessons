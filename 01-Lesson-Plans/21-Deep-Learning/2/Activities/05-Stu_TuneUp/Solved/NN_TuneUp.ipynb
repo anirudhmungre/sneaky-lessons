{
 "cells": [
  {
   "cell_type": "code",
   "execution_count": 1,
   "metadata": {},
   "outputs": [],
   "source": [
    "# Import our dependencies\n",
    "import pandas as pd\n",
    "import matplotlib as plt\n",
    "import sklearn as skl\n",
    "import tensorflow as tf\n",
    "from sklearn.datasets import make_circles\n",
    "\n",
    "# Creating dummy nonlinear data\n",
    "X_circles, y_circles = make_circles(n_samples=1000, noise=0.05, random_state=78)\n",
    "\n",
    "# Transforming y_circles to a vertical vector\n",
    "y_circles = y_circles.reshape(-1, 1)\n",
    "\n",
    "# Use sklearn to split dataset\n",
    "from sklearn.model_selection import train_test_split\n",
    "X_train, X_test, y_train, y_test = train_test_split(X_circles, y_circles, random_state=78)\n",
    "\n",
    "# Create scaler instance\n",
    "X_scaler = skl.preprocessing.StandardScaler()\n",
    "\n",
    "# Fit the scaler\n",
    "X_scaler.fit(X_train)\n",
    "\n",
    "# Scale the data\n",
    "X_train_scaled = X_scaler.transform(X_train)\n",
    "X_test_scaled = X_scaler.transform(X_test)"
   ]
  },
  {
   "cell_type": "code",
   "execution_count": 2,
   "metadata": {},
   "outputs": [
    {
     "data": {
      "text/plain": [
       "<matplotlib.axes._subplots.AxesSubplot at 0x1a48396ed0>"
      ]
     },
     "execution_count": 2,
     "metadata": {},
     "output_type": "execute_result"
    }
   ],
   "source": [
    "# Creating a DataFrame to plot the nonlinear dummy data\n",
    "df_circles = pd.DataFrame(X_circles, columns=[\"Feature 1\", \"Feature 2\"])\n",
    "df_circles[\"Target\"] = y_circles\n",
    "\n",
    "# Plot the nonlinear dummy data\n",
    "df_circles.plot.scatter(x=\"Feature 1\",y=\"Feature 2\", c=\"Target\",colormap=\"winter\")"
   ]
  },
  {
   "cell_type": "code",
   "execution_count": 3,
   "metadata": {},
   "outputs": [],
   "source": [
    "# Create a method that creates a new Sequential model with hyperparameter options\n",
    "def create_model(hp):\n",
    "    nn_model = tf.keras.models.Sequential()\n",
    "\n",
    "    # Allow kerastuner to decide which activation function to use in hidden layers\n",
    "    activation = hp.Choice('activation',['relu','tanh'])\n",
    "    \n",
    "    # Allow kerastuner to decide number of neurons in first layer\n",
    "    nn_model.add(tf.keras.layers.Dense(units=hp.Int('first_units',\n",
    "        min_value=1,\n",
    "        max_value=30,\n",
    "        step=5), activation=activation, input_dim=2))\n",
    "\n",
    "    # Allow kerastuner to decide number of hidden layers and neurons in hidden layers\n",
    "    for i in range(hp.Int('num_layers', 1, 5)):\n",
    "        nn_model.add(tf.keras.layers.Dense(units=hp.Int('units_' + str(i),\n",
    "            min_value=1,\n",
    "            max_value=30,\n",
    "            step=5),\n",
    "            activation=activation))\n",
    "    \n",
    "    nn_model.add(tf.keras.layers.Dense(units=1, activation=\"sigmoid\"))\n",
    "\n",
    "    # Compile the model\n",
    "    nn_model.compile(loss=\"binary_crossentropy\", optimizer='adam', metrics=[\"accuracy\"])\n",
    "    \n",
    "    return nn_model"
   ]
  },
  {
   "cell_type": "code",
   "execution_count": 4,
   "metadata": {},
   "outputs": [],
   "source": [
    "# Import the kerastuner library\n",
    "import kerastuner as kt\n",
    "\n",
    "tuner = kt.Hyperband(\n",
    "    create_model,\n",
    "    objective=\"val_accuracy\",\n",
    "    max_epochs=20,\n",
    "    hyperband_iterations=2)"
   ]
  },
  {
   "cell_type": "code",
   "execution_count": 5,
   "metadata": {},
   "outputs": [
    {
     "name": "stdout",
     "output_type": "stream",
     "text": [
      "Train on 750 samples, validate on 250 samples\n",
      "Epoch 1/3\n",
      "750/750 [==============================] - ETA: 21s - loss: 0.6917 - accuracy: 0.437 - 1s 2ms/sample - loss: 0.6949 - accuracy: 0.5013 - val_loss: 0.6983 - val_accuracy: 0.4320\n",
      "Epoch 2/3\n",
      "750/750 [==============================] - ETA: 0s - loss: 0.6904 - accuracy: 0.53 - 0s 124us/sample - loss: 0.6924 - accuracy: 0.5027 - val_loss: 0.7011 - val_accuracy: 0.4200\n",
      "Epoch 3/3\n",
      "750/750 [==============================] - ETA: 0s - loss: 0.6906 - accuracy: 0.50 - 0s 123us/sample - loss: 0.6920 - accuracy: 0.4720 - val_loss: 0.7001 - val_accuracy: 0.3840\n"
     ]
    },
    {
     "data": {
      "text/html": [
       "<span style=\"color:#4527A0\"><h1 style=\"font-size:18px\">Trial complete</h1></span>"
      ],
      "text/plain": [
       "<IPython.core.display.HTML object>"
      ]
     },
     "metadata": {},
     "output_type": "display_data"
    },
    {
     "data": {
      "text/html": [
       "<span style=\"color:#4527A0\"><h1 style=\"font-size:18px\">Trial summary</h1></span>"
      ],
      "text/plain": [
       "<IPython.core.display.HTML object>"
      ]
     },
     "metadata": {},
     "output_type": "display_data"
    },
    {
     "data": {
      "text/html": [
       "<span style=\"color:cyan\"> |-Trial ID: ab2a468e32a5f651e4efd1fe4b5c53af</span>"
      ],
      "text/plain": [
       "<IPython.core.display.HTML object>"
      ]
     },
     "metadata": {},
     "output_type": "display_data"
    },
    {
     "data": {
      "text/html": [
       "<span style=\"color:cyan\"> |-Score: 0.4320000112056732</span>"
      ],
      "text/plain": [
       "<IPython.core.display.HTML object>"
      ]
     },
     "metadata": {},
     "output_type": "display_data"
    },
    {
     "data": {
      "text/html": [
       "<span style=\"color:cyan\"> |-Best step: 0</span>"
      ],
      "text/plain": [
       "<IPython.core.display.HTML object>"
      ]
     },
     "metadata": {},
     "output_type": "display_data"
    },
    {
     "data": {
      "text/html": [
       "<span style=\"color:#7E57C2\"><h2 style=\"font-size:16px\">Hyperparameters:</h2></span>"
      ],
      "text/plain": [
       "<IPython.core.display.HTML object>"
      ]
     },
     "metadata": {},
     "output_type": "display_data"
    },
    {
     "data": {
      "text/html": [
       "<span style=\"color:cyan\"> |-activation: tanh</span>"
      ],
      "text/plain": [
       "<IPython.core.display.HTML object>"
      ]
     },
     "metadata": {},
     "output_type": "display_data"
    },
    {
     "data": {
      "text/html": [
       "<span style=\"color:blue\"> |-first_units: 26</span>"
      ],
      "text/plain": [
       "<IPython.core.display.HTML object>"
      ]
     },
     "metadata": {},
     "output_type": "display_data"
    },
    {
     "data": {
      "text/html": [
       "<span style=\"color:cyan\"> |-num_layers: 3</span>"
      ],
      "text/plain": [
       "<IPython.core.display.HTML object>"
      ]
     },
     "metadata": {},
     "output_type": "display_data"
    },
    {
     "data": {
      "text/html": [
       "<span style=\"color:blue\"> |-tuner/bracket: 2</span>"
      ],
      "text/plain": [
       "<IPython.core.display.HTML object>"
      ]
     },
     "metadata": {},
     "output_type": "display_data"
    },
    {
     "data": {
      "text/html": [
       "<span style=\"color:cyan\"> |-tuner/epochs: 3</span>"
      ],
      "text/plain": [
       "<IPython.core.display.HTML object>"
      ]
     },
     "metadata": {},
     "output_type": "display_data"
    },
    {
     "data": {
      "text/html": [
       "<span style=\"color:blue\"> |-tuner/initial_epoch: 0</span>"
      ],
      "text/plain": [
       "<IPython.core.display.HTML object>"
      ]
     },
     "metadata": {},
     "output_type": "display_data"
    },
    {
     "data": {
      "text/html": [
       "<span style=\"color:cyan\"> |-tuner/round: 0</span>"
      ],
      "text/plain": [
       "<IPython.core.display.HTML object>"
      ]
     },
     "metadata": {},
     "output_type": "display_data"
    },
    {
     "data": {
      "text/html": [
       "<span style=\"color:blue\"> |-units_0: 26</span>"
      ],
      "text/plain": [
       "<IPython.core.display.HTML object>"
      ]
     },
     "metadata": {},
     "output_type": "display_data"
    },
    {
     "data": {
      "text/html": [
       "<span style=\"color:cyan\"> |-units_1: 1</span>"
      ],
      "text/plain": [
       "<IPython.core.display.HTML object>"
      ]
     },
     "metadata": {},
     "output_type": "display_data"
    },
    {
     "data": {
      "text/html": [
       "<span style=\"color:blue\"> |-units_2: 1</span>"
      ],
      "text/plain": [
       "<IPython.core.display.HTML object>"
      ]
     },
     "metadata": {},
     "output_type": "display_data"
    },
    {
     "name": "stdout",
     "output_type": "stream",
     "text": [
      "Train on 750 samples, validate on 250 samples\n",
      "Epoch 1/3\n",
      "750/750 [==============================] - ETA: 16s - loss: 0.6987 - accuracy: 0.468 - 1s 1ms/sample - loss: 0.7037 - accuracy: 0.4893 - val_loss: 0.6912 - val_accuracy: 0.5280\n",
      "Epoch 2/3\n",
      "750/750 [==============================] - ETA: 0s - loss: 0.6804 - accuracy: 0.62 - 0s 122us/sample - loss: 0.6951 - accuracy: 0.4840 - val_loss: 0.6940 - val_accuracy: 0.5120\n",
      "Epoch 3/3\n",
      "750/750 [==============================] - ETA: 0s - loss: 0.6948 - accuracy: 0.50 - 0s 137us/sample - loss: 0.6925 - accuracy: 0.5107 - val_loss: 0.6983 - val_accuracy: 0.3640\n"
     ]
    },
    {
     "data": {
      "text/html": [
       "<span style=\"color:#4527A0\"><h1 style=\"font-size:18px\">Trial complete</h1></span>"
      ],
      "text/plain": [
       "<IPython.core.display.HTML object>"
      ]
     },
     "metadata": {},
     "output_type": "display_data"
    },
    {
     "data": {
      "text/html": [
       "<span style=\"color:#4527A0\"><h1 style=\"font-size:18px\">Trial summary</h1></span>"
      ],
      "text/plain": [
       "<IPython.core.display.HTML object>"
      ]
     },
     "metadata": {},
     "output_type": "display_data"
    },
    {
     "data": {
      "text/html": [
       "<span style=\"color:cyan\"> |-Trial ID: ffed5dd45b143f44b097b8ed138e4a8a</span>"
      ],
      "text/plain": [
       "<IPython.core.display.HTML object>"
      ]
     },
     "metadata": {},
     "output_type": "display_data"
    },
    {
     "data": {
      "text/html": [
       "<span style=\"color:cyan\"> |-Score: 0.527999997138977</span>"
      ],
      "text/plain": [
       "<IPython.core.display.HTML object>"
      ]
     },
     "metadata": {},
     "output_type": "display_data"
    },
    {
     "data": {
      "text/html": [
       "<span style=\"color:cyan\"> |-Best step: 0</span>"
      ],
      "text/plain": [
       "<IPython.core.display.HTML object>"
      ]
     },
     "metadata": {},
     "output_type": "display_data"
    },
    {
     "data": {
      "text/html": [
       "<span style=\"color:#7E57C2\"><h2 style=\"font-size:16px\">Hyperparameters:</h2></span>"
      ],
      "text/plain": [
       "<IPython.core.display.HTML object>"
      ]
     },
     "metadata": {},
     "output_type": "display_data"
    },
    {
     "data": {
      "text/html": [
       "<span style=\"color:cyan\"> |-activation: tanh</span>"
      ],
      "text/plain": [
       "<IPython.core.display.HTML object>"
      ]
     },
     "metadata": {},
     "output_type": "display_data"
    },
    {
     "data": {
      "text/html": [
       "<span style=\"color:blue\"> |-first_units: 6</span>"
      ],
      "text/plain": [
       "<IPython.core.display.HTML object>"
      ]
     },
     "metadata": {},
     "output_type": "display_data"
    },
    {
     "data": {
      "text/html": [
       "<span style=\"color:cyan\"> |-num_layers: 2</span>"
      ],
      "text/plain": [
       "<IPython.core.display.HTML object>"
      ]
     },
     "metadata": {},
     "output_type": "display_data"
    },
    {
     "data": {
      "text/html": [
       "<span style=\"color:blue\"> |-tuner/bracket: 2</span>"
      ],
      "text/plain": [
       "<IPython.core.display.HTML object>"
      ]
     },
     "metadata": {},
     "output_type": "display_data"
    },
    {
     "data": {
      "text/html": [
       "<span style=\"color:cyan\"> |-tuner/epochs: 3</span>"
      ],
      "text/plain": [
       "<IPython.core.display.HTML object>"
      ]
     },
     "metadata": {},
     "output_type": "display_data"
    },
    {
     "data": {
      "text/html": [
       "<span style=\"color:blue\"> |-tuner/initial_epoch: 0</span>"
      ],
      "text/plain": [
       "<IPython.core.display.HTML object>"
      ]
     },
     "metadata": {},
     "output_type": "display_data"
    },
    {
     "data": {
      "text/html": [
       "<span style=\"color:cyan\"> |-tuner/round: 0</span>"
      ],
      "text/plain": [
       "<IPython.core.display.HTML object>"
      ]
     },
     "metadata": {},
     "output_type": "display_data"
    },
    {
     "data": {
      "text/html": [
       "<span style=\"color:blue\"> |-units_0: 11</span>"
      ],
      "text/plain": [
       "<IPython.core.display.HTML object>"
      ]
     },
     "metadata": {},
     "output_type": "display_data"
    },
    {
     "data": {
      "text/html": [
       "<span style=\"color:cyan\"> |-units_1: 11</span>"
      ],
      "text/plain": [
       "<IPython.core.display.HTML object>"
      ]
     },
     "metadata": {},
     "output_type": "display_data"
    },
    {
     "data": {
      "text/html": [
       "<span style=\"color:blue\"> |-units_2: 16</span>"
      ],
      "text/plain": [
       "<IPython.core.display.HTML object>"
      ]
     },
     "metadata": {},
     "output_type": "display_data"
    },
    {
     "name": "stdout",
     "output_type": "stream",
     "text": [
      "Train on 750 samples, validate on 250 samples\n",
      "Epoch 1/3\n",
      "750/750 [==============================] - ETA: 25s - loss: 0.7226 - accuracy: 0.562 - ETA: 0s - loss: 0.7111 - accuracy: 0.458 - 1s 2ms/sample - loss: 0.7092 - accuracy: 0.4653 - val_loss: 0.6946 - val_accuracy: 0.4080\n",
      "Epoch 2/3\n",
      "750/750 [==============================] - ETA: 0s - loss: 0.6898 - accuracy: 0.71 - ETA: 0s - loss: 0.6928 - accuracy: 0.52 - 0s 150us/sample - loss: 0.6926 - accuracy: 0.5307 - val_loss: 0.6953 - val_accuracy: 0.4080\n",
      "Epoch 3/3\n",
      "750/750 [==============================] - ETA: 0s - loss: 0.6918 - accuracy: 0.56 - ETA: 0s - loss: 0.6924 - accuracy: 0.53 - 0s 156us/sample - loss: 0.6924 - accuracy: 0.5307 - val_loss: 0.6962 - val_accuracy: 0.4080\n"
     ]
    },
    {
     "data": {
      "text/html": [
       "<span style=\"color:#4527A0\"><h1 style=\"font-size:18px\">Trial complete</h1></span>"
      ],
      "text/plain": [
       "<IPython.core.display.HTML object>"
      ]
     },
     "metadata": {},
     "output_type": "display_data"
    },
    {
     "data": {
      "text/html": [
       "<span style=\"color:#4527A0\"><h1 style=\"font-size:18px\">Trial summary</h1></span>"
      ],
      "text/plain": [
       "<IPython.core.display.HTML object>"
      ]
     },
     "metadata": {},
     "output_type": "display_data"
    },
    {
     "data": {
      "text/html": [
       "<span style=\"color:cyan\"> |-Trial ID: 06a4e2eebbb60e0f74bf75c5ee77a6ed</span>"
      ],
      "text/plain": [
       "<IPython.core.display.HTML object>"
      ]
     },
     "metadata": {},
     "output_type": "display_data"
    },
    {
     "data": {
      "text/html": [
       "<span style=\"color:cyan\"> |-Score: 0.40799999237060547</span>"
      ],
      "text/plain": [
       "<IPython.core.display.HTML object>"
      ]
     },
     "metadata": {},
     "output_type": "display_data"
    },
    {
     "data": {
      "text/html": [
       "<span style=\"color:cyan\"> |-Best step: 0</span>"
      ],
      "text/plain": [
       "<IPython.core.display.HTML object>"
      ]
     },
     "metadata": {},
     "output_type": "display_data"
    },
    {
     "data": {
      "text/html": [
       "<span style=\"color:#7E57C2\"><h2 style=\"font-size:16px\">Hyperparameters:</h2></span>"
      ],
      "text/plain": [
       "<IPython.core.display.HTML object>"
      ]
     },
     "metadata": {},
     "output_type": "display_data"
    },
    {
     "data": {
      "text/html": [
       "<span style=\"color:cyan\"> |-activation: relu</span>"
      ],
      "text/plain": [
       "<IPython.core.display.HTML object>"
      ]
     },
     "metadata": {},
     "output_type": "display_data"
    },
    {
     "data": {
      "text/html": [
       "<span style=\"color:blue\"> |-first_units: 16</span>"
      ],
      "text/plain": [
       "<IPython.core.display.HTML object>"
      ]
     },
     "metadata": {},
     "output_type": "display_data"
    },
    {
     "data": {
      "text/html": [
       "<span style=\"color:cyan\"> |-num_layers: 4</span>"
      ],
      "text/plain": [
       "<IPython.core.display.HTML object>"
      ]
     },
     "metadata": {},
     "output_type": "display_data"
    },
    {
     "data": {
      "text/html": [
       "<span style=\"color:blue\"> |-tuner/bracket: 2</span>"
      ],
      "text/plain": [
       "<IPython.core.display.HTML object>"
      ]
     },
     "metadata": {},
     "output_type": "display_data"
    },
    {
     "data": {
      "text/html": [
       "<span style=\"color:cyan\"> |-tuner/epochs: 3</span>"
      ],
      "text/plain": [
       "<IPython.core.display.HTML object>"
      ]
     },
     "metadata": {},
     "output_type": "display_data"
    },
    {
     "data": {
      "text/html": [
       "<span style=\"color:blue\"> |-tuner/initial_epoch: 0</span>"
      ],
      "text/plain": [
       "<IPython.core.display.HTML object>"
      ]
     },
     "metadata": {},
     "output_type": "display_data"
    },
    {
     "data": {
      "text/html": [
       "<span style=\"color:cyan\"> |-tuner/round: 0</span>"
      ],
      "text/plain": [
       "<IPython.core.display.HTML object>"
      ]
     },
     "metadata": {},
     "output_type": "display_data"
    },
    {
     "data": {
      "text/html": [
       "<span style=\"color:blue\"> |-units_0: 21</span>"
      ],
      "text/plain": [
       "<IPython.core.display.HTML object>"
      ]
     },
     "metadata": {},
     "output_type": "display_data"
    },
    {
     "data": {
      "text/html": [
       "<span style=\"color:cyan\"> |-units_1: 16</span>"
      ],
      "text/plain": [
       "<IPython.core.display.HTML object>"
      ]
     },
     "metadata": {},
     "output_type": "display_data"
    },
    {
     "data": {
      "text/html": [
       "<span style=\"color:blue\"> |-units_2: 21</span>"
      ],
      "text/plain": [
       "<IPython.core.display.HTML object>"
      ]
     },
     "metadata": {},
     "output_type": "display_data"
    },
    {
     "data": {
      "text/html": [
       "<span style=\"color:cyan\"> |-units_3: 1</span>"
      ],
      "text/plain": [
       "<IPython.core.display.HTML object>"
      ]
     },
     "metadata": {},
     "output_type": "display_data"
    },
    {
     "name": "stdout",
     "output_type": "stream",
     "text": [
      "Train on 750 samples, validate on 250 samples\n",
      "Epoch 1/3\n",
      "750/750 [==============================] - ETA: 15s - loss: 0.7119 - accuracy: 0.406 - 1s 1ms/sample - loss: 0.6970 - accuracy: 0.4920 - val_loss: 0.7031 - val_accuracy: 0.4160\n",
      "Epoch 2/3\n",
      "750/750 [==============================] - ETA: 0s - loss: 0.6962 - accuracy: 0.43 - 0s 151us/sample - loss: 0.6926 - accuracy: 0.5200 - val_loss: 0.7036 - val_accuracy: 0.4200\n",
      "Epoch 3/3\n",
      "750/750 [==============================] - ETA: 0s - loss: 0.6938 - accuracy: 0.50 - 0s 120us/sample - loss: 0.6919 - accuracy: 0.5093 - val_loss: 0.7045 - val_accuracy: 0.4000\n"
     ]
    },
    {
     "data": {
      "text/html": [
       "<span style=\"color:#4527A0\"><h1 style=\"font-size:18px\">Trial complete</h1></span>"
      ],
      "text/plain": [
       "<IPython.core.display.HTML object>"
      ]
     },
     "metadata": {},
     "output_type": "display_data"
    },
    {
     "data": {
      "text/html": [
       "<span style=\"color:#4527A0\"><h1 style=\"font-size:18px\">Trial summary</h1></span>"
      ],
      "text/plain": [
       "<IPython.core.display.HTML object>"
      ]
     },
     "metadata": {},
     "output_type": "display_data"
    },
    {
     "data": {
      "text/html": [
       "<span style=\"color:cyan\"> |-Trial ID: 5b512e84b85a861bda95d8c4d916e7a7</span>"
      ],
      "text/plain": [
       "<IPython.core.display.HTML object>"
      ]
     },
     "metadata": {},
     "output_type": "display_data"
    },
    {
     "data": {
      "text/html": [
       "<span style=\"color:cyan\"> |-Score: 0.41999998688697815</span>"
      ],
      "text/plain": [
       "<IPython.core.display.HTML object>"
      ]
     },
     "metadata": {},
     "output_type": "display_data"
    },
    {
     "data": {
      "text/html": [
       "<span style=\"color:cyan\"> |-Best step: 0</span>"
      ],
      "text/plain": [
       "<IPython.core.display.HTML object>"
      ]
     },
     "metadata": {},
     "output_type": "display_data"
    },
    {
     "data": {
      "text/html": [
       "<span style=\"color:#7E57C2\"><h2 style=\"font-size:16px\">Hyperparameters:</h2></span>"
      ],
      "text/plain": [
       "<IPython.core.display.HTML object>"
      ]
     },
     "metadata": {},
     "output_type": "display_data"
    },
    {
     "data": {
      "text/html": [
       "<span style=\"color:cyan\"> |-activation: tanh</span>"
      ],
      "text/plain": [
       "<IPython.core.display.HTML object>"
      ]
     },
     "metadata": {},
     "output_type": "display_data"
    },
    {
     "data": {
      "text/html": [
       "<span style=\"color:blue\"> |-first_units: 21</span>"
      ],
      "text/plain": [
       "<IPython.core.display.HTML object>"
      ]
     },
     "metadata": {},
     "output_type": "display_data"
    },
    {
     "data": {
      "text/html": [
       "<span style=\"color:cyan\"> |-num_layers: 2</span>"
      ],
      "text/plain": [
       "<IPython.core.display.HTML object>"
      ]
     },
     "metadata": {},
     "output_type": "display_data"
    },
    {
     "data": {
      "text/html": [
       "<span style=\"color:blue\"> |-tuner/bracket: 2</span>"
      ],
      "text/plain": [
       "<IPython.core.display.HTML object>"
      ]
     },
     "metadata": {},
     "output_type": "display_data"
    },
    {
     "data": {
      "text/html": [
       "<span style=\"color:cyan\"> |-tuner/epochs: 3</span>"
      ],
      "text/plain": [
       "<IPython.core.display.HTML object>"
      ]
     },
     "metadata": {},
     "output_type": "display_data"
    },
    {
     "data": {
      "text/html": [
       "<span style=\"color:blue\"> |-tuner/initial_epoch: 0</span>"
      ],
      "text/plain": [
       "<IPython.core.display.HTML object>"
      ]
     },
     "metadata": {},
     "output_type": "display_data"
    },
    {
     "data": {
      "text/html": [
       "<span style=\"color:cyan\"> |-tuner/round: 0</span>"
      ],
      "text/plain": [
       "<IPython.core.display.HTML object>"
      ]
     },
     "metadata": {},
     "output_type": "display_data"
    },
    {
     "data": {
      "text/html": [
       "<span style=\"color:blue\"> |-units_0: 16</span>"
      ],
      "text/plain": [
       "<IPython.core.display.HTML object>"
      ]
     },
     "metadata": {},
     "output_type": "display_data"
    },
    {
     "data": {
      "text/html": [
       "<span style=\"color:cyan\"> |-units_1: 26</span>"
      ],
      "text/plain": [
       "<IPython.core.display.HTML object>"
      ]
     },
     "metadata": {},
     "output_type": "display_data"
    },
    {
     "data": {
      "text/html": [
       "<span style=\"color:blue\"> |-units_2: 11</span>"
      ],
      "text/plain": [
       "<IPython.core.display.HTML object>"
      ]
     },
     "metadata": {},
     "output_type": "display_data"
    },
    {
     "data": {
      "text/html": [
       "<span style=\"color:cyan\"> |-units_3: 11</span>"
      ],
      "text/plain": [
       "<IPython.core.display.HTML object>"
      ]
     },
     "metadata": {},
     "output_type": "display_data"
    },
    {
     "name": "stdout",
     "output_type": "stream",
     "text": [
      "Train on 750 samples, validate on 250 samples\n",
      "Epoch 1/3\n",
      "750/750 [==============================] - ETA: 22s - loss: 0.6931 - accuracy: 0.468 - 1s 2ms/sample - loss: 0.6931 - accuracy: 0.5147 - val_loss: 0.6940 - val_accuracy: 0.4080\n",
      "Epoch 2/3\n",
      "750/750 [==============================] - ETA: 0s - loss: 0.6926 - accuracy: 0.56 - 0s 124us/sample - loss: 0.6928 - accuracy: 0.5307 - val_loss: 0.6946 - val_accuracy: 0.4080\n",
      "Epoch 3/3\n",
      "750/750 [==============================] - ETA: 0s - loss: 0.6918 - accuracy: 0.59 - 0s 120us/sample - loss: 0.6927 - accuracy: 0.5307 - val_loss: 0.6953 - val_accuracy: 0.4080\n"
     ]
    },
    {
     "data": {
      "text/html": [
       "<span style=\"color:#4527A0\"><h1 style=\"font-size:18px\">Trial complete</h1></span>"
      ],
      "text/plain": [
       "<IPython.core.display.HTML object>"
      ]
     },
     "metadata": {},
     "output_type": "display_data"
    },
    {
     "data": {
      "text/html": [
       "<span style=\"color:#4527A0\"><h1 style=\"font-size:18px\">Trial summary</h1></span>"
      ],
      "text/plain": [
       "<IPython.core.display.HTML object>"
      ]
     },
     "metadata": {},
     "output_type": "display_data"
    },
    {
     "data": {
      "text/html": [
       "<span style=\"color:cyan\"> |-Trial ID: ac13945a424717aa69ddf88f00805aa0</span>"
      ],
      "text/plain": [
       "<IPython.core.display.HTML object>"
      ]
     },
     "metadata": {},
     "output_type": "display_data"
    },
    {
     "data": {
      "text/html": [
       "<span style=\"color:cyan\"> |-Score: 0.40799999237060547</span>"
      ],
      "text/plain": [
       "<IPython.core.display.HTML object>"
      ]
     },
     "metadata": {},
     "output_type": "display_data"
    },
    {
     "data": {
      "text/html": [
       "<span style=\"color:cyan\"> |-Best step: 0</span>"
      ],
      "text/plain": [
       "<IPython.core.display.HTML object>"
      ]
     },
     "metadata": {},
     "output_type": "display_data"
    },
    {
     "data": {
      "text/html": [
       "<span style=\"color:#7E57C2\"><h2 style=\"font-size:16px\">Hyperparameters:</h2></span>"
      ],
      "text/plain": [
       "<IPython.core.display.HTML object>"
      ]
     },
     "metadata": {},
     "output_type": "display_data"
    },
    {
     "data": {
      "text/html": [
       "<span style=\"color:cyan\"> |-activation: relu</span>"
      ],
      "text/plain": [
       "<IPython.core.display.HTML object>"
      ]
     },
     "metadata": {},
     "output_type": "display_data"
    },
    {
     "data": {
      "text/html": [
       "<span style=\"color:blue\"> |-first_units: 11</span>"
      ],
      "text/plain": [
       "<IPython.core.display.HTML object>"
      ]
     },
     "metadata": {},
     "output_type": "display_data"
    },
    {
     "data": {
      "text/html": [
       "<span style=\"color:cyan\"> |-num_layers: 5</span>"
      ],
      "text/plain": [
       "<IPython.core.display.HTML object>"
      ]
     },
     "metadata": {},
     "output_type": "display_data"
    },
    {
     "data": {
      "text/html": [
       "<span style=\"color:blue\"> |-tuner/bracket: 2</span>"
      ],
      "text/plain": [
       "<IPython.core.display.HTML object>"
      ]
     },
     "metadata": {},
     "output_type": "display_data"
    },
    {
     "data": {
      "text/html": [
       "<span style=\"color:cyan\"> |-tuner/epochs: 3</span>"
      ],
      "text/plain": [
       "<IPython.core.display.HTML object>"
      ]
     },
     "metadata": {},
     "output_type": "display_data"
    },
    {
     "data": {
      "text/html": [
       "<span style=\"color:blue\"> |-tuner/initial_epoch: 0</span>"
      ],
      "text/plain": [
       "<IPython.core.display.HTML object>"
      ]
     },
     "metadata": {},
     "output_type": "display_data"
    },
    {
     "data": {
      "text/html": [
       "<span style=\"color:cyan\"> |-tuner/round: 0</span>"
      ],
      "text/plain": [
       "<IPython.core.display.HTML object>"
      ]
     },
     "metadata": {},
     "output_type": "display_data"
    },
    {
     "data": {
      "text/html": [
       "<span style=\"color:blue\"> |-units_0: 26</span>"
      ],
      "text/plain": [
       "<IPython.core.display.HTML object>"
      ]
     },
     "metadata": {},
     "output_type": "display_data"
    },
    {
     "data": {
      "text/html": [
       "<span style=\"color:cyan\"> |-units_1: 1</span>"
      ],
      "text/plain": [
       "<IPython.core.display.HTML object>"
      ]
     },
     "metadata": {},
     "output_type": "display_data"
    },
    {
     "data": {
      "text/html": [
       "<span style=\"color:blue\"> |-units_2: 16</span>"
      ],
      "text/plain": [
       "<IPython.core.display.HTML object>"
      ]
     },
     "metadata": {},
     "output_type": "display_data"
    },
    {
     "data": {
      "text/html": [
       "<span style=\"color:cyan\"> |-units_3: 6</span>"
      ],
      "text/plain": [
       "<IPython.core.display.HTML object>"
      ]
     },
     "metadata": {},
     "output_type": "display_data"
    },
    {
     "data": {
      "text/html": [
       "<span style=\"color:blue\"> |-units_4: 1</span>"
      ],
      "text/plain": [
       "<IPython.core.display.HTML object>"
      ]
     },
     "metadata": {},
     "output_type": "display_data"
    },
    {
     "name": "stdout",
     "output_type": "stream",
     "text": [
      "Train on 750 samples, validate on 250 samples\n",
      "Epoch 1/3\n",
      "750/750 [==============================] - ETA: 16s - loss: 0.6969 - accuracy: 0.500 - 1s 1ms/sample - loss: 0.6969 - accuracy: 0.4893 - val_loss: 0.6968 - val_accuracy: 0.4560\n",
      "Epoch 2/3\n",
      "750/750 [==============================] - ETA: 0s - loss: 0.6927 - accuracy: 0.43 - 0s 129us/sample - loss: 0.6933 - accuracy: 0.4920 - val_loss: 0.7014 - val_accuracy: 0.4080\n",
      "Epoch 3/3\n",
      "750/750 [==============================] - ETA: 0s - loss: 0.6940 - accuracy: 0.50 - 0s 114us/sample - loss: 0.6916 - accuracy: 0.5000 - val_loss: 0.7062 - val_accuracy: 0.4280\n"
     ]
    },
    {
     "data": {
      "text/html": [
       "<span style=\"color:#4527A0\"><h1 style=\"font-size:18px\">Trial complete</h1></span>"
      ],
      "text/plain": [
       "<IPython.core.display.HTML object>"
      ]
     },
     "metadata": {},
     "output_type": "display_data"
    },
    {
     "data": {
      "text/html": [
       "<span style=\"color:#4527A0\"><h1 style=\"font-size:18px\">Trial summary</h1></span>"
      ],
      "text/plain": [
       "<IPython.core.display.HTML object>"
      ]
     },
     "metadata": {},
     "output_type": "display_data"
    },
    {
     "data": {
      "text/html": [
       "<span style=\"color:cyan\"> |-Trial ID: bd403e9814c9de68e977c805989a0a89</span>"
      ],
      "text/plain": [
       "<IPython.core.display.HTML object>"
      ]
     },
     "metadata": {},
     "output_type": "display_data"
    },
    {
     "data": {
      "text/html": [
       "<span style=\"color:cyan\"> |-Score: 0.4560000002384186</span>"
      ],
      "text/plain": [
       "<IPython.core.display.HTML object>"
      ]
     },
     "metadata": {},
     "output_type": "display_data"
    },
    {
     "data": {
      "text/html": [
       "<span style=\"color:cyan\"> |-Best step: 0</span>"
      ],
      "text/plain": [
       "<IPython.core.display.HTML object>"
      ]
     },
     "metadata": {},
     "output_type": "display_data"
    },
    {
     "data": {
      "text/html": [
       "<span style=\"color:#7E57C2\"><h2 style=\"font-size:16px\">Hyperparameters:</h2></span>"
      ],
      "text/plain": [
       "<IPython.core.display.HTML object>"
      ]
     },
     "metadata": {},
     "output_type": "display_data"
    },
    {
     "data": {
      "text/html": [
       "<span style=\"color:cyan\"> |-activation: tanh</span>"
      ],
      "text/plain": [
       "<IPython.core.display.HTML object>"
      ]
     },
     "metadata": {},
     "output_type": "display_data"
    },
    {
     "data": {
      "text/html": [
       "<span style=\"color:blue\"> |-first_units: 6</span>"
      ],
      "text/plain": [
       "<IPython.core.display.HTML object>"
      ]
     },
     "metadata": {},
     "output_type": "display_data"
    },
    {
     "data": {
      "text/html": [
       "<span style=\"color:cyan\"> |-num_layers: 3</span>"
      ],
      "text/plain": [
       "<IPython.core.display.HTML object>"
      ]
     },
     "metadata": {},
     "output_type": "display_data"
    },
    {
     "data": {
      "text/html": [
       "<span style=\"color:blue\"> |-tuner/bracket: 2</span>"
      ],
      "text/plain": [
       "<IPython.core.display.HTML object>"
      ]
     },
     "metadata": {},
     "output_type": "display_data"
    },
    {
     "data": {
      "text/html": [
       "<span style=\"color:cyan\"> |-tuner/epochs: 3</span>"
      ],
      "text/plain": [
       "<IPython.core.display.HTML object>"
      ]
     },
     "metadata": {},
     "output_type": "display_data"
    },
    {
     "data": {
      "text/html": [
       "<span style=\"color:blue\"> |-tuner/initial_epoch: 0</span>"
      ],
      "text/plain": [
       "<IPython.core.display.HTML object>"
      ]
     },
     "metadata": {},
     "output_type": "display_data"
    },
    {
     "data": {
      "text/html": [
       "<span style=\"color:cyan\"> |-tuner/round: 0</span>"
      ],
      "text/plain": [
       "<IPython.core.display.HTML object>"
      ]
     },
     "metadata": {},
     "output_type": "display_data"
    },
    {
     "data": {
      "text/html": [
       "<span style=\"color:blue\"> |-units_0: 21</span>"
      ],
      "text/plain": [
       "<IPython.core.display.HTML object>"
      ]
     },
     "metadata": {},
     "output_type": "display_data"
    },
    {
     "data": {
      "text/html": [
       "<span style=\"color:cyan\"> |-units_1: 6</span>"
      ],
      "text/plain": [
       "<IPython.core.display.HTML object>"
      ]
     },
     "metadata": {},
     "output_type": "display_data"
    },
    {
     "data": {
      "text/html": [
       "<span style=\"color:blue\"> |-units_2: 26</span>"
      ],
      "text/plain": [
       "<IPython.core.display.HTML object>"
      ]
     },
     "metadata": {},
     "output_type": "display_data"
    },
    {
     "data": {
      "text/html": [
       "<span style=\"color:cyan\"> |-units_3: 1</span>"
      ],
      "text/plain": [
       "<IPython.core.display.HTML object>"
      ]
     },
     "metadata": {},
     "output_type": "display_data"
    },
    {
     "data": {
      "text/html": [
       "<span style=\"color:blue\"> |-units_4: 26</span>"
      ],
      "text/plain": [
       "<IPython.core.display.HTML object>"
      ]
     },
     "metadata": {},
     "output_type": "display_data"
    },
    {
     "name": "stdout",
     "output_type": "stream",
     "text": [
      "Train on 750 samples, validate on 250 samples\n",
      "Epoch 1/3\n",
      "750/750 [==============================] - ETA: 17s - loss: 0.6965 - accuracy: 0.343 - 1s 1ms/sample - loss: 0.6916 - accuracy: 0.5160 - val_loss: 0.6987 - val_accuracy: 0.4080\n",
      "Epoch 2/3\n",
      "750/750 [==============================] - ETA: 0s - loss: 0.6951 - accuracy: 0.46 - 0s 112us/sample - loss: 0.6888 - accuracy: 0.5307 - val_loss: 0.7004 - val_accuracy: 0.4080\n",
      "Epoch 3/3\n",
      "750/750 [==============================] - ETA: 0s - loss: 0.6837 - accuracy: 0.56 - 0s 110us/sample - loss: 0.6872 - accuracy: 0.5307 - val_loss: 0.7018 - val_accuracy: 0.4080\n"
     ]
    },
    {
     "data": {
      "text/html": [
       "<span style=\"color:#4527A0\"><h1 style=\"font-size:18px\">Trial complete</h1></span>"
      ],
      "text/plain": [
       "<IPython.core.display.HTML object>"
      ]
     },
     "metadata": {},
     "output_type": "display_data"
    },
    {
     "data": {
      "text/html": [
       "<span style=\"color:#4527A0\"><h1 style=\"font-size:18px\">Trial summary</h1></span>"
      ],
      "text/plain": [
       "<IPython.core.display.HTML object>"
      ]
     },
     "metadata": {},
     "output_type": "display_data"
    },
    {
     "data": {
      "text/html": [
       "<span style=\"color:cyan\"> |-Trial ID: 657a8683623293e2ee2578ad93e6b487</span>"
      ],
      "text/plain": [
       "<IPython.core.display.HTML object>"
      ]
     },
     "metadata": {},
     "output_type": "display_data"
    },
    {
     "data": {
      "text/html": [
       "<span style=\"color:cyan\"> |-Score: 0.40799999237060547</span>"
      ],
      "text/plain": [
       "<IPython.core.display.HTML object>"
      ]
     },
     "metadata": {},
     "output_type": "display_data"
    },
    {
     "data": {
      "text/html": [
       "<span style=\"color:cyan\"> |-Best step: 0</span>"
      ],
      "text/plain": [
       "<IPython.core.display.HTML object>"
      ]
     },
     "metadata": {},
     "output_type": "display_data"
    },
    {
     "data": {
      "text/html": [
       "<span style=\"color:#7E57C2\"><h2 style=\"font-size:16px\">Hyperparameters:</h2></span>"
      ],
      "text/plain": [
       "<IPython.core.display.HTML object>"
      ]
     },
     "metadata": {},
     "output_type": "display_data"
    },
    {
     "data": {
      "text/html": [
       "<span style=\"color:cyan\"> |-activation: relu</span>"
      ],
      "text/plain": [
       "<IPython.core.display.HTML object>"
      ]
     },
     "metadata": {},
     "output_type": "display_data"
    },
    {
     "data": {
      "text/html": [
       "<span style=\"color:blue\"> |-first_units: 6</span>"
      ],
      "text/plain": [
       "<IPython.core.display.HTML object>"
      ]
     },
     "metadata": {},
     "output_type": "display_data"
    },
    {
     "data": {
      "text/html": [
       "<span style=\"color:cyan\"> |-num_layers: 4</span>"
      ],
      "text/plain": [
       "<IPython.core.display.HTML object>"
      ]
     },
     "metadata": {},
     "output_type": "display_data"
    },
    {
     "data": {
      "text/html": [
       "<span style=\"color:blue\"> |-tuner/bracket: 2</span>"
      ],
      "text/plain": [
       "<IPython.core.display.HTML object>"
      ]
     },
     "metadata": {},
     "output_type": "display_data"
    },
    {
     "data": {
      "text/html": [
       "<span style=\"color:cyan\"> |-tuner/epochs: 3</span>"
      ],
      "text/plain": [
       "<IPython.core.display.HTML object>"
      ]
     },
     "metadata": {},
     "output_type": "display_data"
    },
    {
     "data": {
      "text/html": [
       "<span style=\"color:blue\"> |-tuner/initial_epoch: 0</span>"
      ],
      "text/plain": [
       "<IPython.core.display.HTML object>"
      ]
     },
     "metadata": {},
     "output_type": "display_data"
    },
    {
     "data": {
      "text/html": [
       "<span style=\"color:cyan\"> |-tuner/round: 0</span>"
      ],
      "text/plain": [
       "<IPython.core.display.HTML object>"
      ]
     },
     "metadata": {},
     "output_type": "display_data"
    },
    {
     "data": {
      "text/html": [
       "<span style=\"color:blue\"> |-units_0: 6</span>"
      ],
      "text/plain": [
       "<IPython.core.display.HTML object>"
      ]
     },
     "metadata": {},
     "output_type": "display_data"
    },
    {
     "data": {
      "text/html": [
       "<span style=\"color:cyan\"> |-units_1: 21</span>"
      ],
      "text/plain": [
       "<IPython.core.display.HTML object>"
      ]
     },
     "metadata": {},
     "output_type": "display_data"
    },
    {
     "data": {
      "text/html": [
       "<span style=\"color:blue\"> |-units_2: 26</span>"
      ],
      "text/plain": [
       "<IPython.core.display.HTML object>"
      ]
     },
     "metadata": {},
     "output_type": "display_data"
    },
    {
     "data": {
      "text/html": [
       "<span style=\"color:cyan\"> |-units_3: 16</span>"
      ],
      "text/plain": [
       "<IPython.core.display.HTML object>"
      ]
     },
     "metadata": {},
     "output_type": "display_data"
    },
    {
     "data": {
      "text/html": [
       "<span style=\"color:blue\"> |-units_4: 11</span>"
      ],
      "text/plain": [
       "<IPython.core.display.HTML object>"
      ]
     },
     "metadata": {},
     "output_type": "display_data"
    },
    {
     "name": "stdout",
     "output_type": "stream",
     "text": [
      "Train on 750 samples, validate on 250 samples\n",
      "Epoch 1/3\n",
      "750/750 [==============================] - ETA: 19s - loss: 0.6935 - accuracy: 0.437 - 1s 2ms/sample - loss: 0.6933 - accuracy: 0.4867 - val_loss: 0.6937 - val_accuracy: 0.4080\n",
      "Epoch 2/3\n",
      "750/750 [==============================] - ETA: 0s - loss: 0.6925 - accuracy: 0.62 - 0s 114us/sample - loss: 0.6929 - accuracy: 0.5307 - val_loss: 0.6945 - val_accuracy: 0.4080\n",
      "Epoch 3/3\n",
      "750/750 [==============================] - ETA: 0s - loss: 0.6927 - accuracy: 0.53 - 0s 115us/sample - loss: 0.6927 - accuracy: 0.5307 - val_loss: 0.6951 - val_accuracy: 0.4080\n"
     ]
    },
    {
     "data": {
      "text/html": [
       "<span style=\"color:#4527A0\"><h1 style=\"font-size:18px\">Trial complete</h1></span>"
      ],
      "text/plain": [
       "<IPython.core.display.HTML object>"
      ]
     },
     "metadata": {},
     "output_type": "display_data"
    },
    {
     "data": {
      "text/html": [
       "<span style=\"color:#4527A0\"><h1 style=\"font-size:18px\">Trial summary</h1></span>"
      ],
      "text/plain": [
       "<IPython.core.display.HTML object>"
      ]
     },
     "metadata": {},
     "output_type": "display_data"
    },
    {
     "data": {
      "text/html": [
       "<span style=\"color:cyan\"> |-Trial ID: d58f595e4dd76d5cc37f21eeade78a5a</span>"
      ],
      "text/plain": [
       "<IPython.core.display.HTML object>"
      ]
     },
     "metadata": {},
     "output_type": "display_data"
    },
    {
     "data": {
      "text/html": [
       "<span style=\"color:cyan\"> |-Score: 0.40799999237060547</span>"
      ],
      "text/plain": [
       "<IPython.core.display.HTML object>"
      ]
     },
     "metadata": {},
     "output_type": "display_data"
    },
    {
     "data": {
      "text/html": [
       "<span style=\"color:cyan\"> |-Best step: 0</span>"
      ],
      "text/plain": [
       "<IPython.core.display.HTML object>"
      ]
     },
     "metadata": {},
     "output_type": "display_data"
    },
    {
     "data": {
      "text/html": [
       "<span style=\"color:#7E57C2\"><h2 style=\"font-size:16px\">Hyperparameters:</h2></span>"
      ],
      "text/plain": [
       "<IPython.core.display.HTML object>"
      ]
     },
     "metadata": {},
     "output_type": "display_data"
    },
    {
     "data": {
      "text/html": [
       "<span style=\"color:cyan\"> |-activation: relu</span>"
      ],
      "text/plain": [
       "<IPython.core.display.HTML object>"
      ]
     },
     "metadata": {},
     "output_type": "display_data"
    },
    {
     "data": {
      "text/html": [
       "<span style=\"color:blue\"> |-first_units: 16</span>"
      ],
      "text/plain": [
       "<IPython.core.display.HTML object>"
      ]
     },
     "metadata": {},
     "output_type": "display_data"
    },
    {
     "data": {
      "text/html": [
       "<span style=\"color:cyan\"> |-num_layers: 4</span>"
      ],
      "text/plain": [
       "<IPython.core.display.HTML object>"
      ]
     },
     "metadata": {},
     "output_type": "display_data"
    },
    {
     "data": {
      "text/html": [
       "<span style=\"color:blue\"> |-tuner/bracket: 2</span>"
      ],
      "text/plain": [
       "<IPython.core.display.HTML object>"
      ]
     },
     "metadata": {},
     "output_type": "display_data"
    },
    {
     "data": {
      "text/html": [
       "<span style=\"color:cyan\"> |-tuner/epochs: 3</span>"
      ],
      "text/plain": [
       "<IPython.core.display.HTML object>"
      ]
     },
     "metadata": {},
     "output_type": "display_data"
    },
    {
     "data": {
      "text/html": [
       "<span style=\"color:blue\"> |-tuner/initial_epoch: 0</span>"
      ],
      "text/plain": [
       "<IPython.core.display.HTML object>"
      ]
     },
     "metadata": {},
     "output_type": "display_data"
    },
    {
     "data": {
      "text/html": [
       "<span style=\"color:cyan\"> |-tuner/round: 0</span>"
      ],
      "text/plain": [
       "<IPython.core.display.HTML object>"
      ]
     },
     "metadata": {},
     "output_type": "display_data"
    },
    {
     "data": {
      "text/html": [
       "<span style=\"color:blue\"> |-units_0: 21</span>"
      ],
      "text/plain": [
       "<IPython.core.display.HTML object>"
      ]
     },
     "metadata": {},
     "output_type": "display_data"
    },
    {
     "data": {
      "text/html": [
       "<span style=\"color:cyan\"> |-units_1: 21</span>"
      ],
      "text/plain": [
       "<IPython.core.display.HTML object>"
      ]
     },
     "metadata": {},
     "output_type": "display_data"
    },
    {
     "data": {
      "text/html": [
       "<span style=\"color:blue\"> |-units_2: 1</span>"
      ],
      "text/plain": [
       "<IPython.core.display.HTML object>"
      ]
     },
     "metadata": {},
     "output_type": "display_data"
    },
    {
     "data": {
      "text/html": [
       "<span style=\"color:cyan\"> |-units_3: 1</span>"
      ],
      "text/plain": [
       "<IPython.core.display.HTML object>"
      ]
     },
     "metadata": {},
     "output_type": "display_data"
    },
    {
     "data": {
      "text/html": [
       "<span style=\"color:blue\"> |-units_4: 1</span>"
      ],
      "text/plain": [
       "<IPython.core.display.HTML object>"
      ]
     },
     "metadata": {},
     "output_type": "display_data"
    },
    {
     "name": "stdout",
     "output_type": "stream",
     "text": [
      "Train on 750 samples, validate on 250 samples\n",
      "Epoch 1/3\n",
      "750/750 [==============================] - ETA: 13s - loss: 0.7746 - accuracy: 0.312 - 1s 1ms/sample - loss: 0.7092 - accuracy: 0.4960 - val_loss: 0.7185 - val_accuracy: 0.4520\n",
      "Epoch 2/3\n",
      "750/750 [==============================] - ETA: 0s - loss: 0.7324 - accuracy: 0.40 - 0s 105us/sample - loss: 0.6955 - accuracy: 0.5053 - val_loss: 0.7105 - val_accuracy: 0.4280\n",
      "Epoch 3/3\n",
      "750/750 [==============================] - ETA: 0s - loss: 0.6753 - accuracy: 0.62 - 0s 101us/sample - loss: 0.6928 - accuracy: 0.5027 - val_loss: 0.7083 - val_accuracy: 0.4240\n"
     ]
    },
    {
     "data": {
      "text/html": [
       "<span style=\"color:#4527A0\"><h1 style=\"font-size:18px\">Trial complete</h1></span>"
      ],
      "text/plain": [
       "<IPython.core.display.HTML object>"
      ]
     },
     "metadata": {},
     "output_type": "display_data"
    },
    {
     "data": {
      "text/html": [
       "<span style=\"color:#4527A0\"><h1 style=\"font-size:18px\">Trial summary</h1></span>"
      ],
      "text/plain": [
       "<IPython.core.display.HTML object>"
      ]
     },
     "metadata": {},
     "output_type": "display_data"
    },
    {
     "data": {
      "text/html": [
       "<span style=\"color:cyan\"> |-Trial ID: 2c0e99c73458e5eb1caa8c8612454dd0</span>"
      ],
      "text/plain": [
       "<IPython.core.display.HTML object>"
      ]
     },
     "metadata": {},
     "output_type": "display_data"
    },
    {
     "data": {
      "text/html": [
       "<span style=\"color:cyan\"> |-Score: 0.4519999921321869</span>"
      ],
      "text/plain": [
       "<IPython.core.display.HTML object>"
      ]
     },
     "metadata": {},
     "output_type": "display_data"
    },
    {
     "data": {
      "text/html": [
       "<span style=\"color:cyan\"> |-Best step: 0</span>"
      ],
      "text/plain": [
       "<IPython.core.display.HTML object>"
      ]
     },
     "metadata": {},
     "output_type": "display_data"
    },
    {
     "data": {
      "text/html": [
       "<span style=\"color:#7E57C2\"><h2 style=\"font-size:16px\">Hyperparameters:</h2></span>"
      ],
      "text/plain": [
       "<IPython.core.display.HTML object>"
      ]
     },
     "metadata": {},
     "output_type": "display_data"
    },
    {
     "data": {
      "text/html": [
       "<span style=\"color:cyan\"> |-activation: tanh</span>"
      ],
      "text/plain": [
       "<IPython.core.display.HTML object>"
      ]
     },
     "metadata": {},
     "output_type": "display_data"
    },
    {
     "data": {
      "text/html": [
       "<span style=\"color:blue\"> |-first_units: 6</span>"
      ],
      "text/plain": [
       "<IPython.core.display.HTML object>"
      ]
     },
     "metadata": {},
     "output_type": "display_data"
    },
    {
     "data": {
      "text/html": [
       "<span style=\"color:cyan\"> |-num_layers: 1</span>"
      ],
      "text/plain": [
       "<IPython.core.display.HTML object>"
      ]
     },
     "metadata": {},
     "output_type": "display_data"
    },
    {
     "data": {
      "text/html": [
       "<span style=\"color:blue\"> |-tuner/bracket: 2</span>"
      ],
      "text/plain": [
       "<IPython.core.display.HTML object>"
      ]
     },
     "metadata": {},
     "output_type": "display_data"
    },
    {
     "data": {
      "text/html": [
       "<span style=\"color:cyan\"> |-tuner/epochs: 3</span>"
      ],
      "text/plain": [
       "<IPython.core.display.HTML object>"
      ]
     },
     "metadata": {},
     "output_type": "display_data"
    },
    {
     "data": {
      "text/html": [
       "<span style=\"color:blue\"> |-tuner/initial_epoch: 0</span>"
      ],
      "text/plain": [
       "<IPython.core.display.HTML object>"
      ]
     },
     "metadata": {},
     "output_type": "display_data"
    },
    {
     "data": {
      "text/html": [
       "<span style=\"color:cyan\"> |-tuner/round: 0</span>"
      ],
      "text/plain": [
       "<IPython.core.display.HTML object>"
      ]
     },
     "metadata": {},
     "output_type": "display_data"
    },
    {
     "data": {
      "text/html": [
       "<span style=\"color:blue\"> |-units_0: 21</span>"
      ],
      "text/plain": [
       "<IPython.core.display.HTML object>"
      ]
     },
     "metadata": {},
     "output_type": "display_data"
    },
    {
     "data": {
      "text/html": [
       "<span style=\"color:cyan\"> |-units_1: 21</span>"
      ],
      "text/plain": [
       "<IPython.core.display.HTML object>"
      ]
     },
     "metadata": {},
     "output_type": "display_data"
    },
    {
     "data": {
      "text/html": [
       "<span style=\"color:blue\"> |-units_2: 26</span>"
      ],
      "text/plain": [
       "<IPython.core.display.HTML object>"
      ]
     },
     "metadata": {},
     "output_type": "display_data"
    },
    {
     "data": {
      "text/html": [
       "<span style=\"color:cyan\"> |-units_3: 21</span>"
      ],
      "text/plain": [
       "<IPython.core.display.HTML object>"
      ]
     },
     "metadata": {},
     "output_type": "display_data"
    },
    {
     "data": {
      "text/html": [
       "<span style=\"color:blue\"> |-units_4: 6</span>"
      ],
      "text/plain": [
       "<IPython.core.display.HTML object>"
      ]
     },
     "metadata": {},
     "output_type": "display_data"
    },
    {
     "name": "stdout",
     "output_type": "stream",
     "text": [
      "Train on 750 samples, validate on 250 samples\n",
      "Epoch 1/3\n",
      "750/750 [==============================] - ETA: 19s - loss: 0.6797 - accuracy: 0.656 - 1s 2ms/sample - loss: 0.6937 - accuracy: 0.5013 - val_loss: 0.6968 - val_accuracy: 0.4760\n",
      "Epoch 2/3\n",
      "750/750 [==============================] - ETA: 0s - loss: 0.6865 - accuracy: 0.56 - 0s 122us/sample - loss: 0.6922 - accuracy: 0.5053 - val_loss: 0.7005 - val_accuracy: 0.3920\n",
      "Epoch 3/3\n",
      "750/750 [==============================] - ETA: 0s - loss: 0.6888 - accuracy: 0.53 - 0s 103us/sample - loss: 0.6915 - accuracy: 0.5040 - val_loss: 0.7030 - val_accuracy: 0.4040\n"
     ]
    },
    {
     "data": {
      "text/html": [
       "<span style=\"color:#4527A0\"><h1 style=\"font-size:18px\">Trial complete</h1></span>"
      ],
      "text/plain": [
       "<IPython.core.display.HTML object>"
      ]
     },
     "metadata": {},
     "output_type": "display_data"
    },
    {
     "data": {
      "text/html": [
       "<span style=\"color:#4527A0\"><h1 style=\"font-size:18px\">Trial summary</h1></span>"
      ],
      "text/plain": [
       "<IPython.core.display.HTML object>"
      ]
     },
     "metadata": {},
     "output_type": "display_data"
    },
    {
     "data": {
      "text/html": [
       "<span style=\"color:cyan\"> |-Trial ID: aa39faffb6d28e6b4cce6cdc4e8a9613</span>"
      ],
      "text/plain": [
       "<IPython.core.display.HTML object>"
      ]
     },
     "metadata": {},
     "output_type": "display_data"
    },
    {
     "data": {
      "text/html": [
       "<span style=\"color:cyan\"> |-Score: 0.47600001096725464</span>"
      ],
      "text/plain": [
       "<IPython.core.display.HTML object>"
      ]
     },
     "metadata": {},
     "output_type": "display_data"
    },
    {
     "data": {
      "text/html": [
       "<span style=\"color:cyan\"> |-Best step: 0</span>"
      ],
      "text/plain": [
       "<IPython.core.display.HTML object>"
      ]
     },
     "metadata": {},
     "output_type": "display_data"
    },
    {
     "data": {
      "text/html": [
       "<span style=\"color:#7E57C2\"><h2 style=\"font-size:16px\">Hyperparameters:</h2></span>"
      ],
      "text/plain": [
       "<IPython.core.display.HTML object>"
      ]
     },
     "metadata": {},
     "output_type": "display_data"
    },
    {
     "data": {
      "text/html": [
       "<span style=\"color:cyan\"> |-activation: tanh</span>"
      ],
      "text/plain": [
       "<IPython.core.display.HTML object>"
      ]
     },
     "metadata": {},
     "output_type": "display_data"
    },
    {
     "data": {
      "text/html": [
       "<span style=\"color:blue\"> |-first_units: 6</span>"
      ],
      "text/plain": [
       "<IPython.core.display.HTML object>"
      ]
     },
     "metadata": {},
     "output_type": "display_data"
    },
    {
     "data": {
      "text/html": [
       "<span style=\"color:cyan\"> |-num_layers: 4</span>"
      ],
      "text/plain": [
       "<IPython.core.display.HTML object>"
      ]
     },
     "metadata": {},
     "output_type": "display_data"
    },
    {
     "data": {
      "text/html": [
       "<span style=\"color:blue\"> |-tuner/bracket: 2</span>"
      ],
      "text/plain": [
       "<IPython.core.display.HTML object>"
      ]
     },
     "metadata": {},
     "output_type": "display_data"
    },
    {
     "data": {
      "text/html": [
       "<span style=\"color:cyan\"> |-tuner/epochs: 3</span>"
      ],
      "text/plain": [
       "<IPython.core.display.HTML object>"
      ]
     },
     "metadata": {},
     "output_type": "display_data"
    },
    {
     "data": {
      "text/html": [
       "<span style=\"color:blue\"> |-tuner/initial_epoch: 0</span>"
      ],
      "text/plain": [
       "<IPython.core.display.HTML object>"
      ]
     },
     "metadata": {},
     "output_type": "display_data"
    },
    {
     "data": {
      "text/html": [
       "<span style=\"color:cyan\"> |-tuner/round: 0</span>"
      ],
      "text/plain": [
       "<IPython.core.display.HTML object>"
      ]
     },
     "metadata": {},
     "output_type": "display_data"
    },
    {
     "data": {
      "text/html": [
       "<span style=\"color:blue\"> |-units_0: 26</span>"
      ],
      "text/plain": [
       "<IPython.core.display.HTML object>"
      ]
     },
     "metadata": {},
     "output_type": "display_data"
    },
    {
     "data": {
      "text/html": [
       "<span style=\"color:cyan\"> |-units_1: 16</span>"
      ],
      "text/plain": [
       "<IPython.core.display.HTML object>"
      ]
     },
     "metadata": {},
     "output_type": "display_data"
    },
    {
     "data": {
      "text/html": [
       "<span style=\"color:blue\"> |-units_2: 1</span>"
      ],
      "text/plain": [
       "<IPython.core.display.HTML object>"
      ]
     },
     "metadata": {},
     "output_type": "display_data"
    },
    {
     "data": {
      "text/html": [
       "<span style=\"color:cyan\"> |-units_3: 6</span>"
      ],
      "text/plain": [
       "<IPython.core.display.HTML object>"
      ]
     },
     "metadata": {},
     "output_type": "display_data"
    },
    {
     "data": {
      "text/html": [
       "<span style=\"color:blue\"> |-units_4: 6</span>"
      ],
      "text/plain": [
       "<IPython.core.display.HTML object>"
      ]
     },
     "metadata": {},
     "output_type": "display_data"
    },
    {
     "name": "stdout",
     "output_type": "stream",
     "text": [
      "Train on 750 samples, validate on 250 samples\n",
      "Epoch 1/3\n",
      "750/750 [==============================] - ETA: 16s - loss: 0.6911 - accuracy: 0.500 - 1s 1ms/sample - loss: 0.6956 - accuracy: 0.4933 - val_loss: 0.7002 - val_accuracy: 0.3960\n",
      "Epoch 2/3\n",
      "750/750 [==============================] - ETA: 0s - loss: 0.7009 - accuracy: 0.40 - 0s 106us/sample - loss: 0.6925 - accuracy: 0.5107 - val_loss: 0.7024 - val_accuracy: 0.3920\n",
      "Epoch 3/3\n",
      "750/750 [==============================] - ETA: 0s - loss: 0.6940 - accuracy: 0.50 - 0s 134us/sample - loss: 0.6919 - accuracy: 0.5200 - val_loss: 0.7052 - val_accuracy: 0.4120\n"
     ]
    },
    {
     "data": {
      "text/html": [
       "<span style=\"color:#4527A0\"><h1 style=\"font-size:18px\">Trial complete</h1></span>"
      ],
      "text/plain": [
       "<IPython.core.display.HTML object>"
      ]
     },
     "metadata": {},
     "output_type": "display_data"
    },
    {
     "data": {
      "text/html": [
       "<span style=\"color:#4527A0\"><h1 style=\"font-size:18px\">Trial summary</h1></span>"
      ],
      "text/plain": [
       "<IPython.core.display.HTML object>"
      ]
     },
     "metadata": {},
     "output_type": "display_data"
    },
    {
     "data": {
      "text/html": [
       "<span style=\"color:cyan\"> |-Trial ID: ded386deed86669ac2431951082d5980</span>"
      ],
      "text/plain": [
       "<IPython.core.display.HTML object>"
      ]
     },
     "metadata": {},
     "output_type": "display_data"
    },
    {
     "data": {
      "text/html": [
       "<span style=\"color:cyan\"> |-Score: 0.41200000047683716</span>"
      ],
      "text/plain": [
       "<IPython.core.display.HTML object>"
      ]
     },
     "metadata": {},
     "output_type": "display_data"
    },
    {
     "data": {
      "text/html": [
       "<span style=\"color:cyan\"> |-Best step: 0</span>"
      ],
      "text/plain": [
       "<IPython.core.display.HTML object>"
      ]
     },
     "metadata": {},
     "output_type": "display_data"
    },
    {
     "data": {
      "text/html": [
       "<span style=\"color:#7E57C2\"><h2 style=\"font-size:16px\">Hyperparameters:</h2></span>"
      ],
      "text/plain": [
       "<IPython.core.display.HTML object>"
      ]
     },
     "metadata": {},
     "output_type": "display_data"
    },
    {
     "data": {
      "text/html": [
       "<span style=\"color:cyan\"> |-activation: tanh</span>"
      ],
      "text/plain": [
       "<IPython.core.display.HTML object>"
      ]
     },
     "metadata": {},
     "output_type": "display_data"
    },
    {
     "data": {
      "text/html": [
       "<span style=\"color:blue\"> |-first_units: 11</span>"
      ],
      "text/plain": [
       "<IPython.core.display.HTML object>"
      ]
     },
     "metadata": {},
     "output_type": "display_data"
    },
    {
     "data": {
      "text/html": [
       "<span style=\"color:cyan\"> |-num_layers: 3</span>"
      ],
      "text/plain": [
       "<IPython.core.display.HTML object>"
      ]
     },
     "metadata": {},
     "output_type": "display_data"
    },
    {
     "data": {
      "text/html": [
       "<span style=\"color:blue\"> |-tuner/bracket: 2</span>"
      ],
      "text/plain": [
       "<IPython.core.display.HTML object>"
      ]
     },
     "metadata": {},
     "output_type": "display_data"
    },
    {
     "data": {
      "text/html": [
       "<span style=\"color:cyan\"> |-tuner/epochs: 3</span>"
      ],
      "text/plain": [
       "<IPython.core.display.HTML object>"
      ]
     },
     "metadata": {},
     "output_type": "display_data"
    },
    {
     "data": {
      "text/html": [
       "<span style=\"color:blue\"> |-tuner/initial_epoch: 0</span>"
      ],
      "text/plain": [
       "<IPython.core.display.HTML object>"
      ]
     },
     "metadata": {},
     "output_type": "display_data"
    },
    {
     "data": {
      "text/html": [
       "<span style=\"color:cyan\"> |-tuner/round: 0</span>"
      ],
      "text/plain": [
       "<IPython.core.display.HTML object>"
      ]
     },
     "metadata": {},
     "output_type": "display_data"
    },
    {
     "data": {
      "text/html": [
       "<span style=\"color:blue\"> |-units_0: 21</span>"
      ],
      "text/plain": [
       "<IPython.core.display.HTML object>"
      ]
     },
     "metadata": {},
     "output_type": "display_data"
    },
    {
     "data": {
      "text/html": [
       "<span style=\"color:cyan\"> |-units_1: 1</span>"
      ],
      "text/plain": [
       "<IPython.core.display.HTML object>"
      ]
     },
     "metadata": {},
     "output_type": "display_data"
    },
    {
     "data": {
      "text/html": [
       "<span style=\"color:blue\"> |-units_2: 1</span>"
      ],
      "text/plain": [
       "<IPython.core.display.HTML object>"
      ]
     },
     "metadata": {},
     "output_type": "display_data"
    },
    {
     "data": {
      "text/html": [
       "<span style=\"color:cyan\"> |-units_3: 11</span>"
      ],
      "text/plain": [
       "<IPython.core.display.HTML object>"
      ]
     },
     "metadata": {},
     "output_type": "display_data"
    },
    {
     "data": {
      "text/html": [
       "<span style=\"color:blue\"> |-units_4: 16</span>"
      ],
      "text/plain": [
       "<IPython.core.display.HTML object>"
      ]
     },
     "metadata": {},
     "output_type": "display_data"
    },
    {
     "name": "stdout",
     "output_type": "stream",
     "text": [
      "Train on 750 samples, validate on 250 samples\n",
      "Epoch 1/3\n",
      "750/750 [==============================] - ETA: 18s - loss: 0.7132 - accuracy: 0.437 - 1s 1ms/sample - loss: 0.6975 - accuracy: 0.4813 - val_loss: 0.6992 - val_accuracy: 0.3960\n",
      "Epoch 2/3\n",
      "750/750 [==============================] - ETA: 0s - loss: 0.6883 - accuracy: 0.37 - 0s 159us/sample - loss: 0.6885 - accuracy: 0.5227 - val_loss: 0.7034 - val_accuracy: 0.4080\n",
      "Epoch 3/3\n",
      "750/750 [==============================] - ETA: 0s - loss: 0.6952 - accuracy: 0.40 - 0s 124us/sample - loss: 0.6859 - accuracy: 0.5307 - val_loss: 0.7065 - val_accuracy: 0.4080\n"
     ]
    },
    {
     "data": {
      "text/html": [
       "<span style=\"color:#4527A0\"><h1 style=\"font-size:18px\">Trial complete</h1></span>"
      ],
      "text/plain": [
       "<IPython.core.display.HTML object>"
      ]
     },
     "metadata": {},
     "output_type": "display_data"
    },
    {
     "data": {
      "text/html": [
       "<span style=\"color:#4527A0\"><h1 style=\"font-size:18px\">Trial summary</h1></span>"
      ],
      "text/plain": [
       "<IPython.core.display.HTML object>"
      ]
     },
     "metadata": {},
     "output_type": "display_data"
    },
    {
     "data": {
      "text/html": [
       "<span style=\"color:cyan\"> |-Trial ID: 2e4d0427c5eb6a03c00e1d187c01ceab</span>"
      ],
      "text/plain": [
       "<IPython.core.display.HTML object>"
      ]
     },
     "metadata": {},
     "output_type": "display_data"
    },
    {
     "data": {
      "text/html": [
       "<span style=\"color:cyan\"> |-Score: 0.40799999237060547</span>"
      ],
      "text/plain": [
       "<IPython.core.display.HTML object>"
      ]
     },
     "metadata": {},
     "output_type": "display_data"
    },
    {
     "data": {
      "text/html": [
       "<span style=\"color:cyan\"> |-Best step: 0</span>"
      ],
      "text/plain": [
       "<IPython.core.display.HTML object>"
      ]
     },
     "metadata": {},
     "output_type": "display_data"
    },
    {
     "data": {
      "text/html": [
       "<span style=\"color:#7E57C2\"><h2 style=\"font-size:16px\">Hyperparameters:</h2></span>"
      ],
      "text/plain": [
       "<IPython.core.display.HTML object>"
      ]
     },
     "metadata": {},
     "output_type": "display_data"
    },
    {
     "data": {
      "text/html": [
       "<span style=\"color:cyan\"> |-activation: relu</span>"
      ],
      "text/plain": [
       "<IPython.core.display.HTML object>"
      ]
     },
     "metadata": {},
     "output_type": "display_data"
    },
    {
     "data": {
      "text/html": [
       "<span style=\"color:blue\"> |-first_units: 21</span>"
      ],
      "text/plain": [
       "<IPython.core.display.HTML object>"
      ]
     },
     "metadata": {},
     "output_type": "display_data"
    },
    {
     "data": {
      "text/html": [
       "<span style=\"color:cyan\"> |-num_layers: 3</span>"
      ],
      "text/plain": [
       "<IPython.core.display.HTML object>"
      ]
     },
     "metadata": {},
     "output_type": "display_data"
    },
    {
     "data": {
      "text/html": [
       "<span style=\"color:blue\"> |-tuner/bracket: 2</span>"
      ],
      "text/plain": [
       "<IPython.core.display.HTML object>"
      ]
     },
     "metadata": {},
     "output_type": "display_data"
    },
    {
     "data": {
      "text/html": [
       "<span style=\"color:cyan\"> |-tuner/epochs: 3</span>"
      ],
      "text/plain": [
       "<IPython.core.display.HTML object>"
      ]
     },
     "metadata": {},
     "output_type": "display_data"
    },
    {
     "data": {
      "text/html": [
       "<span style=\"color:blue\"> |-tuner/initial_epoch: 0</span>"
      ],
      "text/plain": [
       "<IPython.core.display.HTML object>"
      ]
     },
     "metadata": {},
     "output_type": "display_data"
    },
    {
     "data": {
      "text/html": [
       "<span style=\"color:cyan\"> |-tuner/round: 0</span>"
      ],
      "text/plain": [
       "<IPython.core.display.HTML object>"
      ]
     },
     "metadata": {},
     "output_type": "display_data"
    },
    {
     "data": {
      "text/html": [
       "<span style=\"color:blue\"> |-units_0: 11</span>"
      ],
      "text/plain": [
       "<IPython.core.display.HTML object>"
      ]
     },
     "metadata": {},
     "output_type": "display_data"
    },
    {
     "data": {
      "text/html": [
       "<span style=\"color:cyan\"> |-units_1: 26</span>"
      ],
      "text/plain": [
       "<IPython.core.display.HTML object>"
      ]
     },
     "metadata": {},
     "output_type": "display_data"
    },
    {
     "data": {
      "text/html": [
       "<span style=\"color:blue\"> |-units_2: 11</span>"
      ],
      "text/plain": [
       "<IPython.core.display.HTML object>"
      ]
     },
     "metadata": {},
     "output_type": "display_data"
    },
    {
     "data": {
      "text/html": [
       "<span style=\"color:cyan\"> |-units_3: 26</span>"
      ],
      "text/plain": [
       "<IPython.core.display.HTML object>"
      ]
     },
     "metadata": {},
     "output_type": "display_data"
    },
    {
     "data": {
      "text/html": [
       "<span style=\"color:blue\"> |-units_4: 6</span>"
      ],
      "text/plain": [
       "<IPython.core.display.HTML object>"
      ]
     },
     "metadata": {},
     "output_type": "display_data"
    },
    {
     "name": "stdout",
     "output_type": "stream",
     "text": [
      "Train on 750 samples, validate on 250 samples\n",
      "Epoch 4/7\n",
      "750/750 [==============================] - ETA: 14s - loss: 0.7962 - accuracy: 0.468 - 1s 1ms/sample - loss: 0.7348 - accuracy: 0.4880 - val_loss: 0.6966 - val_accuracy: 0.5280\n",
      "Epoch 5/7\n",
      "750/750 [==============================] - ETA: 0s - loss: 0.7335 - accuracy: 0.50 - 0s 110us/sample - loss: 0.7050 - accuracy: 0.4920 - val_loss: 0.6980 - val_accuracy: 0.4840\n",
      "Epoch 6/7\n",
      "750/750 [==============================] - ETA: 0s - loss: 0.6990 - accuracy: 0.43 - 0s 129us/sample - loss: 0.6951 - accuracy: 0.5080 - val_loss: 0.7015 - val_accuracy: 0.4560\n",
      "Epoch 7/7\n",
      "750/750 [==============================] - ETA: 0s - loss: 0.6882 - accuracy: 0.56 - 0s 122us/sample - loss: 0.6928 - accuracy: 0.4920 - val_loss: 0.7098 - val_accuracy: 0.4280\n"
     ]
    },
    {
     "data": {
      "text/html": [
       "<span style=\"color:#4527A0\"><h1 style=\"font-size:18px\">Trial complete</h1></span>"
      ],
      "text/plain": [
       "<IPython.core.display.HTML object>"
      ]
     },
     "metadata": {},
     "output_type": "display_data"
    },
    {
     "data": {
      "text/html": [
       "<span style=\"color:#4527A0\"><h1 style=\"font-size:18px\">Trial summary</h1></span>"
      ],
      "text/plain": [
       "<IPython.core.display.HTML object>"
      ]
     },
     "metadata": {},
     "output_type": "display_data"
    },
    {
     "data": {
      "text/html": [
       "<span style=\"color:cyan\"> |-Trial ID: f1d6339bcfcb9e851c902a98b2100e4a</span>"
      ],
      "text/plain": [
       "<IPython.core.display.HTML object>"
      ]
     },
     "metadata": {},
     "output_type": "display_data"
    },
    {
     "data": {
      "text/html": [
       "<span style=\"color:cyan\"> |-Score: 0.527999997138977</span>"
      ],
      "text/plain": [
       "<IPython.core.display.HTML object>"
      ]
     },
     "metadata": {},
     "output_type": "display_data"
    },
    {
     "data": {
      "text/html": [
       "<span style=\"color:cyan\"> |-Best step: 0</span>"
      ],
      "text/plain": [
       "<IPython.core.display.HTML object>"
      ]
     },
     "metadata": {},
     "output_type": "display_data"
    },
    {
     "data": {
      "text/html": [
       "<span style=\"color:#7E57C2\"><h2 style=\"font-size:16px\">Hyperparameters:</h2></span>"
      ],
      "text/plain": [
       "<IPython.core.display.HTML object>"
      ]
     },
     "metadata": {},
     "output_type": "display_data"
    },
    {
     "data": {
      "text/html": [
       "<span style=\"color:cyan\"> |-activation: tanh</span>"
      ],
      "text/plain": [
       "<IPython.core.display.HTML object>"
      ]
     },
     "metadata": {},
     "output_type": "display_data"
    },
    {
     "data": {
      "text/html": [
       "<span style=\"color:blue\"> |-first_units: 6</span>"
      ],
      "text/plain": [
       "<IPython.core.display.HTML object>"
      ]
     },
     "metadata": {},
     "output_type": "display_data"
    },
    {
     "data": {
      "text/html": [
       "<span style=\"color:cyan\"> |-num_layers: 2</span>"
      ],
      "text/plain": [
       "<IPython.core.display.HTML object>"
      ]
     },
     "metadata": {},
     "output_type": "display_data"
    },
    {
     "data": {
      "text/html": [
       "<span style=\"color:blue\"> |-tuner/bracket: 2</span>"
      ],
      "text/plain": [
       "<IPython.core.display.HTML object>"
      ]
     },
     "metadata": {},
     "output_type": "display_data"
    },
    {
     "data": {
      "text/html": [
       "<span style=\"color:cyan\"> |-tuner/epochs: 7</span>"
      ],
      "text/plain": [
       "<IPython.core.display.HTML object>"
      ]
     },
     "metadata": {},
     "output_type": "display_data"
    },
    {
     "data": {
      "text/html": [
       "<span style=\"color:blue\"> |-tuner/initial_epoch: 3</span>"
      ],
      "text/plain": [
       "<IPython.core.display.HTML object>"
      ]
     },
     "metadata": {},
     "output_type": "display_data"
    },
    {
     "data": {
      "text/html": [
       "<span style=\"color:cyan\"> |-tuner/round: 1</span>"
      ],
      "text/plain": [
       "<IPython.core.display.HTML object>"
      ]
     },
     "metadata": {},
     "output_type": "display_data"
    },
    {
     "data": {
      "text/html": [
       "<span style=\"color:blue\"> |-tuner/trial_id: ffed5dd45b143f44b097b8ed138e4a8a</span>"
      ],
      "text/plain": [
       "<IPython.core.display.HTML object>"
      ]
     },
     "metadata": {},
     "output_type": "display_data"
    },
    {
     "data": {
      "text/html": [
       "<span style=\"color:cyan\"> |-units_0: 11</span>"
      ],
      "text/plain": [
       "<IPython.core.display.HTML object>"
      ]
     },
     "metadata": {},
     "output_type": "display_data"
    },
    {
     "data": {
      "text/html": [
       "<span style=\"color:blue\"> |-units_1: 11</span>"
      ],
      "text/plain": [
       "<IPython.core.display.HTML object>"
      ]
     },
     "metadata": {},
     "output_type": "display_data"
    },
    {
     "data": {
      "text/html": [
       "<span style=\"color:cyan\"> |-units_2: 16</span>"
      ],
      "text/plain": [
       "<IPython.core.display.HTML object>"
      ]
     },
     "metadata": {},
     "output_type": "display_data"
    },
    {
     "name": "stdout",
     "output_type": "stream",
     "text": [
      "Train on 750 samples, validate on 250 samples\n",
      "Epoch 4/7\n",
      "750/750 [==============================] - ETA: 18s - loss: 0.6917 - accuracy: 0.562 - 1s 1ms/sample - loss: 0.6977 - accuracy: 0.5013 - val_loss: 0.7018 - val_accuracy: 0.4960\n",
      "Epoch 5/7\n",
      "750/750 [==============================] - ETA: 0s - loss: 0.6763 - accuracy: 0.62 - 0s 126us/sample - loss: 0.6921 - accuracy: 0.5293 - val_loss: 0.7037 - val_accuracy: 0.4080\n",
      "Epoch 6/7\n",
      "750/750 [==============================] - ETA: 0s - loss: 0.6913 - accuracy: 0.53 - 0s 121us/sample - loss: 0.6923 - accuracy: 0.5293 - val_loss: 0.7043 - val_accuracy: 0.4040\n",
      "Epoch 7/7\n",
      "750/750 [==============================] - ETA: 0s - loss: 0.6825 - accuracy: 0.56 - 0s 111us/sample - loss: 0.6915 - accuracy: 0.5200 - val_loss: 0.7082 - val_accuracy: 0.3960\n"
     ]
    },
    {
     "data": {
      "text/html": [
       "<span style=\"color:#4527A0\"><h1 style=\"font-size:18px\">Trial complete</h1></span>"
      ],
      "text/plain": [
       "<IPython.core.display.HTML object>"
      ]
     },
     "metadata": {},
     "output_type": "display_data"
    },
    {
     "data": {
      "text/html": [
       "<span style=\"color:#4527A0\"><h1 style=\"font-size:18px\">Trial summary</h1></span>"
      ],
      "text/plain": [
       "<IPython.core.display.HTML object>"
      ]
     },
     "metadata": {},
     "output_type": "display_data"
    },
    {
     "data": {
      "text/html": [
       "<span style=\"color:cyan\"> |-Trial ID: 16e0df7a277c9a1c66bab2de6a5cfb76</span>"
      ],
      "text/plain": [
       "<IPython.core.display.HTML object>"
      ]
     },
     "metadata": {},
     "output_type": "display_data"
    },
    {
     "data": {
      "text/html": [
       "<span style=\"color:cyan\"> |-Score: 0.4959999918937683</span>"
      ],
      "text/plain": [
       "<IPython.core.display.HTML object>"
      ]
     },
     "metadata": {},
     "output_type": "display_data"
    },
    {
     "data": {
      "text/html": [
       "<span style=\"color:cyan\"> |-Best step: 0</span>"
      ],
      "text/plain": [
       "<IPython.core.display.HTML object>"
      ]
     },
     "metadata": {},
     "output_type": "display_data"
    },
    {
     "data": {
      "text/html": [
       "<span style=\"color:#7E57C2\"><h2 style=\"font-size:16px\">Hyperparameters:</h2></span>"
      ],
      "text/plain": [
       "<IPython.core.display.HTML object>"
      ]
     },
     "metadata": {},
     "output_type": "display_data"
    },
    {
     "data": {
      "text/html": [
       "<span style=\"color:cyan\"> |-activation: tanh</span>"
      ],
      "text/plain": [
       "<IPython.core.display.HTML object>"
      ]
     },
     "metadata": {},
     "output_type": "display_data"
    },
    {
     "data": {
      "text/html": [
       "<span style=\"color:blue\"> |-first_units: 6</span>"
      ],
      "text/plain": [
       "<IPython.core.display.HTML object>"
      ]
     },
     "metadata": {},
     "output_type": "display_data"
    },
    {
     "data": {
      "text/html": [
       "<span style=\"color:cyan\"> |-num_layers: 4</span>"
      ],
      "text/plain": [
       "<IPython.core.display.HTML object>"
      ]
     },
     "metadata": {},
     "output_type": "display_data"
    },
    {
     "data": {
      "text/html": [
       "<span style=\"color:blue\"> |-tuner/bracket: 2</span>"
      ],
      "text/plain": [
       "<IPython.core.display.HTML object>"
      ]
     },
     "metadata": {},
     "output_type": "display_data"
    },
    {
     "data": {
      "text/html": [
       "<span style=\"color:cyan\"> |-tuner/epochs: 7</span>"
      ],
      "text/plain": [
       "<IPython.core.display.HTML object>"
      ]
     },
     "metadata": {},
     "output_type": "display_data"
    },
    {
     "data": {
      "text/html": [
       "<span style=\"color:blue\"> |-tuner/initial_epoch: 3</span>"
      ],
      "text/plain": [
       "<IPython.core.display.HTML object>"
      ]
     },
     "metadata": {},
     "output_type": "display_data"
    },
    {
     "data": {
      "text/html": [
       "<span style=\"color:cyan\"> |-tuner/round: 1</span>"
      ],
      "text/plain": [
       "<IPython.core.display.HTML object>"
      ]
     },
     "metadata": {},
     "output_type": "display_data"
    },
    {
     "data": {
      "text/html": [
       "<span style=\"color:blue\"> |-tuner/trial_id: aa39faffb6d28e6b4cce6cdc4e8a9613</span>"
      ],
      "text/plain": [
       "<IPython.core.display.HTML object>"
      ]
     },
     "metadata": {},
     "output_type": "display_data"
    },
    {
     "data": {
      "text/html": [
       "<span style=\"color:cyan\"> |-units_0: 26</span>"
      ],
      "text/plain": [
       "<IPython.core.display.HTML object>"
      ]
     },
     "metadata": {},
     "output_type": "display_data"
    },
    {
     "data": {
      "text/html": [
       "<span style=\"color:blue\"> |-units_1: 16</span>"
      ],
      "text/plain": [
       "<IPython.core.display.HTML object>"
      ]
     },
     "metadata": {},
     "output_type": "display_data"
    },
    {
     "data": {
      "text/html": [
       "<span style=\"color:cyan\"> |-units_2: 1</span>"
      ],
      "text/plain": [
       "<IPython.core.display.HTML object>"
      ]
     },
     "metadata": {},
     "output_type": "display_data"
    },
    {
     "data": {
      "text/html": [
       "<span style=\"color:blue\"> |-units_3: 6</span>"
      ],
      "text/plain": [
       "<IPython.core.display.HTML object>"
      ]
     },
     "metadata": {},
     "output_type": "display_data"
    },
    {
     "data": {
      "text/html": [
       "<span style=\"color:cyan\"> |-units_4: 6</span>"
      ],
      "text/plain": [
       "<IPython.core.display.HTML object>"
      ]
     },
     "metadata": {},
     "output_type": "display_data"
    },
    {
     "name": "stdout",
     "output_type": "stream",
     "text": [
      "Train on 750 samples, validate on 250 samples\n",
      "Epoch 4/7\n",
      "750/750 [==============================] - ETA: 16s - loss: 0.6943 - accuracy: 0.500 - 1s 1ms/sample - loss: 0.6962 - accuracy: 0.4813 - val_loss: 0.7013 - val_accuracy: 0.4160\n",
      "Epoch 5/7\n",
      "750/750 [==============================] - ETA: 0s - loss: 0.7075 - accuracy: 0.34 - 0s 164us/sample - loss: 0.6928 - accuracy: 0.5253 - val_loss: 0.7073 - val_accuracy: 0.4200\n",
      "Epoch 6/7\n",
      "750/750 [==============================] - ETA: 0s - loss: 0.6920 - accuracy: 0.53 - 0s 123us/sample - loss: 0.6916 - accuracy: 0.5320 - val_loss: 0.7123 - val_accuracy: 0.4160\n",
      "Epoch 7/7\n",
      "750/750 [==============================] - ETA: 0s - loss: 0.6905 - accuracy: 0.40 - 0s 169us/sample - loss: 0.6909 - accuracy: 0.5280 - val_loss: 0.7086 - val_accuracy: 0.4240\n"
     ]
    },
    {
     "data": {
      "text/html": [
       "<span style=\"color:#4527A0\"><h1 style=\"font-size:18px\">Trial complete</h1></span>"
      ],
      "text/plain": [
       "<IPython.core.display.HTML object>"
      ]
     },
     "metadata": {},
     "output_type": "display_data"
    },
    {
     "data": {
      "text/html": [
       "<span style=\"color:#4527A0\"><h1 style=\"font-size:18px\">Trial summary</h1></span>"
      ],
      "text/plain": [
       "<IPython.core.display.HTML object>"
      ]
     },
     "metadata": {},
     "output_type": "display_data"
    },
    {
     "data": {
      "text/html": [
       "<span style=\"color:cyan\"> |-Trial ID: 571cfea13a5a8b98a83b004ec6891829</span>"
      ],
      "text/plain": [
       "<IPython.core.display.HTML object>"
      ]
     },
     "metadata": {},
     "output_type": "display_data"
    },
    {
     "data": {
      "text/html": [
       "<span style=\"color:cyan\"> |-Score: 0.42399999499320984</span>"
      ],
      "text/plain": [
       "<IPython.core.display.HTML object>"
      ]
     },
     "metadata": {},
     "output_type": "display_data"
    },
    {
     "data": {
      "text/html": [
       "<span style=\"color:cyan\"> |-Best step: 0</span>"
      ],
      "text/plain": [
       "<IPython.core.display.HTML object>"
      ]
     },
     "metadata": {},
     "output_type": "display_data"
    },
    {
     "data": {
      "text/html": [
       "<span style=\"color:#7E57C2\"><h2 style=\"font-size:16px\">Hyperparameters:</h2></span>"
      ],
      "text/plain": [
       "<IPython.core.display.HTML object>"
      ]
     },
     "metadata": {},
     "output_type": "display_data"
    },
    {
     "data": {
      "text/html": [
       "<span style=\"color:cyan\"> |-activation: tanh</span>"
      ],
      "text/plain": [
       "<IPython.core.display.HTML object>"
      ]
     },
     "metadata": {},
     "output_type": "display_data"
    },
    {
     "data": {
      "text/html": [
       "<span style=\"color:blue\"> |-first_units: 6</span>"
      ],
      "text/plain": [
       "<IPython.core.display.HTML object>"
      ]
     },
     "metadata": {},
     "output_type": "display_data"
    },
    {
     "data": {
      "text/html": [
       "<span style=\"color:cyan\"> |-num_layers: 3</span>"
      ],
      "text/plain": [
       "<IPython.core.display.HTML object>"
      ]
     },
     "metadata": {},
     "output_type": "display_data"
    },
    {
     "data": {
      "text/html": [
       "<span style=\"color:blue\"> |-tuner/bracket: 2</span>"
      ],
      "text/plain": [
       "<IPython.core.display.HTML object>"
      ]
     },
     "metadata": {},
     "output_type": "display_data"
    },
    {
     "data": {
      "text/html": [
       "<span style=\"color:cyan\"> |-tuner/epochs: 7</span>"
      ],
      "text/plain": [
       "<IPython.core.display.HTML object>"
      ]
     },
     "metadata": {},
     "output_type": "display_data"
    },
    {
     "data": {
      "text/html": [
       "<span style=\"color:blue\"> |-tuner/initial_epoch: 3</span>"
      ],
      "text/plain": [
       "<IPython.core.display.HTML object>"
      ]
     },
     "metadata": {},
     "output_type": "display_data"
    },
    {
     "data": {
      "text/html": [
       "<span style=\"color:cyan\"> |-tuner/round: 1</span>"
      ],
      "text/plain": [
       "<IPython.core.display.HTML object>"
      ]
     },
     "metadata": {},
     "output_type": "display_data"
    },
    {
     "data": {
      "text/html": [
       "<span style=\"color:blue\"> |-tuner/trial_id: bd403e9814c9de68e977c805989a0a89</span>"
      ],
      "text/plain": [
       "<IPython.core.display.HTML object>"
      ]
     },
     "metadata": {},
     "output_type": "display_data"
    },
    {
     "data": {
      "text/html": [
       "<span style=\"color:cyan\"> |-units_0: 21</span>"
      ],
      "text/plain": [
       "<IPython.core.display.HTML object>"
      ]
     },
     "metadata": {},
     "output_type": "display_data"
    },
    {
     "data": {
      "text/html": [
       "<span style=\"color:blue\"> |-units_1: 6</span>"
      ],
      "text/plain": [
       "<IPython.core.display.HTML object>"
      ]
     },
     "metadata": {},
     "output_type": "display_data"
    },
    {
     "data": {
      "text/html": [
       "<span style=\"color:cyan\"> |-units_2: 26</span>"
      ],
      "text/plain": [
       "<IPython.core.display.HTML object>"
      ]
     },
     "metadata": {},
     "output_type": "display_data"
    },
    {
     "data": {
      "text/html": [
       "<span style=\"color:blue\"> |-units_3: 1</span>"
      ],
      "text/plain": [
       "<IPython.core.display.HTML object>"
      ]
     },
     "metadata": {},
     "output_type": "display_data"
    },
    {
     "data": {
      "text/html": [
       "<span style=\"color:cyan\"> |-units_4: 26</span>"
      ],
      "text/plain": [
       "<IPython.core.display.HTML object>"
      ]
     },
     "metadata": {},
     "output_type": "display_data"
    },
    {
     "name": "stdout",
     "output_type": "stream",
     "text": [
      "Train on 750 samples, validate on 250 samples\n",
      "Epoch 4/7\n",
      "750/750 [==============================] - ETA: 15s - loss: 0.6802 - accuracy: 0.562 - 1s 1ms/sample - loss: 0.6941 - accuracy: 0.5027 - val_loss: 0.7022 - val_accuracy: 0.4560\n",
      "Epoch 5/7\n",
      "750/750 [==============================] - ETA: 0s - loss: 0.6940 - accuracy: 0.50 - 0s 108us/sample - loss: 0.6925 - accuracy: 0.5133 - val_loss: 0.7036 - val_accuracy: 0.4360\n",
      "Epoch 6/7\n",
      "750/750 [==============================] - ETA: 0s - loss: 0.7030 - accuracy: 0.43 - 0s 126us/sample - loss: 0.6920 - accuracy: 0.5053 - val_loss: 0.7082 - val_accuracy: 0.4120\n",
      "Epoch 7/7\n",
      "750/750 [==============================] - ETA: 0s - loss: 0.7099 - accuracy: 0.34 - 0s 137us/sample - loss: 0.6918 - accuracy: 0.5040 - val_loss: 0.7038 - val_accuracy: 0.4080\n"
     ]
    },
    {
     "data": {
      "text/html": [
       "<span style=\"color:#4527A0\"><h1 style=\"font-size:18px\">Trial complete</h1></span>"
      ],
      "text/plain": [
       "<IPython.core.display.HTML object>"
      ]
     },
     "metadata": {},
     "output_type": "display_data"
    },
    {
     "data": {
      "text/html": [
       "<span style=\"color:#4527A0\"><h1 style=\"font-size:18px\">Trial summary</h1></span>"
      ],
      "text/plain": [
       "<IPython.core.display.HTML object>"
      ]
     },
     "metadata": {},
     "output_type": "display_data"
    },
    {
     "data": {
      "text/html": [
       "<span style=\"color:cyan\"> |-Trial ID: 035011c44ab0b20a9ddf3ff1356859c2</span>"
      ],
      "text/plain": [
       "<IPython.core.display.HTML object>"
      ]
     },
     "metadata": {},
     "output_type": "display_data"
    },
    {
     "data": {
      "text/html": [
       "<span style=\"color:cyan\"> |-Score: 0.4560000002384186</span>"
      ],
      "text/plain": [
       "<IPython.core.display.HTML object>"
      ]
     },
     "metadata": {},
     "output_type": "display_data"
    },
    {
     "data": {
      "text/html": [
       "<span style=\"color:cyan\"> |-Best step: 0</span>"
      ],
      "text/plain": [
       "<IPython.core.display.HTML object>"
      ]
     },
     "metadata": {},
     "output_type": "display_data"
    },
    {
     "data": {
      "text/html": [
       "<span style=\"color:#7E57C2\"><h2 style=\"font-size:16px\">Hyperparameters:</h2></span>"
      ],
      "text/plain": [
       "<IPython.core.display.HTML object>"
      ]
     },
     "metadata": {},
     "output_type": "display_data"
    },
    {
     "data": {
      "text/html": [
       "<span style=\"color:cyan\"> |-activation: tanh</span>"
      ],
      "text/plain": [
       "<IPython.core.display.HTML object>"
      ]
     },
     "metadata": {},
     "output_type": "display_data"
    },
    {
     "data": {
      "text/html": [
       "<span style=\"color:blue\"> |-first_units: 6</span>"
      ],
      "text/plain": [
       "<IPython.core.display.HTML object>"
      ]
     },
     "metadata": {},
     "output_type": "display_data"
    },
    {
     "data": {
      "text/html": [
       "<span style=\"color:cyan\"> |-num_layers: 1</span>"
      ],
      "text/plain": [
       "<IPython.core.display.HTML object>"
      ]
     },
     "metadata": {},
     "output_type": "display_data"
    },
    {
     "data": {
      "text/html": [
       "<span style=\"color:blue\"> |-tuner/bracket: 2</span>"
      ],
      "text/plain": [
       "<IPython.core.display.HTML object>"
      ]
     },
     "metadata": {},
     "output_type": "display_data"
    },
    {
     "data": {
      "text/html": [
       "<span style=\"color:cyan\"> |-tuner/epochs: 7</span>"
      ],
      "text/plain": [
       "<IPython.core.display.HTML object>"
      ]
     },
     "metadata": {},
     "output_type": "display_data"
    },
    {
     "data": {
      "text/html": [
       "<span style=\"color:blue\"> |-tuner/initial_epoch: 3</span>"
      ],
      "text/plain": [
       "<IPython.core.display.HTML object>"
      ]
     },
     "metadata": {},
     "output_type": "display_data"
    },
    {
     "data": {
      "text/html": [
       "<span style=\"color:cyan\"> |-tuner/round: 1</span>"
      ],
      "text/plain": [
       "<IPython.core.display.HTML object>"
      ]
     },
     "metadata": {},
     "output_type": "display_data"
    },
    {
     "data": {
      "text/html": [
       "<span style=\"color:blue\"> |-tuner/trial_id: 2c0e99c73458e5eb1caa8c8612454dd0</span>"
      ],
      "text/plain": [
       "<IPython.core.display.HTML object>"
      ]
     },
     "metadata": {},
     "output_type": "display_data"
    },
    {
     "data": {
      "text/html": [
       "<span style=\"color:cyan\"> |-units_0: 21</span>"
      ],
      "text/plain": [
       "<IPython.core.display.HTML object>"
      ]
     },
     "metadata": {},
     "output_type": "display_data"
    },
    {
     "data": {
      "text/html": [
       "<span style=\"color:blue\"> |-units_1: 21</span>"
      ],
      "text/plain": [
       "<IPython.core.display.HTML object>"
      ]
     },
     "metadata": {},
     "output_type": "display_data"
    },
    {
     "data": {
      "text/html": [
       "<span style=\"color:cyan\"> |-units_2: 26</span>"
      ],
      "text/plain": [
       "<IPython.core.display.HTML object>"
      ]
     },
     "metadata": {},
     "output_type": "display_data"
    },
    {
     "data": {
      "text/html": [
       "<span style=\"color:blue\"> |-units_3: 21</span>"
      ],
      "text/plain": [
       "<IPython.core.display.HTML object>"
      ]
     },
     "metadata": {},
     "output_type": "display_data"
    },
    {
     "data": {
      "text/html": [
       "<span style=\"color:cyan\"> |-units_4: 6</span>"
      ],
      "text/plain": [
       "<IPython.core.display.HTML object>"
      ]
     },
     "metadata": {},
     "output_type": "display_data"
    },
    {
     "name": "stdout",
     "output_type": "stream",
     "text": [
      "Train on 750 samples, validate on 250 samples\n",
      "Epoch 8/20\n",
      "750/750 [==============================] - ETA: 17s - loss: 0.6933 - accuracy: 0.500 - 1s 1ms/sample - loss: 0.6931 - accuracy: 0.5080 - val_loss: 0.7002 - val_accuracy: 0.4160\n",
      "Epoch 9/20\n",
      "750/750 [==============================] - ETA: 0s - loss: 0.6955 - accuracy: 0.43 - 0s 149us/sample - loss: 0.6932 - accuracy: 0.4973 - val_loss: 0.7046 - val_accuracy: 0.4200\n",
      "Epoch 10/20\n",
      "750/750 [==============================] - ETA: 0s - loss: 0.6839 - accuracy: 0.68 - 0s 114us/sample - loss: 0.6932 - accuracy: 0.4920 - val_loss: 0.7020 - val_accuracy: 0.3680\n",
      "Epoch 11/20\n",
      "750/750 [==============================] - ETA: 0s - loss: 0.6930 - accuracy: 0.53 - 0s 114us/sample - loss: 0.6915 - accuracy: 0.5133 - val_loss: 0.7073 - val_accuracy: 0.4120\n",
      "Epoch 12/20\n",
      "750/750 [==============================] - ETA: 0s - loss: 0.6802 - accuracy: 0.62 - 0s 119us/sample - loss: 0.6906 - accuracy: 0.5120 - val_loss: 0.7057 - val_accuracy: 0.3960\n",
      "Epoch 13/20\n",
      "750/750 [==============================] - ETA: 0s - loss: 0.6843 - accuracy: 0.59 - 0s 123us/sample - loss: 0.6903 - accuracy: 0.5213 - val_loss: 0.7061 - val_accuracy: 0.4000\n",
      "Epoch 14/20\n",
      "750/750 [==============================] - ETA: 0s - loss: 0.6902 - accuracy: 0.56 - 0s 161us/sample - loss: 0.6904 - accuracy: 0.5200 - val_loss: 0.7051 - val_accuracy: 0.4280\n",
      "Epoch 15/20\n",
      "750/750 [==============================] - ETA: 0s - loss: 0.6905 - accuracy: 0.50 - 0s 120us/sample - loss: 0.6902 - accuracy: 0.5320 - val_loss: 0.7049 - val_accuracy: 0.4000\n",
      "Epoch 16/20\n",
      "750/750 [==============================] - ETA: 0s - loss: 0.6964 - accuracy: 0.40 - 0s 122us/sample - loss: 0.6902 - accuracy: 0.5320 - val_loss: 0.7044 - val_accuracy: 0.4280\n",
      "Epoch 17/20\n",
      "750/750 [==============================] - ETA: 0s - loss: 0.6941 - accuracy: 0.43 - 0s 115us/sample - loss: 0.6890 - accuracy: 0.5280 - val_loss: 0.7043 - val_accuracy: 0.4240\n",
      "Epoch 18/20\n",
      "750/750 [==============================] - ETA: 0s - loss: 0.6790 - accuracy: 0.59 - 0s 134us/sample - loss: 0.6885 - accuracy: 0.5320 - val_loss: 0.7047 - val_accuracy: 0.4360\n",
      "Epoch 19/20\n",
      "750/750 [==============================] - ETA: 0s - loss: 0.6790 - accuracy: 0.56 - 0s 105us/sample - loss: 0.6883 - accuracy: 0.5267 - val_loss: 0.7031 - val_accuracy: 0.4240\n",
      "Epoch 20/20\n",
      "750/750 [==============================] - ETA: 0s - loss: 0.6782 - accuracy: 0.59 - 0s 114us/sample - loss: 0.6880 - accuracy: 0.5360 - val_loss: 0.7038 - val_accuracy: 0.4320\n"
     ]
    },
    {
     "data": {
      "text/html": [
       "<span style=\"color:#4527A0\"><h1 style=\"font-size:18px\">Trial complete</h1></span>"
      ],
      "text/plain": [
       "<IPython.core.display.HTML object>"
      ]
     },
     "metadata": {},
     "output_type": "display_data"
    },
    {
     "data": {
      "text/html": [
       "<span style=\"color:#4527A0\"><h1 style=\"font-size:18px\">Trial summary</h1></span>"
      ],
      "text/plain": [
       "<IPython.core.display.HTML object>"
      ]
     },
     "metadata": {},
     "output_type": "display_data"
    },
    {
     "data": {
      "text/html": [
       "<span style=\"color:cyan\"> |-Trial ID: ec16b1c448b7a9d1bf33c7bf2c8fb82b</span>"
      ],
      "text/plain": [
       "<IPython.core.display.HTML object>"
      ]
     },
     "metadata": {},
     "output_type": "display_data"
    },
    {
     "data": {
      "text/html": [
       "<span style=\"color:cyan\"> |-Score: 0.4359999895095825</span>"
      ],
      "text/plain": [
       "<IPython.core.display.HTML object>"
      ]
     },
     "metadata": {},
     "output_type": "display_data"
    },
    {
     "data": {
      "text/html": [
       "<span style=\"color:cyan\"> |-Best step: 0</span>"
      ],
      "text/plain": [
       "<IPython.core.display.HTML object>"
      ]
     },
     "metadata": {},
     "output_type": "display_data"
    },
    {
     "data": {
      "text/html": [
       "<span style=\"color:#7E57C2\"><h2 style=\"font-size:16px\">Hyperparameters:</h2></span>"
      ],
      "text/plain": [
       "<IPython.core.display.HTML object>"
      ]
     },
     "metadata": {},
     "output_type": "display_data"
    },
    {
     "data": {
      "text/html": [
       "<span style=\"color:cyan\"> |-activation: tanh</span>"
      ],
      "text/plain": [
       "<IPython.core.display.HTML object>"
      ]
     },
     "metadata": {},
     "output_type": "display_data"
    },
    {
     "data": {
      "text/html": [
       "<span style=\"color:blue\"> |-first_units: 6</span>"
      ],
      "text/plain": [
       "<IPython.core.display.HTML object>"
      ]
     },
     "metadata": {},
     "output_type": "display_data"
    },
    {
     "data": {
      "text/html": [
       "<span style=\"color:cyan\"> |-num_layers: 2</span>"
      ],
      "text/plain": [
       "<IPython.core.display.HTML object>"
      ]
     },
     "metadata": {},
     "output_type": "display_data"
    },
    {
     "data": {
      "text/html": [
       "<span style=\"color:blue\"> |-tuner/bracket: 2</span>"
      ],
      "text/plain": [
       "<IPython.core.display.HTML object>"
      ]
     },
     "metadata": {},
     "output_type": "display_data"
    },
    {
     "data": {
      "text/html": [
       "<span style=\"color:cyan\"> |-tuner/epochs: 20</span>"
      ],
      "text/plain": [
       "<IPython.core.display.HTML object>"
      ]
     },
     "metadata": {},
     "output_type": "display_data"
    },
    {
     "data": {
      "text/html": [
       "<span style=\"color:blue\"> |-tuner/initial_epoch: 7</span>"
      ],
      "text/plain": [
       "<IPython.core.display.HTML object>"
      ]
     },
     "metadata": {},
     "output_type": "display_data"
    },
    {
     "data": {
      "text/html": [
       "<span style=\"color:cyan\"> |-tuner/round: 2</span>"
      ],
      "text/plain": [
       "<IPython.core.display.HTML object>"
      ]
     },
     "metadata": {},
     "output_type": "display_data"
    },
    {
     "data": {
      "text/html": [
       "<span style=\"color:blue\"> |-tuner/trial_id: f1d6339bcfcb9e851c902a98b2100e4a</span>"
      ],
      "text/plain": [
       "<IPython.core.display.HTML object>"
      ]
     },
     "metadata": {},
     "output_type": "display_data"
    },
    {
     "data": {
      "text/html": [
       "<span style=\"color:cyan\"> |-units_0: 11</span>"
      ],
      "text/plain": [
       "<IPython.core.display.HTML object>"
      ]
     },
     "metadata": {},
     "output_type": "display_data"
    },
    {
     "data": {
      "text/html": [
       "<span style=\"color:blue\"> |-units_1: 11</span>"
      ],
      "text/plain": [
       "<IPython.core.display.HTML object>"
      ]
     },
     "metadata": {},
     "output_type": "display_data"
    },
    {
     "data": {
      "text/html": [
       "<span style=\"color:cyan\"> |-units_2: 16</span>"
      ],
      "text/plain": [
       "<IPython.core.display.HTML object>"
      ]
     },
     "metadata": {},
     "output_type": "display_data"
    },
    {
     "name": "stdout",
     "output_type": "stream",
     "text": [
      "Train on 750 samples, validate on 250 samples\n",
      "Epoch 8/20\n",
      "750/750 [==============================] - ETA: 17s - loss: 0.7064 - accuracy: 0.468 - 1s 1ms/sample - loss: 0.6944 - accuracy: 0.5107 - val_loss: 0.7058 - val_accuracy: 0.3320\n",
      "Epoch 9/20\n",
      "750/750 [==============================] - ETA: 0s - loss: 0.6962 - accuracy: 0.31 - 0s 140us/sample - loss: 0.6923 - accuracy: 0.4440 - val_loss: 0.7074 - val_accuracy: 0.3920\n",
      "Epoch 10/20\n",
      "750/750 [==============================] - ETA: 0s - loss: 0.6935 - accuracy: 0.53 - 0s 148us/sample - loss: 0.6922 - accuracy: 0.5187 - val_loss: 0.7081 - val_accuracy: 0.4080\n",
      "Epoch 11/20\n",
      "750/750 [==============================] - ETA: 0s - loss: 0.6719 - accuracy: 0.71 - 0s 113us/sample - loss: 0.6915 - accuracy: 0.4947 - val_loss: 0.7037 - val_accuracy: 0.4040\n",
      "Epoch 12/20\n",
      "750/750 [==============================] - ETA: 0s - loss: 0.6779 - accuracy: 0.65 - 0s 107us/sample - loss: 0.6913 - accuracy: 0.5160 - val_loss: 0.7098 - val_accuracy: 0.4000\n",
      "Epoch 13/20\n",
      "750/750 [==============================] - ETA: 0s - loss: 0.7017 - accuracy: 0.43 - 0s 105us/sample - loss: 0.6908 - accuracy: 0.5053 - val_loss: 0.7026 - val_accuracy: 0.4040\n",
      "Epoch 14/20\n",
      "750/750 [==============================] - ETA: 0s - loss: 0.6681 - accuracy: 0.75 - 0s 109us/sample - loss: 0.6919 - accuracy: 0.5307 - val_loss: 0.7104 - val_accuracy: 0.4080\n",
      "Epoch 15/20\n",
      "750/750 [==============================] - ETA: 0s - loss: 0.6727 - accuracy: 0.62 - 0s 144us/sample - loss: 0.6905 - accuracy: 0.4947 - val_loss: 0.7052 - val_accuracy: 0.4240\n",
      "Epoch 16/20\n",
      "750/750 [==============================] - ETA: 0s - loss: 0.6812 - accuracy: 0.53 - 0s 112us/sample - loss: 0.6887 - accuracy: 0.4800 - val_loss: 0.7022 - val_accuracy: 0.3880\n",
      "Epoch 17/20\n",
      "750/750 [==============================] - ETA: 0s - loss: 0.7003 - accuracy: 0.37 - 0s 155us/sample - loss: 0.6875 - accuracy: 0.5093 - val_loss: 0.6995 - val_accuracy: 0.4280\n",
      "Epoch 18/20\n",
      "750/750 [==============================] - ETA: 0s - loss: 0.6721 - accuracy: 0.59 - 0s 141us/sample - loss: 0.6864 - accuracy: 0.5013 - val_loss: 0.7021 - val_accuracy: 0.4320\n",
      "Epoch 19/20\n",
      "750/750 [==============================] - ETA: 0s - loss: 0.6633 - accuracy: 0.62 - 0s 144us/sample - loss: 0.6868 - accuracy: 0.5200 - val_loss: 0.6955 - val_accuracy: 0.4440\n",
      "Epoch 20/20\n",
      "750/750 [==============================] - ETA: 0s - loss: 0.6856 - accuracy: 0.53 - 0s 115us/sample - loss: 0.6843 - accuracy: 0.5760 - val_loss: 0.6960 - val_accuracy: 0.4440\n"
     ]
    },
    {
     "data": {
      "text/html": [
       "<span style=\"color:#4527A0\"><h1 style=\"font-size:18px\">Trial complete</h1></span>"
      ],
      "text/plain": [
       "<IPython.core.display.HTML object>"
      ]
     },
     "metadata": {},
     "output_type": "display_data"
    },
    {
     "data": {
      "text/html": [
       "<span style=\"color:#4527A0\"><h1 style=\"font-size:18px\">Trial summary</h1></span>"
      ],
      "text/plain": [
       "<IPython.core.display.HTML object>"
      ]
     },
     "metadata": {},
     "output_type": "display_data"
    },
    {
     "data": {
      "text/html": [
       "<span style=\"color:cyan\"> |-Trial ID: abaafa258c69de5ba728e9a104f89a51</span>"
      ],
      "text/plain": [
       "<IPython.core.display.HTML object>"
      ]
     },
     "metadata": {},
     "output_type": "display_data"
    },
    {
     "data": {
      "text/html": [
       "<span style=\"color:cyan\"> |-Score: 0.4440000057220459</span>"
      ],
      "text/plain": [
       "<IPython.core.display.HTML object>"
      ]
     },
     "metadata": {},
     "output_type": "display_data"
    },
    {
     "data": {
      "text/html": [
       "<span style=\"color:cyan\"> |-Best step: 0</span>"
      ],
      "text/plain": [
       "<IPython.core.display.HTML object>"
      ]
     },
     "metadata": {},
     "output_type": "display_data"
    },
    {
     "data": {
      "text/html": [
       "<span style=\"color:#7E57C2\"><h2 style=\"font-size:16px\">Hyperparameters:</h2></span>"
      ],
      "text/plain": [
       "<IPython.core.display.HTML object>"
      ]
     },
     "metadata": {},
     "output_type": "display_data"
    },
    {
     "data": {
      "text/html": [
       "<span style=\"color:cyan\"> |-activation: tanh</span>"
      ],
      "text/plain": [
       "<IPython.core.display.HTML object>"
      ]
     },
     "metadata": {},
     "output_type": "display_data"
    },
    {
     "data": {
      "text/html": [
       "<span style=\"color:blue\"> |-first_units: 6</span>"
      ],
      "text/plain": [
       "<IPython.core.display.HTML object>"
      ]
     },
     "metadata": {},
     "output_type": "display_data"
    },
    {
     "data": {
      "text/html": [
       "<span style=\"color:cyan\"> |-num_layers: 4</span>"
      ],
      "text/plain": [
       "<IPython.core.display.HTML object>"
      ]
     },
     "metadata": {},
     "output_type": "display_data"
    },
    {
     "data": {
      "text/html": [
       "<span style=\"color:blue\"> |-tuner/bracket: 2</span>"
      ],
      "text/plain": [
       "<IPython.core.display.HTML object>"
      ]
     },
     "metadata": {},
     "output_type": "display_data"
    },
    {
     "data": {
      "text/html": [
       "<span style=\"color:cyan\"> |-tuner/epochs: 20</span>"
      ],
      "text/plain": [
       "<IPython.core.display.HTML object>"
      ]
     },
     "metadata": {},
     "output_type": "display_data"
    },
    {
     "data": {
      "text/html": [
       "<span style=\"color:blue\"> |-tuner/initial_epoch: 7</span>"
      ],
      "text/plain": [
       "<IPython.core.display.HTML object>"
      ]
     },
     "metadata": {},
     "output_type": "display_data"
    },
    {
     "data": {
      "text/html": [
       "<span style=\"color:cyan\"> |-tuner/round: 2</span>"
      ],
      "text/plain": [
       "<IPython.core.display.HTML object>"
      ]
     },
     "metadata": {},
     "output_type": "display_data"
    },
    {
     "data": {
      "text/html": [
       "<span style=\"color:blue\"> |-tuner/trial_id: 16e0df7a277c9a1c66bab2de6a5cfb76</span>"
      ],
      "text/plain": [
       "<IPython.core.display.HTML object>"
      ]
     },
     "metadata": {},
     "output_type": "display_data"
    },
    {
     "data": {
      "text/html": [
       "<span style=\"color:cyan\"> |-units_0: 26</span>"
      ],
      "text/plain": [
       "<IPython.core.display.HTML object>"
      ]
     },
     "metadata": {},
     "output_type": "display_data"
    },
    {
     "data": {
      "text/html": [
       "<span style=\"color:blue\"> |-units_1: 16</span>"
      ],
      "text/plain": [
       "<IPython.core.display.HTML object>"
      ]
     },
     "metadata": {},
     "output_type": "display_data"
    },
    {
     "data": {
      "text/html": [
       "<span style=\"color:cyan\"> |-units_2: 1</span>"
      ],
      "text/plain": [
       "<IPython.core.display.HTML object>"
      ]
     },
     "metadata": {},
     "output_type": "display_data"
    },
    {
     "data": {
      "text/html": [
       "<span style=\"color:blue\"> |-units_3: 6</span>"
      ],
      "text/plain": [
       "<IPython.core.display.HTML object>"
      ]
     },
     "metadata": {},
     "output_type": "display_data"
    },
    {
     "data": {
      "text/html": [
       "<span style=\"color:cyan\"> |-units_4: 6</span>"
      ],
      "text/plain": [
       "<IPython.core.display.HTML object>"
      ]
     },
     "metadata": {},
     "output_type": "display_data"
    },
    {
     "name": "stdout",
     "output_type": "stream",
     "text": [
      "Train on 750 samples, validate on 250 samples\n",
      "Epoch 1/7\n",
      "750/750 [==============================] - ETA: 15s - loss: 0.7209 - accuracy: 0.468 - 1s 1ms/sample - loss: 0.6984 - accuracy: 0.4827 - val_loss: 0.7027 - val_accuracy: 0.4080\n",
      "Epoch 2/7\n",
      "750/750 [==============================] - ETA: 0s - loss: 0.6857 - accuracy: 0.59 - ETA: 0s - loss: 0.6935 - accuracy: 0.52 - 0s 143us/sample - loss: 0.6931 - accuracy: 0.5307 - val_loss: 0.7030 - val_accuracy: 0.4080\n",
      "Epoch 3/7\n",
      "750/750 [==============================] - ETA: 0s - loss: 0.6912 - accuracy: 0.53 - 0s 105us/sample - loss: 0.6928 - accuracy: 0.5027 - val_loss: 0.7034 - val_accuracy: 0.4080\n",
      "Epoch 4/7\n",
      "750/750 [==============================] - ETA: 0s - loss: 0.6857 - accuracy: 0.59 - 0s 114us/sample - loss: 0.6924 - accuracy: 0.5307 - val_loss: 0.7105 - val_accuracy: 0.4080\n",
      "Epoch 5/7\n",
      "750/750 [==============================] - ETA: 0s - loss: 0.6948 - accuracy: 0.50 - 0s 116us/sample - loss: 0.6924 - accuracy: 0.5307 - val_loss: 0.7065 - val_accuracy: 0.4080\n",
      "Epoch 6/7\n",
      "750/750 [==============================] - ETA: 0s - loss: 0.6868 - accuracy: 0.56 - 0s 121us/sample - loss: 0.6917 - accuracy: 0.5307 - val_loss: 0.7050 - val_accuracy: 0.4080\n",
      "Epoch 7/7\n",
      "750/750 [==============================] - ETA: 0s - loss: 0.6964 - accuracy: 0.46 - ETA: 0s - loss: 0.6934 - accuracy: 0.52 - 0s 143us/sample - loss: 0.6929 - accuracy: 0.5307 - val_loss: 0.7069 - val_accuracy: 0.4080\n"
     ]
    },
    {
     "data": {
      "text/html": [
       "<span style=\"color:#4527A0\"><h1 style=\"font-size:18px\">Trial complete</h1></span>"
      ],
      "text/plain": [
       "<IPython.core.display.HTML object>"
      ]
     },
     "metadata": {},
     "output_type": "display_data"
    },
    {
     "data": {
      "text/html": [
       "<span style=\"color:#4527A0\"><h1 style=\"font-size:18px\">Trial summary</h1></span>"
      ],
      "text/plain": [
       "<IPython.core.display.HTML object>"
      ]
     },
     "metadata": {},
     "output_type": "display_data"
    },
    {
     "data": {
      "text/html": [
       "<span style=\"color:cyan\"> |-Trial ID: 6a3f50a8449a16d9eea80994209ab5a4</span>"
      ],
      "text/plain": [
       "<IPython.core.display.HTML object>"
      ]
     },
     "metadata": {},
     "output_type": "display_data"
    },
    {
     "data": {
      "text/html": [
       "<span style=\"color:cyan\"> |-Score: 0.40799999237060547</span>"
      ],
      "text/plain": [
       "<IPython.core.display.HTML object>"
      ]
     },
     "metadata": {},
     "output_type": "display_data"
    },
    {
     "data": {
      "text/html": [
       "<span style=\"color:cyan\"> |-Best step: 0</span>"
      ],
      "text/plain": [
       "<IPython.core.display.HTML object>"
      ]
     },
     "metadata": {},
     "output_type": "display_data"
    },
    {
     "data": {
      "text/html": [
       "<span style=\"color:#7E57C2\"><h2 style=\"font-size:16px\">Hyperparameters:</h2></span>"
      ],
      "text/plain": [
       "<IPython.core.display.HTML object>"
      ]
     },
     "metadata": {},
     "output_type": "display_data"
    },
    {
     "data": {
      "text/html": [
       "<span style=\"color:cyan\"> |-activation: tanh</span>"
      ],
      "text/plain": [
       "<IPython.core.display.HTML object>"
      ]
     },
     "metadata": {},
     "output_type": "display_data"
    },
    {
     "data": {
      "text/html": [
       "<span style=\"color:blue\"> |-first_units: 1</span>"
      ],
      "text/plain": [
       "<IPython.core.display.HTML object>"
      ]
     },
     "metadata": {},
     "output_type": "display_data"
    },
    {
     "data": {
      "text/html": [
       "<span style=\"color:cyan\"> |-num_layers: 2</span>"
      ],
      "text/plain": [
       "<IPython.core.display.HTML object>"
      ]
     },
     "metadata": {},
     "output_type": "display_data"
    },
    {
     "data": {
      "text/html": [
       "<span style=\"color:blue\"> |-tuner/bracket: 1</span>"
      ],
      "text/plain": [
       "<IPython.core.display.HTML object>"
      ]
     },
     "metadata": {},
     "output_type": "display_data"
    },
    {
     "data": {
      "text/html": [
       "<span style=\"color:cyan\"> |-tuner/epochs: 7</span>"
      ],
      "text/plain": [
       "<IPython.core.display.HTML object>"
      ]
     },
     "metadata": {},
     "output_type": "display_data"
    },
    {
     "data": {
      "text/html": [
       "<span style=\"color:blue\"> |-tuner/initial_epoch: 0</span>"
      ],
      "text/plain": [
       "<IPython.core.display.HTML object>"
      ]
     },
     "metadata": {},
     "output_type": "display_data"
    },
    {
     "data": {
      "text/html": [
       "<span style=\"color:cyan\"> |-tuner/round: 0</span>"
      ],
      "text/plain": [
       "<IPython.core.display.HTML object>"
      ]
     },
     "metadata": {},
     "output_type": "display_data"
    },
    {
     "data": {
      "text/html": [
       "<span style=\"color:blue\"> |-units_0: 21</span>"
      ],
      "text/plain": [
       "<IPython.core.display.HTML object>"
      ]
     },
     "metadata": {},
     "output_type": "display_data"
    },
    {
     "data": {
      "text/html": [
       "<span style=\"color:cyan\"> |-units_1: 26</span>"
      ],
      "text/plain": [
       "<IPython.core.display.HTML object>"
      ]
     },
     "metadata": {},
     "output_type": "display_data"
    },
    {
     "data": {
      "text/html": [
       "<span style=\"color:blue\"> |-units_2: 16</span>"
      ],
      "text/plain": [
       "<IPython.core.display.HTML object>"
      ]
     },
     "metadata": {},
     "output_type": "display_data"
    },
    {
     "data": {
      "text/html": [
       "<span style=\"color:cyan\"> |-units_3: 26</span>"
      ],
      "text/plain": [
       "<IPython.core.display.HTML object>"
      ]
     },
     "metadata": {},
     "output_type": "display_data"
    },
    {
     "data": {
      "text/html": [
       "<span style=\"color:blue\"> |-units_4: 26</span>"
      ],
      "text/plain": [
       "<IPython.core.display.HTML object>"
      ]
     },
     "metadata": {},
     "output_type": "display_data"
    },
    {
     "name": "stdout",
     "output_type": "stream",
     "text": [
      "Train on 750 samples, validate on 250 samples\n",
      "Epoch 1/7\n",
      "750/750 [==============================] - ETA: 20s - loss: 0.6932 - accuracy: 0.500 - 1s 2ms/sample - loss: 0.6930 - accuracy: 0.5120 - val_loss: 0.6944 - val_accuracy: 0.4080\n",
      "Epoch 2/7\n",
      "750/750 [==============================] - ETA: 0s - loss: 0.6940 - accuracy: 0.43 - ETA: 0s - loss: 0.6923 - accuracy: 0.53 - 0s 153us/sample - loss: 0.6922 - accuracy: 0.5307 - val_loss: 0.6962 - val_accuracy: 0.4080\n",
      "Epoch 3/7\n",
      "750/750 [==============================] - ETA: 0s - loss: 0.6915 - accuracy: 0.53 - ETA: 0s - loss: 0.6914 - accuracy: 0.52 - 0s 148us/sample - loss: 0.6911 - accuracy: 0.5307 - val_loss: 0.6986 - val_accuracy: 0.4080\n",
      "Epoch 4/7\n",
      "750/750 [==============================] - ETA: 0s - loss: 0.6852 - accuracy: 0.59 - 0s 132us/sample - loss: 0.6891 - accuracy: 0.5307 - val_loss: 0.7004 - val_accuracy: 0.4080\n",
      "Epoch 5/7\n",
      "750/750 [==============================] - ETA: 0s - loss: 0.6846 - accuracy: 0.56 - 0s 127us/sample - loss: 0.6868 - accuracy: 0.5307 - val_loss: 0.7028 - val_accuracy: 0.4080\n",
      "Epoch 6/7\n",
      "750/750 [==============================] - ETA: 0s - loss: 0.6773 - accuracy: 0.59 - ETA: 0s - loss: 0.6841 - accuracy: 0.53 - 0s 136us/sample - loss: 0.6846 - accuracy: 0.5307 - val_loss: 0.7069 - val_accuracy: 0.4080\n",
      "Epoch 7/7\n",
      "750/750 [==============================] - ETA: 0s - loss: 0.7166 - accuracy: 0.34 - 0s 130us/sample - loss: 0.6817 - accuracy: 0.5307 - val_loss: 0.7066 - val_accuracy: 0.4080\n"
     ]
    },
    {
     "data": {
      "text/html": [
       "<span style=\"color:#4527A0\"><h1 style=\"font-size:18px\">Trial complete</h1></span>"
      ],
      "text/plain": [
       "<IPython.core.display.HTML object>"
      ]
     },
     "metadata": {},
     "output_type": "display_data"
    },
    {
     "data": {
      "text/html": [
       "<span style=\"color:#4527A0\"><h1 style=\"font-size:18px\">Trial summary</h1></span>"
      ],
      "text/plain": [
       "<IPython.core.display.HTML object>"
      ]
     },
     "metadata": {},
     "output_type": "display_data"
    },
    {
     "data": {
      "text/html": [
       "<span style=\"color:cyan\"> |-Trial ID: 836d503eaa2b026a6b892adde76303f5</span>"
      ],
      "text/plain": [
       "<IPython.core.display.HTML object>"
      ]
     },
     "metadata": {},
     "output_type": "display_data"
    },
    {
     "data": {
      "text/html": [
       "<span style=\"color:cyan\"> |-Score: 0.40799999237060547</span>"
      ],
      "text/plain": [
       "<IPython.core.display.HTML object>"
      ]
     },
     "metadata": {},
     "output_type": "display_data"
    },
    {
     "data": {
      "text/html": [
       "<span style=\"color:cyan\"> |-Best step: 0</span>"
      ],
      "text/plain": [
       "<IPython.core.display.HTML object>"
      ]
     },
     "metadata": {},
     "output_type": "display_data"
    },
    {
     "data": {
      "text/html": [
       "<span style=\"color:#7E57C2\"><h2 style=\"font-size:16px\">Hyperparameters:</h2></span>"
      ],
      "text/plain": [
       "<IPython.core.display.HTML object>"
      ]
     },
     "metadata": {},
     "output_type": "display_data"
    },
    {
     "data": {
      "text/html": [
       "<span style=\"color:cyan\"> |-activation: relu</span>"
      ],
      "text/plain": [
       "<IPython.core.display.HTML object>"
      ]
     },
     "metadata": {},
     "output_type": "display_data"
    },
    {
     "data": {
      "text/html": [
       "<span style=\"color:blue\"> |-first_units: 11</span>"
      ],
      "text/plain": [
       "<IPython.core.display.HTML object>"
      ]
     },
     "metadata": {},
     "output_type": "display_data"
    },
    {
     "data": {
      "text/html": [
       "<span style=\"color:cyan\"> |-num_layers: 4</span>"
      ],
      "text/plain": [
       "<IPython.core.display.HTML object>"
      ]
     },
     "metadata": {},
     "output_type": "display_data"
    },
    {
     "data": {
      "text/html": [
       "<span style=\"color:blue\"> |-tuner/bracket: 1</span>"
      ],
      "text/plain": [
       "<IPython.core.display.HTML object>"
      ]
     },
     "metadata": {},
     "output_type": "display_data"
    },
    {
     "data": {
      "text/html": [
       "<span style=\"color:cyan\"> |-tuner/epochs: 7</span>"
      ],
      "text/plain": [
       "<IPython.core.display.HTML object>"
      ]
     },
     "metadata": {},
     "output_type": "display_data"
    },
    {
     "data": {
      "text/html": [
       "<span style=\"color:blue\"> |-tuner/initial_epoch: 0</span>"
      ],
      "text/plain": [
       "<IPython.core.display.HTML object>"
      ]
     },
     "metadata": {},
     "output_type": "display_data"
    },
    {
     "data": {
      "text/html": [
       "<span style=\"color:cyan\"> |-tuner/round: 0</span>"
      ],
      "text/plain": [
       "<IPython.core.display.HTML object>"
      ]
     },
     "metadata": {},
     "output_type": "display_data"
    },
    {
     "data": {
      "text/html": [
       "<span style=\"color:blue\"> |-units_0: 16</span>"
      ],
      "text/plain": [
       "<IPython.core.display.HTML object>"
      ]
     },
     "metadata": {},
     "output_type": "display_data"
    },
    {
     "data": {
      "text/html": [
       "<span style=\"color:cyan\"> |-units_1: 26</span>"
      ],
      "text/plain": [
       "<IPython.core.display.HTML object>"
      ]
     },
     "metadata": {},
     "output_type": "display_data"
    },
    {
     "data": {
      "text/html": [
       "<span style=\"color:blue\"> |-units_2: 1</span>"
      ],
      "text/plain": [
       "<IPython.core.display.HTML object>"
      ]
     },
     "metadata": {},
     "output_type": "display_data"
    },
    {
     "data": {
      "text/html": [
       "<span style=\"color:cyan\"> |-units_3: 6</span>"
      ],
      "text/plain": [
       "<IPython.core.display.HTML object>"
      ]
     },
     "metadata": {},
     "output_type": "display_data"
    },
    {
     "data": {
      "text/html": [
       "<span style=\"color:blue\"> |-units_4: 26</span>"
      ],
      "text/plain": [
       "<IPython.core.display.HTML object>"
      ]
     },
     "metadata": {},
     "output_type": "display_data"
    },
    {
     "name": "stdout",
     "output_type": "stream",
     "text": [
      "Train on 750 samples, validate on 250 samples\n",
      "Epoch 1/7\n",
      "750/750 [==============================] - ETA: 19s - loss: 0.7000 - accuracy: 0.437 - ETA: 0s - loss: 0.6934 - accuracy: 0.495 - 1s 2ms/sample - loss: 0.6929 - accuracy: 0.4987 - val_loss: 0.7004 - val_accuracy: 0.4080\n",
      "Epoch 2/7\n",
      "750/750 [==============================] - ETA: 0s - loss: 0.6866 - accuracy: 0.53 - 0s 126us/sample - loss: 0.6877 - accuracy: 0.5307 - val_loss: 0.7037 - val_accuracy: 0.4080\n",
      "Epoch 3/7\n",
      "750/750 [==============================] - ETA: 0s - loss: 0.6711 - accuracy: 0.56 - 0s 114us/sample - loss: 0.6837 - accuracy: 0.5307 - val_loss: 0.7028 - val_accuracy: 0.4080\n",
      "Epoch 4/7\n",
      "750/750 [==============================] - ETA: 0s - loss: 0.6679 - accuracy: 0.59 - 0s 122us/sample - loss: 0.6784 - accuracy: 0.5307 - val_loss: 0.6951 - val_accuracy: 0.4080\n",
      "Epoch 5/7\n",
      "750/750 [==============================] - ETA: 0s - loss: 0.6554 - accuracy: 0.62 - 0s 150us/sample - loss: 0.6705 - accuracy: 0.5333 - val_loss: 0.6897 - val_accuracy: 0.4160\n",
      "Epoch 6/7\n",
      "750/750 [==============================] - ETA: 0s - loss: 0.6876 - accuracy: 0.43 - 0s 155us/sample - loss: 0.6582 - accuracy: 0.5533 - val_loss: 0.6713 - val_accuracy: 0.4720\n",
      "Epoch 7/7\n",
      "750/750 [==============================] - ETA: 0s - loss: 0.6358 - accuracy: 0.62 - 0s 160us/sample - loss: 0.6342 - accuracy: 0.6787 - val_loss: 0.6292 - val_accuracy: 0.7480\n"
     ]
    },
    {
     "data": {
      "text/html": [
       "<span style=\"color:#4527A0\"><h1 style=\"font-size:18px\">Trial complete</h1></span>"
      ],
      "text/plain": [
       "<IPython.core.display.HTML object>"
      ]
     },
     "metadata": {},
     "output_type": "display_data"
    },
    {
     "data": {
      "text/html": [
       "<span style=\"color:#4527A0\"><h1 style=\"font-size:18px\">Trial summary</h1></span>"
      ],
      "text/plain": [
       "<IPython.core.display.HTML object>"
      ]
     },
     "metadata": {},
     "output_type": "display_data"
    },
    {
     "data": {
      "text/html": [
       "<span style=\"color:cyan\"> |-Trial ID: 9c06a64763a486f97d11485010c2d003</span>"
      ],
      "text/plain": [
       "<IPython.core.display.HTML object>"
      ]
     },
     "metadata": {},
     "output_type": "display_data"
    },
    {
     "data": {
      "text/html": [
       "<span style=\"color:cyan\"> |-Score: 0.7480000257492065</span>"
      ],
      "text/plain": [
       "<IPython.core.display.HTML object>"
      ]
     },
     "metadata": {},
     "output_type": "display_data"
    },
    {
     "data": {
      "text/html": [
       "<span style=\"color:cyan\"> |-Best step: 0</span>"
      ],
      "text/plain": [
       "<IPython.core.display.HTML object>"
      ]
     },
     "metadata": {},
     "output_type": "display_data"
    },
    {
     "data": {
      "text/html": [
       "<span style=\"color:#7E57C2\"><h2 style=\"font-size:16px\">Hyperparameters:</h2></span>"
      ],
      "text/plain": [
       "<IPython.core.display.HTML object>"
      ]
     },
     "metadata": {},
     "output_type": "display_data"
    },
    {
     "data": {
      "text/html": [
       "<span style=\"color:cyan\"> |-activation: relu</span>"
      ],
      "text/plain": [
       "<IPython.core.display.HTML object>"
      ]
     },
     "metadata": {},
     "output_type": "display_data"
    },
    {
     "data": {
      "text/html": [
       "<span style=\"color:blue\"> |-first_units: 11</span>"
      ],
      "text/plain": [
       "<IPython.core.display.HTML object>"
      ]
     },
     "metadata": {},
     "output_type": "display_data"
    },
    {
     "data": {
      "text/html": [
       "<span style=\"color:cyan\"> |-num_layers: 5</span>"
      ],
      "text/plain": [
       "<IPython.core.display.HTML object>"
      ]
     },
     "metadata": {},
     "output_type": "display_data"
    },
    {
     "data": {
      "text/html": [
       "<span style=\"color:blue\"> |-tuner/bracket: 1</span>"
      ],
      "text/plain": [
       "<IPython.core.display.HTML object>"
      ]
     },
     "metadata": {},
     "output_type": "display_data"
    },
    {
     "data": {
      "text/html": [
       "<span style=\"color:cyan\"> |-tuner/epochs: 7</span>"
      ],
      "text/plain": [
       "<IPython.core.display.HTML object>"
      ]
     },
     "metadata": {},
     "output_type": "display_data"
    },
    {
     "data": {
      "text/html": [
       "<span style=\"color:blue\"> |-tuner/initial_epoch: 0</span>"
      ],
      "text/plain": [
       "<IPython.core.display.HTML object>"
      ]
     },
     "metadata": {},
     "output_type": "display_data"
    },
    {
     "data": {
      "text/html": [
       "<span style=\"color:cyan\"> |-tuner/round: 0</span>"
      ],
      "text/plain": [
       "<IPython.core.display.HTML object>"
      ]
     },
     "metadata": {},
     "output_type": "display_data"
    },
    {
     "data": {
      "text/html": [
       "<span style=\"color:blue\"> |-units_0: 21</span>"
      ],
      "text/plain": [
       "<IPython.core.display.HTML object>"
      ]
     },
     "metadata": {},
     "output_type": "display_data"
    },
    {
     "data": {
      "text/html": [
       "<span style=\"color:cyan\"> |-units_1: 16</span>"
      ],
      "text/plain": [
       "<IPython.core.display.HTML object>"
      ]
     },
     "metadata": {},
     "output_type": "display_data"
    },
    {
     "data": {
      "text/html": [
       "<span style=\"color:blue\"> |-units_2: 6</span>"
      ],
      "text/plain": [
       "<IPython.core.display.HTML object>"
      ]
     },
     "metadata": {},
     "output_type": "display_data"
    },
    {
     "data": {
      "text/html": [
       "<span style=\"color:cyan\"> |-units_3: 26</span>"
      ],
      "text/plain": [
       "<IPython.core.display.HTML object>"
      ]
     },
     "metadata": {},
     "output_type": "display_data"
    },
    {
     "data": {
      "text/html": [
       "<span style=\"color:blue\"> |-units_4: 16</span>"
      ],
      "text/plain": [
       "<IPython.core.display.HTML object>"
      ]
     },
     "metadata": {},
     "output_type": "display_data"
    },
    {
     "name": "stdout",
     "output_type": "stream",
     "text": [
      "Train on 750 samples, validate on 250 samples\n",
      "Epoch 1/7\n",
      "750/750 [==============================] - ETA: 15s - loss: 0.7255 - accuracy: 0.375 - 1s 1ms/sample - loss: 0.6963 - accuracy: 0.5080 - val_loss: 0.7053 - val_accuracy: 0.4280\n",
      "Epoch 2/7\n",
      "750/750 [==============================] - ETA: 0s - loss: 0.6927 - accuracy: 0.46 - 0s 111us/sample - loss: 0.6924 - accuracy: 0.5280 - val_loss: 0.7021 - val_accuracy: 0.4080\n",
      "Epoch 3/7\n",
      "750/750 [==============================] - ETA: 0s - loss: 0.6879 - accuracy: 0.62 - 0s 102us/sample - loss: 0.6934 - accuracy: 0.5213 - val_loss: 0.7046 - val_accuracy: 0.3880\n",
      "Epoch 4/7\n",
      "750/750 [==============================] - ETA: 0s - loss: 0.6829 - accuracy: 0.59 - 0s 141us/sample - loss: 0.6914 - accuracy: 0.5333 - val_loss: 0.7078 - val_accuracy: 0.4440\n",
      "Epoch 5/7\n",
      "750/750 [==============================] - ETA: 0s - loss: 0.6784 - accuracy: 0.62 - 0s 107us/sample - loss: 0.6922 - accuracy: 0.5200 - val_loss: 0.7066 - val_accuracy: 0.4400\n",
      "Epoch 6/7\n",
      "750/750 [==============================] - ETA: 0s - loss: 0.6921 - accuracy: 0.50 - 0s 107us/sample - loss: 0.6912 - accuracy: 0.5400 - val_loss: 0.7027 - val_accuracy: 0.4360\n",
      "Epoch 7/7\n",
      "750/750 [==============================] - ETA: 0s - loss: 0.6915 - accuracy: 0.50 - 0s 138us/sample - loss: 0.6905 - accuracy: 0.5747 - val_loss: 0.6994 - val_accuracy: 0.4600\n"
     ]
    },
    {
     "data": {
      "text/html": [
       "<span style=\"color:#4527A0\"><h1 style=\"font-size:18px\">Trial complete</h1></span>"
      ],
      "text/plain": [
       "<IPython.core.display.HTML object>"
      ]
     },
     "metadata": {},
     "output_type": "display_data"
    },
    {
     "data": {
      "text/html": [
       "<span style=\"color:#4527A0\"><h1 style=\"font-size:18px\">Trial summary</h1></span>"
      ],
      "text/plain": [
       "<IPython.core.display.HTML object>"
      ]
     },
     "metadata": {},
     "output_type": "display_data"
    },
    {
     "data": {
      "text/html": [
       "<span style=\"color:cyan\"> |-Trial ID: d71d401fd98632527215f6e1bc4eccf2</span>"
      ],
      "text/plain": [
       "<IPython.core.display.HTML object>"
      ]
     },
     "metadata": {},
     "output_type": "display_data"
    },
    {
     "data": {
      "text/html": [
       "<span style=\"color:cyan\"> |-Score: 0.46000000834465027</span>"
      ],
      "text/plain": [
       "<IPython.core.display.HTML object>"
      ]
     },
     "metadata": {},
     "output_type": "display_data"
    },
    {
     "data": {
      "text/html": [
       "<span style=\"color:cyan\"> |-Best step: 0</span>"
      ],
      "text/plain": [
       "<IPython.core.display.HTML object>"
      ]
     },
     "metadata": {},
     "output_type": "display_data"
    },
    {
     "data": {
      "text/html": [
       "<span style=\"color:#7E57C2\"><h2 style=\"font-size:16px\">Hyperparameters:</h2></span>"
      ],
      "text/plain": [
       "<IPython.core.display.HTML object>"
      ]
     },
     "metadata": {},
     "output_type": "display_data"
    },
    {
     "data": {
      "text/html": [
       "<span style=\"color:cyan\"> |-activation: tanh</span>"
      ],
      "text/plain": [
       "<IPython.core.display.HTML object>"
      ]
     },
     "metadata": {},
     "output_type": "display_data"
    },
    {
     "data": {
      "text/html": [
       "<span style=\"color:blue\"> |-first_units: 21</span>"
      ],
      "text/plain": [
       "<IPython.core.display.HTML object>"
      ]
     },
     "metadata": {},
     "output_type": "display_data"
    },
    {
     "data": {
      "text/html": [
       "<span style=\"color:cyan\"> |-num_layers: 1</span>"
      ],
      "text/plain": [
       "<IPython.core.display.HTML object>"
      ]
     },
     "metadata": {},
     "output_type": "display_data"
    },
    {
     "data": {
      "text/html": [
       "<span style=\"color:blue\"> |-tuner/bracket: 1</span>"
      ],
      "text/plain": [
       "<IPython.core.display.HTML object>"
      ]
     },
     "metadata": {},
     "output_type": "display_data"
    },
    {
     "data": {
      "text/html": [
       "<span style=\"color:cyan\"> |-tuner/epochs: 7</span>"
      ],
      "text/plain": [
       "<IPython.core.display.HTML object>"
      ]
     },
     "metadata": {},
     "output_type": "display_data"
    },
    {
     "data": {
      "text/html": [
       "<span style=\"color:blue\"> |-tuner/initial_epoch: 0</span>"
      ],
      "text/plain": [
       "<IPython.core.display.HTML object>"
      ]
     },
     "metadata": {},
     "output_type": "display_data"
    },
    {
     "data": {
      "text/html": [
       "<span style=\"color:cyan\"> |-tuner/round: 0</span>"
      ],
      "text/plain": [
       "<IPython.core.display.HTML object>"
      ]
     },
     "metadata": {},
     "output_type": "display_data"
    },
    {
     "data": {
      "text/html": [
       "<span style=\"color:blue\"> |-units_0: 26</span>"
      ],
      "text/plain": [
       "<IPython.core.display.HTML object>"
      ]
     },
     "metadata": {},
     "output_type": "display_data"
    },
    {
     "data": {
      "text/html": [
       "<span style=\"color:cyan\"> |-units_1: 26</span>"
      ],
      "text/plain": [
       "<IPython.core.display.HTML object>"
      ]
     },
     "metadata": {},
     "output_type": "display_data"
    },
    {
     "data": {
      "text/html": [
       "<span style=\"color:blue\"> |-units_2: 6</span>"
      ],
      "text/plain": [
       "<IPython.core.display.HTML object>"
      ]
     },
     "metadata": {},
     "output_type": "display_data"
    },
    {
     "data": {
      "text/html": [
       "<span style=\"color:cyan\"> |-units_3: 26</span>"
      ],
      "text/plain": [
       "<IPython.core.display.HTML object>"
      ]
     },
     "metadata": {},
     "output_type": "display_data"
    },
    {
     "data": {
      "text/html": [
       "<span style=\"color:blue\"> |-units_4: 16</span>"
      ],
      "text/plain": [
       "<IPython.core.display.HTML object>"
      ]
     },
     "metadata": {},
     "output_type": "display_data"
    },
    {
     "name": "stdout",
     "output_type": "stream",
     "text": [
      "Train on 750 samples, validate on 250 samples\n",
      "Epoch 1/7\n",
      "750/750 [==============================] - ETA: 20s - loss: 0.6939 - accuracy: 0.531 - 1s 2ms/sample - loss: 0.6944 - accuracy: 0.4680 - val_loss: 0.6945 - val_accuracy: 0.4080\n",
      "Epoch 2/7\n",
      "750/750 [==============================] - ETA: 0s - loss: 0.6924 - accuracy: 0.53 - 0s 121us/sample - loss: 0.6923 - accuracy: 0.5307 - val_loss: 0.6977 - val_accuracy: 0.4080\n",
      "Epoch 3/7\n",
      "750/750 [==============================] - ETA: 0s - loss: 0.6962 - accuracy: 0.50 - 0s 124us/sample - loss: 0.6906 - accuracy: 0.5307 - val_loss: 0.6985 - val_accuracy: 0.4080\n",
      "Epoch 4/7\n",
      "750/750 [==============================] - ETA: 0s - loss: 0.6722 - accuracy: 0.68 - 0s 128us/sample - loss: 0.6890 - accuracy: 0.5307 - val_loss: 0.7016 - val_accuracy: 0.4080\n",
      "Epoch 5/7\n",
      "750/750 [==============================] - ETA: 0s - loss: 0.7102 - accuracy: 0.34 - 0s 119us/sample - loss: 0.6871 - accuracy: 0.5307 - val_loss: 0.7043 - val_accuracy: 0.4080\n",
      "Epoch 6/7\n",
      "750/750 [==============================] - ETA: 0s - loss: 0.6685 - accuracy: 0.59 - 0s 128us/sample - loss: 0.6850 - accuracy: 0.5307 - val_loss: 0.7051 - val_accuracy: 0.4080\n",
      "Epoch 7/7\n",
      "750/750 [==============================] - ETA: 0s - loss: 0.6746 - accuracy: 0.56 - 0s 120us/sample - loss: 0.6824 - accuracy: 0.5307 - val_loss: 0.7067 - val_accuracy: 0.4080\n"
     ]
    },
    {
     "data": {
      "text/html": [
       "<span style=\"color:#4527A0\"><h1 style=\"font-size:18px\">Trial complete</h1></span>"
      ],
      "text/plain": [
       "<IPython.core.display.HTML object>"
      ]
     },
     "metadata": {},
     "output_type": "display_data"
    },
    {
     "data": {
      "text/html": [
       "<span style=\"color:#4527A0\"><h1 style=\"font-size:18px\">Trial summary</h1></span>"
      ],
      "text/plain": [
       "<IPython.core.display.HTML object>"
      ]
     },
     "metadata": {},
     "output_type": "display_data"
    },
    {
     "data": {
      "text/html": [
       "<span style=\"color:cyan\"> |-Trial ID: c75b9a1ec1bd6c747052b8b19936bf76</span>"
      ],
      "text/plain": [
       "<IPython.core.display.HTML object>"
      ]
     },
     "metadata": {},
     "output_type": "display_data"
    },
    {
     "data": {
      "text/html": [
       "<span style=\"color:cyan\"> |-Score: 0.40799999237060547</span>"
      ],
      "text/plain": [
       "<IPython.core.display.HTML object>"
      ]
     },
     "metadata": {},
     "output_type": "display_data"
    },
    {
     "data": {
      "text/html": [
       "<span style=\"color:cyan\"> |-Best step: 0</span>"
      ],
      "text/plain": [
       "<IPython.core.display.HTML object>"
      ]
     },
     "metadata": {},
     "output_type": "display_data"
    },
    {
     "data": {
      "text/html": [
       "<span style=\"color:#7E57C2\"><h2 style=\"font-size:16px\">Hyperparameters:</h2></span>"
      ],
      "text/plain": [
       "<IPython.core.display.HTML object>"
      ]
     },
     "metadata": {},
     "output_type": "display_data"
    },
    {
     "data": {
      "text/html": [
       "<span style=\"color:cyan\"> |-activation: relu</span>"
      ],
      "text/plain": [
       "<IPython.core.display.HTML object>"
      ]
     },
     "metadata": {},
     "output_type": "display_data"
    },
    {
     "data": {
      "text/html": [
       "<span style=\"color:blue\"> |-first_units: 26</span>"
      ],
      "text/plain": [
       "<IPython.core.display.HTML object>"
      ]
     },
     "metadata": {},
     "output_type": "display_data"
    },
    {
     "data": {
      "text/html": [
       "<span style=\"color:cyan\"> |-num_layers: 4</span>"
      ],
      "text/plain": [
       "<IPython.core.display.HTML object>"
      ]
     },
     "metadata": {},
     "output_type": "display_data"
    },
    {
     "data": {
      "text/html": [
       "<span style=\"color:blue\"> |-tuner/bracket: 1</span>"
      ],
      "text/plain": [
       "<IPython.core.display.HTML object>"
      ]
     },
     "metadata": {},
     "output_type": "display_data"
    },
    {
     "data": {
      "text/html": [
       "<span style=\"color:cyan\"> |-tuner/epochs: 7</span>"
      ],
      "text/plain": [
       "<IPython.core.display.HTML object>"
      ]
     },
     "metadata": {},
     "output_type": "display_data"
    },
    {
     "data": {
      "text/html": [
       "<span style=\"color:blue\"> |-tuner/initial_epoch: 0</span>"
      ],
      "text/plain": [
       "<IPython.core.display.HTML object>"
      ]
     },
     "metadata": {},
     "output_type": "display_data"
    },
    {
     "data": {
      "text/html": [
       "<span style=\"color:cyan\"> |-tuner/round: 0</span>"
      ],
      "text/plain": [
       "<IPython.core.display.HTML object>"
      ]
     },
     "metadata": {},
     "output_type": "display_data"
    },
    {
     "data": {
      "text/html": [
       "<span style=\"color:blue\"> |-units_0: 6</span>"
      ],
      "text/plain": [
       "<IPython.core.display.HTML object>"
      ]
     },
     "metadata": {},
     "output_type": "display_data"
    },
    {
     "data": {
      "text/html": [
       "<span style=\"color:cyan\"> |-units_1: 21</span>"
      ],
      "text/plain": [
       "<IPython.core.display.HTML object>"
      ]
     },
     "metadata": {},
     "output_type": "display_data"
    },
    {
     "data": {
      "text/html": [
       "<span style=\"color:blue\"> |-units_2: 6</span>"
      ],
      "text/plain": [
       "<IPython.core.display.HTML object>"
      ]
     },
     "metadata": {},
     "output_type": "display_data"
    },
    {
     "data": {
      "text/html": [
       "<span style=\"color:cyan\"> |-units_3: 11</span>"
      ],
      "text/plain": [
       "<IPython.core.display.HTML object>"
      ]
     },
     "metadata": {},
     "output_type": "display_data"
    },
    {
     "data": {
      "text/html": [
       "<span style=\"color:blue\"> |-units_4: 6</span>"
      ],
      "text/plain": [
       "<IPython.core.display.HTML object>"
      ]
     },
     "metadata": {},
     "output_type": "display_data"
    },
    {
     "name": "stdout",
     "output_type": "stream",
     "text": [
      "Train on 750 samples, validate on 250 samples\n",
      "Epoch 1/7\n",
      "750/750 [==============================] - ETA: 18s - loss: 0.7072 - accuracy: 0.468 - 1s 1ms/sample - loss: 0.6970 - accuracy: 0.5120 - val_loss: 0.7135 - val_accuracy: 0.4080\n",
      "Epoch 2/7\n",
      "750/750 [==============================] - ETA: 0s - loss: 0.6959 - accuracy: 0.59 - 0s 113us/sample - loss: 0.6930 - accuracy: 0.5200 - val_loss: 0.7092 - val_accuracy: 0.4080\n",
      "Epoch 3/7\n",
      "750/750 [==============================] - ETA: 0s - loss: 0.6783 - accuracy: 0.56 - 0s 143us/sample - loss: 0.6919 - accuracy: 0.5133 - val_loss: 0.7115 - val_accuracy: 0.4160\n",
      "Epoch 4/7\n",
      "750/750 [==============================] - ETA: 0s - loss: 0.6907 - accuracy: 0.50 - 0s 139us/sample - loss: 0.6923 - accuracy: 0.5027 - val_loss: 0.7097 - val_accuracy: 0.4200\n",
      "Epoch 5/7\n",
      "750/750 [==============================] - ETA: 0s - loss: 0.7169 - accuracy: 0.40 - 0s 109us/sample - loss: 0.6912 - accuracy: 0.5120 - val_loss: 0.7085 - val_accuracy: 0.3880\n",
      "Epoch 6/7\n",
      "750/750 [==============================] - ETA: 0s - loss: 0.7048 - accuracy: 0.37 - ETA: 0s - loss: 0.6908 - accuracy: 0.51 - 0s 168us/sample - loss: 0.6903 - accuracy: 0.5160 - val_loss: 0.7091 - val_accuracy: 0.4200\n",
      "Epoch 7/7\n",
      "750/750 [==============================] - ETA: 0s - loss: 0.6907 - accuracy: 0.50 - 0s 172us/sample - loss: 0.6896 - accuracy: 0.5253 - val_loss: 0.7081 - val_accuracy: 0.4320\n"
     ]
    },
    {
     "data": {
      "text/html": [
       "<span style=\"color:#4527A0\"><h1 style=\"font-size:18px\">Trial complete</h1></span>"
      ],
      "text/plain": [
       "<IPython.core.display.HTML object>"
      ]
     },
     "metadata": {},
     "output_type": "display_data"
    },
    {
     "data": {
      "text/html": [
       "<span style=\"color:#4527A0\"><h1 style=\"font-size:18px\">Trial summary</h1></span>"
      ],
      "text/plain": [
       "<IPython.core.display.HTML object>"
      ]
     },
     "metadata": {},
     "output_type": "display_data"
    },
    {
     "data": {
      "text/html": [
       "<span style=\"color:cyan\"> |-Trial ID: c2e3ca4e3acbf4915325cb703ae030fe</span>"
      ],
      "text/plain": [
       "<IPython.core.display.HTML object>"
      ]
     },
     "metadata": {},
     "output_type": "display_data"
    },
    {
     "data": {
      "text/html": [
       "<span style=\"color:cyan\"> |-Score: 0.4320000112056732</span>"
      ],
      "text/plain": [
       "<IPython.core.display.HTML object>"
      ]
     },
     "metadata": {},
     "output_type": "display_data"
    },
    {
     "data": {
      "text/html": [
       "<span style=\"color:cyan\"> |-Best step: 0</span>"
      ],
      "text/plain": [
       "<IPython.core.display.HTML object>"
      ]
     },
     "metadata": {},
     "output_type": "display_data"
    },
    {
     "data": {
      "text/html": [
       "<span style=\"color:#7E57C2\"><h2 style=\"font-size:16px\">Hyperparameters:</h2></span>"
      ],
      "text/plain": [
       "<IPython.core.display.HTML object>"
      ]
     },
     "metadata": {},
     "output_type": "display_data"
    },
    {
     "data": {
      "text/html": [
       "<span style=\"color:cyan\"> |-activation: tanh</span>"
      ],
      "text/plain": [
       "<IPython.core.display.HTML object>"
      ]
     },
     "metadata": {},
     "output_type": "display_data"
    },
    {
     "data": {
      "text/html": [
       "<span style=\"color:blue\"> |-first_units: 6</span>"
      ],
      "text/plain": [
       "<IPython.core.display.HTML object>"
      ]
     },
     "metadata": {},
     "output_type": "display_data"
    },
    {
     "data": {
      "text/html": [
       "<span style=\"color:cyan\"> |-num_layers: 3</span>"
      ],
      "text/plain": [
       "<IPython.core.display.HTML object>"
      ]
     },
     "metadata": {},
     "output_type": "display_data"
    },
    {
     "data": {
      "text/html": [
       "<span style=\"color:blue\"> |-tuner/bracket: 1</span>"
      ],
      "text/plain": [
       "<IPython.core.display.HTML object>"
      ]
     },
     "metadata": {},
     "output_type": "display_data"
    },
    {
     "data": {
      "text/html": [
       "<span style=\"color:cyan\"> |-tuner/epochs: 7</span>"
      ],
      "text/plain": [
       "<IPython.core.display.HTML object>"
      ]
     },
     "metadata": {},
     "output_type": "display_data"
    },
    {
     "data": {
      "text/html": [
       "<span style=\"color:blue\"> |-tuner/initial_epoch: 0</span>"
      ],
      "text/plain": [
       "<IPython.core.display.HTML object>"
      ]
     },
     "metadata": {},
     "output_type": "display_data"
    },
    {
     "data": {
      "text/html": [
       "<span style=\"color:cyan\"> |-tuner/round: 0</span>"
      ],
      "text/plain": [
       "<IPython.core.display.HTML object>"
      ]
     },
     "metadata": {},
     "output_type": "display_data"
    },
    {
     "data": {
      "text/html": [
       "<span style=\"color:blue\"> |-units_0: 11</span>"
      ],
      "text/plain": [
       "<IPython.core.display.HTML object>"
      ]
     },
     "metadata": {},
     "output_type": "display_data"
    },
    {
     "data": {
      "text/html": [
       "<span style=\"color:cyan\"> |-units_1: 11</span>"
      ],
      "text/plain": [
       "<IPython.core.display.HTML object>"
      ]
     },
     "metadata": {},
     "output_type": "display_data"
    },
    {
     "data": {
      "text/html": [
       "<span style=\"color:blue\"> |-units_2: 11</span>"
      ],
      "text/plain": [
       "<IPython.core.display.HTML object>"
      ]
     },
     "metadata": {},
     "output_type": "display_data"
    },
    {
     "data": {
      "text/html": [
       "<span style=\"color:cyan\"> |-units_3: 21</span>"
      ],
      "text/plain": [
       "<IPython.core.display.HTML object>"
      ]
     },
     "metadata": {},
     "output_type": "display_data"
    },
    {
     "data": {
      "text/html": [
       "<span style=\"color:blue\"> |-units_4: 16</span>"
      ],
      "text/plain": [
       "<IPython.core.display.HTML object>"
      ]
     },
     "metadata": {},
     "output_type": "display_data"
    },
    {
     "name": "stdout",
     "output_type": "stream",
     "text": [
      "Train on 750 samples, validate on 250 samples\n",
      "Epoch 8/20\n",
      "750/750 [==============================] - ETA: 24s - loss: 0.6983 - accuracy: 0.468 - ETA: 0s - loss: 0.6880 - accuracy: 0.529 - 1s 2ms/sample - loss: 0.6875 - accuracy: 0.5333 - val_loss: 0.7011 - val_accuracy: 0.4080\n",
      "Epoch 9/20\n",
      "750/750 [==============================] - ETA: 0s - loss: 0.7007 - accuracy: 0.46 - 0s 123us/sample - loss: 0.6826 - accuracy: 0.5307 - val_loss: 0.7039 - val_accuracy: 0.4080\n",
      "Epoch 10/20\n",
      "750/750 [==============================] - ETA: 0s - loss: 0.7223 - accuracy: 0.37 - 0s 120us/sample - loss: 0.6769 - accuracy: 0.5307 - val_loss: 0.7027 - val_accuracy: 0.4080\n",
      "Epoch 11/20\n",
      "750/750 [==============================] - ETA: 0s - loss: 0.6631 - accuracy: 0.56 - 0s 122us/sample - loss: 0.6697 - accuracy: 0.5427 - val_loss: 0.7031 - val_accuracy: 0.4080\n",
      "Epoch 12/20\n",
      "750/750 [==============================] - ETA: 0s - loss: 0.6773 - accuracy: 0.50 - 0s 124us/sample - loss: 0.6563 - accuracy: 0.5413 - val_loss: 0.6839 - val_accuracy: 0.4080\n",
      "Epoch 13/20\n",
      "750/750 [==============================] - ETA: 0s - loss: 0.6718 - accuracy: 0.43 - ETA: 0s - loss: 0.6306 - accuracy: 0.62 - 0s 186us/sample - loss: 0.6292 - accuracy: 0.6200 - val_loss: 0.6648 - val_accuracy: 0.4200\n",
      "Epoch 14/20\n",
      "750/750 [==============================] - ETA: 0s - loss: 0.6111 - accuracy: 0.56 - ETA: 0s - loss: 0.5903 - accuracy: 0.71 - 0s 180us/sample - loss: 0.5901 - accuracy: 0.7147 - val_loss: 0.5798 - val_accuracy: 0.7840\n",
      "Epoch 15/20\n",
      "750/750 [==============================] - ETA: 0s - loss: 0.5606 - accuracy: 0.75 - 0s 156us/sample - loss: 0.5239 - accuracy: 0.8307 - val_loss: 0.5202 - val_accuracy: 0.8000\n",
      "Epoch 16/20\n",
      "750/750 [==============================] - ETA: 0s - loss: 0.5250 - accuracy: 0.81 - 0s 165us/sample - loss: 0.4325 - accuracy: 0.9133 - val_loss: 0.4064 - val_accuracy: 0.9320\n",
      "Epoch 17/20\n",
      "750/750 [==============================] - ETA: 0s - loss: 0.4037 - accuracy: 0.93 - ETA: 0s - loss: 0.3666 - accuracy: 0.93 - 0s 152us/sample - loss: 0.3573 - accuracy: 0.9333 - val_loss: 0.3479 - val_accuracy: 0.9240\n",
      "Epoch 18/20\n",
      "750/750 [==============================] - ETA: 0s - loss: 0.2793 - accuracy: 0.93 - ETA: 0s - loss: 0.2745 - accuracy: 0.95 - 0s 167us/sample - loss: 0.2716 - accuracy: 0.9560 - val_loss: 0.3277 - val_accuracy: 0.8720\n",
      "Epoch 19/20\n",
      "750/750 [==============================] - ETA: 0s - loss: 0.3296 - accuracy: 0.84 - ETA: 0s - loss: 0.2239 - accuracy: 0.94 - 0s 172us/sample - loss: 0.2216 - accuracy: 0.9507 - val_loss: 0.2039 - val_accuracy: 0.9600\n",
      "Epoch 20/20\n",
      "750/750 [==============================] - ETA: 0s - loss: 0.1824 - accuracy: 1.00 - 0s 131us/sample - loss: 0.1761 - accuracy: 0.9587 - val_loss: 0.1684 - val_accuracy: 0.9520\n"
     ]
    },
    {
     "data": {
      "text/html": [
       "<span style=\"color:#4527A0\"><h1 style=\"font-size:18px\">Trial complete</h1></span>"
      ],
      "text/plain": [
       "<IPython.core.display.HTML object>"
      ]
     },
     "metadata": {},
     "output_type": "display_data"
    },
    {
     "data": {
      "text/html": [
       "<span style=\"color:#4527A0\"><h1 style=\"font-size:18px\">Trial summary</h1></span>"
      ],
      "text/plain": [
       "<IPython.core.display.HTML object>"
      ]
     },
     "metadata": {},
     "output_type": "display_data"
    },
    {
     "data": {
      "text/html": [
       "<span style=\"color:cyan\"> |-Trial ID: b44de11ddcaca74d84b132e3bd3616a3</span>"
      ],
      "text/plain": [
       "<IPython.core.display.HTML object>"
      ]
     },
     "metadata": {},
     "output_type": "display_data"
    },
    {
     "data": {
      "text/html": [
       "<span style=\"color:cyan\"> |-Score: 0.9599999785423279</span>"
      ],
      "text/plain": [
       "<IPython.core.display.HTML object>"
      ]
     },
     "metadata": {},
     "output_type": "display_data"
    },
    {
     "data": {
      "text/html": [
       "<span style=\"color:cyan\"> |-Best step: 0</span>"
      ],
      "text/plain": [
       "<IPython.core.display.HTML object>"
      ]
     },
     "metadata": {},
     "output_type": "display_data"
    },
    {
     "data": {
      "text/html": [
       "<span style=\"color:#7E57C2\"><h2 style=\"font-size:16px\">Hyperparameters:</h2></span>"
      ],
      "text/plain": [
       "<IPython.core.display.HTML object>"
      ]
     },
     "metadata": {},
     "output_type": "display_data"
    },
    {
     "data": {
      "text/html": [
       "<span style=\"color:cyan\"> |-activation: relu</span>"
      ],
      "text/plain": [
       "<IPython.core.display.HTML object>"
      ]
     },
     "metadata": {},
     "output_type": "display_data"
    },
    {
     "data": {
      "text/html": [
       "<span style=\"color:blue\"> |-first_units: 11</span>"
      ],
      "text/plain": [
       "<IPython.core.display.HTML object>"
      ]
     },
     "metadata": {},
     "output_type": "display_data"
    },
    {
     "data": {
      "text/html": [
       "<span style=\"color:cyan\"> |-num_layers: 5</span>"
      ],
      "text/plain": [
       "<IPython.core.display.HTML object>"
      ]
     },
     "metadata": {},
     "output_type": "display_data"
    },
    {
     "data": {
      "text/html": [
       "<span style=\"color:blue\"> |-tuner/bracket: 1</span>"
      ],
      "text/plain": [
       "<IPython.core.display.HTML object>"
      ]
     },
     "metadata": {},
     "output_type": "display_data"
    },
    {
     "data": {
      "text/html": [
       "<span style=\"color:cyan\"> |-tuner/epochs: 20</span>"
      ],
      "text/plain": [
       "<IPython.core.display.HTML object>"
      ]
     },
     "metadata": {},
     "output_type": "display_data"
    },
    {
     "data": {
      "text/html": [
       "<span style=\"color:blue\"> |-tuner/initial_epoch: 7</span>"
      ],
      "text/plain": [
       "<IPython.core.display.HTML object>"
      ]
     },
     "metadata": {},
     "output_type": "display_data"
    },
    {
     "data": {
      "text/html": [
       "<span style=\"color:cyan\"> |-tuner/round: 1</span>"
      ],
      "text/plain": [
       "<IPython.core.display.HTML object>"
      ]
     },
     "metadata": {},
     "output_type": "display_data"
    },
    {
     "data": {
      "text/html": [
       "<span style=\"color:blue\"> |-tuner/trial_id: 9c06a64763a486f97d11485010c2d003</span>"
      ],
      "text/plain": [
       "<IPython.core.display.HTML object>"
      ]
     },
     "metadata": {},
     "output_type": "display_data"
    },
    {
     "data": {
      "text/html": [
       "<span style=\"color:cyan\"> |-units_0: 21</span>"
      ],
      "text/plain": [
       "<IPython.core.display.HTML object>"
      ]
     },
     "metadata": {},
     "output_type": "display_data"
    },
    {
     "data": {
      "text/html": [
       "<span style=\"color:blue\"> |-units_1: 16</span>"
      ],
      "text/plain": [
       "<IPython.core.display.HTML object>"
      ]
     },
     "metadata": {},
     "output_type": "display_data"
    },
    {
     "data": {
      "text/html": [
       "<span style=\"color:cyan\"> |-units_2: 6</span>"
      ],
      "text/plain": [
       "<IPython.core.display.HTML object>"
      ]
     },
     "metadata": {},
     "output_type": "display_data"
    },
    {
     "data": {
      "text/html": [
       "<span style=\"color:blue\"> |-units_3: 26</span>"
      ],
      "text/plain": [
       "<IPython.core.display.HTML object>"
      ]
     },
     "metadata": {},
     "output_type": "display_data"
    },
    {
     "data": {
      "text/html": [
       "<span style=\"color:cyan\"> |-units_4: 16</span>"
      ],
      "text/plain": [
       "<IPython.core.display.HTML object>"
      ]
     },
     "metadata": {},
     "output_type": "display_data"
    },
    {
     "name": "stdout",
     "output_type": "stream",
     "text": [
      "Train on 750 samples, validate on 250 samples\n",
      "Epoch 8/20\n",
      "750/750 [==============================] - ETA: 14s - loss: 0.6832 - accuracy: 0.531 - 1s 1ms/sample - loss: 0.6968 - accuracy: 0.4733 - val_loss: 0.7000 - val_accuracy: 0.4360\n",
      "Epoch 9/20\n",
      "750/750 [==============================] - ETA: 0s - loss: 0.6876 - accuracy: 0.59 - 0s 112us/sample - loss: 0.6934 - accuracy: 0.5067 - val_loss: 0.7058 - val_accuracy: 0.4200\n",
      "Epoch 10/20\n",
      "750/750 [==============================] - ETA: 0s - loss: 0.6959 - accuracy: 0.43 - 0s 104us/sample - loss: 0.6915 - accuracy: 0.4893 - val_loss: 0.7017 - val_accuracy: 0.4080\n",
      "Epoch 11/20\n",
      "750/750 [==============================] - ETA: 0s - loss: 0.7015 - accuracy: 0.40 - 0s 111us/sample - loss: 0.6918 - accuracy: 0.5280 - val_loss: 0.7044 - val_accuracy: 0.4160\n",
      "Epoch 12/20\n",
      "750/750 [==============================] - ETA: 0s - loss: 0.6911 - accuracy: 0.43 - 0s 103us/sample - loss: 0.6911 - accuracy: 0.4880 - val_loss: 0.7059 - val_accuracy: 0.4240\n",
      "Epoch 13/20\n",
      "750/750 [==============================] - ETA: 0s - loss: 0.6745 - accuracy: 0.53 - 0s 98us/sample - loss: 0.6902 - accuracy: 0.5333 - val_loss: 0.7019 - val_accuracy: 0.4200\n",
      "Epoch 14/20\n",
      "750/750 [==============================] - ETA: 0s - loss: 0.6911 - accuracy: 0.53 - 0s 108us/sample - loss: 0.6900 - accuracy: 0.5120 - val_loss: 0.7040 - val_accuracy: 0.4160\n",
      "Epoch 15/20\n",
      "750/750 [==============================] - ETA: 0s - loss: 0.7102 - accuracy: 0.37 - 0s 124us/sample - loss: 0.6897 - accuracy: 0.5400 - val_loss: 0.7033 - val_accuracy: 0.4160\n",
      "Epoch 16/20\n",
      "750/750 [==============================] - ETA: 0s - loss: 0.6657 - accuracy: 0.75 - 0s 139us/sample - loss: 0.6885 - accuracy: 0.5293 - val_loss: 0.7056 - val_accuracy: 0.4320\n",
      "Epoch 17/20\n",
      "750/750 [==============================] - ETA: 0s - loss: 0.6946 - accuracy: 0.53 - 0s 125us/sample - loss: 0.6879 - accuracy: 0.5307 - val_loss: 0.7007 - val_accuracy: 0.4280\n",
      "Epoch 18/20\n",
      "750/750 [==============================] - ETA: 0s - loss: 0.6851 - accuracy: 0.59 - 0s 149us/sample - loss: 0.6878 - accuracy: 0.5373 - val_loss: 0.7027 - val_accuracy: 0.4360\n",
      "Epoch 19/20\n",
      "750/750 [==============================] - ETA: 0s - loss: 0.6681 - accuracy: 0.71 - ETA: 0s - loss: 0.6872 - accuracy: 0.55 - 0s 220us/sample - loss: 0.6876 - accuracy: 0.5507 - val_loss: 0.7027 - val_accuracy: 0.4400\n",
      "Epoch 20/20\n",
      "750/750 [==============================] - ETA: 0s - loss: 0.7048 - accuracy: 0.40 - ETA: 0s - loss: 0.6849 - accuracy: 0.56 - 0s 158us/sample - loss: 0.6854 - accuracy: 0.5587 - val_loss: 0.7004 - val_accuracy: 0.4160\n"
     ]
    },
    {
     "data": {
      "text/html": [
       "<span style=\"color:#4527A0\"><h1 style=\"font-size:18px\">Trial complete</h1></span>"
      ],
      "text/plain": [
       "<IPython.core.display.HTML object>"
      ]
     },
     "metadata": {},
     "output_type": "display_data"
    },
    {
     "data": {
      "text/html": [
       "<span style=\"color:#4527A0\"><h1 style=\"font-size:18px\">Trial summary</h1></span>"
      ],
      "text/plain": [
       "<IPython.core.display.HTML object>"
      ]
     },
     "metadata": {},
     "output_type": "display_data"
    },
    {
     "data": {
      "text/html": [
       "<span style=\"color:cyan\"> |-Trial ID: 378b01fa36a1932d11be63b9e9ec5839</span>"
      ],
      "text/plain": [
       "<IPython.core.display.HTML object>"
      ]
     },
     "metadata": {},
     "output_type": "display_data"
    },
    {
     "data": {
      "text/html": [
       "<span style=\"color:cyan\"> |-Score: 0.4399999976158142</span>"
      ],
      "text/plain": [
       "<IPython.core.display.HTML object>"
      ]
     },
     "metadata": {},
     "output_type": "display_data"
    },
    {
     "data": {
      "text/html": [
       "<span style=\"color:cyan\"> |-Best step: 0</span>"
      ],
      "text/plain": [
       "<IPython.core.display.HTML object>"
      ]
     },
     "metadata": {},
     "output_type": "display_data"
    },
    {
     "data": {
      "text/html": [
       "<span style=\"color:#7E57C2\"><h2 style=\"font-size:16px\">Hyperparameters:</h2></span>"
      ],
      "text/plain": [
       "<IPython.core.display.HTML object>"
      ]
     },
     "metadata": {},
     "output_type": "display_data"
    },
    {
     "data": {
      "text/html": [
       "<span style=\"color:cyan\"> |-activation: tanh</span>"
      ],
      "text/plain": [
       "<IPython.core.display.HTML object>"
      ]
     },
     "metadata": {},
     "output_type": "display_data"
    },
    {
     "data": {
      "text/html": [
       "<span style=\"color:blue\"> |-first_units: 21</span>"
      ],
      "text/plain": [
       "<IPython.core.display.HTML object>"
      ]
     },
     "metadata": {},
     "output_type": "display_data"
    },
    {
     "data": {
      "text/html": [
       "<span style=\"color:cyan\"> |-num_layers: 1</span>"
      ],
      "text/plain": [
       "<IPython.core.display.HTML object>"
      ]
     },
     "metadata": {},
     "output_type": "display_data"
    },
    {
     "data": {
      "text/html": [
       "<span style=\"color:blue\"> |-tuner/bracket: 1</span>"
      ],
      "text/plain": [
       "<IPython.core.display.HTML object>"
      ]
     },
     "metadata": {},
     "output_type": "display_data"
    },
    {
     "data": {
      "text/html": [
       "<span style=\"color:cyan\"> |-tuner/epochs: 20</span>"
      ],
      "text/plain": [
       "<IPython.core.display.HTML object>"
      ]
     },
     "metadata": {},
     "output_type": "display_data"
    },
    {
     "data": {
      "text/html": [
       "<span style=\"color:blue\"> |-tuner/initial_epoch: 7</span>"
      ],
      "text/plain": [
       "<IPython.core.display.HTML object>"
      ]
     },
     "metadata": {},
     "output_type": "display_data"
    },
    {
     "data": {
      "text/html": [
       "<span style=\"color:cyan\"> |-tuner/round: 1</span>"
      ],
      "text/plain": [
       "<IPython.core.display.HTML object>"
      ]
     },
     "metadata": {},
     "output_type": "display_data"
    },
    {
     "data": {
      "text/html": [
       "<span style=\"color:blue\"> |-tuner/trial_id: d71d401fd98632527215f6e1bc4eccf2</span>"
      ],
      "text/plain": [
       "<IPython.core.display.HTML object>"
      ]
     },
     "metadata": {},
     "output_type": "display_data"
    },
    {
     "data": {
      "text/html": [
       "<span style=\"color:cyan\"> |-units_0: 26</span>"
      ],
      "text/plain": [
       "<IPython.core.display.HTML object>"
      ]
     },
     "metadata": {},
     "output_type": "display_data"
    },
    {
     "data": {
      "text/html": [
       "<span style=\"color:blue\"> |-units_1: 26</span>"
      ],
      "text/plain": [
       "<IPython.core.display.HTML object>"
      ]
     },
     "metadata": {},
     "output_type": "display_data"
    },
    {
     "data": {
      "text/html": [
       "<span style=\"color:cyan\"> |-units_2: 6</span>"
      ],
      "text/plain": [
       "<IPython.core.display.HTML object>"
      ]
     },
     "metadata": {},
     "output_type": "display_data"
    },
    {
     "data": {
      "text/html": [
       "<span style=\"color:blue\"> |-units_3: 26</span>"
      ],
      "text/plain": [
       "<IPython.core.display.HTML object>"
      ]
     },
     "metadata": {},
     "output_type": "display_data"
    },
    {
     "data": {
      "text/html": [
       "<span style=\"color:cyan\"> |-units_4: 16</span>"
      ],
      "text/plain": [
       "<IPython.core.display.HTML object>"
      ]
     },
     "metadata": {},
     "output_type": "display_data"
    },
    {
     "name": "stdout",
     "output_type": "stream",
     "text": [
      "Train on 750 samples, validate on 250 samples\n",
      "Epoch 1/20\n",
      "750/750 [==============================] - ETA: 18s - loss: 0.6945 - accuracy: 0.531 - 1s 1ms/sample - loss: 0.6959 - accuracy: 0.5000 - val_loss: 0.7059 - val_accuracy: 0.4120\n",
      "Epoch 2/20\n",
      "750/750 [==============================] - ETA: 0s - loss: 0.6953 - accuracy: 0.46 - 0s 121us/sample - loss: 0.6924 - accuracy: 0.4840 - val_loss: 0.7033 - val_accuracy: 0.3640\n",
      "Epoch 3/20\n",
      "750/750 [==============================] - ETA: 0s - loss: 0.6914 - accuracy: 0.46 - 0s 141us/sample - loss: 0.6919 - accuracy: 0.4720 - val_loss: 0.7066 - val_accuracy: 0.4200\n",
      "Epoch 4/20\n",
      "750/750 [==============================] - ETA: 0s - loss: 0.6979 - accuracy: 0.50 - 0s 112us/sample - loss: 0.6916 - accuracy: 0.4893 - val_loss: 0.7052 - val_accuracy: 0.3800\n",
      "Epoch 5/20\n",
      "750/750 [==============================] - ETA: 0s - loss: 0.6958 - accuracy: 0.28 - 0s 114us/sample - loss: 0.6912 - accuracy: 0.4840 - val_loss: 0.7064 - val_accuracy: 0.4160\n",
      "Epoch 6/20\n",
      "750/750 [==============================] - ETA: 0s - loss: 0.6738 - accuracy: 0.53 - 0s 110us/sample - loss: 0.6911 - accuracy: 0.4987 - val_loss: 0.7099 - val_accuracy: 0.3800\n",
      "Epoch 7/20\n",
      "750/750 [==============================] - ETA: 0s - loss: 0.6894 - accuracy: 0.43 - 0s 111us/sample - loss: 0.6904 - accuracy: 0.5107 - val_loss: 0.7055 - val_accuracy: 0.4080\n",
      "Epoch 8/20\n",
      "750/750 [==============================] - ETA: 0s - loss: 0.6942 - accuracy: 0.53 - 0s 115us/sample - loss: 0.6902 - accuracy: 0.5267 - val_loss: 0.7047 - val_accuracy: 0.3640\n",
      "Epoch 9/20\n",
      "750/750 [==============================] - ETA: 0s - loss: 0.7026 - accuracy: 0.40 - 0s 112us/sample - loss: 0.6897 - accuracy: 0.4773 - val_loss: 0.7077 - val_accuracy: 0.4080\n",
      "Epoch 10/20\n",
      "750/750 [==============================] - ETA: 0s - loss: 0.6911 - accuracy: 0.53 - 0s 135us/sample - loss: 0.6891 - accuracy: 0.5080 - val_loss: 0.7071 - val_accuracy: 0.4320\n",
      "Epoch 11/20\n",
      "750/750 [==============================] - ETA: 0s - loss: 0.6828 - accuracy: 0.53 - 0s 107us/sample - loss: 0.6892 - accuracy: 0.5213 - val_loss: 0.7055 - val_accuracy: 0.4200\n",
      "Epoch 12/20\n",
      "750/750 [==============================] - ETA: 0s - loss: 0.6610 - accuracy: 0.65 - 0s 137us/sample - loss: 0.6893 - accuracy: 0.5173 - val_loss: 0.6988 - val_accuracy: 0.4360\n",
      "Epoch 13/20\n",
      "750/750 [==============================] - ETA: 0s - loss: 0.6853 - accuracy: 0.56 - 0s 151us/sample - loss: 0.6875 - accuracy: 0.5373 - val_loss: 0.6986 - val_accuracy: 0.4400\n",
      "Epoch 14/20\n",
      "750/750 [==============================] - ETA: 0s - loss: 0.6917 - accuracy: 0.59 - 0s 110us/sample - loss: 0.6881 - accuracy: 0.5400 - val_loss: 0.7031 - val_accuracy: 0.4400\n",
      "Epoch 15/20\n",
      "750/750 [==============================] - ETA: 0s - loss: 0.6850 - accuracy: 0.53 - 0s 139us/sample - loss: 0.6861 - accuracy: 0.5307 - val_loss: 0.7012 - val_accuracy: 0.4480\n",
      "Epoch 16/20\n",
      "750/750 [==============================] - ETA: 0s - loss: 0.6873 - accuracy: 0.50 - 0s 108us/sample - loss: 0.6857 - accuracy: 0.5240 - val_loss: 0.7017 - val_accuracy: 0.4360\n",
      "Epoch 17/20\n",
      "750/750 [==============================] - ETA: 0s - loss: 0.6822 - accuracy: 0.43 - 0s 135us/sample - loss: 0.6838 - accuracy: 0.5480 - val_loss: 0.6943 - val_accuracy: 0.4560\n",
      "Epoch 18/20\n",
      "750/750 [==============================] - ETA: 0s - loss: 0.6893 - accuracy: 0.53 - 0s 144us/sample - loss: 0.6826 - accuracy: 0.5440 - val_loss: 0.6964 - val_accuracy: 0.4640\n",
      "Epoch 19/20\n",
      "750/750 [==============================] - ETA: 0s - loss: 0.7124 - accuracy: 0.37 - 0s 113us/sample - loss: 0.6822 - accuracy: 0.5680 - val_loss: 0.6953 - val_accuracy: 0.4560\n",
      "Epoch 20/20\n",
      "750/750 [==============================] - ETA: 0s - loss: 0.6894 - accuracy: 0.43 - 0s 132us/sample - loss: 0.6795 - accuracy: 0.5560 - val_loss: 0.6913 - val_accuracy: 0.4760\n"
     ]
    },
    {
     "data": {
      "text/html": [
       "<span style=\"color:#4527A0\"><h1 style=\"font-size:18px\">Trial complete</h1></span>"
      ],
      "text/plain": [
       "<IPython.core.display.HTML object>"
      ]
     },
     "metadata": {},
     "output_type": "display_data"
    },
    {
     "data": {
      "text/html": [
       "<span style=\"color:#4527A0\"><h1 style=\"font-size:18px\">Trial summary</h1></span>"
      ],
      "text/plain": [
       "<IPython.core.display.HTML object>"
      ]
     },
     "metadata": {},
     "output_type": "display_data"
    },
    {
     "data": {
      "text/html": [
       "<span style=\"color:cyan\"> |-Trial ID: 35422fbbff869a20b29f2b9f588ac543</span>"
      ],
      "text/plain": [
       "<IPython.core.display.HTML object>"
      ]
     },
     "metadata": {},
     "output_type": "display_data"
    },
    {
     "data": {
      "text/html": [
       "<span style=\"color:cyan\"> |-Score: 0.47600001096725464</span>"
      ],
      "text/plain": [
       "<IPython.core.display.HTML object>"
      ]
     },
     "metadata": {},
     "output_type": "display_data"
    },
    {
     "data": {
      "text/html": [
       "<span style=\"color:cyan\"> |-Best step: 0</span>"
      ],
      "text/plain": [
       "<IPython.core.display.HTML object>"
      ]
     },
     "metadata": {},
     "output_type": "display_data"
    },
    {
     "data": {
      "text/html": [
       "<span style=\"color:#7E57C2\"><h2 style=\"font-size:16px\">Hyperparameters:</h2></span>"
      ],
      "text/plain": [
       "<IPython.core.display.HTML object>"
      ]
     },
     "metadata": {},
     "output_type": "display_data"
    },
    {
     "data": {
      "text/html": [
       "<span style=\"color:cyan\"> |-activation: tanh</span>"
      ],
      "text/plain": [
       "<IPython.core.display.HTML object>"
      ]
     },
     "metadata": {},
     "output_type": "display_data"
    },
    {
     "data": {
      "text/html": [
       "<span style=\"color:blue\"> |-first_units: 11</span>"
      ],
      "text/plain": [
       "<IPython.core.display.HTML object>"
      ]
     },
     "metadata": {},
     "output_type": "display_data"
    },
    {
     "data": {
      "text/html": [
       "<span style=\"color:cyan\"> |-num_layers: 2</span>"
      ],
      "text/plain": [
       "<IPython.core.display.HTML object>"
      ]
     },
     "metadata": {},
     "output_type": "display_data"
    },
    {
     "data": {
      "text/html": [
       "<span style=\"color:blue\"> |-tuner/bracket: 0</span>"
      ],
      "text/plain": [
       "<IPython.core.display.HTML object>"
      ]
     },
     "metadata": {},
     "output_type": "display_data"
    },
    {
     "data": {
      "text/html": [
       "<span style=\"color:cyan\"> |-tuner/epochs: 20</span>"
      ],
      "text/plain": [
       "<IPython.core.display.HTML object>"
      ]
     },
     "metadata": {},
     "output_type": "display_data"
    },
    {
     "data": {
      "text/html": [
       "<span style=\"color:blue\"> |-tuner/initial_epoch: 0</span>"
      ],
      "text/plain": [
       "<IPython.core.display.HTML object>"
      ]
     },
     "metadata": {},
     "output_type": "display_data"
    },
    {
     "data": {
      "text/html": [
       "<span style=\"color:cyan\"> |-tuner/round: 0</span>"
      ],
      "text/plain": [
       "<IPython.core.display.HTML object>"
      ]
     },
     "metadata": {},
     "output_type": "display_data"
    },
    {
     "data": {
      "text/html": [
       "<span style=\"color:blue\"> |-units_0: 11</span>"
      ],
      "text/plain": [
       "<IPython.core.display.HTML object>"
      ]
     },
     "metadata": {},
     "output_type": "display_data"
    },
    {
     "data": {
      "text/html": [
       "<span style=\"color:cyan\"> |-units_1: 21</span>"
      ],
      "text/plain": [
       "<IPython.core.display.HTML object>"
      ]
     },
     "metadata": {},
     "output_type": "display_data"
    },
    {
     "data": {
      "text/html": [
       "<span style=\"color:blue\"> |-units_2: 1</span>"
      ],
      "text/plain": [
       "<IPython.core.display.HTML object>"
      ]
     },
     "metadata": {},
     "output_type": "display_data"
    },
    {
     "data": {
      "text/html": [
       "<span style=\"color:cyan\"> |-units_3: 6</span>"
      ],
      "text/plain": [
       "<IPython.core.display.HTML object>"
      ]
     },
     "metadata": {},
     "output_type": "display_data"
    },
    {
     "data": {
      "text/html": [
       "<span style=\"color:blue\"> |-units_4: 21</span>"
      ],
      "text/plain": [
       "<IPython.core.display.HTML object>"
      ]
     },
     "metadata": {},
     "output_type": "display_data"
    },
    {
     "name": "stdout",
     "output_type": "stream",
     "text": [
      "Train on 750 samples, validate on 250 samples\n",
      "Epoch 1/20\n",
      "750/750 [==============================] - ETA: 17s - loss: 0.6847 - accuracy: 0.562 - 1s 1ms/sample - loss: 0.6935 - accuracy: 0.4973 - val_loss: 0.7020 - val_accuracy: 0.4200\n",
      "Epoch 2/20\n",
      "750/750 [==============================] - ETA: 0s - loss: 0.7025 - accuracy: 0.31 - 0s 120us/sample - loss: 0.6919 - accuracy: 0.4987 - val_loss: 0.7079 - val_accuracy: 0.4000\n",
      "Epoch 3/20\n",
      "750/750 [==============================] - ETA: 0s - loss: 0.6796 - accuracy: 0.53 - 0s 117us/sample - loss: 0.6910 - accuracy: 0.4907 - val_loss: 0.7099 - val_accuracy: 0.3600\n",
      "Epoch 4/20\n",
      "750/750 [==============================] - ETA: 0s - loss: 0.6747 - accuracy: 0.59 - ETA: 0s - loss: 0.6907 - accuracy: 0.50 - 0s 160us/sample - loss: 0.6918 - accuracy: 0.4973 - val_loss: 0.7098 - val_accuracy: 0.3960\n",
      "Epoch 5/20\n",
      "750/750 [==============================] - ETA: 0s - loss: 0.6775 - accuracy: 0.56 - ETA: 0s - loss: 0.6899 - accuracy: 0.52 - 0s 179us/sample - loss: 0.6902 - accuracy: 0.5213 - val_loss: 0.7073 - val_accuracy: 0.4680\n",
      "Epoch 6/20\n",
      "750/750 [==============================] - ETA: 0s - loss: 0.6954 - accuracy: 0.53 - 0s 116us/sample - loss: 0.6899 - accuracy: 0.5307 - val_loss: 0.7016 - val_accuracy: 0.4000\n",
      "Epoch 7/20\n",
      "750/750 [==============================] - ETA: 0s - loss: 0.6777 - accuracy: 0.78 - 0s 163us/sample - loss: 0.6901 - accuracy: 0.5240 - val_loss: 0.7085 - val_accuracy: 0.4920\n",
      "Epoch 8/20\n",
      "750/750 [==============================] - ETA: 0s - loss: 0.7011 - accuracy: 0.46 - 0s 122us/sample - loss: 0.6889 - accuracy: 0.5333 - val_loss: 0.7072 - val_accuracy: 0.3760\n",
      "Epoch 9/20\n",
      "750/750 [==============================] - ETA: 0s - loss: 0.6880 - accuracy: 0.53 - ETA: 0s - loss: 0.6889 - accuracy: 0.50 - 0s 168us/sample - loss: 0.6881 - accuracy: 0.5160 - val_loss: 0.7089 - val_accuracy: 0.4480\n",
      "Epoch 10/20\n",
      "750/750 [==============================] - ETA: 0s - loss: 0.7021 - accuracy: 0.46 - 0s 126us/sample - loss: 0.6871 - accuracy: 0.5280 - val_loss: 0.7069 - val_accuracy: 0.4760\n",
      "Epoch 11/20\n",
      "750/750 [==============================] - ETA: 0s - loss: 0.6748 - accuracy: 0.62 - ETA: 0s - loss: 0.6864 - accuracy: 0.55 - 0s 163us/sample - loss: 0.6865 - accuracy: 0.5560 - val_loss: 0.6993 - val_accuracy: 0.4120\n",
      "Epoch 12/20\n",
      "750/750 [==============================] - ETA: 0s - loss: 0.6848 - accuracy: 0.59 - 0s 158us/sample - loss: 0.6858 - accuracy: 0.5667 - val_loss: 0.7019 - val_accuracy: 0.5000\n",
      "Epoch 13/20\n",
      "750/750 [==============================] - ETA: 0s - loss: 0.6828 - accuracy: 0.62 - 0s 114us/sample - loss: 0.6844 - accuracy: 0.5613 - val_loss: 0.7043 - val_accuracy: 0.4720\n",
      "Epoch 14/20\n",
      "750/750 [==============================] - ETA: 0s - loss: 0.7056 - accuracy: 0.43 - 0s 150us/sample - loss: 0.6846 - accuracy: 0.5920 - val_loss: 0.6970 - val_accuracy: 0.5080\n",
      "Epoch 15/20\n",
      "750/750 [==============================] - ETA: 0s - loss: 0.6708 - accuracy: 0.62 - 0s 118us/sample - loss: 0.6822 - accuracy: 0.5640 - val_loss: 0.7011 - val_accuracy: 0.5040\n",
      "Epoch 16/20\n",
      "750/750 [==============================] - ETA: 0s - loss: 0.6686 - accuracy: 0.71 - 0s 109us/sample - loss: 0.6804 - accuracy: 0.5867 - val_loss: 0.7022 - val_accuracy: 0.4760\n",
      "Epoch 17/20\n",
      "750/750 [==============================] - ETA: 0s - loss: 0.6726 - accuracy: 0.62 - 0s 137us/sample - loss: 0.6781 - accuracy: 0.5493 - val_loss: 0.6922 - val_accuracy: 0.5360\n",
      "Epoch 18/20\n",
      "750/750 [==============================] - ETA: 0s - loss: 0.6795 - accuracy: 0.59 - 0s 109us/sample - loss: 0.6751 - accuracy: 0.6213 - val_loss: 0.6912 - val_accuracy: 0.5040\n",
      "Epoch 19/20\n",
      "750/750 [==============================] - ETA: 0s - loss: 0.6815 - accuracy: 0.62 - 0s 147us/sample - loss: 0.6729 - accuracy: 0.5987 - val_loss: 0.6863 - val_accuracy: 0.5720\n",
      "Epoch 20/20\n",
      "750/750 [==============================] - ETA: 0s - loss: 0.6711 - accuracy: 0.62 - 0s 147us/sample - loss: 0.6702 - accuracy: 0.6013 - val_loss: 0.6813 - val_accuracy: 0.5840\n"
     ]
    },
    {
     "data": {
      "text/html": [
       "<span style=\"color:#4527A0\"><h1 style=\"font-size:18px\">Trial complete</h1></span>"
      ],
      "text/plain": [
       "<IPython.core.display.HTML object>"
      ]
     },
     "metadata": {},
     "output_type": "display_data"
    },
    {
     "data": {
      "text/html": [
       "<span style=\"color:#4527A0\"><h1 style=\"font-size:18px\">Trial summary</h1></span>"
      ],
      "text/plain": [
       "<IPython.core.display.HTML object>"
      ]
     },
     "metadata": {},
     "output_type": "display_data"
    },
    {
     "data": {
      "text/html": [
       "<span style=\"color:cyan\"> |-Trial ID: 0cedd16c9aa83a262f49d73f1cf47915</span>"
      ],
      "text/plain": [
       "<IPython.core.display.HTML object>"
      ]
     },
     "metadata": {},
     "output_type": "display_data"
    },
    {
     "data": {
      "text/html": [
       "<span style=\"color:cyan\"> |-Score: 0.5839999914169312</span>"
      ],
      "text/plain": [
       "<IPython.core.display.HTML object>"
      ]
     },
     "metadata": {},
     "output_type": "display_data"
    },
    {
     "data": {
      "text/html": [
       "<span style=\"color:cyan\"> |-Best step: 0</span>"
      ],
      "text/plain": [
       "<IPython.core.display.HTML object>"
      ]
     },
     "metadata": {},
     "output_type": "display_data"
    },
    {
     "data": {
      "text/html": [
       "<span style=\"color:#7E57C2\"><h2 style=\"font-size:16px\">Hyperparameters:</h2></span>"
      ],
      "text/plain": [
       "<IPython.core.display.HTML object>"
      ]
     },
     "metadata": {},
     "output_type": "display_data"
    },
    {
     "data": {
      "text/html": [
       "<span style=\"color:cyan\"> |-activation: tanh</span>"
      ],
      "text/plain": [
       "<IPython.core.display.HTML object>"
      ]
     },
     "metadata": {},
     "output_type": "display_data"
    },
    {
     "data": {
      "text/html": [
       "<span style=\"color:blue\"> |-first_units: 6</span>"
      ],
      "text/plain": [
       "<IPython.core.display.HTML object>"
      ]
     },
     "metadata": {},
     "output_type": "display_data"
    },
    {
     "data": {
      "text/html": [
       "<span style=\"color:cyan\"> |-num_layers: 3</span>"
      ],
      "text/plain": [
       "<IPython.core.display.HTML object>"
      ]
     },
     "metadata": {},
     "output_type": "display_data"
    },
    {
     "data": {
      "text/html": [
       "<span style=\"color:blue\"> |-tuner/bracket: 0</span>"
      ],
      "text/plain": [
       "<IPython.core.display.HTML object>"
      ]
     },
     "metadata": {},
     "output_type": "display_data"
    },
    {
     "data": {
      "text/html": [
       "<span style=\"color:cyan\"> |-tuner/epochs: 20</span>"
      ],
      "text/plain": [
       "<IPython.core.display.HTML object>"
      ]
     },
     "metadata": {},
     "output_type": "display_data"
    },
    {
     "data": {
      "text/html": [
       "<span style=\"color:blue\"> |-tuner/initial_epoch: 0</span>"
      ],
      "text/plain": [
       "<IPython.core.display.HTML object>"
      ]
     },
     "metadata": {},
     "output_type": "display_data"
    },
    {
     "data": {
      "text/html": [
       "<span style=\"color:cyan\"> |-tuner/round: 0</span>"
      ],
      "text/plain": [
       "<IPython.core.display.HTML object>"
      ]
     },
     "metadata": {},
     "output_type": "display_data"
    },
    {
     "data": {
      "text/html": [
       "<span style=\"color:blue\"> |-units_0: 21</span>"
      ],
      "text/plain": [
       "<IPython.core.display.HTML object>"
      ]
     },
     "metadata": {},
     "output_type": "display_data"
    },
    {
     "data": {
      "text/html": [
       "<span style=\"color:cyan\"> |-units_1: 26</span>"
      ],
      "text/plain": [
       "<IPython.core.display.HTML object>"
      ]
     },
     "metadata": {},
     "output_type": "display_data"
    },
    {
     "data": {
      "text/html": [
       "<span style=\"color:blue\"> |-units_2: 1</span>"
      ],
      "text/plain": [
       "<IPython.core.display.HTML object>"
      ]
     },
     "metadata": {},
     "output_type": "display_data"
    },
    {
     "data": {
      "text/html": [
       "<span style=\"color:cyan\"> |-units_3: 26</span>"
      ],
      "text/plain": [
       "<IPython.core.display.HTML object>"
      ]
     },
     "metadata": {},
     "output_type": "display_data"
    },
    {
     "data": {
      "text/html": [
       "<span style=\"color:blue\"> |-units_4: 6</span>"
      ],
      "text/plain": [
       "<IPython.core.display.HTML object>"
      ]
     },
     "metadata": {},
     "output_type": "display_data"
    },
    {
     "name": "stdout",
     "output_type": "stream",
     "text": [
      "Train on 750 samples, validate on 250 samples\n",
      "Epoch 1/20\n",
      "750/750 [==============================] - ETA: 13s - loss: 0.7003 - accuracy: 0.531 - 1s 1ms/sample - loss: 0.7010 - accuracy: 0.4627 - val_loss: 0.6915 - val_accuracy: 0.5720\n",
      "Epoch 2/20\n",
      "750/750 [==============================] - ETA: 0s - loss: 0.6997 - accuracy: 0.34 - 0s 112us/sample - loss: 0.6936 - accuracy: 0.4613 - val_loss: 0.6967 - val_accuracy: 0.4080\n",
      "Epoch 3/20\n",
      "750/750 [==============================] - ETA: 0s - loss: 0.6961 - accuracy: 0.40 - 0s 119us/sample - loss: 0.6888 - accuracy: 0.5307 - val_loss: 0.7014 - val_accuracy: 0.4080\n",
      "Epoch 4/20\n",
      "750/750 [==============================] - ETA: 0s - loss: 0.6842 - accuracy: 0.56 - 0s 141us/sample - loss: 0.6861 - accuracy: 0.5307 - val_loss: 0.7050 - val_accuracy: 0.4080\n",
      "Epoch 5/20\n",
      "750/750 [==============================] - ETA: 0s - loss: 0.6942 - accuracy: 0.50 - 0s 126us/sample - loss: 0.6840 - accuracy: 0.5307 - val_loss: 0.7085 - val_accuracy: 0.4080\n",
      "Epoch 6/20\n",
      "750/750 [==============================] - ETA: 0s - loss: 0.6803 - accuracy: 0.53 - 0s 143us/sample - loss: 0.6826 - accuracy: 0.5307 - val_loss: 0.7103 - val_accuracy: 0.4080\n",
      "Epoch 7/20\n",
      "750/750 [==============================] - ETA: 0s - loss: 0.7061 - accuracy: 0.40 - 0s 133us/sample - loss: 0.6814 - accuracy: 0.5307 - val_loss: 0.7104 - val_accuracy: 0.4080\n",
      "Epoch 8/20\n",
      "750/750 [==============================] - ETA: 0s - loss: 0.6921 - accuracy: 0.46 - 0s 125us/sample - loss: 0.6801 - accuracy: 0.5307 - val_loss: 0.7116 - val_accuracy: 0.4080\n",
      "Epoch 9/20\n",
      "750/750 [==============================] - ETA: 0s - loss: 0.6640 - accuracy: 0.62 - 0s 121us/sample - loss: 0.6792 - accuracy: 0.5307 - val_loss: 0.7135 - val_accuracy: 0.4080\n",
      "Epoch 10/20\n",
      "750/750 [==============================] - ETA: 0s - loss: 0.7031 - accuracy: 0.43 - 0s 120us/sample - loss: 0.6779 - accuracy: 0.5307 - val_loss: 0.7110 - val_accuracy: 0.4080\n",
      "Epoch 11/20\n",
      "750/750 [==============================] - ETA: 0s - loss: 0.6868 - accuracy: 0.50 - 0s 122us/sample - loss: 0.6766 - accuracy: 0.5307 - val_loss: 0.7111 - val_accuracy: 0.4080\n",
      "Epoch 12/20\n",
      "750/750 [==============================] - ETA: 0s - loss: 0.7198 - accuracy: 0.37 - 0s 108us/sample - loss: 0.6756 - accuracy: 0.5307 - val_loss: 0.7125 - val_accuracy: 0.4080\n",
      "Epoch 13/20\n",
      "750/750 [==============================] - ETA: 0s - loss: 0.6737 - accuracy: 0.50 - 0s 115us/sample - loss: 0.6742 - accuracy: 0.5307 - val_loss: 0.7113 - val_accuracy: 0.4080\n",
      "Epoch 14/20\n",
      "750/750 [==============================] - ETA: 0s - loss: 0.6915 - accuracy: 0.46 - 0s 123us/sample - loss: 0.6729 - accuracy: 0.5307 - val_loss: 0.7117 - val_accuracy: 0.4080\n",
      "Epoch 15/20\n",
      "750/750 [==============================] - ETA: 0s - loss: 0.6436 - accuracy: 0.65 - 0s 121us/sample - loss: 0.6718 - accuracy: 0.5307 - val_loss: 0.7129 - val_accuracy: 0.4080\n",
      "Epoch 16/20\n",
      "750/750 [==============================] - ETA: 0s - loss: 0.6372 - accuracy: 0.68 - 0s 126us/sample - loss: 0.6705 - accuracy: 0.5307 - val_loss: 0.7103 - val_accuracy: 0.4080\n",
      "Epoch 17/20\n",
      "750/750 [==============================] - ETA: 0s - loss: 0.6527 - accuracy: 0.59 - 0s 120us/sample - loss: 0.6692 - accuracy: 0.5347 - val_loss: 0.7102 - val_accuracy: 0.4160\n",
      "Epoch 18/20\n",
      "750/750 [==============================] - ETA: 0s - loss: 0.5957 - accuracy: 0.75 - 0s 108us/sample - loss: 0.6679 - accuracy: 0.5387 - val_loss: 0.7114 - val_accuracy: 0.4200\n",
      "Epoch 19/20\n",
      "750/750 [==============================] - ETA: 0s - loss: 0.6770 - accuracy: 0.53 - 0s 112us/sample - loss: 0.6668 - accuracy: 0.5707 - val_loss: 0.7068 - val_accuracy: 0.4480\n",
      "Epoch 20/20\n",
      "750/750 [==============================] - ETA: 0s - loss: 0.6421 - accuracy: 0.71 - 0s 127us/sample - loss: 0.6648 - accuracy: 0.5787 - val_loss: 0.7081 - val_accuracy: 0.4480\n"
     ]
    },
    {
     "data": {
      "text/html": [
       "<span style=\"color:#4527A0\"><h1 style=\"font-size:18px\">Trial complete</h1></span>"
      ],
      "text/plain": [
       "<IPython.core.display.HTML object>"
      ]
     },
     "metadata": {},
     "output_type": "display_data"
    },
    {
     "data": {
      "text/html": [
       "<span style=\"color:#4527A0\"><h1 style=\"font-size:18px\">Trial summary</h1></span>"
      ],
      "text/plain": [
       "<IPython.core.display.HTML object>"
      ]
     },
     "metadata": {},
     "output_type": "display_data"
    },
    {
     "data": {
      "text/html": [
       "<span style=\"color:cyan\"> |-Trial ID: d4c682cb54a7a8d2cc1df18c7fa4fb7e</span>"
      ],
      "text/plain": [
       "<IPython.core.display.HTML object>"
      ]
     },
     "metadata": {},
     "output_type": "display_data"
    },
    {
     "data": {
      "text/html": [
       "<span style=\"color:cyan\"> |-Score: 0.5720000267028809</span>"
      ],
      "text/plain": [
       "<IPython.core.display.HTML object>"
      ]
     },
     "metadata": {},
     "output_type": "display_data"
    },
    {
     "data": {
      "text/html": [
       "<span style=\"color:cyan\"> |-Best step: 0</span>"
      ],
      "text/plain": [
       "<IPython.core.display.HTML object>"
      ]
     },
     "metadata": {},
     "output_type": "display_data"
    },
    {
     "data": {
      "text/html": [
       "<span style=\"color:#7E57C2\"><h2 style=\"font-size:16px\">Hyperparameters:</h2></span>"
      ],
      "text/plain": [
       "<IPython.core.display.HTML object>"
      ]
     },
     "metadata": {},
     "output_type": "display_data"
    },
    {
     "data": {
      "text/html": [
       "<span style=\"color:cyan\"> |-activation: relu</span>"
      ],
      "text/plain": [
       "<IPython.core.display.HTML object>"
      ]
     },
     "metadata": {},
     "output_type": "display_data"
    },
    {
     "data": {
      "text/html": [
       "<span style=\"color:blue\"> |-first_units: 6</span>"
      ],
      "text/plain": [
       "<IPython.core.display.HTML object>"
      ]
     },
     "metadata": {},
     "output_type": "display_data"
    },
    {
     "data": {
      "text/html": [
       "<span style=\"color:cyan\"> |-num_layers: 1</span>"
      ],
      "text/plain": [
       "<IPython.core.display.HTML object>"
      ]
     },
     "metadata": {},
     "output_type": "display_data"
    },
    {
     "data": {
      "text/html": [
       "<span style=\"color:blue\"> |-tuner/bracket: 0</span>"
      ],
      "text/plain": [
       "<IPython.core.display.HTML object>"
      ]
     },
     "metadata": {},
     "output_type": "display_data"
    },
    {
     "data": {
      "text/html": [
       "<span style=\"color:cyan\"> |-tuner/epochs: 20</span>"
      ],
      "text/plain": [
       "<IPython.core.display.HTML object>"
      ]
     },
     "metadata": {},
     "output_type": "display_data"
    },
    {
     "data": {
      "text/html": [
       "<span style=\"color:blue\"> |-tuner/initial_epoch: 0</span>"
      ],
      "text/plain": [
       "<IPython.core.display.HTML object>"
      ]
     },
     "metadata": {},
     "output_type": "display_data"
    },
    {
     "data": {
      "text/html": [
       "<span style=\"color:cyan\"> |-tuner/round: 0</span>"
      ],
      "text/plain": [
       "<IPython.core.display.HTML object>"
      ]
     },
     "metadata": {},
     "output_type": "display_data"
    },
    {
     "data": {
      "text/html": [
       "<span style=\"color:blue\"> |-units_0: 6</span>"
      ],
      "text/plain": [
       "<IPython.core.display.HTML object>"
      ]
     },
     "metadata": {},
     "output_type": "display_data"
    },
    {
     "data": {
      "text/html": [
       "<span style=\"color:cyan\"> |-units_1: 16</span>"
      ],
      "text/plain": [
       "<IPython.core.display.HTML object>"
      ]
     },
     "metadata": {},
     "output_type": "display_data"
    },
    {
     "data": {
      "text/html": [
       "<span style=\"color:blue\"> |-units_2: 21</span>"
      ],
      "text/plain": [
       "<IPython.core.display.HTML object>"
      ]
     },
     "metadata": {},
     "output_type": "display_data"
    },
    {
     "data": {
      "text/html": [
       "<span style=\"color:cyan\"> |-units_3: 16</span>"
      ],
      "text/plain": [
       "<IPython.core.display.HTML object>"
      ]
     },
     "metadata": {},
     "output_type": "display_data"
    },
    {
     "data": {
      "text/html": [
       "<span style=\"color:blue\"> |-units_4: 1</span>"
      ],
      "text/plain": [
       "<IPython.core.display.HTML object>"
      ]
     },
     "metadata": {},
     "output_type": "display_data"
    },
    {
     "name": "stdout",
     "output_type": "stream",
     "text": [
      "Train on 750 samples, validate on 250 samples\n",
      "Epoch 1/20\n",
      "750/750 [==============================] - ETA: 16s - loss: 0.6966 - accuracy: 0.468 - 1s 1ms/sample - loss: 0.6942 - accuracy: 0.4907 - val_loss: 0.6940 - val_accuracy: 0.4080\n",
      "Epoch 2/20\n",
      "750/750 [==============================] - ETA: 0s - loss: 0.6913 - accuracy: 0.65 - ETA: 0s - loss: 0.6917 - accuracy: 0.54 - 0s 179us/sample - loss: 0.6918 - accuracy: 0.5307 - val_loss: 0.6970 - val_accuracy: 0.4080\n",
      "Epoch 3/20\n",
      "750/750 [==============================] - ETA: 0s - loss: 0.6829 - accuracy: 0.59 - 0s 138us/sample - loss: 0.6901 - accuracy: 0.5307 - val_loss: 0.6980 - val_accuracy: 0.4080\n",
      "Epoch 4/20\n",
      "750/750 [==============================] - ETA: 0s - loss: 0.6922 - accuracy: 0.56 - ETA: 0s - loss: 0.6906 - accuracy: 0.52 - 0s 167us/sample - loss: 0.6895 - accuracy: 0.5307 - val_loss: 0.6980 - val_accuracy: 0.4080\n",
      "Epoch 5/20\n",
      "750/750 [==============================] - ETA: 0s - loss: 0.7028 - accuracy: 0.40 - 0s 142us/sample - loss: 0.6889 - accuracy: 0.5307 - val_loss: 0.6992 - val_accuracy: 0.4080\n",
      "Epoch 6/20\n",
      "750/750 [==============================] - ETA: 0s - loss: 0.6607 - accuracy: 0.68 - 0s 128us/sample - loss: 0.6887 - accuracy: 0.5307 - val_loss: 0.7001 - val_accuracy: 0.4080\n",
      "Epoch 7/20\n",
      "750/750 [==============================] - ETA: 0s - loss: 0.6643 - accuracy: 0.62 - 0s 119us/sample - loss: 0.6885 - accuracy: 0.5307 - val_loss: 0.6994 - val_accuracy: 0.4080\n",
      "Epoch 8/20\n",
      "750/750 [==============================] - ETA: 0s - loss: 0.6667 - accuracy: 0.68 - 0s 125us/sample - loss: 0.6883 - accuracy: 0.5307 - val_loss: 0.6991 - val_accuracy: 0.4080\n",
      "Epoch 9/20\n",
      "750/750 [==============================] - ETA: 0s - loss: 0.6721 - accuracy: 0.59 - 0s 126us/sample - loss: 0.6882 - accuracy: 0.5307 - val_loss: 0.6998 - val_accuracy: 0.4080\n",
      "Epoch 10/20\n",
      "750/750 [==============================] - ETA: 0s - loss: 0.6765 - accuracy: 0.65 - 0s 113us/sample - loss: 0.6881 - accuracy: 0.5307 - val_loss: 0.6990 - val_accuracy: 0.4080\n",
      "Epoch 11/20\n",
      "750/750 [==============================] - ETA: 0s - loss: 0.7019 - accuracy: 0.50 - 0s 118us/sample - loss: 0.6882 - accuracy: 0.5307 - val_loss: 0.6981 - val_accuracy: 0.4080\n",
      "Epoch 12/20\n",
      "750/750 [==============================] - ETA: 0s - loss: 0.6836 - accuracy: 0.62 - 0s 108us/sample - loss: 0.6878 - accuracy: 0.5307 - val_loss: 0.6986 - val_accuracy: 0.4080\n",
      "Epoch 13/20\n",
      "750/750 [==============================] - ETA: 0s - loss: 0.7078 - accuracy: 0.46 - 0s 117us/sample - loss: 0.6878 - accuracy: 0.5307 - val_loss: 0.6974 - val_accuracy: 0.4080\n",
      "Epoch 14/20\n",
      "750/750 [==============================] - ETA: 0s - loss: 0.6749 - accuracy: 0.59 - 0s 116us/sample - loss: 0.6878 - accuracy: 0.5307 - val_loss: 0.6966 - val_accuracy: 0.4080\n",
      "Epoch 15/20\n",
      "750/750 [==============================] - ETA: 0s - loss: 0.6657 - accuracy: 0.53 - 0s 112us/sample - loss: 0.6876 - accuracy: 0.5307 - val_loss: 0.6977 - val_accuracy: 0.4080\n",
      "Epoch 16/20\n",
      "750/750 [==============================] - ETA: 0s - loss: 0.6954 - accuracy: 0.53 - 0s 127us/sample - loss: 0.6875 - accuracy: 0.5307 - val_loss: 0.6967 - val_accuracy: 0.4080\n",
      "Epoch 17/20\n",
      "750/750 [==============================] - ETA: 0s - loss: 0.6884 - accuracy: 0.65 - 0s 132us/sample - loss: 0.6875 - accuracy: 0.5307 - val_loss: 0.6976 - val_accuracy: 0.4080\n",
      "Epoch 18/20\n",
      "750/750 [==============================] - ETA: 0s - loss: 0.6868 - accuracy: 0.53 - 0s 134us/sample - loss: 0.6873 - accuracy: 0.5307 - val_loss: 0.6969 - val_accuracy: 0.4080\n",
      "Epoch 19/20\n",
      "750/750 [==============================] - ETA: 0s - loss: 0.7001 - accuracy: 0.40 - 0s 114us/sample - loss: 0.6873 - accuracy: 0.5307 - val_loss: 0.6961 - val_accuracy: 0.4080\n",
      "Epoch 20/20\n",
      "750/750 [==============================] - ETA: 0s - loss: 0.6932 - accuracy: 0.56 - 0s 123us/sample - loss: 0.6871 - accuracy: 0.5307 - val_loss: 0.6970 - val_accuracy: 0.4080\n"
     ]
    },
    {
     "data": {
      "text/html": [
       "<span style=\"color:#4527A0\"><h1 style=\"font-size:18px\">Trial complete</h1></span>"
      ],
      "text/plain": [
       "<IPython.core.display.HTML object>"
      ]
     },
     "metadata": {},
     "output_type": "display_data"
    },
    {
     "data": {
      "text/html": [
       "<span style=\"color:#4527A0\"><h1 style=\"font-size:18px\">Trial summary</h1></span>"
      ],
      "text/plain": [
       "<IPython.core.display.HTML object>"
      ]
     },
     "metadata": {},
     "output_type": "display_data"
    },
    {
     "data": {
      "text/html": [
       "<span style=\"color:cyan\"> |-Trial ID: 725475f5e483c8d3dcca4cbed0162cd7</span>"
      ],
      "text/plain": [
       "<IPython.core.display.HTML object>"
      ]
     },
     "metadata": {},
     "output_type": "display_data"
    },
    {
     "data": {
      "text/html": [
       "<span style=\"color:cyan\"> |-Score: 0.40799999237060547</span>"
      ],
      "text/plain": [
       "<IPython.core.display.HTML object>"
      ]
     },
     "metadata": {},
     "output_type": "display_data"
    },
    {
     "data": {
      "text/html": [
       "<span style=\"color:cyan\"> |-Best step: 0</span>"
      ],
      "text/plain": [
       "<IPython.core.display.HTML object>"
      ]
     },
     "metadata": {},
     "output_type": "display_data"
    },
    {
     "data": {
      "text/html": [
       "<span style=\"color:#7E57C2\"><h2 style=\"font-size:16px\">Hyperparameters:</h2></span>"
      ],
      "text/plain": [
       "<IPython.core.display.HTML object>"
      ]
     },
     "metadata": {},
     "output_type": "display_data"
    },
    {
     "data": {
      "text/html": [
       "<span style=\"color:cyan\"> |-activation: relu</span>"
      ],
      "text/plain": [
       "<IPython.core.display.HTML object>"
      ]
     },
     "metadata": {},
     "output_type": "display_data"
    },
    {
     "data": {
      "text/html": [
       "<span style=\"color:blue\"> |-first_units: 1</span>"
      ],
      "text/plain": [
       "<IPython.core.display.HTML object>"
      ]
     },
     "metadata": {},
     "output_type": "display_data"
    },
    {
     "data": {
      "text/html": [
       "<span style=\"color:cyan\"> |-num_layers: 1</span>"
      ],
      "text/plain": [
       "<IPython.core.display.HTML object>"
      ]
     },
     "metadata": {},
     "output_type": "display_data"
    },
    {
     "data": {
      "text/html": [
       "<span style=\"color:blue\"> |-tuner/bracket: 0</span>"
      ],
      "text/plain": [
       "<IPython.core.display.HTML object>"
      ]
     },
     "metadata": {},
     "output_type": "display_data"
    },
    {
     "data": {
      "text/html": [
       "<span style=\"color:cyan\"> |-tuner/epochs: 20</span>"
      ],
      "text/plain": [
       "<IPython.core.display.HTML object>"
      ]
     },
     "metadata": {},
     "output_type": "display_data"
    },
    {
     "data": {
      "text/html": [
       "<span style=\"color:blue\"> |-tuner/initial_epoch: 0</span>"
      ],
      "text/plain": [
       "<IPython.core.display.HTML object>"
      ]
     },
     "metadata": {},
     "output_type": "display_data"
    },
    {
     "data": {
      "text/html": [
       "<span style=\"color:cyan\"> |-tuner/round: 0</span>"
      ],
      "text/plain": [
       "<IPython.core.display.HTML object>"
      ]
     },
     "metadata": {},
     "output_type": "display_data"
    },
    {
     "data": {
      "text/html": [
       "<span style=\"color:blue\"> |-units_0: 21</span>"
      ],
      "text/plain": [
       "<IPython.core.display.HTML object>"
      ]
     },
     "metadata": {},
     "output_type": "display_data"
    },
    {
     "data": {
      "text/html": [
       "<span style=\"color:cyan\"> |-units_1: 6</span>"
      ],
      "text/plain": [
       "<IPython.core.display.HTML object>"
      ]
     },
     "metadata": {},
     "output_type": "display_data"
    },
    {
     "data": {
      "text/html": [
       "<span style=\"color:blue\"> |-units_2: 11</span>"
      ],
      "text/plain": [
       "<IPython.core.display.HTML object>"
      ]
     },
     "metadata": {},
     "output_type": "display_data"
    },
    {
     "data": {
      "text/html": [
       "<span style=\"color:cyan\"> |-units_3: 26</span>"
      ],
      "text/plain": [
       "<IPython.core.display.HTML object>"
      ]
     },
     "metadata": {},
     "output_type": "display_data"
    },
    {
     "data": {
      "text/html": [
       "<span style=\"color:blue\"> |-units_4: 26</span>"
      ],
      "text/plain": [
       "<IPython.core.display.HTML object>"
      ]
     },
     "metadata": {},
     "output_type": "display_data"
    },
    {
     "name": "stdout",
     "output_type": "stream",
     "text": [
      "Train on 750 samples, validate on 250 samples\n",
      "Epoch 1/3\n",
      "750/750 [==============================] - ETA: 19s - loss: 0.7028 - accuracy: 0.500 - 1s 2ms/sample - loss: 0.6965 - accuracy: 0.5000 - val_loss: 0.7117 - val_accuracy: 0.4200\n",
      "Epoch 2/3\n",
      "750/750 [==============================] - ETA: 0s - loss: 0.6641 - accuracy: 0.65 - 0s 123us/sample - loss: 0.6927 - accuracy: 0.5107 - val_loss: 0.7073 - val_accuracy: 0.4080\n",
      "Epoch 3/3\n",
      "750/750 [==============================] - ETA: 0s - loss: 0.6769 - accuracy: 0.62 - 0s 129us/sample - loss: 0.6921 - accuracy: 0.4893 - val_loss: 0.7073 - val_accuracy: 0.4080\n"
     ]
    },
    {
     "data": {
      "text/html": [
       "<span style=\"color:#4527A0\"><h1 style=\"font-size:18px\">Trial complete</h1></span>"
      ],
      "text/plain": [
       "<IPython.core.display.HTML object>"
      ]
     },
     "metadata": {},
     "output_type": "display_data"
    },
    {
     "data": {
      "text/html": [
       "<span style=\"color:#4527A0\"><h1 style=\"font-size:18px\">Trial summary</h1></span>"
      ],
      "text/plain": [
       "<IPython.core.display.HTML object>"
      ]
     },
     "metadata": {},
     "output_type": "display_data"
    },
    {
     "data": {
      "text/html": [
       "<span style=\"color:cyan\"> |-Trial ID: 63ec0a4611bcaeaf6766c8245bb163c1</span>"
      ],
      "text/plain": [
       "<IPython.core.display.HTML object>"
      ]
     },
     "metadata": {},
     "output_type": "display_data"
    },
    {
     "data": {
      "text/html": [
       "<span style=\"color:cyan\"> |-Score: 0.41999998688697815</span>"
      ],
      "text/plain": [
       "<IPython.core.display.HTML object>"
      ]
     },
     "metadata": {},
     "output_type": "display_data"
    },
    {
     "data": {
      "text/html": [
       "<span style=\"color:cyan\"> |-Best step: 0</span>"
      ],
      "text/plain": [
       "<IPython.core.display.HTML object>"
      ]
     },
     "metadata": {},
     "output_type": "display_data"
    },
    {
     "data": {
      "text/html": [
       "<span style=\"color:#7E57C2\"><h2 style=\"font-size:16px\">Hyperparameters:</h2></span>"
      ],
      "text/plain": [
       "<IPython.core.display.HTML object>"
      ]
     },
     "metadata": {},
     "output_type": "display_data"
    },
    {
     "data": {
      "text/html": [
       "<span style=\"color:cyan\"> |-activation: tanh</span>"
      ],
      "text/plain": [
       "<IPython.core.display.HTML object>"
      ]
     },
     "metadata": {},
     "output_type": "display_data"
    },
    {
     "data": {
      "text/html": [
       "<span style=\"color:blue\"> |-first_units: 11</span>"
      ],
      "text/plain": [
       "<IPython.core.display.HTML object>"
      ]
     },
     "metadata": {},
     "output_type": "display_data"
    },
    {
     "data": {
      "text/html": [
       "<span style=\"color:cyan\"> |-num_layers: 3</span>"
      ],
      "text/plain": [
       "<IPython.core.display.HTML object>"
      ]
     },
     "metadata": {},
     "output_type": "display_data"
    },
    {
     "data": {
      "text/html": [
       "<span style=\"color:blue\"> |-tuner/bracket: 2</span>"
      ],
      "text/plain": [
       "<IPython.core.display.HTML object>"
      ]
     },
     "metadata": {},
     "output_type": "display_data"
    },
    {
     "data": {
      "text/html": [
       "<span style=\"color:cyan\"> |-tuner/epochs: 3</span>"
      ],
      "text/plain": [
       "<IPython.core.display.HTML object>"
      ]
     },
     "metadata": {},
     "output_type": "display_data"
    },
    {
     "data": {
      "text/html": [
       "<span style=\"color:blue\"> |-tuner/initial_epoch: 0</span>"
      ],
      "text/plain": [
       "<IPython.core.display.HTML object>"
      ]
     },
     "metadata": {},
     "output_type": "display_data"
    },
    {
     "data": {
      "text/html": [
       "<span style=\"color:cyan\"> |-tuner/round: 0</span>"
      ],
      "text/plain": [
       "<IPython.core.display.HTML object>"
      ]
     },
     "metadata": {},
     "output_type": "display_data"
    },
    {
     "data": {
      "text/html": [
       "<span style=\"color:blue\"> |-units_0: 6</span>"
      ],
      "text/plain": [
       "<IPython.core.display.HTML object>"
      ]
     },
     "metadata": {},
     "output_type": "display_data"
    },
    {
     "data": {
      "text/html": [
       "<span style=\"color:cyan\"> |-units_1: 26</span>"
      ],
      "text/plain": [
       "<IPython.core.display.HTML object>"
      ]
     },
     "metadata": {},
     "output_type": "display_data"
    },
    {
     "data": {
      "text/html": [
       "<span style=\"color:blue\"> |-units_2: 26</span>"
      ],
      "text/plain": [
       "<IPython.core.display.HTML object>"
      ]
     },
     "metadata": {},
     "output_type": "display_data"
    },
    {
     "data": {
      "text/html": [
       "<span style=\"color:cyan\"> |-units_3: 6</span>"
      ],
      "text/plain": [
       "<IPython.core.display.HTML object>"
      ]
     },
     "metadata": {},
     "output_type": "display_data"
    },
    {
     "data": {
      "text/html": [
       "<span style=\"color:blue\"> |-units_4: 11</span>"
      ],
      "text/plain": [
       "<IPython.core.display.HTML object>"
      ]
     },
     "metadata": {},
     "output_type": "display_data"
    },
    {
     "name": "stdout",
     "output_type": "stream",
     "text": [
      "Train on 750 samples, validate on 250 samples\n",
      "Epoch 1/3\n",
      "750/750 [==============================] - ETA: 19s - loss: 0.6853 - accuracy: 0.593 - 1s 1ms/sample - loss: 0.6842 - accuracy: 0.5280 - val_loss: 0.7196 - val_accuracy: 0.4480\n",
      "Epoch 2/3\n",
      "750/750 [==============================] - ETA: 0s - loss: 0.6613 - accuracy: 0.53 - 0s 111us/sample - loss: 0.6839 - accuracy: 0.5107 - val_loss: 0.7153 - val_accuracy: 0.4480\n",
      "Epoch 3/3\n",
      "750/750 [==============================] - ETA: 0s - loss: 0.6597 - accuracy: 0.59 - 0s 114us/sample - loss: 0.6836 - accuracy: 0.5133 - val_loss: 0.7163 - val_accuracy: 0.4480\n"
     ]
    },
    {
     "data": {
      "text/html": [
       "<span style=\"color:#4527A0\"><h1 style=\"font-size:18px\">Trial complete</h1></span>"
      ],
      "text/plain": [
       "<IPython.core.display.HTML object>"
      ]
     },
     "metadata": {},
     "output_type": "display_data"
    },
    {
     "data": {
      "text/html": [
       "<span style=\"color:#4527A0\"><h1 style=\"font-size:18px\">Trial summary</h1></span>"
      ],
      "text/plain": [
       "<IPython.core.display.HTML object>"
      ]
     },
     "metadata": {},
     "output_type": "display_data"
    },
    {
     "data": {
      "text/html": [
       "<span style=\"color:cyan\"> |-Trial ID: defb2afa238ab33876f12ce6071a36ae</span>"
      ],
      "text/plain": [
       "<IPython.core.display.HTML object>"
      ]
     },
     "metadata": {},
     "output_type": "display_data"
    },
    {
     "data": {
      "text/html": [
       "<span style=\"color:cyan\"> |-Score: 0.4480000138282776</span>"
      ],
      "text/plain": [
       "<IPython.core.display.HTML object>"
      ]
     },
     "metadata": {},
     "output_type": "display_data"
    },
    {
     "data": {
      "text/html": [
       "<span style=\"color:cyan\"> |-Best step: 0</span>"
      ],
      "text/plain": [
       "<IPython.core.display.HTML object>"
      ]
     },
     "metadata": {},
     "output_type": "display_data"
    },
    {
     "data": {
      "text/html": [
       "<span style=\"color:#7E57C2\"><h2 style=\"font-size:16px\">Hyperparameters:</h2></span>"
      ],
      "text/plain": [
       "<IPython.core.display.HTML object>"
      ]
     },
     "metadata": {},
     "output_type": "display_data"
    },
    {
     "data": {
      "text/html": [
       "<span style=\"color:cyan\"> |-activation: relu</span>"
      ],
      "text/plain": [
       "<IPython.core.display.HTML object>"
      ]
     },
     "metadata": {},
     "output_type": "display_data"
    },
    {
     "data": {
      "text/html": [
       "<span style=\"color:blue\"> |-first_units: 1</span>"
      ],
      "text/plain": [
       "<IPython.core.display.HTML object>"
      ]
     },
     "metadata": {},
     "output_type": "display_data"
    },
    {
     "data": {
      "text/html": [
       "<span style=\"color:cyan\"> |-num_layers: 2</span>"
      ],
      "text/plain": [
       "<IPython.core.display.HTML object>"
      ]
     },
     "metadata": {},
     "output_type": "display_data"
    },
    {
     "data": {
      "text/html": [
       "<span style=\"color:blue\"> |-tuner/bracket: 2</span>"
      ],
      "text/plain": [
       "<IPython.core.display.HTML object>"
      ]
     },
     "metadata": {},
     "output_type": "display_data"
    },
    {
     "data": {
      "text/html": [
       "<span style=\"color:cyan\"> |-tuner/epochs: 3</span>"
      ],
      "text/plain": [
       "<IPython.core.display.HTML object>"
      ]
     },
     "metadata": {},
     "output_type": "display_data"
    },
    {
     "data": {
      "text/html": [
       "<span style=\"color:blue\"> |-tuner/initial_epoch: 0</span>"
      ],
      "text/plain": [
       "<IPython.core.display.HTML object>"
      ]
     },
     "metadata": {},
     "output_type": "display_data"
    },
    {
     "data": {
      "text/html": [
       "<span style=\"color:cyan\"> |-tuner/round: 0</span>"
      ],
      "text/plain": [
       "<IPython.core.display.HTML object>"
      ]
     },
     "metadata": {},
     "output_type": "display_data"
    },
    {
     "data": {
      "text/html": [
       "<span style=\"color:blue\"> |-units_0: 11</span>"
      ],
      "text/plain": [
       "<IPython.core.display.HTML object>"
      ]
     },
     "metadata": {},
     "output_type": "display_data"
    },
    {
     "data": {
      "text/html": [
       "<span style=\"color:cyan\"> |-units_1: 11</span>"
      ],
      "text/plain": [
       "<IPython.core.display.HTML object>"
      ]
     },
     "metadata": {},
     "output_type": "display_data"
    },
    {
     "data": {
      "text/html": [
       "<span style=\"color:blue\"> |-units_2: 21</span>"
      ],
      "text/plain": [
       "<IPython.core.display.HTML object>"
      ]
     },
     "metadata": {},
     "output_type": "display_data"
    },
    {
     "data": {
      "text/html": [
       "<span style=\"color:cyan\"> |-units_3: 6</span>"
      ],
      "text/plain": [
       "<IPython.core.display.HTML object>"
      ]
     },
     "metadata": {},
     "output_type": "display_data"
    },
    {
     "data": {
      "text/html": [
       "<span style=\"color:blue\"> |-units_4: 16</span>"
      ],
      "text/plain": [
       "<IPython.core.display.HTML object>"
      ]
     },
     "metadata": {},
     "output_type": "display_data"
    },
    {
     "name": "stdout",
     "output_type": "stream",
     "text": [
      "Train on 750 samples, validate on 250 samples\n",
      "Epoch 1/3\n",
      "750/750 [==============================] - ETA: 16s - loss: 0.7436 - accuracy: 0.437 - 1s 1ms/sample - loss: 0.7386 - accuracy: 0.5080 - val_loss: 0.7466 - val_accuracy: 0.4760\n",
      "Epoch 2/3\n",
      "750/750 [==============================] - ETA: 0s - loss: 0.7808 - accuracy: 0.43 - 0s 133us/sample - loss: 0.7220 - accuracy: 0.5080 - val_loss: 0.7321 - val_accuracy: 0.4800\n",
      "Epoch 3/3\n",
      "750/750 [==============================] - ETA: 0s - loss: 0.7981 - accuracy: 0.31 - 0s 132us/sample - loss: 0.7111 - accuracy: 0.5040 - val_loss: 0.7221 - val_accuracy: 0.4880\n"
     ]
    },
    {
     "data": {
      "text/html": [
       "<span style=\"color:#4527A0\"><h1 style=\"font-size:18px\">Trial complete</h1></span>"
      ],
      "text/plain": [
       "<IPython.core.display.HTML object>"
      ]
     },
     "metadata": {},
     "output_type": "display_data"
    },
    {
     "data": {
      "text/html": [
       "<span style=\"color:#4527A0\"><h1 style=\"font-size:18px\">Trial summary</h1></span>"
      ],
      "text/plain": [
       "<IPython.core.display.HTML object>"
      ]
     },
     "metadata": {},
     "output_type": "display_data"
    },
    {
     "data": {
      "text/html": [
       "<span style=\"color:cyan\"> |-Trial ID: 953932551d38df00e7633694d0db9c27</span>"
      ],
      "text/plain": [
       "<IPython.core.display.HTML object>"
      ]
     },
     "metadata": {},
     "output_type": "display_data"
    },
    {
     "data": {
      "text/html": [
       "<span style=\"color:cyan\"> |-Score: 0.4880000054836273</span>"
      ],
      "text/plain": [
       "<IPython.core.display.HTML object>"
      ]
     },
     "metadata": {},
     "output_type": "display_data"
    },
    {
     "data": {
      "text/html": [
       "<span style=\"color:cyan\"> |-Best step: 0</span>"
      ],
      "text/plain": [
       "<IPython.core.display.HTML object>"
      ]
     },
     "metadata": {},
     "output_type": "display_data"
    },
    {
     "data": {
      "text/html": [
       "<span style=\"color:#7E57C2\"><h2 style=\"font-size:16px\">Hyperparameters:</h2></span>"
      ],
      "text/plain": [
       "<IPython.core.display.HTML object>"
      ]
     },
     "metadata": {},
     "output_type": "display_data"
    },
    {
     "data": {
      "text/html": [
       "<span style=\"color:cyan\"> |-activation: tanh</span>"
      ],
      "text/plain": [
       "<IPython.core.display.HTML object>"
      ]
     },
     "metadata": {},
     "output_type": "display_data"
    },
    {
     "data": {
      "text/html": [
       "<span style=\"color:blue\"> |-first_units: 6</span>"
      ],
      "text/plain": [
       "<IPython.core.display.HTML object>"
      ]
     },
     "metadata": {},
     "output_type": "display_data"
    },
    {
     "data": {
      "text/html": [
       "<span style=\"color:cyan\"> |-num_layers: 2</span>"
      ],
      "text/plain": [
       "<IPython.core.display.HTML object>"
      ]
     },
     "metadata": {},
     "output_type": "display_data"
    },
    {
     "data": {
      "text/html": [
       "<span style=\"color:blue\"> |-tuner/bracket: 2</span>"
      ],
      "text/plain": [
       "<IPython.core.display.HTML object>"
      ]
     },
     "metadata": {},
     "output_type": "display_data"
    },
    {
     "data": {
      "text/html": [
       "<span style=\"color:cyan\"> |-tuner/epochs: 3</span>"
      ],
      "text/plain": [
       "<IPython.core.display.HTML object>"
      ]
     },
     "metadata": {},
     "output_type": "display_data"
    },
    {
     "data": {
      "text/html": [
       "<span style=\"color:blue\"> |-tuner/initial_epoch: 0</span>"
      ],
      "text/plain": [
       "<IPython.core.display.HTML object>"
      ]
     },
     "metadata": {},
     "output_type": "display_data"
    },
    {
     "data": {
      "text/html": [
       "<span style=\"color:cyan\"> |-tuner/round: 0</span>"
      ],
      "text/plain": [
       "<IPython.core.display.HTML object>"
      ]
     },
     "metadata": {},
     "output_type": "display_data"
    },
    {
     "data": {
      "text/html": [
       "<span style=\"color:blue\"> |-units_0: 1</span>"
      ],
      "text/plain": [
       "<IPython.core.display.HTML object>"
      ]
     },
     "metadata": {},
     "output_type": "display_data"
    },
    {
     "data": {
      "text/html": [
       "<span style=\"color:cyan\"> |-units_1: 11</span>"
      ],
      "text/plain": [
       "<IPython.core.display.HTML object>"
      ]
     },
     "metadata": {},
     "output_type": "display_data"
    },
    {
     "data": {
      "text/html": [
       "<span style=\"color:blue\"> |-units_2: 26</span>"
      ],
      "text/plain": [
       "<IPython.core.display.HTML object>"
      ]
     },
     "metadata": {},
     "output_type": "display_data"
    },
    {
     "data": {
      "text/html": [
       "<span style=\"color:cyan\"> |-units_3: 11</span>"
      ],
      "text/plain": [
       "<IPython.core.display.HTML object>"
      ]
     },
     "metadata": {},
     "output_type": "display_data"
    },
    {
     "data": {
      "text/html": [
       "<span style=\"color:blue\"> |-units_4: 6</span>"
      ],
      "text/plain": [
       "<IPython.core.display.HTML object>"
      ]
     },
     "metadata": {},
     "output_type": "display_data"
    },
    {
     "name": "stdout",
     "output_type": "stream",
     "text": [
      "Train on 750 samples, validate on 250 samples\n",
      "Epoch 1/3\n",
      "750/750 [==============================] - ETA: 13s - loss: 0.6625 - accuracy: 0.625 - 1s 1ms/sample - loss: 0.6978 - accuracy: 0.5107 - val_loss: 0.7064 - val_accuracy: 0.4200\n",
      "Epoch 2/3\n",
      "750/750 [==============================] - ETA: 0s - loss: 0.6921 - accuracy: 0.53 - 0s 136us/sample - loss: 0.6917 - accuracy: 0.5027 - val_loss: 0.7060 - val_accuracy: 0.4240\n",
      "Epoch 3/3\n",
      "750/750 [==============================] - ETA: 0s - loss: 0.6934 - accuracy: 0.46 - 0s 110us/sample - loss: 0.6918 - accuracy: 0.5120 - val_loss: 0.7058 - val_accuracy: 0.4080\n"
     ]
    },
    {
     "data": {
      "text/html": [
       "<span style=\"color:#4527A0\"><h1 style=\"font-size:18px\">Trial complete</h1></span>"
      ],
      "text/plain": [
       "<IPython.core.display.HTML object>"
      ]
     },
     "metadata": {},
     "output_type": "display_data"
    },
    {
     "data": {
      "text/html": [
       "<span style=\"color:#4527A0\"><h1 style=\"font-size:18px\">Trial summary</h1></span>"
      ],
      "text/plain": [
       "<IPython.core.display.HTML object>"
      ]
     },
     "metadata": {},
     "output_type": "display_data"
    },
    {
     "data": {
      "text/html": [
       "<span style=\"color:cyan\"> |-Trial ID: cf0261eb3fecd3ff1e5d4b245317887e</span>"
      ],
      "text/plain": [
       "<IPython.core.display.HTML object>"
      ]
     },
     "metadata": {},
     "output_type": "display_data"
    },
    {
     "data": {
      "text/html": [
       "<span style=\"color:cyan\"> |-Score: 0.42399999499320984</span>"
      ],
      "text/plain": [
       "<IPython.core.display.HTML object>"
      ]
     },
     "metadata": {},
     "output_type": "display_data"
    },
    {
     "data": {
      "text/html": [
       "<span style=\"color:cyan\"> |-Best step: 0</span>"
      ],
      "text/plain": [
       "<IPython.core.display.HTML object>"
      ]
     },
     "metadata": {},
     "output_type": "display_data"
    },
    {
     "data": {
      "text/html": [
       "<span style=\"color:#7E57C2\"><h2 style=\"font-size:16px\">Hyperparameters:</h2></span>"
      ],
      "text/plain": [
       "<IPython.core.display.HTML object>"
      ]
     },
     "metadata": {},
     "output_type": "display_data"
    },
    {
     "data": {
      "text/html": [
       "<span style=\"color:cyan\"> |-activation: tanh</span>"
      ],
      "text/plain": [
       "<IPython.core.display.HTML object>"
      ]
     },
     "metadata": {},
     "output_type": "display_data"
    },
    {
     "data": {
      "text/html": [
       "<span style=\"color:blue\"> |-first_units: 16</span>"
      ],
      "text/plain": [
       "<IPython.core.display.HTML object>"
      ]
     },
     "metadata": {},
     "output_type": "display_data"
    },
    {
     "data": {
      "text/html": [
       "<span style=\"color:cyan\"> |-num_layers: 1</span>"
      ],
      "text/plain": [
       "<IPython.core.display.HTML object>"
      ]
     },
     "metadata": {},
     "output_type": "display_data"
    },
    {
     "data": {
      "text/html": [
       "<span style=\"color:blue\"> |-tuner/bracket: 2</span>"
      ],
      "text/plain": [
       "<IPython.core.display.HTML object>"
      ]
     },
     "metadata": {},
     "output_type": "display_data"
    },
    {
     "data": {
      "text/html": [
       "<span style=\"color:cyan\"> |-tuner/epochs: 3</span>"
      ],
      "text/plain": [
       "<IPython.core.display.HTML object>"
      ]
     },
     "metadata": {},
     "output_type": "display_data"
    },
    {
     "data": {
      "text/html": [
       "<span style=\"color:blue\"> |-tuner/initial_epoch: 0</span>"
      ],
      "text/plain": [
       "<IPython.core.display.HTML object>"
      ]
     },
     "metadata": {},
     "output_type": "display_data"
    },
    {
     "data": {
      "text/html": [
       "<span style=\"color:cyan\"> |-tuner/round: 0</span>"
      ],
      "text/plain": [
       "<IPython.core.display.HTML object>"
      ]
     },
     "metadata": {},
     "output_type": "display_data"
    },
    {
     "data": {
      "text/html": [
       "<span style=\"color:blue\"> |-units_0: 26</span>"
      ],
      "text/plain": [
       "<IPython.core.display.HTML object>"
      ]
     },
     "metadata": {},
     "output_type": "display_data"
    },
    {
     "data": {
      "text/html": [
       "<span style=\"color:cyan\"> |-units_1: 6</span>"
      ],
      "text/plain": [
       "<IPython.core.display.HTML object>"
      ]
     },
     "metadata": {},
     "output_type": "display_data"
    },
    {
     "data": {
      "text/html": [
       "<span style=\"color:blue\"> |-units_2: 11</span>"
      ],
      "text/plain": [
       "<IPython.core.display.HTML object>"
      ]
     },
     "metadata": {},
     "output_type": "display_data"
    },
    {
     "data": {
      "text/html": [
       "<span style=\"color:cyan\"> |-units_3: 6</span>"
      ],
      "text/plain": [
       "<IPython.core.display.HTML object>"
      ]
     },
     "metadata": {},
     "output_type": "display_data"
    },
    {
     "data": {
      "text/html": [
       "<span style=\"color:blue\"> |-units_4: 6</span>"
      ],
      "text/plain": [
       "<IPython.core.display.HTML object>"
      ]
     },
     "metadata": {},
     "output_type": "display_data"
    },
    {
     "name": "stdout",
     "output_type": "stream",
     "text": [
      "Train on 750 samples, validate on 250 samples\n",
      "Epoch 1/3\n",
      "750/750 [==============================] - ETA: 21s - loss: 0.6934 - accuracy: 0.500 - 1s 2ms/sample - loss: 0.6927 - accuracy: 0.5120 - val_loss: 0.6999 - val_accuracy: 0.4080\n",
      "Epoch 2/3\n",
      "750/750 [==============================] - ETA: 0s - loss: 0.6812 - accuracy: 0.68 - 0s 109us/sample - loss: 0.6917 - accuracy: 0.5307 - val_loss: 0.7022 - val_accuracy: 0.4080\n",
      "Epoch 3/3\n",
      "750/750 [==============================] - ETA: 0s - loss: 0.6935 - accuracy: 0.50 - 0s 103us/sample - loss: 0.6916 - accuracy: 0.5307 - val_loss: 0.7032 - val_accuracy: 0.4080\n"
     ]
    },
    {
     "data": {
      "text/html": [
       "<span style=\"color:#4527A0\"><h1 style=\"font-size:18px\">Trial complete</h1></span>"
      ],
      "text/plain": [
       "<IPython.core.display.HTML object>"
      ]
     },
     "metadata": {},
     "output_type": "display_data"
    },
    {
     "data": {
      "text/html": [
       "<span style=\"color:#4527A0\"><h1 style=\"font-size:18px\">Trial summary</h1></span>"
      ],
      "text/plain": [
       "<IPython.core.display.HTML object>"
      ]
     },
     "metadata": {},
     "output_type": "display_data"
    },
    {
     "data": {
      "text/html": [
       "<span style=\"color:cyan\"> |-Trial ID: 212003ca7a1a28f91660c2cc47aab35b</span>"
      ],
      "text/plain": [
       "<IPython.core.display.HTML object>"
      ]
     },
     "metadata": {},
     "output_type": "display_data"
    },
    {
     "data": {
      "text/html": [
       "<span style=\"color:cyan\"> |-Score: 0.40799999237060547</span>"
      ],
      "text/plain": [
       "<IPython.core.display.HTML object>"
      ]
     },
     "metadata": {},
     "output_type": "display_data"
    },
    {
     "data": {
      "text/html": [
       "<span style=\"color:cyan\"> |-Best step: 0</span>"
      ],
      "text/plain": [
       "<IPython.core.display.HTML object>"
      ]
     },
     "metadata": {},
     "output_type": "display_data"
    },
    {
     "data": {
      "text/html": [
       "<span style=\"color:#7E57C2\"><h2 style=\"font-size:16px\">Hyperparameters:</h2></span>"
      ],
      "text/plain": [
       "<IPython.core.display.HTML object>"
      ]
     },
     "metadata": {},
     "output_type": "display_data"
    },
    {
     "data": {
      "text/html": [
       "<span style=\"color:cyan\"> |-activation: tanh</span>"
      ],
      "text/plain": [
       "<IPython.core.display.HTML object>"
      ]
     },
     "metadata": {},
     "output_type": "display_data"
    },
    {
     "data": {
      "text/html": [
       "<span style=\"color:blue\"> |-first_units: 1</span>"
      ],
      "text/plain": [
       "<IPython.core.display.HTML object>"
      ]
     },
     "metadata": {},
     "output_type": "display_data"
    },
    {
     "data": {
      "text/html": [
       "<span style=\"color:cyan\"> |-num_layers: 3</span>"
      ],
      "text/plain": [
       "<IPython.core.display.HTML object>"
      ]
     },
     "metadata": {},
     "output_type": "display_data"
    },
    {
     "data": {
      "text/html": [
       "<span style=\"color:blue\"> |-tuner/bracket: 2</span>"
      ],
      "text/plain": [
       "<IPython.core.display.HTML object>"
      ]
     },
     "metadata": {},
     "output_type": "display_data"
    },
    {
     "data": {
      "text/html": [
       "<span style=\"color:cyan\"> |-tuner/epochs: 3</span>"
      ],
      "text/plain": [
       "<IPython.core.display.HTML object>"
      ]
     },
     "metadata": {},
     "output_type": "display_data"
    },
    {
     "data": {
      "text/html": [
       "<span style=\"color:blue\"> |-tuner/initial_epoch: 0</span>"
      ],
      "text/plain": [
       "<IPython.core.display.HTML object>"
      ]
     },
     "metadata": {},
     "output_type": "display_data"
    },
    {
     "data": {
      "text/html": [
       "<span style=\"color:cyan\"> |-tuner/round: 0</span>"
      ],
      "text/plain": [
       "<IPython.core.display.HTML object>"
      ]
     },
     "metadata": {},
     "output_type": "display_data"
    },
    {
     "data": {
      "text/html": [
       "<span style=\"color:blue\"> |-units_0: 6</span>"
      ],
      "text/plain": [
       "<IPython.core.display.HTML object>"
      ]
     },
     "metadata": {},
     "output_type": "display_data"
    },
    {
     "data": {
      "text/html": [
       "<span style=\"color:cyan\"> |-units_1: 1</span>"
      ],
      "text/plain": [
       "<IPython.core.display.HTML object>"
      ]
     },
     "metadata": {},
     "output_type": "display_data"
    },
    {
     "data": {
      "text/html": [
       "<span style=\"color:blue\"> |-units_2: 26</span>"
      ],
      "text/plain": [
       "<IPython.core.display.HTML object>"
      ]
     },
     "metadata": {},
     "output_type": "display_data"
    },
    {
     "data": {
      "text/html": [
       "<span style=\"color:cyan\"> |-units_3: 21</span>"
      ],
      "text/plain": [
       "<IPython.core.display.HTML object>"
      ]
     },
     "metadata": {},
     "output_type": "display_data"
    },
    {
     "data": {
      "text/html": [
       "<span style=\"color:blue\"> |-units_4: 21</span>"
      ],
      "text/plain": [
       "<IPython.core.display.HTML object>"
      ]
     },
     "metadata": {},
     "output_type": "display_data"
    },
    {
     "name": "stdout",
     "output_type": "stream",
     "text": [
      "Train on 750 samples, validate on 250 samples\n",
      "Epoch 1/3\n",
      "750/750 [==============================] - ETA: 14s - loss: 0.7432 - accuracy: 0.468 - 1s 1ms/sample - loss: 0.7054 - accuracy: 0.5240 - val_loss: 0.7145 - val_accuracy: 0.4360\n",
      "Epoch 2/3\n",
      "750/750 [==============================] - ETA: 0s - loss: 0.7147 - accuracy: 0.46 - ETA: 0s - loss: 0.6933 - accuracy: 0.52 - 0s 170us/sample - loss: 0.6933 - accuracy: 0.5200 - val_loss: 0.7049 - val_accuracy: 0.4560\n",
      "Epoch 3/3\n",
      "750/750 [==============================] - ETA: 0s - loss: 0.6971 - accuracy: 0.56 - 0s 120us/sample - loss: 0.6918 - accuracy: 0.5240 - val_loss: 0.7054 - val_accuracy: 0.3920\n"
     ]
    },
    {
     "data": {
      "text/html": [
       "<span style=\"color:#4527A0\"><h1 style=\"font-size:18px\">Trial complete</h1></span>"
      ],
      "text/plain": [
       "<IPython.core.display.HTML object>"
      ]
     },
     "metadata": {},
     "output_type": "display_data"
    },
    {
     "data": {
      "text/html": [
       "<span style=\"color:#4527A0\"><h1 style=\"font-size:18px\">Trial summary</h1></span>"
      ],
      "text/plain": [
       "<IPython.core.display.HTML object>"
      ]
     },
     "metadata": {},
     "output_type": "display_data"
    },
    {
     "data": {
      "text/html": [
       "<span style=\"color:cyan\"> |-Trial ID: 05cc992b9ec6bba405f6148f521927e0</span>"
      ],
      "text/plain": [
       "<IPython.core.display.HTML object>"
      ]
     },
     "metadata": {},
     "output_type": "display_data"
    },
    {
     "data": {
      "text/html": [
       "<span style=\"color:cyan\"> |-Score: 0.4560000002384186</span>"
      ],
      "text/plain": [
       "<IPython.core.display.HTML object>"
      ]
     },
     "metadata": {},
     "output_type": "display_data"
    },
    {
     "data": {
      "text/html": [
       "<span style=\"color:cyan\"> |-Best step: 0</span>"
      ],
      "text/plain": [
       "<IPython.core.display.HTML object>"
      ]
     },
     "metadata": {},
     "output_type": "display_data"
    },
    {
     "data": {
      "text/html": [
       "<span style=\"color:#7E57C2\"><h2 style=\"font-size:16px\">Hyperparameters:</h2></span>"
      ],
      "text/plain": [
       "<IPython.core.display.HTML object>"
      ]
     },
     "metadata": {},
     "output_type": "display_data"
    },
    {
     "data": {
      "text/html": [
       "<span style=\"color:cyan\"> |-activation: tanh</span>"
      ],
      "text/plain": [
       "<IPython.core.display.HTML object>"
      ]
     },
     "metadata": {},
     "output_type": "display_data"
    },
    {
     "data": {
      "text/html": [
       "<span style=\"color:blue\"> |-first_units: 11</span>"
      ],
      "text/plain": [
       "<IPython.core.display.HTML object>"
      ]
     },
     "metadata": {},
     "output_type": "display_data"
    },
    {
     "data": {
      "text/html": [
       "<span style=\"color:cyan\"> |-num_layers: 1</span>"
      ],
      "text/plain": [
       "<IPython.core.display.HTML object>"
      ]
     },
     "metadata": {},
     "output_type": "display_data"
    },
    {
     "data": {
      "text/html": [
       "<span style=\"color:blue\"> |-tuner/bracket: 2</span>"
      ],
      "text/plain": [
       "<IPython.core.display.HTML object>"
      ]
     },
     "metadata": {},
     "output_type": "display_data"
    },
    {
     "data": {
      "text/html": [
       "<span style=\"color:cyan\"> |-tuner/epochs: 3</span>"
      ],
      "text/plain": [
       "<IPython.core.display.HTML object>"
      ]
     },
     "metadata": {},
     "output_type": "display_data"
    },
    {
     "data": {
      "text/html": [
       "<span style=\"color:blue\"> |-tuner/initial_epoch: 0</span>"
      ],
      "text/plain": [
       "<IPython.core.display.HTML object>"
      ]
     },
     "metadata": {},
     "output_type": "display_data"
    },
    {
     "data": {
      "text/html": [
       "<span style=\"color:cyan\"> |-tuner/round: 0</span>"
      ],
      "text/plain": [
       "<IPython.core.display.HTML object>"
      ]
     },
     "metadata": {},
     "output_type": "display_data"
    },
    {
     "data": {
      "text/html": [
       "<span style=\"color:blue\"> |-units_0: 21</span>"
      ],
      "text/plain": [
       "<IPython.core.display.HTML object>"
      ]
     },
     "metadata": {},
     "output_type": "display_data"
    },
    {
     "data": {
      "text/html": [
       "<span style=\"color:cyan\"> |-units_1: 26</span>"
      ],
      "text/plain": [
       "<IPython.core.display.HTML object>"
      ]
     },
     "metadata": {},
     "output_type": "display_data"
    },
    {
     "data": {
      "text/html": [
       "<span style=\"color:blue\"> |-units_2: 26</span>"
      ],
      "text/plain": [
       "<IPython.core.display.HTML object>"
      ]
     },
     "metadata": {},
     "output_type": "display_data"
    },
    {
     "data": {
      "text/html": [
       "<span style=\"color:cyan\"> |-units_3: 11</span>"
      ],
      "text/plain": [
       "<IPython.core.display.HTML object>"
      ]
     },
     "metadata": {},
     "output_type": "display_data"
    },
    {
     "data": {
      "text/html": [
       "<span style=\"color:blue\"> |-units_4: 11</span>"
      ],
      "text/plain": [
       "<IPython.core.display.HTML object>"
      ]
     },
     "metadata": {},
     "output_type": "display_data"
    },
    {
     "name": "stdout",
     "output_type": "stream",
     "text": [
      "Train on 750 samples, validate on 250 samples\n",
      "Epoch 1/3\n",
      "750/750 [==============================] - ETA: 19s - loss: 0.6931 - accuracy: 0.437 - 1s 2ms/sample - loss: 0.6932 - accuracy: 0.4693 - val_loss: 0.6935 - val_accuracy: 0.4080\n",
      "Epoch 2/3\n",
      "750/750 [==============================] - ETA: 0s - loss: 0.6934 - accuracy: 0.43 - 0s 132us/sample - loss: 0.6930 - accuracy: 0.5307 - val_loss: 0.6941 - val_accuracy: 0.4080\n",
      "Epoch 3/3\n",
      "750/750 [==============================] - ETA: 0s - loss: 0.6948 - accuracy: 0.34 - 0s 128us/sample - loss: 0.6928 - accuracy: 0.5307 - val_loss: 0.6945 - val_accuracy: 0.4080\n"
     ]
    },
    {
     "data": {
      "text/html": [
       "<span style=\"color:#4527A0\"><h1 style=\"font-size:18px\">Trial complete</h1></span>"
      ],
      "text/plain": [
       "<IPython.core.display.HTML object>"
      ]
     },
     "metadata": {},
     "output_type": "display_data"
    },
    {
     "data": {
      "text/html": [
       "<span style=\"color:#4527A0\"><h1 style=\"font-size:18px\">Trial summary</h1></span>"
      ],
      "text/plain": [
       "<IPython.core.display.HTML object>"
      ]
     },
     "metadata": {},
     "output_type": "display_data"
    },
    {
     "data": {
      "text/html": [
       "<span style=\"color:cyan\"> |-Trial ID: 69253560f6a871e585e5bff961eab64b</span>"
      ],
      "text/plain": [
       "<IPython.core.display.HTML object>"
      ]
     },
     "metadata": {},
     "output_type": "display_data"
    },
    {
     "data": {
      "text/html": [
       "<span style=\"color:cyan\"> |-Score: 0.40799999237060547</span>"
      ],
      "text/plain": [
       "<IPython.core.display.HTML object>"
      ]
     },
     "metadata": {},
     "output_type": "display_data"
    },
    {
     "data": {
      "text/html": [
       "<span style=\"color:cyan\"> |-Best step: 0</span>"
      ],
      "text/plain": [
       "<IPython.core.display.HTML object>"
      ]
     },
     "metadata": {},
     "output_type": "display_data"
    },
    {
     "data": {
      "text/html": [
       "<span style=\"color:#7E57C2\"><h2 style=\"font-size:16px\">Hyperparameters:</h2></span>"
      ],
      "text/plain": [
       "<IPython.core.display.HTML object>"
      ]
     },
     "metadata": {},
     "output_type": "display_data"
    },
    {
     "data": {
      "text/html": [
       "<span style=\"color:cyan\"> |-activation: relu</span>"
      ],
      "text/plain": [
       "<IPython.core.display.HTML object>"
      ]
     },
     "metadata": {},
     "output_type": "display_data"
    },
    {
     "data": {
      "text/html": [
       "<span style=\"color:blue\"> |-first_units: 11</span>"
      ],
      "text/plain": [
       "<IPython.core.display.HTML object>"
      ]
     },
     "metadata": {},
     "output_type": "display_data"
    },
    {
     "data": {
      "text/html": [
       "<span style=\"color:cyan\"> |-num_layers: 2</span>"
      ],
      "text/plain": [
       "<IPython.core.display.HTML object>"
      ]
     },
     "metadata": {},
     "output_type": "display_data"
    },
    {
     "data": {
      "text/html": [
       "<span style=\"color:blue\"> |-tuner/bracket: 2</span>"
      ],
      "text/plain": [
       "<IPython.core.display.HTML object>"
      ]
     },
     "metadata": {},
     "output_type": "display_data"
    },
    {
     "data": {
      "text/html": [
       "<span style=\"color:cyan\"> |-tuner/epochs: 3</span>"
      ],
      "text/plain": [
       "<IPython.core.display.HTML object>"
      ]
     },
     "metadata": {},
     "output_type": "display_data"
    },
    {
     "data": {
      "text/html": [
       "<span style=\"color:blue\"> |-tuner/initial_epoch: 0</span>"
      ],
      "text/plain": [
       "<IPython.core.display.HTML object>"
      ]
     },
     "metadata": {},
     "output_type": "display_data"
    },
    {
     "data": {
      "text/html": [
       "<span style=\"color:cyan\"> |-tuner/round: 0</span>"
      ],
      "text/plain": [
       "<IPython.core.display.HTML object>"
      ]
     },
     "metadata": {},
     "output_type": "display_data"
    },
    {
     "data": {
      "text/html": [
       "<span style=\"color:blue\"> |-units_0: 1</span>"
      ],
      "text/plain": [
       "<IPython.core.display.HTML object>"
      ]
     },
     "metadata": {},
     "output_type": "display_data"
    },
    {
     "data": {
      "text/html": [
       "<span style=\"color:cyan\"> |-units_1: 1</span>"
      ],
      "text/plain": [
       "<IPython.core.display.HTML object>"
      ]
     },
     "metadata": {},
     "output_type": "display_data"
    },
    {
     "data": {
      "text/html": [
       "<span style=\"color:blue\"> |-units_2: 11</span>"
      ],
      "text/plain": [
       "<IPython.core.display.HTML object>"
      ]
     },
     "metadata": {},
     "output_type": "display_data"
    },
    {
     "data": {
      "text/html": [
       "<span style=\"color:cyan\"> |-units_3: 11</span>"
      ],
      "text/plain": [
       "<IPython.core.display.HTML object>"
      ]
     },
     "metadata": {},
     "output_type": "display_data"
    },
    {
     "data": {
      "text/html": [
       "<span style=\"color:blue\"> |-units_4: 6</span>"
      ],
      "text/plain": [
       "<IPython.core.display.HTML object>"
      ]
     },
     "metadata": {},
     "output_type": "display_data"
    },
    {
     "name": "stdout",
     "output_type": "stream",
     "text": [
      "Train on 750 samples, validate on 250 samples\n",
      "Epoch 1/3\n",
      "750/750 [==============================] - ETA: 15s - loss: 0.7005 - accuracy: 0.406 - 1s 1ms/sample - loss: 0.6877 - accuracy: 0.5107 - val_loss: 0.7052 - val_accuracy: 0.4080\n",
      "Epoch 2/3\n",
      "750/750 [==============================] - ETA: 0s - loss: 0.6906 - accuracy: 0.50 - 0s 110us/sample - loss: 0.6856 - accuracy: 0.5360 - val_loss: 0.7089 - val_accuracy: 0.4040\n",
      "Epoch 3/3\n",
      "750/750 [==============================] - ETA: 0s - loss: 0.6899 - accuracy: 0.46 - 0s 113us/sample - loss: 0.6847 - accuracy: 0.5360 - val_loss: 0.7148 - val_accuracy: 0.4000\n"
     ]
    },
    {
     "data": {
      "text/html": [
       "<span style=\"color:#4527A0\"><h1 style=\"font-size:18px\">Trial complete</h1></span>"
      ],
      "text/plain": [
       "<IPython.core.display.HTML object>"
      ]
     },
     "metadata": {},
     "output_type": "display_data"
    },
    {
     "data": {
      "text/html": [
       "<span style=\"color:#4527A0\"><h1 style=\"font-size:18px\">Trial summary</h1></span>"
      ],
      "text/plain": [
       "<IPython.core.display.HTML object>"
      ]
     },
     "metadata": {},
     "output_type": "display_data"
    },
    {
     "data": {
      "text/html": [
       "<span style=\"color:cyan\"> |-Trial ID: 06d586913c503bd66ded8d27dad17157</span>"
      ],
      "text/plain": [
       "<IPython.core.display.HTML object>"
      ]
     },
     "metadata": {},
     "output_type": "display_data"
    },
    {
     "data": {
      "text/html": [
       "<span style=\"color:cyan\"> |-Score: 0.40799999237060547</span>"
      ],
      "text/plain": [
       "<IPython.core.display.HTML object>"
      ]
     },
     "metadata": {},
     "output_type": "display_data"
    },
    {
     "data": {
      "text/html": [
       "<span style=\"color:cyan\"> |-Best step: 0</span>"
      ],
      "text/plain": [
       "<IPython.core.display.HTML object>"
      ]
     },
     "metadata": {},
     "output_type": "display_data"
    },
    {
     "data": {
      "text/html": [
       "<span style=\"color:#7E57C2\"><h2 style=\"font-size:16px\">Hyperparameters:</h2></span>"
      ],
      "text/plain": [
       "<IPython.core.display.HTML object>"
      ]
     },
     "metadata": {},
     "output_type": "display_data"
    },
    {
     "data": {
      "text/html": [
       "<span style=\"color:cyan\"> |-activation: relu</span>"
      ],
      "text/plain": [
       "<IPython.core.display.HTML object>"
      ]
     },
     "metadata": {},
     "output_type": "display_data"
    },
    {
     "data": {
      "text/html": [
       "<span style=\"color:blue\"> |-first_units: 6</span>"
      ],
      "text/plain": [
       "<IPython.core.display.HTML object>"
      ]
     },
     "metadata": {},
     "output_type": "display_data"
    },
    {
     "data": {
      "text/html": [
       "<span style=\"color:cyan\"> |-num_layers: 2</span>"
      ],
      "text/plain": [
       "<IPython.core.display.HTML object>"
      ]
     },
     "metadata": {},
     "output_type": "display_data"
    },
    {
     "data": {
      "text/html": [
       "<span style=\"color:blue\"> |-tuner/bracket: 2</span>"
      ],
      "text/plain": [
       "<IPython.core.display.HTML object>"
      ]
     },
     "metadata": {},
     "output_type": "display_data"
    },
    {
     "data": {
      "text/html": [
       "<span style=\"color:cyan\"> |-tuner/epochs: 3</span>"
      ],
      "text/plain": [
       "<IPython.core.display.HTML object>"
      ]
     },
     "metadata": {},
     "output_type": "display_data"
    },
    {
     "data": {
      "text/html": [
       "<span style=\"color:blue\"> |-tuner/initial_epoch: 0</span>"
      ],
      "text/plain": [
       "<IPython.core.display.HTML object>"
      ]
     },
     "metadata": {},
     "output_type": "display_data"
    },
    {
     "data": {
      "text/html": [
       "<span style=\"color:cyan\"> |-tuner/round: 0</span>"
      ],
      "text/plain": [
       "<IPython.core.display.HTML object>"
      ]
     },
     "metadata": {},
     "output_type": "display_data"
    },
    {
     "data": {
      "text/html": [
       "<span style=\"color:blue\"> |-units_0: 26</span>"
      ],
      "text/plain": [
       "<IPython.core.display.HTML object>"
      ]
     },
     "metadata": {},
     "output_type": "display_data"
    },
    {
     "data": {
      "text/html": [
       "<span style=\"color:cyan\"> |-units_1: 6</span>"
      ],
      "text/plain": [
       "<IPython.core.display.HTML object>"
      ]
     },
     "metadata": {},
     "output_type": "display_data"
    },
    {
     "data": {
      "text/html": [
       "<span style=\"color:blue\"> |-units_2: 16</span>"
      ],
      "text/plain": [
       "<IPython.core.display.HTML object>"
      ]
     },
     "metadata": {},
     "output_type": "display_data"
    },
    {
     "data": {
      "text/html": [
       "<span style=\"color:cyan\"> |-units_3: 21</span>"
      ],
      "text/plain": [
       "<IPython.core.display.HTML object>"
      ]
     },
     "metadata": {},
     "output_type": "display_data"
    },
    {
     "data": {
      "text/html": [
       "<span style=\"color:blue\"> |-units_4: 21</span>"
      ],
      "text/plain": [
       "<IPython.core.display.HTML object>"
      ]
     },
     "metadata": {},
     "output_type": "display_data"
    },
    {
     "name": "stdout",
     "output_type": "stream",
     "text": [
      "Train on 750 samples, validate on 250 samples\n",
      "Epoch 1/3\n",
      "750/750 [==============================] - ETA: 19s - loss: 0.7020 - accuracy: 0.406 - 1s 2ms/sample - loss: 0.7036 - accuracy: 0.4867 - val_loss: 0.6923 - val_accuracy: 0.5280\n",
      "Epoch 2/3\n",
      "750/750 [==============================] - ETA: 0s - loss: 0.7018 - accuracy: 0.50 - 0s 130us/sample - loss: 0.6959 - accuracy: 0.4880 - val_loss: 0.6952 - val_accuracy: 0.3920\n",
      "Epoch 3/3\n",
      "750/750 [==============================] - ETA: 0s - loss: 0.6959 - accuracy: 0.34 - 0s 138us/sample - loss: 0.6927 - accuracy: 0.5293 - val_loss: 0.6953 - val_accuracy: 0.4080\n"
     ]
    },
    {
     "data": {
      "text/html": [
       "<span style=\"color:#4527A0\"><h1 style=\"font-size:18px\">Trial complete</h1></span>"
      ],
      "text/plain": [
       "<IPython.core.display.HTML object>"
      ]
     },
     "metadata": {},
     "output_type": "display_data"
    },
    {
     "data": {
      "text/html": [
       "<span style=\"color:#4527A0\"><h1 style=\"font-size:18px\">Trial summary</h1></span>"
      ],
      "text/plain": [
       "<IPython.core.display.HTML object>"
      ]
     },
     "metadata": {},
     "output_type": "display_data"
    },
    {
     "data": {
      "text/html": [
       "<span style=\"color:cyan\"> |-Trial ID: fcb8877e9bc4528dfda31e4333bc244f</span>"
      ],
      "text/plain": [
       "<IPython.core.display.HTML object>"
      ]
     },
     "metadata": {},
     "output_type": "display_data"
    },
    {
     "data": {
      "text/html": [
       "<span style=\"color:cyan\"> |-Score: 0.527999997138977</span>"
      ],
      "text/plain": [
       "<IPython.core.display.HTML object>"
      ]
     },
     "metadata": {},
     "output_type": "display_data"
    },
    {
     "data": {
      "text/html": [
       "<span style=\"color:cyan\"> |-Best step: 0</span>"
      ],
      "text/plain": [
       "<IPython.core.display.HTML object>"
      ]
     },
     "metadata": {},
     "output_type": "display_data"
    },
    {
     "data": {
      "text/html": [
       "<span style=\"color:#7E57C2\"><h2 style=\"font-size:16px\">Hyperparameters:</h2></span>"
      ],
      "text/plain": [
       "<IPython.core.display.HTML object>"
      ]
     },
     "metadata": {},
     "output_type": "display_data"
    },
    {
     "data": {
      "text/html": [
       "<span style=\"color:cyan\"> |-activation: relu</span>"
      ],
      "text/plain": [
       "<IPython.core.display.HTML object>"
      ]
     },
     "metadata": {},
     "output_type": "display_data"
    },
    {
     "data": {
      "text/html": [
       "<span style=\"color:blue\"> |-first_units: 21</span>"
      ],
      "text/plain": [
       "<IPython.core.display.HTML object>"
      ]
     },
     "metadata": {},
     "output_type": "display_data"
    },
    {
     "data": {
      "text/html": [
       "<span style=\"color:cyan\"> |-num_layers: 3</span>"
      ],
      "text/plain": [
       "<IPython.core.display.HTML object>"
      ]
     },
     "metadata": {},
     "output_type": "display_data"
    },
    {
     "data": {
      "text/html": [
       "<span style=\"color:blue\"> |-tuner/bracket: 2</span>"
      ],
      "text/plain": [
       "<IPython.core.display.HTML object>"
      ]
     },
     "metadata": {},
     "output_type": "display_data"
    },
    {
     "data": {
      "text/html": [
       "<span style=\"color:cyan\"> |-tuner/epochs: 3</span>"
      ],
      "text/plain": [
       "<IPython.core.display.HTML object>"
      ]
     },
     "metadata": {},
     "output_type": "display_data"
    },
    {
     "data": {
      "text/html": [
       "<span style=\"color:blue\"> |-tuner/initial_epoch: 0</span>"
      ],
      "text/plain": [
       "<IPython.core.display.HTML object>"
      ]
     },
     "metadata": {},
     "output_type": "display_data"
    },
    {
     "data": {
      "text/html": [
       "<span style=\"color:cyan\"> |-tuner/round: 0</span>"
      ],
      "text/plain": [
       "<IPython.core.display.HTML object>"
      ]
     },
     "metadata": {},
     "output_type": "display_data"
    },
    {
     "data": {
      "text/html": [
       "<span style=\"color:blue\"> |-units_0: 11</span>"
      ],
      "text/plain": [
       "<IPython.core.display.HTML object>"
      ]
     },
     "metadata": {},
     "output_type": "display_data"
    },
    {
     "data": {
      "text/html": [
       "<span style=\"color:cyan\"> |-units_1: 11</span>"
      ],
      "text/plain": [
       "<IPython.core.display.HTML object>"
      ]
     },
     "metadata": {},
     "output_type": "display_data"
    },
    {
     "data": {
      "text/html": [
       "<span style=\"color:blue\"> |-units_2: 1</span>"
      ],
      "text/plain": [
       "<IPython.core.display.HTML object>"
      ]
     },
     "metadata": {},
     "output_type": "display_data"
    },
    {
     "data": {
      "text/html": [
       "<span style=\"color:cyan\"> |-units_3: 26</span>"
      ],
      "text/plain": [
       "<IPython.core.display.HTML object>"
      ]
     },
     "metadata": {},
     "output_type": "display_data"
    },
    {
     "data": {
      "text/html": [
       "<span style=\"color:blue\"> |-units_4: 26</span>"
      ],
      "text/plain": [
       "<IPython.core.display.HTML object>"
      ]
     },
     "metadata": {},
     "output_type": "display_data"
    },
    {
     "name": "stdout",
     "output_type": "stream",
     "text": [
      "Train on 750 samples, validate on 250 samples\n",
      "Epoch 1/3\n",
      "750/750 [==============================] - ETA: 15s - loss: 0.8386 - accuracy: 0.468 - ETA: 0s - loss: 0.7327 - accuracy: 0.515 - 1s 1ms/sample - loss: 0.7260 - accuracy: 0.5013 - val_loss: 0.7017 - val_accuracy: 0.4600\n",
      "Epoch 2/3\n",
      "750/750 [==============================] - ETA: 0s - loss: 0.6858 - accuracy: 0.46 - 0s 131us/sample - loss: 0.6939 - accuracy: 0.5227 - val_loss: 0.7145 - val_accuracy: 0.4400\n",
      "Epoch 3/3\n",
      "750/750 [==============================] - ETA: 0s - loss: 0.7075 - accuracy: 0.43 - 0s 114us/sample - loss: 0.6919 - accuracy: 0.5347 - val_loss: 0.7045 - val_accuracy: 0.4040\n"
     ]
    },
    {
     "data": {
      "text/html": [
       "<span style=\"color:#4527A0\"><h1 style=\"font-size:18px\">Trial complete</h1></span>"
      ],
      "text/plain": [
       "<IPython.core.display.HTML object>"
      ]
     },
     "metadata": {},
     "output_type": "display_data"
    },
    {
     "data": {
      "text/html": [
       "<span style=\"color:#4527A0\"><h1 style=\"font-size:18px\">Trial summary</h1></span>"
      ],
      "text/plain": [
       "<IPython.core.display.HTML object>"
      ]
     },
     "metadata": {},
     "output_type": "display_data"
    },
    {
     "data": {
      "text/html": [
       "<span style=\"color:cyan\"> |-Trial ID: 36c0016d18a3ab8749c9696dde809f06</span>"
      ],
      "text/plain": [
       "<IPython.core.display.HTML object>"
      ]
     },
     "metadata": {},
     "output_type": "display_data"
    },
    {
     "data": {
      "text/html": [
       "<span style=\"color:cyan\"> |-Score: 0.46000000834465027</span>"
      ],
      "text/plain": [
       "<IPython.core.display.HTML object>"
      ]
     },
     "metadata": {},
     "output_type": "display_data"
    },
    {
     "data": {
      "text/html": [
       "<span style=\"color:cyan\"> |-Best step: 0</span>"
      ],
      "text/plain": [
       "<IPython.core.display.HTML object>"
      ]
     },
     "metadata": {},
     "output_type": "display_data"
    },
    {
     "data": {
      "text/html": [
       "<span style=\"color:#7E57C2\"><h2 style=\"font-size:16px\">Hyperparameters:</h2></span>"
      ],
      "text/plain": [
       "<IPython.core.display.HTML object>"
      ]
     },
     "metadata": {},
     "output_type": "display_data"
    },
    {
     "data": {
      "text/html": [
       "<span style=\"color:cyan\"> |-activation: tanh</span>"
      ],
      "text/plain": [
       "<IPython.core.display.HTML object>"
      ]
     },
     "metadata": {},
     "output_type": "display_data"
    },
    {
     "data": {
      "text/html": [
       "<span style=\"color:blue\"> |-first_units: 21</span>"
      ],
      "text/plain": [
       "<IPython.core.display.HTML object>"
      ]
     },
     "metadata": {},
     "output_type": "display_data"
    },
    {
     "data": {
      "text/html": [
       "<span style=\"color:cyan\"> |-num_layers: 2</span>"
      ],
      "text/plain": [
       "<IPython.core.display.HTML object>"
      ]
     },
     "metadata": {},
     "output_type": "display_data"
    },
    {
     "data": {
      "text/html": [
       "<span style=\"color:blue\"> |-tuner/bracket: 2</span>"
      ],
      "text/plain": [
       "<IPython.core.display.HTML object>"
      ]
     },
     "metadata": {},
     "output_type": "display_data"
    },
    {
     "data": {
      "text/html": [
       "<span style=\"color:cyan\"> |-tuner/epochs: 3</span>"
      ],
      "text/plain": [
       "<IPython.core.display.HTML object>"
      ]
     },
     "metadata": {},
     "output_type": "display_data"
    },
    {
     "data": {
      "text/html": [
       "<span style=\"color:blue\"> |-tuner/initial_epoch: 0</span>"
      ],
      "text/plain": [
       "<IPython.core.display.HTML object>"
      ]
     },
     "metadata": {},
     "output_type": "display_data"
    },
    {
     "data": {
      "text/html": [
       "<span style=\"color:cyan\"> |-tuner/round: 0</span>"
      ],
      "text/plain": [
       "<IPython.core.display.HTML object>"
      ]
     },
     "metadata": {},
     "output_type": "display_data"
    },
    {
     "data": {
      "text/html": [
       "<span style=\"color:blue\"> |-units_0: 26</span>"
      ],
      "text/plain": [
       "<IPython.core.display.HTML object>"
      ]
     },
     "metadata": {},
     "output_type": "display_data"
    },
    {
     "data": {
      "text/html": [
       "<span style=\"color:cyan\"> |-units_1: 6</span>"
      ],
      "text/plain": [
       "<IPython.core.display.HTML object>"
      ]
     },
     "metadata": {},
     "output_type": "display_data"
    },
    {
     "data": {
      "text/html": [
       "<span style=\"color:blue\"> |-units_2: 26</span>"
      ],
      "text/plain": [
       "<IPython.core.display.HTML object>"
      ]
     },
     "metadata": {},
     "output_type": "display_data"
    },
    {
     "data": {
      "text/html": [
       "<span style=\"color:cyan\"> |-units_3: 1</span>"
      ],
      "text/plain": [
       "<IPython.core.display.HTML object>"
      ]
     },
     "metadata": {},
     "output_type": "display_data"
    },
    {
     "data": {
      "text/html": [
       "<span style=\"color:blue\"> |-units_4: 16</span>"
      ],
      "text/plain": [
       "<IPython.core.display.HTML object>"
      ]
     },
     "metadata": {},
     "output_type": "display_data"
    },
    {
     "name": "stdout",
     "output_type": "stream",
     "text": [
      "Train on 750 samples, validate on 250 samples\n",
      "Epoch 1/3\n",
      "750/750 [==============================] - ETA: 13s - loss: 0.7759 - accuracy: 0.437 - 1s 1ms/sample - loss: 0.7189 - accuracy: 0.5147 - val_loss: 0.7249 - val_accuracy: 0.4680\n",
      "Epoch 2/3\n",
      "750/750 [==============================] - ETA: 0s - loss: 0.6867 - accuracy: 0.50 - 0s 107us/sample - loss: 0.6965 - accuracy: 0.5187 - val_loss: 0.7015 - val_accuracy: 0.4560\n",
      "Epoch 3/3\n",
      "750/750 [==============================] - ETA: 0s - loss: 0.6902 - accuracy: 0.59 - 0s 104us/sample - loss: 0.6920 - accuracy: 0.5373 - val_loss: 0.6964 - val_accuracy: 0.4520\n"
     ]
    },
    {
     "data": {
      "text/html": [
       "<span style=\"color:#4527A0\"><h1 style=\"font-size:18px\">Trial complete</h1></span>"
      ],
      "text/plain": [
       "<IPython.core.display.HTML object>"
      ]
     },
     "metadata": {},
     "output_type": "display_data"
    },
    {
     "data": {
      "text/html": [
       "<span style=\"color:#4527A0\"><h1 style=\"font-size:18px\">Trial summary</h1></span>"
      ],
      "text/plain": [
       "<IPython.core.display.HTML object>"
      ]
     },
     "metadata": {},
     "output_type": "display_data"
    },
    {
     "data": {
      "text/html": [
       "<span style=\"color:cyan\"> |-Trial ID: c024a5732dff26ca4c459748824f10fe</span>"
      ],
      "text/plain": [
       "<IPython.core.display.HTML object>"
      ]
     },
     "metadata": {},
     "output_type": "display_data"
    },
    {
     "data": {
      "text/html": [
       "<span style=\"color:cyan\"> |-Score: 0.46799999475479126</span>"
      ],
      "text/plain": [
       "<IPython.core.display.HTML object>"
      ]
     },
     "metadata": {},
     "output_type": "display_data"
    },
    {
     "data": {
      "text/html": [
       "<span style=\"color:cyan\"> |-Best step: 0</span>"
      ],
      "text/plain": [
       "<IPython.core.display.HTML object>"
      ]
     },
     "metadata": {},
     "output_type": "display_data"
    },
    {
     "data": {
      "text/html": [
       "<span style=\"color:#7E57C2\"><h2 style=\"font-size:16px\">Hyperparameters:</h2></span>"
      ],
      "text/plain": [
       "<IPython.core.display.HTML object>"
      ]
     },
     "metadata": {},
     "output_type": "display_data"
    },
    {
     "data": {
      "text/html": [
       "<span style=\"color:cyan\"> |-activation: tanh</span>"
      ],
      "text/plain": [
       "<IPython.core.display.HTML object>"
      ]
     },
     "metadata": {},
     "output_type": "display_data"
    },
    {
     "data": {
      "text/html": [
       "<span style=\"color:blue\"> |-first_units: 21</span>"
      ],
      "text/plain": [
       "<IPython.core.display.HTML object>"
      ]
     },
     "metadata": {},
     "output_type": "display_data"
    },
    {
     "data": {
      "text/html": [
       "<span style=\"color:cyan\"> |-num_layers: 1</span>"
      ],
      "text/plain": [
       "<IPython.core.display.HTML object>"
      ]
     },
     "metadata": {},
     "output_type": "display_data"
    },
    {
     "data": {
      "text/html": [
       "<span style=\"color:blue\"> |-tuner/bracket: 2</span>"
      ],
      "text/plain": [
       "<IPython.core.display.HTML object>"
      ]
     },
     "metadata": {},
     "output_type": "display_data"
    },
    {
     "data": {
      "text/html": [
       "<span style=\"color:cyan\"> |-tuner/epochs: 3</span>"
      ],
      "text/plain": [
       "<IPython.core.display.HTML object>"
      ]
     },
     "metadata": {},
     "output_type": "display_data"
    },
    {
     "data": {
      "text/html": [
       "<span style=\"color:blue\"> |-tuner/initial_epoch: 0</span>"
      ],
      "text/plain": [
       "<IPython.core.display.HTML object>"
      ]
     },
     "metadata": {},
     "output_type": "display_data"
    },
    {
     "data": {
      "text/html": [
       "<span style=\"color:cyan\"> |-tuner/round: 0</span>"
      ],
      "text/plain": [
       "<IPython.core.display.HTML object>"
      ]
     },
     "metadata": {},
     "output_type": "display_data"
    },
    {
     "data": {
      "text/html": [
       "<span style=\"color:blue\"> |-units_0: 6</span>"
      ],
      "text/plain": [
       "<IPython.core.display.HTML object>"
      ]
     },
     "metadata": {},
     "output_type": "display_data"
    },
    {
     "data": {
      "text/html": [
       "<span style=\"color:cyan\"> |-units_1: 21</span>"
      ],
      "text/plain": [
       "<IPython.core.display.HTML object>"
      ]
     },
     "metadata": {},
     "output_type": "display_data"
    },
    {
     "data": {
      "text/html": [
       "<span style=\"color:blue\"> |-units_2: 21</span>"
      ],
      "text/plain": [
       "<IPython.core.display.HTML object>"
      ]
     },
     "metadata": {},
     "output_type": "display_data"
    },
    {
     "data": {
      "text/html": [
       "<span style=\"color:cyan\"> |-units_3: 16</span>"
      ],
      "text/plain": [
       "<IPython.core.display.HTML object>"
      ]
     },
     "metadata": {},
     "output_type": "display_data"
    },
    {
     "data": {
      "text/html": [
       "<span style=\"color:blue\"> |-units_4: 26</span>"
      ],
      "text/plain": [
       "<IPython.core.display.HTML object>"
      ]
     },
     "metadata": {},
     "output_type": "display_data"
    },
    {
     "name": "stdout",
     "output_type": "stream",
     "text": [
      "Train on 750 samples, validate on 250 samples\n",
      "Epoch 1/3\n",
      "750/750 [==============================] - ETA: 16s - loss: 0.6982 - accuracy: 0.468 - 1s 1ms/sample - loss: 0.6942 - accuracy: 0.4827 - val_loss: 0.7031 - val_accuracy: 0.4080\n",
      "Epoch 2/3\n",
      "750/750 [==============================] - ETA: 0s - loss: 0.6833 - accuracy: 0.62 - 0s 148us/sample - loss: 0.6925 - accuracy: 0.5253 - val_loss: 0.6989 - val_accuracy: 0.4360\n",
      "Epoch 3/3\n",
      "750/750 [==============================] - ETA: 0s - loss: 0.6949 - accuracy: 0.53 - 0s 141us/sample - loss: 0.6902 - accuracy: 0.5200 - val_loss: 0.7005 - val_accuracy: 0.4520\n"
     ]
    },
    {
     "data": {
      "text/html": [
       "<span style=\"color:#4527A0\"><h1 style=\"font-size:18px\">Trial complete</h1></span>"
      ],
      "text/plain": [
       "<IPython.core.display.HTML object>"
      ]
     },
     "metadata": {},
     "output_type": "display_data"
    },
    {
     "data": {
      "text/html": [
       "<span style=\"color:#4527A0\"><h1 style=\"font-size:18px\">Trial summary</h1></span>"
      ],
      "text/plain": [
       "<IPython.core.display.HTML object>"
      ]
     },
     "metadata": {},
     "output_type": "display_data"
    },
    {
     "data": {
      "text/html": [
       "<span style=\"color:cyan\"> |-Trial ID: cfafd8ad8d2b9e8df90503949079aaa7</span>"
      ],
      "text/plain": [
       "<IPython.core.display.HTML object>"
      ]
     },
     "metadata": {},
     "output_type": "display_data"
    },
    {
     "data": {
      "text/html": [
       "<span style=\"color:cyan\"> |-Score: 0.4519999921321869</span>"
      ],
      "text/plain": [
       "<IPython.core.display.HTML object>"
      ]
     },
     "metadata": {},
     "output_type": "display_data"
    },
    {
     "data": {
      "text/html": [
       "<span style=\"color:cyan\"> |-Best step: 0</span>"
      ],
      "text/plain": [
       "<IPython.core.display.HTML object>"
      ]
     },
     "metadata": {},
     "output_type": "display_data"
    },
    {
     "data": {
      "text/html": [
       "<span style=\"color:#7E57C2\"><h2 style=\"font-size:16px\">Hyperparameters:</h2></span>"
      ],
      "text/plain": [
       "<IPython.core.display.HTML object>"
      ]
     },
     "metadata": {},
     "output_type": "display_data"
    },
    {
     "data": {
      "text/html": [
       "<span style=\"color:cyan\"> |-activation: tanh</span>"
      ],
      "text/plain": [
       "<IPython.core.display.HTML object>"
      ]
     },
     "metadata": {},
     "output_type": "display_data"
    },
    {
     "data": {
      "text/html": [
       "<span style=\"color:blue\"> |-first_units: 26</span>"
      ],
      "text/plain": [
       "<IPython.core.display.HTML object>"
      ]
     },
     "metadata": {},
     "output_type": "display_data"
    },
    {
     "data": {
      "text/html": [
       "<span style=\"color:cyan\"> |-num_layers: 3</span>"
      ],
      "text/plain": [
       "<IPython.core.display.HTML object>"
      ]
     },
     "metadata": {},
     "output_type": "display_data"
    },
    {
     "data": {
      "text/html": [
       "<span style=\"color:blue\"> |-tuner/bracket: 2</span>"
      ],
      "text/plain": [
       "<IPython.core.display.HTML object>"
      ]
     },
     "metadata": {},
     "output_type": "display_data"
    },
    {
     "data": {
      "text/html": [
       "<span style=\"color:cyan\"> |-tuner/epochs: 3</span>"
      ],
      "text/plain": [
       "<IPython.core.display.HTML object>"
      ]
     },
     "metadata": {},
     "output_type": "display_data"
    },
    {
     "data": {
      "text/html": [
       "<span style=\"color:blue\"> |-tuner/initial_epoch: 0</span>"
      ],
      "text/plain": [
       "<IPython.core.display.HTML object>"
      ]
     },
     "metadata": {},
     "output_type": "display_data"
    },
    {
     "data": {
      "text/html": [
       "<span style=\"color:cyan\"> |-tuner/round: 0</span>"
      ],
      "text/plain": [
       "<IPython.core.display.HTML object>"
      ]
     },
     "metadata": {},
     "output_type": "display_data"
    },
    {
     "data": {
      "text/html": [
       "<span style=\"color:blue\"> |-units_0: 26</span>"
      ],
      "text/plain": [
       "<IPython.core.display.HTML object>"
      ]
     },
     "metadata": {},
     "output_type": "display_data"
    },
    {
     "data": {
      "text/html": [
       "<span style=\"color:cyan\"> |-units_1: 26</span>"
      ],
      "text/plain": [
       "<IPython.core.display.HTML object>"
      ]
     },
     "metadata": {},
     "output_type": "display_data"
    },
    {
     "data": {
      "text/html": [
       "<span style=\"color:blue\"> |-units_2: 21</span>"
      ],
      "text/plain": [
       "<IPython.core.display.HTML object>"
      ]
     },
     "metadata": {},
     "output_type": "display_data"
    },
    {
     "data": {
      "text/html": [
       "<span style=\"color:cyan\"> |-units_3: 6</span>"
      ],
      "text/plain": [
       "<IPython.core.display.HTML object>"
      ]
     },
     "metadata": {},
     "output_type": "display_data"
    },
    {
     "data": {
      "text/html": [
       "<span style=\"color:blue\"> |-units_4: 11</span>"
      ],
      "text/plain": [
       "<IPython.core.display.HTML object>"
      ]
     },
     "metadata": {},
     "output_type": "display_data"
    },
    {
     "name": "stdout",
     "output_type": "stream",
     "text": [
      "Train on 750 samples, validate on 250 samples\n",
      "Epoch 4/7\n",
      "750/750 [==============================] - ETA: 17s - loss: 0.6925 - accuracy: 0.531 - ETA: 0s - loss: 0.6921 - accuracy: 0.529 - 1s 1ms/sample - loss: 0.6921 - accuracy: 0.5307 - val_loss: 0.6960 - val_accuracy: 0.4080\n",
      "Epoch 5/7\n",
      "750/750 [==============================] - ETA: 0s - loss: 0.6860 - accuracy: 0.68 - 0s 132us/sample - loss: 0.6901 - accuracy: 0.5307 - val_loss: 0.6994 - val_accuracy: 0.4080\n",
      "Epoch 6/7\n",
      "750/750 [==============================] - ETA: 0s - loss: 0.6807 - accuracy: 0.65 - 0s 126us/sample - loss: 0.6881 - accuracy: 0.5307 - val_loss: 0.7021 - val_accuracy: 0.4080\n",
      "Epoch 7/7\n",
      "750/750 [==============================] - ETA: 0s - loss: 0.6858 - accuracy: 0.59 - 0s 126us/sample - loss: 0.6860 - accuracy: 0.5307 - val_loss: 0.7046 - val_accuracy: 0.4080\n"
     ]
    },
    {
     "data": {
      "text/html": [
       "<span style=\"color:#4527A0\"><h1 style=\"font-size:18px\">Trial complete</h1></span>"
      ],
      "text/plain": [
       "<IPython.core.display.HTML object>"
      ]
     },
     "metadata": {},
     "output_type": "display_data"
    },
    {
     "data": {
      "text/html": [
       "<span style=\"color:#4527A0\"><h1 style=\"font-size:18px\">Trial summary</h1></span>"
      ],
      "text/plain": [
       "<IPython.core.display.HTML object>"
      ]
     },
     "metadata": {},
     "output_type": "display_data"
    },
    {
     "data": {
      "text/html": [
       "<span style=\"color:cyan\"> |-Trial ID: 3e233ab46e6e8547fa1e6044ba930054</span>"
      ],
      "text/plain": [
       "<IPython.core.display.HTML object>"
      ]
     },
     "metadata": {},
     "output_type": "display_data"
    },
    {
     "data": {
      "text/html": [
       "<span style=\"color:cyan\"> |-Score: 0.40799999237060547</span>"
      ],
      "text/plain": [
       "<IPython.core.display.HTML object>"
      ]
     },
     "metadata": {},
     "output_type": "display_data"
    },
    {
     "data": {
      "text/html": [
       "<span style=\"color:cyan\"> |-Best step: 0</span>"
      ],
      "text/plain": [
       "<IPython.core.display.HTML object>"
      ]
     },
     "metadata": {},
     "output_type": "display_data"
    },
    {
     "data": {
      "text/html": [
       "<span style=\"color:#7E57C2\"><h2 style=\"font-size:16px\">Hyperparameters:</h2></span>"
      ],
      "text/plain": [
       "<IPython.core.display.HTML object>"
      ]
     },
     "metadata": {},
     "output_type": "display_data"
    },
    {
     "data": {
      "text/html": [
       "<span style=\"color:cyan\"> |-activation: relu</span>"
      ],
      "text/plain": [
       "<IPython.core.display.HTML object>"
      ]
     },
     "metadata": {},
     "output_type": "display_data"
    },
    {
     "data": {
      "text/html": [
       "<span style=\"color:blue\"> |-first_units: 21</span>"
      ],
      "text/plain": [
       "<IPython.core.display.HTML object>"
      ]
     },
     "metadata": {},
     "output_type": "display_data"
    },
    {
     "data": {
      "text/html": [
       "<span style=\"color:cyan\"> |-num_layers: 3</span>"
      ],
      "text/plain": [
       "<IPython.core.display.HTML object>"
      ]
     },
     "metadata": {},
     "output_type": "display_data"
    },
    {
     "data": {
      "text/html": [
       "<span style=\"color:blue\"> |-tuner/bracket: 2</span>"
      ],
      "text/plain": [
       "<IPython.core.display.HTML object>"
      ]
     },
     "metadata": {},
     "output_type": "display_data"
    },
    {
     "data": {
      "text/html": [
       "<span style=\"color:cyan\"> |-tuner/epochs: 7</span>"
      ],
      "text/plain": [
       "<IPython.core.display.HTML object>"
      ]
     },
     "metadata": {},
     "output_type": "display_data"
    },
    {
     "data": {
      "text/html": [
       "<span style=\"color:blue\"> |-tuner/initial_epoch: 3</span>"
      ],
      "text/plain": [
       "<IPython.core.display.HTML object>"
      ]
     },
     "metadata": {},
     "output_type": "display_data"
    },
    {
     "data": {
      "text/html": [
       "<span style=\"color:cyan\"> |-tuner/round: 1</span>"
      ],
      "text/plain": [
       "<IPython.core.display.HTML object>"
      ]
     },
     "metadata": {},
     "output_type": "display_data"
    },
    {
     "data": {
      "text/html": [
       "<span style=\"color:blue\"> |-tuner/trial_id: fcb8877e9bc4528dfda31e4333bc244f</span>"
      ],
      "text/plain": [
       "<IPython.core.display.HTML object>"
      ]
     },
     "metadata": {},
     "output_type": "display_data"
    },
    {
     "data": {
      "text/html": [
       "<span style=\"color:cyan\"> |-units_0: 11</span>"
      ],
      "text/plain": [
       "<IPython.core.display.HTML object>"
      ]
     },
     "metadata": {},
     "output_type": "display_data"
    },
    {
     "data": {
      "text/html": [
       "<span style=\"color:blue\"> |-units_1: 11</span>"
      ],
      "text/plain": [
       "<IPython.core.display.HTML object>"
      ]
     },
     "metadata": {},
     "output_type": "display_data"
    },
    {
     "data": {
      "text/html": [
       "<span style=\"color:cyan\"> |-units_2: 1</span>"
      ],
      "text/plain": [
       "<IPython.core.display.HTML object>"
      ]
     },
     "metadata": {},
     "output_type": "display_data"
    },
    {
     "data": {
      "text/html": [
       "<span style=\"color:blue\"> |-units_3: 26</span>"
      ],
      "text/plain": [
       "<IPython.core.display.HTML object>"
      ]
     },
     "metadata": {},
     "output_type": "display_data"
    },
    {
     "data": {
      "text/html": [
       "<span style=\"color:cyan\"> |-units_4: 26</span>"
      ],
      "text/plain": [
       "<IPython.core.display.HTML object>"
      ]
     },
     "metadata": {},
     "output_type": "display_data"
    },
    {
     "name": "stdout",
     "output_type": "stream",
     "text": [
      "Train on 750 samples, validate on 250 samples\n",
      "Epoch 4/7\n",
      "750/750 [==============================] - ETA: 17s - loss: 0.6923 - accuracy: 0.562 - 1s 1ms/sample - loss: 0.6930 - accuracy: 0.5053 - val_loss: 0.6971 - val_accuracy: 0.4360\n",
      "Epoch 5/7\n",
      "750/750 [==============================] - ETA: 0s - loss: 0.6915 - accuracy: 0.53 - 0s 123us/sample - loss: 0.6919 - accuracy: 0.5173 - val_loss: 0.6994 - val_accuracy: 0.4280\n",
      "Epoch 6/7\n",
      "750/750 [==============================] - ETA: 0s - loss: 0.6916 - accuracy: 0.53 - 0s 111us/sample - loss: 0.6914 - accuracy: 0.4987 - val_loss: 0.7022 - val_accuracy: 0.4040\n",
      "Epoch 7/7\n",
      "750/750 [==============================] - ETA: 0s - loss: 0.6847 - accuracy: 0.53 - 0s 116us/sample - loss: 0.6910 - accuracy: 0.4840 - val_loss: 0.7050 - val_accuracy: 0.4000\n"
     ]
    },
    {
     "data": {
      "text/html": [
       "<span style=\"color:#4527A0\"><h1 style=\"font-size:18px\">Trial complete</h1></span>"
      ],
      "text/plain": [
       "<IPython.core.display.HTML object>"
      ]
     },
     "metadata": {},
     "output_type": "display_data"
    },
    {
     "data": {
      "text/html": [
       "<span style=\"color:#4527A0\"><h1 style=\"font-size:18px\">Trial summary</h1></span>"
      ],
      "text/plain": [
       "<IPython.core.display.HTML object>"
      ]
     },
     "metadata": {},
     "output_type": "display_data"
    },
    {
     "data": {
      "text/html": [
       "<span style=\"color:cyan\"> |-Trial ID: 0cc82775c0a58af83f7a89b40821cdb6</span>"
      ],
      "text/plain": [
       "<IPython.core.display.HTML object>"
      ]
     },
     "metadata": {},
     "output_type": "display_data"
    },
    {
     "data": {
      "text/html": [
       "<span style=\"color:cyan\"> |-Score: 0.4359999895095825</span>"
      ],
      "text/plain": [
       "<IPython.core.display.HTML object>"
      ]
     },
     "metadata": {},
     "output_type": "display_data"
    },
    {
     "data": {
      "text/html": [
       "<span style=\"color:cyan\"> |-Best step: 0</span>"
      ],
      "text/plain": [
       "<IPython.core.display.HTML object>"
      ]
     },
     "metadata": {},
     "output_type": "display_data"
    },
    {
     "data": {
      "text/html": [
       "<span style=\"color:#7E57C2\"><h2 style=\"font-size:16px\">Hyperparameters:</h2></span>"
      ],
      "text/plain": [
       "<IPython.core.display.HTML object>"
      ]
     },
     "metadata": {},
     "output_type": "display_data"
    },
    {
     "data": {
      "text/html": [
       "<span style=\"color:cyan\"> |-activation: tanh</span>"
      ],
      "text/plain": [
       "<IPython.core.display.HTML object>"
      ]
     },
     "metadata": {},
     "output_type": "display_data"
    },
    {
     "data": {
      "text/html": [
       "<span style=\"color:blue\"> |-first_units: 6</span>"
      ],
      "text/plain": [
       "<IPython.core.display.HTML object>"
      ]
     },
     "metadata": {},
     "output_type": "display_data"
    },
    {
     "data": {
      "text/html": [
       "<span style=\"color:cyan\"> |-num_layers: 2</span>"
      ],
      "text/plain": [
       "<IPython.core.display.HTML object>"
      ]
     },
     "metadata": {},
     "output_type": "display_data"
    },
    {
     "data": {
      "text/html": [
       "<span style=\"color:blue\"> |-tuner/bracket: 2</span>"
      ],
      "text/plain": [
       "<IPython.core.display.HTML object>"
      ]
     },
     "metadata": {},
     "output_type": "display_data"
    },
    {
     "data": {
      "text/html": [
       "<span style=\"color:cyan\"> |-tuner/epochs: 7</span>"
      ],
      "text/plain": [
       "<IPython.core.display.HTML object>"
      ]
     },
     "metadata": {},
     "output_type": "display_data"
    },
    {
     "data": {
      "text/html": [
       "<span style=\"color:blue\"> |-tuner/initial_epoch: 3</span>"
      ],
      "text/plain": [
       "<IPython.core.display.HTML object>"
      ]
     },
     "metadata": {},
     "output_type": "display_data"
    },
    {
     "data": {
      "text/html": [
       "<span style=\"color:cyan\"> |-tuner/round: 1</span>"
      ],
      "text/plain": [
       "<IPython.core.display.HTML object>"
      ]
     },
     "metadata": {},
     "output_type": "display_data"
    },
    {
     "data": {
      "text/html": [
       "<span style=\"color:blue\"> |-tuner/trial_id: 953932551d38df00e7633694d0db9c27</span>"
      ],
      "text/plain": [
       "<IPython.core.display.HTML object>"
      ]
     },
     "metadata": {},
     "output_type": "display_data"
    },
    {
     "data": {
      "text/html": [
       "<span style=\"color:cyan\"> |-units_0: 1</span>"
      ],
      "text/plain": [
       "<IPython.core.display.HTML object>"
      ]
     },
     "metadata": {},
     "output_type": "display_data"
    },
    {
     "data": {
      "text/html": [
       "<span style=\"color:blue\"> |-units_1: 11</span>"
      ],
      "text/plain": [
       "<IPython.core.display.HTML object>"
      ]
     },
     "metadata": {},
     "output_type": "display_data"
    },
    {
     "data": {
      "text/html": [
       "<span style=\"color:cyan\"> |-units_2: 26</span>"
      ],
      "text/plain": [
       "<IPython.core.display.HTML object>"
      ]
     },
     "metadata": {},
     "output_type": "display_data"
    },
    {
     "data": {
      "text/html": [
       "<span style=\"color:blue\"> |-units_3: 11</span>"
      ],
      "text/plain": [
       "<IPython.core.display.HTML object>"
      ]
     },
     "metadata": {},
     "output_type": "display_data"
    },
    {
     "data": {
      "text/html": [
       "<span style=\"color:cyan\"> |-units_4: 6</span>"
      ],
      "text/plain": [
       "<IPython.core.display.HTML object>"
      ]
     },
     "metadata": {},
     "output_type": "display_data"
    },
    {
     "name": "stdout",
     "output_type": "stream",
     "text": [
      "Train on 750 samples, validate on 250 samples\n",
      "Epoch 4/7\n",
      "750/750 [==============================] - ETA: 13s - loss: 0.9105 - accuracy: 0.375 - 1s 1ms/sample - loss: 0.7696 - accuracy: 0.4800 - val_loss: 0.7029 - val_accuracy: 0.5360\n",
      "Epoch 5/7\n",
      "750/750 [==============================] - ETA: 0s - loss: 0.6919 - accuracy: 0.56 - 0s 131us/sample - loss: 0.7233 - accuracy: 0.4840 - val_loss: 0.6941 - val_accuracy: 0.5280\n",
      "Epoch 6/7\n",
      "750/750 [==============================] - ETA: 0s - loss: 0.6738 - accuracy: 0.53 - 0s 129us/sample - loss: 0.7015 - accuracy: 0.4867 - val_loss: 0.6941 - val_accuracy: 0.5240\n",
      "Epoch 7/7\n",
      "750/750 [==============================] - ETA: 0s - loss: 0.6808 - accuracy: 0.62 - 0s 131us/sample - loss: 0.6937 - accuracy: 0.4933 - val_loss: 0.6973 - val_accuracy: 0.4560\n"
     ]
    },
    {
     "data": {
      "text/html": [
       "<span style=\"color:#4527A0\"><h1 style=\"font-size:18px\">Trial complete</h1></span>"
      ],
      "text/plain": [
       "<IPython.core.display.HTML object>"
      ]
     },
     "metadata": {},
     "output_type": "display_data"
    },
    {
     "data": {
      "text/html": [
       "<span style=\"color:#4527A0\"><h1 style=\"font-size:18px\">Trial summary</h1></span>"
      ],
      "text/plain": [
       "<IPython.core.display.HTML object>"
      ]
     },
     "metadata": {},
     "output_type": "display_data"
    },
    {
     "data": {
      "text/html": [
       "<span style=\"color:cyan\"> |-Trial ID: e17933f2082845827f487c7c35b20575</span>"
      ],
      "text/plain": [
       "<IPython.core.display.HTML object>"
      ]
     },
     "metadata": {},
     "output_type": "display_data"
    },
    {
     "data": {
      "text/html": [
       "<span style=\"color:cyan\"> |-Score: 0.5360000133514404</span>"
      ],
      "text/plain": [
       "<IPython.core.display.HTML object>"
      ]
     },
     "metadata": {},
     "output_type": "display_data"
    },
    {
     "data": {
      "text/html": [
       "<span style=\"color:cyan\"> |-Best step: 0</span>"
      ],
      "text/plain": [
       "<IPython.core.display.HTML object>"
      ]
     },
     "metadata": {},
     "output_type": "display_data"
    },
    {
     "data": {
      "text/html": [
       "<span style=\"color:#7E57C2\"><h2 style=\"font-size:16px\">Hyperparameters:</h2></span>"
      ],
      "text/plain": [
       "<IPython.core.display.HTML object>"
      ]
     },
     "metadata": {},
     "output_type": "display_data"
    },
    {
     "data": {
      "text/html": [
       "<span style=\"color:cyan\"> |-activation: tanh</span>"
      ],
      "text/plain": [
       "<IPython.core.display.HTML object>"
      ]
     },
     "metadata": {},
     "output_type": "display_data"
    },
    {
     "data": {
      "text/html": [
       "<span style=\"color:blue\"> |-first_units: 21</span>"
      ],
      "text/plain": [
       "<IPython.core.display.HTML object>"
      ]
     },
     "metadata": {},
     "output_type": "display_data"
    },
    {
     "data": {
      "text/html": [
       "<span style=\"color:cyan\"> |-num_layers: 1</span>"
      ],
      "text/plain": [
       "<IPython.core.display.HTML object>"
      ]
     },
     "metadata": {},
     "output_type": "display_data"
    },
    {
     "data": {
      "text/html": [
       "<span style=\"color:blue\"> |-tuner/bracket: 2</span>"
      ],
      "text/plain": [
       "<IPython.core.display.HTML object>"
      ]
     },
     "metadata": {},
     "output_type": "display_data"
    },
    {
     "data": {
      "text/html": [
       "<span style=\"color:cyan\"> |-tuner/epochs: 7</span>"
      ],
      "text/plain": [
       "<IPython.core.display.HTML object>"
      ]
     },
     "metadata": {},
     "output_type": "display_data"
    },
    {
     "data": {
      "text/html": [
       "<span style=\"color:blue\"> |-tuner/initial_epoch: 3</span>"
      ],
      "text/plain": [
       "<IPython.core.display.HTML object>"
      ]
     },
     "metadata": {},
     "output_type": "display_data"
    },
    {
     "data": {
      "text/html": [
       "<span style=\"color:cyan\"> |-tuner/round: 1</span>"
      ],
      "text/plain": [
       "<IPython.core.display.HTML object>"
      ]
     },
     "metadata": {},
     "output_type": "display_data"
    },
    {
     "data": {
      "text/html": [
       "<span style=\"color:blue\"> |-tuner/trial_id: c024a5732dff26ca4c459748824f10fe</span>"
      ],
      "text/plain": [
       "<IPython.core.display.HTML object>"
      ]
     },
     "metadata": {},
     "output_type": "display_data"
    },
    {
     "data": {
      "text/html": [
       "<span style=\"color:cyan\"> |-units_0: 6</span>"
      ],
      "text/plain": [
       "<IPython.core.display.HTML object>"
      ]
     },
     "metadata": {},
     "output_type": "display_data"
    },
    {
     "data": {
      "text/html": [
       "<span style=\"color:blue\"> |-units_1: 21</span>"
      ],
      "text/plain": [
       "<IPython.core.display.HTML object>"
      ]
     },
     "metadata": {},
     "output_type": "display_data"
    },
    {
     "data": {
      "text/html": [
       "<span style=\"color:cyan\"> |-units_2: 21</span>"
      ],
      "text/plain": [
       "<IPython.core.display.HTML object>"
      ]
     },
     "metadata": {},
     "output_type": "display_data"
    },
    {
     "data": {
      "text/html": [
       "<span style=\"color:blue\"> |-units_3: 16</span>"
      ],
      "text/plain": [
       "<IPython.core.display.HTML object>"
      ]
     },
     "metadata": {},
     "output_type": "display_data"
    },
    {
     "data": {
      "text/html": [
       "<span style=\"color:cyan\"> |-units_4: 26</span>"
      ],
      "text/plain": [
       "<IPython.core.display.HTML object>"
      ]
     },
     "metadata": {},
     "output_type": "display_data"
    },
    {
     "name": "stdout",
     "output_type": "stream",
     "text": [
      "Train on 750 samples, validate on 250 samples\n",
      "Epoch 4/7\n",
      "750/750 [==============================] - ETA: 15s - loss: 0.6816 - accuracy: 0.562 - 1s 1ms/sample - loss: 0.6985 - accuracy: 0.4747 - val_loss: 0.7081 - val_accuracy: 0.4360\n",
      "Epoch 5/7\n",
      "750/750 [==============================] - ETA: 0s - loss: 0.6903 - accuracy: 0.46 - 0s 132us/sample - loss: 0.6935 - accuracy: 0.4707 - val_loss: 0.7046 - val_accuracy: 0.4240\n",
      "Epoch 6/7\n",
      "750/750 [==============================] - ETA: 0s - loss: 0.7050 - accuracy: 0.46 - 0s 140us/sample - loss: 0.6911 - accuracy: 0.5080 - val_loss: 0.7043 - val_accuracy: 0.4360\n",
      "Epoch 7/7\n",
      "750/750 [==============================] - ETA: 0s - loss: 0.7017 - accuracy: 0.46 - 0s 133us/sample - loss: 0.6904 - accuracy: 0.5320 - val_loss: 0.7039 - val_accuracy: 0.4360\n"
     ]
    },
    {
     "data": {
      "text/html": [
       "<span style=\"color:#4527A0\"><h1 style=\"font-size:18px\">Trial complete</h1></span>"
      ],
      "text/plain": [
       "<IPython.core.display.HTML object>"
      ]
     },
     "metadata": {},
     "output_type": "display_data"
    },
    {
     "data": {
      "text/html": [
       "<span style=\"color:#4527A0\"><h1 style=\"font-size:18px\">Trial summary</h1></span>"
      ],
      "text/plain": [
       "<IPython.core.display.HTML object>"
      ]
     },
     "metadata": {},
     "output_type": "display_data"
    },
    {
     "data": {
      "text/html": [
       "<span style=\"color:cyan\"> |-Trial ID: 79a1473349bb270bbfe0543ecf342f37</span>"
      ],
      "text/plain": [
       "<IPython.core.display.HTML object>"
      ]
     },
     "metadata": {},
     "output_type": "display_data"
    },
    {
     "data": {
      "text/html": [
       "<span style=\"color:cyan\"> |-Score: 0.4359999895095825</span>"
      ],
      "text/plain": [
       "<IPython.core.display.HTML object>"
      ]
     },
     "metadata": {},
     "output_type": "display_data"
    },
    {
     "data": {
      "text/html": [
       "<span style=\"color:cyan\"> |-Best step: 0</span>"
      ],
      "text/plain": [
       "<IPython.core.display.HTML object>"
      ]
     },
     "metadata": {},
     "output_type": "display_data"
    },
    {
     "data": {
      "text/html": [
       "<span style=\"color:#7E57C2\"><h2 style=\"font-size:16px\">Hyperparameters:</h2></span>"
      ],
      "text/plain": [
       "<IPython.core.display.HTML object>"
      ]
     },
     "metadata": {},
     "output_type": "display_data"
    },
    {
     "data": {
      "text/html": [
       "<span style=\"color:cyan\"> |-activation: tanh</span>"
      ],
      "text/plain": [
       "<IPython.core.display.HTML object>"
      ]
     },
     "metadata": {},
     "output_type": "display_data"
    },
    {
     "data": {
      "text/html": [
       "<span style=\"color:blue\"> |-first_units: 21</span>"
      ],
      "text/plain": [
       "<IPython.core.display.HTML object>"
      ]
     },
     "metadata": {},
     "output_type": "display_data"
    },
    {
     "data": {
      "text/html": [
       "<span style=\"color:cyan\"> |-num_layers: 2</span>"
      ],
      "text/plain": [
       "<IPython.core.display.HTML object>"
      ]
     },
     "metadata": {},
     "output_type": "display_data"
    },
    {
     "data": {
      "text/html": [
       "<span style=\"color:blue\"> |-tuner/bracket: 2</span>"
      ],
      "text/plain": [
       "<IPython.core.display.HTML object>"
      ]
     },
     "metadata": {},
     "output_type": "display_data"
    },
    {
     "data": {
      "text/html": [
       "<span style=\"color:cyan\"> |-tuner/epochs: 7</span>"
      ],
      "text/plain": [
       "<IPython.core.display.HTML object>"
      ]
     },
     "metadata": {},
     "output_type": "display_data"
    },
    {
     "data": {
      "text/html": [
       "<span style=\"color:blue\"> |-tuner/initial_epoch: 3</span>"
      ],
      "text/plain": [
       "<IPython.core.display.HTML object>"
      ]
     },
     "metadata": {},
     "output_type": "display_data"
    },
    {
     "data": {
      "text/html": [
       "<span style=\"color:cyan\"> |-tuner/round: 1</span>"
      ],
      "text/plain": [
       "<IPython.core.display.HTML object>"
      ]
     },
     "metadata": {},
     "output_type": "display_data"
    },
    {
     "data": {
      "text/html": [
       "<span style=\"color:blue\"> |-tuner/trial_id: 36c0016d18a3ab8749c9696dde809f06</span>"
      ],
      "text/plain": [
       "<IPython.core.display.HTML object>"
      ]
     },
     "metadata": {},
     "output_type": "display_data"
    },
    {
     "data": {
      "text/html": [
       "<span style=\"color:cyan\"> |-units_0: 26</span>"
      ],
      "text/plain": [
       "<IPython.core.display.HTML object>"
      ]
     },
     "metadata": {},
     "output_type": "display_data"
    },
    {
     "data": {
      "text/html": [
       "<span style=\"color:blue\"> |-units_1: 6</span>"
      ],
      "text/plain": [
       "<IPython.core.display.HTML object>"
      ]
     },
     "metadata": {},
     "output_type": "display_data"
    },
    {
     "data": {
      "text/html": [
       "<span style=\"color:cyan\"> |-units_2: 26</span>"
      ],
      "text/plain": [
       "<IPython.core.display.HTML object>"
      ]
     },
     "metadata": {},
     "output_type": "display_data"
    },
    {
     "data": {
      "text/html": [
       "<span style=\"color:blue\"> |-units_3: 1</span>"
      ],
      "text/plain": [
       "<IPython.core.display.HTML object>"
      ]
     },
     "metadata": {},
     "output_type": "display_data"
    },
    {
     "data": {
      "text/html": [
       "<span style=\"color:cyan\"> |-units_4: 16</span>"
      ],
      "text/plain": [
       "<IPython.core.display.HTML object>"
      ]
     },
     "metadata": {},
     "output_type": "display_data"
    },
    {
     "name": "stdout",
     "output_type": "stream",
     "text": [
      "Train on 750 samples, validate on 250 samples\n",
      "Epoch 8/20\n",
      "750/750 [==============================] - ETA: 15s - loss: 0.6907 - accuracy: 0.468 - 1s 1ms/sample - loss: 0.6946 - accuracy: 0.4987 - val_loss: 0.6989 - val_accuracy: 0.4520\n",
      "Epoch 9/20\n",
      "750/750 [==============================] - ETA: 0s - loss: 0.6861 - accuracy: 0.59 - 0s 110us/sample - loss: 0.6924 - accuracy: 0.5107 - val_loss: 0.7023 - val_accuracy: 0.4440\n",
      "Epoch 10/20\n",
      "750/750 [==============================] - ETA: 0s - loss: 0.6826 - accuracy: 0.62 - 0s 112us/sample - loss: 0.6921 - accuracy: 0.5267 - val_loss: 0.7040 - val_accuracy: 0.4280\n",
      "Epoch 11/20\n",
      "750/750 [==============================] - ETA: 0s - loss: 0.6990 - accuracy: 0.46 - ETA: 0s - loss: 0.6908 - accuracy: 0.52 - 0s 173us/sample - loss: 0.6917 - accuracy: 0.5173 - val_loss: 0.7031 - val_accuracy: 0.4280\n",
      "Epoch 12/20\n",
      "750/750 [==============================] - ETA: 0s - loss: 0.6857 - accuracy: 0.53 - 0s 134us/sample - loss: 0.6915 - accuracy: 0.5253 - val_loss: 0.7003 - val_accuracy: 0.4200\n",
      "Epoch 13/20\n",
      "750/750 [==============================] - ETA: 0s - loss: 0.6928 - accuracy: 0.40 - ETA: 0s - loss: 0.6915 - accuracy: 0.52 - 0s 167us/sample - loss: 0.6912 - accuracy: 0.5280 - val_loss: 0.7030 - val_accuracy: 0.4360\n",
      "Epoch 14/20\n",
      "750/750 [==============================] - ETA: 0s - loss: 0.6830 - accuracy: 0.62 - 0s 137us/sample - loss: 0.6909 - accuracy: 0.5173 - val_loss: 0.7041 - val_accuracy: 0.4320\n",
      "Epoch 15/20\n",
      "750/750 [==============================] - ETA: 0s - loss: 0.6872 - accuracy: 0.53 - ETA: 0s - loss: 0.6915 - accuracy: 0.50 - 0s 168us/sample - loss: 0.6907 - accuracy: 0.5200 - val_loss: 0.7029 - val_accuracy: 0.4240\n",
      "Epoch 16/20\n",
      "750/750 [==============================] - ETA: 0s - loss: 0.6794 - accuracy: 0.62 - 0s 119us/sample - loss: 0.6909 - accuracy: 0.5280 - val_loss: 0.7055 - val_accuracy: 0.4160\n",
      "Epoch 17/20\n",
      "750/750 [==============================] - ETA: 0s - loss: 0.7071 - accuracy: 0.40 - 0s 118us/sample - loss: 0.6903 - accuracy: 0.5213 - val_loss: 0.7030 - val_accuracy: 0.4360\n",
      "Epoch 18/20\n",
      "750/750 [==============================] - ETA: 0s - loss: 0.6938 - accuracy: 0.43 - 0s 111us/sample - loss: 0.6899 - accuracy: 0.5320 - val_loss: 0.7013 - val_accuracy: 0.4440\n",
      "Epoch 19/20\n",
      "750/750 [==============================] - ETA: 0s - loss: 0.6789 - accuracy: 0.78 - 0s 109us/sample - loss: 0.6897 - accuracy: 0.5293 - val_loss: 0.7030 - val_accuracy: 0.4440\n",
      "Epoch 20/20\n",
      "750/750 [==============================] - ETA: 0s - loss: 0.6959 - accuracy: 0.43 - 0s 119us/sample - loss: 0.6897 - accuracy: 0.5507 - val_loss: 0.7028 - val_accuracy: 0.4480\n"
     ]
    },
    {
     "data": {
      "text/html": [
       "<span style=\"color:#4527A0\"><h1 style=\"font-size:18px\">Trial complete</h1></span>"
      ],
      "text/plain": [
       "<IPython.core.display.HTML object>"
      ]
     },
     "metadata": {},
     "output_type": "display_data"
    },
    {
     "data": {
      "text/html": [
       "<span style=\"color:#4527A0\"><h1 style=\"font-size:18px\">Trial summary</h1></span>"
      ],
      "text/plain": [
       "<IPython.core.display.HTML object>"
      ]
     },
     "metadata": {},
     "output_type": "display_data"
    },
    {
     "data": {
      "text/html": [
       "<span style=\"color:cyan\"> |-Trial ID: 64f97d1b018a3d66cabe59453361023a</span>"
      ],
      "text/plain": [
       "<IPython.core.display.HTML object>"
      ]
     },
     "metadata": {},
     "output_type": "display_data"
    },
    {
     "data": {
      "text/html": [
       "<span style=\"color:cyan\"> |-Score: 0.4519999921321869</span>"
      ],
      "text/plain": [
       "<IPython.core.display.HTML object>"
      ]
     },
     "metadata": {},
     "output_type": "display_data"
    },
    {
     "data": {
      "text/html": [
       "<span style=\"color:cyan\"> |-Best step: 0</span>"
      ],
      "text/plain": [
       "<IPython.core.display.HTML object>"
      ]
     },
     "metadata": {},
     "output_type": "display_data"
    },
    {
     "data": {
      "text/html": [
       "<span style=\"color:#7E57C2\"><h2 style=\"font-size:16px\">Hyperparameters:</h2></span>"
      ],
      "text/plain": [
       "<IPython.core.display.HTML object>"
      ]
     },
     "metadata": {},
     "output_type": "display_data"
    },
    {
     "data": {
      "text/html": [
       "<span style=\"color:cyan\"> |-activation: tanh</span>"
      ],
      "text/plain": [
       "<IPython.core.display.HTML object>"
      ]
     },
     "metadata": {},
     "output_type": "display_data"
    },
    {
     "data": {
      "text/html": [
       "<span style=\"color:blue\"> |-first_units: 21</span>"
      ],
      "text/plain": [
       "<IPython.core.display.HTML object>"
      ]
     },
     "metadata": {},
     "output_type": "display_data"
    },
    {
     "data": {
      "text/html": [
       "<span style=\"color:cyan\"> |-num_layers: 1</span>"
      ],
      "text/plain": [
       "<IPython.core.display.HTML object>"
      ]
     },
     "metadata": {},
     "output_type": "display_data"
    },
    {
     "data": {
      "text/html": [
       "<span style=\"color:blue\"> |-tuner/bracket: 2</span>"
      ],
      "text/plain": [
       "<IPython.core.display.HTML object>"
      ]
     },
     "metadata": {},
     "output_type": "display_data"
    },
    {
     "data": {
      "text/html": [
       "<span style=\"color:cyan\"> |-tuner/epochs: 20</span>"
      ],
      "text/plain": [
       "<IPython.core.display.HTML object>"
      ]
     },
     "metadata": {},
     "output_type": "display_data"
    },
    {
     "data": {
      "text/html": [
       "<span style=\"color:blue\"> |-tuner/initial_epoch: 7</span>"
      ],
      "text/plain": [
       "<IPython.core.display.HTML object>"
      ]
     },
     "metadata": {},
     "output_type": "display_data"
    },
    {
     "data": {
      "text/html": [
       "<span style=\"color:cyan\"> |-tuner/round: 2</span>"
      ],
      "text/plain": [
       "<IPython.core.display.HTML object>"
      ]
     },
     "metadata": {},
     "output_type": "display_data"
    },
    {
     "data": {
      "text/html": [
       "<span style=\"color:blue\"> |-tuner/trial_id: e17933f2082845827f487c7c35b20575</span>"
      ],
      "text/plain": [
       "<IPython.core.display.HTML object>"
      ]
     },
     "metadata": {},
     "output_type": "display_data"
    },
    {
     "data": {
      "text/html": [
       "<span style=\"color:cyan\"> |-units_0: 6</span>"
      ],
      "text/plain": [
       "<IPython.core.display.HTML object>"
      ]
     },
     "metadata": {},
     "output_type": "display_data"
    },
    {
     "data": {
      "text/html": [
       "<span style=\"color:blue\"> |-units_1: 21</span>"
      ],
      "text/plain": [
       "<IPython.core.display.HTML object>"
      ]
     },
     "metadata": {},
     "output_type": "display_data"
    },
    {
     "data": {
      "text/html": [
       "<span style=\"color:cyan\"> |-units_2: 21</span>"
      ],
      "text/plain": [
       "<IPython.core.display.HTML object>"
      ]
     },
     "metadata": {},
     "output_type": "display_data"
    },
    {
     "data": {
      "text/html": [
       "<span style=\"color:blue\"> |-units_3: 16</span>"
      ],
      "text/plain": [
       "<IPython.core.display.HTML object>"
      ]
     },
     "metadata": {},
     "output_type": "display_data"
    },
    {
     "data": {
      "text/html": [
       "<span style=\"color:cyan\"> |-units_4: 26</span>"
      ],
      "text/plain": [
       "<IPython.core.display.HTML object>"
      ]
     },
     "metadata": {},
     "output_type": "display_data"
    },
    {
     "name": "stdout",
     "output_type": "stream",
     "text": [
      "Train on 750 samples, validate on 250 samples\n",
      "Epoch 8/20\n",
      "750/750 [==============================] - ETA: 17s - loss: 0.7115 - accuracy: 0.468 - 1s 1ms/sample - loss: 0.6984 - accuracy: 0.5120 - val_loss: 0.7202 - val_accuracy: 0.4360\n",
      "Epoch 9/20\n",
      "750/750 [==============================] - ETA: 0s - loss: 0.6945 - accuracy: 0.53 - 0s 136us/sample - loss: 0.6951 - accuracy: 0.5173 - val_loss: 0.7133 - val_accuracy: 0.4320\n",
      "Epoch 10/20\n",
      "750/750 [==============================] - ETA: 0s - loss: 0.6832 - accuracy: 0.56 - 0s 122us/sample - loss: 0.6930 - accuracy: 0.5120 - val_loss: 0.7123 - val_accuracy: 0.4360\n",
      "Epoch 11/20\n",
      "750/750 [==============================] - ETA: 0s - loss: 0.6565 - accuracy: 0.62 - 0s 107us/sample - loss: 0.6924 - accuracy: 0.5027 - val_loss: 0.7121 - val_accuracy: 0.4200\n",
      "Epoch 12/20\n",
      "750/750 [==============================] - ETA: 0s - loss: 0.6991 - accuracy: 0.46 - 0s 119us/sample - loss: 0.6916 - accuracy: 0.5000 - val_loss: 0.7126 - val_accuracy: 0.3920\n",
      "Epoch 13/20\n",
      "750/750 [==============================] - ETA: 0s - loss: 0.7004 - accuracy: 0.43 - 0s 109us/sample - loss: 0.6912 - accuracy: 0.5080 - val_loss: 0.7096 - val_accuracy: 0.4160\n",
      "Epoch 14/20\n",
      "750/750 [==============================] - ETA: 0s - loss: 0.6967 - accuracy: 0.46 - 0s 106us/sample - loss: 0.6905 - accuracy: 0.5013 - val_loss: 0.7109 - val_accuracy: 0.3880\n",
      "Epoch 15/20\n",
      "750/750 [==============================] - ETA: 0s - loss: 0.6852 - accuracy: 0.65 - 0s 107us/sample - loss: 0.6903 - accuracy: 0.5027 - val_loss: 0.7102 - val_accuracy: 0.3880\n",
      "Epoch 16/20\n",
      "750/750 [==============================] - ETA: 0s - loss: 0.6742 - accuracy: 0.65 - 0s 105us/sample - loss: 0.6900 - accuracy: 0.5027 - val_loss: 0.7095 - val_accuracy: 0.3880\n",
      "Epoch 17/20\n",
      "750/750 [==============================] - ETA: 0s - loss: 0.7038 - accuracy: 0.43 - 0s 116us/sample - loss: 0.6897 - accuracy: 0.5093 - val_loss: 0.7091 - val_accuracy: 0.3840\n",
      "Epoch 18/20\n",
      "750/750 [==============================] - ETA: 0s - loss: 0.6920 - accuracy: 0.43 - 0s 115us/sample - loss: 0.6895 - accuracy: 0.5027 - val_loss: 0.7089 - val_accuracy: 0.3760\n",
      "Epoch 19/20\n",
      "750/750 [==============================] - ETA: 0s - loss: 0.6836 - accuracy: 0.56 - 0s 120us/sample - loss: 0.6892 - accuracy: 0.4853 - val_loss: 0.7091 - val_accuracy: 0.3600\n",
      "Epoch 20/20\n",
      "750/750 [==============================] - ETA: 0s - loss: 0.6996 - accuracy: 0.46 - 0s 123us/sample - loss: 0.6889 - accuracy: 0.4720 - val_loss: 0.7083 - val_accuracy: 0.3640\n"
     ]
    },
    {
     "data": {
      "text/html": [
       "<span style=\"color:#4527A0\"><h1 style=\"font-size:18px\">Trial complete</h1></span>"
      ],
      "text/plain": [
       "<IPython.core.display.HTML object>"
      ]
     },
     "metadata": {},
     "output_type": "display_data"
    },
    {
     "data": {
      "text/html": [
       "<span style=\"color:#4527A0\"><h1 style=\"font-size:18px\">Trial summary</h1></span>"
      ],
      "text/plain": [
       "<IPython.core.display.HTML object>"
      ]
     },
     "metadata": {},
     "output_type": "display_data"
    },
    {
     "data": {
      "text/html": [
       "<span style=\"color:cyan\"> |-Trial ID: e40c02cc6f7a38e8098c480829a4b686</span>"
      ],
      "text/plain": [
       "<IPython.core.display.HTML object>"
      ]
     },
     "metadata": {},
     "output_type": "display_data"
    },
    {
     "data": {
      "text/html": [
       "<span style=\"color:cyan\"> |-Score: 0.4359999895095825</span>"
      ],
      "text/plain": [
       "<IPython.core.display.HTML object>"
      ]
     },
     "metadata": {},
     "output_type": "display_data"
    },
    {
     "data": {
      "text/html": [
       "<span style=\"color:cyan\"> |-Best step: 0</span>"
      ],
      "text/plain": [
       "<IPython.core.display.HTML object>"
      ]
     },
     "metadata": {},
     "output_type": "display_data"
    },
    {
     "data": {
      "text/html": [
       "<span style=\"color:#7E57C2\"><h2 style=\"font-size:16px\">Hyperparameters:</h2></span>"
      ],
      "text/plain": [
       "<IPython.core.display.HTML object>"
      ]
     },
     "metadata": {},
     "output_type": "display_data"
    },
    {
     "data": {
      "text/html": [
       "<span style=\"color:cyan\"> |-activation: tanh</span>"
      ],
      "text/plain": [
       "<IPython.core.display.HTML object>"
      ]
     },
     "metadata": {},
     "output_type": "display_data"
    },
    {
     "data": {
      "text/html": [
       "<span style=\"color:blue\"> |-first_units: 6</span>"
      ],
      "text/plain": [
       "<IPython.core.display.HTML object>"
      ]
     },
     "metadata": {},
     "output_type": "display_data"
    },
    {
     "data": {
      "text/html": [
       "<span style=\"color:cyan\"> |-num_layers: 2</span>"
      ],
      "text/plain": [
       "<IPython.core.display.HTML object>"
      ]
     },
     "metadata": {},
     "output_type": "display_data"
    },
    {
     "data": {
      "text/html": [
       "<span style=\"color:blue\"> |-tuner/bracket: 2</span>"
      ],
      "text/plain": [
       "<IPython.core.display.HTML object>"
      ]
     },
     "metadata": {},
     "output_type": "display_data"
    },
    {
     "data": {
      "text/html": [
       "<span style=\"color:cyan\"> |-tuner/epochs: 20</span>"
      ],
      "text/plain": [
       "<IPython.core.display.HTML object>"
      ]
     },
     "metadata": {},
     "output_type": "display_data"
    },
    {
     "data": {
      "text/html": [
       "<span style=\"color:blue\"> |-tuner/initial_epoch: 7</span>"
      ],
      "text/plain": [
       "<IPython.core.display.HTML object>"
      ]
     },
     "metadata": {},
     "output_type": "display_data"
    },
    {
     "data": {
      "text/html": [
       "<span style=\"color:cyan\"> |-tuner/round: 2</span>"
      ],
      "text/plain": [
       "<IPython.core.display.HTML object>"
      ]
     },
     "metadata": {},
     "output_type": "display_data"
    },
    {
     "data": {
      "text/html": [
       "<span style=\"color:blue\"> |-tuner/trial_id: 0cc82775c0a58af83f7a89b40821cdb6</span>"
      ],
      "text/plain": [
       "<IPython.core.display.HTML object>"
      ]
     },
     "metadata": {},
     "output_type": "display_data"
    },
    {
     "data": {
      "text/html": [
       "<span style=\"color:cyan\"> |-units_0: 1</span>"
      ],
      "text/plain": [
       "<IPython.core.display.HTML object>"
      ]
     },
     "metadata": {},
     "output_type": "display_data"
    },
    {
     "data": {
      "text/html": [
       "<span style=\"color:blue\"> |-units_1: 11</span>"
      ],
      "text/plain": [
       "<IPython.core.display.HTML object>"
      ]
     },
     "metadata": {},
     "output_type": "display_data"
    },
    {
     "data": {
      "text/html": [
       "<span style=\"color:cyan\"> |-units_2: 26</span>"
      ],
      "text/plain": [
       "<IPython.core.display.HTML object>"
      ]
     },
     "metadata": {},
     "output_type": "display_data"
    },
    {
     "data": {
      "text/html": [
       "<span style=\"color:blue\"> |-units_3: 11</span>"
      ],
      "text/plain": [
       "<IPython.core.display.HTML object>"
      ]
     },
     "metadata": {},
     "output_type": "display_data"
    },
    {
     "data": {
      "text/html": [
       "<span style=\"color:cyan\"> |-units_4: 6</span>"
      ],
      "text/plain": [
       "<IPython.core.display.HTML object>"
      ]
     },
     "metadata": {},
     "output_type": "display_data"
    },
    {
     "name": "stdout",
     "output_type": "stream",
     "text": [
      "Train on 750 samples, validate on 250 samples\n",
      "Epoch 1/7\n",
      "750/750 [==============================] - ETA: 16s - loss: 0.6974 - accuracy: 0.437 - 1s 1ms/sample - loss: 0.6928 - accuracy: 0.4933 - val_loss: 0.7020 - val_accuracy: 0.4080\n",
      "Epoch 2/7\n",
      "750/750 [==============================] - ETA: 0s - loss: 0.6937 - accuracy: 0.46 - 0s 127us/sample - loss: 0.6916 - accuracy: 0.5027 - val_loss: 0.7038 - val_accuracy: 0.4080\n",
      "Epoch 3/7\n",
      "750/750 [==============================] - ETA: 0s - loss: 0.6948 - accuracy: 0.40 - 0s 116us/sample - loss: 0.6912 - accuracy: 0.4867 - val_loss: 0.7052 - val_accuracy: 0.3760\n",
      "Epoch 4/7\n",
      "750/750 [==============================] - ETA: 0s - loss: 0.6899 - accuracy: 0.53 - 0s 123us/sample - loss: 0.6912 - accuracy: 0.5280 - val_loss: 0.7077 - val_accuracy: 0.4080\n",
      "Epoch 5/7\n",
      "750/750 [==============================] - ETA: 0s - loss: 0.6922 - accuracy: 0.50 - 0s 112us/sample - loss: 0.6906 - accuracy: 0.5307 - val_loss: 0.7085 - val_accuracy: 0.4080\n",
      "Epoch 6/7\n",
      "750/750 [==============================] - ETA: 0s - loss: 0.6927 - accuracy: 0.50 - 0s 105us/sample - loss: 0.6910 - accuracy: 0.5147 - val_loss: 0.7059 - val_accuracy: 0.3720\n",
      "Epoch 7/7\n",
      "750/750 [==============================] - ETA: 0s - loss: 0.6950 - accuracy: 0.46 - 0s 124us/sample - loss: 0.6901 - accuracy: 0.5267 - val_loss: 0.7091 - val_accuracy: 0.4080\n"
     ]
    },
    {
     "data": {
      "text/html": [
       "<span style=\"color:#4527A0\"><h1 style=\"font-size:18px\">Trial complete</h1></span>"
      ],
      "text/plain": [
       "<IPython.core.display.HTML object>"
      ]
     },
     "metadata": {},
     "output_type": "display_data"
    },
    {
     "data": {
      "text/html": [
       "<span style=\"color:#4527A0\"><h1 style=\"font-size:18px\">Trial summary</h1></span>"
      ],
      "text/plain": [
       "<IPython.core.display.HTML object>"
      ]
     },
     "metadata": {},
     "output_type": "display_data"
    },
    {
     "data": {
      "text/html": [
       "<span style=\"color:cyan\"> |-Trial ID: 6565b028c53c1ff6768c5c4788aceb6c</span>"
      ],
      "text/plain": [
       "<IPython.core.display.HTML object>"
      ]
     },
     "metadata": {},
     "output_type": "display_data"
    },
    {
     "data": {
      "text/html": [
       "<span style=\"color:cyan\"> |-Score: 0.40799999237060547</span>"
      ],
      "text/plain": [
       "<IPython.core.display.HTML object>"
      ]
     },
     "metadata": {},
     "output_type": "display_data"
    },
    {
     "data": {
      "text/html": [
       "<span style=\"color:cyan\"> |-Best step: 0</span>"
      ],
      "text/plain": [
       "<IPython.core.display.HTML object>"
      ]
     },
     "metadata": {},
     "output_type": "display_data"
    },
    {
     "data": {
      "text/html": [
       "<span style=\"color:#7E57C2\"><h2 style=\"font-size:16px\">Hyperparameters:</h2></span>"
      ],
      "text/plain": [
       "<IPython.core.display.HTML object>"
      ]
     },
     "metadata": {},
     "output_type": "display_data"
    },
    {
     "data": {
      "text/html": [
       "<span style=\"color:cyan\"> |-activation: tanh</span>"
      ],
      "text/plain": [
       "<IPython.core.display.HTML object>"
      ]
     },
     "metadata": {},
     "output_type": "display_data"
    },
    {
     "data": {
      "text/html": [
       "<span style=\"color:blue\"> |-first_units: 16</span>"
      ],
      "text/plain": [
       "<IPython.core.display.HTML object>"
      ]
     },
     "metadata": {},
     "output_type": "display_data"
    },
    {
     "data": {
      "text/html": [
       "<span style=\"color:cyan\"> |-num_layers: 2</span>"
      ],
      "text/plain": [
       "<IPython.core.display.HTML object>"
      ]
     },
     "metadata": {},
     "output_type": "display_data"
    },
    {
     "data": {
      "text/html": [
       "<span style=\"color:blue\"> |-tuner/bracket: 1</span>"
      ],
      "text/plain": [
       "<IPython.core.display.HTML object>"
      ]
     },
     "metadata": {},
     "output_type": "display_data"
    },
    {
     "data": {
      "text/html": [
       "<span style=\"color:cyan\"> |-tuner/epochs: 7</span>"
      ],
      "text/plain": [
       "<IPython.core.display.HTML object>"
      ]
     },
     "metadata": {},
     "output_type": "display_data"
    },
    {
     "data": {
      "text/html": [
       "<span style=\"color:blue\"> |-tuner/initial_epoch: 0</span>"
      ],
      "text/plain": [
       "<IPython.core.display.HTML object>"
      ]
     },
     "metadata": {},
     "output_type": "display_data"
    },
    {
     "data": {
      "text/html": [
       "<span style=\"color:cyan\"> |-tuner/round: 0</span>"
      ],
      "text/plain": [
       "<IPython.core.display.HTML object>"
      ]
     },
     "metadata": {},
     "output_type": "display_data"
    },
    {
     "data": {
      "text/html": [
       "<span style=\"color:blue\"> |-units_0: 1</span>"
      ],
      "text/plain": [
       "<IPython.core.display.HTML object>"
      ]
     },
     "metadata": {},
     "output_type": "display_data"
    },
    {
     "data": {
      "text/html": [
       "<span style=\"color:cyan\"> |-units_1: 16</span>"
      ],
      "text/plain": [
       "<IPython.core.display.HTML object>"
      ]
     },
     "metadata": {},
     "output_type": "display_data"
    },
    {
     "data": {
      "text/html": [
       "<span style=\"color:blue\"> |-units_2: 1</span>"
      ],
      "text/plain": [
       "<IPython.core.display.HTML object>"
      ]
     },
     "metadata": {},
     "output_type": "display_data"
    },
    {
     "data": {
      "text/html": [
       "<span style=\"color:cyan\"> |-units_3: 1</span>"
      ],
      "text/plain": [
       "<IPython.core.display.HTML object>"
      ]
     },
     "metadata": {},
     "output_type": "display_data"
    },
    {
     "data": {
      "text/html": [
       "<span style=\"color:blue\"> |-units_4: 16</span>"
      ],
      "text/plain": [
       "<IPython.core.display.HTML object>"
      ]
     },
     "metadata": {},
     "output_type": "display_data"
    },
    {
     "name": "stdout",
     "output_type": "stream",
     "text": [
      "Train on 750 samples, validate on 250 samples\n",
      "Epoch 1/7\n",
      "750/750 [==============================] - ETA: 21s - loss: 0.8329 - accuracy: 0.375 - 1s 2ms/sample - loss: 0.7081 - accuracy: 0.4773 - val_loss: 0.7053 - val_accuracy: 0.4560\n",
      "Epoch 2/7\n",
      "750/750 [==============================] - ETA: 0s - loss: 0.7054 - accuracy: 0.37 - 0s 125us/sample - loss: 0.6928 - accuracy: 0.5053 - val_loss: 0.7061 - val_accuracy: 0.4400\n",
      "Epoch 3/7\n",
      "750/750 [==============================] - ETA: 0s - loss: 0.6918 - accuracy: 0.46 - 0s 122us/sample - loss: 0.6906 - accuracy: 0.4920 - val_loss: 0.7063 - val_accuracy: 0.4320\n",
      "Epoch 4/7\n",
      "750/750 [==============================] - ETA: 0s - loss: 0.6892 - accuracy: 0.53 - ETA: 0s - loss: 0.6883 - accuracy: 0.52 - 0s 133us/sample - loss: 0.6888 - accuracy: 0.5253 - val_loss: 0.7040 - val_accuracy: 0.4320\n",
      "Epoch 5/7\n",
      "750/750 [==============================] - ETA: 0s - loss: 0.6931 - accuracy: 0.56 - ETA: 0s - loss: 0.6903 - accuracy: 0.52 - 0s 141us/sample - loss: 0.6904 - accuracy: 0.5187 - val_loss: 0.6969 - val_accuracy: 0.4520\n",
      "Epoch 6/7\n",
      "750/750 [==============================] - ETA: 0s - loss: 0.6824 - accuracy: 0.56 - ETA: 0s - loss: 0.6868 - accuracy: 0.53 - 0s 140us/sample - loss: 0.6866 - accuracy: 0.5320 - val_loss: 0.7001 - val_accuracy: 0.4400\n",
      "Epoch 7/7\n",
      "750/750 [==============================] - ETA: 0s - loss: 0.6870 - accuracy: 0.56 - ETA: 0s - loss: 0.6862 - accuracy: 0.52 - 0s 146us/sample - loss: 0.6844 - accuracy: 0.5280 - val_loss: 0.7021 - val_accuracy: 0.4560\n"
     ]
    },
    {
     "data": {
      "text/html": [
       "<span style=\"color:#4527A0\"><h1 style=\"font-size:18px\">Trial complete</h1></span>"
      ],
      "text/plain": [
       "<IPython.core.display.HTML object>"
      ]
     },
     "metadata": {},
     "output_type": "display_data"
    },
    {
     "data": {
      "text/html": [
       "<span style=\"color:#4527A0\"><h1 style=\"font-size:18px\">Trial summary</h1></span>"
      ],
      "text/plain": [
       "<IPython.core.display.HTML object>"
      ]
     },
     "metadata": {},
     "output_type": "display_data"
    },
    {
     "data": {
      "text/html": [
       "<span style=\"color:cyan\"> |-Trial ID: 6ceadb467c5aa8cbda5c9cb5d6e3d73c</span>"
      ],
      "text/plain": [
       "<IPython.core.display.HTML object>"
      ]
     },
     "metadata": {},
     "output_type": "display_data"
    },
    {
     "data": {
      "text/html": [
       "<span style=\"color:cyan\"> |-Score: 0.4560000002384186</span>"
      ],
      "text/plain": [
       "<IPython.core.display.HTML object>"
      ]
     },
     "metadata": {},
     "output_type": "display_data"
    },
    {
     "data": {
      "text/html": [
       "<span style=\"color:cyan\"> |-Best step: 0</span>"
      ],
      "text/plain": [
       "<IPython.core.display.HTML object>"
      ]
     },
     "metadata": {},
     "output_type": "display_data"
    },
    {
     "data": {
      "text/html": [
       "<span style=\"color:#7E57C2\"><h2 style=\"font-size:16px\">Hyperparameters:</h2></span>"
      ],
      "text/plain": [
       "<IPython.core.display.HTML object>"
      ]
     },
     "metadata": {},
     "output_type": "display_data"
    },
    {
     "data": {
      "text/html": [
       "<span style=\"color:cyan\"> |-activation: tanh</span>"
      ],
      "text/plain": [
       "<IPython.core.display.HTML object>"
      ]
     },
     "metadata": {},
     "output_type": "display_data"
    },
    {
     "data": {
      "text/html": [
       "<span style=\"color:blue\"> |-first_units: 11</span>"
      ],
      "text/plain": [
       "<IPython.core.display.HTML object>"
      ]
     },
     "metadata": {},
     "output_type": "display_data"
    },
    {
     "data": {
      "text/html": [
       "<span style=\"color:cyan\"> |-num_layers: 5</span>"
      ],
      "text/plain": [
       "<IPython.core.display.HTML object>"
      ]
     },
     "metadata": {},
     "output_type": "display_data"
    },
    {
     "data": {
      "text/html": [
       "<span style=\"color:blue\"> |-tuner/bracket: 1</span>"
      ],
      "text/plain": [
       "<IPython.core.display.HTML object>"
      ]
     },
     "metadata": {},
     "output_type": "display_data"
    },
    {
     "data": {
      "text/html": [
       "<span style=\"color:cyan\"> |-tuner/epochs: 7</span>"
      ],
      "text/plain": [
       "<IPython.core.display.HTML object>"
      ]
     },
     "metadata": {},
     "output_type": "display_data"
    },
    {
     "data": {
      "text/html": [
       "<span style=\"color:blue\"> |-tuner/initial_epoch: 0</span>"
      ],
      "text/plain": [
       "<IPython.core.display.HTML object>"
      ]
     },
     "metadata": {},
     "output_type": "display_data"
    },
    {
     "data": {
      "text/html": [
       "<span style=\"color:cyan\"> |-tuner/round: 0</span>"
      ],
      "text/plain": [
       "<IPython.core.display.HTML object>"
      ]
     },
     "metadata": {},
     "output_type": "display_data"
    },
    {
     "data": {
      "text/html": [
       "<span style=\"color:blue\"> |-units_0: 26</span>"
      ],
      "text/plain": [
       "<IPython.core.display.HTML object>"
      ]
     },
     "metadata": {},
     "output_type": "display_data"
    },
    {
     "data": {
      "text/html": [
       "<span style=\"color:cyan\"> |-units_1: 6</span>"
      ],
      "text/plain": [
       "<IPython.core.display.HTML object>"
      ]
     },
     "metadata": {},
     "output_type": "display_data"
    },
    {
     "data": {
      "text/html": [
       "<span style=\"color:blue\"> |-units_2: 26</span>"
      ],
      "text/plain": [
       "<IPython.core.display.HTML object>"
      ]
     },
     "metadata": {},
     "output_type": "display_data"
    },
    {
     "data": {
      "text/html": [
       "<span style=\"color:cyan\"> |-units_3: 26</span>"
      ],
      "text/plain": [
       "<IPython.core.display.HTML object>"
      ]
     },
     "metadata": {},
     "output_type": "display_data"
    },
    {
     "data": {
      "text/html": [
       "<span style=\"color:blue\"> |-units_4: 16</span>"
      ],
      "text/plain": [
       "<IPython.core.display.HTML object>"
      ]
     },
     "metadata": {},
     "output_type": "display_data"
    },
    {
     "name": "stdout",
     "output_type": "stream",
     "text": [
      "Train on 750 samples, validate on 250 samples\n",
      "Epoch 1/7\n",
      "750/750 [==============================] - ETA: 19s - loss: 0.6931 - accuracy: 0.562 - 1s 2ms/sample - loss: 0.6931 - accuracy: 0.5307 - val_loss: 0.6944 - val_accuracy: 0.4080\n",
      "Epoch 2/7\n",
      "750/750 [==============================] - ETA: 0s - loss: 0.6919 - accuracy: 0.59 - 0s 117us/sample - loss: 0.6927 - accuracy: 0.5307 - val_loss: 0.6948 - val_accuracy: 0.4080\n",
      "Epoch 3/7\n",
      "750/750 [==============================] - ETA: 0s - loss: 0.6943 - accuracy: 0.43 - 0s 116us/sample - loss: 0.6926 - accuracy: 0.5307 - val_loss: 0.6958 - val_accuracy: 0.4080\n",
      "Epoch 4/7\n",
      "750/750 [==============================] - ETA: 0s - loss: 0.6880 - accuracy: 0.68 - 0s 111us/sample - loss: 0.6925 - accuracy: 0.5307 - val_loss: 0.6969 - val_accuracy: 0.4080\n",
      "Epoch 5/7\n",
      "750/750 [==============================] - ETA: 0s - loss: 0.6909 - accuracy: 0.56 - 0s 110us/sample - loss: 0.6922 - accuracy: 0.5307 - val_loss: 0.6972 - val_accuracy: 0.4080\n",
      "Epoch 6/7\n",
      "750/750 [==============================] - ETA: 0s - loss: 0.6869 - accuracy: 0.65 - 0s 120us/sample - loss: 0.6921 - accuracy: 0.5307 - val_loss: 0.6980 - val_accuracy: 0.4080\n",
      "Epoch 7/7\n",
      "750/750 [==============================] - ETA: 0s - loss: 0.6966 - accuracy: 0.43 - 0s 115us/sample - loss: 0.6919 - accuracy: 0.5307 - val_loss: 0.6983 - val_accuracy: 0.4080\n"
     ]
    },
    {
     "data": {
      "text/html": [
       "<span style=\"color:#4527A0\"><h1 style=\"font-size:18px\">Trial complete</h1></span>"
      ],
      "text/plain": [
       "<IPython.core.display.HTML object>"
      ]
     },
     "metadata": {},
     "output_type": "display_data"
    },
    {
     "data": {
      "text/html": [
       "<span style=\"color:#4527A0\"><h1 style=\"font-size:18px\">Trial summary</h1></span>"
      ],
      "text/plain": [
       "<IPython.core.display.HTML object>"
      ]
     },
     "metadata": {},
     "output_type": "display_data"
    },
    {
     "data": {
      "text/html": [
       "<span style=\"color:cyan\"> |-Trial ID: 601a358b5f12de71bf0dd3d5173f2b13</span>"
      ],
      "text/plain": [
       "<IPython.core.display.HTML object>"
      ]
     },
     "metadata": {},
     "output_type": "display_data"
    },
    {
     "data": {
      "text/html": [
       "<span style=\"color:cyan\"> |-Score: 0.40799999237060547</span>"
      ],
      "text/plain": [
       "<IPython.core.display.HTML object>"
      ]
     },
     "metadata": {},
     "output_type": "display_data"
    },
    {
     "data": {
      "text/html": [
       "<span style=\"color:cyan\"> |-Best step: 0</span>"
      ],
      "text/plain": [
       "<IPython.core.display.HTML object>"
      ]
     },
     "metadata": {},
     "output_type": "display_data"
    },
    {
     "data": {
      "text/html": [
       "<span style=\"color:#7E57C2\"><h2 style=\"font-size:16px\">Hyperparameters:</h2></span>"
      ],
      "text/plain": [
       "<IPython.core.display.HTML object>"
      ]
     },
     "metadata": {},
     "output_type": "display_data"
    },
    {
     "data": {
      "text/html": [
       "<span style=\"color:cyan\"> |-activation: relu</span>"
      ],
      "text/plain": [
       "<IPython.core.display.HTML object>"
      ]
     },
     "metadata": {},
     "output_type": "display_data"
    },
    {
     "data": {
      "text/html": [
       "<span style=\"color:blue\"> |-first_units: 11</span>"
      ],
      "text/plain": [
       "<IPython.core.display.HTML object>"
      ]
     },
     "metadata": {},
     "output_type": "display_data"
    },
    {
     "data": {
      "text/html": [
       "<span style=\"color:cyan\"> |-num_layers: 4</span>"
      ],
      "text/plain": [
       "<IPython.core.display.HTML object>"
      ]
     },
     "metadata": {},
     "output_type": "display_data"
    },
    {
     "data": {
      "text/html": [
       "<span style=\"color:blue\"> |-tuner/bracket: 1</span>"
      ],
      "text/plain": [
       "<IPython.core.display.HTML object>"
      ]
     },
     "metadata": {},
     "output_type": "display_data"
    },
    {
     "data": {
      "text/html": [
       "<span style=\"color:cyan\"> |-tuner/epochs: 7</span>"
      ],
      "text/plain": [
       "<IPython.core.display.HTML object>"
      ]
     },
     "metadata": {},
     "output_type": "display_data"
    },
    {
     "data": {
      "text/html": [
       "<span style=\"color:blue\"> |-tuner/initial_epoch: 0</span>"
      ],
      "text/plain": [
       "<IPython.core.display.HTML object>"
      ]
     },
     "metadata": {},
     "output_type": "display_data"
    },
    {
     "data": {
      "text/html": [
       "<span style=\"color:cyan\"> |-tuner/round: 0</span>"
      ],
      "text/plain": [
       "<IPython.core.display.HTML object>"
      ]
     },
     "metadata": {},
     "output_type": "display_data"
    },
    {
     "data": {
      "text/html": [
       "<span style=\"color:blue\"> |-units_0: 16</span>"
      ],
      "text/plain": [
       "<IPython.core.display.HTML object>"
      ]
     },
     "metadata": {},
     "output_type": "display_data"
    },
    {
     "data": {
      "text/html": [
       "<span style=\"color:cyan\"> |-units_1: 1</span>"
      ],
      "text/plain": [
       "<IPython.core.display.HTML object>"
      ]
     },
     "metadata": {},
     "output_type": "display_data"
    },
    {
     "data": {
      "text/html": [
       "<span style=\"color:blue\"> |-units_2: 6</span>"
      ],
      "text/plain": [
       "<IPython.core.display.HTML object>"
      ]
     },
     "metadata": {},
     "output_type": "display_data"
    },
    {
     "data": {
      "text/html": [
       "<span style=\"color:cyan\"> |-units_3: 16</span>"
      ],
      "text/plain": [
       "<IPython.core.display.HTML object>"
      ]
     },
     "metadata": {},
     "output_type": "display_data"
    },
    {
     "data": {
      "text/html": [
       "<span style=\"color:blue\"> |-units_4: 26</span>"
      ],
      "text/plain": [
       "<IPython.core.display.HTML object>"
      ]
     },
     "metadata": {},
     "output_type": "display_data"
    },
    {
     "name": "stdout",
     "output_type": "stream",
     "text": [
      "Train on 750 samples, validate on 250 samples\n",
      "Epoch 1/7\n",
      "750/750 [==============================] - ETA: 15s - loss: 0.7507 - accuracy: 0.562 - 1s 1ms/sample - loss: 0.6995 - accuracy: 0.4960 - val_loss: 0.7052 - val_accuracy: 0.4080\n",
      "Epoch 2/7\n",
      "750/750 [==============================] - ETA: 0s - loss: 0.6751 - accuracy: 0.62 - 0s 124us/sample - loss: 0.6843 - accuracy: 0.5307 - val_loss: 0.7131 - val_accuracy: 0.4080\n",
      "Epoch 3/7\n",
      "750/750 [==============================] - ETA: 0s - loss: 0.6670 - accuracy: 0.53 - 0s 116us/sample - loss: 0.6816 - accuracy: 0.5307 - val_loss: 0.7168 - val_accuracy: 0.4080\n",
      "Epoch 4/7\n",
      "750/750 [==============================] - ETA: 0s - loss: 0.6474 - accuracy: 0.59 - ETA: 0s - loss: 0.6777 - accuracy: 0.53 - 0s 172us/sample - loss: 0.6791 - accuracy: 0.5307 - val_loss: 0.7177 - val_accuracy: 0.4080\n",
      "Epoch 5/7\n",
      "750/750 [==============================] - ETA: 0s - loss: 0.6598 - accuracy: 0.53 - 0s 120us/sample - loss: 0.6770 - accuracy: 0.5307 - val_loss: 0.7152 - val_accuracy: 0.4080\n",
      "Epoch 6/7\n",
      "750/750 [==============================] - ETA: 0s - loss: 0.6417 - accuracy: 0.59 - 0s 137us/sample - loss: 0.6747 - accuracy: 0.5307 - val_loss: 0.7118 - val_accuracy: 0.4080\n",
      "Epoch 7/7\n",
      "750/750 [==============================] - ETA: 0s - loss: 0.7075 - accuracy: 0.43 - 0s 132us/sample - loss: 0.6717 - accuracy: 0.5307 - val_loss: 0.7156 - val_accuracy: 0.4080\n"
     ]
    },
    {
     "data": {
      "text/html": [
       "<span style=\"color:#4527A0\"><h1 style=\"font-size:18px\">Trial complete</h1></span>"
      ],
      "text/plain": [
       "<IPython.core.display.HTML object>"
      ]
     },
     "metadata": {},
     "output_type": "display_data"
    },
    {
     "data": {
      "text/html": [
       "<span style=\"color:#4527A0\"><h1 style=\"font-size:18px\">Trial summary</h1></span>"
      ],
      "text/plain": [
       "<IPython.core.display.HTML object>"
      ]
     },
     "metadata": {},
     "output_type": "display_data"
    },
    {
     "data": {
      "text/html": [
       "<span style=\"color:cyan\"> |-Trial ID: bea61cab529c2d4aebab334dd5e6bbd9</span>"
      ],
      "text/plain": [
       "<IPython.core.display.HTML object>"
      ]
     },
     "metadata": {},
     "output_type": "display_data"
    },
    {
     "data": {
      "text/html": [
       "<span style=\"color:cyan\"> |-Score: 0.40799999237060547</span>"
      ],
      "text/plain": [
       "<IPython.core.display.HTML object>"
      ]
     },
     "metadata": {},
     "output_type": "display_data"
    },
    {
     "data": {
      "text/html": [
       "<span style=\"color:cyan\"> |-Best step: 0</span>"
      ],
      "text/plain": [
       "<IPython.core.display.HTML object>"
      ]
     },
     "metadata": {},
     "output_type": "display_data"
    },
    {
     "data": {
      "text/html": [
       "<span style=\"color:#7E57C2\"><h2 style=\"font-size:16px\">Hyperparameters:</h2></span>"
      ],
      "text/plain": [
       "<IPython.core.display.HTML object>"
      ]
     },
     "metadata": {},
     "output_type": "display_data"
    },
    {
     "data": {
      "text/html": [
       "<span style=\"color:cyan\"> |-activation: relu</span>"
      ],
      "text/plain": [
       "<IPython.core.display.HTML object>"
      ]
     },
     "metadata": {},
     "output_type": "display_data"
    },
    {
     "data": {
      "text/html": [
       "<span style=\"color:blue\"> |-first_units: 26</span>"
      ],
      "text/plain": [
       "<IPython.core.display.HTML object>"
      ]
     },
     "metadata": {},
     "output_type": "display_data"
    },
    {
     "data": {
      "text/html": [
       "<span style=\"color:cyan\"> |-num_layers: 2</span>"
      ],
      "text/plain": [
       "<IPython.core.display.HTML object>"
      ]
     },
     "metadata": {},
     "output_type": "display_data"
    },
    {
     "data": {
      "text/html": [
       "<span style=\"color:blue\"> |-tuner/bracket: 1</span>"
      ],
      "text/plain": [
       "<IPython.core.display.HTML object>"
      ]
     },
     "metadata": {},
     "output_type": "display_data"
    },
    {
     "data": {
      "text/html": [
       "<span style=\"color:cyan\"> |-tuner/epochs: 7</span>"
      ],
      "text/plain": [
       "<IPython.core.display.HTML object>"
      ]
     },
     "metadata": {},
     "output_type": "display_data"
    },
    {
     "data": {
      "text/html": [
       "<span style=\"color:blue\"> |-tuner/initial_epoch: 0</span>"
      ],
      "text/plain": [
       "<IPython.core.display.HTML object>"
      ]
     },
     "metadata": {},
     "output_type": "display_data"
    },
    {
     "data": {
      "text/html": [
       "<span style=\"color:cyan\"> |-tuner/round: 0</span>"
      ],
      "text/plain": [
       "<IPython.core.display.HTML object>"
      ]
     },
     "metadata": {},
     "output_type": "display_data"
    },
    {
     "data": {
      "text/html": [
       "<span style=\"color:blue\"> |-units_0: 26</span>"
      ],
      "text/plain": [
       "<IPython.core.display.HTML object>"
      ]
     },
     "metadata": {},
     "output_type": "display_data"
    },
    {
     "data": {
      "text/html": [
       "<span style=\"color:cyan\"> |-units_1: 6</span>"
      ],
      "text/plain": [
       "<IPython.core.display.HTML object>"
      ]
     },
     "metadata": {},
     "output_type": "display_data"
    },
    {
     "data": {
      "text/html": [
       "<span style=\"color:blue\"> |-units_2: 11</span>"
      ],
      "text/plain": [
       "<IPython.core.display.HTML object>"
      ]
     },
     "metadata": {},
     "output_type": "display_data"
    },
    {
     "data": {
      "text/html": [
       "<span style=\"color:cyan\"> |-units_3: 6</span>"
      ],
      "text/plain": [
       "<IPython.core.display.HTML object>"
      ]
     },
     "metadata": {},
     "output_type": "display_data"
    },
    {
     "data": {
      "text/html": [
       "<span style=\"color:blue\"> |-units_4: 11</span>"
      ],
      "text/plain": [
       "<IPython.core.display.HTML object>"
      ]
     },
     "metadata": {},
     "output_type": "display_data"
    },
    {
     "name": "stdout",
     "output_type": "stream",
     "text": [
      "Train on 750 samples, validate on 250 samples\n",
      "Epoch 1/7\n",
      "750/750 [==============================] - ETA: 17s - loss: 0.6970 - accuracy: 0.375 - 1s 1ms/sample - loss: 0.6933 - accuracy: 0.5093 - val_loss: 0.7004 - val_accuracy: 0.4080\n",
      "Epoch 2/7\n",
      "750/750 [==============================] - ETA: 0s - loss: 0.6861 - accuracy: 0.59 - 0s 115us/sample - loss: 0.6919 - accuracy: 0.5307 - val_loss: 0.7047 - val_accuracy: 0.4080\n",
      "Epoch 3/7\n",
      "750/750 [==============================] - ETA: 0s - loss: 0.6915 - accuracy: 0.53 - 0s 119us/sample - loss: 0.6915 - accuracy: 0.5307 - val_loss: 0.7047 - val_accuracy: 0.4080\n",
      "Epoch 4/7\n",
      "750/750 [==============================] - ETA: 0s - loss: 0.6878 - accuracy: 0.56 - 0s 120us/sample - loss: 0.6916 - accuracy: 0.5307 - val_loss: 0.7056 - val_accuracy: 0.4080\n",
      "Epoch 5/7\n",
      "750/750 [==============================] - ETA: 0s - loss: 0.6873 - accuracy: 0.56 - 0s 113us/sample - loss: 0.6913 - accuracy: 0.5307 - val_loss: 0.7060 - val_accuracy: 0.4080\n",
      "Epoch 6/7\n",
      "750/750 [==============================] - ETA: 0s - loss: 0.6903 - accuracy: 0.53 - 0s 112us/sample - loss: 0.6914 - accuracy: 0.5307 - val_loss: 0.7056 - val_accuracy: 0.4080\n",
      "Epoch 7/7\n",
      "750/750 [==============================] - ETA: 0s - loss: 0.6752 - accuracy: 0.65 - 0s 114us/sample - loss: 0.6914 - accuracy: 0.5307 - val_loss: 0.7086 - val_accuracy: 0.4080\n"
     ]
    },
    {
     "data": {
      "text/html": [
       "<span style=\"color:#4527A0\"><h1 style=\"font-size:18px\">Trial complete</h1></span>"
      ],
      "text/plain": [
       "<IPython.core.display.HTML object>"
      ]
     },
     "metadata": {},
     "output_type": "display_data"
    },
    {
     "data": {
      "text/html": [
       "<span style=\"color:#4527A0\"><h1 style=\"font-size:18px\">Trial summary</h1></span>"
      ],
      "text/plain": [
       "<IPython.core.display.HTML object>"
      ]
     },
     "metadata": {},
     "output_type": "display_data"
    },
    {
     "data": {
      "text/html": [
       "<span style=\"color:cyan\"> |-Trial ID: c7abf1d2ccee728cf46551fcabcf5049</span>"
      ],
      "text/plain": [
       "<IPython.core.display.HTML object>"
      ]
     },
     "metadata": {},
     "output_type": "display_data"
    },
    {
     "data": {
      "text/html": [
       "<span style=\"color:cyan\"> |-Score: 0.40799999237060547</span>"
      ],
      "text/plain": [
       "<IPython.core.display.HTML object>"
      ]
     },
     "metadata": {},
     "output_type": "display_data"
    },
    {
     "data": {
      "text/html": [
       "<span style=\"color:cyan\"> |-Best step: 0</span>"
      ],
      "text/plain": [
       "<IPython.core.display.HTML object>"
      ]
     },
     "metadata": {},
     "output_type": "display_data"
    },
    {
     "data": {
      "text/html": [
       "<span style=\"color:#7E57C2\"><h2 style=\"font-size:16px\">Hyperparameters:</h2></span>"
      ],
      "text/plain": [
       "<IPython.core.display.HTML object>"
      ]
     },
     "metadata": {},
     "output_type": "display_data"
    },
    {
     "data": {
      "text/html": [
       "<span style=\"color:cyan\"> |-activation: tanh</span>"
      ],
      "text/plain": [
       "<IPython.core.display.HTML object>"
      ]
     },
     "metadata": {},
     "output_type": "display_data"
    },
    {
     "data": {
      "text/html": [
       "<span style=\"color:blue\"> |-first_units: 26</span>"
      ],
      "text/plain": [
       "<IPython.core.display.HTML object>"
      ]
     },
     "metadata": {},
     "output_type": "display_data"
    },
    {
     "data": {
      "text/html": [
       "<span style=\"color:cyan\"> |-num_layers: 4</span>"
      ],
      "text/plain": [
       "<IPython.core.display.HTML object>"
      ]
     },
     "metadata": {},
     "output_type": "display_data"
    },
    {
     "data": {
      "text/html": [
       "<span style=\"color:blue\"> |-tuner/bracket: 1</span>"
      ],
      "text/plain": [
       "<IPython.core.display.HTML object>"
      ]
     },
     "metadata": {},
     "output_type": "display_data"
    },
    {
     "data": {
      "text/html": [
       "<span style=\"color:cyan\"> |-tuner/epochs: 7</span>"
      ],
      "text/plain": [
       "<IPython.core.display.HTML object>"
      ]
     },
     "metadata": {},
     "output_type": "display_data"
    },
    {
     "data": {
      "text/html": [
       "<span style=\"color:blue\"> |-tuner/initial_epoch: 0</span>"
      ],
      "text/plain": [
       "<IPython.core.display.HTML object>"
      ]
     },
     "metadata": {},
     "output_type": "display_data"
    },
    {
     "data": {
      "text/html": [
       "<span style=\"color:cyan\"> |-tuner/round: 0</span>"
      ],
      "text/plain": [
       "<IPython.core.display.HTML object>"
      ]
     },
     "metadata": {},
     "output_type": "display_data"
    },
    {
     "data": {
      "text/html": [
       "<span style=\"color:blue\"> |-units_0: 1</span>"
      ],
      "text/plain": [
       "<IPython.core.display.HTML object>"
      ]
     },
     "metadata": {},
     "output_type": "display_data"
    },
    {
     "data": {
      "text/html": [
       "<span style=\"color:cyan\"> |-units_1: 26</span>"
      ],
      "text/plain": [
       "<IPython.core.display.HTML object>"
      ]
     },
     "metadata": {},
     "output_type": "display_data"
    },
    {
     "data": {
      "text/html": [
       "<span style=\"color:blue\"> |-units_2: 6</span>"
      ],
      "text/plain": [
       "<IPython.core.display.HTML object>"
      ]
     },
     "metadata": {},
     "output_type": "display_data"
    },
    {
     "data": {
      "text/html": [
       "<span style=\"color:cyan\"> |-units_3: 16</span>"
      ],
      "text/plain": [
       "<IPython.core.display.HTML object>"
      ]
     },
     "metadata": {},
     "output_type": "display_data"
    },
    {
     "data": {
      "text/html": [
       "<span style=\"color:blue\"> |-units_4: 26</span>"
      ],
      "text/plain": [
       "<IPython.core.display.HTML object>"
      ]
     },
     "metadata": {},
     "output_type": "display_data"
    },
    {
     "name": "stdout",
     "output_type": "stream",
     "text": [
      "Train on 750 samples, validate on 250 samples\n",
      "Epoch 1/7\n",
      "750/750 [==============================] - ETA: 15s - loss: 0.6758 - accuracy: 0.500 - 1s 1ms/sample - loss: 0.6825 - accuracy: 0.5307 - val_loss: 0.7079 - val_accuracy: 0.4080\n",
      "Epoch 2/7\n",
      "750/750 [==============================] - ETA: 0s - loss: 0.6952 - accuracy: 0.46 - 0s 127us/sample - loss: 0.6812 - accuracy: 0.5307 - val_loss: 0.7088 - val_accuracy: 0.4080\n",
      "Epoch 3/7\n",
      "750/750 [==============================] - ETA: 0s - loss: 0.6443 - accuracy: 0.71 - 0s 126us/sample - loss: 0.6801 - accuracy: 0.5307 - val_loss: 0.7103 - val_accuracy: 0.4080\n",
      "Epoch 4/7\n",
      "750/750 [==============================] - ETA: 0s - loss: 0.6708 - accuracy: 0.65 - ETA: 0s - loss: 0.6795 - accuracy: 0.52 - 0s 145us/sample - loss: 0.6790 - accuracy: 0.5307 - val_loss: 0.7115 - val_accuracy: 0.4080\n",
      "Epoch 5/7\n",
      "750/750 [==============================] - ETA: 0s - loss: 0.6758 - accuracy: 0.56 - 0s 148us/sample - loss: 0.6777 - accuracy: 0.5373 - val_loss: 0.7130 - val_accuracy: 0.4200\n",
      "Epoch 6/7\n",
      "750/750 [==============================] - ETA: 0s - loss: 0.7055 - accuracy: 0.37 - 0s 115us/sample - loss: 0.6763 - accuracy: 0.5480 - val_loss: 0.7144 - val_accuracy: 0.4200\n",
      "Epoch 7/7\n",
      "750/750 [==============================] - ETA: 0s - loss: 0.6610 - accuracy: 0.59 - 0s 127us/sample - loss: 0.6749 - accuracy: 0.5453 - val_loss: 0.7145 - val_accuracy: 0.4160\n"
     ]
    },
    {
     "data": {
      "text/html": [
       "<span style=\"color:#4527A0\"><h1 style=\"font-size:18px\">Trial complete</h1></span>"
      ],
      "text/plain": [
       "<IPython.core.display.HTML object>"
      ]
     },
     "metadata": {},
     "output_type": "display_data"
    },
    {
     "data": {
      "text/html": [
       "<span style=\"color:#4527A0\"><h1 style=\"font-size:18px\">Trial summary</h1></span>"
      ],
      "text/plain": [
       "<IPython.core.display.HTML object>"
      ]
     },
     "metadata": {},
     "output_type": "display_data"
    },
    {
     "data": {
      "text/html": [
       "<span style=\"color:cyan\"> |-Trial ID: c67a310830f8a90b342192dacc7b31e5</span>"
      ],
      "text/plain": [
       "<IPython.core.display.HTML object>"
      ]
     },
     "metadata": {},
     "output_type": "display_data"
    },
    {
     "data": {
      "text/html": [
       "<span style=\"color:cyan\"> |-Score: 0.41999998688697815</span>"
      ],
      "text/plain": [
       "<IPython.core.display.HTML object>"
      ]
     },
     "metadata": {},
     "output_type": "display_data"
    },
    {
     "data": {
      "text/html": [
       "<span style=\"color:cyan\"> |-Best step: 0</span>"
      ],
      "text/plain": [
       "<IPython.core.display.HTML object>"
      ]
     },
     "metadata": {},
     "output_type": "display_data"
    },
    {
     "data": {
      "text/html": [
       "<span style=\"color:#7E57C2\"><h2 style=\"font-size:16px\">Hyperparameters:</h2></span>"
      ],
      "text/plain": [
       "<IPython.core.display.HTML object>"
      ]
     },
     "metadata": {},
     "output_type": "display_data"
    },
    {
     "data": {
      "text/html": [
       "<span style=\"color:cyan\"> |-activation: relu</span>"
      ],
      "text/plain": [
       "<IPython.core.display.HTML object>"
      ]
     },
     "metadata": {},
     "output_type": "display_data"
    },
    {
     "data": {
      "text/html": [
       "<span style=\"color:blue\"> |-first_units: 11</span>"
      ],
      "text/plain": [
       "<IPython.core.display.HTML object>"
      ]
     },
     "metadata": {},
     "output_type": "display_data"
    },
    {
     "data": {
      "text/html": [
       "<span style=\"color:cyan\"> |-num_layers: 2</span>"
      ],
      "text/plain": [
       "<IPython.core.display.HTML object>"
      ]
     },
     "metadata": {},
     "output_type": "display_data"
    },
    {
     "data": {
      "text/html": [
       "<span style=\"color:blue\"> |-tuner/bracket: 1</span>"
      ],
      "text/plain": [
       "<IPython.core.display.HTML object>"
      ]
     },
     "metadata": {},
     "output_type": "display_data"
    },
    {
     "data": {
      "text/html": [
       "<span style=\"color:cyan\"> |-tuner/epochs: 7</span>"
      ],
      "text/plain": [
       "<IPython.core.display.HTML object>"
      ]
     },
     "metadata": {},
     "output_type": "display_data"
    },
    {
     "data": {
      "text/html": [
       "<span style=\"color:blue\"> |-tuner/initial_epoch: 0</span>"
      ],
      "text/plain": [
       "<IPython.core.display.HTML object>"
      ]
     },
     "metadata": {},
     "output_type": "display_data"
    },
    {
     "data": {
      "text/html": [
       "<span style=\"color:cyan\"> |-tuner/round: 0</span>"
      ],
      "text/plain": [
       "<IPython.core.display.HTML object>"
      ]
     },
     "metadata": {},
     "output_type": "display_data"
    },
    {
     "data": {
      "text/html": [
       "<span style=\"color:blue\"> |-units_0: 11</span>"
      ],
      "text/plain": [
       "<IPython.core.display.HTML object>"
      ]
     },
     "metadata": {},
     "output_type": "display_data"
    },
    {
     "data": {
      "text/html": [
       "<span style=\"color:cyan\"> |-units_1: 6</span>"
      ],
      "text/plain": [
       "<IPython.core.display.HTML object>"
      ]
     },
     "metadata": {},
     "output_type": "display_data"
    },
    {
     "data": {
      "text/html": [
       "<span style=\"color:blue\"> |-units_2: 21</span>"
      ],
      "text/plain": [
       "<IPython.core.display.HTML object>"
      ]
     },
     "metadata": {},
     "output_type": "display_data"
    },
    {
     "data": {
      "text/html": [
       "<span style=\"color:cyan\"> |-units_3: 1</span>"
      ],
      "text/plain": [
       "<IPython.core.display.HTML object>"
      ]
     },
     "metadata": {},
     "output_type": "display_data"
    },
    {
     "data": {
      "text/html": [
       "<span style=\"color:blue\"> |-units_4: 26</span>"
      ],
      "text/plain": [
       "<IPython.core.display.HTML object>"
      ]
     },
     "metadata": {},
     "output_type": "display_data"
    },
    {
     "name": "stdout",
     "output_type": "stream",
     "text": [
      "Train on 750 samples, validate on 250 samples\n",
      "Epoch 8/20\n",
      "750/750 [==============================] - ETA: 21s - loss: 0.6865 - accuracy: 0.562 - ETA: 0s - loss: 0.6956 - accuracy: 0.498 - 1s 2ms/sample - loss: 0.6950 - accuracy: 0.5093 - val_loss: 0.7032 - val_accuracy: 0.4200\n",
      "Epoch 9/20\n",
      "750/750 [==============================] - ETA: 0s - loss: 0.7048 - accuracy: 0.46 - ETA: 0s - loss: 0.6935 - accuracy: 0.52 - 0s 202us/sample - loss: 0.6941 - accuracy: 0.5227 - val_loss: 0.7099 - val_accuracy: 0.4320\n",
      "Epoch 10/20\n",
      "750/750 [==============================] - ETA: 0s - loss: 0.6915 - accuracy: 0.40 - ETA: 0s - loss: 0.6902 - accuracy: 0.50 - 0s 141us/sample - loss: 0.6901 - accuracy: 0.5027 - val_loss: 0.7088 - val_accuracy: 0.4160\n",
      "Epoch 11/20\n",
      "750/750 [==============================] - ETA: 0s - loss: 0.6779 - accuracy: 0.59 - ETA: 0s - loss: 0.6903 - accuracy: 0.53 - 0s 176us/sample - loss: 0.6903 - accuracy: 0.5347 - val_loss: 0.7041 - val_accuracy: 0.4400\n",
      "Epoch 12/20\n",
      "750/750 [==============================] - ETA: 0s - loss: 0.6944 - accuracy: 0.50 - ETA: 0s - loss: 0.6874 - accuracy: 0.57 - 0s 150us/sample - loss: 0.6878 - accuracy: 0.5627 - val_loss: 0.6994 - val_accuracy: 0.4400\n",
      "Epoch 13/20\n",
      "750/750 [==============================] - ETA: 0s - loss: 0.6866 - accuracy: 0.59 - 0s 152us/sample - loss: 0.6880 - accuracy: 0.5467 - val_loss: 0.6959 - val_accuracy: 0.5280\n",
      "Epoch 14/20\n",
      "750/750 [==============================] - ETA: 0s - loss: 0.6758 - accuracy: 0.65 - 0s 122us/sample - loss: 0.6850 - accuracy: 0.5400 - val_loss: 0.6993 - val_accuracy: 0.4600\n",
      "Epoch 15/20\n",
      "750/750 [==============================] - ETA: 0s - loss: 0.6870 - accuracy: 0.56 - 0s 151us/sample - loss: 0.6833 - accuracy: 0.5453 - val_loss: 0.6828 - val_accuracy: 0.5560\n",
      "Epoch 16/20\n",
      "750/750 [==============================] - ETA: 0s - loss: 0.6768 - accuracy: 0.53 - 0s 161us/sample - loss: 0.6766 - accuracy: 0.5920 - val_loss: 0.6901 - val_accuracy: 0.5840\n",
      "Epoch 17/20\n",
      "750/750 [==============================] - ETA: 0s - loss: 0.6619 - accuracy: 0.62 - 0s 155us/sample - loss: 0.6780 - accuracy: 0.5493 - val_loss: 0.6717 - val_accuracy: 0.6720\n",
      "Epoch 18/20\n",
      "750/750 [==============================] - ETA: 0s - loss: 0.6448 - accuracy: 0.84 - ETA: 0s - loss: 0.6693 - accuracy: 0.60 - 0s 136us/sample - loss: 0.6689 - accuracy: 0.6133 - val_loss: 0.6712 - val_accuracy: 0.6520\n",
      "Epoch 19/20\n",
      "750/750 [==============================] - ETA: 0s - loss: 0.6676 - accuracy: 0.81 - 0s 123us/sample - loss: 0.6559 - accuracy: 0.6867 - val_loss: 0.6707 - val_accuracy: 0.5480\n",
      "Epoch 20/20\n",
      "750/750 [==============================] - ETA: 0s - loss: 0.6514 - accuracy: 0.62 - 0s 154us/sample - loss: 0.6418 - accuracy: 0.6933 - val_loss: 0.6269 - val_accuracy: 0.7560\n"
     ]
    },
    {
     "data": {
      "text/html": [
       "<span style=\"color:#4527A0\"><h1 style=\"font-size:18px\">Trial complete</h1></span>"
      ],
      "text/plain": [
       "<IPython.core.display.HTML object>"
      ]
     },
     "metadata": {},
     "output_type": "display_data"
    },
    {
     "data": {
      "text/html": [
       "<span style=\"color:#4527A0\"><h1 style=\"font-size:18px\">Trial summary</h1></span>"
      ],
      "text/plain": [
       "<IPython.core.display.HTML object>"
      ]
     },
     "metadata": {},
     "output_type": "display_data"
    },
    {
     "data": {
      "text/html": [
       "<span style=\"color:cyan\"> |-Trial ID: 6cfa3f2de4ddf189fa192a487eedf5fd</span>"
      ],
      "text/plain": [
       "<IPython.core.display.HTML object>"
      ]
     },
     "metadata": {},
     "output_type": "display_data"
    },
    {
     "data": {
      "text/html": [
       "<span style=\"color:cyan\"> |-Score: 0.7559999823570251</span>"
      ],
      "text/plain": [
       "<IPython.core.display.HTML object>"
      ]
     },
     "metadata": {},
     "output_type": "display_data"
    },
    {
     "data": {
      "text/html": [
       "<span style=\"color:cyan\"> |-Best step: 0</span>"
      ],
      "text/plain": [
       "<IPython.core.display.HTML object>"
      ]
     },
     "metadata": {},
     "output_type": "display_data"
    },
    {
     "data": {
      "text/html": [
       "<span style=\"color:#7E57C2\"><h2 style=\"font-size:16px\">Hyperparameters:</h2></span>"
      ],
      "text/plain": [
       "<IPython.core.display.HTML object>"
      ]
     },
     "metadata": {},
     "output_type": "display_data"
    },
    {
     "data": {
      "text/html": [
       "<span style=\"color:cyan\"> |-activation: tanh</span>"
      ],
      "text/plain": [
       "<IPython.core.display.HTML object>"
      ]
     },
     "metadata": {},
     "output_type": "display_data"
    },
    {
     "data": {
      "text/html": [
       "<span style=\"color:blue\"> |-first_units: 11</span>"
      ],
      "text/plain": [
       "<IPython.core.display.HTML object>"
      ]
     },
     "metadata": {},
     "output_type": "display_data"
    },
    {
     "data": {
      "text/html": [
       "<span style=\"color:cyan\"> |-num_layers: 5</span>"
      ],
      "text/plain": [
       "<IPython.core.display.HTML object>"
      ]
     },
     "metadata": {},
     "output_type": "display_data"
    },
    {
     "data": {
      "text/html": [
       "<span style=\"color:blue\"> |-tuner/bracket: 1</span>"
      ],
      "text/plain": [
       "<IPython.core.display.HTML object>"
      ]
     },
     "metadata": {},
     "output_type": "display_data"
    },
    {
     "data": {
      "text/html": [
       "<span style=\"color:cyan\"> |-tuner/epochs: 20</span>"
      ],
      "text/plain": [
       "<IPython.core.display.HTML object>"
      ]
     },
     "metadata": {},
     "output_type": "display_data"
    },
    {
     "data": {
      "text/html": [
       "<span style=\"color:blue\"> |-tuner/initial_epoch: 7</span>"
      ],
      "text/plain": [
       "<IPython.core.display.HTML object>"
      ]
     },
     "metadata": {},
     "output_type": "display_data"
    },
    {
     "data": {
      "text/html": [
       "<span style=\"color:cyan\"> |-tuner/round: 1</span>"
      ],
      "text/plain": [
       "<IPython.core.display.HTML object>"
      ]
     },
     "metadata": {},
     "output_type": "display_data"
    },
    {
     "data": {
      "text/html": [
       "<span style=\"color:blue\"> |-tuner/trial_id: 6ceadb467c5aa8cbda5c9cb5d6e3d73c</span>"
      ],
      "text/plain": [
       "<IPython.core.display.HTML object>"
      ]
     },
     "metadata": {},
     "output_type": "display_data"
    },
    {
     "data": {
      "text/html": [
       "<span style=\"color:cyan\"> |-units_0: 26</span>"
      ],
      "text/plain": [
       "<IPython.core.display.HTML object>"
      ]
     },
     "metadata": {},
     "output_type": "display_data"
    },
    {
     "data": {
      "text/html": [
       "<span style=\"color:blue\"> |-units_1: 6</span>"
      ],
      "text/plain": [
       "<IPython.core.display.HTML object>"
      ]
     },
     "metadata": {},
     "output_type": "display_data"
    },
    {
     "data": {
      "text/html": [
       "<span style=\"color:cyan\"> |-units_2: 26</span>"
      ],
      "text/plain": [
       "<IPython.core.display.HTML object>"
      ]
     },
     "metadata": {},
     "output_type": "display_data"
    },
    {
     "data": {
      "text/html": [
       "<span style=\"color:blue\"> |-units_3: 26</span>"
      ],
      "text/plain": [
       "<IPython.core.display.HTML object>"
      ]
     },
     "metadata": {},
     "output_type": "display_data"
    },
    {
     "data": {
      "text/html": [
       "<span style=\"color:cyan\"> |-units_4: 16</span>"
      ],
      "text/plain": [
       "<IPython.core.display.HTML object>"
      ]
     },
     "metadata": {},
     "output_type": "display_data"
    },
    {
     "name": "stdout",
     "output_type": "stream",
     "text": [
      "Train on 750 samples, validate on 250 samples\n",
      "Epoch 8/20\n",
      "750/750 [==============================] - ETA: 15s - loss: 0.7152 - accuracy: 0.531 - 1s 1ms/sample - loss: 0.7020 - accuracy: 0.4773 - val_loss: 0.6966 - val_accuracy: 0.4920\n",
      "Epoch 9/20\n",
      "750/750 [==============================] - ETA: 0s - loss: 0.6989 - accuracy: 0.31 - 0s 116us/sample - loss: 0.6927 - accuracy: 0.4680 - val_loss: 0.6974 - val_accuracy: 0.4240\n",
      "Epoch 10/20\n",
      "750/750 [==============================] - ETA: 0s - loss: 0.6901 - accuracy: 0.46 - 0s 114us/sample - loss: 0.6906 - accuracy: 0.4667 - val_loss: 0.6995 - val_accuracy: 0.3320\n",
      "Epoch 11/20\n",
      "750/750 [==============================] - ETA: 0s - loss: 0.6899 - accuracy: 0.50 - 0s 117us/sample - loss: 0.6890 - accuracy: 0.5107 - val_loss: 0.7000 - val_accuracy: 0.4080\n",
      "Epoch 12/20\n",
      "750/750 [==============================] - ETA: 0s - loss: 0.6789 - accuracy: 0.53 - 0s 139us/sample - loss: 0.6880 - accuracy: 0.5307 - val_loss: 0.7012 - val_accuracy: 0.4080\n",
      "Epoch 13/20\n",
      "750/750 [==============================] - ETA: 0s - loss: 0.6812 - accuracy: 0.65 - 0s 118us/sample - loss: 0.6871 - accuracy: 0.5307 - val_loss: 0.7020 - val_accuracy: 0.4080\n",
      "Epoch 14/20\n",
      "750/750 [==============================] - ETA: 0s - loss: 0.6849 - accuracy: 0.43 - 0s 115us/sample - loss: 0.6860 - accuracy: 0.5307 - val_loss: 0.7024 - val_accuracy: 0.4080\n",
      "Epoch 15/20\n",
      "750/750 [==============================] - ETA: 0s - loss: 0.6657 - accuracy: 0.53 - 0s 115us/sample - loss: 0.6852 - accuracy: 0.5307 - val_loss: 0.7030 - val_accuracy: 0.4080\n",
      "Epoch 16/20\n",
      "750/750 [==============================] - ETA: 0s - loss: 0.6522 - accuracy: 0.62 - 0s 116us/sample - loss: 0.6843 - accuracy: 0.5307 - val_loss: 0.7028 - val_accuracy: 0.4080\n",
      "Epoch 17/20\n",
      "750/750 [==============================] - ETA: 0s - loss: 0.6841 - accuracy: 0.53 - 0s 119us/sample - loss: 0.6833 - accuracy: 0.5307 - val_loss: 0.7032 - val_accuracy: 0.4080\n",
      "Epoch 18/20\n",
      "750/750 [==============================] - ETA: 0s - loss: 0.6790 - accuracy: 0.56 - 0s 123us/sample - loss: 0.6821 - accuracy: 0.5307 - val_loss: 0.7026 - val_accuracy: 0.4080\n",
      "Epoch 19/20\n",
      "750/750 [==============================] - ETA: 0s - loss: 0.7027 - accuracy: 0.43 - 0s 113us/sample - loss: 0.6809 - accuracy: 0.5307 - val_loss: 0.7031 - val_accuracy: 0.4080\n",
      "Epoch 20/20\n",
      "750/750 [==============================] - ETA: 0s - loss: 0.6912 - accuracy: 0.53 - 0s 110us/sample - loss: 0.6796 - accuracy: 0.5307 - val_loss: 0.7048 - val_accuracy: 0.4080\n"
     ]
    },
    {
     "data": {
      "text/html": [
       "<span style=\"color:#4527A0\"><h1 style=\"font-size:18px\">Trial complete</h1></span>"
      ],
      "text/plain": [
       "<IPython.core.display.HTML object>"
      ]
     },
     "metadata": {},
     "output_type": "display_data"
    },
    {
     "data": {
      "text/html": [
       "<span style=\"color:#4527A0\"><h1 style=\"font-size:18px\">Trial summary</h1></span>"
      ],
      "text/plain": [
       "<IPython.core.display.HTML object>"
      ]
     },
     "metadata": {},
     "output_type": "display_data"
    },
    {
     "data": {
      "text/html": [
       "<span style=\"color:cyan\"> |-Trial ID: 2d9a4d5e3bc9965bd49c25d5c99bd261</span>"
      ],
      "text/plain": [
       "<IPython.core.display.HTML object>"
      ]
     },
     "metadata": {},
     "output_type": "display_data"
    },
    {
     "data": {
      "text/html": [
       "<span style=\"color:cyan\"> |-Score: 0.492000013589859</span>"
      ],
      "text/plain": [
       "<IPython.core.display.HTML object>"
      ]
     },
     "metadata": {},
     "output_type": "display_data"
    },
    {
     "data": {
      "text/html": [
       "<span style=\"color:cyan\"> |-Best step: 0</span>"
      ],
      "text/plain": [
       "<IPython.core.display.HTML object>"
      ]
     },
     "metadata": {},
     "output_type": "display_data"
    },
    {
     "data": {
      "text/html": [
       "<span style=\"color:#7E57C2\"><h2 style=\"font-size:16px\">Hyperparameters:</h2></span>"
      ],
      "text/plain": [
       "<IPython.core.display.HTML object>"
      ]
     },
     "metadata": {},
     "output_type": "display_data"
    },
    {
     "data": {
      "text/html": [
       "<span style=\"color:cyan\"> |-activation: relu</span>"
      ],
      "text/plain": [
       "<IPython.core.display.HTML object>"
      ]
     },
     "metadata": {},
     "output_type": "display_data"
    },
    {
     "data": {
      "text/html": [
       "<span style=\"color:blue\"> |-first_units: 11</span>"
      ],
      "text/plain": [
       "<IPython.core.display.HTML object>"
      ]
     },
     "metadata": {},
     "output_type": "display_data"
    },
    {
     "data": {
      "text/html": [
       "<span style=\"color:cyan\"> |-num_layers: 2</span>"
      ],
      "text/plain": [
       "<IPython.core.display.HTML object>"
      ]
     },
     "metadata": {},
     "output_type": "display_data"
    },
    {
     "data": {
      "text/html": [
       "<span style=\"color:blue\"> |-tuner/bracket: 1</span>"
      ],
      "text/plain": [
       "<IPython.core.display.HTML object>"
      ]
     },
     "metadata": {},
     "output_type": "display_data"
    },
    {
     "data": {
      "text/html": [
       "<span style=\"color:cyan\"> |-tuner/epochs: 20</span>"
      ],
      "text/plain": [
       "<IPython.core.display.HTML object>"
      ]
     },
     "metadata": {},
     "output_type": "display_data"
    },
    {
     "data": {
      "text/html": [
       "<span style=\"color:blue\"> |-tuner/initial_epoch: 7</span>"
      ],
      "text/plain": [
       "<IPython.core.display.HTML object>"
      ]
     },
     "metadata": {},
     "output_type": "display_data"
    },
    {
     "data": {
      "text/html": [
       "<span style=\"color:cyan\"> |-tuner/round: 1</span>"
      ],
      "text/plain": [
       "<IPython.core.display.HTML object>"
      ]
     },
     "metadata": {},
     "output_type": "display_data"
    },
    {
     "data": {
      "text/html": [
       "<span style=\"color:blue\"> |-tuner/trial_id: c67a310830f8a90b342192dacc7b31e5</span>"
      ],
      "text/plain": [
       "<IPython.core.display.HTML object>"
      ]
     },
     "metadata": {},
     "output_type": "display_data"
    },
    {
     "data": {
      "text/html": [
       "<span style=\"color:cyan\"> |-units_0: 11</span>"
      ],
      "text/plain": [
       "<IPython.core.display.HTML object>"
      ]
     },
     "metadata": {},
     "output_type": "display_data"
    },
    {
     "data": {
      "text/html": [
       "<span style=\"color:blue\"> |-units_1: 6</span>"
      ],
      "text/plain": [
       "<IPython.core.display.HTML object>"
      ]
     },
     "metadata": {},
     "output_type": "display_data"
    },
    {
     "data": {
      "text/html": [
       "<span style=\"color:cyan\"> |-units_2: 21</span>"
      ],
      "text/plain": [
       "<IPython.core.display.HTML object>"
      ]
     },
     "metadata": {},
     "output_type": "display_data"
    },
    {
     "data": {
      "text/html": [
       "<span style=\"color:blue\"> |-units_3: 1</span>"
      ],
      "text/plain": [
       "<IPython.core.display.HTML object>"
      ]
     },
     "metadata": {},
     "output_type": "display_data"
    },
    {
     "data": {
      "text/html": [
       "<span style=\"color:cyan\"> |-units_4: 26</span>"
      ],
      "text/plain": [
       "<IPython.core.display.HTML object>"
      ]
     },
     "metadata": {},
     "output_type": "display_data"
    },
    {
     "name": "stdout",
     "output_type": "stream",
     "text": [
      "Train on 750 samples, validate on 250 samples\n",
      "Epoch 1/20\n",
      "750/750 [==============================] - ETA: 19s - loss: 0.7092 - accuracy: 0.281 - ETA: 0s - loss: 0.6925 - accuracy: 0.488 - 1s 2ms/sample - loss: 0.6915 - accuracy: 0.4960 - val_loss: 0.6995 - val_accuracy: 0.4080\n",
      "Epoch 2/20\n",
      "750/750 [==============================] - ETA: 0s - loss: 0.6960 - accuracy: 0.46 - ETA: 0s - loss: 0.6889 - accuracy: 0.50 - 0s 208us/sample - loss: 0.6833 - accuracy: 0.5307 - val_loss: 0.7062 - val_accuracy: 0.4080\n",
      "Epoch 3/20\n",
      "750/750 [==============================] - ETA: 0s - loss: 0.6644 - accuracy: 0.59 - ETA: 0s - loss: 0.6824 - accuracy: 0.52 - 0s 189us/sample - loss: 0.6795 - accuracy: 0.5307 - val_loss: 0.7116 - val_accuracy: 0.4080\n",
      "Epoch 4/20\n",
      "750/750 [==============================] - ETA: 0s - loss: 0.6603 - accuracy: 0.59 - ETA: 0s - loss: 0.6716 - accuracy: 0.54 - 0s 166us/sample - loss: 0.6744 - accuracy: 0.5307 - val_loss: 0.7071 - val_accuracy: 0.4080\n",
      "Epoch 5/20\n",
      "750/750 [==============================] - ETA: 0s - loss: 0.6242 - accuracy: 0.68 - ETA: 0s - loss: 0.6690 - accuracy: 0.52 - 0s 159us/sample - loss: 0.6663 - accuracy: 0.5307 - val_loss: 0.7014 - val_accuracy: 0.4080\n",
      "Epoch 6/20\n",
      "750/750 [==============================] - ETA: 0s - loss: 0.6264 - accuracy: 0.65 - ETA: 0s - loss: 0.6566 - accuracy: 0.52 - 0s 177us/sample - loss: 0.6526 - accuracy: 0.5320 - val_loss: 0.6882 - val_accuracy: 0.4080\n",
      "Epoch 7/20\n",
      "750/750 [==============================] - ETA: 0s - loss: 0.6124 - accuracy: 0.62 - ETA: 0s - loss: 0.6277 - accuracy: 0.56 - 0s 188us/sample - loss: 0.6265 - accuracy: 0.5627 - val_loss: 0.6641 - val_accuracy: 0.4360\n",
      "Epoch 8/20\n",
      "750/750 [==============================] - ETA: 0s - loss: 0.5876 - accuracy: 0.59 - ETA: 0s - loss: 0.5786 - accuracy: 0.69 - 0s 186us/sample - loss: 0.5737 - accuracy: 0.7027 - val_loss: 0.5723 - val_accuracy: 0.8160\n",
      "Epoch 9/20\n",
      "750/750 [==============================] - ETA: 0s - loss: 0.5690 - accuracy: 0.78 - ETA: 0s - loss: 0.5000 - accuracy: 0.81 - 0s 153us/sample - loss: 0.4949 - accuracy: 0.8307 - val_loss: 0.4878 - val_accuracy: 0.8000\n",
      "Epoch 10/20\n",
      "750/750 [==============================] - ETA: 0s - loss: 0.4248 - accuracy: 0.87 - ETA: 0s - loss: 0.3965 - accuracy: 0.89 - 0s 195us/sample - loss: 0.3856 - accuracy: 0.9013 - val_loss: 0.3754 - val_accuracy: 0.8760\n",
      "Epoch 11/20\n",
      "750/750 [==============================] - ETA: 0s - loss: 0.3244 - accuracy: 0.90 - ETA: 0s - loss: 0.2755 - accuracy: 0.93 - 0s 181us/sample - loss: 0.2728 - accuracy: 0.9413 - val_loss: 0.2321 - val_accuracy: 0.9520\n",
      "Epoch 12/20\n",
      "750/750 [==============================] - ETA: 0s - loss: 0.2671 - accuracy: 0.96 - ETA: 0s - loss: 0.2046 - accuracy: 0.95 - 0s 193us/sample - loss: 0.2015 - accuracy: 0.9520 - val_loss: 0.1676 - val_accuracy: 0.9600\n",
      "Epoch 13/20\n",
      "750/750 [==============================] - ETA: 0s - loss: 0.1793 - accuracy: 0.96 - ETA: 0s - loss: 0.1596 - accuracy: 0.95 - 0s 221us/sample - loss: 0.1542 - accuracy: 0.9560 - val_loss: 0.1291 - val_accuracy: 0.9760\n",
      "Epoch 14/20\n",
      "750/750 [==============================] - ETA: 0s - loss: 0.0996 - accuracy: 1.00 - ETA: 0s - loss: 0.1191 - accuracy: 0.96 - 0s 160us/sample - loss: 0.1196 - accuracy: 0.9653 - val_loss: 0.1089 - val_accuracy: 0.9720\n",
      "Epoch 15/20\n",
      "750/750 [==============================] - ETA: 0s - loss: 0.1187 - accuracy: 0.96 - ETA: 0s - loss: 0.1042 - accuracy: 0.96 - 0s 163us/sample - loss: 0.1052 - accuracy: 0.9667 - val_loss: 0.1135 - val_accuracy: 0.9640\n",
      "Epoch 16/20\n",
      "750/750 [==============================] - ETA: 0s - loss: 0.0489 - accuracy: 1.00 - 0s 137us/sample - loss: 0.0905 - accuracy: 0.9733 - val_loss: 0.0956 - val_accuracy: 0.9680\n",
      "Epoch 17/20\n",
      "750/750 [==============================] - ETA: 0s - loss: 0.0820 - accuracy: 0.96 - ETA: 0s - loss: 0.0909 - accuracy: 0.97 - 0s 144us/sample - loss: 0.0882 - accuracy: 0.9720 - val_loss: 0.1170 - val_accuracy: 0.9640\n",
      "Epoch 18/20\n",
      "750/750 [==============================] - ETA: 0s - loss: 0.1057 - accuracy: 1.00 - 0s 124us/sample - loss: 0.0845 - accuracy: 0.9773 - val_loss: 0.0981 - val_accuracy: 0.9720\n",
      "Epoch 19/20\n",
      "750/750 [==============================] - ETA: 0s - loss: 0.1148 - accuracy: 0.96 - 0s 156us/sample - loss: 0.0868 - accuracy: 0.9680 - val_loss: 0.0849 - val_accuracy: 0.9840\n",
      "Epoch 20/20\n",
      "750/750 [==============================] - ETA: 0s - loss: 0.0625 - accuracy: 1.00 - ETA: 0s - loss: 0.0845 - accuracy: 0.96 - 0s 174us/sample - loss: 0.0758 - accuracy: 0.9747 - val_loss: 0.1441 - val_accuracy: 0.9600\n"
     ]
    },
    {
     "data": {
      "text/html": [
       "<span style=\"color:#4527A0\"><h1 style=\"font-size:18px\">Trial complete</h1></span>"
      ],
      "text/plain": [
       "<IPython.core.display.HTML object>"
      ]
     },
     "metadata": {},
     "output_type": "display_data"
    },
    {
     "data": {
      "text/html": [
       "<span style=\"color:#4527A0\"><h1 style=\"font-size:18px\">Trial summary</h1></span>"
      ],
      "text/plain": [
       "<IPython.core.display.HTML object>"
      ]
     },
     "metadata": {},
     "output_type": "display_data"
    },
    {
     "data": {
      "text/html": [
       "<span style=\"color:cyan\"> |-Trial ID: 6b5065441e40b9fe61a1327fdd821296</span>"
      ],
      "text/plain": [
       "<IPython.core.display.HTML object>"
      ]
     },
     "metadata": {},
     "output_type": "display_data"
    },
    {
     "data": {
      "text/html": [
       "<span style=\"color:cyan\"> |-Score: 0.984000027179718</span>"
      ],
      "text/plain": [
       "<IPython.core.display.HTML object>"
      ]
     },
     "metadata": {},
     "output_type": "display_data"
    },
    {
     "data": {
      "text/html": [
       "<span style=\"color:cyan\"> |-Best step: 0</span>"
      ],
      "text/plain": [
       "<IPython.core.display.HTML object>"
      ]
     },
     "metadata": {},
     "output_type": "display_data"
    },
    {
     "data": {
      "text/html": [
       "<span style=\"color:#7E57C2\"><h2 style=\"font-size:16px\">Hyperparameters:</h2></span>"
      ],
      "text/plain": [
       "<IPython.core.display.HTML object>"
      ]
     },
     "metadata": {},
     "output_type": "display_data"
    },
    {
     "data": {
      "text/html": [
       "<span style=\"color:cyan\"> |-activation: relu</span>"
      ],
      "text/plain": [
       "<IPython.core.display.HTML object>"
      ]
     },
     "metadata": {},
     "output_type": "display_data"
    },
    {
     "data": {
      "text/html": [
       "<span style=\"color:blue\"> |-first_units: 16</span>"
      ],
      "text/plain": [
       "<IPython.core.display.HTML object>"
      ]
     },
     "metadata": {},
     "output_type": "display_data"
    },
    {
     "data": {
      "text/html": [
       "<span style=\"color:cyan\"> |-num_layers: 4</span>"
      ],
      "text/plain": [
       "<IPython.core.display.HTML object>"
      ]
     },
     "metadata": {},
     "output_type": "display_data"
    },
    {
     "data": {
      "text/html": [
       "<span style=\"color:blue\"> |-tuner/bracket: 0</span>"
      ],
      "text/plain": [
       "<IPython.core.display.HTML object>"
      ]
     },
     "metadata": {},
     "output_type": "display_data"
    },
    {
     "data": {
      "text/html": [
       "<span style=\"color:cyan\"> |-tuner/epochs: 20</span>"
      ],
      "text/plain": [
       "<IPython.core.display.HTML object>"
      ]
     },
     "metadata": {},
     "output_type": "display_data"
    },
    {
     "data": {
      "text/html": [
       "<span style=\"color:blue\"> |-tuner/initial_epoch: 0</span>"
      ],
      "text/plain": [
       "<IPython.core.display.HTML object>"
      ]
     },
     "metadata": {},
     "output_type": "display_data"
    },
    {
     "data": {
      "text/html": [
       "<span style=\"color:cyan\"> |-tuner/round: 0</span>"
      ],
      "text/plain": [
       "<IPython.core.display.HTML object>"
      ]
     },
     "metadata": {},
     "output_type": "display_data"
    },
    {
     "data": {
      "text/html": [
       "<span style=\"color:blue\"> |-units_0: 26</span>"
      ],
      "text/plain": [
       "<IPython.core.display.HTML object>"
      ]
     },
     "metadata": {},
     "output_type": "display_data"
    },
    {
     "data": {
      "text/html": [
       "<span style=\"color:cyan\"> |-units_1: 26</span>"
      ],
      "text/plain": [
       "<IPython.core.display.HTML object>"
      ]
     },
     "metadata": {},
     "output_type": "display_data"
    },
    {
     "data": {
      "text/html": [
       "<span style=\"color:blue\"> |-units_2: 26</span>"
      ],
      "text/plain": [
       "<IPython.core.display.HTML object>"
      ]
     },
     "metadata": {},
     "output_type": "display_data"
    },
    {
     "data": {
      "text/html": [
       "<span style=\"color:cyan\"> |-units_3: 21</span>"
      ],
      "text/plain": [
       "<IPython.core.display.HTML object>"
      ]
     },
     "metadata": {},
     "output_type": "display_data"
    },
    {
     "data": {
      "text/html": [
       "<span style=\"color:blue\"> |-units_4: 1</span>"
      ],
      "text/plain": [
       "<IPython.core.display.HTML object>"
      ]
     },
     "metadata": {},
     "output_type": "display_data"
    },
    {
     "name": "stdout",
     "output_type": "stream",
     "text": [
      "Train on 750 samples, validate on 250 samples\n",
      "Epoch 1/20\n",
      "750/750 [==============================] - ETA: 22s - loss: 0.8339 - accuracy: 0.375 - ETA: 0s - loss: 0.7031 - accuracy: 0.500 - 1s 2ms/sample - loss: 0.7024 - accuracy: 0.5000 - val_loss: 0.6952 - val_accuracy: 0.5080\n",
      "Epoch 2/20\n",
      "750/750 [==============================] - ETA: 0s - loss: 0.6820 - accuracy: 0.56 - ETA: 0s - loss: 0.6929 - accuracy: 0.50 - 0s 161us/sample - loss: 0.6930 - accuracy: 0.5013 - val_loss: 0.7104 - val_accuracy: 0.4280\n",
      "Epoch 3/20\n",
      "750/750 [==============================] - ETA: 0s - loss: 0.7000 - accuracy: 0.53 - ETA: 0s - loss: 0.6930 - accuracy: 0.51 - 0s 153us/sample - loss: 0.6916 - accuracy: 0.5293 - val_loss: 0.7034 - val_accuracy: 0.4080\n",
      "Epoch 4/20\n",
      "750/750 [==============================] - ETA: 0s - loss: 0.6880 - accuracy: 0.53 - ETA: 0s - loss: 0.6900 - accuracy: 0.53 - 0s 171us/sample - loss: 0.6898 - accuracy: 0.5307 - val_loss: 0.6948 - val_accuracy: 0.4640\n",
      "Epoch 5/20\n",
      "750/750 [==============================] - ETA: 0s - loss: 0.6883 - accuracy: 0.53 - ETA: 0s - loss: 0.6843 - accuracy: 0.56 - 0s 158us/sample - loss: 0.6864 - accuracy: 0.5600 - val_loss: 0.7049 - val_accuracy: 0.5040\n",
      "Epoch 6/20\n",
      "750/750 [==============================] - ETA: 0s - loss: 0.6666 - accuracy: 0.68 - ETA: 0s - loss: 0.6827 - accuracy: 0.59 - 0s 194us/sample - loss: 0.6820 - accuracy: 0.6067 - val_loss: 0.6796 - val_accuracy: 0.7000\n",
      "Epoch 7/20\n",
      "750/750 [==============================] - ETA: 0s - loss: 0.6767 - accuracy: 0.71 - ETA: 0s - loss: 0.6814 - accuracy: 0.59 - 0s 185us/sample - loss: 0.6810 - accuracy: 0.6000 - val_loss: 0.6813 - val_accuracy: 0.5800\n",
      "Epoch 8/20\n",
      "750/750 [==============================] - ETA: 0s - loss: 0.6655 - accuracy: 0.75 - ETA: 0s - loss: 0.6781 - accuracy: 0.54 - 0s 148us/sample - loss: 0.6785 - accuracy: 0.5427 - val_loss: 0.6817 - val_accuracy: 0.5320\n",
      "Epoch 9/20\n",
      "750/750 [==============================] - ETA: 0s - loss: 0.6681 - accuracy: 0.65 - ETA: 0s - loss: 0.6755 - accuracy: 0.60 - 0s 148us/sample - loss: 0.6744 - accuracy: 0.6147 - val_loss: 0.6624 - val_accuracy: 0.6600\n",
      "Epoch 10/20\n",
      "750/750 [==============================] - ETA: 0s - loss: 0.6762 - accuracy: 0.62 - ETA: 0s - loss: 0.6662 - accuracy: 0.60 - 0s 154us/sample - loss: 0.6661 - accuracy: 0.6000 - val_loss: 0.6706 - val_accuracy: 0.5040\n",
      "Epoch 11/20\n",
      "750/750 [==============================] - ETA: 0s - loss: 0.6635 - accuracy: 0.53 - ETA: 0s - loss: 0.6617 - accuracy: 0.61 - 0s 273us/sample - loss: 0.6557 - accuracy: 0.6853 - val_loss: 0.6570 - val_accuracy: 0.7160\n",
      "Epoch 12/20\n",
      "750/750 [==============================] - ETA: 0s - loss: 0.6176 - accuracy: 0.87 - ETA: 0s - loss: 0.6420 - accuracy: 0.79 - 0s 247us/sample - loss: 0.6425 - accuracy: 0.7787 - val_loss: 0.6367 - val_accuracy: 0.8560\n",
      "Epoch 13/20\n",
      "750/750 [==============================] - ETA: 0s - loss: 0.6179 - accuracy: 0.93 - ETA: 0s - loss: 0.6266 - accuracy: 0.76 - 0s 187us/sample - loss: 0.6213 - accuracy: 0.7547 - val_loss: 0.6384 - val_accuracy: 0.5880\n",
      "Epoch 14/20\n",
      "750/750 [==============================] - ETA: 0s - loss: 0.6326 - accuracy: 0.53 - ETA: 0s - loss: 0.6010 - accuracy: 0.72 - 0s 156us/sample - loss: 0.5999 - accuracy: 0.7387 - val_loss: 0.5910 - val_accuracy: 0.8320\n",
      "Epoch 15/20\n",
      "750/750 [==============================] - ETA: 0s - loss: 0.5876 - accuracy: 0.90 - ETA: 0s - loss: 0.5613 - accuracy: 0.86 - 0s 144us/sample - loss: 0.5588 - accuracy: 0.8680 - val_loss: 0.5615 - val_accuracy: 0.7960\n",
      "Epoch 16/20\n",
      "750/750 [==============================] - ETA: 0s - loss: 0.5198 - accuracy: 0.84 - ETA: 0s - loss: 0.5245 - accuracy: 0.83 - 0s 182us/sample - loss: 0.5180 - accuracy: 0.8440 - val_loss: 0.4807 - val_accuracy: 0.9160\n",
      "Epoch 17/20\n",
      "750/750 [==============================] - ETA: 0s - loss: 0.4289 - accuracy: 0.93 - ETA: 0s - loss: 0.4630 - accuracy: 0.85 - 0s 148us/sample - loss: 0.4636 - accuracy: 0.8573 - val_loss: 0.5421 - val_accuracy: 0.6840\n",
      "Epoch 18/20\n",
      "750/750 [==============================] - ETA: 0s - loss: 0.3726 - accuracy: 0.84 - ETA: 0s - loss: 0.4142 - accuracy: 0.82 - 0s 152us/sample - loss: 0.4152 - accuracy: 0.8240 - val_loss: 0.4058 - val_accuracy: 0.8920\n",
      "Epoch 19/20\n",
      "750/750 [==============================] - ETA: 0s - loss: 0.3133 - accuracy: 0.96 - 0s 185us/sample - loss: 0.3366 - accuracy: 0.9053 - val_loss: 0.3332 - val_accuracy: 0.9240\n",
      "Epoch 20/20\n",
      "750/750 [==============================] - ETA: 0s - loss: 0.3090 - accuracy: 0.90 - ETA: 0s - loss: 0.2674 - accuracy: 0.94 - 0s 197us/sample - loss: 0.2652 - accuracy: 0.9520 - val_loss: 0.2279 - val_accuracy: 0.9680\n"
     ]
    },
    {
     "data": {
      "text/html": [
       "<span style=\"color:#4527A0\"><h1 style=\"font-size:18px\">Trial complete</h1></span>"
      ],
      "text/plain": [
       "<IPython.core.display.HTML object>"
      ]
     },
     "metadata": {},
     "output_type": "display_data"
    },
    {
     "data": {
      "text/html": [
       "<span style=\"color:#4527A0\"><h1 style=\"font-size:18px\">Trial summary</h1></span>"
      ],
      "text/plain": [
       "<IPython.core.display.HTML object>"
      ]
     },
     "metadata": {},
     "output_type": "display_data"
    },
    {
     "data": {
      "text/html": [
       "<span style=\"color:cyan\"> |-Trial ID: 374767ee496c4b2d7542e8a69f32880a</span>"
      ],
      "text/plain": [
       "<IPython.core.display.HTML object>"
      ]
     },
     "metadata": {},
     "output_type": "display_data"
    },
    {
     "data": {
      "text/html": [
       "<span style=\"color:cyan\"> |-Score: 0.9679999947547913</span>"
      ],
      "text/plain": [
       "<IPython.core.display.HTML object>"
      ]
     },
     "metadata": {},
     "output_type": "display_data"
    },
    {
     "data": {
      "text/html": [
       "<span style=\"color:cyan\"> |-Best step: 0</span>"
      ],
      "text/plain": [
       "<IPython.core.display.HTML object>"
      ]
     },
     "metadata": {},
     "output_type": "display_data"
    },
    {
     "data": {
      "text/html": [
       "<span style=\"color:#7E57C2\"><h2 style=\"font-size:16px\">Hyperparameters:</h2></span>"
      ],
      "text/plain": [
       "<IPython.core.display.HTML object>"
      ]
     },
     "metadata": {},
     "output_type": "display_data"
    },
    {
     "data": {
      "text/html": [
       "<span style=\"color:cyan\"> |-activation: tanh</span>"
      ],
      "text/plain": [
       "<IPython.core.display.HTML object>"
      ]
     },
     "metadata": {},
     "output_type": "display_data"
    },
    {
     "data": {
      "text/html": [
       "<span style=\"color:blue\"> |-first_units: 26</span>"
      ],
      "text/plain": [
       "<IPython.core.display.HTML object>"
      ]
     },
     "metadata": {},
     "output_type": "display_data"
    },
    {
     "data": {
      "text/html": [
       "<span style=\"color:cyan\"> |-num_layers: 5</span>"
      ],
      "text/plain": [
       "<IPython.core.display.HTML object>"
      ]
     },
     "metadata": {},
     "output_type": "display_data"
    },
    {
     "data": {
      "text/html": [
       "<span style=\"color:blue\"> |-tuner/bracket: 0</span>"
      ],
      "text/plain": [
       "<IPython.core.display.HTML object>"
      ]
     },
     "metadata": {},
     "output_type": "display_data"
    },
    {
     "data": {
      "text/html": [
       "<span style=\"color:cyan\"> |-tuner/epochs: 20</span>"
      ],
      "text/plain": [
       "<IPython.core.display.HTML object>"
      ]
     },
     "metadata": {},
     "output_type": "display_data"
    },
    {
     "data": {
      "text/html": [
       "<span style=\"color:blue\"> |-tuner/initial_epoch: 0</span>"
      ],
      "text/plain": [
       "<IPython.core.display.HTML object>"
      ]
     },
     "metadata": {},
     "output_type": "display_data"
    },
    {
     "data": {
      "text/html": [
       "<span style=\"color:cyan\"> |-tuner/round: 0</span>"
      ],
      "text/plain": [
       "<IPython.core.display.HTML object>"
      ]
     },
     "metadata": {},
     "output_type": "display_data"
    },
    {
     "data": {
      "text/html": [
       "<span style=\"color:blue\"> |-units_0: 26</span>"
      ],
      "text/plain": [
       "<IPython.core.display.HTML object>"
      ]
     },
     "metadata": {},
     "output_type": "display_data"
    },
    {
     "data": {
      "text/html": [
       "<span style=\"color:cyan\"> |-units_1: 16</span>"
      ],
      "text/plain": [
       "<IPython.core.display.HTML object>"
      ]
     },
     "metadata": {},
     "output_type": "display_data"
    },
    {
     "data": {
      "text/html": [
       "<span style=\"color:blue\"> |-units_2: 21</span>"
      ],
      "text/plain": [
       "<IPython.core.display.HTML object>"
      ]
     },
     "metadata": {},
     "output_type": "display_data"
    },
    {
     "data": {
      "text/html": [
       "<span style=\"color:cyan\"> |-units_3: 11</span>"
      ],
      "text/plain": [
       "<IPython.core.display.HTML object>"
      ]
     },
     "metadata": {},
     "output_type": "display_data"
    },
    {
     "data": {
      "text/html": [
       "<span style=\"color:blue\"> |-units_4: 16</span>"
      ],
      "text/plain": [
       "<IPython.core.display.HTML object>"
      ]
     },
     "metadata": {},
     "output_type": "display_data"
    },
    {
     "name": "stdout",
     "output_type": "stream",
     "text": [
      "Train on 750 samples, validate on 250 samples\n",
      "Epoch 1/20\n",
      "750/750 [==============================] - ETA: 20s - loss: 0.6880 - accuracy: 0.562 - 1s 2ms/sample - loss: 0.6905 - accuracy: 0.5307 - val_loss: 0.6982 - val_accuracy: 0.4080\n",
      "Epoch 2/20\n",
      "750/750 [==============================] - ETA: 0s - loss: 0.6720 - accuracy: 0.71 - 0s 131us/sample - loss: 0.6887 - accuracy: 0.5307 - val_loss: 0.6985 - val_accuracy: 0.4080\n",
      "Epoch 3/20\n",
      "750/750 [==============================] - ETA: 0s - loss: 0.6716 - accuracy: 0.65 - ETA: 0s - loss: 0.6877 - accuracy: 0.53 - 0s 139us/sample - loss: 0.6877 - accuracy: 0.5307 - val_loss: 0.7016 - val_accuracy: 0.4080\n",
      "Epoch 4/20\n",
      "750/750 [==============================] - ETA: 0s - loss: 0.7110 - accuracy: 0.43 - 0s 131us/sample - loss: 0.6869 - accuracy: 0.5307 - val_loss: 0.7000 - val_accuracy: 0.4080\n",
      "Epoch 5/20\n",
      "750/750 [==============================] - ETA: 0s - loss: 0.6689 - accuracy: 0.62 - 0s 130us/sample - loss: 0.6858 - accuracy: 0.5307 - val_loss: 0.7025 - val_accuracy: 0.4080\n",
      "Epoch 6/20\n",
      "750/750 [==============================] - ETA: 0s - loss: 0.6739 - accuracy: 0.50 - 0s 132us/sample - loss: 0.6844 - accuracy: 0.5307 - val_loss: 0.7010 - val_accuracy: 0.4080\n",
      "Epoch 7/20\n",
      "750/750 [==============================] - ETA: 0s - loss: 0.6705 - accuracy: 0.62 - ETA: 0s - loss: 0.6829 - accuracy: 0.51 - 0s 176us/sample - loss: 0.6830 - accuracy: 0.5133 - val_loss: 0.6968 - val_accuracy: 0.5040\n",
      "Epoch 8/20\n",
      "750/750 [==============================] - ETA: 0s - loss: 0.6869 - accuracy: 0.50 - 0s 123us/sample - loss: 0.6811 - accuracy: 0.5187 - val_loss: 0.6950 - val_accuracy: 0.5000\n",
      "Epoch 9/20\n",
      "750/750 [==============================] - ETA: 0s - loss: 0.6614 - accuracy: 0.62 - ETA: 0s - loss: 0.6792 - accuracy: 0.52 - 0s 182us/sample - loss: 0.6785 - accuracy: 0.5227 - val_loss: 0.6943 - val_accuracy: 0.5080\n",
      "Epoch 10/20\n",
      "750/750 [==============================] - ETA: 0s - loss: 0.6645 - accuracy: 0.56 - 0s 137us/sample - loss: 0.6759 - accuracy: 0.5320 - val_loss: 0.6919 - val_accuracy: 0.5000\n",
      "Epoch 11/20\n",
      "750/750 [==============================] - ETA: 0s - loss: 0.6785 - accuracy: 0.50 - ETA: 0s - loss: 0.6685 - accuracy: 0.54 - 0s 139us/sample - loss: 0.6688 - accuracy: 0.5440 - val_loss: 0.6926 - val_accuracy: 0.4080\n",
      "Epoch 12/20\n",
      "750/750 [==============================] - ETA: 0s - loss: 0.6833 - accuracy: 0.50 - ETA: 0s - loss: 0.6616 - accuracy: 0.53 - 0s 153us/sample - loss: 0.6619 - accuracy: 0.5307 - val_loss: 0.6843 - val_accuracy: 0.4120\n",
      "Epoch 13/20\n",
      "750/750 [==============================] - ETA: 0s - loss: 0.6429 - accuracy: 0.53 - ETA: 0s - loss: 0.6535 - accuracy: 0.56 - 0s 142us/sample - loss: 0.6530 - accuracy: 0.5640 - val_loss: 0.6741 - val_accuracy: 0.4760\n",
      "Epoch 14/20\n",
      "750/750 [==============================] - ETA: 0s - loss: 0.6651 - accuracy: 0.46 - 0s 131us/sample - loss: 0.6394 - accuracy: 0.5947 - val_loss: 0.6663 - val_accuracy: 0.4720\n",
      "Epoch 15/20\n",
      "750/750 [==============================] - ETA: 0s - loss: 0.6318 - accuracy: 0.53 - 0s 159us/sample - loss: 0.6222 - accuracy: 0.6960 - val_loss: 0.6424 - val_accuracy: 0.5560\n",
      "Epoch 16/20\n",
      "750/750 [==============================] - ETA: 0s - loss: 0.6236 - accuracy: 0.68 - 0s 160us/sample - loss: 0.5957 - accuracy: 0.6747 - val_loss: 0.6093 - val_accuracy: 0.7080\n",
      "Epoch 17/20\n",
      "750/750 [==============================] - ETA: 0s - loss: 0.5575 - accuracy: 0.81 - 0s 152us/sample - loss: 0.5609 - accuracy: 0.8067 - val_loss: 0.5701 - val_accuracy: 0.8440\n",
      "Epoch 18/20\n",
      "750/750 [==============================] - ETA: 0s - loss: 0.5307 - accuracy: 0.84 - 0s 151us/sample - loss: 0.5196 - accuracy: 0.8573 - val_loss: 0.5220 - val_accuracy: 0.8960\n",
      "Epoch 19/20\n",
      "750/750 [==============================] - ETA: 0s - loss: 0.4815 - accuracy: 0.96 - 0s 160us/sample - loss: 0.4695 - accuracy: 0.8760 - val_loss: 0.4657 - val_accuracy: 0.9560\n",
      "Epoch 20/20\n",
      "750/750 [==============================] - ETA: 0s - loss: 0.4593 - accuracy: 0.96 - ETA: 0s - loss: 0.4263 - accuracy: 0.91 - 0s 147us/sample - loss: 0.4234 - accuracy: 0.9173 - val_loss: 0.4273 - val_accuracy: 0.9400\n"
     ]
    },
    {
     "data": {
      "text/html": [
       "<span style=\"color:#4527A0\"><h1 style=\"font-size:18px\">Trial complete</h1></span>"
      ],
      "text/plain": [
       "<IPython.core.display.HTML object>"
      ]
     },
     "metadata": {},
     "output_type": "display_data"
    },
    {
     "data": {
      "text/html": [
       "<span style=\"color:#4527A0\"><h1 style=\"font-size:18px\">Trial summary</h1></span>"
      ],
      "text/plain": [
       "<IPython.core.display.HTML object>"
      ]
     },
     "metadata": {},
     "output_type": "display_data"
    },
    {
     "data": {
      "text/html": [
       "<span style=\"color:cyan\"> |-Trial ID: 1c5c8a5127fb1f28cc59f4d7d67a09e2</span>"
      ],
      "text/plain": [
       "<IPython.core.display.HTML object>"
      ]
     },
     "metadata": {},
     "output_type": "display_data"
    },
    {
     "data": {
      "text/html": [
       "<span style=\"color:cyan\"> |-Score: 0.9559999704360962</span>"
      ],
      "text/plain": [
       "<IPython.core.display.HTML object>"
      ]
     },
     "metadata": {},
     "output_type": "display_data"
    },
    {
     "data": {
      "text/html": [
       "<span style=\"color:cyan\"> |-Best step: 0</span>"
      ],
      "text/plain": [
       "<IPython.core.display.HTML object>"
      ]
     },
     "metadata": {},
     "output_type": "display_data"
    },
    {
     "data": {
      "text/html": [
       "<span style=\"color:#7E57C2\"><h2 style=\"font-size:16px\">Hyperparameters:</h2></span>"
      ],
      "text/plain": [
       "<IPython.core.display.HTML object>"
      ]
     },
     "metadata": {},
     "output_type": "display_data"
    },
    {
     "data": {
      "text/html": [
       "<span style=\"color:cyan\"> |-activation: relu</span>"
      ],
      "text/plain": [
       "<IPython.core.display.HTML object>"
      ]
     },
     "metadata": {},
     "output_type": "display_data"
    },
    {
     "data": {
      "text/html": [
       "<span style=\"color:blue\"> |-first_units: 26</span>"
      ],
      "text/plain": [
       "<IPython.core.display.HTML object>"
      ]
     },
     "metadata": {},
     "output_type": "display_data"
    },
    {
     "data": {
      "text/html": [
       "<span style=\"color:cyan\"> |-num_layers: 3</span>"
      ],
      "text/plain": [
       "<IPython.core.display.HTML object>"
      ]
     },
     "metadata": {},
     "output_type": "display_data"
    },
    {
     "data": {
      "text/html": [
       "<span style=\"color:blue\"> |-tuner/bracket: 0</span>"
      ],
      "text/plain": [
       "<IPython.core.display.HTML object>"
      ]
     },
     "metadata": {},
     "output_type": "display_data"
    },
    {
     "data": {
      "text/html": [
       "<span style=\"color:cyan\"> |-tuner/epochs: 20</span>"
      ],
      "text/plain": [
       "<IPython.core.display.HTML object>"
      ]
     },
     "metadata": {},
     "output_type": "display_data"
    },
    {
     "data": {
      "text/html": [
       "<span style=\"color:blue\"> |-tuner/initial_epoch: 0</span>"
      ],
      "text/plain": [
       "<IPython.core.display.HTML object>"
      ]
     },
     "metadata": {},
     "output_type": "display_data"
    },
    {
     "data": {
      "text/html": [
       "<span style=\"color:cyan\"> |-tuner/round: 0</span>"
      ],
      "text/plain": [
       "<IPython.core.display.HTML object>"
      ]
     },
     "metadata": {},
     "output_type": "display_data"
    },
    {
     "data": {
      "text/html": [
       "<span style=\"color:blue\"> |-units_0: 1</span>"
      ],
      "text/plain": [
       "<IPython.core.display.HTML object>"
      ]
     },
     "metadata": {},
     "output_type": "display_data"
    },
    {
     "data": {
      "text/html": [
       "<span style=\"color:cyan\"> |-units_1: 11</span>"
      ],
      "text/plain": [
       "<IPython.core.display.HTML object>"
      ]
     },
     "metadata": {},
     "output_type": "display_data"
    },
    {
     "data": {
      "text/html": [
       "<span style=\"color:blue\"> |-units_2: 26</span>"
      ],
      "text/plain": [
       "<IPython.core.display.HTML object>"
      ]
     },
     "metadata": {},
     "output_type": "display_data"
    },
    {
     "data": {
      "text/html": [
       "<span style=\"color:cyan\"> |-units_3: 6</span>"
      ],
      "text/plain": [
       "<IPython.core.display.HTML object>"
      ]
     },
     "metadata": {},
     "output_type": "display_data"
    },
    {
     "data": {
      "text/html": [
       "<span style=\"color:blue\"> |-units_4: 16</span>"
      ],
      "text/plain": [
       "<IPython.core.display.HTML object>"
      ]
     },
     "metadata": {},
     "output_type": "display_data"
    },
    {
     "name": "stdout",
     "output_type": "stream",
     "text": [
      "Train on 750 samples, validate on 250 samples\n",
      "Epoch 1/20\n",
      "750/750 [==============================] - ETA: 20s - loss: 0.6938 - accuracy: 0.562 - 1s 2ms/sample - loss: 0.6943 - accuracy: 0.5107 - val_loss: 0.7065 - val_accuracy: 0.3840\n",
      "Epoch 2/20\n",
      "750/750 [==============================] - ETA: 0s - loss: 0.6933 - accuracy: 0.46 - ETA: 0s - loss: 0.6925 - accuracy: 0.47 - 0s 178us/sample - loss: 0.6924 - accuracy: 0.4800 - val_loss: 0.7038 - val_accuracy: 0.4120\n",
      "Epoch 3/20\n",
      "750/750 [==============================] - ETA: 0s - loss: 0.7019 - accuracy: 0.40 - ETA: 0s - loss: 0.6910 - accuracy: 0.50 - 0s 144us/sample - loss: 0.6913 - accuracy: 0.5040 - val_loss: 0.7086 - val_accuracy: 0.4040\n",
      "Epoch 4/20\n",
      "750/750 [==============================] - ETA: 0s - loss: 0.6686 - accuracy: 0.68 - 0s 169us/sample - loss: 0.6900 - accuracy: 0.5200 - val_loss: 0.7017 - val_accuracy: 0.4160\n",
      "Epoch 5/20\n",
      "750/750 [==============================] - ETA: 0s - loss: 0.7017 - accuracy: 0.31 - 0s 160us/sample - loss: 0.6900 - accuracy: 0.5267 - val_loss: 0.6960 - val_accuracy: 0.4320\n",
      "Epoch 6/20\n",
      "750/750 [==============================] - ETA: 0s - loss: 0.6893 - accuracy: 0.56 - 0s 158us/sample - loss: 0.6878 - accuracy: 0.5267 - val_loss: 0.7020 - val_accuracy: 0.4480\n",
      "Epoch 7/20\n",
      "750/750 [==============================] - ETA: 0s - loss: 0.6702 - accuracy: 0.59 - 0s 127us/sample - loss: 0.6866 - accuracy: 0.5280 - val_loss: 0.6945 - val_accuracy: 0.4400\n",
      "Epoch 8/20\n",
      "750/750 [==============================] - ETA: 0s - loss: 0.6954 - accuracy: 0.46 - ETA: 0s - loss: 0.6887 - accuracy: 0.51 - 0s 147us/sample - loss: 0.6884 - accuracy: 0.5133 - val_loss: 0.6950 - val_accuracy: 0.4280\n",
      "Epoch 9/20\n",
      "750/750 [==============================] - ETA: 0s - loss: 0.6743 - accuracy: 0.59 - ETA: 0s - loss: 0.6823 - accuracy: 0.54 - 0s 202us/sample - loss: 0.6821 - accuracy: 0.5480 - val_loss: 0.6931 - val_accuracy: 0.5560\n",
      "Epoch 10/20\n",
      "750/750 [==============================] - ETA: 0s - loss: 0.6927 - accuracy: 0.62 - ETA: 0s - loss: 0.6783 - accuracy: 0.61 - 0s 186us/sample - loss: 0.6788 - accuracy: 0.6120 - val_loss: 0.6869 - val_accuracy: 0.5920\n",
      "Epoch 11/20\n",
      "750/750 [==============================] - ETA: 0s - loss: 0.6751 - accuracy: 0.71 - 0s 159us/sample - loss: 0.6723 - accuracy: 0.6187 - val_loss: 0.6773 - val_accuracy: 0.6280\n",
      "Epoch 12/20\n",
      "750/750 [==============================] - ETA: 0s - loss: 0.6634 - accuracy: 0.78 - 0s 116us/sample - loss: 0.6663 - accuracy: 0.6373 - val_loss: 0.6697 - val_accuracy: 0.6120\n",
      "Epoch 13/20\n",
      "750/750 [==============================] - ETA: 0s - loss: 0.6656 - accuracy: 0.59 - 0s 124us/sample - loss: 0.6597 - accuracy: 0.5987 - val_loss: 0.6749 - val_accuracy: 0.6200\n",
      "Epoch 14/20\n",
      "750/750 [==============================] - ETA: 0s - loss: 0.6600 - accuracy: 0.62 - 0s 163us/sample - loss: 0.6452 - accuracy: 0.6427 - val_loss: 0.6296 - val_accuracy: 0.7000\n",
      "Epoch 15/20\n",
      "750/750 [==============================] - ETA: 0s - loss: 0.6035 - accuracy: 0.75 - 0s 129us/sample - loss: 0.6230 - accuracy: 0.7187 - val_loss: 0.6523 - val_accuracy: 0.5400\n",
      "Epoch 16/20\n",
      "750/750 [==============================] - ETA: 0s - loss: 0.6167 - accuracy: 0.62 - 0s 128us/sample - loss: 0.6101 - accuracy: 0.6467 - val_loss: 0.6112 - val_accuracy: 0.6440\n",
      "Epoch 17/20\n",
      "750/750 [==============================] - ETA: 0s - loss: 0.5665 - accuracy: 0.68 - 0s 168us/sample - loss: 0.5671 - accuracy: 0.7560 - val_loss: 0.5567 - val_accuracy: 0.8120\n",
      "Epoch 18/20\n",
      "750/750 [==============================] - ETA: 0s - loss: 0.5614 - accuracy: 0.81 - ETA: 0s - loss: 0.5203 - accuracy: 0.80 - 0s 136us/sample - loss: 0.5240 - accuracy: 0.7933 - val_loss: 0.5147 - val_accuracy: 0.7560\n",
      "Epoch 19/20\n",
      "750/750 [==============================] - ETA: 0s - loss: 0.6073 - accuracy: 0.65 - 0s 154us/sample - loss: 0.4939 - accuracy: 0.7907 - val_loss: 0.4791 - val_accuracy: 0.8400\n",
      "Epoch 20/20\n",
      "750/750 [==============================] - ETA: 0s - loss: 0.4974 - accuracy: 0.84 - 0s 156us/sample - loss: 0.4036 - accuracy: 0.9093 - val_loss: 0.3915 - val_accuracy: 0.9000\n"
     ]
    },
    {
     "data": {
      "text/html": [
       "<span style=\"color:#4527A0\"><h1 style=\"font-size:18px\">Trial complete</h1></span>"
      ],
      "text/plain": [
       "<IPython.core.display.HTML object>"
      ]
     },
     "metadata": {},
     "output_type": "display_data"
    },
    {
     "data": {
      "text/html": [
       "<span style=\"color:#4527A0\"><h1 style=\"font-size:18px\">Trial summary</h1></span>"
      ],
      "text/plain": [
       "<IPython.core.display.HTML object>"
      ]
     },
     "metadata": {},
     "output_type": "display_data"
    },
    {
     "data": {
      "text/html": [
       "<span style=\"color:cyan\"> |-Trial ID: c720fa79fdef29874feee58c6dba4899</span>"
      ],
      "text/plain": [
       "<IPython.core.display.HTML object>"
      ]
     },
     "metadata": {},
     "output_type": "display_data"
    },
    {
     "data": {
      "text/html": [
       "<span style=\"color:cyan\"> |-Score: 0.8999999761581421</span>"
      ],
      "text/plain": [
       "<IPython.core.display.HTML object>"
      ]
     },
     "metadata": {},
     "output_type": "display_data"
    },
    {
     "data": {
      "text/html": [
       "<span style=\"color:cyan\"> |-Best step: 0</span>"
      ],
      "text/plain": [
       "<IPython.core.display.HTML object>"
      ]
     },
     "metadata": {},
     "output_type": "display_data"
    },
    {
     "data": {
      "text/html": [
       "<span style=\"color:#7E57C2\"><h2 style=\"font-size:16px\">Hyperparameters:</h2></span>"
      ],
      "text/plain": [
       "<IPython.core.display.HTML object>"
      ]
     },
     "metadata": {},
     "output_type": "display_data"
    },
    {
     "data": {
      "text/html": [
       "<span style=\"color:cyan\"> |-activation: tanh</span>"
      ],
      "text/plain": [
       "<IPython.core.display.HTML object>"
      ]
     },
     "metadata": {},
     "output_type": "display_data"
    },
    {
     "data": {
      "text/html": [
       "<span style=\"color:blue\"> |-first_units: 21</span>"
      ],
      "text/plain": [
       "<IPython.core.display.HTML object>"
      ]
     },
     "metadata": {},
     "output_type": "display_data"
    },
    {
     "data": {
      "text/html": [
       "<span style=\"color:cyan\"> |-num_layers: 4</span>"
      ],
      "text/plain": [
       "<IPython.core.display.HTML object>"
      ]
     },
     "metadata": {},
     "output_type": "display_data"
    },
    {
     "data": {
      "text/html": [
       "<span style=\"color:blue\"> |-tuner/bracket: 0</span>"
      ],
      "text/plain": [
       "<IPython.core.display.HTML object>"
      ]
     },
     "metadata": {},
     "output_type": "display_data"
    },
    {
     "data": {
      "text/html": [
       "<span style=\"color:cyan\"> |-tuner/epochs: 20</span>"
      ],
      "text/plain": [
       "<IPython.core.display.HTML object>"
      ]
     },
     "metadata": {},
     "output_type": "display_data"
    },
    {
     "data": {
      "text/html": [
       "<span style=\"color:blue\"> |-tuner/initial_epoch: 0</span>"
      ],
      "text/plain": [
       "<IPython.core.display.HTML object>"
      ]
     },
     "metadata": {},
     "output_type": "display_data"
    },
    {
     "data": {
      "text/html": [
       "<span style=\"color:cyan\"> |-tuner/round: 0</span>"
      ],
      "text/plain": [
       "<IPython.core.display.HTML object>"
      ]
     },
     "metadata": {},
     "output_type": "display_data"
    },
    {
     "data": {
      "text/html": [
       "<span style=\"color:blue\"> |-units_0: 16</span>"
      ],
      "text/plain": [
       "<IPython.core.display.HTML object>"
      ]
     },
     "metadata": {},
     "output_type": "display_data"
    },
    {
     "data": {
      "text/html": [
       "<span style=\"color:cyan\"> |-units_1: 21</span>"
      ],
      "text/plain": [
       "<IPython.core.display.HTML object>"
      ]
     },
     "metadata": {},
     "output_type": "display_data"
    },
    {
     "data": {
      "text/html": [
       "<span style=\"color:blue\"> |-units_2: 26</span>"
      ],
      "text/plain": [
       "<IPython.core.display.HTML object>"
      ]
     },
     "metadata": {},
     "output_type": "display_data"
    },
    {
     "data": {
      "text/html": [
       "<span style=\"color:cyan\"> |-units_3: 21</span>"
      ],
      "text/plain": [
       "<IPython.core.display.HTML object>"
      ]
     },
     "metadata": {},
     "output_type": "display_data"
    },
    {
     "data": {
      "text/html": [
       "<span style=\"color:blue\"> |-units_4: 21</span>"
      ],
      "text/plain": [
       "<IPython.core.display.HTML object>"
      ]
     },
     "metadata": {},
     "output_type": "display_data"
    },
    {
     "name": "stdout",
     "output_type": "stream",
     "text": [
      "INFO:tensorflow:Oracle triggered exit\n"
     ]
    }
   ],
   "source": [
    "# Run the kerastuner search for best hyperparameters\n",
    "tuner.search(X_train_scaled,y_train,epochs=20,validation_data=(X_test_scaled,y_test))"
   ]
  },
  {
   "cell_type": "code",
   "execution_count": 6,
   "metadata": {},
   "outputs": [
    {
     "name": "stdout",
     "output_type": "stream",
     "text": [
      "{'activation': 'relu', 'first_units': 16, 'num_layers': 4, 'units_0': 26, 'units_1': 26, 'units_2': 26, 'units_3': 21, 'units_4': 1, 'tuner/epochs': 20, 'tuner/initial_epoch': 0, 'tuner/bracket': 0, 'tuner/round': 0}\n",
      "{'activation': 'tanh', 'first_units': 26, 'num_layers': 5, 'units_0': 26, 'units_1': 16, 'units_2': 21, 'units_3': 11, 'units_4': 16, 'tuner/epochs': 20, 'tuner/initial_epoch': 0, 'tuner/bracket': 0, 'tuner/round': 0}\n",
      "{'activation': 'relu', 'first_units': 11, 'num_layers': 5, 'units_0': 21, 'units_1': 16, 'units_2': 6, 'units_3': 26, 'units_4': 16, 'tuner/epochs': 20, 'tuner/initial_epoch': 7, 'tuner/bracket': 1, 'tuner/round': 1, 'tuner/trial_id': '9c06a64763a486f97d11485010c2d003'}\n"
     ]
    }
   ],
   "source": [
    "# Get top 3 model hyperparameters and print the values\n",
    "top_hyper = tuner.get_best_hyperparameters(3)\n",
    "for param in top_hyper:\n",
    "    print(param.values)"
   ]
  },
  {
   "cell_type": "code",
   "execution_count": 7,
   "metadata": {},
   "outputs": [
    {
     "name": "stdout",
     "output_type": "stream",
     "text": [
      "250/1 - 0s - loss: 0.0748 - accuracy: 0.9840\n",
      "Loss: 0.08492303609848023, Accuracy: 0.984000027179718\n",
      "250/1 - 0s - loss: 0.2262 - accuracy: 0.9680\n",
      "Loss: 0.22791666185855866, Accuracy: 0.9679999947547913\n",
      "250/1 - 0s - loss: 0.1988 - accuracy: 0.9600\n",
      "Loss: 0.20390893375873564, Accuracy: 0.9599999785423279\n"
     ]
    }
   ],
   "source": [
    "# Evaluate the top 3 models against the test dataset\n",
    "top_model = tuner.get_best_models(3)\n",
    "for model in top_model:\n",
    "    model_loss, model_accuracy = model.evaluate(X_test_scaled,y_test,verbose=2)\n",
    "    print(f\"Loss: {model_loss}, Accuracy: {model_accuracy}\")"
   ]
  },
  {
   "cell_type": "code",
   "execution_count": 8,
   "metadata": {},
   "outputs": [
    {
     "data": {
      "text/plain": [
       "{'activation': 'tanh',\n",
       " 'first_units': 26,\n",
       " 'num_layers': 5,\n",
       " 'units_0': 26,\n",
       " 'units_1': 16,\n",
       " 'units_2': 21,\n",
       " 'units_3': 11,\n",
       " 'units_4': 16,\n",
       " 'tuner/epochs': 20,\n",
       " 'tuner/initial_epoch': 0,\n",
       " 'tuner/bracket': 0,\n",
       " 'tuner/round': 0}"
      ]
     },
     "execution_count": 8,
     "metadata": {},
     "output_type": "execute_result"
    }
   ],
   "source": [
    "# Get second best model hyperparameters\n",
    "second_hyper = tuner.get_best_hyperparameters(2)[1]\n",
    "second_hyper.values"
   ]
  },
  {
   "cell_type": "code",
   "execution_count": 9,
   "metadata": {},
   "outputs": [
    {
     "name": "stdout",
     "output_type": "stream",
     "text": [
      "250/1 - 0s - loss: 0.2262 - accuracy: 0.9680\n",
      "Loss: 0.22791666185855866, Accuracy: 0.9679999947547913\n"
     ]
    }
   ],
   "source": [
    "# Compare the performance to the second-best model\n",
    "second_model = tuner.get_best_models(2)[1]\n",
    "model_loss, model_accuracy = second_model.evaluate(X_test_scaled,y_test,verbose=2)\n",
    "print(f\"Loss: {model_loss}, Accuracy: {model_accuracy}\")"
   ]
  },
  {
   "cell_type": "code",
   "execution_count": null,
   "metadata": {},
   "outputs": [],
   "source": []
  }
 ],
 "metadata": {
  "kernelspec": {
   "display_name": "Python 3",
   "language": "python",
   "name": "python3"
  },
  "language_info": {
   "codemirror_mode": {
    "name": "ipython",
    "version": 3
   },
   "file_extension": ".py",
   "mimetype": "text/x-python",
   "name": "python",
   "nbconvert_exporter": "python",
   "pygments_lexer": "ipython3",
   "version": "3.7.4"
  }
 },
 "nbformat": 4,
 "nbformat_minor": 2
}
