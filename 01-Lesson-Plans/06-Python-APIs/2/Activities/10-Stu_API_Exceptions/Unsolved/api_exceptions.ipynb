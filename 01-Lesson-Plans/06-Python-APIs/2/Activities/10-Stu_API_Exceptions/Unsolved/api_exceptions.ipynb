{
 "cells": [
  {
   "cell_type": "code",
   "execution_count": null,
   "metadata": {},
   "outputs": [],
   "source": [
    "import json\n",
    "import requests\n",
    "import pandas as pd"
   ]
  },
  {
   "cell_type": "code",
   "execution_count": null,
   "metadata": {},
   "outputs": [],
   "source": [
    "# List of character\n",
    "search_characters = ['R2-D2', 'Darth Vader', 'Godzilla', 'Luke Skywalker', 'Frodo', \\\n",
    "              'Boba Fett', 'Iron Man', 'Jon Snow', 'Han Solo']\n",
    "\n",
    "# Set url for API\n",
    "url = 'https://swapi.dev/api/people/?search='\n",
    "\n",
    "# Set empty lists to hold character's height and mass\n",
    "height = []\n",
    "mass = []\n",
    "\n",
    "# Loop through each character and make API request\n",
    "\n",
    "    # Create search query, make request and store in json\n",
    "    \n",
    "    \n",
    "    # Try to grab the height and mass of characters if they are available in the Star Wars API\n",
    "    \n",
    "        \n",
    "    # Handle exceptions for a character that is not available in the Star Wars API\n",
    "    "
   ]
  },
  {
   "cell_type": "code",
   "execution_count": null,
   "metadata": {},
   "outputs": [],
   "source": [
    "# Create DataFrame"
   ]
  }
 ],
 "metadata": {
  "kernelspec": {
   "display_name": "pydev",
   "language": "python",
   "name": "pydev"
  },
  "language_info": {
   "codemirror_mode": {
    "name": "ipython",
    "version": 3
   },
   "file_extension": ".py",
   "mimetype": "text/x-python",
   "name": "python",
   "nbconvert_exporter": "python",
   "pygments_lexer": "ipython3",
   "version": "3.6.4"
  },
  "latex_envs": {
   "LaTeX_envs_menu_present": true,
   "autoclose": false,
   "autocomplete": true,
   "bibliofile": "biblio.bib",
   "cite_by": "apalike",
   "current_citInitial": 1,
   "eqLabelWithNumbers": true,
   "eqNumInitial": 1,
   "hotkeys": {
    "equation": "Ctrl-E",
    "itemize": "Ctrl-I"
   },
   "labels_anchors": false,
   "latex_user_defs": false,
   "report_style_numbering": false,
   "user_envs_cfg": false
  }
 },
 "nbformat": 4,
 "nbformat_minor": 2
}