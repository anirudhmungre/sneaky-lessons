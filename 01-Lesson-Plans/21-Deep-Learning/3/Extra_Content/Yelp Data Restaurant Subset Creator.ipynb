{
 "cells": [
  {
   "cell_type": "code",
   "execution_count": 1,
   "metadata": {},
   "outputs": [],
   "source": [
    "import pandas as pd\n",
    "import json\n",
    "from matplotlib import pyplot as plt\n",
    "import numpy as np\n",
    "from pprint import pprint"
   ]
  },
  {
   "cell_type": "code",
   "execution_count": 5,
   "metadata": {},
   "outputs": [],
   "source": [
    "restaurant_ids = set()\n",
    "with open('I:/yelp_dataset/yelp_academic_dataset_business.json', encoding='utf8') as r, open('I:/yelp_dataset/restaurant_data/restaurant.json', mode='w', encoding='utf-8') as w:\n",
    "    for line in r:\n",
    "        if 'restaurant' in line.lower():\n",
    "            business = json.loads(line)\n",
    "            categories = business.get('categories', '')\n",
    "            if categories is None: categories = ''\n",
    "            if 'restaurant' in categories.lower():\n",
    "                restaurant_ids.add(business['business_id'])\n",
    "                w.write(line)"
   ]
  },
  {
   "cell_type": "code",
   "execution_count": 6,
   "metadata": {},
   "outputs": [
    {
     "name": "stdout",
     "output_type": "stream",
     "text": [
      "{'business_id': '-MhfebM0QIsKt87iDN-FNw',\n",
      " 'cool': 0,\n",
      " 'date': '2015-04-15 05:21:16',\n",
      " 'funny': 0,\n",
      " 'review_id': 'xQY8N_XvtGbearJ5X4QryQ',\n",
      " 'stars': 2.0,\n",
      " 'text': 'As someone who has worked with many museums, I was eager to visit '\n",
      "         'this gallery on my most recent trip to Las Vegas. When I saw they '\n",
      "         'would be showing infamous eggs of the House of Faberge from the '\n",
      "         'Virginia Museum of Fine Arts (VMFA), I knew I had to go!\\n'\n",
      "         '\\n'\n",
      "         'Tucked away near the gelateria and the garden, the Gallery is pretty '\n",
      "         \"much hidden from view. It's what real estate agents would call \"\n",
      "         '\"cozy\" or \"charming\" - basically any euphemism for small.\\n'\n",
      "         '\\n'\n",
      "         'That being said, you can still see wonderful art at a gallery of any '\n",
      "         'size, so why the two *s you ask? Let me tell you:\\n'\n",
      "         '\\n'\n",
      "         '* pricing for this, while relatively inexpensive for a Las Vegas '\n",
      "         'attraction, is completely over the top. For the space and the amount '\n",
      "         'of art you can fit in there, it is a bit much.\\n'\n",
      "         \"* it's not kid friendly at all. Seriously, don't bring them.\\n\"\n",
      "         '* the security is not trained properly for the show. When the '\n",
      "         'curating and design teams collaborate for exhibitions, there is a '\n",
      "         'definite flow. That means visitors should view the art in a certain '\n",
      "         'sequence, whether it be by historical period or cultural '\n",
      "         'significance (this is how audio guides are usually developed). When '\n",
      "         'I arrived in the gallery I could not tell where to start, and '\n",
      "         'security was certainly not helpful. I was told to \"just look around\" '\n",
      "         'and \"do whatever.\" \\n'\n",
      "         '\\n'\n",
      "         'At such a *fine* institution, I find the lack of knowledge and '\n",
      "         'respect for the art appalling.',\n",
      " 'useful': 5,\n",
      " 'user_id': 'OwjRMXRC0KyPrIlcjaXeFQ'}\n"
     ]
    }
   ],
   "source": [
    "restaurant_reviewer_ids = set()\n",
    "with open('I:/yelp_dataset/yelp_academic_dataset_review.json', encoding='utf8') as r, open('I:/yelp_dataset/restaurant_data/review.json', mode='w', encoding='utf-8') as w:\n",
    "    w.write('[')\n",
    "    output = True\n",
    "    for line in r:\n",
    "        review = json.loads(line)\n",
    "        if output:\n",
    "            pprint(review)\n",
    "            output = False\n",
    "        if review['business_id'] in restaurant_ids:\n",
    "            restaurant_reviewer_ids.add(review['user_id'])\n",
    "            small_review = {}\n",
    "            for key in ['business_id', 'date', 'review_id', 'stars', 'user_id']:\n",
    "                small_review[key] = review[key]\n",
    "            w.write(json.dumps(small_review))\n",
    "            w.write(',')\n",
    "    w.write('{}]')"
   ]
  },
  {
   "cell_type": "code",
   "execution_count": 12,
   "metadata": {},
   "outputs": [
    {
     "name": "stdout",
     "output_type": "stream",
     "text": [
      "{'average_stars': 3.57,\n",
      " 'compliment_cool': 22,\n",
      " 'compliment_cute': 0,\n",
      " 'compliment_funny': 22,\n",
      " 'compliment_hot': 3,\n",
      " 'compliment_list': 1,\n",
      " 'compliment_more': 2,\n",
      " 'compliment_note': 11,\n",
      " 'compliment_photos': 0,\n",
      " 'compliment_plain': 15,\n",
      " 'compliment_profile': 1,\n",
      " 'compliment_writer': 10,\n",
      " 'cool': 227,\n",
      " 'elite': '',\n",
      " 'fans': 14,\n",
      " 'friends': 'oeMvJh94PiGQnx_6GlndPQ, wm1z1PaJKvHgSDRKfwhfDg, '\n",
      "            'IkRib6Xs91PPW7pon7VVig, A8Aq8f0-XvLBcyMk2GJdJQ, '\n",
      "            'eEZM1kogR7eL4GOBZyPvBA, e1o1LN7ez5ckCpQeAab4iw, '\n",
      "            '_HrJVzFaRFUhPva8cwBjpQ, pZeGZGzX-ROT_D5lam5uNg, '\n",
      "            '0S6EI51ej5J7dgYz3-O0lA, woDt8raW-AorxQM_tIE2eA, '\n",
      "            'hWUnSE5gKXNe7bDc8uAG9A, c_3LDSO2RHwZ94_Q6j_O7w, '\n",
      "            '-uv1wDiaplY6eXXS0VwQiA, QFjqxXn3acDC7hckFGUKMg, '\n",
      "            'ErOqapICmHPTN8YobZIcfQ, mJLRvqLOKhqEdkgt9iEaCQ, '\n",
      "            'VKX7jlScJSA-ja5hYRw12Q, ijIC9w5PRcj3dWVlanjZeg, '\n",
      "            'CIZGlEw-Bp0rmkP8M6yQ9Q, OC6fT5WZ8EU7tEVJ3bzPBQ, '\n",
      "            'UZSDGTDpycDzrlfUlyw2dQ, deL6e_z9xqZTIODKqnvRXQ, '\n",
      "            '5mG2ENw2PylIWElqHSMGqg, Uh5Kug2fvDd51RYmsNZkGg, '\n",
      "            '4dI4uoShugD9z84fYupelQ, EQpFHqGT9Tk6YSwORTtwpg, '\n",
      "            'o4EGL2-ICGmRJzJ3GxB-vw, s8gK7sdVzJcYKcPv2dkZXw, '\n",
      "            'vOYVZgb_GVe-kdtjQwSUHw, wBbjgHsrKr7BsPBrQwJf2w, '\n",
      "            'p59u2EC_qcmCmLeX1jCi5Q, VSAZI1eHDrOPRWMK4Q2DIQ, '\n",
      "            'efMfeI_dkhpeGykaRJqxfQ, x6qYcQ8_i0mMDzSLsFCbZg, '\n",
      "            'K_zSmtNGw1fu-vmxyTVfCQ, 5IM6YPQCK-NABkXmHhlRGQ, '\n",
      "            'U_w8ZMD26vnkeeS1sD7s4Q, AbfS_oXF8H6HJb5jFqhrLw, '\n",
      "            'hbcjX4_D4KIfonNnwrH-cg, UKf66_MPz0zHCP70mF6p1g, '\n",
      "            'hK2gYbxZRTqcqlSiQQcrtQ, 2Q45w_Twx_T9dXqlE16xtQ, '\n",
      "            'BwRn8qcKSeA77HLaOTbfiQ, jouOn4VS_DtFPtMR2w8VDA, '\n",
      "            'ESteyJabbfvqas6CEDs3pQ',\n",
      " 'funny': 225,\n",
      " 'name': 'Rafael',\n",
      " 'review_count': 553,\n",
      " 'useful': 628,\n",
      " 'user_id': 'ntlvfPzc8eglqvk92iDIAw',\n",
      " 'yelping_since': '2007-07-06 03:27:11'}\n"
     ]
    }
   ],
   "source": [
    "restaurant_review_ids = set()\n",
    "test_user_ids = set()\n",
    "with open('I:/yelp_dataset/yelp_academic_dataset_user.json', encoding='utf8') as r,  open('I:/yelp_dataset/restaurant_data/user.json', mode='w', encoding='utf8') as w, open('I:/yelp_dataset/restaurant_data/test_user.json', mode='w', encoding='utf8') as w2:\n",
    "    output = True\n",
    "    for i, line in enumerate(r):\n",
    "        user = json.loads(line)\n",
    "        if output:\n",
    "            pprint(user)\n",
    "            output = False\n",
    "        if user['user_id'] in restaurant_reviewer_ids:\n",
    "            restaurant_review_ids.add(user['user_id'])\n",
    "            w.write(line)\n",
    "            if i < 10:\n",
    "                w2.write(line)\n",
    "                test_user_ids.add(user['user_id'])"
   ]
  },
  {
   "cell_type": "code",
   "execution_count": 15,
   "metadata": {},
   "outputs": [
    {
     "name": "stdout",
     "output_type": "stream",
     "text": [
      "{'business_id': 'HQl28KMwrEKHqhFrrDqVNQ', 'date': '2015-12-05 03:18:11', 'review_id': 'LG2ZaYiOgpr2DK_90pYjNw', 'stars': 5.0, 'user_id': 'V34qejxNsCbcgD8C0HVk-Q'}\n"
     ]
    }
   ],
   "source": [
    "test_reviews = []\n",
    "with open('I:/yelp_dataset/restaurant_data/review.json', mode='r', encoding='utf-8') as r, open('I:/yelp_dataset/restaurant_data/test_review.json', mode='w', encoding='utf-8') as w:\n",
    "    reviews = json.loads(r.readline())\n",
    "    output = True\n",
    "    for review in reviews:\n",
    "        if output:\n",
    "            print(review)\n",
    "            output = False\n",
    "        if review.get('user_id', '') in test_user_ids:\n",
    "            test_reviews.append(review)\n",
    "    json.dump(test_reviews, w)"
   ]
  },
  {
   "cell_type": "code",
   "execution_count": 16,
   "metadata": {},
   "outputs": [],
   "source": [
    "test_business_ids = set([x['business_id'] for x in test_reviews])\n",
    "with open('I:/yelp_dataset/restaurant_data/restaurant.json', encoding='utf8') as r, open('I:/yelp_dataset/restaurant_data/test_restaurant.json', mode='w', encoding='utf-8') as w:\n",
    "    for line in r:\n",
    "        business = json.loads(line)\n",
    "        if business['business_id'] in test_business_ids:\n",
    "            w.write(line)"
   ]
  },
  {
   "cell_type": "code",
   "execution_count": null,
   "metadata": {},
   "outputs": [],
   "source": []
  }
 ],
 "metadata": {
  "kernelspec": {
   "display_name": "Python 3",
   "language": "python",
   "name": "python3"
  },
  "language_info": {
   "codemirror_mode": {
    "name": "ipython",
    "version": 3
   },
   "file_extension": ".py",
   "mimetype": "text/x-python",
   "name": "python",
   "nbconvert_exporter": "python",
   "pygments_lexer": "ipython3",
   "version": "3.7.6"
  }
 },
 "nbformat": 4,
 "nbformat_minor": 4
}
